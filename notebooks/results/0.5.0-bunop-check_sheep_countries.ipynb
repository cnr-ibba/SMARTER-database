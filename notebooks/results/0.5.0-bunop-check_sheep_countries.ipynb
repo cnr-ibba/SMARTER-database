{
 "cells": [
  {
   "cell_type": "markdown",
   "metadata": {},
   "source": [
    "# Check sheep coordinates\n",
    "Check if the country associated with the given coordinates is in the correct country or not."
   ]
  },
  {
   "cell_type": "code",
   "execution_count": 1,
   "metadata": {},
   "outputs": [],
   "source": [
    "import pandas as pd\n",
    "import geopandas as gpd\n",
    "import geodatasets\n",
    "\n",
    "from io import StringIO\n",
    "from functools import lru_cache\n",
    "from shapely.geometry import Point\n",
    "from geopy.geocoders import Nominatim\n",
    "from geopy.extra.rate_limiter import RateLimiter\n",
    "from tqdm.notebook import tqdm\n",
    "\n",
    "from src.features.smarterdb import global_connection, SampleSheep\n",
    "from src.features.utils import countries"
   ]
  },
  {
   "cell_type": "code",
   "execution_count": 2,
   "metadata": {},
   "outputs": [],
   "source": [
    "conn = global_connection()\n",
    "tqdm.pandas()\n",
    "\n",
    "def fix_id(df: pd.DataFrame, field: str = \"_id\", set_index: bool = False):\n",
    "    \"\"\"Parse id and make index\"\"\"\n",
    "    df[field] = df[field].apply(lambda val: val['$oid'])\n",
    "    if set_index:\n",
    "        df = df.set_index(field)\n",
    "    return df\n",
    "\n",
    "def add_geometry(df: pd.DataFrame):\n",
    "    \"\"\"Add a geometry column from locations\"\"\"\n",
    "\n",
    "    def get_geometry(value):\n",
    "        if isinstance(value, dict):\n",
    "            return Point(*value['coordinates'][0])\n",
    "        return value\n",
    "\n",
    "    df['geometry'] = df['locations'].apply(get_geometry)\n",
    "    return df"
   ]
  },
  {
   "cell_type": "markdown",
   "metadata": {},
   "source": [
    "Collect all sheeps with geographical coordinates:"
   ]
  },
  {
   "cell_type": "code",
   "execution_count": 3,
   "metadata": {},
   "outputs": [
    {
     "data": {
      "text/plain": [
       "9295"
      ]
     },
     "execution_count": 3,
     "metadata": {},
     "output_type": "execute_result"
    }
   ],
   "source": [
    "sheeps = SampleSheep.objects.filter(locations__exists=1)\n",
    "sheeps.count()"
   ]
  },
  {
   "cell_type": "code",
   "execution_count": 4,
   "metadata": {},
   "outputs": [
    {
     "data": {
      "text/html": [
       "<div>\n",
       "<style scoped>\n",
       "    .dataframe tbody tr th:only-of-type {\n",
       "        vertical-align: middle;\n",
       "    }\n",
       "\n",
       "    .dataframe tbody tr th {\n",
       "        vertical-align: top;\n",
       "    }\n",
       "\n",
       "    .dataframe thead th {\n",
       "        text-align: right;\n",
       "    }\n",
       "</style>\n",
       "<table border=\"1\" class=\"dataframe\">\n",
       "  <thead>\n",
       "    <tr style=\"text-align: right;\">\n",
       "      <th></th>\n",
       "      <th>_id</th>\n",
       "      <th>original_id</th>\n",
       "      <th>smarter_id</th>\n",
       "      <th>country</th>\n",
       "      <th>breed</th>\n",
       "      <th>breed_code</th>\n",
       "      <th>dataset_id</th>\n",
       "      <th>type</th>\n",
       "      <th>chip_name</th>\n",
       "      <th>species</th>\n",
       "      <th>geometry</th>\n",
       "    </tr>\n",
       "  </thead>\n",
       "  <tbody>\n",
       "    <tr>\n",
       "      <th>0</th>\n",
       "      <td>664f6b13fac53bfc4b0a70ff</td>\n",
       "      <td>20181210002</td>\n",
       "      <td>UYOA-TEX-000000001</td>\n",
       "      <td>Uruguay</td>\n",
       "      <td>Texel</td>\n",
       "      <td>TEX</td>\n",
       "      <td>604f75a61a08c53cebd09b67</td>\n",
       "      <td>background</td>\n",
       "      <td>IlluminaOvineSNP50</td>\n",
       "      <td>Ovis aries</td>\n",
       "      <td>POINT (-54.79980235632396 -32.85966555055839)</td>\n",
       "    </tr>\n",
       "    <tr>\n",
       "      <th>1</th>\n",
       "      <td>664f6b14fac53bfc4b0a7100</td>\n",
       "      <td>20181210003</td>\n",
       "      <td>UYOA-TEX-000000002</td>\n",
       "      <td>Uruguay</td>\n",
       "      <td>Texel</td>\n",
       "      <td>TEX</td>\n",
       "      <td>604f75a61a08c53cebd09b67</td>\n",
       "      <td>background</td>\n",
       "      <td>IlluminaOvineSNP50</td>\n",
       "      <td>Ovis aries</td>\n",
       "      <td>POINT (-54.79980235632396 -32.85966555055839)</td>\n",
       "    </tr>\n",
       "    <tr>\n",
       "      <th>2</th>\n",
       "      <td>664f6b14fac53bfc4b0a7101</td>\n",
       "      <td>20181210005</td>\n",
       "      <td>UYOA-TEX-000000003</td>\n",
       "      <td>Uruguay</td>\n",
       "      <td>Texel</td>\n",
       "      <td>TEX</td>\n",
       "      <td>604f75a61a08c53cebd09b67</td>\n",
       "      <td>background</td>\n",
       "      <td>IlluminaOvineSNP50</td>\n",
       "      <td>Ovis aries</td>\n",
       "      <td>POINT (-54.79980235632396 -32.85966555055839)</td>\n",
       "    </tr>\n",
       "    <tr>\n",
       "      <th>3</th>\n",
       "      <td>664f6b14fac53bfc4b0a7102</td>\n",
       "      <td>20181210006</td>\n",
       "      <td>UYOA-TEX-000000004</td>\n",
       "      <td>Uruguay</td>\n",
       "      <td>Texel</td>\n",
       "      <td>TEX</td>\n",
       "      <td>604f75a61a08c53cebd09b67</td>\n",
       "      <td>background</td>\n",
       "      <td>IlluminaOvineSNP50</td>\n",
       "      <td>Ovis aries</td>\n",
       "      <td>POINT (-54.79980235632396 -32.85966555055839)</td>\n",
       "    </tr>\n",
       "    <tr>\n",
       "      <th>4</th>\n",
       "      <td>664f6b15fac53bfc4b0a7103</td>\n",
       "      <td>20181210008</td>\n",
       "      <td>UYOA-TEX-000000005</td>\n",
       "      <td>Uruguay</td>\n",
       "      <td>Texel</td>\n",
       "      <td>TEX</td>\n",
       "      <td>604f75a61a08c53cebd09b67</td>\n",
       "      <td>background</td>\n",
       "      <td>IlluminaOvineSNP50</td>\n",
       "      <td>Ovis aries</td>\n",
       "      <td>POINT (-54.79980235632396 -32.85966555055839)</td>\n",
       "    </tr>\n",
       "  </tbody>\n",
       "</table>\n",
       "</div>"
      ],
      "text/plain": [
       "                        _id  original_id          smarter_id  country  breed  \\\n",
       "0  664f6b13fac53bfc4b0a70ff  20181210002  UYOA-TEX-000000001  Uruguay  Texel   \n",
       "1  664f6b14fac53bfc4b0a7100  20181210003  UYOA-TEX-000000002  Uruguay  Texel   \n",
       "2  664f6b14fac53bfc4b0a7101  20181210005  UYOA-TEX-000000003  Uruguay  Texel   \n",
       "3  664f6b14fac53bfc4b0a7102  20181210006  UYOA-TEX-000000004  Uruguay  Texel   \n",
       "4  664f6b15fac53bfc4b0a7103  20181210008  UYOA-TEX-000000005  Uruguay  Texel   \n",
       "\n",
       "  breed_code                dataset_id        type           chip_name  \\\n",
       "0        TEX  604f75a61a08c53cebd09b67  background  IlluminaOvineSNP50   \n",
       "1        TEX  604f75a61a08c53cebd09b67  background  IlluminaOvineSNP50   \n",
       "2        TEX  604f75a61a08c53cebd09b67  background  IlluminaOvineSNP50   \n",
       "3        TEX  604f75a61a08c53cebd09b67  background  IlluminaOvineSNP50   \n",
       "4        TEX  604f75a61a08c53cebd09b67  background  IlluminaOvineSNP50   \n",
       "\n",
       "      species                                       geometry  \n",
       "0  Ovis aries  POINT (-54.79980235632396 -32.85966555055839)  \n",
       "1  Ovis aries  POINT (-54.79980235632396 -32.85966555055839)  \n",
       "2  Ovis aries  POINT (-54.79980235632396 -32.85966555055839)  \n",
       "3  Ovis aries  POINT (-54.79980235632396 -32.85966555055839)  \n",
       "4  Ovis aries  POINT (-54.79980235632396 -32.85966555055839)  "
      ]
     },
     "execution_count": 4,
     "metadata": {},
     "output_type": "execute_result"
    }
   ],
   "source": [
    "sheep_df = pd.read_json(StringIO(sheeps.to_json()))\n",
    "sheep_df = fix_id(sheep_df, \"_id\")\n",
    "sheep_df = fix_id(sheep_df, \"dataset_id\")\n",
    "sheep_df = add_geometry(sheep_df)\n",
    "sheep_df.drop(['locations', 'metadata', 'phenotype', 'father_id', 'mother_id', 'sex', 'alias'], axis=1, inplace=True)\n",
    "sheep_df.head()"
   ]
  },
  {
   "cell_type": "markdown",
   "metadata": {},
   "source": [
    "Next, we need to get the world boundary features:"
   ]
  },
  {
   "cell_type": "code",
   "execution_count": 5,
   "metadata": {},
   "outputs": [],
   "source": [
    "world = gpd.read_file(geodatasets.get_path('naturalearth.land'))"
   ]
  },
  {
   "cell_type": "markdown",
   "metadata": {},
   "source": [
    "Now convert `DataFrame` to `GeoDataFrame`. Clearly state the *coordinate system* which is *WGS84 (EPSG:4326)*:"
   ]
  },
  {
   "cell_type": "code",
   "execution_count": 6,
   "metadata": {},
   "outputs": [
    {
     "data": {
      "text/html": [
       "<div>\n",
       "<style scoped>\n",
       "    .dataframe tbody tr th:only-of-type {\n",
       "        vertical-align: middle;\n",
       "    }\n",
       "\n",
       "    .dataframe tbody tr th {\n",
       "        vertical-align: top;\n",
       "    }\n",
       "\n",
       "    .dataframe thead th {\n",
       "        text-align: right;\n",
       "    }\n",
       "</style>\n",
       "<table border=\"1\" class=\"dataframe\">\n",
       "  <thead>\n",
       "    <tr style=\"text-align: right;\">\n",
       "      <th></th>\n",
       "      <th>_id</th>\n",
       "      <th>original_id</th>\n",
       "      <th>smarter_id</th>\n",
       "      <th>country</th>\n",
       "      <th>breed</th>\n",
       "      <th>breed_code</th>\n",
       "      <th>dataset_id</th>\n",
       "      <th>type</th>\n",
       "      <th>chip_name</th>\n",
       "      <th>species</th>\n",
       "      <th>geometry</th>\n",
       "    </tr>\n",
       "  </thead>\n",
       "  <tbody>\n",
       "    <tr>\n",
       "      <th>0</th>\n",
       "      <td>664f6b13fac53bfc4b0a70ff</td>\n",
       "      <td>20181210002</td>\n",
       "      <td>UYOA-TEX-000000001</td>\n",
       "      <td>Uruguay</td>\n",
       "      <td>Texel</td>\n",
       "      <td>TEX</td>\n",
       "      <td>604f75a61a08c53cebd09b67</td>\n",
       "      <td>background</td>\n",
       "      <td>IlluminaOvineSNP50</td>\n",
       "      <td>Ovis aries</td>\n",
       "      <td>POINT (-54.79980 -32.85967)</td>\n",
       "    </tr>\n",
       "    <tr>\n",
       "      <th>1</th>\n",
       "      <td>664f6b14fac53bfc4b0a7100</td>\n",
       "      <td>20181210003</td>\n",
       "      <td>UYOA-TEX-000000002</td>\n",
       "      <td>Uruguay</td>\n",
       "      <td>Texel</td>\n",
       "      <td>TEX</td>\n",
       "      <td>604f75a61a08c53cebd09b67</td>\n",
       "      <td>background</td>\n",
       "      <td>IlluminaOvineSNP50</td>\n",
       "      <td>Ovis aries</td>\n",
       "      <td>POINT (-54.79980 -32.85967)</td>\n",
       "    </tr>\n",
       "    <tr>\n",
       "      <th>2</th>\n",
       "      <td>664f6b14fac53bfc4b0a7101</td>\n",
       "      <td>20181210005</td>\n",
       "      <td>UYOA-TEX-000000003</td>\n",
       "      <td>Uruguay</td>\n",
       "      <td>Texel</td>\n",
       "      <td>TEX</td>\n",
       "      <td>604f75a61a08c53cebd09b67</td>\n",
       "      <td>background</td>\n",
       "      <td>IlluminaOvineSNP50</td>\n",
       "      <td>Ovis aries</td>\n",
       "      <td>POINT (-54.79980 -32.85967)</td>\n",
       "    </tr>\n",
       "    <tr>\n",
       "      <th>3</th>\n",
       "      <td>664f6b14fac53bfc4b0a7102</td>\n",
       "      <td>20181210006</td>\n",
       "      <td>UYOA-TEX-000000004</td>\n",
       "      <td>Uruguay</td>\n",
       "      <td>Texel</td>\n",
       "      <td>TEX</td>\n",
       "      <td>604f75a61a08c53cebd09b67</td>\n",
       "      <td>background</td>\n",
       "      <td>IlluminaOvineSNP50</td>\n",
       "      <td>Ovis aries</td>\n",
       "      <td>POINT (-54.79980 -32.85967)</td>\n",
       "    </tr>\n",
       "    <tr>\n",
       "      <th>4</th>\n",
       "      <td>664f6b15fac53bfc4b0a7103</td>\n",
       "      <td>20181210008</td>\n",
       "      <td>UYOA-TEX-000000005</td>\n",
       "      <td>Uruguay</td>\n",
       "      <td>Texel</td>\n",
       "      <td>TEX</td>\n",
       "      <td>604f75a61a08c53cebd09b67</td>\n",
       "      <td>background</td>\n",
       "      <td>IlluminaOvineSNP50</td>\n",
       "      <td>Ovis aries</td>\n",
       "      <td>POINT (-54.79980 -32.85967)</td>\n",
       "    </tr>\n",
       "  </tbody>\n",
       "</table>\n",
       "</div>"
      ],
      "text/plain": [
       "                        _id  original_id          smarter_id  country  breed  \\\n",
       "0  664f6b13fac53bfc4b0a70ff  20181210002  UYOA-TEX-000000001  Uruguay  Texel   \n",
       "1  664f6b14fac53bfc4b0a7100  20181210003  UYOA-TEX-000000002  Uruguay  Texel   \n",
       "2  664f6b14fac53bfc4b0a7101  20181210005  UYOA-TEX-000000003  Uruguay  Texel   \n",
       "3  664f6b14fac53bfc4b0a7102  20181210006  UYOA-TEX-000000004  Uruguay  Texel   \n",
       "4  664f6b15fac53bfc4b0a7103  20181210008  UYOA-TEX-000000005  Uruguay  Texel   \n",
       "\n",
       "  breed_code                dataset_id        type           chip_name  \\\n",
       "0        TEX  604f75a61a08c53cebd09b67  background  IlluminaOvineSNP50   \n",
       "1        TEX  604f75a61a08c53cebd09b67  background  IlluminaOvineSNP50   \n",
       "2        TEX  604f75a61a08c53cebd09b67  background  IlluminaOvineSNP50   \n",
       "3        TEX  604f75a61a08c53cebd09b67  background  IlluminaOvineSNP50   \n",
       "4        TEX  604f75a61a08c53cebd09b67  background  IlluminaOvineSNP50   \n",
       "\n",
       "      species                     geometry  \n",
       "0  Ovis aries  POINT (-54.79980 -32.85967)  \n",
       "1  Ovis aries  POINT (-54.79980 -32.85967)  \n",
       "2  Ovis aries  POINT (-54.79980 -32.85967)  \n",
       "3  Ovis aries  POINT (-54.79980 -32.85967)  \n",
       "4  Ovis aries  POINT (-54.79980 -32.85967)  "
      ]
     },
     "execution_count": 6,
     "metadata": {},
     "output_type": "execute_result"
    }
   ],
   "source": [
    "sheep_gdf = gpd.GeoDataFrame(sheep_df, crs=\"EPSG:4326\")\n",
    "sheep_gdf = sheep_gdf.set_crs(world.crs)\n",
    "sheep_gdf.head()"
   ]
  },
  {
   "cell_type": "markdown",
   "metadata": {},
   "source": [
    "Now try to determine the country relying on GPS coordinates:"
   ]
  },
  {
   "cell_type": "code",
   "execution_count": 7,
   "metadata": {},
   "outputs": [
    {
     "data": {
      "application/vnd.jupyter.widget-view+json": {
       "model_id": "f95345c5d748418b8a094fddca2f6b7c",
       "version_major": 2,
       "version_minor": 0
      },
      "text/plain": [
       "  0%|          | 0/9295 [00:00<?, ?it/s]"
      ]
     },
     "metadata": {},
     "output_type": "display_data"
    }
   ],
   "source": [
    "# define the reverse geocoding\n",
    "locator = Nominatim(user_agent=\"myGeocoder\", timeout=10)\n",
    "rgeocode = RateLimiter(locator.reverse, min_delay_seconds=0.1)\n",
    "\n",
    "@lru_cache(maxsize=None)\n",
    "def get_country(point):\n",
    "    data = rgeocode([point.y, point.x], language=\"English\")\n",
    "    if data:\n",
    "        country_code = data.raw['address']['country_code']\n",
    "        return countries.get(alpha_2=country_code).name\n",
    "    else:\n",
    "        return data\n",
    "\n",
    "# find countries\n",
    "sheep_gdf[\"geocoding_country\"] = sheep_gdf[\"geometry\"].progress_apply(get_country)"
   ]
  },
  {
   "cell_type": "markdown",
   "metadata": {},
   "source": [
    "Ok now filter out all the record where country is different from the geocoded country:"
   ]
  },
  {
   "cell_type": "code",
   "execution_count": 8,
   "metadata": {},
   "outputs": [],
   "source": [
    "mismatch = sheep_gdf[sheep_gdf[\"country\"] != sheep_gdf[\"geocoding_country\"]].copy()\n",
    "mismatch[\"latitude\"] = mismatch[\"geometry\"].y\n",
    "mismatch[\"longitude\"] = mismatch[\"geometry\"].x\n",
    "mismatch.drop([\"geometry\"], axis=1, inplace=True)\n",
    "mismatch.to_excel(\"mismatch.xlsx\", index=False)"
   ]
  },
  {
   "cell_type": "code",
   "execution_count": null,
   "metadata": {},
   "outputs": [],
   "source": []
  }
 ],
 "metadata": {
  "kernelspec": {
   "display_name": "Python 3 (ipykernel)",
   "language": "python",
   "name": "python3"
  },
  "language_info": {
   "codemirror_mode": {
    "name": "ipython",
    "version": 3
   },
   "file_extension": ".py",
   "mimetype": "text/x-python",
   "name": "python",
   "nbconvert_exporter": "python",
   "pygments_lexer": "ipython3",
   "version": "3.12.3"
  }
 },
 "nbformat": 4,
 "nbformat_minor": 2
}
