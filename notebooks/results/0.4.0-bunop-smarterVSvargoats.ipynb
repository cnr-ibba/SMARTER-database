{
 "cells": [
  {
   "cell_type": "markdown",
   "id": "9474bc4e-bedf-4f10-a264-560efd03340f",
   "metadata": {},
   "source": [
    "# SMARTER vs Vargoats\n",
    "In this notebook we try to determine how many samples are in common between *Vargoats* and *SMARTER*. First of all, load *Vargoats* data table"
   ]
  },
  {
   "cell_type": "code",
   "execution_count": null,
   "id": "997417d2-b608-4376-b367-8b59dd087575",
   "metadata": {},
   "outputs": [],
   "source": [
    "import pandas as pd\n",
    "\n",
    "from src.features.smarterdb import global_connection, SampleGoat, Dataset"
   ]
  },
  {
   "cell_type": "code",
   "execution_count": null,
   "id": "98db1363-9993-45f7-b15c-43e452d3b848",
   "metadata": {},
   "outputs": [],
   "source": [
    "conn = global_connection()"
   ]
  },
  {
   "cell_type": "code",
   "execution_count": null,
   "id": "45a8d033-e19d-44b5-a0a7-299ce4c167ed",
   "metadata": {},
   "outputs": [],
   "source": [
    "vargoats = pd.read_excel(\"VarGoats data access.xlsx\", header=1)\n",
    "vargoats.head()"
   ]
  },
  {
   "cell_type": "code",
   "execution_count": null,
   "id": "bc8c4c3b-c084-4d9a-a98c-5dba53de5fba",
   "metadata": {},
   "outputs": [],
   "source": [
    "vargoats.info()"
   ]
  },
  {
   "cell_type": "markdown",
   "id": "b4584802-f7b6-40f9-9c57-2bf00a87f6c7",
   "metadata": {},
   "source": [
    "Ok, try to explore `ADAPTmap ID`:"
   ]
  },
  {
   "cell_type": "code",
   "execution_count": null,
   "id": "8765a19f-1e95-49ab-a551-a625b9c11eb2",
   "metadata": {},
   "outputs": [],
   "source": [
    "vargoats[\"ADAPTmap ID\"].value_counts()"
   ]
  },
  {
   "cell_type": "markdown",
   "id": "c7a7967c-8bf8-4a56-8aa4-6e7744cea4a1",
   "metadata": {},
   "source": [
    "Well, about `897` vargoats animals don't have and adaptmap id. Get all the adaptmap ids:"
   ]
  },
  {
   "cell_type": "code",
   "execution_count": null,
   "id": "5890bfaf-2d75-427e-a982-2b81052097e6",
   "metadata": {},
   "outputs": [],
   "source": [
    "vargoats[\"ADAPTmap ID\"]"
   ]
  },
  {
   "cell_type": "markdown",
   "id": "2185d561-99ba-4eac-8122-e144a737d4f5",
   "metadata": {},
   "source": [
    "I see that some animals have extra characters in their name. Try to normalize those samples:"
   ]
  },
  {
   "cell_type": "code",
   "execution_count": null,
   "id": "29d971cb-0da2-483a-9785-203f57d4ec5b",
   "metadata": {},
   "outputs": [],
   "source": [
    "vargoats[\"ADAPTmap ID\"] = vargoats[\"ADAPTmap ID\"].apply(lambda name: name.split('*')[0])"
   ]
  },
  {
   "cell_type": "markdown",
   "id": "c3888721-4445-4811-93fe-9f4e15f1f280",
   "metadata": {},
   "source": [
    "Ok, get all samples from SMARTER database:"
   ]
  },
  {
   "cell_type": "code",
   "execution_count": null,
   "id": "ecb613d3-605b-4264-8f7b-f2fb2f323c81",
   "metadata": {},
   "outputs": [],
   "source": [
    "samples = SampleGoat.objects.all()\n",
    "samples.count()"
   ]
  },
  {
   "cell_type": "markdown",
   "id": "c7db7b85-7b53-4a9c-b737-5b13ff7828f5",
   "metadata": {},
   "source": [
    "Now read all data into dataframe:"
   ]
  },
  {
   "cell_type": "code",
   "execution_count": null,
   "id": "b882407e-6fba-491a-a52b-6e6ccced509e",
   "metadata": {},
   "outputs": [],
   "source": [
    "smarter = pd.read_json(samples.to_json())\n",
    "smarter[\"dataset_id\"] = smarter[\"dataset_id\"].apply(lambda name: name['$oid'])\n",
    "smarter.drop(\"_id\", axis=1, inplace=True)\n",
    "smarter.head()"
   ]
  },
  {
   "cell_type": "code",
   "execution_count": null,
   "id": "c0faa8db-8e5a-456f-ae9d-6bb65681ae9f",
   "metadata": {},
   "outputs": [],
   "source": [
    "merged_datasets = vargoats.set_index(\"ADAPTmap ID\").join(smarter.set_index(\"original_id\"), lsuffix=\"vargoats\", rsuffix=\"smarter\", how=\"outer\")\n",
    "merged_datasets.head()\n",
    "merged_datasets.info()"
   ]
  },
  {
   "cell_type": "code",
   "execution_count": null,
   "id": "8ad1cc15-da66-429d-8822-6aaa879f5c76",
   "metadata": {},
   "outputs": [],
   "source": [
    "merged_datasets.to_excel(\"merged_datasets.xlsx\")"
   ]
  },
  {
   "cell_type": "markdown",
   "id": "80db4d43-9539-4f90-ae49-2f973c90fbea",
   "metadata": {},
   "source": [
    "Is it possible that I have a vargoat original id in smarter but outside adaptmap? get all the non adaptmap samples from vargoats:"
   ]
  },
  {
   "cell_type": "code",
   "execution_count": null,
   "id": "2fb6ad16-1b80-4d77-9bf3-affd16967073",
   "metadata": {},
   "outputs": [],
   "source": [
    "original_ids = vargoats[vargoats[\"ADAPTmap ID\"] == \"not applicable\"][\"Original ID\"]"
   ]
  },
  {
   "cell_type": "code",
   "execution_count": null,
   "id": "2e98e9cb-8b11-4789-8f72-ba85d89c99c8",
   "metadata": {},
   "outputs": [],
   "source": [
    "samples = SampleGoat.objects.filter(original_id__in=original_ids.to_list())\n",
    "samples.count()"
   ]
  },
  {
   "cell_type": "markdown",
   "id": "a2aec9dd-9c49-4d97-8436-85e9222d68d6",
   "metadata": {},
   "source": [
    "Vargoats has its own id representation"
   ]
  },
  {
   "cell_type": "markdown",
   "id": "1390ebb0-7abc-4448-af8a-27cb9e77862a",
   "metadata": {},
   "source": [
    "## SMARTER Goat stats by breeds\n",
    "let's discover how many breeds are in SMARTER goat database"
   ]
  },
  {
   "cell_type": "code",
   "execution_count": null,
   "id": "40345f97-e9ad-47d6-b34b-99e6ce4832c9",
   "metadata": {},
   "outputs": [],
   "source": [
    "smarter.head()"
   ]
  },
  {
   "cell_type": "markdown",
   "id": "d056a2fe-5252-4a00-9c92-6c83461a1bed",
   "metadata": {},
   "source": [
    "First question: how many goat breeds are in SMARTER database?"
   ]
  },
  {
   "cell_type": "code",
   "execution_count": null,
   "id": "26a2920d-4e07-4e95-8c88-be929c9348a3",
   "metadata": {},
   "outputs": [],
   "source": [
    "print(f\"There are {smarter['breed'].nunique()} goat breeds in smarter database\")"
   ]
  },
  {
   "cell_type": "markdown",
   "id": "f2f186c9-6fee-4887-83cf-e41dbc99a3f3",
   "metadata": {},
   "source": [
    "Count by `breed` column:"
   ]
  },
  {
   "cell_type": "code",
   "execution_count": null,
   "id": "ce8a646d-bfec-43fe-9d35-9a1d307cbfce",
   "metadata": {},
   "outputs": [],
   "source": [
    "count_breed = pd.DataFrame(data=smarter.groupby([\"breed\"]).count()[\"smarter_id\"]).rename(columns={\"smarter_id\": \"count\"})\n",
    "count_breed = count_breed.reset_index()\n",
    "count_breed"
   ]
  },
  {
   "cell_type": "markdown",
   "id": "05e71169-7a06-45f0-a835-4071e6e0e440",
   "metadata": {},
   "source": [
    "Now group by `breed` and `type` columns:"
   ]
  },
  {
   "cell_type": "code",
   "execution_count": null,
   "id": "879aa1ea-2db2-4c7b-b730-7121425e2e3b",
   "metadata": {},
   "outputs": [],
   "source": [
    "count_breedandtype = pd.DataFrame(data=smarter.groupby([\"breed\", \"type\"]).count()[\"smarter_id\"]).rename(columns={\"smarter_id\": \"count\"})\n",
    "count_breedandtype = count_breedandtype.reset_index()\n",
    "count_breedandtype.info()"
   ]
  },
  {
   "cell_type": "markdown",
   "id": "7a4dc1b1-3343-4a7b-8b4a-421cb059667c",
   "metadata": {},
   "source": [
    "This time I have 169 rows. There are breeds which are background and foreground"
   ]
  },
  {
   "cell_type": "code",
   "execution_count": null,
   "id": "e0a8718d-c99a-4faa-8045-4603fac6bd5a",
   "metadata": {},
   "outputs": [],
   "source": [
    "# https://stackoverflow.com/a/22107169\n",
    "both_types = count_breedandtype.groupby(\"breed\").filter(lambda x: len(x) > 1)\n",
    "both_types"
   ]
  },
  {
   "cell_type": "markdown",
   "id": "35e39830-7b26-4b23-928b-a000b8efdb74",
   "metadata": {},
   "source": [
    "Which datasets provide these animals?"
   ]
  },
  {
   "cell_type": "code",
   "execution_count": null,
   "id": "880bae88-2d9a-4a6d-8cb9-2319c2409984",
   "metadata": {},
   "outputs": [],
   "source": [
    "dataset_ids = smarter[smarter[\"breed\"].isin([\"Fosses\", \"Landrace\", \"Provencale\"])][\"dataset_id\"].unique()\n",
    "datasets = pd.read_json(Dataset.objects.filter(id__in=dataset_ids).fields(type_=1, partner=1, file=1).to_json())\n",
    "datasets[\"type\"] = datasets[\"type\"].apply(lambda x: x[1])\n",
    "both_datasets = datasets[[\"file\", \"partner\", \"type\"]]"
   ]
  },
  {
   "cell_type": "markdown",
   "id": "41bbef7f-44da-4a2f-a960-759fbcfad129",
   "metadata": {},
   "source": [
    "How many samples are foreground (by breed)?"
   ]
  },
  {
   "cell_type": "code",
   "execution_count": null,
   "id": "c2d0f898-08d5-45b6-b1ac-fc21e3c0ce04",
   "metadata": {},
   "outputs": [],
   "source": [
    "foreground_breeds = count_breedandtype[count_breedandtype[\"type\"] == \"foreground\"]\n",
    "print(f\"There are {foreground_breeds['count'].sum()} foreground goat samples\")\n",
    "foreground_breeds"
   ]
  },
  {
   "cell_type": "markdown",
   "id": "998b6623-6018-4d05-89b9-8cebb3b3eb7c",
   "metadata": {},
   "source": [
    "Save data in tables:"
   ]
  },
  {
   "cell_type": "code",
   "execution_count": null,
   "id": "4d5469f1-6561-4610-9477-97e48dfa4f9d",
   "metadata": {},
   "outputs": [],
   "source": [
    "with pd.ExcelWriter(\"smarter_goats_breeds.xlsx\") as writer:\n",
    "    count_breed.to_excel(writer, sheet_name=\"breeds count\", index=False)\n",
    "    count_breedandtype.sort_values([\"type\", \"breed\"]).to_excel(writer, sheet_name=\"breeds count by type\", index=False)\n",
    "    both_types.to_excel(writer, sheet_name=\"both foreground and background\", index=False)"
   ]
  },
  {
   "cell_type": "code",
   "execution_count": null,
   "id": "bcbd7606-cce2-469f-b7ca-52223e5d5a23",
   "metadata": {},
   "outputs": [],
   "source": []
  }
 ],
 "metadata": {
  "kernelspec": {
   "display_name": "Python 3",
   "language": "python",
   "name": "python3"
  },
  "language_info": {
   "codemirror_mode": {
    "name": "ipython",
    "version": 3
   },
   "file_extension": ".py",
   "mimetype": "text/x-python",
   "name": "python",
   "nbconvert_exporter": "python",
   "pygments_lexer": "ipython3",
   "version": "3.9.1"
  }
 },
 "nbformat": 4,
 "nbformat_minor": 5
}
