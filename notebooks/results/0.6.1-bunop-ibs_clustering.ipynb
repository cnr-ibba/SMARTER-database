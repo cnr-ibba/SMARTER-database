{
 "cells": [
  {
   "cell_type": "markdown",
   "metadata": {},
   "source": [
    "#  Clustering and Identifying Crossbreeds\n",
    "\n",
    "## Data Preparation:\n",
    "\n",
    "Calculate the IBS matrix for the entire dataset using plink:\n",
    "\n",
    "```bash\n",
    "plink --chr-set 26 no-xy no-mt --allow-no-sex \\\n",
    "   --bfile SMARTER-OA-OAR3-top-0.4.10/SMARTER-OA-OAR3-top-0.4.10 \\\n",
    "   --geno 0.1 --distance square gz ibs \\\n",
    "   --out SMARTER-OA-OAR3-top-0.4.10/SMARTER-OA-OAR3-top-0.4.10\n",
    "```"
   ]
  },
  {
   "cell_type": "code",
   "execution_count": null,
   "metadata": {},
   "outputs": [],
   "source": [
    "import umap\n",
    "import pandas as pd\n",
    "import matplotlib.pyplot as plt\n",
    "import plotly.express as px\n",
    "import plotly.graph_objects as go\n",
    "\n",
    "from sklearn.cluster import KMeans, DBSCAN\n",
    "from sklearn.impute import SimpleImputer\n",
    "\n",
    "from src.features.utils import get_interim_dir"
   ]
  },
  {
   "cell_type": "code",
   "execution_count": null,
   "metadata": {},
   "outputs": [],
   "source": [
    "ibs_data = pd.read_table(get_interim_dir() / 'SMARTER-OA-OAR3-top-0.4.10/SMARTER-OA-OAR3-top-0.4.10.mibs.gz', header=None)\n",
    "assignment_df = pd.read_table(get_interim_dir() / 'SMARTER-OA-OAR3-top-0.4.10/SMARTER-OA-OAR3-top-0.4.10.mibs.id', header=None, names=['breed', \"sample\"])\n",
    "distance_df = 1 - ibs_data\n",
    "\n",
    "# assign names to the distance matrix\n",
    "individuals = assignment_df[\"sample\"].tolist()\n",
    "distance_df.index = individuals\n",
    "distance_df.columns = individuals"
   ]
  },
  {
   "cell_type": "code",
   "execution_count": null,
   "metadata": {},
   "outputs": [],
   "source": [
    "# Now we have the distance matrix and the corresponding sample IDs\n",
    "print(f\"Distance matrix shape: {distance_df.shape}\")\n",
    "print(f\"Number of samples: {len(individuals)}\")"
   ]
  },
  {
   "cell_type": "markdown",
   "metadata": {},
   "source": [
    "Impute missing data:"
   ]
  },
  {
   "cell_type": "code",
   "execution_count": null,
   "metadata": {},
   "outputs": [],
   "source": [
    "# Check for missing values using scikit-learn's SimpleImputer\n",
    "imputer = SimpleImputer(strategy='mean')\n",
    "\n",
    "# Impute missing values in the distance matrix\n",
    "distance_df_imputed = imputer.fit_transform(distance_df)\n",
    "\n",
    "# Convert the imputed NumPy array back to a DataFrame\n",
    "distance_df_imputed = pd.DataFrame(distance_df_imputed, columns=distance_df.columns, index=distance_df.index)\n",
    "\n",
    "# Check the shape of the imputed distance matrix\n",
    "print(f\"Distance matrix shape after imputation: {distance_df_imputed.shape}\")\n",
    "distance_df_imputed.head()"
   ]
  },
  {
   "cell_type": "markdown",
   "metadata": {},
   "source": [
    "## K-means clustering"
   ]
  },
  {
   "cell_type": "code",
   "execution_count": null,
   "metadata": {},
   "outputs": [],
   "source": [
    "# Number of clusters - set based on the number of breeds or experiment with different values\n",
    "n_clusters = len(assignment_df['breed'].unique())\n",
    "\n",
    "# Step 1: Apply K-means clustering on the distance matrix\n",
    "kmeans = KMeans(n_clusters=n_clusters, random_state=42)\n",
    "assignment_df['cluster'] = kmeans.fit_predict(distance_df_imputed)\n",
    "\n",
    "# Step 2: Relabel clusters based on the most frequent breed in each cluster\n",
    "def relabel_clusters(df):\n",
    "    cluster_to_breed = {}\n",
    "    for cluster in df['cluster'].unique():\n",
    "        # Find the most common breed in each cluster\n",
    "        most_common_breed = df[df['cluster'] == cluster]['breed'].mode()[0]\n",
    "        cluster_to_breed[cluster] = most_common_breed\n",
    "\n",
    "    # Map the cluster numbers to their corresponding breed labels\n",
    "    df['predicted_kmeans'] = df['cluster'].map(cluster_to_breed)\n",
    "    return df\n",
    "\n",
    "# Apply the relabeling function\n",
    "assignment_df = relabel_clusters(assignment_df)\n",
    "\n",
    "# Step 3: Compare the predicted breed to the actual declared breed\n",
    "mismatch = assignment_df[assignment_df['breed'] != assignment_df['predicted_kmeans']]\n",
    "print(f\"Number of mismatches: {len(mismatch)}\")\n",
    "mismatch"
   ]
  },
  {
   "cell_type": "markdown",
   "metadata": {},
   "source": [
    "## UMAP for Dimensionality Reduction and Clustering\n",
    "\n",
    "Using UMAP and DBSCAN to cluster the data:"
   ]
  },
  {
   "cell_type": "code",
   "execution_count": null,
   "metadata": {},
   "outputs": [],
   "source": [
    "# Step 1: Apply UMAP for dimensionality reduction (e.g., reducing to 2D or 3D for clustering)\n",
    "umap_model = umap.UMAP(n_neighbors=15, min_dist=0.1, metric='euclidean')\n",
    "umap_results = umap_model.fit_transform(distance_df_imputed)\n",
    "\n",
    "# Step 2: Use a clustering algorithm, e.g., DBSCAN, to cluster individuals in the UMAP-reduced space\n",
    "dbscan = DBSCAN(eps=0.1, min_samples=5)\n",
    "dbscan_labels = dbscan.fit_predict(umap_results)\n",
    "\n",
    "# Add UMAP and DBSCAN results to the DataFrame\n",
    "assignment_df['umap-1'] = umap_results[:, 0]\n",
    "assignment_df['umap-2'] = umap_results[:, 1]\n",
    "assignment_df['cluster'] = dbscan_labels\n",
    "\n",
    "# Step 3: Relabel clusters based on the most frequent breed in each cluster\n",
    "def relabel_clusters(df):\n",
    "    cluster_to_breed = {}\n",
    "    for cluster in df['cluster'].unique():\n",
    "        # Find the most common breed in each cluster\n",
    "        most_common_breed = df[df['cluster'] == cluster]['breed'].mode()[0]\n",
    "        cluster_to_breed[cluster] = most_common_breed\n",
    "\n",
    "    # Map the cluster numbers to their corresponding breed labels\n",
    "    df['predicted_dbscan'] = df['cluster'].map(cluster_to_breed)\n",
    "    return df\n",
    "\n",
    "# Step 3: Compare clusters with declared breeds to identify crossbreeds\n",
    "assignment_df = relabel_clusters(assignment_df)\n",
    "\n",
    "# Step 3: Compare the predicted breed to the actual declared breed\n",
    "mismatch = assignment_df[assignment_df['breed'] != assignment_df['predicted_dbscan']]\n",
    "print(f\"Number of mismatches: {len(mismatch)}\")\n",
    "mismatch"
   ]
  },
  {
   "cell_type": "markdown",
   "metadata": {},
   "source": [
    "Plotting mislabelled samples for DBSCAN:"
   ]
  },
  {
   "cell_type": "code",
   "execution_count": null,
   "metadata": {},
   "outputs": [],
   "source": [
    "# Plot UMAP results\n",
    "plt.figure(figsize=(10, 6))\n",
    "\n",
    "# plot all samples in gray\n",
    "plt.scatter(assignment_df['umap-1'], assignment_df['umap-2'], color='gray', alpha=0.05, s=10, label='_nolegend_')\n",
    "\n",
    "# Highlight cluster mismatches\n",
    "plt.scatter(mismatch['umap-1'], mismatch['umap-2'], color='red', marker='x', label='Potential Crossbreeds')\n",
    "\n",
    "plt.title('UMAP Clustering with Mismatched Individuals Highlighted')\n",
    "plt.xlabel('UMAP-1')\n",
    "plt.ylabel('UMAP-2')\n",
    "plt.legend()\n",
    "plt.show()"
   ]
  },
  {
   "cell_type": "code",
   "execution_count": null,
   "metadata": {},
   "outputs": [],
   "source": [
    "# Generate a color palette with enough distinct colors\n",
    "colors = px.colors.qualitative.Set3  # You can choose a palette from plotly.colors.qualitative\n",
    "num_colors = len(colors)\n",
    "\n",
    "# Create a list of marker symbols to be used\n",
    "markers = ['circle', 'square', 'diamond', 'cross', 'x', 'triangle-up', 'triangle-down', 'star', 'pentagon']\n",
    "\n",
    "# Assign colors and markers to each breed\n",
    "assignment_df['color'] = assignment_df['breed'].apply(lambda x: colors[hash(x) % num_colors])\n",
    "assignment_df['marker'] = assignment_df['breed'].apply(lambda x: markers[hash(x) % len(markers)])\n",
    "\n",
    "# Create a plotly scatter plot with custom markers and colors\n",
    "fig = go.Figure()\n",
    "\n",
    "# Plot each breed with its assigned color and marker\n",
    "for breed in assignment_df['breed'].unique():\n",
    "    breed_data = assignment_df[assignment_df['breed'] == breed]\n",
    "    fig.add_trace(go.Scatter(\n",
    "        x=breed_data['umap-1'],\n",
    "        y=breed_data['umap-2'],\n",
    "        mode='markers',\n",
    "        marker=dict(\n",
    "            color=breed_data['color'],\n",
    "            symbol=breed_data['marker'],\n",
    "            size=10,\n",
    "            opacity=0.7\n",
    "        ),\n",
    "        name=breed,\n",
    "        text=breed_data['breed'],\n",
    "        hoverinfo='text'\n",
    "    ))\n",
    "\n",
    "# Set the figure size and display the plot\n",
    "fig.update_layout(\n",
    "    title=f\"UMAP Clustering with {len(assignment_df['breed'].unique())} Breeds\",\n",
    "    width=1000,\n",
    "    height=800,\n",
    "    showlegend=False  # Hide the legend to avoid clutter\n",
    ")\n",
    "\n",
    "fig.show()\n"
   ]
  },
  {
   "cell_type": "code",
   "execution_count": null,
   "metadata": {},
   "outputs": [],
   "source": []
  }
 ],
 "metadata": {
  "kernelspec": {
   "display_name": "SMARTER-database",
   "language": "python",
   "name": "python3"
  },
  "language_info": {
   "codemirror_mode": {
    "name": "ipython",
    "version": 3
   },
   "file_extension": ".py",
   "mimetype": "text/x-python",
   "name": "python",
   "nbconvert_exporter": "python",
   "pygments_lexer": "ipython3",
   "version": "3.12.3"
  }
 },
 "nbformat": 4,
 "nbformat_minor": 2
}
