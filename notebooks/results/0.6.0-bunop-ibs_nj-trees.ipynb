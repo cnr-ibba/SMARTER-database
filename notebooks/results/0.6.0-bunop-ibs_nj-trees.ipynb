{
 "cells": [
  {
   "cell_type": "markdown",
   "metadata": {},
   "source": [
    "# Generate IBS-based Neighbor-Joining tree\n",
    "\n",
    "## Sheep samples\n",
    "\n",
    "Collect the latest SMARTER genotype dataset and unpack it into a folder:\n",
    "\n",
    "```bash\n",
    "unzip SMARTER-OA-OAR3-top-0.4.10.zip -d SMARTER-OA-OAR3-top-0.4.10\n",
    "```\n",
    "\n",
    "Next, start by generate a IBS matrix of sheep samples using `plink`. Remove missing \n",
    "data from the whole dataset:\n",
    "\n",
    "```bash\n",
    "plink --chr-set 26 no-xy no-mt --allow-no-sex --bfile SMARTER-OA-OAR3-top-0.4.10/SMARTER-OA-OAR3-top-0.4.10 \\\n",
    "    --geno 0.1 --Z-genome --genome full --out SMARTER-OA-OAR3-top-0.4.10/ibs_output\n",
    "```\n",
    "\n",
    "Now, let's do the python stuff:"
   ]
  },
  {
   "cell_type": "code",
   "execution_count": 1,
   "metadata": {},
   "outputs": [],
   "source": [
    "import plotly.graph_objects as go\n",
    "import pandas as pd\n",
    "import numpy as np\n",
    "from skbio import DistanceMatrix\n",
    "from skbio.tree import nj\n",
    "\n",
    "from src.features.utils import get_project_dir"
   ]
  },
  {
   "cell_type": "code",
   "execution_count": 2,
   "metadata": {},
   "outputs": [],
   "source": [
    "# Load IBS data from PLINK\n",
    "dtype_dict = {'IID1': str, 'IID2': str, 'DST': float}\n",
    "ibs_data = pd.read_csv(\n",
    "    get_project_dir() / \"notebooks/results/SMARTER-OA-OAR3-top-0.4.10/5_breeds-0-50K.ibs.genome.gz\",\n",
    "    sep=r'\\s+',\n",
    "    usecols=['IID1', 'IID2', 'DST'],\n",
    "    dtype=dtype_dict\n",
    ")"
   ]
  },
  {
   "cell_type": "code",
   "execution_count": 3,
   "metadata": {},
   "outputs": [],
   "source": [
    "# This transform a pairwise items to a matrix\n",
    "ibs_pivot = ibs_data.pivot(index='IID1', columns='IID2', values='DST').fillna(0)\n",
    "\n",
    "# This will transform the IBS values to a distance matrix: 0 means identical, 1 means different\n",
    "ibs_pivot = 1 - ibs_pivot\n",
    "np.fill_diagonal(ibs_pivot.values, 0)\n",
    "upper_triangular_matrix = ibs_pivot.values\n",
    "individuals = ibs_pivot.index.values"
   ]
  },
  {
   "cell_type": "markdown",
   "metadata": {},
   "source": [
    "The matrix I have is only the upper triangle of the matrix, so I need to mirror it to get the full matrix. This could be done by adding the transposed matrix to the original matrix. The diagonal should be subtracted to avoid double counting, in this case however is zero, since I called `np.fill_diagonal` with zeros."
   ]
  },
  {
   "cell_type": "code",
   "execution_count": null,
   "metadata": {},
   "outputs": [],
   "source": [
    "distance_matrix = upper_triangular_matrix + upper_triangular_matrix.T - np.diag(upper_triangular_matrix.diagonal())\n",
    "\n",
    "def is_symmetric(matrix, tol=1e-8):\n",
    "    return np.allclose(matrix, matrix.T, atol=tol)\n",
    "\n",
    "is_symmetric(distance_matrix)"
   ]
  },
  {
   "cell_type": "code",
   "execution_count": null,
   "metadata": {},
   "outputs": [],
   "source": [
    "# Now we have the distance matrix and the corresponding sample IDs\n",
    "print(f\"Distance matrix shape: {distance_matrix.shape}\")\n",
    "print(f\"Number of samples: {len(individuals)}\")"
   ]
  },
  {
   "cell_type": "code",
   "execution_count": 6,
   "metadata": {},
   "outputs": [],
   "source": [
    "# Create skbio DistanceMatrix\n",
    "dm = DistanceMatrix(distance_matrix, individuals)"
   ]
  },
  {
   "cell_type": "code",
   "execution_count": 7,
   "metadata": {},
   "outputs": [],
   "source": [
    "# Deleting all variables except `dm`\n",
    "del distance_matrix\n",
    "del dtype_dict\n",
    "del ibs_data\n",
    "del ibs_pivot\n",
    "del individuals\n",
    "del upper_triangular_matrix"
   ]
  },
  {
   "cell_type": "code",
   "execution_count": 8,
   "metadata": {},
   "outputs": [],
   "source": [
    "# Build the Neighbor-Joining Tree\n",
    "nj_tree = nj(dm)"
   ]
  },
  {
   "cell_type": "code",
   "execution_count": null,
   "metadata": {},
   "outputs": [],
   "source": [
    "# Save the tree to a Newick file\n",
    "nj_tree.write(\"nj_tree.nwk\")\n",
    "\n",
    "# Show the resulting tree in ASCII format\n",
    "print(nj_tree.ascii_art())"
   ]
  },
  {
   "cell_type": "markdown",
   "metadata": {},
   "source": [
    "### Step 1: Assign Coordinates to Nodes\n",
    "\n",
    "First, we need to assign x and y coordinates to each node in the tree.\n",
    "\n",
    "* X-coordinate: For leaf nodes, assign x-coordinates evenly spaced along the x-axis. For internal nodes, assign x-coordinates as the average of their children's x-coordinates.\n",
    "* Y-coordinate: Assign y-coordinates based on the depth (level) of the node in the tree."
   ]
  },
  {
   "cell_type": "code",
   "execution_count": 10,
   "metadata": {},
   "outputs": [],
   "source": [
    "# Get all the leaf nodes and assign x-coordinates\n",
    "leaves = list(nj_tree.tips())\n",
    "n_leaves = len(leaves)\n",
    "for i, leaf in enumerate(leaves):\n",
    "    leaf.x = i\n",
    "\n",
    "# Function to assign x-coordinates to internal nodes\n",
    "def assign_x(node):\n",
    "    if node.is_tip():\n",
    "        return node.x\n",
    "    else:\n",
    "        child_xs = [assign_x(child) for child in node.children]\n",
    "        node.x = sum(child_xs) / len(child_xs)\n",
    "        return node.x\n",
    "\n",
    "assign_x(nj_tree)\n",
    "\n",
    "# Function to assign y-coordinates based on depth\n",
    "def assign_y(node, depth=0):\n",
    "    node.y = -depth  # Negative depth so that the root is at y=0\n",
    "    for child in node.children:\n",
    "        assign_y(child, depth + 1)\n",
    "\n",
    "assign_y(nj_tree)"
   ]
  },
  {
   "cell_type": "markdown",
   "metadata": {},
   "source": [
    "### Step 2: Collect Edges\n",
    "\n",
    "We need to collect the parent-child relationships to plot the edges of the tree."
   ]
  },
  {
   "cell_type": "code",
   "execution_count": 11,
   "metadata": {},
   "outputs": [],
   "source": [
    "edges = []\n",
    "\n",
    "def collect_edges(node):\n",
    "    for child in node.children:\n",
    "        edges.append((node, child))\n",
    "        collect_edges(child)\n",
    "\n",
    "collect_edges(nj_tree)\n"
   ]
  },
  {
   "cell_type": "markdown",
   "metadata": {},
   "source": [
    "### Step 3: Prepare Data for Plotly\n",
    "\n",
    "Create lists of x and y coordinates for the edges and nodes."
   ]
  },
  {
   "cell_type": "code",
   "execution_count": 12,
   "metadata": {},
   "outputs": [],
   "source": [
    "# Prepare edge coordinates\n",
    "edge_x = []\n",
    "edge_y = []\n",
    "for parent, child in edges:\n",
    "    edge_x += [parent.x, child.x, None]  # None separates traces\n",
    "    edge_y += [parent.y, child.y, None]\n",
    "\n",
    "# Prepare node coordinates and labels\n",
    "node_x = []\n",
    "node_y = []\n",
    "node_text = []\n",
    "\n",
    "def collect_nodes(node):\n",
    "    node_x.append(node.x)\n",
    "    node_y.append(node.y)\n",
    "    node_text.append(node.name if node.name else '')\n",
    "\n",
    "    for child in node.children:\n",
    "        collect_nodes(child)\n",
    "\n",
    "collect_nodes(nj_tree)"
   ]
  },
  {
   "cell_type": "markdown",
   "metadata": {},
   "source": [
    "### Step 4: Create Plotly Traces\n",
    "\n",
    "Now, create Plotly traces for edges and nodes."
   ]
  },
  {
   "cell_type": "code",
   "execution_count": 13,
   "metadata": {},
   "outputs": [],
   "source": [
    "# Edge trace\n",
    "edge_trace = go.Scatter(\n",
    "    x=edge_x, y=edge_y,\n",
    "    mode='lines',\n",
    "    line=dict(color='black', width=1),\n",
    "    hoverinfo='none'\n",
    ")\n",
    "\n",
    "# Node trace\n",
    "node_trace = go.Scatter(\n",
    "    x=node_x, y=node_y,\n",
    "    mode='markers+text',\n",
    "    text=node_text,\n",
    "    textposition='top center',\n",
    "    hoverinfo='text',\n",
    "    marker=dict(color='blue', size=5)\n",
    ")"
   ]
  },
  {
   "cell_type": "markdown",
   "metadata": {},
   "source": [
    "### Step 5: Plot the Tree\n",
    "\n",
    "Set up the layout and create the figure."
   ]
  },
  {
   "cell_type": "code",
   "execution_count": null,
   "metadata": {},
   "outputs": [],
   "source": [
    "layout = go.Layout(\n",
    "    showlegend=False,\n",
    "    xaxis=dict(showgrid=False, zeroline=False, showticklabels=False),\n",
    "    yaxis=dict(showgrid=False, zeroline=False, showticklabels=False),\n",
    "    hovermode='closest',\n",
    "    margin=dict(b=20,l=5,r=5,t=40)\n",
    ")\n",
    "\n",
    "fig = go.Figure(data=[edge_trace, node_trace], layout=layout)\n",
    "fig.show()"
   ]
  },
  {
   "cell_type": "code",
   "execution_count": null,
   "metadata": {},
   "outputs": [],
   "source": []
  }
 ],
 "metadata": {
  "kernelspec": {
   "display_name": "SMARTER-database",
   "language": "python",
   "name": "python3"
  },
  "language_info": {
   "codemirror_mode": {
    "name": "ipython",
    "version": 3
   },
   "file_extension": ".py",
   "mimetype": "text/x-python",
   "name": "python",
   "nbconvert_exporter": "python",
   "pygments_lexer": "ipython3",
   "version": "3.12.3"
  }
 },
 "nbformat": 4,
 "nbformat_minor": 2
}
