{
 "cells": [
  {
   "cell_type": "markdown",
   "metadata": {},
   "source": [
    "# Generate IBS-based Neighbor-Joining tree\n",
    "\n",
    "## Sheep samples\n",
    "\n",
    "Collect the latest SMARTER genotype dataset and unpack it into a folder:\n",
    "\n",
    "```bash\n",
    "unzip SMARTER-OA-OAR3-top-0.4.10.zip -d SMARTER-OA-OAR3-top-0.4.10\n",
    "```\n",
    "\n",
    "Next, start by generate a IBS matrix of sheep samples using `plink`. Remove missing \n",
    "data from the whole dataset:\n",
    "\n",
    "```bash\n",
    "plink --chr-set 26 no-xy no-mt --allow-no-sex --bfile SMARTER-OA-OAR3-top-0.4.10/SMARTER-OA-OAR3-top-0.4.10 \\\n",
    "    --geno 0.1 --Z-genome --genome full --out SMARTER-OA-OAR3-top-0.4.10/ibs_output\n",
    "```\n",
    "\n",
    "Now, let's do the python stuff:"
   ]
  },
  {
   "cell_type": "code",
   "execution_count": 1,
   "metadata": {},
   "outputs": [],
   "source": [
    "import json\n",
    "\n",
    "import pandas as pd\n",
    "import numpy as np\n",
    "from scipy.spatial.distance import pdist, squareform\n",
    "from scipy.cluster.hierarchy import linkage, to_tree\n",
    "import plotly.graph_objects as go\n",
    "from ete3 import Tree, TreeStyle, NodeStyle, TextFace\n",
    "\n",
    "from src.features.utils import get_project_dir\n",
    "from src.features.smarterdb import global_connection, SampleSheep"
   ]
  },
  {
   "cell_type": "code",
   "execution_count": 2,
   "metadata": {},
   "outputs": [],
   "source": [
    "conn = global_connection()"
   ]
  },
  {
   "cell_type": "code",
   "execution_count": 3,
   "metadata": {},
   "outputs": [],
   "source": [
    "# Load IBS data from PLINK\n",
    "dtype_dict = {'IID1': str, 'IID2': str, 'DST': float}\n",
    "ibs_data = pd.read_csv(\n",
    "    get_project_dir() / \"notebooks/results/SMARTER-OA-OAR3-top-0.4.10/ibs_output.genome.gz\",\n",
    "    sep=r'\\s+',\n",
    "    usecols=['IID1', 'IID2', 'DST'],\n",
    "    dtype=dtype_dict\n",
    ")"
   ]
  },
  {
   "cell_type": "code",
   "execution_count": 4,
   "metadata": {},
   "outputs": [],
   "source": [
    "# This transform a pairwise items to a matrix\n",
    "ibs_pivot = ibs_data.pivot(index='IID1', columns='IID2', values='DST').fillna(0)\n",
    "\n",
    "# This will transform the IBS values to a distance matrix: 0 means identical, 1 means different\n",
    "ibs_pivot = 1 - ibs_pivot\n",
    "np.fill_diagonal(ibs_pivot.values, 0)\n",
    "upper_triangular_matrix = ibs_pivot.values\n",
    "individuals = ibs_pivot.index.values"
   ]
  },
  {
   "cell_type": "markdown",
   "metadata": {},
   "source": [
    "The matrix I have is only the upper triangle of the matrix, so I need to mirror it to get the full matrix. This could be done by adding the transposed matrix to the original matrix. The diagonal should be subtracted to avoid double counting, in this case however is zero, since I called `np.fill_diagonal` with zeros."
   ]
  },
  {
   "cell_type": "code",
   "execution_count": null,
   "metadata": {},
   "outputs": [],
   "source": [
    "distance_matrix = upper_triangular_matrix + upper_triangular_matrix.T - np.diag(upper_triangular_matrix.diagonal())\n",
    "\n",
    "def is_symmetric(matrix, tol=1e-8):\n",
    "    return np.allclose(matrix, matrix.T, atol=tol)\n",
    "\n",
    "is_symmetric(distance_matrix)"
   ]
  },
  {
   "cell_type": "code",
   "execution_count": 6,
   "metadata": {},
   "outputs": [],
   "source": [
    "# Generate NJ tree using hierarchical clustering (same as before)\n",
    "condensed_dist = squareform(distance_matrix)\n",
    "Z = linkage(condensed_dist, method='average')\n",
    "tree = to_tree(Z, rd=False)"
   ]
  },
  {
   "cell_type": "code",
   "execution_count": 7,
   "metadata": {},
   "outputs": [],
   "source": [
    "# Delete unused variables to free memory\n",
    "del dtype_dict, ibs_data, ibs_pivot, upper_triangular_matrix, condensed_dist, Z"
   ]
  },
  {
   "cell_type": "markdown",
   "metadata": {},
   "source": [
    "Generate a tree structure"
   ]
  },
  {
   "cell_type": "code",
   "execution_count": 8,
   "metadata": {},
   "outputs": [],
   "source": [
    "def get_newick(node, newick, parentdist, leaf_names):\n",
    "    if node.is_leaf():\n",
    "        return \"%s:%f%s\" % (leaf_names[node.id], parentdist - node.dist, newick)\n",
    "    else:\n",
    "        if len(newick) > 0:\n",
    "            newick = \"):%f%s\" % (parentdist - node.dist, newick)\n",
    "        else:\n",
    "            newick = \");\"\n",
    "        newick = get_newick(node.get_left(), newick, node.dist, leaf_names)\n",
    "        newick = get_newick(node.get_right(), \",%s\" % (newick), node.dist, leaf_names)\n",
    "        return \"(%s\" % (newick)\n",
    "\n",
    "newick_tree = get_newick(tree, \"\", tree.dist, individuals)"
   ]
  },
  {
   "cell_type": "markdown",
   "metadata": {},
   "source": [
    "Now that you have the NJ tree in Newick format, you can use the ete3 library to visualize it and add breed labels. Get full breed name from the database:"
   ]
  },
  {
   "cell_type": "code",
   "execution_count": 9,
   "metadata": {},
   "outputs": [],
   "source": [
    "breed_info = pd.DataFrame(data=json.loads(SampleSheep.objects.all().fields(smarter_id=True, breed=True).to_json()))\n",
    "breed_info[\"_id\"] = breed_info[\"_id\"].apply(lambda x: x[\"$oid\"])\n",
    "breed_info = breed_info.set_index(\"_id\")\n",
    "\n",
    "# Merge breed information with the list of individuals\n",
    "label_dict = dict(zip(breed_info.smarter_id, breed_info.breed))"
   ]
  },
  {
   "cell_type": "markdown",
   "metadata": {},
   "source": [
    "Visualize the NJ tree with breed labels:"
   ]
  },
  {
   "cell_type": "code",
   "execution_count": 11,
   "metadata": {},
   "outputs": [],
   "source": [
    "# Load the tree from the Newick format\n",
    "t = Tree(newick_tree)\n",
    "\n",
    "# Assign breed labels to the tree tips\n",
    "for leaf in t:\n",
    "    leaf_name = leaf.name\n",
    "    if leaf_name in label_dict:\n",
    "        leaf.name = label_dict[leaf_name]  # Replace individual ID with breed\n",
    "\n",
    "# Style the tree\n",
    "def render_tree(t):\n",
    "    ts = TreeStyle()\n",
    "    ts.show_leaf_name = True  # Show breed labels on the tree\n",
    "\n",
    "    # Customize the node style\n",
    "    nstyle = NodeStyle()\n",
    "    nstyle[\"fgcolor\"] = \"darkred\"\n",
    "    nstyle[\"size\"] = 10\n",
    "\n",
    "    for leaf in t.iter_leaves():\n",
    "        leaf.set_style(nstyle)\n",
    "\n",
    "    # Show the tree with labels (all external application)\n",
    "    # t.show(tree_style=ts)\n",
    "    t.render(\"nj_tree_with_breeds.png\", w=800, units=\"px\", tree_style=ts)\n",
    "\n",
    "render_tree(t)"
   ]
  },
  {
   "cell_type": "code",
   "execution_count": 12,
   "metadata": {},
   "outputs": [],
   "source": [
    "# Helper function to convert hierarchical tree to plotly tree format\n",
    "def add_nodes(node, pos=None, x=0, y=0, width=400, labels={}):\n",
    "    if pos is None:\n",
    "        pos = {}\n",
    "    pos[node.id] = (x, y)\n",
    "\n",
    "    if node.left:\n",
    "        pos = add_nodes(node.left, pos=pos, x=x-width/2, y=y-1, width=width/2)\n",
    "        pos = add_nodes(node.right, pos=pos, x=x+width/2, y=y-1, width=width/2)\n",
    "\n",
    "    return pos\n",
    "\n",
    "# Convert hierarchical tree to positions\n",
    "positions = add_nodes(tree)"
   ]
  },
  {
   "cell_type": "code",
   "execution_count": null,
   "metadata": {},
   "outputs": [],
   "source": [
    "# Prepare the edge list\n",
    "def get_edges(tree, pos):\n",
    "    edges = []\n",
    "    if tree.left:\n",
    "        edges.append((tree.id, tree.left.id))\n",
    "        edges.extend(get_edges(tree.left, pos))\n",
    "    if tree.right:\n",
    "        edges.append((tree.id, tree.right.id))\n",
    "        edges.extend(get_edges(tree.right, pos))\n",
    "    return edges\n",
    "\n",
    "edges = get_edges(tree, positions)\n",
    "\n",
    "# Prepare nodes and edges for Plotly\n",
    "x_nodes = [positions[i][0] for i in positions]\n",
    "y_nodes = [positions[i][1] for i in positions]\n",
    "\n",
    "# Extract node names from individuals\n",
    "node_labels = [individuals[i] if i < len(individuals) else f'Node {i}' for i in positions]\n",
    "\n",
    "# Prepare edge coordinates for Plotly\n",
    "x_edges = []\n",
    "y_edges = []\n",
    "for edge in edges:\n",
    "    x_edges += [positions[edge[0]][0], positions[edge[1]][0], None]\n",
    "    y_edges += [positions[edge[0]][1], positions[edge[1]][1], None]\n",
    "\n",
    "# Create the trace for edges (lines)\n",
    "edge_trace = go.Scatter(\n",
    "    x=x_edges, y=y_edges,\n",
    "    line=dict(width=1, color='gray'),\n",
    "    hoverinfo='none',\n",
    "    mode='lines'\n",
    ")\n",
    "\n",
    "# Create the trace for nodes (markers)\n",
    "node_trace = go.Scatter(\n",
    "    x=x_nodes, y=y_nodes,\n",
    "    mode='markers+text',\n",
    "    text=node_labels,\n",
    "    textposition=\"top center\",\n",
    "    hoverinfo='text',\n",
    "    marker=dict(\n",
    "        showscale=False,\n",
    "        color='lightblue',\n",
    "        size=10,\n",
    "        line_width=2\n",
    "    )\n",
    ")\n",
    "\n",
    "# Create Plotly figure\n",
    "fig = go.Figure(data=[edge_trace, node_trace])\n",
    "\n",
    "# Customize layout\n",
    "fig.update_layout(\n",
    "    showlegend=False,\n",
    "    hovermode='closest',\n",
    "    margin=dict(b=0, l=0, r=0, t=0),\n",
    "    xaxis=dict(showgrid=False, zeroline=False),\n",
    "    yaxis=dict(showgrid=False, zeroline=False)\n",
    ")\n",
    "\n",
    "# Show interactive tree\n",
    "fig.show()"
   ]
  },
  {
   "cell_type": "code",
   "execution_count": null,
   "metadata": {},
   "outputs": [],
   "source": [
    "x_nodes"
   ]
  },
  {
   "cell_type": "code",
   "execution_count": null,
   "metadata": {},
   "outputs": [],
   "source": []
  }
 ],
 "metadata": {
  "kernelspec": {
   "display_name": "SMARTER-database",
   "language": "python",
   "name": "python3"
  },
  "language_info": {
   "codemirror_mode": {
    "name": "ipython",
    "version": 3
   },
   "file_extension": ".py",
   "mimetype": "text/x-python",
   "name": "python",
   "nbconvert_exporter": "python",
   "pygments_lexer": "ipython3",
   "version": "3.12.3"
  }
 },
 "nbformat": 4,
 "nbformat_minor": 2
}
