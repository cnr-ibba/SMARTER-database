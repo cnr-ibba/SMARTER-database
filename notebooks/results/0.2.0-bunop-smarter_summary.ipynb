{
 "cells": [
  {
   "cell_type": "markdown",
   "id": "3cc84f47-db82-43eb-99fd-78768ecd2a99",
   "metadata": {},
   "source": [
    "# SMARTER SUMMARY (2021/09/28)\n",
    "* [Dataset composition](#datasets-composition)\n",
    "    - [Foreground / background datasets](#foreground-vs-background-datasets)\n",
    "    - [Datasets by chip type](#datasets-by-chip-type)\n",
    "* [Samples composition](#samples-composition)\n",
    "    - [Foreground / background samples for sheep](#foreground-background-samples-sheep)\n",
    "    - [Foreground / background samples for goat](#foreground-background-samples-goat)"
   ]
  },
  {
   "cell_type": "code",
   "execution_count": null,
   "id": "c19ca423-c3d1-40e5-9e76-3b9779b322a5",
   "metadata": {},
   "outputs": [],
   "source": [
    "import pandas as pd\n",
    "import matplotlib.pyplot as plt\n",
    "from shapely.geometry import Point\n",
    "import geopandas as gpd\n",
    "\n",
    "from src.features.smarterdb import global_connection, Dataset, SampleSheep, SampleGoat\n",
    "\n",
    "conn = global_connection()\n",
    "\n",
    "def fix_id(df: pd.DataFrame):\n",
    "    \"\"\"Parse id and make index\"\"\"\n",
    "    df['_id'] = df['_id'].apply(lambda val: val['$oid'])\n",
    "    df = df.set_index(\"_id\")\n",
    "    return df\n",
    "\n",
    "def add_geometry(df: pd.DataFrame):\n",
    "    \"\"\"Add a geometry column from locations\"\"\"\n",
    "    \n",
    "    def get_geometry(value):\n",
    "        if isinstance(value, list):\n",
    "            return Point(*value[0]['coordinates'])\n",
    "        return value\n",
    "\n",
    "    df['geometry'] = df['locations'].apply(get_geometry)\n",
    "    return df"
   ]
  },
  {
   "cell_type": "markdown",
   "id": "13db17a0-7abb-4288-ba0d-d48cdb7f1477",
   "metadata": {},
   "source": [
    "<a id='datasets-composition'></a>\n",
    "## Dataset composition\n",
    "Read datasets informations and try to describe how many *background/foreground* data we have"
   ]
  },
  {
   "cell_type": "code",
   "execution_count": null,
   "id": "ec75f2a7-594f-44cb-b011-bb584cbe6284",
   "metadata": {},
   "outputs": [],
   "source": [
    "tmp = Dataset.objects.filter(type_=\"genotypes\").to_json()\n",
    "datasets = pd.read_json(tmp).dropna(thresh=1, axis=1)\n",
    "datasets['type'] = datasets['type'].apply(lambda val: val[1])\n",
    "datasets = fix_id(datasets)\n",
    "datasets[['breed', 'country', 'species', 'type', 'partner', 'chip_name']]"
   ]
  },
  {
   "cell_type": "markdown",
   "id": "99ac1869-bc0e-42e7-b4fd-0ce723b1fb2d",
   "metadata": {},
   "source": [
    "<a id='foreground-vs-background-datasets'></a>\n",
    "### Foreground / background datasets\n",
    "Plotting *foreground* VS *background* datasets:"
   ]
  },
  {
   "cell_type": "code",
   "execution_count": null,
   "id": "60b714f1-b09b-4cc8-928a-3f533377ea77",
   "metadata": {},
   "outputs": [],
   "source": [
    "plot = datasets['type'].value_counts().plot.pie(y=\"type\", figsize=(8,8), shadow=True, startangle=45, rotatelabels=45, autopct='%1.1f%%')"
   ]
  },
  {
   "cell_type": "markdown",
   "id": "1e965f4f-7331-4e99-9e37-9ec14e0d8b0f",
   "metadata": {},
   "source": [
    "<a id='datasets-by-chip-type'></a>\n",
    "### Datasets by chip type\n",
    "Plotting datasets by *chip type*:"
   ]
  },
  {
   "cell_type": "code",
   "execution_count": null,
   "id": "88aadfb5-05c2-49ec-9078-a6bb6b233bc2",
   "metadata": {},
   "outputs": [],
   "source": [
    "plot = datasets['chip_name'].value_counts().plot.pie(y=\"chip\", figsize=(8,8), shadow=True, startangle=45, rotatelabels=45, autopct='%1.1f%%')"
   ]
  },
  {
   "cell_type": "markdown",
   "id": "1d59897e-d4be-4577-a895-327575f7eee2",
   "metadata": {},
   "source": [
    "<a id='samples-composition'></a>\n",
    "## Samples composition\n",
    "<a id='foreground-background-samples-sheep'></a>\n",
    "### Foreground / Background samples for sheep\n",
    "Ok get the *background/foreground* sheep samples. Two queries since the type is a `Dataset` property:"
   ]
  },
  {
   "cell_type": "code",
   "execution_count": null,
   "id": "00530173-984e-4e4d-b387-822202522041",
   "metadata": {},
   "outputs": [],
   "source": [
    "foreground_sheeps = SampleSheep.objects.filter(dataset__in=Dataset.objects.filter(type_=\"foreground\")).fields(country=True, breed=True, chip_name=True, locations=True)\n",
    "background_sheeps = SampleSheep.objects.filter(dataset__in=Dataset.objects.filter(type_=\"background\")).fields(country=True, breed=True, chip_name=True, locations=True)\n",
    "samples_sheep = pd.Series({\"foreground\": foreground_sheeps.count(), \"background\": background_sheeps.count()}, name=\"Sheeps\")\n",
    "plot = samples_sheep.plot.pie(y=\"Sheeps\", figsize=(8,8), shadow=True, rotatelabels=45, autopct='%1.1f%%')"
   ]
  },
  {
   "cell_type": "markdown",
   "id": "acd09527-6075-4c5b-86d2-0dfa3d9c95ee",
   "metadata": {},
   "source": [
    "Most of the data we have comes from the background dataset. Where are samples locations? where are *background / foreground* data? Read data from database and them add a geometry feature for `GeoDataFrame`:"
   ]
  },
  {
   "cell_type": "code",
   "execution_count": null,
   "id": "58353886-f4d7-4a7e-973d-45c29aef015a",
   "metadata": {},
   "outputs": [],
   "source": [
    "tmp = foreground_sheeps.to_json()\n",
    "foreground_sheeps = pd.read_json(tmp).dropna(thresh=1, axis=1)\n",
    "tmp = background_sheeps.to_json()\n",
    "background_sheeps = pd.read_json(tmp).dropna(thresh=1, axis=1)\n",
    "\n",
    "foreground_sheeps = fix_id(foreground_sheeps)\n",
    "background_sheeps = fix_id(background_sheeps)\n",
    "\n",
    "foreground_sheeps = add_geometry(foreground_sheeps)\n",
    "background_sheeps = add_geometry(background_sheeps)"
   ]
  },
  {
   "cell_type": "markdown",
   "id": "89a65840-b574-4564-83a8-2de1d1dbbfa4",
   "metadata": {},
   "source": [
    "Next, we need to get the world boundary features:"
   ]
  },
  {
   "cell_type": "code",
   "execution_count": null,
   "id": "39ff2fd8-d07f-4280-b65c-590769cc1900",
   "metadata": {},
   "outputs": [],
   "source": [
    "world = gpd.read_file(gpd.datasets.get_path('naturalearth_lowres'))"
   ]
  },
  {
   "cell_type": "markdown",
   "id": "af33a2d0-d288-4e56-8fc9-9d64d66751a4",
   "metadata": {},
   "source": [
    "Now convert `DataFrame` to `GeoDataFrame`. Clearly state the *coordinate system* which is *WGS84 (EPSG:4326)*:"
   ]
  },
  {
   "cell_type": "code",
   "execution_count": null,
   "id": "324b5381-5ff1-4b4c-ba23-569d77b11300",
   "metadata": {},
   "outputs": [],
   "source": [
    "background_sheeps = gpd.GeoDataFrame(background_sheeps, crs=\"EPSG:4326\")\n",
    "background_sheeps = background_sheeps.set_crs(world.crs)\n",
    "\n",
    "foreground_sheeps = gpd.GeoDataFrame(foreground_sheeps, crs=\"EPSG:4326\")\n",
    "foreground_sheeps = foreground_sheeps.set_crs(world.crs)"
   ]
  },
  {
   "cell_type": "markdown",
   "id": "e61ebf23-3f76-461c-9929-59c0942f2c3b",
   "metadata": {},
   "source": [
    "Now draw background and foreground sheeps in a picture:"
   ]
  },
  {
   "cell_type": "code",
   "execution_count": null,
   "id": "9f4feb9b-43d6-4874-833c-745e3496309f",
   "metadata": {},
   "outputs": [],
   "source": [
    "fig, ax = plt.subplots(figsize=(20,20))\n",
    "ax.set_aspect('equal')\n",
    "world.plot(ax=ax, color='white', edgecolor='gray')\n",
    "plot = foreground_sheeps.plot(ax=ax, marker='o', color='red', markersize=5, label=\"foreground\")\n",
    "plot = background_sheeps.plot(ax=ax, marker='x', color='blue', markersize=5, label=\"background\")\n",
    "plot = ax.legend()\n",
    "_ = plt.title(\"SMARTER Sheep Samples\")"
   ]
  },
  {
   "cell_type": "markdown",
   "id": "7a43aa07-76aa-4ca7-97c4-b4b4320377da",
   "metadata": {},
   "source": [
    "<a id='foreground-background-samples-goat'></a>\n",
    "### Foreground / Background samples for goat"
   ]
  },
  {
   "cell_type": "code",
   "execution_count": null,
   "id": "655b5488-d082-4cea-b16d-69a1e37ae0b7",
   "metadata": {},
   "outputs": [],
   "source": [
    "foreground_goats = SampleGoat.objects.filter(dataset__in=Dataset.objects.filter(type_=\"foreground\")).fields(country=True, breed=True, chip_name=True, locations=True)\n",
    "background_goats = SampleGoat.objects.filter(dataset__in=Dataset.objects.filter(type_=\"background\")).fields(country=True, breed=True, chip_name=True, locations=True)\n",
    "samples_goat = pd.Series({\"foreground\": foreground_goats.count(), \"background\": background_goats.count()}, name=\"Goats\")\n",
    "plot = samples_goat.plot.pie(y=\"Goat\", figsize=(8,8), shadow=True, rotatelabels=45, autopct='%1.1f%%')"
   ]
  },
  {
   "cell_type": "code",
   "execution_count": null,
   "id": "cf065c7b-797d-495b-a69f-9638e92a0454",
   "metadata": {},
   "outputs": [],
   "source": [
    "tmp = foreground_goats.to_json()\n",
    "foreground_goats = pd.read_json(tmp).dropna(thresh=1, axis=1)\n",
    "tmp = background_goats.to_json()\n",
    "background_goats = pd.read_json(tmp).dropna(thresh=1, axis=1)\n",
    "\n",
    "foreground_goats = fix_id(foreground_goats)\n",
    "background_goats = fix_id(background_goats)\n",
    "\n",
    "foreground_goats = add_geometry(foreground_goats)\n",
    "background_goats = add_geometry(background_goats)"
   ]
  },
  {
   "cell_type": "code",
   "execution_count": null,
   "id": "0eabfc20-47bc-4de4-89a7-aebc569c70f1",
   "metadata": {},
   "outputs": [],
   "source": [
    "background_goats = gpd.GeoDataFrame(background_goats, crs=\"EPSG:4326\")\n",
    "background_goats = background_goats.set_crs(world.crs)\n",
    "\n",
    "foreground_goats = gpd.GeoDataFrame(foreground_goats, crs=\"EPSG:4326\")\n",
    "foreground_goats = foreground_goats.set_crs(world.crs)"
   ]
  },
  {
   "cell_type": "code",
   "execution_count": null,
   "id": "cb809d3c-b388-43ad-a7cd-e8f10802f1fd",
   "metadata": {},
   "outputs": [],
   "source": [
    "fig, ax = plt.subplots(figsize=(20,20))\n",
    "ax.set_aspect('equal')\n",
    "world.plot(ax=ax, color='white', edgecolor='gray')\n",
    "plot = foreground_goats.plot(ax=ax, marker='o', color='red', markersize=5, label=\"foreground\")\n",
    "plot = background_goats.plot(ax=ax, marker='x', color='blue', markersize=5, label=\"background\")\n",
    "plot = ax.legend()\n",
    "_ = plt.title(\"SMARTER Goat Samples\")"
   ]
  },
  {
   "cell_type": "code",
   "execution_count": null,
   "id": "0f71dc8c-b9c9-404a-a53a-87f7415c147a",
   "metadata": {},
   "outputs": [],
   "source": []
  }
 ],
 "metadata": {
  "kernelspec": {
   "display_name": "Python 3",
   "language": "python",
   "name": "python3"
  },
  "language_info": {
   "codemirror_mode": {
    "name": "ipython",
    "version": 3
   },
   "file_extension": ".py",
   "mimetype": "text/x-python",
   "name": "python",
   "nbconvert_exporter": "python",
   "pygments_lexer": "ipython3",
   "version": "3.9.1"
  }
 },
 "nbformat": 4,
 "nbformat_minor": 5
}
