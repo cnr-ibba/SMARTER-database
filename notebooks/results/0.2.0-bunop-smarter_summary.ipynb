{
 "cells": [
  {
   "cell_type": "markdown",
   "id": "3cc84f47-db82-43eb-99fd-78768ecd2a99",
   "metadata": {},
   "source": [
    "# SMARTER SUMMARY (2022/09/26)\n",
    "* [Dataset composition](#datasets-composition)\n",
    "    - [Foreground / background datasets](#foreground-vs-background-datasets)\n",
    "    - [Datasets by chip type](#datasets-by-chip-type)\n",
    "* [Samples composition](#samples-composition)\n",
    "    - [Foreground / background samples for sheep](#foreground-background-samples-sheep)\n",
    "    - [Sheep samples by chip type](#sheep-sample-by-chip-type)\n",
    "    - [Sheep sample locations](#sheep-sample-locations)\n",
    "    - [Foreground / background samples for goat](#foreground-background-samples-goat)\n",
    "        - [Grece foreground goat data](#greece-foreground-goat-data)\n",
    "        - [Sweden foreground goat data](#sweden-foreground-goat-data)"
   ]
  },
  {
   "cell_type": "code",
   "execution_count": null,
   "id": "c19ca423-c3d1-40e5-9e76-3b9779b322a5",
   "metadata": {},
   "outputs": [],
   "source": [
    "from collections import defaultdict\n",
    "import pandas as pd\n",
    "import matplotlib.pyplot as plt\n",
    "from shapely.geometry import Point\n",
    "import geopandas as gpd\n",
    "import pycountry\n",
    "from mpl_toolkits.axes_grid1 import make_axes_locatable\n",
    "\n",
    "from src.features.smarterdb import global_connection, Dataset, SampleSheep, SampleGoat\n",
    "\n",
    "conn = global_connection()\n",
    "\n",
    "def fix_id(df: pd.DataFrame):\n",
    "    \"\"\"Parse id and make index\"\"\"\n",
    "    df['_id'] = df['_id'].apply(lambda val: val['$oid'])\n",
    "    df = df.set_index(\"_id\")\n",
    "    return df\n",
    "\n",
    "def add_geometry(df: pd.DataFrame):\n",
    "    \"\"\"Add a geometry column from locations\"\"\"\n",
    "    \n",
    "    def get_geometry(value):\n",
    "        if isinstance(value, dict):\n",
    "            return Point(*value['coordinates'][0])\n",
    "        return value\n",
    "\n",
    "    df['geometry'] = df['locations'].apply(get_geometry)\n",
    "    return df"
   ]
  },
  {
   "cell_type": "markdown",
   "id": "13db17a0-7abb-4288-ba0d-d48cdb7f1477",
   "metadata": {},
   "source": [
    "<a id='datasets-composition'></a>\n",
    "## Dataset composition\n",
    "Read datasets informations and try to describe how many *background/foreground* data we have"
   ]
  },
  {
   "cell_type": "code",
   "execution_count": null,
   "id": "ec75f2a7-594f-44cb-b011-bb584cbe6284",
   "metadata": {},
   "outputs": [],
   "source": [
    "tmp = Dataset.objects.filter(type_=\"genotypes\").to_json()\n",
    "datasets = pd.read_json(tmp).dropna(thresh=1, axis=1)\n",
    "datasets['type'] = datasets['type'].apply(lambda val: val[1])\n",
    "datasets = fix_id(datasets)\n",
    "datasets[['breed', 'country', 'species', 'type', 'partner', 'chip_name', 'n_of_individuals']]"
   ]
  },
  {
   "cell_type": "markdown",
   "id": "99ac1869-bc0e-42e7-b4fd-0ce723b1fb2d",
   "metadata": {},
   "source": [
    "<a id='foreground-vs-background-datasets'></a>\n",
    "### Foreground / background datasets\n",
    "Plotting *foreground* VS *background* datasets:"
   ]
  },
  {
   "cell_type": "code",
   "execution_count": null,
   "id": "60b714f1-b09b-4cc8-928a-3f533377ea77",
   "metadata": {},
   "outputs": [],
   "source": [
    "plot = datasets.value_counts(\"type\").plot.pie(y=\"type\", figsize=(8,8), shadow=True, startangle=45, rotatelabels=45, autopct='%1.1f%%')\n",
    "_ = plt.title(\"Foreground vs Background genotype datasets\")\n",
    "plt.ylabel(None)\n",
    "plt.savefig('smarter-fgVsbg-datasets.png', dpi=300, bbox_inches='tight')\n",
    "plt.show()"
   ]
  },
  {
   "cell_type": "markdown",
   "id": "1e965f4f-7331-4e99-9e37-9ec14e0d8b0f",
   "metadata": {},
   "source": [
    "<a id='datasets-by-chip-type'></a>\n",
    "### Datasets by chip type\n",
    "Plotting datasets by *chip type*:"
   ]
  },
  {
   "cell_type": "code",
   "execution_count": null,
   "id": "88aadfb5-05c2-49ec-9078-a6bb6b233bc2",
   "metadata": {},
   "outputs": [],
   "source": [
    "plot = datasets['chip_name'].value_counts().plot.pie(y=\"chip\", figsize=(8,8), shadow=True, startangle=45, rotatelabels=45, autopct='%1.1f%%')\n",
    "_ = plt.title(\"Datasets by chip type\")\n",
    "plt.ylabel(None)\n",
    "plt.savefig('smarter-datasets-by-chips.png', dpi=300, bbox_inches='tight')\n",
    "plt.show()"
   ]
  },
  {
   "cell_type": "markdown",
   "id": "1d59897e-d4be-4577-a895-327575f7eee2",
   "metadata": {},
   "source": [
    "<a id='samples-composition'></a>\n",
    "## Samples composition\n",
    "<a id='foreground-background-samples-sheep'></a>\n",
    "### Foreground / Background samples for sheep\n",
    "Ok get the *background/foreground* sheep samples. Two queries since the type is a `Dataset` property:"
   ]
  },
  {
   "cell_type": "code",
   "execution_count": null,
   "id": "00530173-984e-4e4d-b387-822202522041",
   "metadata": {},
   "outputs": [],
   "source": [
    "foreground_sheeps = SampleSheep.objects.filter(type_=\"foreground\").fields(country=True, breed=True, chip_name=True, locations=True)\n",
    "background_sheeps = SampleSheep.objects.filter(type_=\"background\").fields(country=True, breed=True, chip_name=True, locations=True)\n",
    "samples_sheep = pd.Series({\"foreground\": foreground_sheeps.count(), \"background\": background_sheeps.count()}, name=\"Sheeps\")\n",
    "plot = samples_sheep.plot.pie(y=\"Sheeps\", figsize=(8,8), shadow=True, startangle=90, rotatelabels=45, autopct='%1.1f%%')\n",
    "_ = plt.title(\"Background VS Foreground sheeps\")\n",
    "plt.ylabel(None)\n",
    "plt.savefig('sheep-foreground-vs-background-pie.png', dpi=300, bbox_inches='tight')\n",
    "plt.show()"
   ]
  },
  {
   "cell_type": "markdown",
   "id": "acd09527-6075-4c5b-86d2-0dfa3d9c95ee",
   "metadata": {},
   "source": [
    "Most of the data we have comes from the foreground datasets (after last inserts)."
   ]
  },
  {
   "cell_type": "markdown",
   "id": "b770e154-70b5-4017-9949-30e82ac10171",
   "metadata": {},
   "source": [
    "<a id='sheep-sample-by-chip-type'></a>\n",
    "### Sheep samples by chip type\n",
    "Try to determine the sample composition by chip type:"
   ]
  },
  {
   "cell_type": "code",
   "execution_count": null,
   "id": "74aab105-c016-4a98-9d7d-c30fe7d90830",
   "metadata": {},
   "outputs": [],
   "source": [
    "sheep_by_chip = defaultdict(list)\n",
    "for chip_name in SampleSheep.objects.distinct(\"chip_name\"):\n",
    "    sheep_by_chip['chip_name'].append(chip_name) \n",
    "    sheep_by_chip['count'].append(SampleSheep.objects.filter(chip_name=chip_name).count())\n",
    "sheep_by_chip = pd.DataFrame.from_dict(sheep_by_chip).set_index(\"chip_name\")"
   ]
  },
  {
   "cell_type": "code",
   "execution_count": null,
   "id": "ce0752ed-af14-4848-8479-7d1fe6b4a969",
   "metadata": {},
   "outputs": [],
   "source": [
    "sheep_by_chip.plot.pie(y=\"count\", figsize=(8,8), shadow=True, startangle=-45, rotatelabels=45, autopct='%1.1f%%', legend=False)\n",
    "_ = plt.title(\"Sheep samples by chip type\")\n",
    "plt.ylabel(None)\n",
    "plt.show()"
   ]
  },
  {
   "cell_type": "markdown",
   "id": "0523c150-7b6a-4e1d-b3d3-a46d52b786c3",
   "metadata": {},
   "source": [
    "<a id='sheep-sample-locations'></a>\n",
    "### Sheep sample locations\n",
    "Where are samples located? where are *background / foreground* data? Read data from database and them add a geometry feature for `GeoDataFrame`:"
   ]
  },
  {
   "cell_type": "code",
   "execution_count": null,
   "id": "58353886-f4d7-4a7e-973d-45c29aef015a",
   "metadata": {},
   "outputs": [],
   "source": [
    "tmp = foreground_sheeps.to_json()\n",
    "foreground_sheeps = pd.read_json(tmp).dropna(axis=0)\n",
    "tmp = background_sheeps.to_json()\n",
    "background_sheeps = pd.read_json(tmp).dropna(axis=0)\n",
    "\n",
    "foreground_sheeps = fix_id(foreground_sheeps)\n",
    "background_sheeps = fix_id(background_sheeps)\n",
    "\n",
    "foreground_sheeps = add_geometry(foreground_sheeps)\n",
    "background_sheeps = add_geometry(background_sheeps)"
   ]
  },
  {
   "cell_type": "markdown",
   "id": "89a65840-b574-4564-83a8-2de1d1dbbfa4",
   "metadata": {},
   "source": [
    "Next, we need to get the world boundary features:"
   ]
  },
  {
   "cell_type": "code",
   "execution_count": null,
   "id": "39ff2fd8-d07f-4280-b65c-590769cc1900",
   "metadata": {},
   "outputs": [],
   "source": [
    "world = gpd.read_file(gpd.datasets.get_path('naturalearth_lowres'))"
   ]
  },
  {
   "cell_type": "markdown",
   "id": "af33a2d0-d288-4e56-8fc9-9d64d66751a4",
   "metadata": {},
   "source": [
    "Now convert `DataFrame` to `GeoDataFrame`. Clearly state the *coordinate system* which is *WGS84 (EPSG:4326)*:"
   ]
  },
  {
   "cell_type": "code",
   "execution_count": null,
   "id": "324b5381-5ff1-4b4c-ba23-569d77b11300",
   "metadata": {},
   "outputs": [],
   "source": [
    "background_sheeps = gpd.GeoDataFrame(background_sheeps, crs=\"EPSG:4326\")\n",
    "background_sheeps = background_sheeps.set_crs(world.crs)\n",
    "\n",
    "foreground_sheeps = gpd.GeoDataFrame(foreground_sheeps, crs=\"EPSG:4326\")\n",
    "foreground_sheeps = foreground_sheeps.set_crs(world.crs)"
   ]
  },
  {
   "cell_type": "markdown",
   "id": "e61ebf23-3f76-461c-9929-59c0942f2c3b",
   "metadata": {},
   "source": [
    "Now draw background and foreground sheeps in a picture:"
   ]
  },
  {
   "cell_type": "code",
   "execution_count": null,
   "id": "9f4feb9b-43d6-4874-833c-745e3496309f",
   "metadata": {},
   "outputs": [],
   "source": [
    "fig, ax = plt.subplots(figsize=(20,20))\n",
    "ax.set_aspect('equal')\n",
    "world.plot(ax=ax, color='white', edgecolor='gray')\n",
    "plot = foreground_sheeps.plot(ax=ax, marker='o', color='red', markersize=5, label=\"foreground\")\n",
    "plot = background_sheeps.plot(ax=ax, marker='x', color='blue', markersize=5, label=\"background\")\n",
    "plot = ax.legend()\n",
    "_ = plt.title(\"SMARTER Sheep Samples\")\n",
    "plt.savefig('sheep-foreground-vs-background-map.png', dpi=300, bbox_inches='tight')\n",
    "plt.show()"
   ]
  },
  {
   "cell_type": "code",
   "execution_count": null,
   "id": "59661892-0045-4fa9-8a3b-18d91c03e97e",
   "metadata": {},
   "outputs": [],
   "source": [
    "fig, ax = plt.subplots(figsize=(20,20))\n",
    "world.plot(ax=ax, color='white', edgecolor='gray')\n",
    "plot = foreground_sheeps.plot(ax=ax, marker='o', color='red', markersize=5, label=\"foreground\")\n",
    "plot = background_sheeps.plot(ax=ax, marker='x', color='blue', markersize=5, label=\"background\")\n",
    "plot = ax.legend()\n",
    "_ = plt.title(\"SMARTER Sheep Samples foreground\")\n",
    "_ = plt.xlim([10,140])\n",
    "_ = plt.ylim([10, 75])\n",
    "plt.savefig('sheep-foreground.png', dpi=300, bbox_inches='tight')\n",
    "plt.show()"
   ]
  },
  {
   "cell_type": "markdown",
   "id": "7a43aa07-76aa-4ca7-97c4-b4b4320377da",
   "metadata": {},
   "source": [
    "<a id='foreground-background-samples-goat'></a>\n",
    "### Foreground / Background samples for goat"
   ]
  },
  {
   "cell_type": "code",
   "execution_count": null,
   "id": "655b5488-d082-4cea-b16d-69a1e37ae0b7",
   "metadata": {},
   "outputs": [],
   "source": [
    "foreground_goats = SampleGoat.objects.filter(dataset__in=Dataset.objects.filter(type_=\"foreground\")).fields(country=True, breed=True, chip_name=True, locations=True, metadata=True)\n",
    "background_goats = SampleGoat.objects.filter(dataset__in=Dataset.objects.filter(type_=\"background\")).fields(country=True, breed=True, chip_name=True, locations=True, metadata=True)\n",
    "samples_goat = pd.Series({\"foreground\": foreground_goats.count(), \"background\": background_goats.count()}, name=\"Goats\")\n",
    "plot = samples_goat.plot.pie(y=\"Goat\", figsize=(8,8), shadow=True, rotatelabels=45, autopct='%1.1f%%')\n",
    "_ = plt.title(\"Background VS Foreground goats\")\n",
    "plt.ylabel(None)\n",
    "plt.savefig('goat-foreground-vs-background-pie.png', dpi=300, bbox_inches='tight')\n",
    "plt.show()"
   ]
  },
  {
   "cell_type": "code",
   "execution_count": null,
   "id": "cf065c7b-797d-495b-a69f-9638e92a0454",
   "metadata": {},
   "outputs": [],
   "source": [
    "tmp = foreground_goats.to_json()\n",
    "foreground_goats = pd.read_json(tmp).dropna(thresh=1, axis=1)\n",
    "tmp = background_goats.to_json()\n",
    "background_goats = pd.read_json(tmp).dropna(thresh=1, axis=1)\n",
    "\n",
    "foreground_goats = fix_id(foreground_goats)\n",
    "background_goats = fix_id(background_goats)\n",
    "\n",
    "foreground_goats = add_geometry(foreground_goats)\n",
    "background_goats = add_geometry(background_goats)"
   ]
  },
  {
   "cell_type": "code",
   "execution_count": null,
   "id": "0eabfc20-47bc-4de4-89a7-aebc569c70f1",
   "metadata": {},
   "outputs": [],
   "source": [
    "background_goats = gpd.GeoDataFrame(background_goats, crs=\"EPSG:4326\")\n",
    "background_goats = background_goats.set_crs(world.crs)\n",
    "\n",
    "foreground_goats = gpd.GeoDataFrame(foreground_goats, crs=\"EPSG:4326\")\n",
    "foreground_goats = foreground_goats.set_crs(world.crs)"
   ]
  },
  {
   "cell_type": "code",
   "execution_count": null,
   "id": "cb809d3c-b388-43ad-a7cd-e8f10802f1fd",
   "metadata": {},
   "outputs": [],
   "source": [
    "fig, ax = plt.subplots(figsize=(20,20))\n",
    "ax.set_aspect('equal')\n",
    "world.plot(ax=ax, color='white', edgecolor='gray')\n",
    "plot = foreground_goats.plot(ax=ax, marker='o', color='red', markersize=5, label=\"foreground\")\n",
    "plot = background_goats.plot(ax=ax, marker='x', color='blue', markersize=5, label=\"background\")\n",
    "plot = ax.legend()\n",
    "_ = plt.title(\"SMARTER Goat Samples\")\n",
    "plt.savefig('goat-foreground-vs-background-map.png', dpi=300, bbox_inches='tight')\n",
    "plt.show()"
   ]
  },
  {
   "cell_type": "markdown",
   "id": "2592fccf-4db1-4f30-8e1d-6b82b3c8858d",
   "metadata": {},
   "source": [
    "<a id='greece-foreground-goat-data'></a>\n",
    "#### Greece foreground goat data"
   ]
  },
  {
   "cell_type": "code",
   "execution_count": null,
   "id": "0f71dc8c-b9c9-404a-a53a-87f7415c147a",
   "metadata": {},
   "outputs": [],
   "source": [
    "fig, ax = plt.subplots(figsize=(20,20))\n",
    "world[world.continent == \"Europe\"].plot(ax=ax, color='white', edgecolor='gray')\n",
    "plot = foreground_goats.plot(ax=ax, marker='o', color='red', markersize=5, label=\"foreground\")\n",
    "plot = background_goats.plot(ax=ax, marker='x', color='blue', markersize=5, label=\"background\")\n",
    "plot = ax.legend()\n",
    "_ = plt.title(\"SMARTER Goat Samples foreground\")\n",
    "_ = plt.xlim([15,35])\n",
    "_ = plt.ylim([30, 50])\n",
    "plt.savefig('greece-goat-foreground.png', dpi=300, bbox_inches='tight')\n",
    "plt.show()"
   ]
  },
  {
   "cell_type": "markdown",
   "id": "32178920-df53-4bcb-b850-d00fd3f09024",
   "metadata": {},
   "source": [
    "<a id='sweden-foreground-goat-data'></a>\n",
    "#### Sweden foreground goat data"
   ]
  },
  {
   "cell_type": "code",
   "execution_count": null,
   "id": "fe94815e-d8e6-4d31-a333-4037e0e54cb2",
   "metadata": {},
   "outputs": [],
   "source": [
    "fig, ax = plt.subplots(figsize=(20,20))\n",
    "world[world.continent == \"Europe\"].plot(ax=ax, color='white', edgecolor='gray')\n",
    "plot = foreground_goats.plot(ax=ax, marker='o', color='red', markersize=5, label=\"foreground\")\n",
    "plot = background_goats.plot(ax=ax, marker='x', color='blue', markersize=5, label=\"background\")\n",
    "plot = ax.legend()\n",
    "_ = plt.title(\"SMARTER Goat Samples foreground\")\n",
    "_ = plt.xlim([0,30])\n",
    "_ = plt.ylim([50, 70])\n",
    "plt.savefig('sweden-goat-foreground.png', dpi=300, bbox_inches='tight')\n",
    "plt.show()"
   ]
  },
  {
   "cell_type": "code",
   "execution_count": null,
   "id": "ac4bff84-34c1-4526-898e-b6dfe93b1148",
   "metadata": {},
   "outputs": [],
   "source": [
    "foreground_goats['region'] = foreground_goats[foreground_goats.country == \"Greece\"]['metadata'].apply(lambda metadata: metadata['region'])"
   ]
  },
  {
   "cell_type": "code",
   "execution_count": null,
   "id": "e49a15de-a54c-427e-aed6-62c93bc9fe74",
   "metadata": {},
   "outputs": [],
   "source": [
    "foreground_goats.value_counts('region')"
   ]
  },
  {
   "cell_type": "markdown",
   "id": "8c3c128e-f8a7-47fd-812b-89266bcec1ca",
   "metadata": {},
   "source": [
    "## Draw samples by countries\n",
    "### Sheep by country"
   ]
  },
  {
   "cell_type": "markdown",
   "id": "0fe82880-0183-4706-b809-c29db84f9fe7",
   "metadata": {},
   "source": [
    "Collect all sheep samples in a dataframe. Fix *ISO3* codes"
   ]
  },
  {
   "cell_type": "code",
   "execution_count": null,
   "id": "bfef48b4-efc2-4fee-b272-1d4cb6b486c1",
   "metadata": {},
   "outputs": [],
   "source": [
    "all_sheeps = pd.concat([foreground_sheeps, background_sheeps], axis=0)\n",
    "sheeps_by_country = all_sheeps.value_counts('country')\n",
    "sheeps_by_country = pd.DataFrame(data=sheeps_by_country, columns=['count']).reset_index()\n",
    "sheeps_by_country['iso_a3'] = sheeps_by_country['country'].apply(lambda country: pycountry.countries.search_fuzzy(country)[0].alpha_3)"
   ]
  },
  {
   "cell_type": "markdown",
   "id": "2a556294-6657-4352-9920-4ddc00f76939",
   "metadata": {},
   "source": [
    "Now fix *ISO3* on world dataset. Then merge dataframe on *ISO3*. Cast to a `GeoDataFrame`"
   ]
  },
  {
   "cell_type": "code",
   "execution_count": null,
   "id": "d2a1c513-e5c0-4398-850f-80ab0f5b0087",
   "metadata": {},
   "outputs": [],
   "source": [
    "def fix_iso_a3(name, iso_a3):\n",
    "    if iso_a3 == '-99':\n",
    "        try:\n",
    "            return pycountry.countries.search_fuzzy(name.split()[-1])[0].alpha_3\n",
    "        except LookupError:\n",
    "            return \"-99\"\n",
    "    else:\n",
    "        return iso_a3\n",
    "    \n",
    "world['iso_a3'] = world[['name', 'iso_a3']].apply(lambda df: fix_iso_a3(df['name'], df['iso_a3']), axis=1)\n",
    "sheeps_by_country = pd.merge(sheeps_by_country, world, how=\"outer\", on='iso_a3')[['country', 'iso_a3', 'continent', 'geometry', 'count']]\n",
    "sheeps_by_country = gpd.GeoDataFrame(sheeps_by_country)"
   ]
  },
  {
   "cell_type": "markdown",
   "id": "9c9bb45f-162a-4481-b59c-477d449d7f74",
   "metadata": {},
   "source": [
    "Now draw a chloroplet map using `matplotlib`:"
   ]
  },
  {
   "cell_type": "code",
   "execution_count": null,
   "id": "b915c977-de8f-4aa5-9e25-a57ab24d6db9",
   "metadata": {},
   "outputs": [],
   "source": [
    "fig, ax = plt.subplots(figsize=(20,20))\n",
    "divider = make_axes_locatable(ax)\n",
    "cax = divider.append_axes(\"right\", size=\"5%\", pad=0.1)\n",
    "plot = sheeps_by_country.plot(\n",
    "    column='count', \n",
    "    ax=ax, \n",
    "    legend=True, \n",
    "    cax=cax,\n",
    "    missing_kwds={\"color\": \"lightgrey\", \"label\": \"Missing values\"})\n",
    "_ = ax.set_title(\"SMARTER Sheep Samples by country\")\n",
    "plt.savefig('sheep-by-country.png', dpi=300, bbox_inches='tight')\n",
    "plt.show()"
   ]
  },
  {
   "cell_type": "markdown",
   "id": "f4dcb1c3-3420-4122-a14a-62e7d12297be",
   "metadata": {},
   "source": [
    "### Goat by country"
   ]
  },
  {
   "cell_type": "code",
   "execution_count": null,
   "id": "2102c053-8030-4878-8288-a0611c859e8a",
   "metadata": {},
   "outputs": [],
   "source": [
    "all_goats = pd.concat([foreground_goats, background_goats], axis=0)\n",
    "goats_by_country = all_goats.value_counts('country')\n",
    "goats_by_country = pd.DataFrame(data=goats_by_country, columns=['count']).reset_index()\n",
    "goats_by_country['iso_a3'] = goats_by_country['country'].apply(lambda country: pycountry.countries.search_fuzzy(country)[0].alpha_3)"
   ]
  },
  {
   "cell_type": "code",
   "execution_count": null,
   "id": "30b33efc-b611-45c0-96a4-edaca2072ef1",
   "metadata": {},
   "outputs": [],
   "source": [
    "goats_by_country = pd.merge(goats_by_country, world, how=\"outer\", on='iso_a3')[['country', 'iso_a3', 'continent', 'geometry', 'count']]\n",
    "goats_by_country = gpd.GeoDataFrame(goats_by_country)"
   ]
  },
  {
   "cell_type": "code",
   "execution_count": null,
   "id": "76caeedd-a6ad-4803-99d2-a17f9fd9836b",
   "metadata": {},
   "outputs": [],
   "source": [
    "fig, ax = plt.subplots(figsize=(20,20))\n",
    "divider = make_axes_locatable(ax)\n",
    "cax = divider.append_axes(\"right\", size=\"5%\", pad=0.1)\n",
    "plot = goats_by_country.plot(\n",
    "    column='count', \n",
    "    ax=ax, \n",
    "    legend=True, \n",
    "    cax=cax,\n",
    "    missing_kwds={\"color\": \"lightgrey\", \"label\": \"Missing values\"})\n",
    "_ = ax.set_title(\"SMARTER Goat Samples by country\")\n",
    "plt.savefig('goat-by-country.png', dpi=300, bbox_inches='tight')\n",
    "plt.show()"
   ]
  },
  {
   "cell_type": "code",
   "execution_count": null,
   "id": "684399a7-a88f-44db-a98a-b5b1400ba4cf",
   "metadata": {},
   "outputs": [],
   "source": []
  }
 ],
 "metadata": {
  "kernelspec": {
   "display_name": "Python 3",
   "language": "python",
   "name": "python3"
  },
  "language_info": {
   "codemirror_mode": {
    "name": "ipython",
    "version": 3
   },
   "file_extension": ".py",
   "mimetype": "text/x-python",
   "name": "python",
   "nbconvert_exporter": "python",
   "pygments_lexer": "ipython3",
   "version": "3.9.1"
  }
 },
 "nbformat": 4,
 "nbformat_minor": 5
}
