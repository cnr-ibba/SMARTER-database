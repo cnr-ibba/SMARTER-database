{
 "cells": [
  {
   "cell_type": "markdown",
   "metadata": {},
   "source": [
    "## calculate the intra-*breed* distances and performing outlier analysis.\n",
    "\n",
    "### Detailed Procedure\n",
    "\n",
    "1. **Intra-*breed* Distance Calculation**:\n",
    "   - For each *breed*, we extract the distances between individuals belonging to that same group.\n",
    "   - We then calculate the mean \\($\\mu$\\) and the standard deviation \\($\\sigma$\\) of the distances between individuals of the same *breed*.\n",
    "   \n",
    "2. **Identification of Potential *Crossbreeds***:\n",
    "   - For each individual, we calculate the average distance between them and other members of their *breed*.\n",
    "   - If an individual’s average distance from their *breed* exceeds the overall intra-*breed* distance mean (for example, above \\($\\mu + 2\\sigma $\\)), then that individual is considered a potential *crossbreed*.\n",
    "\n",
    "3. **Step-by-Step Algorithm**:\n",
    "   - **Input**: Distance matrix \\( D \\), individuals’ breed assignments.\n",
    "   - **Output**: List of individuals potentially *crossbreeds* or assigned to the wrong *breed*."
   ]
  },
  {
   "cell_type": "code",
   "execution_count": 1,
   "metadata": {},
   "outputs": [],
   "source": [
    "import pandas as pd\n",
    "import numpy as np\n",
    "from sklearn.manifold import TSNE\n",
    "import matplotlib.pyplot as plt\n",
    "\n",
    "from src.features.utils import get_interim_dir"
   ]
  },
  {
   "cell_type": "code",
   "execution_count": 2,
   "metadata": {},
   "outputs": [],
   "source": [
    "ibs_data = pd.read_table(get_interim_dir() / 'SMARTER-OA-OAR3-top-0.4.10/SMARTER-OA-OAR3-top-0.4.10.mibs.gz', header=None)\n",
    "sample_names = pd.read_table(get_interim_dir() / 'SMARTER-OA-OAR3-top-0.4.10/SMARTER-OA-OAR3-top-0.4.10.mibs.id', header=None, names=['breed', \"sample\"])\n",
    "distance_matrix = 1 - ibs_data\n",
    "\n",
    "# assign names to the distance matrix\n",
    "individuals = sample_names[\"sample\"].tolist()\n",
    "distance_matrix.index = individuals\n",
    "distance_matrix.columns = individuals"
   ]
  },
  {
   "cell_type": "code",
   "execution_count": null,
   "metadata": {},
   "outputs": [],
   "source": [
    "# Now we have the distance matrix and the corresponding sample IDs\n",
    "print(f\"Distance matrix shape: {distance_matrix.shape}\")\n",
    "print(f\"Number of samples: {len(individuals)}\")"
   ]
  },
  {
   "cell_type": "code",
   "execution_count": 4,
   "metadata": {},
   "outputs": [],
   "source": [
    "# Function to calculate intra-breed distances using an assignment DataFrame\n",
    "def calculate_intra_breed_stats_with_assignments(distance_df, assignment_df):\n",
    "    unique_breeds = assignment_df['breed'].unique()\n",
    "    breed_stats = {}\n",
    "\n",
    "    for breed in unique_breeds:\n",
    "        # Get the samples for a given breed\n",
    "        breed_samples = assignment_df[assignment_df['breed'] == breed]['sample'].values\n",
    "        breed_distances = distance_df.loc[breed_samples, breed_samples].values\n",
    "\n",
    "        # Extract only values above the diagonal (distances between distinct individuals)\n",
    "        upper_triangle_indices = np.triu_indices_from(breed_distances, k=1)\n",
    "        intra_breed_distances = breed_distances[upper_triangle_indices]\n",
    "\n",
    "        # Calculate mean and standard deviation\n",
    "        mean_distance = np.mean(intra_breed_distances)\n",
    "        std_distance = np.std(intra_breed_distances)\n",
    "\n",
    "        breed_stats[breed] = {\n",
    "            'mean_distance': mean_distance,\n",
    "            'std_distance': std_distance\n",
    "        }\n",
    "\n",
    "    return breed_stats\n",
    "\n",
    "# Function to identify potential crossbreeds using the assignment DataFrame\n",
    "def identify_outliers_with_assignments(distance_df, assignment_df, breed_stats, threshold=2):\n",
    "    outliers = []\n",
    "    for i, row in assignment_df.iterrows():\n",
    "        ind = row['sample']\n",
    "        breed = row['breed']\n",
    "\n",
    "        # Get other samples of the same breed (excluding the current individual)\n",
    "        breed_samples = assignment_df[(assignment_df['breed'] == breed) & (assignment_df['sample'] != ind)]['sample'].values\n",
    "        distances_to_breed = distance_df.loc[ind, breed_samples].values\n",
    "\n",
    "        # Calculate the mean distance to other individuals of the same breed\n",
    "        mean_distance_to_breed = np.mean(distances_to_breed)\n",
    "\n",
    "        # Compare with the intra-breed mean and standard deviation\n",
    "        mean_intra_breed = breed_stats[breed]['mean_distance']\n",
    "        std_intra_breed = breed_stats[breed]['std_distance']\n",
    "\n",
    "        if mean_distance_to_breed > mean_intra_breed + threshold * std_intra_breed:\n",
    "            outliers.append(ind)\n",
    "\n",
    "    return outliers"
   ]
  },
  {
   "cell_type": "code",
   "execution_count": null,
   "metadata": {},
   "outputs": [],
   "source": [
    "# Calculate the intra-breed statistics using the assignment DataFrame\n",
    "breed_stats_with_assignments = calculate_intra_breed_stats_with_assignments(distance_matrix, sample_names)\n",
    "\n",
    "# Identify potential crossbreeds with the assignment DataFrame\n",
    "outliers_with_assignments = identify_outliers_with_assignments(distance_matrix, sample_names, breed_stats_with_assignments)\n",
    "\n",
    "# Display results\n",
    "outliers_with_assignments, breed_stats_with_assignments\n"
   ]
  },
  {
   "cell_type": "code",
   "execution_count": 6,
   "metadata": {},
   "outputs": [],
   "source": [
    "# Impute NaN values with the mean of each row\n",
    "distance_df_imputed = distance_matrix.fillna(distance_matrix.mean())"
   ]
  },
  {
   "cell_type": "code",
   "execution_count": null,
   "metadata": {},
   "outputs": [],
   "source": [
    "# Perform t-SNE on the distance matrix with PCA initialization and reduced iterations\n",
    "tsne = TSNE(\n",
    "    n_components=2,          # Reduce data to 2 dimensions\n",
    "    perplexity=40,           # Adjust perplexity for large datasets (try values between 30-50)\n",
    "    max_iter=1000,             # Number of iterations, increase for better convergence\n",
    "    learning_rate=200,       # Higher learning rate for large datasets\n",
    "    init='pca',              # Initialize using PCA for faster convergence\n",
    "    metric='euclidean',      # Use Euclidean distance metric\n",
    "    random_state=42,         # For reproducibility\n",
    "    verbose=True             # Enable verbose output to track progress\n",
    ")\n",
    "tsne_results = tsne.fit_transform(distance_df_imputed)\n",
    "\n",
    "# Add t-SNE results to the sample_names DataFrame\n",
    "sample_names['tsne-1'] = tsne_results[:, 0]\n",
    "sample_names['tsne-2'] = tsne_results[:, 1]"
   ]
  },
  {
   "cell_type": "code",
   "execution_count": null,
   "metadata": {},
   "outputs": [],
   "source": [
    "# Find all unique breeds that have outliers\n",
    "outlier_breeds = sample_names[sample_names['sample'].isin(outliers_with_assignments)]['breed'].unique()\n",
    "\n",
    "# Display the unique outlier breeds\n",
    "outlier_breeds"
   ]
  },
  {
   "cell_type": "code",
   "execution_count": null,
   "metadata": {},
   "outputs": [],
   "source": [
    "# Create a scatter plot with t-SNE results\n",
    "plt.figure(figsize=(12, 8))\n",
    "\n",
    "# Plot all samples in gray\n",
    "plt.scatter(sample_names['tsne-1'], sample_names['tsne-2'], color='gray', alpha=0.05, s=10, label='_nolegend_')\n",
    "\n",
    "# Plot samples from breeds in `outlier_breeds`\n",
    "for breed in outlier_breeds:\n",
    "    breed_data = sample_names[sample_names['breed'] == breed]\n",
    "    plt.scatter(breed_data['tsne-1'], breed_data['tsne-2'], label=breed, alpha=0.7, s=30)\n",
    "\n",
    "# Highlight and color outliers with the same color as their breed, using the 'x' marker\n",
    "for breed in outlier_breeds:\n",
    "    outlier_breed_data = sample_names[(sample_names['breed'] == breed) & (sample_names['sample'].isin(outliers_with_assignments))]\n",
    "    plt.scatter(outlier_breed_data['tsne-1'], outlier_breed_data['tsne-2'], label=f'{breed} Outliers', s=100, marker='x')\n",
    "\n",
    "# Final plot settings\n",
    "plt.title('t-SNE: Breeds with Outliers Highlighted by Same Color')\n",
    "plt.xlabel('t-SNE 1')\n",
    "plt.ylabel('t-SNE 2')\n",
    "plt.legend(loc='upper right', bbox_to_anchor=(1.2, 1))  # Adjust legend position if needed\n",
    "plt.show()\n"
   ]
  },
  {
   "cell_type": "code",
   "execution_count": null,
   "metadata": {},
   "outputs": [],
   "source": []
  }
 ],
 "metadata": {
  "kernelspec": {
   "display_name": "Python 3 (ipykernel)",
   "language": "python",
   "name": "python3"
  },
  "language_info": {
   "codemirror_mode": {
    "name": "ipython",
    "version": 3
   },
   "file_extension": ".py",
   "mimetype": "text/x-python",
   "name": "python",
   "nbconvert_exporter": "python",
   "pygments_lexer": "ipython3",
   "version": "3.12.3"
  }
 },
 "nbformat": 4,
 "nbformat_minor": 2
}
