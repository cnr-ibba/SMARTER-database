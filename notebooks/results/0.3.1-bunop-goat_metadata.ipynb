{
 "cells": [
  {
   "cell_type": "markdown",
   "id": "f659486b-5fb2-4c58-8bc5-b6d80f6c79f7",
   "metadata": {},
   "source": [
    "# Goat metadata description\n",
    "Try to understand which metadata we have and what we need"
   ]
  },
  {
   "cell_type": "code",
   "execution_count": null,
   "id": "d94a9998-364c-497f-8a30-f77a103c323d",
   "metadata": {},
   "outputs": [],
   "source": [
    "import json\n",
    "\n",
    "import pandas as pd\n",
    "\n",
    "from src.features.smarterdb import global_connection, SampleGoat, Dataset"
   ]
  },
  {
   "cell_type": "code",
   "execution_count": null,
   "id": "2b3cf8d5-ecae-4088-9737-3ecb0ce1b3ee",
   "metadata": {},
   "outputs": [],
   "source": [
    "conn = global_connection()"
   ]
  },
  {
   "cell_type": "markdown",
   "id": "2b30c269-3eb3-4024-aeeb-8661d974fa93",
   "metadata": {},
   "source": [
    "Get all goat samples:"
   ]
  },
  {
   "cell_type": "code",
   "execution_count": null,
   "id": "8bf73ce3-9606-443f-a8ca-dce072265f20",
   "metadata": {},
   "outputs": [],
   "source": [
    "goats = SampleGoat.objects.all()\n",
    "goats = pd.json_normalize(json.loads(goats.to_json()))\n",
    "goats.head()"
   ]
  },
  {
   "cell_type": "code",
   "execution_count": null,
   "id": "b7545f6c-120f-47b8-90f3-18adde2ce10e",
   "metadata": {},
   "outputs": [],
   "source": [
    "goats.info()"
   ]
  },
  {
   "cell_type": "markdown",
   "id": "fa9bf3dd-3204-4977-b2eb-186548cda0ca",
   "metadata": {},
   "source": [
    "Get only informative columns"
   ]
  },
  {
   "cell_type": "code",
   "execution_count": null,
   "id": "cddeeae8-ac87-42b6-b71f-169e0937290f",
   "metadata": {},
   "outputs": [],
   "source": [
    "goats_useful = goats[[\n",
    "    \"original_id\", \"smarter_id\", \"country\", \"breed\", \"breed_code\", \"type\", \"phenotype.purpose\", \"phenotype.köppen_group\", \n",
    "    \"phenotype.chest_girth\", \"phenotype.height\", \"phenotype.length\", \"phenotype.widthofpinbones\", \"phenotype.famacha\", \"phenotype.coat_color\", \n",
    "    \"locations.coordinates\", \"sex\", \"dataset_id.$oid\"\n",
    "]]\n",
    "goats_useful.head()"
   ]
  },
  {
   "cell_type": "code",
   "execution_count": null,
   "id": "60fe5175-0fb3-4f95-8e1d-680bd89f126e",
   "metadata": {},
   "outputs": [],
   "source": [
    "goats_useful.info()"
   ]
  },
  {
   "cell_type": "markdown",
   "id": "25013d9a-d6d4-42ec-a2cb-77b0b33ba12a",
   "metadata": {},
   "source": [
    "Summarize info for `background` and `foreground` data. Count on text columns simply sum column with a value (any)"
   ]
  },
  {
   "cell_type": "code",
   "execution_count": null,
   "id": "618cc311-bddf-425c-a880-c1fb7ede9b25",
   "metadata": {},
   "outputs": [],
   "source": [
    "goats_useful.groupby(\"type\").count()"
   ]
  },
  {
   "cell_type": "markdown",
   "id": "f7ea152d-a82d-40b6-a883-59adeba8ba04",
   "metadata": {},
   "source": [
    "Get info on sheeps genotypes datasets:"
   ]
  },
  {
   "cell_type": "code",
   "execution_count": null,
   "id": "dd44fd5d-ad84-43fe-8d45-678188b23718",
   "metadata": {},
   "outputs": [],
   "source": [
    "datasets = Dataset.objects.filter(species=\"Goat\", type_=\"genotypes\").all()\n",
    "datasets = pd.json_normalize(json.loads(datasets.to_json()))\n",
    "datasets.head()"
   ]
  },
  {
   "cell_type": "markdown",
   "id": "9cec2878-a17f-4b4e-a22a-b305367f3242",
   "metadata": {},
   "source": [
    "Get only the columns I need for datasets:"
   ]
  },
  {
   "cell_type": "code",
   "execution_count": null,
   "id": "1155d510-36ab-46b0-9b41-00a3ea8e56a1",
   "metadata": {},
   "outputs": [],
   "source": [
    "datasets_useful = datasets[[\"_id.$oid\", \"file\", \"n_of_individuals\", \"partner\", \"chip_name\"]]"
   ]
  },
  {
   "cell_type": "code",
   "execution_count": null,
   "id": "80de2fea-c25e-47ee-b9da-d56e2dc5a8bf",
   "metadata": {},
   "outputs": [],
   "source": [
    "datasets_useful.info()"
   ]
  },
  {
   "cell_type": "markdown",
   "id": "14b0c6f0-3fce-494f-9596-619b40329e58",
   "metadata": {},
   "source": [
    "Try to merge dataframes on object ids:"
   ]
  },
  {
   "cell_type": "code",
   "execution_count": null,
   "id": "09efa77f-cf50-4bb0-a7db-eed455092ac3",
   "metadata": {},
   "outputs": [],
   "source": [
    "samples = pd.merge(datasets_useful, goats_useful, how=\"inner\", left_on=\"_id.$oid\", right_on=\"dataset_id.$oid\")"
   ]
  },
  {
   "cell_type": "code",
   "execution_count": null,
   "id": "c6111e67-7fd9-46ef-9d22-0f7b1baf75f0",
   "metadata": {},
   "outputs": [],
   "source": [
    "samples.head()"
   ]
  },
  {
   "cell_type": "code",
   "execution_count": null,
   "id": "6a41fc19-5f49-4173-a52d-396f88b1564d",
   "metadata": {},
   "outputs": [],
   "source": [
    "samples.info()"
   ]
  },
  {
   "cell_type": "markdown",
   "id": "e2991946-23e7-42a1-bbeb-d7f19e63ade0",
   "metadata": {},
   "source": [
    "Group datasets by file. Then count columns which have (any) value:"
   ]
  },
  {
   "cell_type": "code",
   "execution_count": null,
   "id": "ad47a817-680f-4831-92c3-3c0ad4ab07b8",
   "metadata": {},
   "outputs": [],
   "source": [
    "dataset_samples = samples.groupby([\"file\", \"partner\"]).count()\n",
    "print(dataset_samples.columns)\n",
    "dataset_samples = dataset_samples.reset_index()\n",
    "dataset_samples = dataset_samples.set_index(\"file\")\n",
    "dataset_samples.head()"
   ]
  },
  {
   "cell_type": "markdown",
   "id": "5b1ce74a-6a0f-4e16-aa41-dd3884d72fb7",
   "metadata": {},
   "source": [
    "Try to focus only on some columns. Add a total row on bottom:"
   ]
  },
  {
   "cell_type": "code",
   "execution_count": null,
   "id": "dacfcbd3-6ae4-48fa-8b36-5e91a43bea49",
   "metadata": {},
   "outputs": [],
   "source": [
    "columns = [\"partner\", \"n_of_individuals\", \"phenotype.purpose\", \"phenotype.köppen_group\", \"phenotype.chest_girth\", \n",
    "           \"phenotype.height\", \"phenotype.length\", \"phenotype.widthofpinbones\", \"phenotype.famacha\", \"phenotype.coat_color\", \n",
    "           \"locations.coordinates\", \"sex\"]\n",
    "d1 = dataset_samples[columns]\n",
    "d2 = pd.DataFrame({\"total\": dataset_samples.sum()[columns]}).transpose()\n",
    "d2 = d2.drop(\"partner\", axis=1)\n",
    "summary = pd.concat([d1, d2], axis=0)\n",
    "summary.to_excel(\"goat_summary.xlsx\")\n",
    "summary"
   ]
  },
  {
   "cell_type": "markdown",
   "id": "6cda2939-dc6a-4b9b-adc3-fd5c260e8742",
   "metadata": {},
   "source": [
    "How many phenotypes we have? can we define a set of allowed values?"
   ]
  },
  {
   "cell_type": "code",
   "execution_count": null,
   "id": "257616e7-2d4a-4f81-8df7-c748eda1d703",
   "metadata": {},
   "outputs": [],
   "source": [
    "samples.value_counts(\"phenotype.purpose\")"
   ]
  },
  {
   "cell_type": "code",
   "execution_count": null,
   "id": "9cb44adf-a571-457f-aa55-39001e803154",
   "metadata": {},
   "outputs": [],
   "source": [
    "samples.value_counts(\"phenotype.köppen_group\")"
   ]
  },
  {
   "cell_type": "code",
   "execution_count": null,
   "id": "7084411d-60ec-4c03-b7ad-9b328443db8b",
   "metadata": {},
   "outputs": [],
   "source": [
    "samples.describe()"
   ]
  },
  {
   "cell_type": "code",
   "execution_count": null,
   "id": "0a8d4bf3-71d6-4bfe-bc00-607d26c7ae2b",
   "metadata": {},
   "outputs": [],
   "source": []
  }
 ],
 "metadata": {
  "kernelspec": {
   "display_name": "Python 3",
   "language": "python",
   "name": "python3"
  },
  "language_info": {
   "codemirror_mode": {
    "name": "ipython",
    "version": 3
   },
   "file_extension": ".py",
   "mimetype": "text/x-python",
   "name": "python",
   "nbconvert_exporter": "python",
   "pygments_lexer": "ipython3",
   "version": "3.9.1"
  },
  "toc-showtags": false
 },
 "nbformat": 4,
 "nbformat_minor": 5
}
