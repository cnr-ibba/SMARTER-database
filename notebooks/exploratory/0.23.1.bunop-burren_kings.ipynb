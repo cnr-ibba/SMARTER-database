{
 "cells": [
  {
   "cell_type": "markdown",
   "id": "c2000f91-47dc-4662-ad90-c1ec0ad080d2",
   "metadata": {},
   "source": [
    "# Burren IBS\n",
    "This is an attempt to discover animal that I already have in SMARTER database. The hypotesis is to calculate the *Identical by State* between samples in order to discover potential duplicates. There are multiple ways to calculate *IBS*: here we calculate them with [king](https://www.kingrelatedness.com/) software, and then we try to identify samples that should be removed from the new background dataset. Let's load some useful modules"
   ]
  },
  {
   "cell_type": "code",
   "execution_count": 1,
   "id": "0ed9ed94-4dff-4971-af9b-05dae5bd77fb",
   "metadata": {},
   "outputs": [],
   "source": [
    "import os\n",
    "\n",
    "import pandas as pd\n",
    "\n",
    "from src.features.smarterdb import global_connection, Dataset"
   ]
  },
  {
   "cell_type": "code",
   "execution_count": 2,
   "id": "0f238eed-5bfd-499e-87c1-5bd26c292b49",
   "metadata": {},
   "outputs": [],
   "source": [
    "conn = global_connection()"
   ]
  },
  {
   "cell_type": "code",
   "execution_count": 3,
   "id": "dafbe890-1654-42fc-9826-83ee3139372d",
   "metadata": {},
   "outputs": [],
   "source": [
    "dataset = Dataset.objects.get(file=\"burren_et_al_2016.zip\")"
   ]
  },
  {
   "cell_type": "code",
   "execution_count": 4,
   "id": "1b413516-50a4-4c36-b1fa-258ff059c2e5",
   "metadata": {},
   "outputs": [],
   "source": [
    "os.chdir(dataset.working_dir / \"doi_10.5061_dryad.q1cv6__v1/\")"
   ]
  },
  {
   "cell_type": "markdown",
   "id": "8ec8c949-26b0-404c-ac5b-a3709f4b5b5d",
   "metadata": {},
   "source": [
    "Open the *king* output file: we know that there could be actually duplicated samples in the latest SMARTER database release, however let's focus on duplicates between SMARTER and the burren dataset:"
   ]
  },
  {
   "cell_type": "code",
   "execution_count": 5,
   "id": "badaf985-cf9e-491a-ac88-def246888e89",
   "metadata": {},
   "outputs": [
    {
     "data": {
      "text/html": [
       "<div>\n",
       "<style scoped>\n",
       "    .dataframe tbody tr th:only-of-type {\n",
       "        vertical-align: middle;\n",
       "    }\n",
       "\n",
       "    .dataframe tbody tr th {\n",
       "        vertical-align: top;\n",
       "    }\n",
       "\n",
       "    .dataframe thead th {\n",
       "        text-align: right;\n",
       "    }\n",
       "</style>\n",
       "<table border=\"1\" class=\"dataframe\">\n",
       "  <thead>\n",
       "    <tr style=\"text-align: right;\">\n",
       "      <th></th>\n",
       "      <th>FID1</th>\n",
       "      <th>ID1</th>\n",
       "      <th>FID2</th>\n",
       "      <th>ID2</th>\n",
       "      <th>N</th>\n",
       "      <th>N_IBS0</th>\n",
       "      <th>N_IBS1</th>\n",
       "      <th>N_IBS2</th>\n",
       "      <th>Concord</th>\n",
       "      <th>HomConc</th>\n",
       "      <th>HetConc</th>\n",
       "      <th>in_smarter</th>\n",
       "    </tr>\n",
       "  </thead>\n",
       "  <tbody>\n",
       "    <tr>\n",
       "      <th>0</th>\n",
       "      <td>ALP</td>\n",
       "      <td>CHCH-ALP-000002441</td>\n",
       "      <td>1</td>\n",
       "      <td>goat27</td>\n",
       "      <td>41790</td>\n",
       "      <td>0</td>\n",
       "      <td>0</td>\n",
       "      <td>41790</td>\n",
       "      <td>1.0</td>\n",
       "      <td>1.0</td>\n",
       "      <td>1.0</td>\n",
       "      <td>False</td>\n",
       "    </tr>\n",
       "    <tr>\n",
       "      <th>1</th>\n",
       "      <td>ALP</td>\n",
       "      <td>CHCH-ALP-000002442</td>\n",
       "      <td>1</td>\n",
       "      <td>goat28</td>\n",
       "      <td>41779</td>\n",
       "      <td>0</td>\n",
       "      <td>0</td>\n",
       "      <td>41779</td>\n",
       "      <td>1.0</td>\n",
       "      <td>1.0</td>\n",
       "      <td>1.0</td>\n",
       "      <td>False</td>\n",
       "    </tr>\n",
       "    <tr>\n",
       "      <th>2</th>\n",
       "      <td>ALP</td>\n",
       "      <td>CHCH-ALP-000002443</td>\n",
       "      <td>1</td>\n",
       "      <td>goat29</td>\n",
       "      <td>41701</td>\n",
       "      <td>0</td>\n",
       "      <td>0</td>\n",
       "      <td>41701</td>\n",
       "      <td>1.0</td>\n",
       "      <td>1.0</td>\n",
       "      <td>1.0</td>\n",
       "      <td>False</td>\n",
       "    </tr>\n",
       "    <tr>\n",
       "      <th>3</th>\n",
       "      <td>ALP</td>\n",
       "      <td>CHCH-ALP-000002445</td>\n",
       "      <td>1</td>\n",
       "      <td>goat130</td>\n",
       "      <td>41769</td>\n",
       "      <td>0</td>\n",
       "      <td>0</td>\n",
       "      <td>41769</td>\n",
       "      <td>1.0</td>\n",
       "      <td>1.0</td>\n",
       "      <td>1.0</td>\n",
       "      <td>False</td>\n",
       "    </tr>\n",
       "    <tr>\n",
       "      <th>4</th>\n",
       "      <td>ALP</td>\n",
       "      <td>CHCH-ALP-000002448</td>\n",
       "      <td>1</td>\n",
       "      <td>goat131</td>\n",
       "      <td>41792</td>\n",
       "      <td>0</td>\n",
       "      <td>0</td>\n",
       "      <td>41792</td>\n",
       "      <td>1.0</td>\n",
       "      <td>1.0</td>\n",
       "      <td>1.0</td>\n",
       "      <td>False</td>\n",
       "    </tr>\n",
       "  </tbody>\n",
       "</table>\n",
       "</div>"
      ],
      "text/plain": [
       "  FID1                 ID1 FID2      ID2      N  N_IBS0  N_IBS1  N_IBS2  \\\n",
       "0  ALP  CHCH-ALP-000002441    1   goat27  41790       0       0   41790   \n",
       "1  ALP  CHCH-ALP-000002442    1   goat28  41779       0       0   41779   \n",
       "2  ALP  CHCH-ALP-000002443    1   goat29  41701       0       0   41701   \n",
       "3  ALP  CHCH-ALP-000002445    1  goat130  41769       0       0   41769   \n",
       "4  ALP  CHCH-ALP-000002448    1  goat131  41792       0       0   41792   \n",
       "\n",
       "   Concord  HomConc  HetConc  in_smarter  \n",
       "0      1.0      1.0      1.0       False  \n",
       "1      1.0      1.0      1.0       False  \n",
       "2      1.0      1.0      1.0       False  \n",
       "3      1.0      1.0      1.0       False  \n",
       "4      1.0      1.0      1.0       False  "
      ]
     },
     "execution_count": 5,
     "metadata": {},
     "output_type": "execute_result"
    }
   ],
   "source": [
    "king = pd.read_table(\"king.con\")\n",
    "king['in_smarter'] = king[['ID1', 'ID2']].apply(lambda x: x['ID1'][2:4] == 'CH' and x['ID2'][2:4] == 'CH', axis=1)\n",
    "king = king[king['in_smarter'] == False]\n",
    "king.head()"
   ]
  },
  {
   "cell_type": "markdown",
   "id": "7a3c1fce-a404-4a41-864e-e951ca20a606",
   "metadata": {},
   "source": [
    "Let's count how many duplicates I have between the two datasets (SMARTER vs burren)"
   ]
  },
  {
   "cell_type": "code",
   "execution_count": 6,
   "id": "3faf681a-98ce-4036-a968-44f19e103844",
   "metadata": {},
   "outputs": [
    {
     "data": {
      "text/plain": [
       "FID1  FID2\n",
       "ALP   1       66\n",
       "SAA   1       43\n",
       "dtype: int64"
      ]
     },
     "execution_count": 6,
     "metadata": {},
     "output_type": "execute_result"
    }
   ],
   "source": [
    "king[['FID1', 'FID2']].value_counts()"
   ]
  },
  {
   "cell_type": "markdown",
   "id": "a14e0416-b528-429e-a92d-7d291b1e3a4f",
   "metadata": {},
   "source": [
    "Ok, write the sample names into a file. This samples will be excluded from the *burren* dataset"
   ]
  },
  {
   "cell_type": "code",
   "execution_count": 7,
   "id": "e8a10a57-9cf8-442c-88a4-019259d38a0b",
   "metadata": {},
   "outputs": [],
   "source": [
    "king['ID2'].to_csv('to_remove.csv')"
   ]
  }
 ],
 "metadata": {
  "kernelspec": {
   "display_name": "Python 3",
   "language": "python",
   "name": "python3"
  },
  "language_info": {
   "codemirror_mode": {
    "name": "ipython",
    "version": 3
   },
   "file_extension": ".py",
   "mimetype": "text/x-python",
   "name": "python",
   "nbconvert_exporter": "python",
   "pygments_lexer": "ipython3",
   "version": "3.9.1"
  }
 },
 "nbformat": 4,
 "nbformat_minor": 5
}
