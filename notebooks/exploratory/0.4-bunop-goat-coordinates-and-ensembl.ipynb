{
 "cells": [
  {
   "cell_type": "markdown",
   "id": "equivalent-colleague",
   "metadata": {},
   "source": [
    "# About Goat Coordinates\n",
    "Ensembl stores goat coordinates in **ARS1** assembly, which is the same of [GoatGenome project](http://www.goatgenome.org/projects.html). SNPchimp doesn't have any information on such assembly, but it seems keeping the coorespondences between *snp names* and *rsID*"
   ]
  },
  {
   "cell_type": "code",
   "execution_count": 1,
   "id": "equivalent-sunglasses",
   "metadata": {},
   "outputs": [],
   "source": [
    "import os\n",
    "import itertools\n",
    "import random\n",
    "import pandas\n",
    "\n",
    "from collections import defaultdict\n",
    "from pathlib import Path\n",
    "from importlib import reload\n",
    "from ensemblrest import EnsemblRest\n",
    "\n",
    "import src.features.illumina\n",
    "import src.features.snpchimp\n",
    "\n",
    "random.seed = 42"
   ]
  },
  {
   "cell_type": "markdown",
   "id": "precise-tamil",
   "metadata": {},
   "source": [
    "Like sheep, try to read data files for Goat:"
   ]
  },
  {
   "cell_type": "code",
   "execution_count": 2,
   "id": "legislative-pickup",
   "metadata": {},
   "outputs": [],
   "source": [
    "project_dir = Path.cwd().parents[1]\n",
    "illumina_chip = project_dir / \"data/external/GOA/ILLUMINA/Goat_IGGC_65K_v2_15069617X365016_A2.csv\"\n",
    "snpchimp_file = project_dir / \"data/external/GOA/SNPCHIMP/SNPchimp_GOAT_SNP50_chi1.0.csv\""
   ]
  },
  {
   "cell_type": "code",
   "execution_count": 3,
   "id": "collectible-bangkok",
   "metadata": {},
   "outputs": [
    {
     "data": {
      "text/html": [
       "<div>\n",
       "<style scoped>\n",
       "    .dataframe tbody tr th:only-of-type {\n",
       "        vertical-align: middle;\n",
       "    }\n",
       "\n",
       "    .dataframe tbody tr th {\n",
       "        vertical-align: top;\n",
       "    }\n",
       "\n",
       "    .dataframe thead th {\n",
       "        text-align: right;\n",
       "    }\n",
       "</style>\n",
       "<table border=\"1\" class=\"dataframe\">\n",
       "  <thead>\n",
       "    <tr style=\"text-align: right;\">\n",
       "      <th></th>\n",
       "      <th>chr</th>\n",
       "      <th>position</th>\n",
       "      <th>ilmnstrand</th>\n",
       "      <th>snp</th>\n",
       "    </tr>\n",
       "    <tr>\n",
       "      <th>name</th>\n",
       "      <th></th>\n",
       "      <th></th>\n",
       "      <th></th>\n",
       "      <th></th>\n",
       "    </tr>\n",
       "  </thead>\n",
       "  <tbody>\n",
       "    <tr>\n",
       "      <th>1_101941444_AF-PAKI</th>\n",
       "      <td>1</td>\n",
       "      <td>101941444</td>\n",
       "      <td>TOP</td>\n",
       "      <td>[A/G]</td>\n",
       "    </tr>\n",
       "    <tr>\n",
       "      <th>1_10408764_AF-PAKI</th>\n",
       "      <td>1</td>\n",
       "      <td>10408764</td>\n",
       "      <td>TOP</td>\n",
       "      <td>[A/G]</td>\n",
       "    </tr>\n",
       "    <tr>\n",
       "      <th>1_104453302_AF-PAKI</th>\n",
       "      <td>1</td>\n",
       "      <td>104453302</td>\n",
       "      <td>TOP</td>\n",
       "      <td>[A/G]</td>\n",
       "    </tr>\n",
       "    <tr>\n",
       "      <th>1_107080965_AF-PAKI</th>\n",
       "      <td>1</td>\n",
       "      <td>107080965</td>\n",
       "      <td>BOT</td>\n",
       "      <td>[T/C]</td>\n",
       "    </tr>\n",
       "    <tr>\n",
       "      <th>1_109839943_AF-PAKI</th>\n",
       "      <td>1</td>\n",
       "      <td>109839943</td>\n",
       "      <td>BOT</td>\n",
       "      <td>[T/C]</td>\n",
       "    </tr>\n",
       "  </tbody>\n",
       "</table>\n",
       "</div>"
      ],
      "text/plain": [
       "                    chr   position ilmnstrand    snp\n",
       "name                                                \n",
       "1_101941444_AF-PAKI   1  101941444        TOP  [A/G]\n",
       "1_10408764_AF-PAKI    1   10408764        TOP  [A/G]\n",
       "1_104453302_AF-PAKI   1  104453302        TOP  [A/G]\n",
       "1_107080965_AF-PAKI   1  107080965        BOT  [T/C]\n",
       "1_109839943_AF-PAKI   1  109839943        BOT  [T/C]"
      ]
     },
     "execution_count": 3,
     "metadata": {},
     "output_type": "execute_result"
    }
   ],
   "source": [
    "ars_chip = defaultdict(list)\n",
    "for record in src.features.illumina.read_snpChip(illumina_chip, delimiter=','):\n",
    "    ars_chip['name'].append(record.name)\n",
    "    ars_chip['chr'].append(record.chr)\n",
    "    ars_chip['position'].append(record.mapinfo)\n",
    "    ars_chip['ilmnstrand'].append(record.ilmnstrand)\n",
    "    ars_chip['snp'].append(record.snp)\n",
    "ars_chip = pandas.DataFrame.from_dict(ars_chip)\n",
    "ars_chip.set_index('name', inplace=True)\n",
    "ars_chip.head()"
   ]
  },
  {
   "cell_type": "code",
   "execution_count": 4,
   "id": "intelligent-maryland",
   "metadata": {},
   "outputs": [
    {
     "data": {
      "text/html": [
       "<div>\n",
       "<style scoped>\n",
       "    .dataframe tbody tr th:only-of-type {\n",
       "        vertical-align: middle;\n",
       "    }\n",
       "\n",
       "    .dataframe tbody tr th {\n",
       "        vertical-align: top;\n",
       "    }\n",
       "\n",
       "    .dataframe thead th {\n",
       "        text-align: right;\n",
       "    }\n",
       "</style>\n",
       "<table border=\"1\" class=\"dataframe\">\n",
       "  <thead>\n",
       "    <tr style=\"text-align: right;\">\n",
       "      <th></th>\n",
       "      <th>chr</th>\n",
       "      <th>position</th>\n",
       "      <th>ilmnstrand</th>\n",
       "      <th>snp</th>\n",
       "      <th>rsID</th>\n",
       "    </tr>\n",
       "    <tr>\n",
       "      <th>name</th>\n",
       "      <th></th>\n",
       "      <th></th>\n",
       "      <th></th>\n",
       "      <th></th>\n",
       "      <th></th>\n",
       "    </tr>\n",
       "  </thead>\n",
       "  <tbody>\n",
       "    <tr>\n",
       "      <th>snp1-scaffold1-2170</th>\n",
       "      <td>22</td>\n",
       "      <td>27222753</td>\n",
       "      <td>top</td>\n",
       "      <td>A/C</td>\n",
       "      <td>rs268233143</td>\n",
       "    </tr>\n",
       "    <tr>\n",
       "      <th>snp1-scaffold708-1421224</th>\n",
       "      <td>14</td>\n",
       "      <td>90885671</td>\n",
       "      <td>bottom</td>\n",
       "      <td>A/G</td>\n",
       "      <td>rs268293133</td>\n",
       "    </tr>\n",
       "    <tr>\n",
       "      <th>snp10-scaffold1-352655</th>\n",
       "      <td>22</td>\n",
       "      <td>26872268</td>\n",
       "      <td>top</td>\n",
       "      <td>A/G</td>\n",
       "      <td>rs268233152</td>\n",
       "    </tr>\n",
       "    <tr>\n",
       "      <th>snp1000-scaffold1026-533890</th>\n",
       "      <td>8</td>\n",
       "      <td>68958341</td>\n",
       "      <td>top</td>\n",
       "      <td>A/G</td>\n",
       "      <td>rs268291433</td>\n",
       "    </tr>\n",
       "    <tr>\n",
       "      <th>snp10000-scaffold1356-652219</th>\n",
       "      <td>7</td>\n",
       "      <td>50027003</td>\n",
       "      <td>top</td>\n",
       "      <td>A/G</td>\n",
       "      <td>rs268242876</td>\n",
       "    </tr>\n",
       "  </tbody>\n",
       "</table>\n",
       "</div>"
      ],
      "text/plain": [
       "                             chr  position ilmnstrand  snp         rsID\n",
       "name                                                                   \n",
       "snp1-scaffold1-2170           22  27222753        top  A/C  rs268233143\n",
       "snp1-scaffold708-1421224      14  90885671     bottom  A/G  rs268293133\n",
       "snp10-scaffold1-352655        22  26872268        top  A/G  rs268233152\n",
       "snp1000-scaffold1026-533890    8  68958341        top  A/G  rs268291433\n",
       "snp10000-scaffold1356-652219   7  50027003        top  A/G  rs268242876"
      ]
     },
     "execution_count": 4,
     "metadata": {},
     "output_type": "execute_result"
    }
   ],
   "source": [
    "snpchimp = defaultdict(list)\n",
    "for record in src.features.snpchimp.read_snpChimp(snpchimp_file):\n",
    "    snpchimp['name'].append(record.snp_name)\n",
    "    snpchimp['chr'].append(record.chromosome)\n",
    "    snpchimp['position'].append(record.position)\n",
    "    snpchimp['ilmnstrand'].append(record.strand)\n",
    "    snpchimp['snp'].append(record.alleles_a_b_top)\n",
    "    snpchimp['rsID'].append(record.rs)\n",
    "snpchimp = pandas.DataFrame.from_dict(snpchimp)\n",
    "snpchimp.set_index('name', inplace=True)\n",
    "snpchimp.head()"
   ]
  },
  {
   "cell_type": "markdown",
   "id": "center-locking",
   "metadata": {},
   "source": [
    "I'm pretty sure that coordinates don't match. Assemblies are different. Does chips have same snps names?"
   ]
  },
  {
   "cell_type": "code",
   "execution_count": 5,
   "id": "nutritional-offense",
   "metadata": {},
   "outputs": [
    {
     "data": {
      "text/plain": [
       "False"
      ]
     },
     "execution_count": 5,
     "metadata": {},
     "output_type": "execute_result"
    }
   ],
   "source": [
    "sorted(list(snpchimp.index)) == sorted(list(ars_chip.index))"
   ]
  },
  {
   "cell_type": "markdown",
   "id": "considerable-holder",
   "metadata": {},
   "source": [
    "So, keys are different. Does the new chip contains all the SNPchimp entries?"
   ]
  },
  {
   "cell_type": "code",
   "execution_count": 6,
   "id": "numerical-carter",
   "metadata": {},
   "outputs": [
    {
     "name": "stdout",
     "output_type": "stream",
     "text": [
      "Snps in SNPchimp: 53347\n",
      "Snp in chip which are also in SNPchimp: 53347\n",
      "New SNPs in chip: 6380\n"
     ]
    }
   ],
   "source": [
    "snpchimp_keys = set(list(snpchimp.index))\n",
    "ars_chip_keys = set(list(ars_chip.index))\n",
    "print(\"Snps in SNPchimp: %s\" %(len(snpchimp_keys)))\n",
    "print(\"Snp in chip which are also in SNPchimp: %s\" % (len(snpchimp_keys.intersection(ars_chip_keys))))\n",
    "print(\"New SNPs in chip: %s\" % len(ars_chip_keys.difference(snpchimp_keys)))"
   ]
  },
  {
   "cell_type": "markdown",
   "id": "knowing-directive",
   "metadata": {},
   "source": [
    "I've discovered that there are ~6300 new SNPs in the new chip version. Does the coordinate match for SNPs in two dataset? I soppose **NO** since assemblies are different"
   ]
  },
  {
   "cell_type": "code",
   "execution_count": 7,
   "id": "assisted-enterprise",
   "metadata": {},
   "outputs": [
    {
     "name": "stdout",
     "output_type": "stream",
     "text": [
      "\n",
      "N of SNPs in different positions from illumina to SNPchimp: 53347\n",
      "\n",
      "N of SNPs with rsID with different positions from illumina to SNPchimp: 53345\n"
     ]
    }
   ],
   "source": [
    "count = 0\n",
    "rs_different = {}\n",
    "\n",
    "for i, ars_chip_row in ars_chip.iterrows():\n",
    "    if not ars_chip_row.name in snpchimp_keys:\n",
    "        continue\n",
    "    \n",
    "    # get row relying snp name\n",
    "    snpchimp_row = snpchimp.loc[ars_chip_row.name, :]\n",
    "    \n",
    "    if (snpchimp_row['chr'], snpchimp_row['position']) != (ars_chip_row['chr'], ars_chip_row['position']):\n",
    "        count += 1\n",
    "        if snpchimp_row['rsID'] != 'NULL':\n",
    "            rs_different[snpchimp_row['rsID']] = snpchimp_row.name\n",
    "    \n",
    "print(f\"\\nN of SNPs in different positions from illumina to SNPchimp: {count}\")\n",
    "print(f\"\\nN of SNPs with rsID with different positions from illumina to SNPchimp: {len(rs_different)}\")"
   ]
  },
  {
   "cell_type": "markdown",
   "id": "comparable-habitat",
   "metadata": {},
   "source": [
    "So no coordinates match. Almost all SNPs have a rsID in snpchimp"
   ]
  },
  {
   "cell_type": "code",
   "execution_count": 8,
   "id": "published-sitting",
   "metadata": {},
   "outputs": [],
   "source": [
    "selected_rsID = random.sample(sorted(list(rs_different.keys())), 20)"
   ]
  },
  {
   "cell_type": "code",
   "execution_count": 9,
   "id": "relative-visiting",
   "metadata": {},
   "outputs": [
    {
     "name": "stdout",
     "output_type": "stream",
     "text": [
      "rs268282378 snp50674-scaffold730-447988 22 20287905 G/A ['22', 20237635, 'bottom', 'A/G'] ['22', 20287905, 'BOT', '[T/C]']\n",
      "rs268274279 snp42359-scaffold559-842435 1 10935158 G/A ['1', 11724563, 'top', 'A/G'] ['1', 10935158, 'BOT', '[T/C]']\n",
      "rs268235325 snp2255-scaffold1069-1127603 1 65189519 A/G ['1', 64030909, 'top', 'A/G'] ['1', 65189519, 'TOP', '[A/G]']\n",
      "rs268274388 snp42470-scaffold562-593775 5 59091840 G/A ['5', 58268128, 'top', 'A/G'] ['5', 59091840, 'TOP', '[A/G]']\n",
      "rs268259202 snp26860-scaffold283-12333 18 57525671 G/A ['18', 54944621, 'top', 'A/G'] ['18', 57525671, 'BOT', '[T/C]']\n",
      "rs268257350 snp24964-scaffold2564-76100 3 1144810 T/C ['3', 115689389, 'top', 'A/G'] ['3', 1144810, 'TOP', '[A/G]']\n",
      "rs268254610 snp22152-scaffold2188-248935 25 262122 A/C ['25', 280195, 'bottom', 'A/C'] ['25', 262122, 'TOP', '[A/C]']\n",
      "rs268279042 snp47245-scaffold663-870635 17 66609143 G/T ['17', 4142634, 'top', 'A/C'] ['17', 66609143, 'TOP', '[A/C]']\n",
      "rs268285067 snp53433-scaffold81-122245 8 48201709 G/A ['8', 47064512, 'top', 'A/G'] ['8', 48201709, 'TOP', '[A/G]']\n",
      "rs268243625 snp10771-scaffold1383-755892 5 105714166 T/C ['5', 97930804, 'top', 'A/G'] ['5', 105714166, 'TOP', '[A/G]']\n",
      "rs268279418 snp47629-scaffold67-5596959 26 20039206 G/A ['26', 30372459, 'top', 'A/G'] ['26', 20039206, 'TOP', '[A/G]']\n",
      "rs268286479 snp54869-scaffold838-4488889 28 27193495 A/G ['28', 16242903, 'bottom', 'A/G'] ['28', 27193495, 'TOP', '[A/G]']\n",
      "rs268272292 snp40293-scaffold514-1068053 1 142289169 A/G ['1', 140320986, 'top', 'A/G'] ['1', 142289169, 'BOT', '[T/C]']\n",
      "rs268240229 snp7288-scaffold1269-1316769 7 52755743 A/C ['7', 53912503, 'bottom', 'A/C'] ['7', 52755743, 'TOP', '[A/C]']\n",
      "rs268263448 snp31229-scaffold345-4285855 4 66682547 G/A ['4', 51106681, 'top', 'A/G'] ['4', 66682547, 'TOP', '[A/G]']\n",
      "rs268251087 snp18490-scaffold187-1019623 15 12021073 A/G ['15', 67376717, 'top', 'A/G'] ['15', 12021073, 'TOP', '[A/G]']\n",
      "rs268269566 snp37485-scaffold4588-70353 28 9873126 T/C ['28', 33558841, 'bottom', 'A/G'] ['28', 9873126, 'BOT', '[T/C]']\n",
      "rs268254350 snp21884-scaffold215-191427 11 21418411 G/A ['11', 21319581, 'bottom', 'A/G'] ['11', 21418411, 'BOT', '[T/C]']\n",
      "rs268269672 snp37591-scaffold460-518846 3 87376548 A/G ['3', 31087786, 'top', 'A/G'] ['3', 87376548, 'TOP', '[A/G]']\n"
     ]
    }
   ],
   "source": [
    "ensRest = EnsemblRest()\n",
    "result = ensRest.getVariationByMultipleIds(ids=selected_rsID, species=\"capra_hircus\")\n",
    "for key, value in result.items():\n",
    "    for location in value['mappings']:\n",
    "        print(\n",
    "            key, rs_different[key],\n",
    "            location['seq_region_name'], location['start'], location['allele_string'], \n",
    "            list(snpchimp.loc[rs_different[key], ['chr', 'position', 'ilmnstrand', 'snp']]), \n",
    "            list(ars_chip.loc[rs_different[key], ['chr', 'position', 'ilmnstrand', 'snp']])\n",
    "        )"
   ]
  },
  {
   "cell_type": "markdown",
   "id": "wound-shark",
   "metadata": {},
   "source": [
    "It seems to me that coordinates stored in chip are identical with ensembl (or at least for this subset of SNPs)"
   ]
  }
 ],
 "metadata": {
  "kernelspec": {
   "display_name": "Python 3",
   "language": "python",
   "name": "python3"
  },
  "language_info": {
   "codemirror_mode": {
    "name": "ipython",
    "version": 3
   },
   "file_extension": ".py",
   "mimetype": "text/x-python",
   "name": "python",
   "nbconvert_exporter": "python",
   "pygments_lexer": "ipython3",
   "version": "3.9.1"
  }
 },
 "nbformat": 4,
 "nbformat_minor": 5
}
