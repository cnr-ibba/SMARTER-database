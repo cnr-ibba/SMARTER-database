{
 "cells": [
  {
   "cell_type": "markdown",
   "id": "collaborative-numbers",
   "metadata": {},
   "source": [
    "# About Goat Coordinates\n",
    "Ensembl stores goat coordinates in **ARS1** assembly, which is the same of [GoatGenome project](http://www.goatgenome.org/projects.html). SNPchimp doesn't have any information on such assembly, but it seems keeping the coorespondences between *snp names* and *rsID*"
   ]
  },
  {
   "cell_type": "code",
   "execution_count": 1,
   "id": "boxed-lesbian",
   "metadata": {},
   "outputs": [],
   "source": [
    "import os\n",
    "import itertools\n",
    "import random\n",
    "import pandas\n",
    "\n",
    "from collections import defaultdict\n",
    "from pathlib import Path\n",
    "from importlib import reload\n",
    "from ensemblrest import EnsemblRest\n",
    "\n",
    "import src.features.illumina\n",
    "import src.features.snpchimp\n",
    "\n",
    "random.seed = 42"
   ]
  },
  {
   "cell_type": "markdown",
   "id": "offensive-asthma",
   "metadata": {},
   "source": [
    "Like sheep, try to read data files for Goat:"
   ]
  },
  {
   "cell_type": "code",
   "execution_count": 2,
   "id": "focused-ocean",
   "metadata": {},
   "outputs": [],
   "source": [
    "project_dir = Path.cwd().parents[1]\n",
    "illumina_chip = project_dir / \"data/external/GOA/ILLUMINA/Goat_IGGC_65K_v2_15069617X365016_A2.csv\"\n",
    "snpchimp_file = project_dir / \"data/external/GOA/SNPCHIMP/SNPchimp_GOAT_SNP50_chi1.0.csv\""
   ]
  },
  {
   "cell_type": "code",
   "execution_count": 3,
   "id": "choice-lender",
   "metadata": {},
   "outputs": [
    {
     "data": {
      "text/html": [
       "<div>\n",
       "<style scoped>\n",
       "    .dataframe tbody tr th:only-of-type {\n",
       "        vertical-align: middle;\n",
       "    }\n",
       "\n",
       "    .dataframe tbody tr th {\n",
       "        vertical-align: top;\n",
       "    }\n",
       "\n",
       "    .dataframe thead th {\n",
       "        text-align: right;\n",
       "    }\n",
       "</style>\n",
       "<table border=\"1\" class=\"dataframe\">\n",
       "  <thead>\n",
       "    <tr style=\"text-align: right;\">\n",
       "      <th></th>\n",
       "      <th>chr</th>\n",
       "      <th>position</th>\n",
       "      <th>ilmnstrand</th>\n",
       "      <th>snp</th>\n",
       "    </tr>\n",
       "    <tr>\n",
       "      <th>name</th>\n",
       "      <th></th>\n",
       "      <th></th>\n",
       "      <th></th>\n",
       "      <th></th>\n",
       "    </tr>\n",
       "  </thead>\n",
       "  <tbody>\n",
       "    <tr>\n",
       "      <th>1_101941444_AF-PAKI</th>\n",
       "      <td>1</td>\n",
       "      <td>101941444</td>\n",
       "      <td>TOP</td>\n",
       "      <td>A/G</td>\n",
       "    </tr>\n",
       "    <tr>\n",
       "      <th>1_10408764_AF-PAKI</th>\n",
       "      <td>1</td>\n",
       "      <td>10408764</td>\n",
       "      <td>TOP</td>\n",
       "      <td>A/G</td>\n",
       "    </tr>\n",
       "    <tr>\n",
       "      <th>1_104453302_AF-PAKI</th>\n",
       "      <td>1</td>\n",
       "      <td>104453302</td>\n",
       "      <td>TOP</td>\n",
       "      <td>A/G</td>\n",
       "    </tr>\n",
       "    <tr>\n",
       "      <th>1_107080965_AF-PAKI</th>\n",
       "      <td>1</td>\n",
       "      <td>107080965</td>\n",
       "      <td>BOT</td>\n",
       "      <td>T/C</td>\n",
       "    </tr>\n",
       "    <tr>\n",
       "      <th>1_109839943_AF-PAKI</th>\n",
       "      <td>1</td>\n",
       "      <td>109839943</td>\n",
       "      <td>BOT</td>\n",
       "      <td>T/C</td>\n",
       "    </tr>\n",
       "  </tbody>\n",
       "</table>\n",
       "</div>"
      ],
      "text/plain": [
       "                    chr   position ilmnstrand  snp\n",
       "name                                              \n",
       "1_101941444_AF-PAKI   1  101941444        TOP  A/G\n",
       "1_10408764_AF-PAKI    1   10408764        TOP  A/G\n",
       "1_104453302_AF-PAKI   1  104453302        TOP  A/G\n",
       "1_107080965_AF-PAKI   1  107080965        BOT  T/C\n",
       "1_109839943_AF-PAKI   1  109839943        BOT  T/C"
      ]
     },
     "execution_count": 3,
     "metadata": {},
     "output_type": "execute_result"
    }
   ],
   "source": [
    "ars_chip = defaultdict(list)\n",
    "for record in src.features.illumina.read_Manifest(illumina_chip, delimiter=','):\n",
    "    ars_chip['name'].append(record.name)\n",
    "    ars_chip['chr'].append(record.chr)\n",
    "    ars_chip['position'].append(record.mapinfo)\n",
    "    ars_chip['ilmnstrand'].append(record.ilmnstrand)\n",
    "    ars_chip['snp'].append(record.snp)\n",
    "ars_chip = pandas.DataFrame.from_dict(ars_chip)\n",
    "ars_chip.set_index('name', inplace=True)\n",
    "ars_chip.head()"
   ]
  },
  {
   "cell_type": "code",
   "execution_count": 4,
   "id": "chinese-integrity",
   "metadata": {},
   "outputs": [
    {
     "data": {
      "text/html": [
       "<div>\n",
       "<style scoped>\n",
       "    .dataframe tbody tr th:only-of-type {\n",
       "        vertical-align: middle;\n",
       "    }\n",
       "\n",
       "    .dataframe tbody tr th {\n",
       "        vertical-align: top;\n",
       "    }\n",
       "\n",
       "    .dataframe thead th {\n",
       "        text-align: right;\n",
       "    }\n",
       "</style>\n",
       "<table border=\"1\" class=\"dataframe\">\n",
       "  <thead>\n",
       "    <tr style=\"text-align: right;\">\n",
       "      <th></th>\n",
       "      <th>chr</th>\n",
       "      <th>position</th>\n",
       "      <th>ilmnstrand</th>\n",
       "      <th>snp</th>\n",
       "      <th>rsID</th>\n",
       "    </tr>\n",
       "    <tr>\n",
       "      <th>name</th>\n",
       "      <th></th>\n",
       "      <th></th>\n",
       "      <th></th>\n",
       "      <th></th>\n",
       "      <th></th>\n",
       "    </tr>\n",
       "  </thead>\n",
       "  <tbody>\n",
       "    <tr>\n",
       "      <th>snp1-scaffold1-2170</th>\n",
       "      <td>22</td>\n",
       "      <td>27222753</td>\n",
       "      <td>top</td>\n",
       "      <td>A/C</td>\n",
       "      <td>rs268233143</td>\n",
       "    </tr>\n",
       "    <tr>\n",
       "      <th>snp1-scaffold708-1421224</th>\n",
       "      <td>14</td>\n",
       "      <td>90885671</td>\n",
       "      <td>bottom</td>\n",
       "      <td>A/G</td>\n",
       "      <td>rs268293133</td>\n",
       "    </tr>\n",
       "    <tr>\n",
       "      <th>snp10-scaffold1-352655</th>\n",
       "      <td>22</td>\n",
       "      <td>26872268</td>\n",
       "      <td>top</td>\n",
       "      <td>A/G</td>\n",
       "      <td>rs268233152</td>\n",
       "    </tr>\n",
       "    <tr>\n",
       "      <th>snp1000-scaffold1026-533890</th>\n",
       "      <td>8</td>\n",
       "      <td>68958341</td>\n",
       "      <td>top</td>\n",
       "      <td>A/G</td>\n",
       "      <td>rs268291433</td>\n",
       "    </tr>\n",
       "    <tr>\n",
       "      <th>snp10000-scaffold1356-652219</th>\n",
       "      <td>7</td>\n",
       "      <td>50027003</td>\n",
       "      <td>top</td>\n",
       "      <td>A/G</td>\n",
       "      <td>rs268242876</td>\n",
       "    </tr>\n",
       "  </tbody>\n",
       "</table>\n",
       "</div>"
      ],
      "text/plain": [
       "                             chr  position ilmnstrand  snp         rsID\n",
       "name                                                                   \n",
       "snp1-scaffold1-2170           22  27222753        top  A/C  rs268233143\n",
       "snp1-scaffold708-1421224      14  90885671     bottom  A/G  rs268293133\n",
       "snp10-scaffold1-352655        22  26872268        top  A/G  rs268233152\n",
       "snp1000-scaffold1026-533890    8  68958341        top  A/G  rs268291433\n",
       "snp10000-scaffold1356-652219   7  50027003        top  A/G  rs268242876"
      ]
     },
     "execution_count": 4,
     "metadata": {},
     "output_type": "execute_result"
    }
   ],
   "source": [
    "snpchimp = defaultdict(list)\n",
    "for record in src.features.snpchimp.read_snpChimp(snpchimp_file):\n",
    "    snpchimp['name'].append(record.snp_name)\n",
    "    snpchimp['chr'].append(record.chromosome)\n",
    "    snpchimp['position'].append(record.position)\n",
    "    snpchimp['ilmnstrand'].append(record.strand)\n",
    "    snpchimp['snp'].append(record.alleles_a_b_top)\n",
    "    snpchimp['rsID'].append(record.rs)\n",
    "snpchimp = pandas.DataFrame.from_dict(snpchimp)\n",
    "snpchimp.set_index('name', inplace=True)\n",
    "snpchimp.head()"
   ]
  },
  {
   "cell_type": "markdown",
   "id": "critical-powder",
   "metadata": {},
   "source": [
    "I'm pretty sure that coordinates don't match. Assemblies are different. Does chips have same snps names?"
   ]
  },
  {
   "cell_type": "code",
   "execution_count": 5,
   "id": "criminal-perfume",
   "metadata": {},
   "outputs": [
    {
     "data": {
      "text/plain": [
       "False"
      ]
     },
     "execution_count": 5,
     "metadata": {},
     "output_type": "execute_result"
    }
   ],
   "source": [
    "sorted(list(snpchimp.index)) == sorted(list(ars_chip.index))"
   ]
  },
  {
   "cell_type": "markdown",
   "id": "another-wings",
   "metadata": {},
   "source": [
    "So, keys are different. Does the new chip contains all the SNPchimp entries?"
   ]
  },
  {
   "cell_type": "code",
   "execution_count": 6,
   "id": "strategic-purpose",
   "metadata": {},
   "outputs": [
    {
     "name": "stdout",
     "output_type": "stream",
     "text": [
      "Snps in SNPchimp: 53347\n",
      "Snp in chip which are also in SNPchimp: 53347\n",
      "New SNPs in chip: 6380\n"
     ]
    }
   ],
   "source": [
    "snpchimp_keys = set(list(snpchimp.index))\n",
    "ars_chip_keys = set(list(ars_chip.index))\n",
    "print(\"Snps in SNPchimp: %s\" %(len(snpchimp_keys)))\n",
    "print(\"Snp in chip which are also in SNPchimp: %s\" % (len(snpchimp_keys.intersection(ars_chip_keys))))\n",
    "print(\"New SNPs in chip: %s\" % len(ars_chip_keys.difference(snpchimp_keys)))"
   ]
  },
  {
   "cell_type": "markdown",
   "id": "pursuant-abraham",
   "metadata": {},
   "source": [
    "I've discovered that there are ~6300 new SNPs in the new chip version. Does the coordinate match for SNPs in two dataset? I soppose **NO** since assemblies are different"
   ]
  },
  {
   "cell_type": "code",
   "execution_count": 7,
   "id": "vocal-mountain",
   "metadata": {},
   "outputs": [
    {
     "name": "stdout",
     "output_type": "stream",
     "text": [
      "\n",
      "N of SNPs in different positions from illumina to SNPchimp: 53347\n",
      "\n",
      "N of SNPs with rsID with different positions from illumina to SNPchimp: 53345\n"
     ]
    }
   ],
   "source": [
    "count = 0\n",
    "rs_different = {}\n",
    "\n",
    "for i, ars_chip_row in ars_chip.iterrows():\n",
    "    if not ars_chip_row.name in snpchimp_keys:\n",
    "        continue\n",
    "    \n",
    "    # get row relying snp name\n",
    "    snpchimp_row = snpchimp.loc[ars_chip_row.name, :]\n",
    "    \n",
    "    if (snpchimp_row['chr'], snpchimp_row['position']) != (ars_chip_row['chr'], ars_chip_row['position']):\n",
    "        count += 1\n",
    "        if snpchimp_row['rsID'] != 'NULL':\n",
    "            rs_different[snpchimp_row['rsID']] = snpchimp_row.name\n",
    "    \n",
    "print(f\"\\nN of SNPs in different positions from illumina to SNPchimp: {count}\")\n",
    "print(f\"\\nN of SNPs with rsID with different positions from illumina to SNPchimp: {len(rs_different)}\")"
   ]
  },
  {
   "cell_type": "markdown",
   "id": "handed-access",
   "metadata": {},
   "source": [
    "So no coordinates match. Almost all SNPs have a rsID in snpchimp"
   ]
  },
  {
   "cell_type": "code",
   "execution_count": 8,
   "id": "packed-international",
   "metadata": {},
   "outputs": [],
   "source": [
    "selected_rsID = random.sample(sorted(list(rs_different.keys())), 20)"
   ]
  },
  {
   "cell_type": "code",
   "execution_count": 9,
   "id": "governing-unemployment",
   "metadata": {},
   "outputs": [
    {
     "name": "stdout",
     "output_type": "stream",
     "text": [
      "rs268239058 snp6081-scaffold1216-103970 13 9575467 C/A ['13', 9179149, 'top', 'A/C'] ['13', 9575467, 'TOP', 'A/C']\n",
      "rs268292422 snp35435-scaffold427-949089 9 41528091 G/A ['9', 41264923, 'top', 'A/G'] ['9', 41528091, 'TOP', 'A/G']\n",
      "rs268278628 snp46818-scaffold653-2097388 11 99026982 G/T ['11', 97952477, 'top', 'A/C'] ['11', 99026982, 'BOT', 'T/G']\n",
      "rs268248074 snp15346-scaffold163-2748091 22 38417436 C/T ['22', 38293677, 'top', 'A/G'] ['22', 38417436, 'TOP', 'A/G']\n",
      "rs268282075 snp50367-scaffold72-2629775 21 11607025 T/C ['21', 10396630, 'bottom', 'A/G'] ['21', 11607025, 'BOT', 'T/C']\n",
      "rs268241883 snp8977-scaffold1327-155697 16 22609992 A/G ['16', 21823346, 'top', 'A/G'] ['16', 22609992, 'TOP', 'A/G']\n",
      "rs268243138 snp10268-scaffold1368-2529699 23 6733488 G/A ['23', 40785604, 'top', 'A/G'] ['23', 6733488, 'TOP', 'A/G']\n",
      "rs268269625 snp37544-scaffold46-1948609 1 153745989 C/T ['1', 151371167, 'top', 'A/G'] ['1', 153745989, 'BOT', 'T/C']\n",
      "rs268268850 snp36756-scaffold445-2969981 15 48728463 T/C ['15', 31897111, 'bottom', 'A/G'] ['15', 48728463, 'BOT', 'T/C']\n",
      "rs268243863 snp11019-scaffold1395-1414989 21 35460034 C/T ['21', 33583602, 'top', 'A/G'] ['21', 35460034, 'BOT', 'T/C']\n",
      "rs268285807 snp54182-scaffold827-1365982 22 42528009 A/G ['22', 42407849, 'top', 'A/G'] ['22', 42528009, 'TOP', 'A/G']\n",
      "rs268277620 snp45792-scaffold628-1842602 15 38381298 T/C ['15', 42234729, 'top', 'A/G'] ['15', 38381298, 'BOT', 'T/C']\n",
      "rs268274585 snp42676-scaffold566-4132073 14 14964742 T/C ['14', 77560165, 'top', 'A/G'] ['14', 14964742, 'TOP', 'A/G']\n",
      "rs268279747 snp47974-scaffold676-200418 4 102093391 C/T ['4', 16323475, 'top', 'A/G'] ['4', 102093391, 'TOP', 'A/G']\n",
      "rs268234824 snp1740-scaffold1048-1979346 15 28298204 A/G ['15', 51312046, 'bottom', 'A/G'] ['15', 28298204, 'BOT', 'T/C']\n",
      "rs268251294 snp18702-scaffold189-886569 6 4945869 T/C ['6', 4000730, 'top', 'A/G'] ['6', 4945869, 'BOT', 'T/C']\n",
      "rs268252323 snp19799-scaffold199-4303220 17 42509012 A/G ['17', 28072460, 'bottom', 'A/G'] ['17', 42509012, 'BOT', 'T/C']\n",
      "rs268273990 snp42060-scaffold55-950219 3 60722674 A/G ['3', 57142821, 'bottom', 'A/G'] ['3', 60722674, 'TOP', 'A/G']\n"
     ]
    }
   ],
   "source": [
    "ensRest = EnsemblRest()\n",
    "result = ensRest.getVariationByMultipleIds(ids=selected_rsID, species=\"capra_hircus\")\n",
    "for key, value in result.items():\n",
    "    for location in value['mappings']:\n",
    "        print(\n",
    "            key, rs_different[key],\n",
    "            location['seq_region_name'], location['start'], location['allele_string'], \n",
    "            list(snpchimp.loc[rs_different[key], ['chr', 'position', 'ilmnstrand', 'snp']]), \n",
    "            list(ars_chip.loc[rs_different[key], ['chr', 'position', 'ilmnstrand', 'snp']])\n",
    "        )"
   ]
  },
  {
   "cell_type": "markdown",
   "id": "medieval-payment",
   "metadata": {},
   "source": [
    "It seems to me that coordinates stored in chip are identical with ensembl (or at least for this subset of SNPs)"
   ]
  }
 ],
 "metadata": {
  "kernelspec": {
   "display_name": "Python 3",
   "language": "python",
   "name": "python3"
  },
  "language_info": {
   "codemirror_mode": {
    "name": "ipython",
    "version": 3
   },
   "file_extension": ".py",
   "mimetype": "text/x-python",
   "name": "python",
   "nbconvert_exporter": "python",
   "pygments_lexer": "ipython3",
   "version": "3.9.1"
  }
 },
 "nbformat": 4,
 "nbformat_minor": 5
}
