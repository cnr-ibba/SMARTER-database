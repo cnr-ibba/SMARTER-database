{
 "cells": [
  {
   "cell_type": "markdown",
   "id": "brilliant-accused",
   "metadata": {},
   "source": [
    "# About Goat Coordinates\n",
    "Ensembl stores goat coordinates in **ARS1** assembly, which is the same of [GoatGenome project](http://www.goatgenome.org/projects.html). SNPchimp doesn't have any information on such assembly, but it seems keeping the coorespondences between *snp names* and *rsID*"
   ]
  },
  {
   "cell_type": "code",
   "execution_count": 1,
   "id": "surprising-hurricane",
   "metadata": {},
   "outputs": [],
   "source": [
    "import os\n",
    "import itertools\n",
    "import random\n",
    "\n",
    "from pathlib import Path\n",
    "from importlib import reload\n",
    "\n",
    "from ensemblrest import EnsemblRest\n",
    "\n",
    "import src.features.illumina\n",
    "import src.features.snpchimp\n",
    "\n",
    "random.seed = 42"
   ]
  },
  {
   "cell_type": "markdown",
   "id": "worthy-logistics",
   "metadata": {},
   "source": [
    "Like sheep, try to read data files for Goat:"
   ]
  },
  {
   "cell_type": "code",
   "execution_count": 2,
   "id": "shared-tunisia",
   "metadata": {},
   "outputs": [],
   "source": [
    "project_dir = Path.cwd().parents[1]\n",
    "illumina_chip = project_dir / \"data/external/GOA/ILLUMINA/Goat_IGGC_65K_v2_15069617X365016_A2.csv\"\n",
    "snpchimp_file = project_dir / \"data/external/GOA/SNPCHIMP/SNPchimp_GOAT_SNP50_chi1.0.csv\""
   ]
  },
  {
   "cell_type": "code",
   "execution_count": 3,
   "id": "executed-screening",
   "metadata": {},
   "outputs": [],
   "source": [
    "ars_chip = dict()\n",
    "for record in src.features.illumina.read_snpChip(illumina_chip, delimiter=','):\n",
    "    ars_chip[record.name] = (record.chr, record.mapinfo)"
   ]
  },
  {
   "cell_type": "code",
   "execution_count": 4,
   "id": "inappropriate-berlin",
   "metadata": {},
   "outputs": [],
   "source": [
    "snpchimp = dict()\n",
    "for record in src.features.snpchimp.read_snpChimp(snpchimp_file):\n",
    "    snpchimp[record.snp_name] = [(record.chromosome, record.position), record.rs]"
   ]
  },
  {
   "cell_type": "markdown",
   "id": "prescription-credits",
   "metadata": {},
   "source": [
    "I'm pretty sure that coordinates don't match. Assemblies are different. Does chips have same snps names?"
   ]
  },
  {
   "cell_type": "code",
   "execution_count": 5,
   "id": "underlying-lexington",
   "metadata": {},
   "outputs": [
    {
     "data": {
      "text/plain": [
       "False"
      ]
     },
     "execution_count": 5,
     "metadata": {},
     "output_type": "execute_result"
    }
   ],
   "source": [
    "sorted(snpchimp.keys()) == sorted(ars_chip.keys())"
   ]
  },
  {
   "cell_type": "markdown",
   "id": "grave-husband",
   "metadata": {},
   "source": [
    "So, keys are different. Does the new chip contains all the SNPchimp entries?"
   ]
  },
  {
   "cell_type": "code",
   "execution_count": 6,
   "id": "dental-baking",
   "metadata": {},
   "outputs": [
    {
     "name": "stdout",
     "output_type": "stream",
     "text": [
      "Snps in SNPchimp: 53347\n",
      "Snp in chip which are also in SNPchimp: 53347\n",
      "New SNPs in chip: 6380\n"
     ]
    }
   ],
   "source": [
    "snpchimp_keys = set(snpchimp.keys())\n",
    "ars_chip_keys = set(ars_chip.keys())\n",
    "print(\"Snps in SNPchimp: %s\" %(len(snpchimp_keys)))\n",
    "print(\"Snp in chip which are also in SNPchimp: %s\" % (len(snpchimp_keys.intersection(ars_chip_keys))))\n",
    "print(\"New SNPs in chip: %s\" % len(ars_chip_keys.difference(snpchimp_keys)))"
   ]
  },
  {
   "cell_type": "markdown",
   "id": "given-terrain",
   "metadata": {},
   "source": [
    "I've discovered that there are ~6300 new SNPs in the new chip version. Does the coordinate match for SNPs in two dataset? I soppose **NO** since assemblies are different"
   ]
  },
  {
   "cell_type": "code",
   "execution_count": 7,
   "id": "according-linux",
   "metadata": {},
   "outputs": [
    {
     "name": "stdout",
     "output_type": "stream",
     "text": [
      "\n",
      "N of SNPs in different positions from illumina to SNPchimp: 53347\n",
      "\n",
      "N of SNPs with rsID with different positions from illumina to SNPchimp: 53345\n"
     ]
    }
   ],
   "source": [
    "count = 0\n",
    "rs_different = {}\n",
    "\n",
    "for i, (key, value) in enumerate(ars_chip.items()):\n",
    "    if not key in snpchimp:\n",
    "        continue\n",
    "        \n",
    "    if value != snpchimp[key][0]:\n",
    "        count += 1\n",
    "        if snpchimp[key][1] != 'NULL':\n",
    "            rs_different[snpchimp[key][1]] = key\n",
    "        \n",
    "    if i < 10:\n",
    "        print(key, value, snpchimp[key])\n",
    "        \n",
    "    elif i == 10:\n",
    "        print(\"...\")\n",
    "        \n",
    "print(f\"\\nN of SNPs in different positions from illumina to SNPchimp: {count}\")\n",
    "print(f\"\\nN of SNPs with rsID with different positions from illumina to SNPchimp: {len(rs_different)}\")"
   ]
  },
  {
   "cell_type": "markdown",
   "id": "promotional-rochester",
   "metadata": {},
   "source": [
    "So no coordinates match. Almost all SNPs have a rsID in snpchimp"
   ]
  },
  {
   "cell_type": "code",
   "execution_count": 8,
   "id": "funny-booth",
   "metadata": {},
   "outputs": [],
   "source": [
    "selected_rsID = random.sample(sorted(list(rs_different.keys())), 20)"
   ]
  },
  {
   "cell_type": "code",
   "execution_count": 9,
   "id": "solved-copper",
   "metadata": {},
   "outputs": [
    {
     "name": "stdout",
     "output_type": "stream",
     "text": [
      "rs268267859 2 96832550 [('2', 38735494), 'rs268267859'] ('2', 96832550)\n",
      "rs268278731 3 83126133 [('3', 35289018), 'rs268278731'] ('0.NW_scaffold', 11865)\n",
      "rs268267544 9 41101060 [('9', 40838835), 'rs268267544'] ('9', 41101060)\n",
      "rs268283082 2 78014805 [('2', 57558876), 'rs268283082'] ('2', 78014805)\n",
      "rs268251314 5 4738366 [('5', 4709049), 'rs268251314'] ('5', 4738366)\n",
      "rs268276522 20 37193614 [('20', 36929497), 'rs268276522'] ('20', 37193614)\n",
      "rs268234717 19 14879682 [('19', 14577961), 'rs268234717'] ('19', 14879682)\n",
      "rs268253096 1 5392991 [('1', 6233916), 'rs268253096'] ('1', 5392991)\n",
      "rs268260220 1 138469529 [('1', 136455683), 'rs268260220'] ('1', 138469529)\n",
      "rs268293116 6 86209997 [('6', 82907013), 'rs268293116'] ('6', 86209997)\n",
      "rs268236795 16 64044670 [('16', 63062129), 'rs268236795'] ('16', 64044670)\n",
      "rs268283889 26 6903525 [('26', 43500435), 'rs268283889'] ('26', 6903525)\n",
      "rs268244330 26 26883778 [('26', 23159349), 'rs268244330'] ('26', 26883778)\n",
      "rs268237037 17 22501157 [('17', 48254896), 'rs268237037'] ('17', 22501157)\n",
      "rs268253361 16 47728180 [('16', 46756396), 'rs268253361'] ('16', 47728180)\n",
      "rs268236977 16 40015684 [('16', 39141866), 'rs268236977'] ('16', 40015684)\n",
      "rs268275043 14 68772017 [('14', 23841378), 'rs268275043'] ('14', 68772017)\n",
      "rs268273976 3 61396736 [('3', 56472522), 'rs268273976'] ('3', 61396736)\n"
     ]
    }
   ],
   "source": [
    "ensRest = EnsemblRest()\n",
    "result = ensRest.getVariationByMultipleIds(ids=selected_rsID, species=\"capra_hircus\")\n",
    "for key, value in result.items():\n",
    "    for location in value['mappings']:\n",
    "        print(key, location['seq_region_name'], location['start'], snpchimp[rs_different[key]], ars_chip[rs_different[key]])"
   ]
  },
  {
   "cell_type": "markdown",
   "id": "effective-helping",
   "metadata": {},
   "source": [
    "It seems to me that coordinates stored in chip are identical (with one exception) with ensembl (or at least for this subset of SNPs)"
   ]
  }
 ],
 "metadata": {
  "kernelspec": {
   "display_name": "Python 3",
   "language": "python",
   "name": "python3"
  },
  "language_info": {
   "codemirror_mode": {
    "name": "ipython",
    "version": 3
   },
   "file_extension": ".py",
   "mimetype": "text/x-python",
   "name": "python",
   "nbconvert_exporter": "python",
   "pygments_lexer": "ipython3",
   "version": "3.9.1"
  }
 },
 "nbformat": 4,
 "nbformat_minor": 5
}
