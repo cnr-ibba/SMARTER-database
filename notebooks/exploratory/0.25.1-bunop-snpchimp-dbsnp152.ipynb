{
 "cells": [
  {
   "cell_type": "markdown",
   "id": "ddcc4509-b47e-4f87-8db0-83fb9a92fdd9",
   "metadata": {},
   "source": [
    "# dbSNP152 vs SNPchiMpv3\n",
    "Since I've uploaded data from the latest dbSNP backup and I'm using this data to compare my alignments, I want to see if this data is similar to SNPchiMp data, which is the reference I use to provide genotypes with updated coordinates:"
   ]
  },
  {
   "cell_type": "code",
   "execution_count": 1,
   "id": "12bf4400-c010-4c06-9c00-eead99dd99b3",
   "metadata": {},
   "outputs": [],
   "source": [
    "import os\n",
    "import pymongo\n",
    "import pandas as pd\n",
    "\n",
    "from dotenv import find_dotenv, load_dotenv\n",
    "from pymongo import MongoClient\n",
    "from pymongoarrow.monkey import patch_all\n",
    "from pymongoarrow.api import Schema"
   ]
  },
  {
   "cell_type": "code",
   "execution_count": 2,
   "id": "6eaf1346-9f10-4ae3-8f2b-26fe145ba333",
   "metadata": {},
   "outputs": [],
   "source": [
    "load_dotenv(find_dotenv())\n",
    "patch_all()"
   ]
  },
  {
   "cell_type": "code",
   "execution_count": 3,
   "id": "da138f41-1924-4086-97c3-f40db7d7587f",
   "metadata": {},
   "outputs": [],
   "source": [
    "conn = MongoClient(\n",
    "    'mongodb://localhost:27017/',\n",
    "    username=os.getenv(\"MONGODB_SMARTER_USER\"),\n",
    "    password=os.getenv(\"MONGODB_SMARTER_PASS\")\n",
    ")\n",
    "smarter = conn['smarter']"
   ]
  },
  {
   "cell_type": "markdown",
   "id": "0f1fa542-7c07-4943-90c8-4afef1854d3c",
   "metadata": {},
   "source": [
    "Now define a *MongoDB* pipeline which collect and transform data in the simplest way:"
   ]
  },
  {
   "cell_type": "code",
   "execution_count": 4,
   "id": "248c6c46-ca58-4b8d-9919-a8fd36b58079",
   "metadata": {},
   "outputs": [],
   "source": [
    "def get_pipeline(imported_from: str, version: str, columns: list[str]):\n",
    "    return [\n",
    "        # match the SNPs I want\n",
    "        {\"$match\": {\n",
    "            \"locations\": {\"$elemMatch\": {\"version\": version, \"imported_from\": imported_from}}\n",
    "        }},\n",
    "        # now limit the fields I need\n",
    "        {\"$project\": {\n",
    "            \"snp_name\": \"$name\",\n",
    "            # this will join a list of strings, like \",\".join(list)\n",
    "            \"rs_id\": {\n",
    "                \"$reduce\": {\n",
    "                    \"input\": \"$rs_id\", \n",
    "                    \"initialValue\": \"\", \n",
    "                    \"in\": {\n",
    "                        \"$concat\": [\n",
    "                            \"$$value\", \n",
    "                            {'$cond': [{'$eq': ['$$value', '']}, '', ', ']}, \n",
    "                            \"$$this\"\n",
    "                        ]\n",
    "                    }\n",
    "                }\n",
    "            },\n",
    "            # this is how to do an $elemMatch in a projection step of a pipeline\n",
    "            \"locations\": {\n",
    "                \"$filter\": {\n",
    "                    \"input\": \"$locations\", \n",
    "                    \"as\": \"location\", \n",
    "                    \"cond\": {\n",
    "                        \"$and\": [\n",
    "                            {\"$eq\": [\"$$location.imported_from\", imported_from]}, \n",
    "                            {\"$eq\": [\"$$location.version\", version]}\n",
    "                        ]\n",
    "                    }\n",
    "                }\n",
    "            }\n",
    "        }},\n",
    "        # attempt to simplify locations, get a row for each item of array (unpack the only item)\n",
    "        {\"$unwind\": \"$locations\"}, \n",
    "        # track the fields I'm interested\n",
    "        {\"$set\": {\n",
    "            columns[0]: \"$locations.chrom\", \n",
    "            columns[1]: \"$locations.position\"\n",
    "        }},\n",
    "        # remove the field I don't want\n",
    "        {\"$unset\": \"locations\"}\n",
    "    ]"
   ]
  },
  {
   "cell_type": "markdown",
   "id": "f49285e2-2667-4032-82df-53c51fa5cff7",
   "metadata": {},
   "source": [
    "## Sheep\n",
    "Here I execute the aggregation pipeline and set index like I did for other chips:"
   ]
  },
  {
   "cell_type": "code",
   "execution_count": 5,
   "id": "fd86e414-cf9a-455f-aaec-b02786e9a82b",
   "metadata": {},
   "outputs": [],
   "source": [
    "variantSheep = smarter['variantSheep']"
   ]
  },
  {
   "cell_type": "code",
   "execution_count": 6,
   "id": "2d5d9ad1-534f-4336-bdeb-8bbf08b7099a",
   "metadata": {},
   "outputs": [
    {
     "data": {
      "text/html": [
       "<div>\n",
       "<style scoped>\n",
       "    .dataframe tbody tr th:only-of-type {\n",
       "        vertical-align: middle;\n",
       "    }\n",
       "\n",
       "    .dataframe tbody tr th {\n",
       "        vertical-align: top;\n",
       "    }\n",
       "\n",
       "    .dataframe thead th {\n",
       "        text-align: right;\n",
       "    }\n",
       "</style>\n",
       "<table border=\"1\" class=\"dataframe\">\n",
       "  <thead>\n",
       "    <tr style=\"text-align: right;\">\n",
       "      <th></th>\n",
       "      <th>rs_id</th>\n",
       "      <th>ncbi_chrom</th>\n",
       "      <th>ncbi_position</th>\n",
       "    </tr>\n",
       "    <tr>\n",
       "      <th>snp_name</th>\n",
       "      <th></th>\n",
       "      <th></th>\n",
       "      <th></th>\n",
       "    </tr>\n",
       "  </thead>\n",
       "  <tbody>\n",
       "    <tr>\n",
       "      <th>250506CS3900065000002_1238.1</th>\n",
       "      <td>rs55630613</td>\n",
       "      <td>15</td>\n",
       "      <td>5859890</td>\n",
       "    </tr>\n",
       "    <tr>\n",
       "      <th>250506CS3900140500001_312.1</th>\n",
       "      <td>rs55630642</td>\n",
       "      <td>23</td>\n",
       "      <td>26243215</td>\n",
       "    </tr>\n",
       "    <tr>\n",
       "      <th>250506CS3900176800001_906.1</th>\n",
       "      <td>rs55630654</td>\n",
       "      <td>7</td>\n",
       "      <td>81590897</td>\n",
       "    </tr>\n",
       "    <tr>\n",
       "      <th>250506CS3900211600001_1041.1</th>\n",
       "      <td>rs55630658</td>\n",
       "      <td>16</td>\n",
       "      <td>41363310</td>\n",
       "    </tr>\n",
       "    <tr>\n",
       "      <th>250506CS3900218700001_1294.1</th>\n",
       "      <td>rs55630663</td>\n",
       "      <td>2</td>\n",
       "      <td>148834939</td>\n",
       "    </tr>\n",
       "  </tbody>\n",
       "</table>\n",
       "</div>"
      ],
      "text/plain": [
       "                                   rs_id ncbi_chrom  ncbi_position\n",
       "snp_name                                                          \n",
       "250506CS3900065000002_1238.1  rs55630613         15        5859890\n",
       "250506CS3900140500001_312.1   rs55630642         23       26243215\n",
       "250506CS3900176800001_906.1   rs55630654          7       81590897\n",
       "250506CS3900211600001_1041.1  rs55630658         16       41363310\n",
       "250506CS3900218700001_1294.1  rs55630663          2      148834939"
      ]
     },
     "execution_count": 6,
     "metadata": {},
     "output_type": "execute_result"
    }
   ],
   "source": [
    "pipeline = get_pipeline(imported_from=\"dbSNP152\", version=\"Oar_v4.0\", columns=[\"ncbi_chrom\", \"ncbi_position\"])\n",
    "schema = Schema({\"snp_name\": str, \"rs_id\": str, \"ncbi_chrom\": str, \"ncbi_position\": int})\n",
    "\n",
    "ncbi_locations = variantSheep.aggregate_pandas_all(pipeline, schema=schema)\n",
    "ncbi_locations.set_index('snp_name', inplace=True)\n",
    "ncbi_locations.head()"
   ]
  },
  {
   "cell_type": "markdown",
   "id": "3f831534-f468-486e-8f87-26648947af12",
   "metadata": {},
   "source": [
    "Ok, time to collect data but for SNPchiMp coordinates:"
   ]
  },
  {
   "cell_type": "code",
   "execution_count": 7,
   "id": "efa9d61d-01e2-4048-903e-aef0b56f298a",
   "metadata": {},
   "outputs": [
    {
     "data": {
      "text/html": [
       "<div>\n",
       "<style scoped>\n",
       "    .dataframe tbody tr th:only-of-type {\n",
       "        vertical-align: middle;\n",
       "    }\n",
       "\n",
       "    .dataframe tbody tr th {\n",
       "        vertical-align: top;\n",
       "    }\n",
       "\n",
       "    .dataframe thead th {\n",
       "        text-align: right;\n",
       "    }\n",
       "</style>\n",
       "<table border=\"1\" class=\"dataframe\">\n",
       "  <thead>\n",
       "    <tr style=\"text-align: right;\">\n",
       "      <th></th>\n",
       "      <th>rs_id</th>\n",
       "      <th>snpchimp_chrom</th>\n",
       "      <th>snpchimp_position</th>\n",
       "    </tr>\n",
       "    <tr>\n",
       "      <th>snp_name</th>\n",
       "      <th></th>\n",
       "      <th></th>\n",
       "      <th></th>\n",
       "    </tr>\n",
       "  </thead>\n",
       "  <tbody>\n",
       "    <tr>\n",
       "      <th>250506CS3900065000002_1238.1</th>\n",
       "      <td>rs55630613</td>\n",
       "      <td>15</td>\n",
       "      <td>5859890</td>\n",
       "    </tr>\n",
       "    <tr>\n",
       "      <th>250506CS3900140500001_312.1</th>\n",
       "      <td>rs55630642</td>\n",
       "      <td>23</td>\n",
       "      <td>26243215</td>\n",
       "    </tr>\n",
       "    <tr>\n",
       "      <th>250506CS3900176800001_906.1</th>\n",
       "      <td>rs55630654</td>\n",
       "      <td>7</td>\n",
       "      <td>81590897</td>\n",
       "    </tr>\n",
       "    <tr>\n",
       "      <th>250506CS3900211600001_1041.1</th>\n",
       "      <td>rs55630658</td>\n",
       "      <td>16</td>\n",
       "      <td>41363310</td>\n",
       "    </tr>\n",
       "    <tr>\n",
       "      <th>250506CS3900218700001_1294.1</th>\n",
       "      <td>rs55630663</td>\n",
       "      <td>2</td>\n",
       "      <td>148834939</td>\n",
       "    </tr>\n",
       "  </tbody>\n",
       "</table>\n",
       "</div>"
      ],
      "text/plain": [
       "                                   rs_id snpchimp_chrom  snpchimp_position\n",
       "snp_name                                                                  \n",
       "250506CS3900065000002_1238.1  rs55630613             15            5859890\n",
       "250506CS3900140500001_312.1   rs55630642             23           26243215\n",
       "250506CS3900176800001_906.1   rs55630654              7           81590897\n",
       "250506CS3900211600001_1041.1  rs55630658             16           41363310\n",
       "250506CS3900218700001_1294.1  rs55630663              2          148834939"
      ]
     },
     "execution_count": 7,
     "metadata": {},
     "output_type": "execute_result"
    }
   ],
   "source": [
    "pipeline = get_pipeline(imported_from=\"SNPchiMp v.3\", version=\"Oar_v4.0\", columns=[\"snpchimp_chrom\", \"snpchimp_position\"])\n",
    "schema = Schema({\"snp_name\": str, \"rs_id\": str, \"snpchimp_chrom\": str, \"snpchimp_position\": int})\n",
    "\n",
    "snpchimp_locations = variantSheep.aggregate_pandas_all(pipeline, schema=schema)\n",
    "snpchimp_locations.set_index('snp_name', inplace=True)\n",
    "snpchimp_locations.head()"
   ]
  },
  {
   "cell_type": "markdown",
   "id": "f15d1136-c083-40f3-be5b-60ba79fa2c5e",
   "metadata": {},
   "source": [
    "Now join the two tables relying on snp_name. A inner join will do what I need"
   ]
  },
  {
   "cell_type": "code",
   "execution_count": 8,
   "id": "93398885-7d9c-4802-a515-1aa71b501d3b",
   "metadata": {},
   "outputs": [
    {
     "name": "stdout",
     "output_type": "stream",
     "text": [
      "<class 'pandas.core.frame.DataFrame'>\n",
      "Index: 610849 entries, 250506CS3900065000002_1238.1 to oar3_scaffold008050_3569\n",
      "Data columns (total 6 columns):\n",
      " #   Column             Non-Null Count   Dtype \n",
      "---  ------             --------------   ----- \n",
      " 0   rs_id_x            610849 non-null  object\n",
      " 1   snpchimp_chrom     610849 non-null  object\n",
      " 2   snpchimp_position  610849 non-null  int64 \n",
      " 3   rs_id_y            610849 non-null  object\n",
      " 4   ncbi_chrom         610849 non-null  object\n",
      " 5   ncbi_position      610849 non-null  int64 \n",
      "dtypes: int64(2), object(4)\n",
      "memory usage: 32.6+ MB\n"
     ]
    }
   ],
   "source": [
    "merged = snpchimp_locations.merge(ncbi_locations, on='snp_name', how='inner')\n",
    "merged.info()"
   ]
  },
  {
   "cell_type": "code",
   "execution_count": 9,
   "id": "1d15ab39-1de7-4436-9298-13955e3e321b",
   "metadata": {},
   "outputs": [
    {
     "data": {
      "text/html": [
       "<div>\n",
       "<style scoped>\n",
       "    .dataframe tbody tr th:only-of-type {\n",
       "        vertical-align: middle;\n",
       "    }\n",
       "\n",
       "    .dataframe tbody tr th {\n",
       "        vertical-align: top;\n",
       "    }\n",
       "\n",
       "    .dataframe thead th {\n",
       "        text-align: right;\n",
       "    }\n",
       "</style>\n",
       "<table border=\"1\" class=\"dataframe\">\n",
       "  <thead>\n",
       "    <tr style=\"text-align: right;\">\n",
       "      <th></th>\n",
       "      <th>rs_id_x</th>\n",
       "      <th>snpchimp_chrom</th>\n",
       "      <th>snpchimp_position</th>\n",
       "      <th>rs_id_y</th>\n",
       "      <th>ncbi_chrom</th>\n",
       "      <th>ncbi_position</th>\n",
       "    </tr>\n",
       "    <tr>\n",
       "      <th>snp_name</th>\n",
       "      <th></th>\n",
       "      <th></th>\n",
       "      <th></th>\n",
       "      <th></th>\n",
       "      <th></th>\n",
       "      <th></th>\n",
       "    </tr>\n",
       "  </thead>\n",
       "  <tbody>\n",
       "    <tr>\n",
       "      <th>250506CS3900065000002_1238.1</th>\n",
       "      <td>rs55630613</td>\n",
       "      <td>15</td>\n",
       "      <td>5859890</td>\n",
       "      <td>rs55630613</td>\n",
       "      <td>15</td>\n",
       "      <td>5859890</td>\n",
       "    </tr>\n",
       "    <tr>\n",
       "      <th>250506CS3900140500001_312.1</th>\n",
       "      <td>rs55630642</td>\n",
       "      <td>23</td>\n",
       "      <td>26243215</td>\n",
       "      <td>rs55630642</td>\n",
       "      <td>23</td>\n",
       "      <td>26243215</td>\n",
       "    </tr>\n",
       "    <tr>\n",
       "      <th>250506CS3900176800001_906.1</th>\n",
       "      <td>rs55630654</td>\n",
       "      <td>7</td>\n",
       "      <td>81590897</td>\n",
       "      <td>rs55630654</td>\n",
       "      <td>7</td>\n",
       "      <td>81590897</td>\n",
       "    </tr>\n",
       "    <tr>\n",
       "      <th>250506CS3900211600001_1041.1</th>\n",
       "      <td>rs55630658</td>\n",
       "      <td>16</td>\n",
       "      <td>41363310</td>\n",
       "      <td>rs55630658</td>\n",
       "      <td>16</td>\n",
       "      <td>41363310</td>\n",
       "    </tr>\n",
       "    <tr>\n",
       "      <th>250506CS3900218700001_1294.1</th>\n",
       "      <td>rs55630663</td>\n",
       "      <td>2</td>\n",
       "      <td>148834939</td>\n",
       "      <td>rs55630663</td>\n",
       "      <td>2</td>\n",
       "      <td>148834939</td>\n",
       "    </tr>\n",
       "  </tbody>\n",
       "</table>\n",
       "</div>"
      ],
      "text/plain": [
       "                                 rs_id_x snpchimp_chrom  snpchimp_position  \\\n",
       "snp_name                                                                     \n",
       "250506CS3900065000002_1238.1  rs55630613             15            5859890   \n",
       "250506CS3900140500001_312.1   rs55630642             23           26243215   \n",
       "250506CS3900176800001_906.1   rs55630654              7           81590897   \n",
       "250506CS3900211600001_1041.1  rs55630658             16           41363310   \n",
       "250506CS3900218700001_1294.1  rs55630663              2          148834939   \n",
       "\n",
       "                                 rs_id_y ncbi_chrom  ncbi_position  \n",
       "snp_name                                                            \n",
       "250506CS3900065000002_1238.1  rs55630613         15        5859890  \n",
       "250506CS3900140500001_312.1   rs55630642         23       26243215  \n",
       "250506CS3900176800001_906.1   rs55630654          7       81590897  \n",
       "250506CS3900211600001_1041.1  rs55630658         16       41363310  \n",
       "250506CS3900218700001_1294.1  rs55630663          2      148834939  "
      ]
     },
     "execution_count": 9,
     "metadata": {},
     "output_type": "execute_result"
    }
   ],
   "source": [
    "merged.head()"
   ]
  },
  {
   "cell_type": "markdown",
   "id": "47747414-7022-4204-8296-ae9df9c86063",
   "metadata": {},
   "source": [
    "Ok focus on the differences between SNPchiMp and NCBI:"
   ]
  },
  {
   "cell_type": "code",
   "execution_count": 10,
   "id": "3d2490e4-d6be-470f-b621-09ffbf8ee8ad",
   "metadata": {},
   "outputs": [
    {
     "name": "stdout",
     "output_type": "stream",
     "text": [
      "<class 'pandas.core.frame.DataFrame'>\n",
      "Index: 81 entries, DU443720_334.1 to oar3_scaffold006612_5276\n",
      "Data columns (total 6 columns):\n",
      " #   Column             Non-Null Count  Dtype \n",
      "---  ------             --------------  ----- \n",
      " 0   rs_id_x            81 non-null     object\n",
      " 1   snpchimp_chrom     81 non-null     object\n",
      " 2   snpchimp_position  81 non-null     int64 \n",
      " 3   rs_id_y            81 non-null     object\n",
      " 4   ncbi_chrom         81 non-null     object\n",
      " 5   ncbi_position      81 non-null     int64 \n",
      "dtypes: int64(2), object(4)\n",
      "memory usage: 4.4+ KB\n"
     ]
    }
   ],
   "source": [
    "differences = merged.query(\"snpchimp_chrom != ncbi_chrom | snpchimp_position != ncbi_position\")\n",
    "differences.info()"
   ]
  },
  {
   "cell_type": "code",
   "execution_count": 11,
   "id": "a1cf0864-9b02-4901-b733-4033c371bb3e",
   "metadata": {},
   "outputs": [
    {
     "data": {
      "text/html": [
       "<div>\n",
       "<style scoped>\n",
       "    .dataframe tbody tr th:only-of-type {\n",
       "        vertical-align: middle;\n",
       "    }\n",
       "\n",
       "    .dataframe tbody tr th {\n",
       "        vertical-align: top;\n",
       "    }\n",
       "\n",
       "    .dataframe thead th {\n",
       "        text-align: right;\n",
       "    }\n",
       "</style>\n",
       "<table border=\"1\" class=\"dataframe\">\n",
       "  <thead>\n",
       "    <tr style=\"text-align: right;\">\n",
       "      <th></th>\n",
       "      <th>rs_id_x</th>\n",
       "      <th>snpchimp_chrom</th>\n",
       "      <th>snpchimp_position</th>\n",
       "      <th>rs_id_y</th>\n",
       "      <th>ncbi_chrom</th>\n",
       "      <th>ncbi_position</th>\n",
       "    </tr>\n",
       "    <tr>\n",
       "      <th>snp_name</th>\n",
       "      <th></th>\n",
       "      <th></th>\n",
       "      <th></th>\n",
       "      <th></th>\n",
       "      <th></th>\n",
       "      <th></th>\n",
       "    </tr>\n",
       "  </thead>\n",
       "  <tbody>\n",
       "    <tr>\n",
       "      <th>DU443720_334.1</th>\n",
       "      <td>rs411374027</td>\n",
       "      <td>24</td>\n",
       "      <td>41255643</td>\n",
       "      <td>rs411374027</td>\n",
       "      <td>0</td>\n",
       "      <td>0</td>\n",
       "    </tr>\n",
       "    <tr>\n",
       "      <th>OAR1_116586605.1</th>\n",
       "      <td>rs405276567</td>\n",
       "      <td>1</td>\n",
       "      <td>107625664</td>\n",
       "      <td>rs405276567</td>\n",
       "      <td>0</td>\n",
       "      <td>0</td>\n",
       "    </tr>\n",
       "    <tr>\n",
       "      <th>OAR1_133336476.1</th>\n",
       "      <td>rs415844707</td>\n",
       "      <td>1</td>\n",
       "      <td>122909689</td>\n",
       "      <td>rs415844707</td>\n",
       "      <td>0</td>\n",
       "      <td>0</td>\n",
       "    </tr>\n",
       "    <tr>\n",
       "      <th>OAR1_178163941.1</th>\n",
       "      <td>rs419744835</td>\n",
       "      <td>1</td>\n",
       "      <td>164945412</td>\n",
       "      <td>rs419744835</td>\n",
       "      <td>0</td>\n",
       "      <td>0</td>\n",
       "    </tr>\n",
       "    <tr>\n",
       "      <th>OAR1_211799990.1</th>\n",
       "      <td>rs409415213</td>\n",
       "      <td>1</td>\n",
       "      <td>195993950</td>\n",
       "      <td>rs409415213</td>\n",
       "      <td>0</td>\n",
       "      <td>0</td>\n",
       "    </tr>\n",
       "  </tbody>\n",
       "</table>\n",
       "</div>"
      ],
      "text/plain": [
       "                      rs_id_x snpchimp_chrom  snpchimp_position      rs_id_y  \\\n",
       "snp_name                                                                       \n",
       "DU443720_334.1    rs411374027             24           41255643  rs411374027   \n",
       "OAR1_116586605.1  rs405276567              1          107625664  rs405276567   \n",
       "OAR1_133336476.1  rs415844707              1          122909689  rs415844707   \n",
       "OAR1_178163941.1  rs419744835              1          164945412  rs419744835   \n",
       "OAR1_211799990.1  rs409415213              1          195993950  rs409415213   \n",
       "\n",
       "                 ncbi_chrom  ncbi_position  \n",
       "snp_name                                    \n",
       "DU443720_334.1            0              0  \n",
       "OAR1_116586605.1          0              0  \n",
       "OAR1_133336476.1          0              0  \n",
       "OAR1_178163941.1          0              0  \n",
       "OAR1_211799990.1          0              0  "
      ]
     },
     "execution_count": 11,
     "metadata": {},
     "output_type": "execute_result"
    }
   ],
   "source": [
    "differences.head()"
   ]
  },
  {
   "cell_type": "code",
   "execution_count": 12,
   "id": "e49e1b21-3257-45a4-8c40-362e36e56510",
   "metadata": {},
   "outputs": [
    {
     "data": {
      "text/plain": [
       "0    81\n",
       "Name: ncbi_chrom, dtype: int64"
      ]
     },
     "execution_count": 12,
     "metadata": {},
     "output_type": "execute_result"
    }
   ],
   "source": [
    "differences[\"ncbi_chrom\"].value_counts()"
   ]
  },
  {
   "cell_type": "markdown",
   "id": "f287dba4-2328-4808-8684-57f3bd1b0e78",
   "metadata": {},
   "source": [
    "So, I saw 81 differences which are all on chromosome 0 for NCBI (maybe they have been removed from alignments). I'm pretty confident about my dbSNP import"
   ]
  },
  {
   "cell_type": "markdown",
   "id": "bb9cc75c-8ae0-49fa-8082-181ae6b112bb",
   "metadata": {},
   "source": [
    "## Goat\n",
    "doing the same stuff, but for Goats:"
   ]
  },
  {
   "cell_type": "code",
   "execution_count": 13,
   "id": "94057df2-f486-473b-bda1-88fe98692da3",
   "metadata": {},
   "outputs": [],
   "source": [
    "variantGoat = smarter['variantGoat']"
   ]
  },
  {
   "cell_type": "code",
   "execution_count": 14,
   "id": "2cc0c802-678d-4595-bb2d-85f4274c361b",
   "metadata": {},
   "outputs": [
    {
     "data": {
      "text/html": [
       "<div>\n",
       "<style scoped>\n",
       "    .dataframe tbody tr th:only-of-type {\n",
       "        vertical-align: middle;\n",
       "    }\n",
       "\n",
       "    .dataframe tbody tr th {\n",
       "        vertical-align: top;\n",
       "    }\n",
       "\n",
       "    .dataframe thead th {\n",
       "        text-align: right;\n",
       "    }\n",
       "</style>\n",
       "<table border=\"1\" class=\"dataframe\">\n",
       "  <thead>\n",
       "    <tr style=\"text-align: right;\">\n",
       "      <th></th>\n",
       "      <th>rs_id</th>\n",
       "      <th>ncbi_chrom</th>\n",
       "      <th>ncbi_position</th>\n",
       "    </tr>\n",
       "    <tr>\n",
       "      <th>snp_name</th>\n",
       "      <th></th>\n",
       "      <th></th>\n",
       "      <th></th>\n",
       "    </tr>\n",
       "  </thead>\n",
       "  <tbody>\n",
       "    <tr>\n",
       "      <th>snp1-scaffold1-2170</th>\n",
       "      <td>rs268233143</td>\n",
       "      <td>22</td>\n",
       "      <td>27222753</td>\n",
       "    </tr>\n",
       "    <tr>\n",
       "      <th>snp1-scaffold708-1421224</th>\n",
       "      <td>rs268293133</td>\n",
       "      <td>14</td>\n",
       "      <td>90885671</td>\n",
       "    </tr>\n",
       "    <tr>\n",
       "      <th>snp10-scaffold1-352655</th>\n",
       "      <td>rs268233152</td>\n",
       "      <td>22</td>\n",
       "      <td>26872268</td>\n",
       "    </tr>\n",
       "    <tr>\n",
       "      <th>snp1000-scaffold1026-533890</th>\n",
       "      <td>rs268291433</td>\n",
       "      <td>8</td>\n",
       "      <td>68958341</td>\n",
       "    </tr>\n",
       "    <tr>\n",
       "      <th>snp10000-scaffold1356-652219</th>\n",
       "      <td>rs268242876</td>\n",
       "      <td>7</td>\n",
       "      <td>50027003</td>\n",
       "    </tr>\n",
       "  </tbody>\n",
       "</table>\n",
       "</div>"
      ],
      "text/plain": [
       "                                    rs_id ncbi_chrom  ncbi_position\n",
       "snp_name                                                           \n",
       "snp1-scaffold1-2170           rs268233143         22       27222753\n",
       "snp1-scaffold708-1421224      rs268293133         14       90885671\n",
       "snp10-scaffold1-352655        rs268233152         22       26872268\n",
       "snp1000-scaffold1026-533890   rs268291433          8       68958341\n",
       "snp10000-scaffold1356-652219  rs268242876          7       50027003"
      ]
     },
     "execution_count": 14,
     "metadata": {},
     "output_type": "execute_result"
    }
   ],
   "source": [
    "pipeline = get_pipeline(imported_from=\"dbSNP152\", version=\"CHI1.0\", columns=[\"ncbi_chrom\", \"ncbi_position\"])\n",
    "schema = Schema({\"snp_name\": str, \"rs_id\": str, \"ncbi_chrom\": str, \"ncbi_position\": int})\n",
    "\n",
    "ncbi_locations = variantGoat.aggregate_pandas_all(pipeline, schema=schema)\n",
    "ncbi_locations.set_index('snp_name', inplace=True)\n",
    "ncbi_locations.head()"
   ]
  },
  {
   "cell_type": "markdown",
   "id": "3a992562-5240-4dbd-b3e9-e3a8f16d099b",
   "metadata": {},
   "source": [
    "Ok, time to collect data but for SNPchiMp coordinates:"
   ]
  },
  {
   "cell_type": "code",
   "execution_count": 15,
   "id": "a5ff99d1-c4dc-465c-86d6-a6b056aa107d",
   "metadata": {},
   "outputs": [
    {
     "data": {
      "text/html": [
       "<div>\n",
       "<style scoped>\n",
       "    .dataframe tbody tr th:only-of-type {\n",
       "        vertical-align: middle;\n",
       "    }\n",
       "\n",
       "    .dataframe tbody tr th {\n",
       "        vertical-align: top;\n",
       "    }\n",
       "\n",
       "    .dataframe thead th {\n",
       "        text-align: right;\n",
       "    }\n",
       "</style>\n",
       "<table border=\"1\" class=\"dataframe\">\n",
       "  <thead>\n",
       "    <tr style=\"text-align: right;\">\n",
       "      <th></th>\n",
       "      <th>rs_id</th>\n",
       "      <th>snpchimp_chrom</th>\n",
       "      <th>snpchimp_position</th>\n",
       "    </tr>\n",
       "    <tr>\n",
       "      <th>snp_name</th>\n",
       "      <th></th>\n",
       "      <th></th>\n",
       "      <th></th>\n",
       "    </tr>\n",
       "  </thead>\n",
       "  <tbody>\n",
       "    <tr>\n",
       "      <th>snp1-scaffold1-2170</th>\n",
       "      <td>rs268233143</td>\n",
       "      <td>22</td>\n",
       "      <td>27222753</td>\n",
       "    </tr>\n",
       "    <tr>\n",
       "      <th>snp1-scaffold708-1421224</th>\n",
       "      <td>rs268293133</td>\n",
       "      <td>14</td>\n",
       "      <td>90885671</td>\n",
       "    </tr>\n",
       "    <tr>\n",
       "      <th>snp10-scaffold1-352655</th>\n",
       "      <td>rs268233152</td>\n",
       "      <td>22</td>\n",
       "      <td>26872268</td>\n",
       "    </tr>\n",
       "    <tr>\n",
       "      <th>snp1000-scaffold1026-533890</th>\n",
       "      <td>rs268291433</td>\n",
       "      <td>8</td>\n",
       "      <td>68958341</td>\n",
       "    </tr>\n",
       "    <tr>\n",
       "      <th>snp10000-scaffold1356-652219</th>\n",
       "      <td>rs268242876</td>\n",
       "      <td>7</td>\n",
       "      <td>50027003</td>\n",
       "    </tr>\n",
       "  </tbody>\n",
       "</table>\n",
       "</div>"
      ],
      "text/plain": [
       "                                    rs_id snpchimp_chrom  snpchimp_position\n",
       "snp_name                                                                   \n",
       "snp1-scaffold1-2170           rs268233143             22           27222753\n",
       "snp1-scaffold708-1421224      rs268293133             14           90885671\n",
       "snp10-scaffold1-352655        rs268233152             22           26872268\n",
       "snp1000-scaffold1026-533890   rs268291433              8           68958341\n",
       "snp10000-scaffold1356-652219  rs268242876              7           50027003"
      ]
     },
     "execution_count": 15,
     "metadata": {},
     "output_type": "execute_result"
    }
   ],
   "source": [
    "pipeline = get_pipeline(imported_from=\"SNPchiMp v.3\", version=\"CHI1.0\", columns=[\"snpchimp_chrom\", \"snpchimp_position\"])\n",
    "schema = Schema({\"snp_name\": str, \"rs_id\": str, \"snpchimp_chrom\": str, \"snpchimp_position\": int})\n",
    "\n",
    "snpchimp_locations = variantGoat.aggregate_pandas_all(pipeline, schema=schema)\n",
    "snpchimp_locations.set_index('snp_name', inplace=True)\n",
    "snpchimp_locations.head()"
   ]
  },
  {
   "cell_type": "markdown",
   "id": "4a438fb5-aed7-4989-b52c-837d8d58cde9",
   "metadata": {},
   "source": [
    "Now join the two tables relying on snp_name. A inner join will do what I need"
   ]
  },
  {
   "cell_type": "code",
   "execution_count": 16,
   "id": "b7da526f-67b2-4364-945d-3be8f918e6d7",
   "metadata": {},
   "outputs": [
    {
     "name": "stdout",
     "output_type": "stream",
     "text": [
      "<class 'pandas.core.frame.DataFrame'>\n",
      "Index: 53347 entries, snp1-scaffold1-2170 to snp9999-scaffold1356-622362\n",
      "Data columns (total 6 columns):\n",
      " #   Column             Non-Null Count  Dtype \n",
      "---  ------             --------------  ----- \n",
      " 0   rs_id_x            53347 non-null  object\n",
      " 1   snpchimp_chrom     53347 non-null  object\n",
      " 2   snpchimp_position  53347 non-null  int64 \n",
      " 3   rs_id_y            53347 non-null  object\n",
      " 4   ncbi_chrom         53347 non-null  object\n",
      " 5   ncbi_position      53347 non-null  int64 \n",
      "dtypes: int64(2), object(4)\n",
      "memory usage: 2.8+ MB\n"
     ]
    }
   ],
   "source": [
    "merged = snpchimp_locations.merge(ncbi_locations, on='snp_name', how='inner')\n",
    "merged.info()"
   ]
  },
  {
   "cell_type": "code",
   "execution_count": 17,
   "id": "b2c329bf-add9-47b6-a419-dc3ffd519c3f",
   "metadata": {},
   "outputs": [
    {
     "data": {
      "text/html": [
       "<div>\n",
       "<style scoped>\n",
       "    .dataframe tbody tr th:only-of-type {\n",
       "        vertical-align: middle;\n",
       "    }\n",
       "\n",
       "    .dataframe tbody tr th {\n",
       "        vertical-align: top;\n",
       "    }\n",
       "\n",
       "    .dataframe thead th {\n",
       "        text-align: right;\n",
       "    }\n",
       "</style>\n",
       "<table border=\"1\" class=\"dataframe\">\n",
       "  <thead>\n",
       "    <tr style=\"text-align: right;\">\n",
       "      <th></th>\n",
       "      <th>rs_id_x</th>\n",
       "      <th>snpchimp_chrom</th>\n",
       "      <th>snpchimp_position</th>\n",
       "      <th>rs_id_y</th>\n",
       "      <th>ncbi_chrom</th>\n",
       "      <th>ncbi_position</th>\n",
       "    </tr>\n",
       "    <tr>\n",
       "      <th>snp_name</th>\n",
       "      <th></th>\n",
       "      <th></th>\n",
       "      <th></th>\n",
       "      <th></th>\n",
       "      <th></th>\n",
       "      <th></th>\n",
       "    </tr>\n",
       "  </thead>\n",
       "  <tbody>\n",
       "    <tr>\n",
       "      <th>snp1-scaffold1-2170</th>\n",
       "      <td>rs268233143</td>\n",
       "      <td>22</td>\n",
       "      <td>27222753</td>\n",
       "      <td>rs268233143</td>\n",
       "      <td>22</td>\n",
       "      <td>27222753</td>\n",
       "    </tr>\n",
       "    <tr>\n",
       "      <th>snp1-scaffold708-1421224</th>\n",
       "      <td>rs268293133</td>\n",
       "      <td>14</td>\n",
       "      <td>90885671</td>\n",
       "      <td>rs268293133</td>\n",
       "      <td>14</td>\n",
       "      <td>90885671</td>\n",
       "    </tr>\n",
       "    <tr>\n",
       "      <th>snp10-scaffold1-352655</th>\n",
       "      <td>rs268233152</td>\n",
       "      <td>22</td>\n",
       "      <td>26872268</td>\n",
       "      <td>rs268233152</td>\n",
       "      <td>22</td>\n",
       "      <td>26872268</td>\n",
       "    </tr>\n",
       "    <tr>\n",
       "      <th>snp1000-scaffold1026-533890</th>\n",
       "      <td>rs268291433</td>\n",
       "      <td>8</td>\n",
       "      <td>68958341</td>\n",
       "      <td>rs268291433</td>\n",
       "      <td>8</td>\n",
       "      <td>68958341</td>\n",
       "    </tr>\n",
       "    <tr>\n",
       "      <th>snp10000-scaffold1356-652219</th>\n",
       "      <td>rs268242876</td>\n",
       "      <td>7</td>\n",
       "      <td>50027003</td>\n",
       "      <td>rs268242876</td>\n",
       "      <td>7</td>\n",
       "      <td>50027003</td>\n",
       "    </tr>\n",
       "  </tbody>\n",
       "</table>\n",
       "</div>"
      ],
      "text/plain": [
       "                                  rs_id_x snpchimp_chrom  snpchimp_position  \\\n",
       "snp_name                                                                      \n",
       "snp1-scaffold1-2170           rs268233143             22           27222753   \n",
       "snp1-scaffold708-1421224      rs268293133             14           90885671   \n",
       "snp10-scaffold1-352655        rs268233152             22           26872268   \n",
       "snp1000-scaffold1026-533890   rs268291433              8           68958341   \n",
       "snp10000-scaffold1356-652219  rs268242876              7           50027003   \n",
       "\n",
       "                                  rs_id_y ncbi_chrom  ncbi_position  \n",
       "snp_name                                                             \n",
       "snp1-scaffold1-2170           rs268233143         22       27222753  \n",
       "snp1-scaffold708-1421224      rs268293133         14       90885671  \n",
       "snp10-scaffold1-352655        rs268233152         22       26872268  \n",
       "snp1000-scaffold1026-533890   rs268291433          8       68958341  \n",
       "snp10000-scaffold1356-652219  rs268242876          7       50027003  "
      ]
     },
     "execution_count": 17,
     "metadata": {},
     "output_type": "execute_result"
    }
   ],
   "source": [
    "merged.head()"
   ]
  },
  {
   "cell_type": "markdown",
   "id": "9955b806-85f1-40cd-81fe-819b80944a28",
   "metadata": {},
   "source": [
    "Ok focus on the differences between SNPchiMp and NCBI:"
   ]
  },
  {
   "cell_type": "code",
   "execution_count": 18,
   "id": "2ec9f278-8a7b-40bc-9d5d-dea8a986e730",
   "metadata": {},
   "outputs": [
    {
     "name": "stdout",
     "output_type": "stream",
     "text": [
      "<class 'pandas.core.frame.DataFrame'>\n",
      "Index: 141 entries, snp10499-scaffold1375-13515 to snp8119-scaffold1297-229804\n",
      "Data columns (total 6 columns):\n",
      " #   Column             Non-Null Count  Dtype \n",
      "---  ------             --------------  ----- \n",
      " 0   rs_id_x            141 non-null    object\n",
      " 1   snpchimp_chrom     141 non-null    object\n",
      " 2   snpchimp_position  141 non-null    int64 \n",
      " 3   rs_id_y            141 non-null    object\n",
      " 4   ncbi_chrom         141 non-null    object\n",
      " 5   ncbi_position      141 non-null    int64 \n",
      "dtypes: int64(2), object(4)\n",
      "memory usage: 7.7+ KB\n"
     ]
    }
   ],
   "source": [
    "differences = merged.query(\"snpchimp_chrom != ncbi_chrom | snpchimp_position != ncbi_position\")\n",
    "differences.info()"
   ]
  },
  {
   "cell_type": "code",
   "execution_count": 19,
   "id": "6482614e-d0e2-4971-ab6a-ac6940cd19b4",
   "metadata": {},
   "outputs": [
    {
     "data": {
      "text/html": [
       "<div>\n",
       "<style scoped>\n",
       "    .dataframe tbody tr th:only-of-type {\n",
       "        vertical-align: middle;\n",
       "    }\n",
       "\n",
       "    .dataframe tbody tr th {\n",
       "        vertical-align: top;\n",
       "    }\n",
       "\n",
       "    .dataframe thead th {\n",
       "        text-align: right;\n",
       "    }\n",
       "</style>\n",
       "<table border=\"1\" class=\"dataframe\">\n",
       "  <thead>\n",
       "    <tr style=\"text-align: right;\">\n",
       "      <th></th>\n",
       "      <th>rs_id_x</th>\n",
       "      <th>snpchimp_chrom</th>\n",
       "      <th>snpchimp_position</th>\n",
       "      <th>rs_id_y</th>\n",
       "      <th>ncbi_chrom</th>\n",
       "      <th>ncbi_position</th>\n",
       "    </tr>\n",
       "    <tr>\n",
       "      <th>snp_name</th>\n",
       "      <th></th>\n",
       "      <th></th>\n",
       "      <th></th>\n",
       "      <th></th>\n",
       "      <th></th>\n",
       "      <th></th>\n",
       "    </tr>\n",
       "  </thead>\n",
       "  <tbody>\n",
       "    <tr>\n",
       "      <th>snp10499-scaffold1375-13515</th>\n",
       "      <td>rs268243362</td>\n",
       "      <td>4</td>\n",
       "      <td>97644567</td>\n",
       "      <td>rs268243362</td>\n",
       "      <td>0</td>\n",
       "      <td>0</td>\n",
       "    </tr>\n",
       "    <tr>\n",
       "      <th>snp11387-scaffold1412-819858</th>\n",
       "      <td>rs268244224</td>\n",
       "      <td>20</td>\n",
       "      <td>64931642</td>\n",
       "      <td>rs268244224</td>\n",
       "      <td>9</td>\n",
       "      <td>4980459</td>\n",
       "    </tr>\n",
       "    <tr>\n",
       "      <th>snp11795-scaffold1437-634114</th>\n",
       "      <td>rs268244618</td>\n",
       "      <td>1</td>\n",
       "      <td>27102919</td>\n",
       "      <td>rs268244618</td>\n",
       "      <td>0</td>\n",
       "      <td>0</td>\n",
       "    </tr>\n",
       "    <tr>\n",
       "      <th>snp12056-scaffold1445-162482</th>\n",
       "      <td>rs268244874</td>\n",
       "      <td>X</td>\n",
       "      <td>85504653</td>\n",
       "      <td>rs268244874</td>\n",
       "      <td>0</td>\n",
       "      <td>0</td>\n",
       "    </tr>\n",
       "    <tr>\n",
       "      <th>snp12121-scaffold1448-847838</th>\n",
       "      <td>rs268244930</td>\n",
       "      <td>17</td>\n",
       "      <td>61881296</td>\n",
       "      <td>rs268244930</td>\n",
       "      <td>0</td>\n",
       "      <td>0</td>\n",
       "    </tr>\n",
       "  </tbody>\n",
       "</table>\n",
       "</div>"
      ],
      "text/plain": [
       "                                  rs_id_x snpchimp_chrom  snpchimp_position  \\\n",
       "snp_name                                                                      \n",
       "snp10499-scaffold1375-13515   rs268243362              4           97644567   \n",
       "snp11387-scaffold1412-819858  rs268244224             20           64931642   \n",
       "snp11795-scaffold1437-634114  rs268244618              1           27102919   \n",
       "snp12056-scaffold1445-162482  rs268244874              X           85504653   \n",
       "snp12121-scaffold1448-847838  rs268244930             17           61881296   \n",
       "\n",
       "                                  rs_id_y ncbi_chrom  ncbi_position  \n",
       "snp_name                                                             \n",
       "snp10499-scaffold1375-13515   rs268243362          0              0  \n",
       "snp11387-scaffold1412-819858  rs268244224          9        4980459  \n",
       "snp11795-scaffold1437-634114  rs268244618          0              0  \n",
       "snp12056-scaffold1445-162482  rs268244874          0              0  \n",
       "snp12121-scaffold1448-847838  rs268244930          0              0  "
      ]
     },
     "execution_count": 19,
     "metadata": {},
     "output_type": "execute_result"
    }
   ],
   "source": [
    "differences.head()"
   ]
  },
  {
   "cell_type": "code",
   "execution_count": 20,
   "id": "cd2f5ec6-3693-4485-b019-96fa572c2ae1",
   "metadata": {},
   "outputs": [
    {
     "data": {
      "text/plain": [
       "0     111\n",
       "6       3\n",
       "2       3\n",
       "20      2\n",
       "18      2\n",
       "7       2\n",
       "X       2\n",
       "12      2\n",
       "9       2\n",
       "1       2\n",
       "15      1\n",
       "27      1\n",
       "11      1\n",
       "5       1\n",
       "13      1\n",
       "23      1\n",
       "28      1\n",
       "3       1\n",
       "16      1\n",
       "4       1\n",
       "Name: ncbi_chrom, dtype: int64"
      ]
     },
     "execution_count": 20,
     "metadata": {},
     "output_type": "execute_result"
    }
   ],
   "source": [
    "differences[\"ncbi_chrom\"].value_counts()"
   ]
  },
  {
   "cell_type": "markdown",
   "id": "778d1381-21b7-4832-bbad-b29dc70a40fe",
   "metadata": {},
   "source": [
    "Well, on goats there are a little bit differences, however my snpchimp data is not so different from NCBI data"
   ]
  },
  {
   "cell_type": "code",
   "execution_count": null,
   "id": "682726a2-7583-41e3-af69-751d3d3be64a",
   "metadata": {},
   "outputs": [],
   "source": []
  }
 ],
 "metadata": {
  "kernelspec": {
   "display_name": "Python 3",
   "language": "python",
   "name": "python3"
  },
  "language_info": {
   "codemirror_mode": {
    "name": "ipython",
    "version": 3
   },
   "file_extension": ".py",
   "mimetype": "text/x-python",
   "name": "python",
   "nbconvert_exporter": "python",
   "pygments_lexer": "ipython3",
   "version": "3.9.1"
  }
 },
 "nbformat": 4,
 "nbformat_minor": 5
}
