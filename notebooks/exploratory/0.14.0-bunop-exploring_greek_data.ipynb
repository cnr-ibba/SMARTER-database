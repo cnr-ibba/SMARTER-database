{
 "cells": [
  {
   "cell_type": "markdown",
   "id": "639b016f-9984-4f35-885e-7fd2e4cdd757",
   "metadata": {},
   "source": [
    "# Exploring greek data\n",
    "* [AUTH_OVN50KV2_CHI_FRI](#dataset0)\n",
    "* [AUTH_OVN50KV2_CHIOS_FRIZARTA_PELAGONIA](#dataset1)\n",
    "* [AUTH_OVN50KV2_CHIOS_MYTILINI_BOUTSKO](#dataset2)\n",
    "* [AUTH_OVN50KV2_CHI_BOU_MYT_FRI](#dataset4)\n",
    "* [AUTH_GOAT53KV1_EGHORIA_SKOPELOS](#dataset3)"
   ]
  },
  {
   "cell_type": "code",
   "execution_count": 1,
   "id": "b96f9afb-8561-4657-8660-51c18d827295",
   "metadata": {},
   "outputs": [],
   "source": [
    "import os\n",
    "import re\n",
    "import csv\n",
    "import zipfile\n",
    "import shutil\n",
    "from pathlib import Path\n",
    "\n",
    "import pandas as pd\n",
    "import numpy as np\n",
    "from plinkio import plinkfile\n",
    "\n",
    "from src.features.smarterdb import global_connection, Dataset\n",
    "from src.features.utils import get_raw_dir, get_interim_dir\n",
    "\n",
    "_ = global_connection()"
   ]
  },
  {
   "cell_type": "markdown",
   "id": "4e289c6d-1903-4012-9c56-c33f1b194a09",
   "metadata": {},
   "source": [
    "Read the full metadata file"
   ]
  },
  {
   "cell_type": "code",
   "execution_count": 2,
   "id": "1f231256-17a7-4a71-baad-11411b3d0d07",
   "metadata": {},
   "outputs": [],
   "source": [
    "sheep_phenotype_dataset = Dataset.objects(file=\"greece_foreground_sheep.zip\").get()\n",
    "metadata_file = sheep_phenotype_dataset.working_dir / \"greece_foreground_sheep/greece_foreground_metadata_fix.xlsx\"\n",
    "original_file = sheep_phenotype_dataset.working_dir / \"greece_foreground_sheep/greece_foreground_metadata.xlsx\"\n",
    "sheep_dataset = pd.read_excel(metadata_file, sheet_name=\"sheep\")"
   ]
  },
  {
   "cell_type": "markdown",
   "id": "bd0e301b-6ce6-4e67-92b9-9bba565a4430",
   "metadata": {},
   "source": [
    "Read *Farm coding* column in a more useful way:"
   ]
  },
  {
   "cell_type": "code",
   "execution_count": 3,
   "id": "f8143077-477f-405b-b5f3-ada4ae8983c8",
   "metadata": {},
   "outputs": [],
   "source": [
    "pattern1 = re.compile(r'([\\D]+)([\\d]+)-([\\D]+)([\\d]+)')\n",
    "\n",
    "def custom_split(val):\n",
    "    val = [el.strip() for el in val.split(\",\")]\n",
    "    match = re.search(pattern1, val[0])\n",
    "    if match:\n",
    "        try:\n",
    "            code, start, _, stop = match.groups()\n",
    "        except ValueError as exc:\n",
    "            print(match.groups(), val)\n",
    "            raise exc\n",
    "        val = [code, (start, stop)]\n",
    "    return val\n",
    "\n",
    "sheep_dataset[\"parsed_coding\"] = sheep_dataset[\"Farm Coding\"].apply(custom_split)"
   ]
  },
  {
   "cell_type": "markdown",
   "id": "bbe828dd-92b3-48b2-80ba-0328548e2eb8",
   "metadata": {},
   "source": [
    "Get the greek foreground datasets for *Sheep*"
   ]
  },
  {
   "cell_type": "code",
   "execution_count": 4,
   "id": "f6221f67-752e-49d7-a54c-bd704ee0019b",
   "metadata": {},
   "outputs": [],
   "source": [
    "datasets = Dataset.objects.filter(country=\"Greece\", type___all=[\"foreground\", \"genotypes\"], species=\"Sheep\")"
   ]
  },
  {
   "cell_type": "markdown",
   "id": "af88d92e-7d91-4ad2-a80a-4bb1af1956c3",
   "metadata": {},
   "source": [
    "Prepare a phenotype archive to put all metadata information (for Sheep):"
   ]
  },
  {
   "cell_type": "code",
   "execution_count": 5,
   "id": "104c2ba7-d30b-42ae-aed8-6527f08eee0b",
   "metadata": {},
   "outputs": [],
   "source": [
    "os.chdir(get_interim_dir())\n",
    "phenotype_file = zipfile.ZipFile(\"greece_foreground_sheep.zip\", \"w\")"
   ]
  },
  {
   "cell_type": "markdown",
   "id": "dba59f43-c814-46c0-968e-8e529b4ee89a",
   "metadata": {},
   "source": [
    "Append the fixed and original metadata to the archive"
   ]
  },
  {
   "cell_type": "code",
   "execution_count": 6,
   "id": "1c239f79-65d9-46c3-ba13-f16944ef2db7",
   "metadata": {},
   "outputs": [],
   "source": [
    "phenotype_file.write(metadata_file, arcname=\"greece_foreground_sheep/greece_foreground_metadata_fix.xlsx\")\n",
    "phenotype_file.write(original_file, arcname=\"greece_foreground_sheep/greece_foreground_metadata.xlsx\")"
   ]
  },
  {
   "cell_type": "markdown",
   "id": "4c412a99-619f-4a8f-b9b7-da1b08c2be18",
   "metadata": {},
   "source": [
    "<a id='dataset0'></a>\n",
    "## AUTH_OVN50KV2_CHI_FRI\n",
    "ok start from the first dataset I have:"
   ]
  },
  {
   "cell_type": "code",
   "execution_count": 7,
   "id": "649c8d50-ce86-4175-b4f4-a8f5daadebf2",
   "metadata": {},
   "outputs": [
    {
     "name": "stdout",
     "output_type": "stream",
     "text": [
      "file=AUTH_OVN50KV2_CHIOS_FRIZARTA.zip, uploader=AUTH\n"
     ]
    }
   ],
   "source": [
    "dataset = datasets[0]\n",
    "print(dataset)"
   ]
  },
  {
   "cell_type": "markdown",
   "id": "6dc4bf3b-1d5e-4a8f-b6d0-71695a28d001",
   "metadata": {},
   "source": [
    "Open plink file"
   ]
  },
  {
   "cell_type": "code",
   "execution_count": 8,
   "id": "fa3e7798-4e20-40e5-8af9-5f744f1dce89",
   "metadata": {},
   "outputs": [],
   "source": [
    "plink_file = plinkfile.open( str(dataset.working_dir / \"AUTH_OVN50KV2_CHIOS_FRIZARTA/AUTH_OVN50KV2_CHI_FRI\") )"
   ]
  },
  {
   "cell_type": "markdown",
   "id": "c100156a-038e-44eb-bad6-fd398199e556",
   "metadata": {},
   "source": [
    "Read samples name and their breed code from *ped*. Create a *dataframe*"
   ]
  },
  {
   "cell_type": "code",
   "execution_count": 9,
   "id": "3857fa1d-24d7-4152-a2aa-741226830763",
   "metadata": {},
   "outputs": [],
   "source": [
    "samples = [(sample.fid, sample.iid) for sample in plink_file.get_samples()]"
   ]
  },
  {
   "cell_type": "code",
   "execution_count": 10,
   "id": "eae2f4c6-93fa-4c44-b996-aaf10e3e585a",
   "metadata": {},
   "outputs": [],
   "source": [
    "samples = pd.DataFrame(data=samples, columns=[\"breed_code\", \"sample_name\"])"
   ]
  },
  {
   "cell_type": "markdown",
   "id": "9f0e41af-b325-414d-89d2-067f8b4d4080",
   "metadata": {},
   "source": [
    "Now create a function able to retrive a metadata row relying on sample name:"
   ]
  },
  {
   "cell_type": "code",
   "execution_count": 11,
   "id": "34849073-06a2-4f1b-84b8-0583dfa893cc",
   "metadata": {},
   "outputs": [],
   "source": [
    "pattern2 = re.compile(r'([\\D]+)([\\d]+)')\n",
    "\n",
    "def get_metadata_row(breed_code, sample_name, df=sheep_dataset):    \n",
    "    match = re.search(pattern2, sample_name)\n",
    "    farm_coding, number = match.groups()\n",
    "    \n",
    "    def in_between(val):\n",
    "        if len(val) == 2 and type(val[1]) is tuple:\n",
    "            start, stop = int(val[1][0]), int(val[1][1])\n",
    "            \n",
    "            if number >= start and number <= stop:\n",
    "                return True\n",
    "            \n",
    "        return False\n",
    "    \n",
    "    if breed_code in ['BOU']:\n",
    "        number = int(number)\n",
    "        df[\"selected\"] = df[\"parsed_coding\"].apply(in_between)\n",
    "        \n",
    "    else:\n",
    "        df[\"selected\"] = df[\"parsed_coding\"].apply(lambda val: farm_coding in val)\n",
    "    \n",
    "    try:\n",
    "        index = df[(df['Code'] == breed_code) & (df['selected'] == True)].index.values[0]\n",
    "        return index\n",
    "    except IndexError as exc:\n",
    "        print(breed_code, sample_name, farm_coding)\n",
    "        raise exc"
   ]
  },
  {
   "cell_type": "markdown",
   "id": "46e0f14d-597f-4621-b813-e071ede8eb39",
   "metadata": {},
   "source": [
    "Apply such function to samples dataframe and create a new column with the metadata index row:"
   ]
  },
  {
   "cell_type": "code",
   "execution_count": 12,
   "id": "db6821ff-48f0-4e29-ad7e-cdacf53e7333",
   "metadata": {},
   "outputs": [],
   "source": [
    "# samples[\"metadata_idx\"] = np.vectorize(get_metadata_row)(samples['breed_code'], samples['sample_name'])\n",
    "samples[\"metadata_idx\"] = samples[['breed_code', 'sample_name']].apply(lambda df: get_metadata_row(df['breed_code'], df['sample_name']), axis=1)"
   ]
  },
  {
   "cell_type": "markdown",
   "id": "c0d0c15e-4be6-4fb8-982b-29da581a0fc6",
   "metadata": {},
   "source": [
    "Now drop unused columns and save a metadata file in *working directory*:"
   ]
  },
  {
   "cell_type": "code",
   "execution_count": 13,
   "id": "96816897-9d9b-457c-9ffd-26f8acd961b6",
   "metadata": {},
   "outputs": [],
   "source": [
    "merged = samples.join(sheep_dataset, on=\"metadata_idx\")\n",
    "merged = merged.drop(\"selected\", axis=1)\n",
    "merged = merged.drop(\"parsed_coding\", axis=1)\n",
    "merged = merged.drop(\"metadata_idx\", axis=1)\n",
    "\n",
    "outfile = Path(dataset.file).stem + \".xlsx\"\n",
    "outpath = get_interim_dir() / outfile\n",
    "merged.to_excel(str(outpath), index=False)"
   ]
  },
  {
   "cell_type": "markdown",
   "id": "3379815f-4fe1-4994-888c-dc13e240800d",
   "metadata": {},
   "source": [
    "Add this file to phenotype archive:"
   ]
  },
  {
   "cell_type": "code",
   "execution_count": 14,
   "id": "4eaa05b9-6188-42c1-acac-2d5ab09f2435",
   "metadata": {},
   "outputs": [],
   "source": [
    "phenotype_file.write(outfile, arcname=f\"greece_foreground_sheep/{outfile}\")\n",
    "outpath.unlink()"
   ]
  },
  {
   "cell_type": "markdown",
   "id": "cfa92602-76b7-429e-93b5-4ea38cb3c24c",
   "metadata": {},
   "source": [
    "<a id='dataset1'></a>\n",
    "## AUTH_OVN50KV2_CHIOS_FRIZARTA_PELAGONIA"
   ]
  },
  {
   "cell_type": "markdown",
   "id": "ae5da899-506f-4ee0-add2-26db1463e021",
   "metadata": {},
   "source": [
    "Same stuff for the 2nd dataset:"
   ]
  },
  {
   "cell_type": "code",
   "execution_count": 15,
   "id": "2d6f1979-e23f-4b82-a739-11f93fa4b6f0",
   "metadata": {},
   "outputs": [
    {
     "name": "stdout",
     "output_type": "stream",
     "text": [
      "file=AUTH_OVN50KV2_CHIOS_FRIZARTA_PELAGONIA.zip, uploader=AUTH\n"
     ]
    }
   ],
   "source": [
    "dataset = datasets[1]\n",
    "print(dataset)"
   ]
  },
  {
   "cell_type": "code",
   "execution_count": 16,
   "id": "8dc115ad-e948-4a13-9e29-d13b3ae36291",
   "metadata": {},
   "outputs": [],
   "source": [
    "plink_file = plinkfile.open( str(dataset.working_dir / \"AUTH_OVN50KV2_CHIOS_FRIZARTA_PELAGONIA/AUTH_OVN50KV2_CHIOS_FRIZARTA_PELAGONIA\") )"
   ]
  },
  {
   "cell_type": "code",
   "execution_count": 17,
   "id": "66283b49-7fb1-4ee5-be07-19567310767b",
   "metadata": {},
   "outputs": [],
   "source": [
    "samples = [(sample.fid, sample.iid) for sample in plink_file.get_samples()]"
   ]
  },
  {
   "cell_type": "code",
   "execution_count": 18,
   "id": "9518f391-55ab-475d-a4b6-902a77956c2f",
   "metadata": {},
   "outputs": [],
   "source": [
    "samples = pd.DataFrame(data=samples, columns=[\"breed_code\", \"sample_name\"])"
   ]
  },
  {
   "cell_type": "code",
   "execution_count": 19,
   "id": "7d44efbf-4e23-47be-9780-19c80b39f86b",
   "metadata": {},
   "outputs": [],
   "source": [
    "# samples[\"metadata_idx\"] = np.vectorize(get_metadata_row)(samples['breed_code'], samples['sample_name'])\n",
    "samples[\"metadata_idx\"] = samples[['breed_code', 'sample_name']].apply(lambda df: get_metadata_row(df['breed_code'], df['sample_name']), axis=1)"
   ]
  },
  {
   "cell_type": "code",
   "execution_count": 20,
   "id": "c9b68a80-ffa3-4f8f-b507-d906ae29d198",
   "metadata": {},
   "outputs": [],
   "source": [
    "merged = samples.join(sheep_dataset, on=\"metadata_idx\")\n",
    "merged = merged.drop(\"selected\", axis=1)\n",
    "merged = merged.drop(\"parsed_coding\", axis=1)\n",
    "merged = merged.drop(\"metadata_idx\", axis=1)\n",
    "\n",
    "outfile = Path(dataset.file).stem + \".xlsx\"\n",
    "outpath = get_interim_dir() / outfile\n",
    "merged.to_excel(str(outpath), index=False)"
   ]
  },
  {
   "cell_type": "markdown",
   "id": "5ed53f52-36aa-4286-871d-30382c0c3e19",
   "metadata": {},
   "source": [
    "Add this file to phenotype archive:"
   ]
  },
  {
   "cell_type": "code",
   "execution_count": 21,
   "id": "7440c6fc-5386-40e9-89c6-36e6459fe8af",
   "metadata": {},
   "outputs": [],
   "source": [
    "phenotype_file.write(outfile, arcname=f\"greece_foreground_sheep/{outfile}\")\n",
    "outpath.unlink()"
   ]
  },
  {
   "cell_type": "markdown",
   "id": "93210de0-0a92-4833-8505-722e01bc26af",
   "metadata": {},
   "source": [
    "<a id='dataset2'></a>\n",
    "## AUTH_OVN50KV2_CHIOS_MYTILINI_BOUTSKO"
   ]
  },
  {
   "cell_type": "markdown",
   "id": "5f4a914b-9288-472c-bf05-d093fb371ed3",
   "metadata": {},
   "source": [
    "And now the third dataset:"
   ]
  },
  {
   "cell_type": "code",
   "execution_count": 22,
   "id": "69325c3f-80b3-4760-b210-7ba208c68673",
   "metadata": {},
   "outputs": [
    {
     "name": "stdout",
     "output_type": "stream",
     "text": [
      "file=AUTH_OVN50KV2_CHIOS_MYTILINI_BOUTSKO.zip, uploader=AUTH\n"
     ]
    }
   ],
   "source": [
    "dataset = datasets[2]\n",
    "print(dataset)"
   ]
  },
  {
   "cell_type": "markdown",
   "id": "1e19d0af-ee4d-41c7-b301-61668b40f0ad",
   "metadata": {},
   "source": [
    "This dataset has SNPs with extra chroms. Open with `plinkio` custom version:"
   ]
  },
  {
   "cell_type": "code",
   "execution_count": 23,
   "id": "fb37ea09-b496-4e47-8c38-f9fbf43e6af6",
   "metadata": {},
   "outputs": [],
   "source": [
    "plink_file = plinkfile.open( str(dataset.working_dir / \"AUTH_OVN50KV2_CHIOS_MYTILINI_BOUTSKO/AUTH_OVN50KV02_CHI_MYT_BOU\") )"
   ]
  },
  {
   "cell_type": "code",
   "execution_count": 24,
   "id": "ec9edf7e-e1d8-4fe5-9c0a-709a0b00b17f",
   "metadata": {},
   "outputs": [],
   "source": [
    "samples = [(sample.fid, sample.iid) for sample in plink_file.get_samples()]"
   ]
  },
  {
   "cell_type": "code",
   "execution_count": 25,
   "id": "dd969a9f-3976-40a8-a1cd-51779d4a0156",
   "metadata": {},
   "outputs": [],
   "source": [
    "samples = pd.DataFrame(data=samples, columns=[\"breed_code\", \"sample_name\"])"
   ]
  },
  {
   "cell_type": "code",
   "execution_count": 26,
   "id": "1a402937-b1a2-4ab4-ad05-5f6477660290",
   "metadata": {},
   "outputs": [],
   "source": [
    "# samples[\"metadata_idx\"] = np.vectorize(get_metadata_row)(samples['breed_code'], samples['sample_name'])\n",
    "samples[\"metadata_idx\"] = samples[['breed_code', 'sample_name']].apply(lambda df: get_metadata_row(df['breed_code'], df['sample_name']), axis=1)"
   ]
  },
  {
   "cell_type": "code",
   "execution_count": 27,
   "id": "74848126-e99c-4af8-85ed-7222bd4a36db",
   "metadata": {},
   "outputs": [],
   "source": [
    "merged = samples.join(sheep_dataset, on=\"metadata_idx\")\n",
    "merged = merged.drop(\"selected\", axis=1)\n",
    "merged = merged.drop(\"parsed_coding\", axis=1)\n",
    "merged = merged.drop(\"metadata_idx\", axis=1)\n",
    "\n",
    "outfile = Path(dataset.file).stem + \".xlsx\"\n",
    "outpath = get_interim_dir() / outfile\n",
    "merged.to_excel(str(outpath), index=False)"
   ]
  },
  {
   "cell_type": "markdown",
   "id": "10902bf0-3eae-4759-b8fe-0f5418158374",
   "metadata": {},
   "source": [
    "Add this file to phenotype archive:"
   ]
  },
  {
   "cell_type": "code",
   "execution_count": 28,
   "id": "8da43d93-e6b2-429c-b276-a8a498ee3635",
   "metadata": {},
   "outputs": [],
   "source": [
    "phenotype_file.write(outfile, arcname=f\"greece_foreground_sheep/{outfile}\")\n",
    "outpath.unlink()"
   ]
  },
  {
   "cell_type": "markdown",
   "id": "c5bf84ea-d1aa-46b7-9bc9-4771c928e921",
   "metadata": {},
   "source": [
    "<a id='dataset4'></a>\n",
    "## AUTH_OVN50KV2_CHIOS_MYTILINI_BOUTSKO"
   ]
  },
  {
   "cell_type": "code",
   "execution_count": 29,
   "id": "1d931807-ba50-4f53-a7b2-08e386ce67a0",
   "metadata": {},
   "outputs": [
    {
     "name": "stdout",
     "output_type": "stream",
     "text": [
      "file=AUTH_OVN50KV2_CHI_BOU_MYT_FRI.zip, uploader=AUTH\n"
     ]
    }
   ],
   "source": [
    "dataset = datasets[3]\n",
    "print(dataset)"
   ]
  },
  {
   "cell_type": "code",
   "execution_count": 30,
   "id": "1e728c19-cf55-4111-9e28-5005fae82df4",
   "metadata": {},
   "outputs": [],
   "source": [
    "plink_file = plinkfile.open( str(dataset.working_dir / \"AUTH_OVN50KV2_CHI_BOU_MYT_FRI/Aristotle_University_OVN50KV02_20211108\") )"
   ]
  },
  {
   "cell_type": "code",
   "execution_count": 31,
   "id": "3ebc2479-069b-4d7e-b9d9-29b81b4f8d93",
   "metadata": {},
   "outputs": [],
   "source": [
    "samples = [(sample.fid, sample.iid) for sample in plink_file.get_samples()]"
   ]
  },
  {
   "cell_type": "code",
   "execution_count": 32,
   "id": "3a83e01b-6e08-453d-8f6e-6c0d2498cbe5",
   "metadata": {},
   "outputs": [],
   "source": [
    "samples = pd.DataFrame(data=samples, columns=[\"breed_code\", \"sample_name\"])"
   ]
  },
  {
   "cell_type": "code",
   "execution_count": 33,
   "id": "9486e1bc-42c5-43ad-b0df-035c53f0de17",
   "metadata": {},
   "outputs": [],
   "source": [
    "# samples[\"metadata_idx\"] = np.vectorize(get_metadata_row)(samples['breed_code'], samples['sample_name'])\n",
    "samples[\"metadata_idx\"] = samples[['breed_code', 'sample_name']].apply(lambda df: get_metadata_row(df['breed_code'], df['sample_name']), axis=1)"
   ]
  },
  {
   "cell_type": "code",
   "execution_count": 34,
   "id": "7db1e4a5-66e2-4729-9f97-0d83a09b51af",
   "metadata": {},
   "outputs": [],
   "source": [
    "merged = samples.join(sheep_dataset, on=\"metadata_idx\")\n",
    "merged = merged.drop(\"selected\", axis=1)\n",
    "merged = merged.drop(\"parsed_coding\", axis=1)\n",
    "merged = merged.drop(\"metadata_idx\", axis=1)\n",
    "\n",
    "outfile = Path(dataset.file).stem + \".xlsx\"\n",
    "outpath = get_interim_dir() / outfile\n",
    "merged.to_excel(str(outpath), index=False)"
   ]
  },
  {
   "cell_type": "code",
   "execution_count": 35,
   "id": "12aa3a68-73c5-4878-b4f5-f39f7557dc98",
   "metadata": {},
   "outputs": [],
   "source": [
    "phenotype_file.write(outfile, arcname=f\"greece_foreground_sheep/{outfile}\")\n",
    "outpath.unlink()"
   ]
  },
  {
   "cell_type": "markdown",
   "id": "1c9fedff-d680-4b8c-8110-ac473098567c",
   "metadata": {},
   "source": [
    "Closing archive file for sheep"
   ]
  },
  {
   "cell_type": "code",
   "execution_count": 36,
   "id": "8b4f80d2-19b8-4c88-9282-ad3b837d2164",
   "metadata": {},
   "outputs": [],
   "source": [
    "phenotype_file.close()"
   ]
  },
  {
   "cell_type": "markdown",
   "id": "97aaa4a1-523a-4735-98bd-31a1d42b9bee",
   "metadata": {},
   "source": [
    "<a id='dataset3'></a>\n",
    "## AUTH_GOAT53KV1_EGHORIA_SKOPELOS\n",
    "Goat belong to a different dataset"
   ]
  },
  {
   "cell_type": "code",
   "execution_count": 37,
   "id": "9c968c52-e112-4486-92d9-5712a9472019",
   "metadata": {},
   "outputs": [],
   "source": [
    "dataset = Dataset.objects.get(country=\"Greece\", type___all=[\"foreground\", \"genotypes\"], species=\"Goat\")"
   ]
  },
  {
   "cell_type": "markdown",
   "id": "787f836d-1696-4551-a6d6-9caad7737d0d",
   "metadata": {},
   "source": [
    "Read goat metadata:"
   ]
  },
  {
   "cell_type": "code",
   "execution_count": 38,
   "id": "552ff621-5689-4a89-86e4-c8a5e95eace4",
   "metadata": {},
   "outputs": [],
   "source": [
    "goat_phenotype_dataset = Dataset.objects(file=\"greece_foreground_goat.zip\").get()\n",
    "metadata_file = goat_phenotype_dataset.working_dir / \"greece_foreground_goat/greece_foreground_metadata_fix.xlsx\"\n",
    "original_file = goat_phenotype_dataset.working_dir / \"greece_foreground_goat/greece_foreground_metadata.xlsx\"\n",
    "goat_dataset = pd.read_excel(metadata_file, sheet_name=\"goat\")"
   ]
  },
  {
   "cell_type": "code",
   "execution_count": 39,
   "id": "e8ddf669-298a-40c8-96fe-05ce66b7f161",
   "metadata": {},
   "outputs": [],
   "source": [
    "goat_dataset[\"parsed_coding\"] = goat_dataset[\"Farm Coding\"].apply(custom_split)"
   ]
  },
  {
   "cell_type": "markdown",
   "id": "200bbd7c-0b8c-4a39-a567-0b3d21909939",
   "metadata": {},
   "source": [
    "Prepare an archive for goat:"
   ]
  },
  {
   "cell_type": "code",
   "execution_count": 40,
   "id": "addbc70a-9691-4499-84ab-7a4cc3b1462f",
   "metadata": {},
   "outputs": [],
   "source": [
    "os.chdir(get_interim_dir())\n",
    "phenotype_file = zipfile.ZipFile(\"greece_foreground_goat.zip\", \"w\")"
   ]
  },
  {
   "cell_type": "code",
   "execution_count": 41,
   "id": "9da3bb80-1618-4b07-bddc-e34644b21a20",
   "metadata": {},
   "outputs": [],
   "source": [
    "plink_file = plinkfile.open( str(dataset.working_dir / \"AUTH_GOAT53KV1_EGHORIA_SKOPELOS/AUTH_GOAT53KV1_SKOPELOS-EGHORIA\") )"
   ]
  },
  {
   "cell_type": "code",
   "execution_count": 42,
   "id": "ce21c737-07fd-4327-8823-46754803e613",
   "metadata": {},
   "outputs": [],
   "source": [
    "samples = [(sample.fid, sample.iid) for sample in plink_file.get_samples()]"
   ]
  },
  {
   "cell_type": "code",
   "execution_count": 43,
   "id": "13657182-9d2d-447c-a18e-c743f38dc004",
   "metadata": {},
   "outputs": [],
   "source": [
    "samples = pd.DataFrame(data=samples, columns=[\"breed_code\", \"sample_name\"])"
   ]
  },
  {
   "cell_type": "code",
   "execution_count": 44,
   "id": "062c8edd-5118-4516-9cab-e279dd94e368",
   "metadata": {},
   "outputs": [],
   "source": [
    "pattern2 = re.compile(r'([\\D]+)([\\d]+)')\n",
    "\n",
    "def get_metadata_row(breed_code, sample_name, df=goat_dataset):    \n",
    "    match = re.search(pattern2, sample_name)\n",
    "    farm_coding, number = match.groups()\n",
    "    \n",
    "    def in_between(val):\n",
    "        if len(val) == 2 and type(val[1]) is tuple:\n",
    "            start, stop = int(val[1][0]), int(val[1][1])\n",
    "            \n",
    "            if number >= start and number <= stop:\n",
    "                return True\n",
    "            \n",
    "        return False\n",
    "    \n",
    "    if breed_code in ['BOU', 'EGH', 'SKO']:\n",
    "        number = int(number)\n",
    "        df[\"selected\"] = df[\"parsed_coding\"].apply(in_between)\n",
    "        \n",
    "    else:\n",
    "        df[\"selected\"] = df[\"parsed_coding\"].apply(lambda val: farm_coding in val)\n",
    "    \n",
    "    try:\n",
    "        index = df[(df['Code'] == breed_code) & (df['selected'] == True)].index.values[0]\n",
    "        return index\n",
    "    except IndexError as exc:\n",
    "        print(breed_code, sample_name, farm_coding)\n",
    "        raise exc"
   ]
  },
  {
   "cell_type": "code",
   "execution_count": 45,
   "id": "90cb14b9-f6e9-4fa9-b443-3c6fddda9284",
   "metadata": {},
   "outputs": [],
   "source": [
    "# samples[\"metadata_idx\"] = np.vectorize(get_metadata_row)(samples['breed_code'], samples['sample_name'])\n",
    "samples[\"metadata_idx\"] = samples[['breed_code', 'sample_name']].apply(lambda df: get_metadata_row(df['breed_code'], df['sample_name']), axis=1)"
   ]
  },
  {
   "cell_type": "code",
   "execution_count": 46,
   "id": "660098fa-9201-4420-b7c0-2a17a3cd9c79",
   "metadata": {},
   "outputs": [],
   "source": [
    "merged = samples.join(goat_dataset, on=\"metadata_idx\")\n",
    "merged = merged.drop(\"selected\", axis=1)\n",
    "merged = merged.drop(\"parsed_coding\", axis=1)\n",
    "merged = merged.drop(\"metadata_idx\", axis=1)\n",
    "\n",
    "outfile = Path(dataset.file).stem + \".xlsx\"\n",
    "outpath = get_interim_dir() / outfile\n",
    "merged.to_excel(str(outpath), index=False)"
   ]
  },
  {
   "cell_type": "markdown",
   "id": "13bff001-ad5a-4b15-b071-4687b0f1107f",
   "metadata": {},
   "source": [
    "Add this file to phenotype archive:"
   ]
  },
  {
   "cell_type": "code",
   "execution_count": 47,
   "id": "f07e20b5-f465-4cc7-9177-a53ef6167783",
   "metadata": {},
   "outputs": [],
   "source": [
    "phenotype_file.write(outfile, arcname=f\"greece_foreground_goat/{outfile}\")\n",
    "outpath.unlink()"
   ]
  },
  {
   "cell_type": "markdown",
   "id": "ac75f2bc-a85c-49b6-9a33-312e946f824a",
   "metadata": {},
   "source": [
    "Append the fixed and original metadata to the archive"
   ]
  },
  {
   "cell_type": "code",
   "execution_count": 48,
   "id": "7216e61a-2caa-452c-887b-58d00f86eccd",
   "metadata": {},
   "outputs": [],
   "source": [
    "phenotype_file.write(metadata_file, arcname=\"greece_foreground_goat/greece_foreground_metadata_fix.xlsx\")\n",
    "phenotype_file.write(original_file, arcname=\"greece_foreground_goat/greece_foreground_metadata.xlsx\")"
   ]
  },
  {
   "cell_type": "markdown",
   "id": "6db286d6-f34b-450f-8131-a10ba0003025",
   "metadata": {},
   "source": [
    "Closing archive file"
   ]
  },
  {
   "cell_type": "code",
   "execution_count": 49,
   "id": "475d0b63-b3bd-44ab-aae3-423492b4398b",
   "metadata": {},
   "outputs": [],
   "source": [
    "phenotype_file.close()"
   ]
  },
  {
   "cell_type": "code",
   "execution_count": null,
   "id": "04bb0adb-a91c-4120-afdf-6ef9c8aa040d",
   "metadata": {},
   "outputs": [],
   "source": []
  }
 ],
 "metadata": {
  "kernelspec": {
   "display_name": "Python 3",
   "language": "python",
   "name": "python3"
  },
  "language_info": {
   "codemirror_mode": {
    "name": "ipython",
    "version": 3
   },
   "file_extension": ".py",
   "mimetype": "text/x-python",
   "name": "python",
   "nbconvert_exporter": "python",
   "pygments_lexer": "ipython3",
   "version": "3.9.1"
  }
 },
 "nbformat": 4,
 "nbformat_minor": 5
}
