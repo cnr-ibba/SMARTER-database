{
 "cells": [
  {
   "cell_type": "markdown",
   "id": "639b016f-9984-4f35-885e-7fd2e4cdd757",
   "metadata": {},
   "source": [
    "# Exploring greek data\n",
    "* [AUTH_OVN50KV2_CHI_FRI](#dataset0)\n",
    "* [AUTH_OVN50KV2_CHIOS_FRIZARTA_PELAGONIA](#dataset1)\n",
    "* [AUTH_OVN50KV2_CHIOS_MYTILINI_BOUTSKO](#dataset2)\n",
    "* [AUTH_GOAT53KV1_EGHORIA_SKOPELOS](#dataset3)"
   ]
  },
  {
   "cell_type": "code",
   "execution_count": 1,
   "id": "b96f9afb-8561-4657-8660-51c18d827295",
   "metadata": {},
   "outputs": [],
   "source": [
    "import re\n",
    "import csv\n",
    "from pathlib import Path\n",
    "\n",
    "import pandas as pd\n",
    "import numpy as np\n",
    "from plinkio import plinkfile\n",
    "\n",
    "from src.features.smarterdb import global_connection, Dataset\n",
    "from src.features.utils import get_raw_dir\n",
    "\n",
    "_ = global_connection()"
   ]
  },
  {
   "cell_type": "markdown",
   "id": "4e289c6d-1903-4012-9c56-c33f1b194a09",
   "metadata": {},
   "source": [
    "Read the full metadata file"
   ]
  },
  {
   "cell_type": "code",
   "execution_count": 2,
   "id": "1f231256-17a7-4a71-baad-11411b3d0d07",
   "metadata": {},
   "outputs": [],
   "source": [
    "metadata_file = get_raw_dir() / \"greece_foreground_metadata_fix.xlsx\"\n",
    "sheep_dataset = pd.read_excel(metadata_file, sheet_name=\"sheep\")"
   ]
  },
  {
   "cell_type": "markdown",
   "id": "bd0e301b-6ce6-4e67-92b9-9bba565a4430",
   "metadata": {},
   "source": [
    "Read *Farm coding* column in a more useful way:"
   ]
  },
  {
   "cell_type": "code",
   "execution_count": 3,
   "id": "f8143077-477f-405b-b5f3-ada4ae8983c8",
   "metadata": {},
   "outputs": [],
   "source": [
    "pattern1 = re.compile(r'([\\D]+)([\\d]+)-([\\D]+)([\\d]+)')\n",
    "\n",
    "def custom_split(val):\n",
    "    val = [el.strip() for el in val.split(\",\")]\n",
    "    match = re.search(pattern1, val[0])\n",
    "    if match:\n",
    "        try:\n",
    "            code, start, _, stop = match.groups()\n",
    "        except ValueError as exc:\n",
    "            print(match.groups(), val)\n",
    "            raise exc\n",
    "        val = [code, (start, stop)]\n",
    "    return val\n",
    "\n",
    "sheep_dataset[\"parsed_coding\"] = sheep_dataset[\"Farm Coding\"].apply(custom_split)"
   ]
  },
  {
   "cell_type": "markdown",
   "id": "bbe828dd-92b3-48b2-80ba-0328548e2eb8",
   "metadata": {},
   "source": [
    "Get the greek foreground datasets for *Sheep*"
   ]
  },
  {
   "cell_type": "code",
   "execution_count": 4,
   "id": "f6221f67-752e-49d7-a54c-bd704ee0019b",
   "metadata": {},
   "outputs": [],
   "source": [
    "datasets = Dataset.objects.filter(country=\"Greece\", type_=\"foreground\", species=\"Sheep\")"
   ]
  },
  {
   "cell_type": "markdown",
   "id": "4c412a99-619f-4a8f-b9b7-da1b08c2be18",
   "metadata": {},
   "source": [
    "<a id='dataset0'></a>\n",
    "## AUTH_OVN50KV2_CHI_FRI\n",
    "ok start from the first dataset I have:"
   ]
  },
  {
   "cell_type": "code",
   "execution_count": 5,
   "id": "649c8d50-ce86-4175-b4f4-a8f5daadebf2",
   "metadata": {},
   "outputs": [],
   "source": [
    "dataset = datasets[0]"
   ]
  },
  {
   "cell_type": "markdown",
   "id": "6dc4bf3b-1d5e-4a8f-b6d0-71695a28d001",
   "metadata": {},
   "source": [
    "Open plink file"
   ]
  },
  {
   "cell_type": "code",
   "execution_count": 6,
   "id": "fa3e7798-4e20-40e5-8af9-5f744f1dce89",
   "metadata": {},
   "outputs": [],
   "source": [
    "plink_file = plinkfile.open( str(dataset.working_dir / \"AUTH_OVN50KV2_CHIOS_FRIZARTA/AUTH_OVN50KV2_CHI_FRI\") )"
   ]
  },
  {
   "cell_type": "markdown",
   "id": "c100156a-038e-44eb-bad6-fd398199e556",
   "metadata": {},
   "source": [
    "Read samples name and their breed code from *ped*. Create a *dataframe*"
   ]
  },
  {
   "cell_type": "code",
   "execution_count": 7,
   "id": "3857fa1d-24d7-4152-a2aa-741226830763",
   "metadata": {},
   "outputs": [],
   "source": [
    "samples = [(sample.fid, sample.iid) for sample in plink_file.get_samples()]"
   ]
  },
  {
   "cell_type": "code",
   "execution_count": 8,
   "id": "eae2f4c6-93fa-4c44-b996-aaf10e3e585a",
   "metadata": {},
   "outputs": [],
   "source": [
    "samples = pd.DataFrame(data=samples, columns=[\"breed_code\", \"sample_name\"])"
   ]
  },
  {
   "cell_type": "markdown",
   "id": "9f0e41af-b325-414d-89d2-067f8b4d4080",
   "metadata": {},
   "source": [
    "Now create a function able to retrive a metadata row relying on sample name:"
   ]
  },
  {
   "cell_type": "code",
   "execution_count": 9,
   "id": "34849073-06a2-4f1b-84b8-0583dfa893cc",
   "metadata": {},
   "outputs": [],
   "source": [
    "pattern2 = re.compile(r'([\\D]+)([\\d]+)')\n",
    "\n",
    "def get_metadata_row(breed_code, sample_name, df=sheep_dataset):    \n",
    "    match = re.search(pattern2, sample_name)\n",
    "    farm_coding, number = match.groups()\n",
    "    \n",
    "    def in_between(val):\n",
    "        if len(val) == 2 and type(val[1]) is tuple:\n",
    "            start, stop = int(val[1][0]), int(val[1][1])\n",
    "            \n",
    "            if number >= start and number <= stop:\n",
    "                return True\n",
    "            \n",
    "        return False\n",
    "    \n",
    "    if breed_code in ['BOU']:\n",
    "        number = int(number)\n",
    "        df[\"selected\"] = df[\"parsed_coding\"].apply(in_between)\n",
    "        \n",
    "    else:\n",
    "        df[\"selected\"] = df[\"parsed_coding\"].apply(lambda val: farm_coding in val)\n",
    "    \n",
    "    try:\n",
    "        index = df[(df['Code'] == breed_code) & (df['selected'] == True)].index.values[0]\n",
    "        return index\n",
    "    except IndexError as exc:\n",
    "        print(breed_code, sample_name, farm_coding)"
   ]
  },
  {
   "cell_type": "markdown",
   "id": "46e0f14d-597f-4621-b813-e071ede8eb39",
   "metadata": {},
   "source": [
    "Apply such function to samples dataframe and create a new column with the metadata index row:"
   ]
  },
  {
   "cell_type": "code",
   "execution_count": 10,
   "id": "db6821ff-48f0-4e29-ad7e-cdacf53e7333",
   "metadata": {},
   "outputs": [],
   "source": [
    "samples[\"metadata_idx\"] = np.vectorize(get_metadata_row)(samples['breed_code'], samples['sample_name'])"
   ]
  },
  {
   "cell_type": "markdown",
   "id": "c0d0c15e-4be6-4fb8-982b-29da581a0fc6",
   "metadata": {},
   "source": [
    "Now drop unused columns and save a metadata file in *working directory*:"
   ]
  },
  {
   "cell_type": "code",
   "execution_count": 11,
   "id": "96816897-9d9b-457c-9ffd-26f8acd961b6",
   "metadata": {},
   "outputs": [],
   "source": [
    "merged = samples.join(sheep_dataset, on=\"metadata_idx\")\n",
    "merged = merged.drop(\"selected\", axis=1)\n",
    "merged = merged.drop(\"parsed_coding\", axis=1)\n",
    "merged = merged.drop(\"metadata_idx\", axis=1)\n",
    "\n",
    "outfile = str(dataset.working_dir / Path(dataset.file).stem) + \".xlsx\"\n",
    "merged.to_excel(outfile, index=False)"
   ]
  },
  {
   "cell_type": "markdown",
   "id": "cfa92602-76b7-429e-93b5-4ea38cb3c24c",
   "metadata": {},
   "source": [
    "<a id='dataset1'></a>\n",
    "## AUTH_OVN50KV2_CHIOS_FRIZARTA_PELAGONIA"
   ]
  },
  {
   "cell_type": "markdown",
   "id": "ae5da899-506f-4ee0-add2-26db1463e021",
   "metadata": {},
   "source": [
    "Same stuff for the 2nd dataset:"
   ]
  },
  {
   "cell_type": "code",
   "execution_count": 12,
   "id": "2d6f1979-e23f-4b82-a739-11f93fa4b6f0",
   "metadata": {},
   "outputs": [],
   "source": [
    "dataset = datasets[1]"
   ]
  },
  {
   "cell_type": "code",
   "execution_count": 13,
   "id": "8dc115ad-e948-4a13-9e29-d13b3ae36291",
   "metadata": {},
   "outputs": [],
   "source": [
    "plink_file = plinkfile.open( str(dataset.working_dir / \"AUTH_OVN50KV2_CHIOS_FRIZARTA_PELAGONIA/AUTH_OVN50KV2_CHIOS_FRIZARTA_PELAGONIA\") )"
   ]
  },
  {
   "cell_type": "code",
   "execution_count": 14,
   "id": "66283b49-7fb1-4ee5-be07-19567310767b",
   "metadata": {},
   "outputs": [],
   "source": [
    "samples = [(sample.fid, sample.iid) for sample in plink_file.get_samples()]"
   ]
  },
  {
   "cell_type": "code",
   "execution_count": 15,
   "id": "9518f391-55ab-475d-a4b6-902a77956c2f",
   "metadata": {},
   "outputs": [],
   "source": [
    "samples = pd.DataFrame(data=samples, columns=[\"breed_code\", \"sample_name\"])"
   ]
  },
  {
   "cell_type": "code",
   "execution_count": 16,
   "id": "7d44efbf-4e23-47be-9780-19c80b39f86b",
   "metadata": {},
   "outputs": [],
   "source": [
    "samples[\"metadata_idx\"] = np.vectorize(get_metadata_row)(samples['breed_code'], samples['sample_name'])"
   ]
  },
  {
   "cell_type": "code",
   "execution_count": 17,
   "id": "c9b68a80-ffa3-4f8f-b507-d906ae29d198",
   "metadata": {},
   "outputs": [],
   "source": [
    "merged = samples.join(sheep_dataset, on=\"metadata_idx\")\n",
    "merged = merged.drop(\"selected\", axis=1)\n",
    "merged = merged.drop(\"parsed_coding\", axis=1)\n",
    "merged = merged.drop(\"metadata_idx\", axis=1)\n",
    "\n",
    "outfile = str(dataset.working_dir / Path(dataset.file).stem) + \".xlsx\"\n",
    "merged.to_excel(outfile, index=False)"
   ]
  },
  {
   "cell_type": "markdown",
   "id": "93210de0-0a92-4833-8505-722e01bc26af",
   "metadata": {},
   "source": [
    "<a id='dataset2'></a>\n",
    "## AUTH_OVN50KV2_CHIOS_MYTILINI_BOUTSKO"
   ]
  },
  {
   "cell_type": "markdown",
   "id": "5f4a914b-9288-472c-bf05-d093fb371ed3",
   "metadata": {},
   "source": [
    "And now the latest dataset:"
   ]
  },
  {
   "cell_type": "code",
   "execution_count": 18,
   "id": "69325c3f-80b3-4760-b210-7ba208c68673",
   "metadata": {},
   "outputs": [],
   "source": [
    "dataset = datasets[2]"
   ]
  },
  {
   "cell_type": "markdown",
   "id": "1e19d0af-ee4d-41c7-b301-61668b40f0ad",
   "metadata": {},
   "source": [
    "This dataset has SNPs with extra chroms. So, the only way to get a sample list is to parse the first two columns of `.fam` file:"
   ]
  },
  {
   "cell_type": "code",
   "execution_count": 19,
   "id": "911b6e77-9e22-4c42-ad20-4bf915884522",
   "metadata": {},
   "outputs": [],
   "source": [
    "fam_file = dataset.working_dir / \"AUTH_OVN50KV2_CHIOS_MYTILINI_BOUTSKO/AUTH_OVN50KV02_CHI_MYT_BOU.fam\"\n",
    "with open(fam_file) as handle:\n",
    "    reader = csv.reader(handle, delimiter=\"\\t\")\n",
    "    samples = [[sample[0], sample[1]] for sample in reader]"
   ]
  },
  {
   "cell_type": "code",
   "execution_count": 20,
   "id": "dd969a9f-3976-40a8-a1cd-51779d4a0156",
   "metadata": {},
   "outputs": [],
   "source": [
    "samples = pd.DataFrame(data=samples, columns=[\"breed_code\", \"sample_name\"])"
   ]
  },
  {
   "cell_type": "code",
   "execution_count": 21,
   "id": "1a402937-b1a2-4ab4-ad05-5f6477660290",
   "metadata": {},
   "outputs": [],
   "source": [
    "samples[\"metadata_idx\"] = np.vectorize(get_metadata_row)(samples['breed_code'], samples['sample_name'])"
   ]
  },
  {
   "cell_type": "code",
   "execution_count": 22,
   "id": "74848126-e99c-4af8-85ed-7222bd4a36db",
   "metadata": {},
   "outputs": [],
   "source": [
    "merged = samples.join(sheep_dataset, on=\"metadata_idx\")\n",
    "merged = merged.drop(\"selected\", axis=1)\n",
    "merged = merged.drop(\"parsed_coding\", axis=1)\n",
    "merged = merged.drop(\"metadata_idx\", axis=1)\n",
    "\n",
    "outfile = str(dataset.working_dir / Path(dataset.file).stem) + \".xlsx\"\n",
    "merged.to_excel(outfile, index=False)"
   ]
  },
  {
   "cell_type": "markdown",
   "id": "97aaa4a1-523a-4735-98bd-31a1d42b9bee",
   "metadata": {},
   "source": [
    "<a id='dataset3'></a>\n",
    "## AUTH_GOAT53KV1_EGHORIA_SKOPELOS\n",
    "Goat belong to a different dataset"
   ]
  },
  {
   "cell_type": "code",
   "execution_count": 23,
   "id": "9c968c52-e112-4486-92d9-5712a9472019",
   "metadata": {},
   "outputs": [],
   "source": [
    "dataset = Dataset.objects.get(country=\"Greece\", type_=\"foreground\", species=\"Goat\")"
   ]
  },
  {
   "cell_type": "markdown",
   "id": "787f836d-1696-4551-a6d6-9caad7737d0d",
   "metadata": {},
   "source": [
    "Read goat metadata:"
   ]
  },
  {
   "cell_type": "code",
   "execution_count": 24,
   "id": "f70b96b3-ef07-4a24-aca2-d44e51bc8bde",
   "metadata": {},
   "outputs": [],
   "source": [
    "goat_dataset = pd.read_excel(metadata_file, sheet_name=\"goat\")"
   ]
  },
  {
   "cell_type": "code",
   "execution_count": 25,
   "id": "e8ddf669-298a-40c8-96fe-05ce66b7f161",
   "metadata": {},
   "outputs": [],
   "source": [
    "goat_dataset[\"parsed_coding\"] = goat_dataset[\"Farm Coding\"].apply(custom_split)"
   ]
  },
  {
   "cell_type": "code",
   "execution_count": 26,
   "id": "9da3bb80-1618-4b07-bddc-e34644b21a20",
   "metadata": {},
   "outputs": [],
   "source": [
    "plink_file = plinkfile.open( str(dataset.working_dir / \"AUTH_GOAT53KV1_EGHORIA_SKOPELOS/AUTH_GOAT53KV1_SKOPELOS-EGHORIA\") )"
   ]
  },
  {
   "cell_type": "code",
   "execution_count": 27,
   "id": "ce21c737-07fd-4327-8823-46754803e613",
   "metadata": {},
   "outputs": [],
   "source": [
    "samples = [(sample.fid, sample.iid) for sample in plink_file.get_samples()]"
   ]
  },
  {
   "cell_type": "code",
   "execution_count": 28,
   "id": "13657182-9d2d-447c-a18e-c743f38dc004",
   "metadata": {},
   "outputs": [],
   "source": [
    "samples = pd.DataFrame(data=samples, columns=[\"breed_code\", \"sample_name\"])"
   ]
  },
  {
   "cell_type": "code",
   "execution_count": 29,
   "id": "062c8edd-5118-4516-9cab-e279dd94e368",
   "metadata": {},
   "outputs": [],
   "source": [
    "pattern2 = re.compile(r'([\\D]+)([\\d]+)')\n",
    "\n",
    "def get_metadata_row(breed_code, sample_name, df=goat_dataset):    \n",
    "    match = re.search(pattern2, sample_name)\n",
    "    farm_coding, number = match.groups()\n",
    "    \n",
    "    def in_between(val):\n",
    "        if len(val) == 2 and type(val[1]) is tuple:\n",
    "            start, stop = int(val[1][0]), int(val[1][1])\n",
    "            \n",
    "            if number >= start and number <= stop:\n",
    "                return True\n",
    "            \n",
    "        return False\n",
    "    \n",
    "    if breed_code in ['BOU', 'EGH', 'SKO']:\n",
    "        number = int(number)\n",
    "        df[\"selected\"] = df[\"parsed_coding\"].apply(in_between)\n",
    "        \n",
    "    else:\n",
    "        df[\"selected\"] = df[\"parsed_coding\"].apply(lambda val: farm_coding in val)\n",
    "    \n",
    "    try:\n",
    "        index = df[(df['Code'] == breed_code) & (df['selected'] == True)].index.values[0]\n",
    "        return index\n",
    "    except IndexError as exc:\n",
    "        # print(breed_code, sample_name, farm_coding)\n",
    "        return -1"
   ]
  },
  {
   "cell_type": "code",
   "execution_count": 30,
   "id": "90cb14b9-f6e9-4fa9-b443-3c6fddda9284",
   "metadata": {},
   "outputs": [
    {
     "name": "stderr",
     "output_type": "stream",
     "text": [
      "/home/paolo/Softwares/anaconda3/envs/SMARTER-database/lib/python3.9/site-packages/numpy/lib/function_base.py:2197: RuntimeWarning: invalid value encountered in get_metadata_row (vectorized)\n",
      "  outputs = ufunc(*inputs)\n"
     ]
    }
   ],
   "source": [
    "samples[\"metadata_idx\"] = np.vectorize(get_metadata_row)(samples['breed_code'], samples['sample_name'])"
   ]
  },
  {
   "cell_type": "code",
   "execution_count": 31,
   "id": "660098fa-9201-4420-b7c0-2a17a3cd9c79",
   "metadata": {},
   "outputs": [],
   "source": [
    "merged = samples.join(goat_dataset, on=\"metadata_idx\")\n",
    "merged = merged.drop(\"selected\", axis=1)\n",
    "merged = merged.drop(\"parsed_coding\", axis=1)\n",
    "merged = merged.drop(\"metadata_idx\", axis=1)\n",
    "\n",
    "outfile = str(dataset.working_dir / Path(dataset.file).stem) + \".xlsx\"\n",
    "merged.to_excel(outfile, index=False)"
   ]
  },
  {
   "cell_type": "code",
   "execution_count": null,
   "id": "ba540cac-f631-418e-92d4-20150ded7325",
   "metadata": {},
   "outputs": [],
   "source": []
  }
 ],
 "metadata": {
  "kernelspec": {
   "display_name": "Python 3",
   "language": "python",
   "name": "python3"
  },
  "language_info": {
   "codemirror_mode": {
    "name": "ipython",
    "version": 3
   },
   "file_extension": ".py",
   "mimetype": "text/x-python",
   "name": "python",
   "nbconvert_exporter": "python",
   "pygments_lexer": "ipython3",
   "version": "3.9.1"
  }
 },
 "nbformat": 4,
 "nbformat_minor": 5
}
