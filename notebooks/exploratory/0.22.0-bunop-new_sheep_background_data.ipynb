{
 "cells": [
  {
   "cell_type": "markdown",
   "id": "af83c0b6-ac81-42ed-9cf5-ab2b4e94eb53",
   "metadata": {},
   "source": [
    "# New sheep background data\n",
    "These are new sheep background data which integrate SMARTER-database\n",
    "\n",
    "* [Welsh sheep breeds](#welsh_breeds)"
   ]
  },
  {
   "cell_type": "code",
   "execution_count": 1,
   "id": "a6c4ca94-d05f-4b08-b785-b423393e1c22",
   "metadata": {},
   "outputs": [],
   "source": [
    "import re\n",
    "import logging\n",
    "from collections import defaultdict\n",
    "\n",
    "import pandas as pd\n",
    "from tqdm.notebook import tqdm\n",
    "\n",
    "from src.features.smarterdb import global_connection, Dataset\n",
    "from src.features.plinkio import TextPlinkIO, CodingException\n",
    "from src.data.common import WORKING_ASSEMBLIES"
   ]
  },
  {
   "cell_type": "code",
   "execution_count": 2,
   "id": "ea11b880-809f-453a-aaaf-a602bbf51912",
   "metadata": {},
   "outputs": [],
   "source": [
    "logger = logging.getLogger('src.features.plinkio')\n",
    "logger.setLevel(logging.CRITICAL)\n",
    "\n",
    "_ = global_connection()\n",
    "OAR3 = WORKING_ASSEMBLIES[\"OAR3\"]"
   ]
  },
  {
   "cell_type": "code",
   "execution_count": 3,
   "id": "119c9290-0f37-4b8d-9a98-ab8a97277cca",
   "metadata": {},
   "outputs": [],
   "source": [
    "class CustomMixin():\n",
    "    n_of_individuals = None\n",
    "    \n",
    "    def process_pedfile(self, coding=\"top\"):\n",
    "        for line in tqdm(self.read_pedfile(), total=self.n_of_individuals):\n",
    "            _ = self._process_genotypes(line, coding)\n",
    "            \n",
    "        return True\n",
    "    \n",
    "    def is_top(self):\n",
    "        try:\n",
    "            return self.process_pedfile(coding='top')\n",
    "        \n",
    "        except CodingException:\n",
    "            return False\n",
    "    \n",
    "    def is_forward(self):\n",
    "        try:\n",
    "            return self.process_pedfile(coding='forward')\n",
    "        \n",
    "        except CodingException:\n",
    "            return False\n",
    "        \n",
    "    def is_affymetrix(self):\n",
    "        try:\n",
    "            return self.process_pedfile(coding='affymetrix')\n",
    "        \n",
    "        except CodingException:\n",
    "            return False\n",
    "        \n",
    "class CustomTextPlinkIO(CustomMixin, TextPlinkIO):\n",
    "    pass"
   ]
  },
  {
   "cell_type": "markdown",
   "id": "366690b2-c778-47d3-9f11-b7dd35ec7e08",
   "metadata": {},
   "source": [
    "<a id='welsh_breeds'></a>\n",
    "## Welsh sheep breeds\n",
    "This dataset comes from [Beynon, Sarah E. et al. (2016)](https://bmcgenomdata.biomedcentral.com/articles/10.1186/s12863-015-0216-x), in which they genotyped 353 individuals from 18 native Welsh sheep breeds using the Illumina OvineSNP50 array:"
   ]
  },
  {
   "cell_type": "code",
   "execution_count": 4,
   "id": "4786835b-7d5c-480b-a4e5-d573b74b9f92",
   "metadata": {},
   "outputs": [
    {
     "data": {
      "text/plain": [
       "['genotyping data/',\n",
       " 'genotyping data/WelshSheepBreeds2015.map',\n",
       " 'genotyping data/WelshSheepBreeds2015.ped',\n",
       " 'welsh-metadata.openrefine.tar.gz',\n",
       " 'welsh-metadata.xlsx']"
      ]
     },
     "execution_count": 4,
     "metadata": {},
     "output_type": "execute_result"
    }
   ],
   "source": [
    "welsh_dataset = Dataset.objects.get(file=\"Welsh_sheep_genotyping.zip\")\n",
    "welsh_dataset.contents"
   ]
  },
  {
   "cell_type": "markdown",
   "id": "5e6a2971-2d2b-47e1-8ba9-8e29c5fe6796",
   "metadata": {},
   "source": [
    "Ok open dataset and start exploring data:"
   ]
  },
  {
   "cell_type": "code",
   "execution_count": 5,
   "id": "b353c3ea-782b-4acf-adea-e885d8709bea",
   "metadata": {},
   "outputs": [],
   "source": [
    "prefix = str(welsh_dataset.working_dir / \"genotyping data/WelshSheepBreeds2015\")\n",
    "plinkio = CustomTextPlinkIO(prefix=prefix, species=welsh_dataset.species, chip_name=welsh_dataset.chip_name)\n",
    "plinkio.n_of_individuals = welsh_dataset.n_of_individuals"
   ]
  },
  {
   "cell_type": "code",
   "execution_count": 6,
   "id": "40d4538f-aa74-4b92-b3da-d970aad6d5cd",
   "metadata": {},
   "outputs": [],
   "source": [
    "plinkio.read_mapfile()\n",
    "plinkio.fetch_coordinates(src_assembly=OAR3)"
   ]
  },
  {
   "cell_type": "code",
   "execution_count": 7,
   "id": "d4c1c4f1-fe6e-4f91-8603-792be860fb49",
   "metadata": {},
   "outputs": [
    {
     "name": "stdout",
     "output_type": "stream",
     "text": [
      "I can retrieve 51135 of 51135 SNPs using 'name' (0.0% missing)\n"
     ]
    }
   ],
   "source": [
    "snps_found = len(plinkio.mapdata)-len(plinkio.filtered)\n",
    "perc_missing = round(100 - (snps_found / len(plinkio.mapdata) * 100), 2)\n",
    "\n",
    "print(f\"I can retrieve {snps_found} of {len(plinkio.mapdata)} SNPs using 'name' ({perc_missing}% missing)\")"
   ]
  },
  {
   "cell_type": "markdown",
   "id": "bdc9b9bf-9a55-4d9c-8bc0-48b362e3e438",
   "metadata": {},
   "source": [
    "Is this dataset in top coordinates?"
   ]
  },
  {
   "cell_type": "code",
   "execution_count": 8,
   "id": "91958eba-dddf-43a6-bbcb-584361ae8b43",
   "metadata": {},
   "outputs": [
    {
     "data": {
      "application/vnd.jupyter.widget-view+json": {
       "model_id": "5dd73aa500c444edac5fe48579578777",
       "version_major": 2,
       "version_minor": 0
      },
      "text/plain": [
       "  0%|          | 0/353 [00:00<?, ?it/s]"
      ]
     },
     "metadata": {},
     "output_type": "display_data"
    },
    {
     "data": {
      "text/plain": [
       "True"
      ]
     },
     "execution_count": 8,
     "metadata": {},
     "output_type": "execute_result"
    }
   ],
   "source": [
    "plinkio.is_top()"
   ]
  },
  {
   "cell_type": "markdown",
   "id": "703960f8-9fec-4c95-a7e3-64782c71e124",
   "metadata": {},
   "source": [
    "Good. This file is already in *top* coordinates. What about breeds?"
   ]
  },
  {
   "cell_type": "code",
   "execution_count": 9,
   "id": "acea208a-107b-4d8f-bcf3-fbce08d15bdd",
   "metadata": {},
   "outputs": [
    {
     "name": "stdout",
     "output_type": "stream",
     "text": [
      "Got {'BlackWelshMountain', 'ClunForest', 'DolgellauWelshMountain', 'Balwen', 'Beulah', 'Llawenog', 'ImprovedWelshMountain', 'SouthWalesWelshMountain', 'BadgerFaced', 'Llanwenog', 'KerryHill', 'BrecknockHillCheviot', 'Lleyn', 'TalybontWelshMountain', 'LlandoveryWhiteFaced', 'HillRadnor', 'TregaronWelshMountain', 'WelshMountainHillFlock', 'HardySpeckledFaced'} breeds\n"
     ]
    }
   ],
   "source": [
    "breeds = set()\n",
    "\n",
    "for line in plinkio.read_pedfile():\n",
    "    breed = line[0]\n",
    "    if breed not in breeds:\n",
    "        breeds.add(breed)\n",
    "    \n",
    "print(f\"Got {breeds} breeds\")"
   ]
  },
  {
   "cell_type": "markdown",
   "id": "775dfdba-e7c1-46e2-9305-8b7cfc99e997",
   "metadata": {},
   "source": [
    "Try to split breed names:"
   ]
  },
  {
   "cell_type": "code",
   "execution_count": 10,
   "id": "22f769ef-0c09-4f87-9b7c-9c877afb2f12",
   "metadata": {},
   "outputs": [],
   "source": [
    "# https://stackoverflow.com/a/29920015\n",
    "def camel_case_split(identifier):\n",
    "    matches = re.finditer('.+?(?:(?<=[a-z])(?=[A-Z])|(?<=[A-Z])(?=[A-Z][a-z])|$)', identifier)\n",
    "    return [m.group(0) for m in matches]"
   ]
  },
  {
   "cell_type": "code",
   "execution_count": 11,
   "id": "2292a3b9-a415-45c9-862b-389cb1fee059",
   "metadata": {},
   "outputs": [
    {
     "name": "stdout",
     "output_type": "stream",
     "text": [
      "{'BlackWelshMountain': 'Black Welsh Mountain', 'ClunForest': 'Clun Forest', 'DolgellauWelshMountain': 'Dolgellau Welsh Mountain', 'Balwen': 'Balwen', 'Beulah': 'Beulah', 'Llawenog': 'Llawenog', 'ImprovedWelshMountain': 'Improved Welsh Mountain', 'SouthWalesWelshMountain': 'South Wales Welsh Mountain', 'BadgerFaced': 'Badger Faced', 'Llanwenog': 'Llanwenog', 'KerryHill': 'Kerry Hill', 'BrecknockHillCheviot': 'Brecknock Hill Cheviot', 'Lleyn': 'Lleyn', 'TalybontWelshMountain': 'Talybont Welsh Mountain', 'LlandoveryWhiteFaced': 'Llandovery White Faced', 'HillRadnor': 'Hill Radnor', 'TregaronWelshMountain': 'Tregaron Welsh Mountain', 'WelshMountainHillFlock': 'Welsh Mountain Hill Flock', 'HardySpeckledFaced': 'Hardy Speckled Faced'}\n"
     ]
    }
   ],
   "source": [
    "breeds2dict = {}\n",
    "\n",
    "for breed in breeds:\n",
    "    breeds2dict[breed] = \" \".join(camel_case_split(breed))\n",
    "    \n",
    "print(breeds2dict)"
   ]
  },
  {
   "cell_type": "markdown",
   "id": "ee615823-ecfd-46fd-9a10-c186c9c83741",
   "metadata": {},
   "source": [
    "Try to create sample metadata table:"
   ]
  },
  {
   "cell_type": "code",
   "execution_count": 12,
   "id": "e7a6b9bb-d082-415e-bbb5-10a5b44a412f",
   "metadata": {},
   "outputs": [],
   "source": [
    "data = defaultdict(list)\n",
    "\n",
    "for line in plinkio.read_pedfile():\n",
    "    data[\"breed\"].append(breeds2dict[line[0]])\n",
    "    data[\"fid\"].append(line[0])\n",
    "    data[\"original_id\"].append(line[1])\n",
    "    \n",
    "welsh_metadata = pd.DataFrame(data=data)\n",
    "welsh_metadata.to_excel(\"welsh_metadata.xlsx\", index=False)"
   ]
  },
  {
   "cell_type": "markdown",
   "id": "69b769eb-ff0e-4b7f-9bdb-c21fad401b42",
   "metadata": {},
   "source": [
    "This file will be imported in openrefine in order to fix values and add a breed code for each breeds"
   ]
  },
  {
   "cell_type": "code",
   "execution_count": null,
   "id": "85fe7bdb-7509-4757-b671-82869d270b2a",
   "metadata": {},
   "outputs": [],
   "source": []
  }
 ],
 "metadata": {
  "kernelspec": {
   "display_name": "Python 3",
   "language": "python",
   "name": "python3"
  },
  "language_info": {
   "codemirror_mode": {
    "name": "ipython",
    "version": 3
   },
   "file_extension": ".py",
   "mimetype": "text/x-python",
   "name": "python",
   "nbconvert_exporter": "python",
   "pygments_lexer": "ipython3",
   "version": "3.9.1"
  }
 },
 "nbformat": 4,
 "nbformat_minor": 5
}
