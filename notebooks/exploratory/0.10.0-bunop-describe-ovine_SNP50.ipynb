{
 "cells": [
  {
   "cell_type": "markdown",
   "id": "perfect-accuracy",
   "metadata": {},
   "source": [
    "# ovine_SNP50HapMap_data\n",
    "Describing `ovine_SNP50HapMap_data.zip` data. Files contained different subarchives. I normalized all the contents in a single file with subfolder in order to improve usage"
   ]
  },
  {
   "cell_type": "code",
   "execution_count": 1,
   "id": "solar-printing",
   "metadata": {},
   "outputs": [],
   "source": [
    "import io\n",
    "import csv\n",
    "import itertools\n",
    "\n",
    "from collections import Counter\n",
    "from zipfile import ZipFile\n",
    "from pathlib import Path\n",
    "\n",
    "import src.features.illumina\n",
    "from src.features.smarterdb import VariantSheep, global_connection"
   ]
  },
  {
   "cell_type": "code",
   "execution_count": 2,
   "id": "former-bracket",
   "metadata": {},
   "outputs": [],
   "source": [
    "project_dir = Path.cwd().parents[1]\n",
    "datafile = project_dir / \"data/raw/background/ovine_SNP50HapMap_data.zip\""
   ]
  },
  {
   "cell_type": "code",
   "execution_count": 3,
   "id": "color-switzerland",
   "metadata": {},
   "outputs": [
    {
     "name": "stdout",
     "output_type": "stream",
     "text": [
      "File Name                                             Modified             Size\n",
      "ovine_SNP50HapMap_data/                        2021-03-16 10:23:24            0\n",
      "ovine_SNP50HapMap_data/SNP50_Breedv2/          2021-03-16 10:23:16            0\n",
      "ovine_SNP50HapMap_data/SNP50_Breedv2/SNP50_Breedv2.map 2010-02-12 13:36:06      1610011\n",
      "ovine_SNP50HapMap_data/SNP50_Breedv2/SNP50_Breedv2.ped 2010-02-12 13:36:26     27070481\n",
      "ovine_SNP50HapMap_data/SNP50_Breedv2/ovine SNP50 Breedv2 data release.pdf 2010-02-12 13:21:02        46116\n",
      "ovine_SNP50HapMap_data/Heaton/                 2021-03-16 10:22:46            0\n",
      "ovine_SNP50HapMap_data/Heaton/Mike Heaton Sheep 07may2009_LocusSummary.csv 2009-05-29 16:03:28      9801077\n",
      "ovine_SNP50HapMap_data/Heaton/Sample_Map.txt   2009-05-29 16:02:34          429\n",
      "ovine_SNP50HapMap_data/Heaton/SNP_Map.txt      2009-05-29 16:02:38      3053566\n",
      "ovine_SNP50HapMap_data/Heaton/Mike Heaton Sheep 07may2009_LocusXDNA.csv 2009-05-29 16:03:46      6480220\n",
      "ovine_SNP50HapMap_data/Heaton/Mike Heaton Sheep 07may2009_DNAReport.csv 2009-05-29 16:03:10          759\n",
      "ovine_SNP50HapMap_data/Heaton/Mike Heaton Sheep 07may2009_FinalReport.txt 2009-05-29 16:02:52     15440934\n",
      "ovine_SNP50HapMap_data/SNP50_Breedv1/          2021-03-16 10:23:08            0\n",
      "ovine_SNP50HapMap_data/SNP50_Breedv1/SNP50_Breedv1.ped 2009-05-22 01:34:48    552991775\n",
      "ovine_SNP50HapMap_data/SNP50_Breedv1/SNP50_Breedv1.map 2009-05-22 01:34:48      1407804\n",
      "ovine_SNP50HapMap_data/ancestral_no_seg_gc08.out 2020-03-04 10:08:58      1919200\n",
      "ovine_SNP50HapMap_data/ovine_SNP50HapMap_data.pdf 2020-03-04 10:08:10        58401\n",
      "ovine_SNP50HapMap_data/Parentage_04_may_09.PED 2009-06-04 08:27:40     19028003\n"
     ]
    }
   ],
   "source": [
    "handle = ZipFile(datafile)\n",
    "handle.printdir()"
   ]
  },
  {
   "cell_type": "markdown",
   "id": "union-conditions",
   "metadata": {},
   "source": [
    "This dataset have many subarchive inside. Let's do a quick check"
   ]
  },
  {
   "cell_type": "code",
   "execution_count": 4,
   "id": "infinite-easter",
   "metadata": {},
   "outputs": [],
   "source": [
    "archives = [name for name in handle.namelist() if name.endswith('.zip')]"
   ]
  },
  {
   "cell_type": "code",
   "execution_count": 5,
   "id": "loose-letter",
   "metadata": {},
   "outputs": [],
   "source": [
    "for archive in archives:\n",
    "    print(f\"Opening {archive}\\n\")\n",
    "    with handle.open(archive) as subhandle:\n",
    "        subarchive = ZipFile(subhandle)\n",
    "        subarchive.printdir()\n",
    "    print(\"=\"*80 + \"\\n\")"
   ]
  },
  {
   "cell_type": "markdown",
   "id": "rolled-blocking",
   "metadata": {},
   "source": [
    "Files are quite old. I suppose the are in the old 3.1 coordinates system"
   ]
  },
  {
   "cell_type": "code",
   "execution_count": 6,
   "id": "adopted-austria",
   "metadata": {},
   "outputs": [],
   "source": [
    "chip_dir = project_dir / \"data/external/SHE/ILLUMINA/\"\n",
    "old_chip3_file = chip_dir / \"ovinesnp50_b.csv\"\n",
    "old_chip3 = dict()\n",
    "for record in src.features.illumina.read_snpChip(old_chip3_file):\n",
    "    old_chip3[record.name] = (record.chr, record.mapinfo)"
   ]
  },
  {
   "cell_type": "markdown",
   "id": "periodic-terrace",
   "metadata": {},
   "source": [
    "## Heaton"
   ]
  },
  {
   "cell_type": "markdown",
   "id": "educated-mexican",
   "metadata": {},
   "source": [
    "This dataset have no map/ped files. I have no information about breeds or country. I need to process the SNP_Map file"
   ]
  },
  {
   "cell_type": "code",
   "execution_count": 7,
   "id": "identical-philadelphia",
   "metadata": {},
   "outputs": [
    {
     "name": "stdout",
     "output_type": "stream",
     "text": [
      "snp 250506CS3900065000002_1238.1 with different positions: 15:5327353 <> 15:5870057\n",
      "snp 250506CS3900140500001_312.1 with different positions: 23:27428869 <> 23:26298017\n",
      "snp 250506CS3900176800001_906.1 with different positions: 7:89002990 <> 7:81648528\n",
      "snp 250506CS3900211600001_1041.1 with different positions: 16:44955568 <> 16:41355381\n",
      "snp 250506CS3900218700001_1294.1 with different positions: 2:157820235 <> 2:148802744\n",
      "snp 250506CS3900283200001_442.1 with different positions: 1:203289635 <> 99:0\n",
      "snp 250506CS3900371000001_1255.1 with different positions: 11:37632867 <> 11:35339123\n",
      "snp 250506CS3900386000001_696.1 with different positions: 16:68297712 <> 16:62646307\n",
      "snp 250506CS3900414400001_1178.1 with different positions: 1:111100644 <> 1:103396552\n",
      "snp 250506CS3900435700001_1658.1 with different positions: 12:50140951 <> 99:0\n"
     ]
    }
   ],
   "source": [
    "data_coordinates = dict()\n",
    "global_connection()\n",
    "\n",
    "with io.TextIOWrapper(handle.open(\"ovine_SNP50HapMap_data/Heaton/SNP_Map.txt\"), encoding=\"utf-8\") as f:\n",
    "    reader = csv.reader(f, delimiter=\"\\t\")\n",
    "    header = next(reader)\n",
    "    # print(header)\n",
    "    for line in itertools.islice(reader, 10):\n",
    "        qs = VariantSheep.objects(name=line[1])\n",
    "        if qs.count() > 0:\n",
    "            variant = qs.get()\n",
    "            location = next(filter(lambda loc: loc.imported_from == \"SNPchiMp v.3\", variant.locations))\n",
    "            if line[2] != location.chrom or int(line[3]) != location.position:\n",
    "                print(f\"snp {line[1]} with different positions: {line[2]}:{line[3]} <> {location.chrom}:{location.position}\")"
   ]
  },
  {
   "cell_type": "markdown",
   "id": "unauthorized-publication",
   "metadata": {},
   "source": [
    "Heaton coordinates are in outdated 3.1"
   ]
  },
  {
   "cell_type": "markdown",
   "id": "mechanical-sweet",
   "metadata": {},
   "source": [
    "## Parentage_04_may_09"
   ]
  },
  {
   "cell_type": "markdown",
   "id": "stretch-peter",
   "metadata": {},
   "source": [
    "This file seems to have only PED informations"
   ]
  },
  {
   "cell_type": "code",
   "execution_count": 8,
   "id": "going-cookie",
   "metadata": {},
   "outputs": [
    {
     "name": "stdout",
     "output_type": "stream",
     "text": [
      "Data have 97 samples and 49034 snps\n"
     ]
    }
   ],
   "source": [
    "data = []\n",
    "\n",
    "with io.TextIOWrapper(handle.open(\"ovine_SNP50HapMap_data/Parentage_04_may_09.PED\"), encoding=\"utf-8\") as f:\n",
    "    reader = csv.reader(f, delimiter=\"\\t\")\n",
    "    for line in reader:\n",
    "        data.append(line)\n",
    "\n",
    "# snp pairs are separated by single spaces. \"\\t\" define file columns\n",
    "print(f\"Data have {len(data)} samples and {len(data[0])-6} snps\")"
   ]
  },
  {
   "cell_type": "markdown",
   "id": "hairy-macedonia",
   "metadata": {},
   "source": [
    "I suppose that such data comes from 50K Illumina sheep, however I have no information on map (snp names and coordinates), so this dataset must be discarded"
   ]
  },
  {
   "cell_type": "markdown",
   "id": "isolated-asbestos",
   "metadata": {},
   "source": [
    "## SNP50_Breedv1\n",
    "This seems to be the first release of [SheepHapMap](www.sheephapmap.org) data. There are multiple breeds coming from different countries, however I can't get info on countries nor find all breeds in dad-is. Some of them are cross-breeds"
   ]
  },
  {
   "cell_type": "code",
   "execution_count": 9,
   "id": "solved-union",
   "metadata": {},
   "outputs": [],
   "source": [
    "data_coordinates = dict()\n",
    "\n",
    "with io.TextIOWrapper(handle.open(\"ovine_SNP50HapMap_data/SNP50_Breedv1/SNP50_Breedv1.map\"), encoding=\"utf-8\") as f:\n",
    "    for record in f:\n",
    "        record = record.split()\n",
    "        data_coordinates[record[1]] = (record[0], int(record[3]))"
   ]
  },
  {
   "cell_type": "code",
   "execution_count": 10,
   "id": "disciplinary-sleeve",
   "metadata": {},
   "outputs": [
    {
     "name": "stdout",
     "output_type": "stream",
     "text": [
      "250506CS3900539000001_471.1 ('X', 74622875) ('0', 0)\n",
      "CL635944_160.1 ('0', 0) ('6', 0)\n",
      "Contig35697_5761.1 ('0', 0) ('6', 0)\n",
      "CZ925803_293.1 ('0', 0) ('6', 0)\n",
      "DU178311_404.1 ('0', 0) ('6', 0)\n",
      "DU185362_365.1 ('0', 0) ('23', 0)\n",
      "DU189586_521.1 ('0', 0) ('27', 0)\n",
      "DU199514_430.1 ('X', 20036615) ('27', 20036615)\n",
      "DU202534_254.1 ('0', 0) ('1', 0)\n",
      "DU205124_325.1 ('0', 0) ('5', 0)\n",
      "\n",
      "N of SNPs in different positions in SNP50_Breedv1 and old chip3: 1578\n",
      "\n",
      "N of SNPs in SNP50_Breedv1 not in chip: 5207\n"
     ]
    }
   ],
   "source": [
    "count = 0\n",
    "missing = 0\n",
    "\n",
    "for key, value in old_chip3.items():\n",
    "    if not key in data_coordinates:\n",
    "        missing += 1\n",
    "        continue\n",
    "        \n",
    "    if value != data_coordinates[key]:\n",
    "        count += 1\n",
    "        if count <= 10:\n",
    "            print(key, value, data_coordinates[key])\n",
    "        \n",
    "print(f\"\\nN of SNPs in different positions in SNP50_Breedv1 and old chip3: {count}\")\n",
    "print(f\"\\nN of SNPs in SNP50_Breedv1 not in chip: {missing}\")"
   ]
  },
  {
   "cell_type": "markdown",
   "id": "detected-provider",
   "metadata": {},
   "source": [
    "Those coordinates need to be checked"
   ]
  },
  {
   "cell_type": "markdown",
   "id": "painted-darwin",
   "metadata": {},
   "source": [
    "## SNP50_Breedv2\n",
    "This is an update of the sheep hapmap data, with a few more animals. The same considerations made for the first release apply also here"
   ]
  },
  {
   "cell_type": "code",
   "execution_count": 11,
   "id": "flexible-sheffield",
   "metadata": {},
   "outputs": [],
   "source": [
    "data_coordinates = dict()\n",
    "\n",
    "with io.TextIOWrapper(handle.open(\"ovine_SNP50HapMap_data/SNP50_Breedv2/SNP50_Breedv2.map\"), encoding=\"utf-8\") as f:\n",
    "    for record in f:\n",
    "        record = record.split()\n",
    "        data_coordinates[record[1]] = (record[0], int(record[3]))"
   ]
  },
  {
   "cell_type": "code",
   "execution_count": 12,
   "id": "horizontal-pharmaceutical",
   "metadata": {},
   "outputs": [
    {
     "name": "stdout",
     "output_type": "stream",
     "text": [
      "250506CS3900539000001_471.1 ('X', 74622875) ('27', 74622875)\n",
      "DU199514_430.1 ('X', 20036615) ('27', 20036615)\n",
      "DU211594_392.1 ('X', 42984493) ('27', 42984493)\n",
      "DU225785_452.1 ('X', 31318207) ('27', 31318207)\n",
      "DU240765_244.1 ('X', 80622390) ('27', 80622390)\n",
      "DU275403_434.1 ('X', 112895373) ('27', 112895373)\n",
      "DU278506_495.1 ('X', 90275952) ('27', 90275952)\n",
      "DU322639_600.1 ('X', 51771664) ('27', 51771664)\n",
      "DU330424_111.1 ('X', 38136047) ('27', 38136047)\n",
      "DU364592_286.1 ('X', 79173304) ('27', 79173304)\n",
      "\n",
      "N of SNPs in different positions in SNP50_Breedv2 and old chip3: 1258\n",
      "\n",
      "N of SNPs in SNP50_Breedv2 not in chip: 5207\n"
     ]
    }
   ],
   "source": [
    "count = 0\n",
    "missing = 0\n",
    "\n",
    "for key, value in old_chip3.items():\n",
    "    if not key in data_coordinates:\n",
    "        missing += 1\n",
    "        continue\n",
    "        \n",
    "    if value != data_coordinates[key]:\n",
    "        count += 1\n",
    "        if count <= 10:\n",
    "            print(key, value, data_coordinates[key])\n",
    "        \n",
    "print(f\"\\nN of SNPs in different positions in SNP50_Breedv2 and old chip3: {count}\")\n",
    "print(f\"\\nN of SNPs in SNP50_Breedv2 not in chip: {missing}\")"
   ]
  },
  {
   "cell_type": "markdown",
   "id": "celtic-chinese",
   "metadata": {},
   "source": [
    "Those coordinates need to be checked"
   ]
  }
 ],
 "metadata": {
  "kernelspec": {
   "display_name": "Python 3",
   "language": "python",
   "name": "python3"
  },
  "language_info": {
   "codemirror_mode": {
    "name": "ipython",
    "version": 3
   },
   "file_extension": ".py",
   "mimetype": "text/x-python",
   "name": "python",
   "nbconvert_exporter": "python",
   "pygments_lexer": "ipython3",
   "version": "3.9.1"
  }
 },
 "nbformat": 4,
 "nbformat_minor": 5
}
