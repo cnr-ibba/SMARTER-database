{
 "cells": [
  {
   "cell_type": "markdown",
   "id": "15d34df6-09cc-4c66-9429-4bb249b0eeec",
   "metadata": {},
   "source": [
    "# ISHEEP dataset\n",
    "\n",
    "* [Introduction](#introduction)\n",
    "* [Data preparation](#data-preparation)\n",
    "  * [Convert VCF files into a valid format](#vcf-convert)\n",
    "  * [Convert sorted VCF file to plink binaries](#vcf-plink)\n",
    "* [Importing stuff](#importing)\n",
    "* [ISHEEP 50K dataset](#snp50k)\n",
    "* [ISHEEP 600K dataset](#snpHD)\n",
    "\n",
    "<a id='introduction'></a>\n",
    "## Introduction\n",
    "\n",
    "This notebook is an exploratory analisis on the [isheep dataset](https://ngdc.cncb.ac.cn/isheep/). Data was downloaded from their [ftp site](https://ngdc.cncb.ac.cn/isheep/download). There are two datasets in *VCF* format, rispectively 1512 samples in 50K and 911 samples in 600k (HD). Headers are missing or not valid, probabily they where generated using plink itself. Genomic coordinates are expected to be *OAR4* and genotypes in forward coding (as VCF should be). SNP were renamed using the **RSID** (not illumina name). All SNPs without rs_id have no name (and placed on 99 chromosome). There are no *FID* in VCF, since they are an attribute of plink files. Those additional information could be retrieved from [isheep supplementary material](https://www.frontiersin.org/articles/10.3389/fgene.2021.714852/full#supplementary-material)\n",
    "\n",
    "<a id='data-preparation'></a>\n",
    "## Data preparation\n",
    "\n",
    "<a id='vcf-convert'></a>\n",
    "### Convert VCF files into a valid format\n",
    "\n",
    "VCF files were fixed and modified in order to be sorted and indexed. Chromosome `99` was renamed to `0` in order to be processed with plink. VCF will be sorted on position using `awk` since headers was malformed and couldn't work with `bcftools`, `picard` or other utils. Final file was compressed and indexed. For 50K:\n",
    "\n",
    "```bash\n",
    "python createVCFheader.py > header.txt\n",
    "cat header.txt 50K-all.vcf > 50K-all.fix.vcf\n",
    "awk '{if ($1==\"99\") sub($1, 0); print }' 50K-all.fix.vcf > 50K-all.fix-no99.vcf\n",
    "sed -i 's/ID=99/ID=0/' 50K-all.fix-no99.vcf\n",
    "grep \"^#\" 50K-all.fix-no99.vcf > 50K-all.fix-no99.sort.vcf\n",
    "grep -v \"^#\" 50K-all.fix-no99.vcf | sort -k1,1V -k2,2g >> 50K-all.fix-no99.sort.vcf\n",
    "bgzip -@24 50K-all.fix-no99.sort.vcf\n",
    "tabix 50K-all.fix-no99.sort.vcf.gz\n",
    "```\n",
    "\n",
    "Similarly for 600K:\n",
    "\n",
    "```bash\n",
    "cat 600K-all.vcf | awk '{if ($1==\"99\") sub($1, 0); print }' > 600K-all.fix-no99.vcf\n",
    "sed -i 's/ID=99/ID=0/' 600K-all.fix-no99.vcf\n",
    "grep \"^#\" 600K-all.fix-no99.vcf > 600K-all.fix-no99.sort.vcf\n",
    "grep -v \"^#\" 600K-all.fix-no99.vcf | sort -k1,1V -k2,2g >> 600K-all.fix-no99.sort.vcf\n",
    "bgzip -@24 600K-all.fix-no99.sort.vcf \n",
    "tabix 600K-all.fix-no99.sort.vcf.gz\n",
    "```\n",
    "\n",
    "<a id='vcf-plink'></a>\n",
    "### Convert sorted VCF file to plink binaries\n",
    "\n",
    "VCF are the converted into plink files in order to be processed using the `SMARTER-database` library:\n",
    "\n",
    "```bash\n",
    "mkdir 50K-all\n",
    "mkdir 600K-all\n",
    "plink --chr-set 26 --allow-extra-chr --vcf 50K-all.fix-no99.sort.vcf.gz --make-bed --out 50K-all/50K-all\n",
    "plink --chr-set 26 --allow-extra-chr --vcf 600K-all.fix-no99.sort.vcf.gz --make-bed --out 600K-all/600K-all\n",
    "```\n",
    "\n",
    "<a id='importing'></a>\n",
    "## Importing stuff\n",
    "\n",
    "Now it's time to upload datasets"
   ]
  },
  {
   "cell_type": "code",
   "execution_count": 17,
   "id": "ad4bb541-f97d-4b78-a69f-0b0131957a1f",
   "metadata": {},
   "outputs": [],
   "source": [
    "import logging\n",
    "from pathlib import Path\n",
    "from collections import Counter\n",
    "\n",
    "from plinkio import plinkfile\n",
    "from tqdm.notebook import tqdm\n",
    "\n",
    "from src.features.smarterdb import global_connection, VariantSheep\n",
    "from src.features.utils import get_project_dir\n",
    "from src.features.plinkio import BinaryPlinkIO, CodingException\n",
    "from src.data.common import WORKING_ASSEMBLIES"
   ]
  },
  {
   "cell_type": "code",
   "execution_count": 18,
   "id": "f2bf3de2-7035-41ed-aaad-21fbcd2bc396",
   "metadata": {},
   "outputs": [],
   "source": [
    "_ = global_connection()\n",
    "OAR3 = WORKING_ASSEMBLIES[\"OAR3\"]\n",
    "logging.getLogger('src.features.plinkio').setLevel(logging.CRITICAL)"
   ]
  },
  {
   "cell_type": "code",
   "execution_count": 19,
   "id": "3cef817f-aa0f-4064-b4e9-d6861fb23694",
   "metadata": {},
   "outputs": [],
   "source": [
    "isheep_50K = plinkfile.open(str(get_project_dir() / \"data/external/SHE/ISHEEP/50K-all/50K-all\"))\n",
    "isheep_600K = plinkfile.open(str(get_project_dir() / \"data/external/SHE/ISHEEP/600K-all/600K-all\"))"
   ]
  },
  {
   "cell_type": "markdown",
   "id": "5c981035-c47e-4d56-b8a7-fdaf54fc6216",
   "metadata": {},
   "source": [
    "<a id='snp50k'></a>\n",
    "## ISHEEP 50K dataset\n",
    "How many samples in 50K dataset are in 600K dataset?"
   ]
  },
  {
   "cell_type": "code",
   "execution_count": 20,
   "id": "3bc8a090-f893-4c77-bcc9-5b42c9f95af2",
   "metadata": {},
   "outputs": [
    {
     "name": "stdout",
     "output_type": "stream",
     "text": [
      "There are 0 samples in common between 50K and 600K datasets\n"
     ]
    }
   ],
   "source": [
    "isheep_50K_samples = set([sample.iid for sample in isheep_50K.get_samples()])\n",
    "isheep_600K_samples = set([sample.iid for sample in isheep_600K.get_samples()])\n",
    "\n",
    "common_samples = isheep_600K_samples.intersection(isheep_50K_samples)\n",
    "print(f\"There are {len(common_samples)} samples in common between 50K and 600K datasets\")"
   ]
  },
  {
   "cell_type": "markdown",
   "id": "5dc5b44f-f933-4c4c-8836-62e8d4fde3c8",
   "metadata": {},
   "source": [
    "Ok, it's seems to me that those dataset could be managed separately, and maybe that those two dataset were created independentely. Let's consider SNPs: they have the *rs_id* as name, and SNP without a place have no name at all. How many SNP with rs_id i have?"
   ]
  },
  {
   "cell_type": "code",
   "execution_count": 21,
   "id": "79e2f87e-9575-4c00-9e25-ace363748c94",
   "metadata": {},
   "outputs": [
    {
     "name": "stdout",
     "output_type": "stream",
     "text": [
      "There are 48221 SNPs with a valid 'rs_id' from 51132 total SNPs\n"
     ]
    }
   ],
   "source": [
    "isheep_50K_all_variants = isheep_50K.get_loci()\n",
    "isheep_50K_valid_variants = list(filter(lambda snp: snp.name != 'NULL', isheep_50K_all_variants))\n",
    "print(f\"There are {len(isheep_50K_valid_variants)} SNPs with a valid 'rs_id' from {len(isheep_50K_all_variants)} total SNPs\")"
   ]
  },
  {
   "cell_type": "markdown",
   "id": "ddf7b9ee-8b92-4b5e-b88a-3057b4d392a1",
   "metadata": {},
   "source": [
    "How many variants I can find in my database starting from rs_id? Consider that affymetrix SNPs have the same 'rs_id' for multiple probes. Force SNPs to belong the appropriate chip"
   ]
  },
  {
   "cell_type": "code",
   "execution_count": 22,
   "id": "e11f5c48-8740-4806-af39-3746e0bf31f9",
   "metadata": {},
   "outputs": [
    {
     "name": "stdout",
     "output_type": "stream",
     "text": [
      "I can found 48221/48221 in my SMARTER-database\n"
     ]
    }
   ],
   "source": [
    "variants = VariantSheep.objects.filter(rs_id__in=[variant.name for variant in isheep_50K_valid_variants], chip_name=\"IlluminaOvineSNP50\")\n",
    "print(f\"I can found {variants.count()}/{len(isheep_50K_valid_variants)} in my SMARTER-database\")"
   ]
  },
  {
   "cell_type": "markdown",
   "id": "87b913bc-b798-457e-bf9a-ee2fb554d99d",
   "metadata": {},
   "source": [
    "Loading data from other dataset provide me all the SNPs I need. So, I could add almost all snps with an *rs_id*. Next question is are those SNPs in forward coordinates? I need to ovverride my class methods:"
   ]
  },
  {
   "cell_type": "code",
   "execution_count": 23,
   "id": "c6aac78f-dcd2-4146-9e4f-cbef280c38f8",
   "metadata": {},
   "outputs": [],
   "source": [
    "class CustomBinaryPlinkIO(BinaryPlinkIO):\n",
    "    def process_pedfile(self, src_coding=\"top\"):\n",
    "        for line in tqdm(self.read_pedfile(), total=len(self.plink_file.get_samples())):\n",
    "            _ = self._process_genotypes(line, src_coding=src_coding)\n",
    "\n",
    "        return True\n",
    "\n",
    "    def is_top(self):\n",
    "        try:\n",
    "            return self.process_pedfile(src_coding='top')\n",
    "\n",
    "        except CodingException:\n",
    "            return False\n",
    "\n",
    "    def is_forward(self):\n",
    "        try:\n",
    "            return self.process_pedfile(src_coding='forward')\n",
    "\n",
    "        except CodingException:\n",
    "            return False"
   ]
  },
  {
   "cell_type": "code",
   "execution_count": 24,
   "id": "0e18006b-2895-4d6d-a6de-2f0e56ee51f2",
   "metadata": {},
   "outputs": [],
   "source": [
    "plinkio = CustomBinaryPlinkIO(species=\"Sheep\", chip_name=\"IlluminaOvineSNP50\")\n",
    "plinkio.plink_file = isheep_50K\n",
    "plinkio.read_mapfile()\n",
    "plinkio.fetch_coordinates(search_field=\"rs_id\", chip_name=\"IlluminaOvineSNP50\", src_assembly=OAR3)"
   ]
  },
  {
   "cell_type": "markdown",
   "id": "db05a99d-5de2-4ef4-80ae-226139cd3237",
   "metadata": {},
   "source": [
    "Is this file in *forward*?"
   ]
  },
  {
   "cell_type": "code",
   "execution_count": 25,
   "id": "874464c2-61b4-4e0d-85a3-730bef07a019",
   "metadata": {},
   "outputs": [
    {
     "data": {
      "application/vnd.jupyter.widget-view+json": {
       "model_id": "2c4e33a9373f45d592fc82387f686e52",
       "version_major": 2,
       "version_minor": 0
      },
      "text/plain": [
       "  0%|          | 0/1512 [00:00<?, ?it/s]"
      ]
     },
     "metadata": {},
     "output_type": "display_data"
    },
    {
     "data": {
      "text/plain": [
       "False"
      ]
     },
     "execution_count": 25,
     "metadata": {},
     "output_type": "execute_result"
    }
   ],
   "source": [
    "plinkio.is_forward()"
   ]
  },
  {
   "cell_type": "markdown",
   "id": "10c2bb35-1b4d-4eed-915b-ff80daa3a67d",
   "metadata": {},
   "source": [
    "Ok, so is this file in illumina *top*?"
   ]
  },
  {
   "cell_type": "code",
   "execution_count": 26,
   "id": "50a6256b-bdb9-4cc3-988b-163d41773965",
   "metadata": {},
   "outputs": [
    {
     "data": {
      "application/vnd.jupyter.widget-view+json": {
       "model_id": "03690a28c31b4540bf095c6c40960ab5",
       "version_major": 2,
       "version_minor": 0
      },
      "text/plain": [
       "  0%|          | 0/1512 [00:00<?, ?it/s]"
      ]
     },
     "metadata": {},
     "output_type": "display_data"
    },
    {
     "data": {
      "text/plain": [
       "True"
      ]
     },
     "execution_count": 26,
     "metadata": {},
     "output_type": "execute_result"
    }
   ],
   "source": [
    "plinkio.is_top()"
   ]
  },
  {
   "cell_type": "markdown",
   "id": "28fffa26-ccda-4e25-9557-dddd8f2befd2",
   "metadata": {},
   "source": [
    "<a id='snpHD'></a>\n",
    "## ISHEEP 600K dataset\n",
    "How many SNP with rs_id i have?"
   ]
  },
  {
   "cell_type": "code",
   "execution_count": 27,
   "id": "e49c62f8-84c0-4816-a7e1-f3d8a6ab64be",
   "metadata": {},
   "outputs": [
    {
     "name": "stdout",
     "output_type": "stream",
     "text": [
      "There are 604151 SNPs with a valid 'rs_id' from 606006 total SNPs\n"
     ]
    }
   ],
   "source": [
    "isheep_600K_all_variants = isheep_600K.get_loci()\n",
    "isheep_600K_valid_variants = list(filter(lambda snp: snp.name.upper() != 'NULL', isheep_600K_all_variants))\n",
    "print(f\"There are {len(isheep_600K_valid_variants)} SNPs with a valid 'rs_id' from {len(isheep_600K_all_variants)} total SNPs\")"
   ]
  },
  {
   "cell_type": "markdown",
   "id": "edd0f1b5-c065-47da-81c7-c513831c4037",
   "metadata": {},
   "source": [
    "Well, I know that there are multiple probes in *HD* chip with the same `rs_id`:"
   ]
  },
  {
   "cell_type": "code",
   "execution_count": 28,
   "id": "fc5031a1-8977-4f70-9974-2c76a0c01cfd",
   "metadata": {},
   "outputs": [
    {
     "data": {
      "text/plain": [
       "{'rs160403113': 2,\n",
       " 'rs402137533': 2,\n",
       " 'rs411572125': 2,\n",
       " 'rs414994086': 2,\n",
       " 'rs417009700': 2,\n",
       " 'rs419271878': 2,\n",
       " 'rs421030064': 2,\n",
       " 'rs424177120': 2,\n",
       " 'rs424922202': 2,\n",
       " 'rs429936770': 2,\n",
       " 'rs409530414': 2,\n",
       " 'rs401964070': 2,\n",
       " 'rs403536877': 2,\n",
       " 'rs160076408': 2,\n",
       " 'rs404810128': 2,\n",
       " 'rs427172981': 2,\n",
       " 'rs399767812': 2,\n",
       " 'rs408149659': 2,\n",
       " 'rs407812192': 2,\n",
       " 'rs421290240': 2,\n",
       " 'rs402828512': 2,\n",
       " 'rs424493804': 2,\n",
       " 'rs418396733': 2}"
      ]
     },
     "execution_count": 28,
     "metadata": {},
     "output_type": "execute_result"
    }
   ],
   "source": [
    "counter = Counter([variant.name for variant in isheep_600K_valid_variants])\n",
    "{x: count for x, count in counter.items() if count > 1}"
   ]
  },
  {
   "cell_type": "markdown",
   "id": "6fc60511-5825-41fa-b062-f5380f44d0ec",
   "metadata": {},
   "source": [
    "How many variants I can find in my database starting from rs_id? Consider that affymetrix SNPs have the same 'rs_id' for multiple probes. Force SNPs to belong the appropriate chip"
   ]
  },
  {
   "cell_type": "code",
   "execution_count": 29,
   "id": "4c3ae85a-c033-48da-a3ff-df033750ef47",
   "metadata": {},
   "outputs": [
    {
     "name": "stdout",
     "output_type": "stream",
     "text": [
      "I can found 604149/604151 in my SMARTER-database\n"
     ]
    }
   ],
   "source": [
    "variants = VariantSheep.objects.filter(rs_id__in=[variant.name for variant in isheep_600K_valid_variants], chip_name=\"IlluminaOvineHDSNP\")\n",
    "print(f\"I can found {variants.count()}/{len(isheep_600K_valid_variants)} in my SMARTER-database\")"
   ]
  },
  {
   "cell_type": "markdown",
   "id": "68cb9672-5c70-48e1-9809-366a0e5b4224",
   "metadata": {},
   "source": [
    "Not bad. Now check that coding convention:"
   ]
  },
  {
   "cell_type": "code",
   "execution_count": 30,
   "id": "90f82c06-cd90-4260-b260-d70f95c6b49b",
   "metadata": {},
   "outputs": [],
   "source": [
    "plinkio = CustomBinaryPlinkIO(species=\"Sheep\", chip_name=\"IlluminaOvineHDSNP\")\n",
    "plinkio.plink_file = isheep_600K\n",
    "plinkio.read_mapfile()\n",
    "plinkio.fetch_coordinates(search_field=\"rs_id\", chip_name=\"IlluminaOvineHDSNP\", src_assembly=OAR3)"
   ]
  },
  {
   "cell_type": "markdown",
   "id": "59668ae3-8c2f-4dbb-a004-8e786e57dab6",
   "metadata": {},
   "source": [
    "Is this file in *forward*?"
   ]
  },
  {
   "cell_type": "code",
   "execution_count": 31,
   "id": "5db882e8-2e73-4ede-a50c-4e0d8869c320",
   "metadata": {},
   "outputs": [
    {
     "data": {
      "application/vnd.jupyter.widget-view+json": {
       "model_id": "2fa64be543a94c7d95a8c53425c4f449",
       "version_major": 2,
       "version_minor": 0
      },
      "text/plain": [
       "  0%|          | 0/911 [00:00<?, ?it/s]"
      ]
     },
     "metadata": {},
     "output_type": "display_data"
    },
    {
     "data": {
      "text/plain": [
       "False"
      ]
     },
     "execution_count": 31,
     "metadata": {},
     "output_type": "execute_result"
    }
   ],
   "source": [
    "plinkio.is_forward()"
   ]
  },
  {
   "cell_type": "markdown",
   "id": "67d3ad9f-0060-4e91-820b-9f4b4a494952",
   "metadata": {},
   "source": [
    "Ok, so is this file in illumina *top*?"
   ]
  },
  {
   "cell_type": "code",
   "execution_count": 32,
   "id": "6d4b2398-5c36-440d-9b5a-3c571d037d84",
   "metadata": {},
   "outputs": [
    {
     "data": {
      "application/vnd.jupyter.widget-view+json": {
       "model_id": "f9e13a63feab4d35b1988c9bd654df9d",
       "version_major": 2,
       "version_minor": 0
      },
      "text/plain": [
       "  0%|          | 0/911 [00:00<?, ?it/s]"
      ]
     },
     "metadata": {},
     "output_type": "display_data"
    },
    {
     "data": {
      "text/plain": [
       "True"
      ]
     },
     "execution_count": 32,
     "metadata": {},
     "output_type": "execute_result"
    }
   ],
   "source": [
    "plinkio.is_top()"
   ]
  },
  {
   "cell_type": "code",
   "execution_count": null,
   "id": "09e4a8f0-cc3b-4cf9-842e-20b2ea5d766f",
   "metadata": {},
   "outputs": [],
   "source": []
  }
 ],
 "metadata": {
  "kernelspec": {
   "display_name": "Python 3",
   "language": "python",
   "name": "python3"
  },
  "language_info": {
   "codemirror_mode": {
    "name": "ipython",
    "version": 3
   },
   "file_extension": ".py",
   "mimetype": "text/x-python",
   "name": "python",
   "nbconvert_exporter": "python",
   "pygments_lexer": "ipython3",
   "version": "3.9.1"
  }
 },
 "nbformat": 4,
 "nbformat_minor": 5
}
