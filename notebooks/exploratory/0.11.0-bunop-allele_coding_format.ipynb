{
 "cells": [
  {
   "cell_type": "markdown",
   "id": "regulated-spare",
   "metadata": {},
   "source": [
    "# Allele coding format\n",
    "We suppose that alleles in genotypes file are in **illumina top** format and we don't need to convert genotypes in *MAP/PED*. However, it is always like this? Can I verify that coordinates are always in **top**? How I can convert the coordinates in **forward** format (which is needed by VCF)? How I can determine if a genotype is a reference or an alternate? Let's start by importing and initialization some stuff"
   ]
  },
  {
   "cell_type": "code",
   "execution_count": 1,
   "id": "vertical-binding",
   "metadata": {},
   "outputs": [],
   "source": [
    "import csv\n",
    "import itertools\n",
    "\n",
    "from tqdm.notebook import tqdm\n",
    "from mongoengine.errors import DoesNotExist\n",
    "\n",
    "from src.features.smarterdb import Dataset, VariantSheep, Location, global_connection\n",
    "\n",
    "conn = global_connection()\n",
    "sniffer = csv.Sniffer()"
   ]
  },
  {
   "cell_type": "markdown",
   "id": "substantial-editing",
   "metadata": {},
   "source": [
    "## TEXEL\n",
    "Let's test the *texel* dataset. Get information from database:"
   ]
  },
  {
   "cell_type": "code",
   "execution_count": 2,
   "id": "baking-equivalent",
   "metadata": {},
   "outputs": [],
   "source": [
    "dataset = Dataset.objects(file=\"TEXEL_INIA_UY.zip\").get()\n",
    "mapfile = \"TEXEL_UY.map\"\n",
    "pedfile = \"TEXEL_UY.ped\"\n",
    "mappath = dataset.working_dir / mapfile\n",
    "pedpath = dataset.working_dir / pedfile"
   ]
  },
  {
   "cell_type": "markdown",
   "id": "mathematical-economy",
   "metadata": {},
   "source": [
    "Time to read SNPs positions and *ids*. Open *MAP* file with `csv` module:"
   ]
  },
  {
   "cell_type": "code",
   "execution_count": 3,
   "id": "unavailable-masters",
   "metadata": {},
   "outputs": [
    {
     "name": "stdout",
     "output_type": "stream",
     "text": [
      "read 51135 snps from /home/paolo/Projects/SMARTER-database/data/interim/604f75a61a08c53cebd09b67/TEXEL_UY.map\n",
      "['15', '250506CS3900065000002_1238.1', '0', '5327353']\n",
      "['23', '250506CS3900140500001_312.1', '0', '27428869']\n",
      "['7', '250506CS3900176800001_906.1', '0', '89002990']\n",
      "['16', '250506CS3900211600001_1041.1', '0', '44955568']\n",
      "['2', '250506CS3900218700001_1294.1', '0', '157820235']\n"
     ]
    }
   ],
   "source": [
    "with open(mappath) as handle:\n",
    "    dialect = sniffer.sniff(handle.read(2048))\n",
    "    handle.seek(0)\n",
    "    reader = csv.reader(handle, dialect=dialect)\n",
    "    mapdata = list(reader)\n",
    "print(f\"read {len(mapdata)} snps from {mappath}\")\n",
    "for line in itertools.islice(mapdata, 5):\n",
    "    print(line)"
   ]
  },
  {
   "cell_type": "markdown",
   "id": "ecological-palace",
   "metadata": {},
   "source": [
    "Ok, now get information from smarter database"
   ]
  },
  {
   "cell_type": "code",
   "execution_count": 4,
   "id": "restricted-enterprise",
   "metadata": {},
   "outputs": [
    {
     "name": "stdout",
     "output_type": "stream",
     "text": [
      "Loading locations...\n"
     ]
    },
    {
     "data": {
      "application/vnd.jupyter.widget-view+json": {
       "model_id": "2feac9edf5f040728ef9fe32c4001dbc",
       "version_major": 2,
       "version_minor": 0
      },
      "text/plain": [
       "  0%|          | 0/51135 [00:00<?, ?it/s]"
      ]
     },
     "metadata": {},
     "output_type": "display_data"
    },
    {
     "name": "stdout",
     "output_type": "stream",
     "text": [
      "Done!\n",
      "(SNPchiMp v.3:Oar_v3.1) 15:5870057\n",
      "(SNPchiMp v.3:Oar_v3.1) 23:26298017\n",
      "(SNPchiMp v.3:Oar_v3.1) 7:81648528\n",
      "(SNPchiMp v.3:Oar_v3.1) 16:41355381\n",
      "(SNPchiMp v.3:Oar_v3.1) 2:148802744\n"
     ]
    }
   ],
   "source": [
    "locations = []\n",
    "print(\"Loading locations...\")\n",
    "for line in tqdm(mapdata):\n",
    "    variant = VariantSheep.objects(name=line[1]).get()\n",
    "    location = variant.get_location(version='Oar_v3.1')\n",
    "    locations.append(location)\n",
    "\n",
    "print(\"Done!\")\n",
    "\n",
    "for line in itertools.islice(locations, 5):\n",
    "    print(line)"
   ]
  },
  {
   "cell_type": "markdown",
   "id": "novel-archives",
   "metadata": {},
   "source": [
    "Now `mapdata` and `locations` have the same indexes (apply on the same SNP). Ok time to read from *PED* datafile:"
   ]
  },
  {
   "cell_type": "code",
   "execution_count": 5,
   "id": "close-restaurant",
   "metadata": {},
   "outputs": [],
   "source": [
    "def is_top(genotype: list, location: Location, missing: str = \"0\") -> bool:\n",
    "    \"\"\"Return True if genotype is compatible with illumina TOP coding\n",
    "\n",
    "    Returns:\n",
    "        bool: True if in top coordinates\n",
    "    \"\"\"\n",
    "\n",
    "    # get illumina data as an array\n",
    "    top = location.illumina_top.split(\"/\")\n",
    "\n",
    "    for allele in genotype:\n",
    "        # mind to missing values. If missing can't be equal to illumina_top\n",
    "        if allele == missing:\n",
    "            continue\n",
    "\n",
    "        if allele not in top:\n",
    "            return False\n",
    "\n",
    "    return True"
   ]
  },
  {
   "cell_type": "code",
   "execution_count": 6,
   "id": "floral-cooking",
   "metadata": {},
   "outputs": [
    {
     "name": "stdout",
     "output_type": "stream",
     "text": [
      "Check if PED is in top coordinates\n"
     ]
    },
    {
     "data": {
      "application/vnd.jupyter.widget-view+json": {
       "model_id": "4387618a84b24afe9462ae2e228b3890",
       "version_major": 2,
       "version_minor": 0
      },
      "text/plain": [
       "  0%|          | 0/169 [00:00<?, ?it/s]"
      ]
     },
     "metadata": {},
     "output_type": "display_data"
    }
   ],
   "source": [
    "print(f\"Check if PED is in top coordinates\")\n",
    "\n",
    "with open(pedpath) as handle:\n",
    "    dialect = sniffer.sniff(handle.read(2048))\n",
    "    handle.seek(0)\n",
    "    reader = csv.reader(handle, dialect=dialect)\n",
    "    for i, line in enumerate(tqdm(reader, total=dataset.n_of_individuals)):\n",
    "        # debug on first 100 snps\n",
    "        for j, mapline in enumerate(mapdata):\n",
    "            # get location from locations list (read previously from db)\n",
    "            location = locations[j]\n",
    "            \n",
    "            # skip first 6 column (ped extra fields)\n",
    "            a1 = line[6+j*2]\n",
    "            a2 = line[6+j*2+1]\n",
    "            \n",
    "            # define genotype as an array\n",
    "            genotype = [a1, a2]\n",
    "            \n",
    "            if not is_top(genotype, location):\n",
    "                # print snp name and info on locations\n",
    "                print(f\"{line[:2]}:{mapline[1]}: from ped: [{a1}/{a2}] -> from snpchimp [{location.illumina_top}]\")\n",
    "                \n",
    "                raise Exception(\"Not illumina top\")\n",
    "            \n",
    "        # debug on first sample\n",
    "        # break"
   ]
  },
  {
   "cell_type": "markdown",
   "id": "atlantic-listing",
   "metadata": {},
   "source": [
    "Texel data are in illumina TOP coordinate format"
   ]
  },
  {
   "cell_type": "markdown",
   "id": "latin-fifteen",
   "metadata": {},
   "source": [
    "## Frizarta\n",
    "Try to determine is frizarta is in illumina/top"
   ]
  },
  {
   "cell_type": "code",
   "execution_count": 7,
   "id": "prescribed-marine",
   "metadata": {},
   "outputs": [],
   "source": [
    "dataset = Dataset.objects(file=\"Frizarta54samples_ped_map_files.zip\").get()\n",
    "mapfile = \"Frizarta54samples_ped_map_files/Frizarta54samples.map\"\n",
    "pedfile = \"Frizarta54samples_ped_map_files/Frizarta54samples.ped\"\n",
    "mappath = dataset.working_dir / mapfile\n",
    "pedpath = dataset.working_dir / pedfile"
   ]
  },
  {
   "cell_type": "markdown",
   "id": "isolated-borough",
   "metadata": {},
   "source": [
    "Read snps and positions. I know that for frizarta data positions need to be re-mapped:\n"
   ]
  },
  {
   "cell_type": "code",
   "execution_count": 8,
   "id": "representative-karma",
   "metadata": {},
   "outputs": [
    {
     "name": "stdout",
     "output_type": "stream",
     "text": [
      "read 54073 snps from /home/paolo/Projects/SMARTER-database/data/interim/604f74db1a08c53cebd09ae1/Frizarta54samples_ped_map_files/Frizarta54samples.map\n",
      "['1', '15k_OAR13_46225588_IlmnDup', '0', '1']\n",
      "['1', '15k_OAR13_46225599', '0', '2']\n",
      "['1', '15k_OAR13_46225659', '0', '3']\n",
      "['1', '15k_OAR13_46225664', '0', '4']\n",
      "['1', '15k_OAR13_46225681', '0', '5']\n"
     ]
    }
   ],
   "source": [
    "with open(mappath) as handle:\n",
    "    dialect = sniffer.sniff(handle.read(2048))\n",
    "    handle.seek(0)\n",
    "    reader = csv.reader(handle, dialect=dialect)\n",
    "    mapdata = list(reader)\n",
    "print(f\"read {len(mapdata)} snps from {mappath}\")\n",
    "for line in itertools.islice(mapdata, 5):\n",
    "    print(line)"
   ]
  },
  {
   "cell_type": "markdown",
   "id": "material-river",
   "metadata": {},
   "source": [
    "Load informations from smarter database. We know that in frizarta there are SNPs not in smarter database:"
   ]
  },
  {
   "cell_type": "code",
   "execution_count": 9,
   "id": "postal-conflict",
   "metadata": {},
   "outputs": [
    {
     "name": "stdout",
     "output_type": "stream",
     "text": [
      "Loading locations...\n"
     ]
    },
    {
     "data": {
      "application/vnd.jupyter.widget-view+json": {
       "model_id": "ce72a805662a41b3bcf050b175f1ce4c",
       "version_major": 2,
       "version_minor": 0
      },
      "text/plain": [
       "  0%|          | 0/54073 [00:00<?, ?it/s]"
      ]
     },
     "metadata": {},
     "output_type": "display_data"
    },
    {
     "name": "stdout",
     "output_type": "stream",
     "text": [
      "Ignored 62 SNPs\n",
      "Done!\n",
      "None\n",
      "None\n",
      "None\n",
      "None\n",
      "None\n"
     ]
    }
   ],
   "source": [
    "locations = []\n",
    "filtered = set()\n",
    "\n",
    "print(\"Loading locations...\")\n",
    "for i, line in enumerate(tqdm(mapdata)):\n",
    "    try:\n",
    "        variant = VariantSheep.objects(name=line[1]).get()\n",
    "    except DoesNotExist as e:\n",
    "        # skip this variant (even in ped)\n",
    "        filtered.add(i)\n",
    "\n",
    "        # need to add an empty value in locations (or my indexes\n",
    "        # won't work properly)\n",
    "        locations.append(None)\n",
    "\n",
    "        # I don't need to write down a row in new mapfile\n",
    "        continue\n",
    "\n",
    "    location = variant.get_location(version='Oar_v3.1')\n",
    "    locations.append(location)\n",
    "\n",
    "print(f\"Ignored {len(filtered)} SNPs\")\n",
    "print(\"Done!\")\n",
    "\n",
    "for line in itertools.islice(locations, 5):\n",
    "    print(line)"
   ]
  },
  {
   "cell_type": "markdown",
   "id": "engaged-crystal",
   "metadata": {},
   "source": [
    "I tried to upload data supposing that are in illumina top coordinates, but I got an error. So I'm testing for forward coordinates"
   ]
  },
  {
   "cell_type": "code",
   "execution_count": 10,
   "id": "green-found",
   "metadata": {},
   "outputs": [],
   "source": [
    "def is_forward(genotype: list, location: Location, missing: str = \"0\") -> bool:\n",
    "    \"\"\"Return True if genotype is compatible with illumina FORWARD coding\n",
    "\n",
    "    Returns:\n",
    "        bool: True if in top coordinates\n",
    "    \"\"\"\n",
    "\n",
    "    # get illumina data as an array\n",
    "    forward = location.illumina_forward.split(\"/\")\n",
    "\n",
    "    for allele in genotype:\n",
    "        # mind to missing values\n",
    "        if allele == missing:\n",
    "            continue\n",
    "\n",
    "        if allele not in forward:\n",
    "            return False\n",
    "\n",
    "    return True"
   ]
  },
  {
   "cell_type": "code",
   "execution_count": 11,
   "id": "promising-contrary",
   "metadata": {},
   "outputs": [
    {
     "name": "stdout",
     "output_type": "stream",
     "text": [
      "Check if PED is in forward coordinates\n"
     ]
    },
    {
     "data": {
      "application/vnd.jupyter.widget-view+json": {
       "model_id": "15b6c8398ecf4454b063b9c564584612",
       "version_major": 2,
       "version_minor": 0
      },
      "text/plain": [
       "  0%|          | 0/54 [00:00<?, ?it/s]"
      ]
     },
     "metadata": {},
     "output_type": "display_data"
    }
   ],
   "source": [
    "print(f\"Check if PED is in forward coordinates\")\n",
    "\n",
    "with open(pedpath) as handle:\n",
    "    dialect = sniffer.sniff(handle.read(2048))\n",
    "    handle.seek(0)\n",
    "    reader = csv.reader(handle, dialect=dialect)\n",
    "    for i, line in enumerate(tqdm(reader, total=dataset.n_of_individuals)):\n",
    "        # debug on first 100 snps\n",
    "        for j, mapline in enumerate(mapdata):\n",
    "            # is this snp filtered out\n",
    "            if j in filtered:\n",
    "                continue\n",
    "\n",
    "            # get location from locations list (read previously from db)\n",
    "            location = locations[j]\n",
    "            \n",
    "            # skip first 6 column (ped extra fields)\n",
    "            a1 = line[6+j*2]\n",
    "            a2 = line[6+j*2+1]\n",
    "            \n",
    "            # define genotype as an array\n",
    "            genotype = [a1, a2]\n",
    "            \n",
    "            if not is_forward(genotype, location):\n",
    "                # print snp name and info on locations\n",
    "                print(f\"{line[:2]}:{mapline[1]}: from ped: [{a1}/{a2}] -> from snpchimp [{location.illumina_forward}]\")\n",
    "                \n",
    "                raise Exception(\"Not illumina forward\")\n",
    "            \n",
    "        # debug on first sample\n",
    "        # break"
   ]
  },
  {
   "cell_type": "markdown",
   "id": "compatible-suggestion",
   "metadata": {},
   "source": [
    "And this file is in forward coordinates"
   ]
  }
 ],
 "metadata": {
  "kernelspec": {
   "display_name": "Python 3",
   "language": "python",
   "name": "python3"
  },
  "language_info": {
   "codemirror_mode": {
    "name": "ipython",
    "version": 3
   },
   "file_extension": ".py",
   "mimetype": "text/x-python",
   "name": "python",
   "nbconvert_exporter": "python",
   "pygments_lexer": "ipython3",
   "version": "3.9.1"
  }
 },
 "nbformat": 4,
 "nbformat_minor": 5
}
