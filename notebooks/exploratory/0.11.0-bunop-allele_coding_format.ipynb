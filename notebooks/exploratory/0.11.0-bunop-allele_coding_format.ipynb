{
 "cells": [
  {
   "cell_type": "markdown",
   "id": "voluntary-bulgaria",
   "metadata": {},
   "source": [
    "# Allele coding format\n",
    "We suppose that alleles in genotypes file are in **illumina top** format and we don't need to convert genotypes in *MAP/PED*. However, it is always like this? Can I verify that coordinates are always in **top**? How I can convert the coordinates in **forward** format (which is needed by VCF)? How I can determine if a genotype is a reference or an alternate? Let's start by importing and initialization some stuff"
   ]
  },
  {
   "cell_type": "code",
   "execution_count": 1,
   "id": "reported-delicious",
   "metadata": {},
   "outputs": [],
   "source": [
    "import csv\n",
    "import itertools\n",
    "\n",
    "from tqdm.notebook import tqdm\n",
    "\n",
    "from src.features.smarterdb import Dataset, VariantSheep, Location, global_connection\n",
    "\n",
    "conn = global_connection()\n",
    "sniffer = csv.Sniffer()"
   ]
  },
  {
   "cell_type": "markdown",
   "id": "black-location",
   "metadata": {},
   "source": [
    "Let's test the *texel* dataset. Get information from database:"
   ]
  },
  {
   "cell_type": "code",
   "execution_count": 2,
   "id": "addressed-british",
   "metadata": {},
   "outputs": [],
   "source": [
    "dataset = Dataset.objects(file=\"TEXEL_INIA_UY.zip\").get()\n",
    "mapfile = \"TEXEL_UY.map\"\n",
    "pedfile = \"TEXEL_UY.ped\"\n",
    "mappath = dataset.working_dir / mapfile\n",
    "pedpath = dataset.working_dir / pedfile"
   ]
  },
  {
   "cell_type": "markdown",
   "id": "perfect-carter",
   "metadata": {},
   "source": [
    "Time to read SNPs positions and *ids*. Open *MAP* file with `csv` module:"
   ]
  },
  {
   "cell_type": "code",
   "execution_count": 3,
   "id": "complete-wiring",
   "metadata": {},
   "outputs": [
    {
     "name": "stdout",
     "output_type": "stream",
     "text": [
      "read 51135 snps from /home/paolo/Projects/SMARTER-database/data/interim/604f75a61a08c53cebd09b67/TEXEL_UY.map\n",
      "['15', '250506CS3900065000002_1238.1', '0', '5327353']\n",
      "['23', '250506CS3900140500001_312.1', '0', '27428869']\n",
      "['7', '250506CS3900176800001_906.1', '0', '89002990']\n",
      "['16', '250506CS3900211600001_1041.1', '0', '44955568']\n",
      "['2', '250506CS3900218700001_1294.1', '0', '157820235']\n"
     ]
    }
   ],
   "source": [
    "with open(mappath) as handle:\n",
    "    dialect = sniffer.sniff(handle.read(2048))\n",
    "    handle.seek(0)\n",
    "    reader = csv.reader(handle, dialect=dialect)\n",
    "    mapdata = list(reader)\n",
    "print(f\"read {len(mapdata)} snps from {mappath}\")\n",
    "for line in itertools.islice(mapdata, 5):\n",
    "    print(line)"
   ]
  },
  {
   "cell_type": "markdown",
   "id": "brave-brief",
   "metadata": {},
   "source": [
    "Ok, now get information from smarter database"
   ]
  },
  {
   "cell_type": "code",
   "execution_count": 4,
   "id": "stuffed-prairie",
   "metadata": {},
   "outputs": [
    {
     "name": "stdout",
     "output_type": "stream",
     "text": [
      "Loading locations...\n"
     ]
    },
    {
     "data": {
      "application/vnd.jupyter.widget-view+json": {
       "model_id": "cfe319bd02d64e31b479a63698c8d3e6",
       "version_major": 2,
       "version_minor": 0
      },
      "text/plain": [
       "  0%|          | 0/51135 [00:00<?, ?it/s]"
      ]
     },
     "metadata": {},
     "output_type": "display_data"
    },
    {
     "name": "stdout",
     "output_type": "stream",
     "text": [
      "Done!\n",
      "(SNPchiMp v.3:Oar_v3.1) 15:5870057\n",
      "(SNPchiMp v.3:Oar_v3.1) 23:26298017\n",
      "(SNPchiMp v.3:Oar_v3.1) 7:81648528\n",
      "(SNPchiMp v.3:Oar_v3.1) 16:41355381\n",
      "(SNPchiMp v.3:Oar_v3.1) 2:148802744\n"
     ]
    }
   ],
   "source": [
    "locations = []\n",
    "print(\"Loading locations...\")\n",
    "for line in tqdm(mapdata):\n",
    "    variant = VariantSheep.objects(name=line[1]).get()\n",
    "    location = variant.get_location(version='Oar_v3.1')\n",
    "    locations.append(location)\n",
    "\n",
    "print(\"Done!\")\n",
    "\n",
    "for line in itertools.islice(locations, 5):\n",
    "    print(line)"
   ]
  },
  {
   "cell_type": "markdown",
   "id": "responsible-marble",
   "metadata": {},
   "source": [
    "Now `mapdata` and `locations` have the same indexes (apply on the same SNP). Ok time to read from *PED* datafile:"
   ]
  },
  {
   "cell_type": "code",
   "execution_count": 5,
   "id": "incident-perspective",
   "metadata": {},
   "outputs": [
    {
     "name": "stdout",
     "output_type": "stream",
     "text": [
      "Check if PED is in top coordinates\n"
     ]
    },
    {
     "data": {
      "application/vnd.jupyter.widget-view+json": {
       "model_id": "0d278a9b5a024f1690c9264a9de18001",
       "version_major": 2,
       "version_minor": 0
      },
      "text/plain": [
       "  0%|          | 0/169 [00:00<?, ?it/s]"
      ]
     },
     "metadata": {},
     "output_type": "display_data"
    }
   ],
   "source": [
    "def is_top(genotype: list, location: Location, missing: str = \"0\") -> bool:\n",
    "    \"\"\"Return True if genotype is compatible with illumina TOP coding\n",
    "\n",
    "    Returns:\n",
    "        bool: True if in top coordinates\n",
    "    \"\"\"\n",
    "\n",
    "    # get illumina data as an array\n",
    "    top = location.illumina_top.split(\"/\")\n",
    "\n",
    "    for allele in genotype:\n",
    "        # mind to missing values. If missing can't be equal to illumina_top\n",
    "        if allele == missing:\n",
    "            continue\n",
    "\n",
    "        if allele not in top:\n",
    "            return False\n",
    "\n",
    "    return True\n",
    "\n",
    "print(f\"Check if PED is in top coordinates\")\n",
    "\n",
    "with open(pedpath) as handle:\n",
    "    dialect = sniffer.sniff(handle.read(2048))\n",
    "    handle.seek(0)\n",
    "    reader = csv.reader(handle, dialect=dialect)\n",
    "    for i, line in enumerate(tqdm(reader, total=dataset.n_of_individuals)):\n",
    "        # debug on first 100 snps\n",
    "        for j, mapline in enumerate(mapdata):\n",
    "            # get location from locations list (read previously from db)\n",
    "            location = locations[j]\n",
    "            \n",
    "            # skip first 6 column (ped extra fields)\n",
    "            a1 = line[6+j*2]\n",
    "            a2 = line[6+j*2+1]\n",
    "            \n",
    "            # define genotype as an array\n",
    "            genotype = [a1, a2]\n",
    "            \n",
    "            if not is_top(genotype, location):\n",
    "                # print snp name and info on locations\n",
    "                print(f\"{line[:2]}:{mapline[1]}: from ped: [{a1}/{a2}] -> from snpchimp [{location.illumina_top}]\")\n",
    "                \n",
    "                raise Exception(\"Not illumina top\")\n",
    "            \n",
    "        # debug on first sample\n",
    "        # break"
   ]
  },
  {
   "cell_type": "code",
   "execution_count": null,
   "id": "educational-advocate",
   "metadata": {},
   "outputs": [],
   "source": []
  }
 ],
 "metadata": {
  "kernelspec": {
   "display_name": "Python 3",
   "language": "python",
   "name": "python3"
  },
  "language_info": {
   "codemirror_mode": {
    "name": "ipython",
    "version": 3
   },
   "file_extension": ".py",
   "mimetype": "text/x-python",
   "name": "python",
   "nbconvert_exporter": "python",
   "pygments_lexer": "ipython3",
   "version": "3.9.1"
  }
 },
 "nbformat": 4,
 "nbformat_minor": 5
}
