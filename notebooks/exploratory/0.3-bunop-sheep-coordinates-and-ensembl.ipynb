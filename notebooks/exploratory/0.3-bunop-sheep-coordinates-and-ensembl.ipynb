{
 "cells": [
  {
   "cell_type": "markdown",
   "id": "thirty-associate",
   "metadata": {},
   "source": [
    "# Sheep Coordinates and Ensembl\n",
    "Ensembl stores information regarding SNPs on sheep assembly 3.1. I want to verify if such information are updated with snpchimp or not"
   ]
  },
  {
   "cell_type": "code",
   "execution_count": 1,
   "id": "about-graphic",
   "metadata": {},
   "outputs": [],
   "source": [
    "import os\n",
    "import itertools\n",
    "import random\n",
    "\n",
    "from pathlib import Path\n",
    "from importlib import reload\n",
    "\n",
    "from ensemblrest import EnsemblRest\n",
    "\n",
    "import src.features.illumina\n",
    "import src.features.snpchimp\n",
    "\n",
    "random.seed = 42"
   ]
  },
  {
   "cell_type": "markdown",
   "id": "broken-encounter",
   "metadata": {},
   "source": [
    "Start by reading snpchimp and snpchip illumina data from files"
   ]
  },
  {
   "cell_type": "code",
   "execution_count": 2,
   "id": "vital-background",
   "metadata": {},
   "outputs": [],
   "source": [
    "project_dir = Path.cwd().parents[1]\n",
    "illumina_chip = project_dir / \"data/external/SHE/ILLUMINA/ovinesnp50-genome-assembly-oar-v3-1.csv\"\n",
    "snpchimp_file = project_dir / \"data/external/SHE/SNPCHIMP/SNPchimp_SHE_SNP50v1_oar3.1.csv\""
   ]
  },
  {
   "cell_type": "code",
   "execution_count": 3,
   "id": "divided-westminster",
   "metadata": {},
   "outputs": [],
   "source": [
    "new_chip3 = dict()\n",
    "for record in src.features.illumina.read_snpChip(illumina_chip):\n",
    "    new_chip3[record.name] = (record.chr, record.mapinfo)"
   ]
  },
  {
   "cell_type": "code",
   "execution_count": 4,
   "id": "alpha-briefing",
   "metadata": {},
   "outputs": [],
   "source": [
    "snpchimp3 = dict()\n",
    "for record in src.features.snpchimp.read_snpChimp(snpchimp_file):\n",
    "    snpchimp3[record.snp_name] = [(record.chromosome, record.position), record.rs]"
   ]
  },
  {
   "cell_type": "markdown",
   "id": "clean-topic",
   "metadata": {},
   "source": [
    "Ok, first track snp ids with different positions in both files. Skip SNP without rsID"
   ]
  },
  {
   "cell_type": "code",
   "execution_count": 5,
   "id": "substantial-adventure",
   "metadata": {},
   "outputs": [
    {
     "name": "stdout",
     "output_type": "stream",
     "text": [
      "250506CS3900065000002_1238.1 ('15', 5870057) [('15', 5870057), 'rs55630613']\n",
      "250506CS3900140500001_312.1 ('23', 26298017) [('23', 26298017), 'rs55630642']\n",
      "250506CS3900176800001_906.1 ('7', 81648528) [('7', 81648528), 'rs55630654']\n",
      "250506CS3900211600001_1041.1 ('16', 41355381) [('16', 41355381), 'rs55630658']\n",
      "250506CS3900218700001_1294.1 ('2', 148802744) [('2', 148802744), 'rs55630663']\n",
      "250506CS3900283200001_442.1 ('1', 188498238) [('99', 0), 'NULL']\n",
      "250506CS3900371000001_1255.1 ('11', 35339123) [('11', 35339123), 'rs417377113']\n",
      "250506CS3900386000001_696.1 ('16', 62646307) [('16', 62646307), 'rs55631041']\n",
      "250506CS3900414400001_1178.1 ('1', 103396552) [('1', 103396552), 'rs119102699']\n",
      "250506CS3900435700001_1658.1 ('12', 45221821) [('99', 0), 'NULL']\n",
      "...\n",
      "\n",
      "N of SNPs in different positions from illumina to SNPchimp: 6463\n",
      "\n",
      "N of SNPs with rsID with different positions from illumina to SNPchimp: 446\n"
     ]
    }
   ],
   "source": [
    "count = 0\n",
    "rs_different = {}\n",
    "\n",
    "for i, (key, value) in enumerate(new_chip3.items()):\n",
    "    if value != snpchimp3[key][0]:\n",
    "        count += 1\n",
    "        if snpchimp3[key][1] != 'NULL':\n",
    "            rs_different[snpchimp3[key][1]] = key\n",
    "    if i < 10:\n",
    "        print(key, value, snpchimp3[key])\n",
    "    elif i == 10:\n",
    "        print(\"...\")\n",
    "        \n",
    "print(f\"\\nN of SNPs in different positions from illumina to SNPchimp: {count}\")\n",
    "print(f\"\\nN of SNPs with rsID with different positions from illumina to SNPchimp: {len(rs_different)}\")"
   ]
  },
  {
   "cell_type": "markdown",
   "id": "supposed-petersburg",
   "metadata": {},
   "source": [
    "Select some snps to test coordinates with ensembl"
   ]
  },
  {
   "cell_type": "code",
   "execution_count": 6,
   "id": "minimal-reset",
   "metadata": {},
   "outputs": [],
   "source": [
    "selected_rsID = random.sample(sorted(list(rs_different.keys())), 20)"
   ]
  },
  {
   "cell_type": "markdown",
   "id": "after-pavilion",
   "metadata": {},
   "source": [
    "Ok, search in Ensembl for snp coordinates:"
   ]
  },
  {
   "cell_type": "code",
   "execution_count": 7,
   "id": "broad-ability",
   "metadata": {},
   "outputs": [
    {
     "name": "stdout",
     "output_type": "stream",
     "text": [
      "rs425699569 22 11834157 [('99', 0), 'rs425699569'] ('0', 0)\n",
      "rs425699569 8 65323970 [('99', 0), 'rs425699569'] ('0', 0)\n",
      "rs408606108 8 54058725 [('8', 54058724), 'rs408606108'] ('8', 54058725)\n",
      "rs401864361 5 421202 [('99', 0), 'rs401864361'] ('5', 421202)\n",
      "rs401864361 2 37675010 [('99', 0), 'rs401864361'] ('5', 421202)\n",
      "rs413442283 1 101287466 [('1', 101287466), 'rs413442283'] ('0', 0)\n",
      "rs412975244 18 41753748 [('18', 41753748), 'rs412975244'] ('18', 41754171)\n",
      "rs399648478 6 95754461 [('99', 0), 'rs399648478'] ('0', 0)\n",
      "rs399648478 1 204559015 [('99', 0), 'rs399648478'] ('0', 0)\n",
      "rs424302120 3 219942506 [('99', 0), 'rs424302120'] ('0', 0)\n",
      "rs424302120 17 71805399 [('99', 0), 'rs424302120'] ('0', 0)\n",
      "rs420863892 22 39563020 [('99', 0), 'rs420863892'] ('0', 0)\n",
      "rs420863892 X 78550524 [('99', 0), 'rs420863892'] ('0', 0)\n",
      "rs425839344 18 3758393 [('18', 3758393), 'rs425839344'] ('0', 0)\n",
      "rs414323791 4 84469814 [('4', 84469814), 'rs414323791'] ('0', 0)\n",
      "rs425910811 3 126995547 [('3', 126995546), 'rs425910811'] ('3', 126995547)\n",
      "rs406790284 2 200835122 [('2', 200835122), 'rs406790284'] ('0', 0)\n",
      "rs426537440 19 19089105 [('19', 19089105), 'rs426537440'] ('0', 0)\n",
      "rs429149655 16 69135141 [('16', 69135141), 'rs429149655'] ('16', 69135038)\n",
      "rs417834358 3 99523184 [('3', 99523184), 'rs417834358'] ('3', 99523185)\n",
      "rs410856531 20 30954771 [('99', 0), 'rs410856531'] ('0', 0)\n",
      "rs410856531 1 130841187 [('99', 0), 'rs410856531'] ('0', 0)\n",
      "rs413468596 3 60498732 [('99', 0), 'rs413468596'] ('0', 0)\n",
      "rs413468596 5 2091014 [('99', 0), 'rs413468596'] ('0', 0)\n",
      "rs424683221 3 146769326 [('99', 0), 'rs424683221'] ('0', 0)\n",
      "rs424683221 10 19645050 [('99', 0), 'rs424683221'] ('0', 0)\n",
      "rs424683221 4 67246363 [('99', 0), 'rs424683221'] ('0', 0)\n",
      "rs424683221 2 150459807 [('99', 0), 'rs424683221'] ('0', 0)\n"
     ]
    }
   ],
   "source": [
    "ensRest = EnsemblRest()\n",
    "result = ensRest.getVariationByMultipleIds(ids=selected_rsID, species=\"ovis_aries\", genotyping_chips=True)\n",
    "for key, value in result.items():\n",
    "    for location in value['mappings']:\n",
    "        print(key, location['seq_region_name'], location['start'], snpchimp3[rs_different[key]], new_chip3[rs_different[key]])"
   ]
  },
  {
   "cell_type": "markdown",
   "id": "portuguese-underwear",
   "metadata": {},
   "source": [
    "The coordinates are different: sometimes they are equal to SNPchimp, sometimes with illumina chip. Sometimes there are totally different. I think that it depends on the dbSNP version used for build or the align method in general.\n",
    "When both SNPchimp and Illumina chip doesn't have coordinates, the SNP has a multiple aligment"
   ]
  }
 ],
 "metadata": {
  "kernelspec": {
   "display_name": "Python 3",
   "language": "python",
   "name": "python3"
  },
  "language_info": {
   "codemirror_mode": {
    "name": "ipython",
    "version": 3
   },
   "file_extension": ".py",
   "mimetype": "text/x-python",
   "name": "python",
   "nbconvert_exporter": "python",
   "pygments_lexer": "ipython3",
   "version": "3.9.1"
  }
 },
 "nbformat": 4,
 "nbformat_minor": 5
}
