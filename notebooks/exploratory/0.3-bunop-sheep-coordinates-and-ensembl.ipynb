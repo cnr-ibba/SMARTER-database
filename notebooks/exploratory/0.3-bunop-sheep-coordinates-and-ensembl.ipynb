{
 "cells": [
  {
   "cell_type": "markdown",
   "id": "finnish-strengthening",
   "metadata": {},
   "source": [
    "# Sheep Coordinates and Ensembl\n",
    "Ensembl stores information regarding SNPs on sheep assembly 3.1. I want to verify if such information are updated with snpchimp or not"
   ]
  },
  {
   "cell_type": "code",
   "execution_count": 1,
   "id": "overhead-holocaust",
   "metadata": {},
   "outputs": [],
   "source": [
    "import os\n",
    "import itertools\n",
    "import random\n",
    "\n",
    "from pathlib import Path\n",
    "from importlib import reload\n",
    "\n",
    "from ensemblrest import EnsemblRest\n",
    "\n",
    "import src.features.illumina\n",
    "import src.features.snpchimp\n",
    "\n",
    "random.seed = 42"
   ]
  },
  {
   "cell_type": "markdown",
   "id": "coastal-pharmacology",
   "metadata": {},
   "source": [
    "Start by reading snpchimp and snpchip illumina data from files"
   ]
  },
  {
   "cell_type": "code",
   "execution_count": 2,
   "id": "apparent-cholesterol",
   "metadata": {},
   "outputs": [],
   "source": [
    "project_dir = Path.cwd().parents[1]\n",
    "illumina_chip = project_dir / \"data/external/SHE/ILLUMINA/ovinesnp50-genome-assembly-oar-v3-1.csv\"\n",
    "snpchimp_file = project_dir / \"data/external/SHE/SNPCHIMP/SNPchimp_SHE_SNP50v1_oar3.1.csv\""
   ]
  },
  {
   "cell_type": "code",
   "execution_count": 3,
   "id": "confirmed-tuesday",
   "metadata": {},
   "outputs": [],
   "source": [
    "new_chip3 = dict()\n",
    "for record in src.features.illumina.read_snpChip(illumina_chip):\n",
    "    new_chip3[record.name] = (record.chr, record.mapinfo)"
   ]
  },
  {
   "cell_type": "code",
   "execution_count": 4,
   "id": "laughing-consumption",
   "metadata": {},
   "outputs": [],
   "source": [
    "snpchimp3 = dict()\n",
    "for record in src.features.snpchimp.read_snpChimp(snpchimp_file):\n",
    "    snpchimp3[record.snp_name] = [(record.chromosome, record.position), record.rs]"
   ]
  },
  {
   "cell_type": "markdown",
   "id": "recent-latin",
   "metadata": {},
   "source": [
    "Ok, first track snp ids with different positions in both files. Skip SNP without rsID"
   ]
  },
  {
   "cell_type": "code",
   "execution_count": 5,
   "id": "eleven-directory",
   "metadata": {},
   "outputs": [
    {
     "name": "stdout",
     "output_type": "stream",
     "text": [
      "250506CS3900065000002_1238.1 ('15', 5870057) [('15', 5870057), 'rs55630613']\n",
      "250506CS3900140500001_312.1 ('23', 26298017) [('23', 26298017), 'rs55630642']\n",
      "250506CS3900176800001_906.1 ('7', 81648528) [('7', 81648528), 'rs55630654']\n",
      "250506CS3900211600001_1041.1 ('16', 41355381) [('16', 41355381), 'rs55630658']\n",
      "250506CS3900218700001_1294.1 ('2', 148802744) [('2', 148802744), 'rs55630663']\n",
      "250506CS3900283200001_442.1 ('1', 188498238) [('99', 0), None]\n",
      "250506CS3900371000001_1255.1 ('11', 35339123) [('11', 35339123), 'rs417377113']\n",
      "250506CS3900386000001_696.1 ('16', 62646307) [('16', 62646307), 'rs55631041']\n",
      "250506CS3900414400001_1178.1 ('1', 103396552) [('1', 103396552), 'rs119102699']\n",
      "250506CS3900435700001_1658.1 ('12', 45221821) [('99', 0), None]\n",
      "...\n",
      "\n",
      "N of SNPs in different positions from illumina to SNPchimp: 6463\n",
      "\n",
      "N of SNPs with rsID with different positions from illumina to SNPchimp: 447\n"
     ]
    }
   ],
   "source": [
    "count = 0\n",
    "rs_different = {}\n",
    "\n",
    "for i, (key, value) in enumerate(new_chip3.items()):\n",
    "    if value != snpchimp3[key][0]:\n",
    "        count += 1\n",
    "        if snpchimp3[key][1] != 'NULL':\n",
    "            rs_different[snpchimp3[key][1]] = key\n",
    "    if i < 10:\n",
    "        print(key, value, snpchimp3[key])\n",
    "    elif i == 10:\n",
    "        print(\"...\")\n",
    "        \n",
    "print(f\"\\nN of SNPs in different positions from illumina to SNPchimp: {count}\")\n",
    "print(f\"\\nN of SNPs with rsID with different positions from illumina to SNPchimp: {len(rs_different)}\")"
   ]
  },
  {
   "cell_type": "markdown",
   "id": "occupational-paragraph",
   "metadata": {},
   "source": [
    "Select some snps to test coordinates with ensembl"
   ]
  },
  {
   "cell_type": "code",
   "execution_count": 6,
   "id": "dominican-bulgarian",
   "metadata": {},
   "outputs": [],
   "source": [
    "# filter out None rs\n",
    "rs_keys = [rs for rs in rs_different.keys() if rs is not None]\n",
    "selected_rsID = random.sample(sorted(rs_keys), 10)\n",
    "\n",
    "# add a custom rs\n",
    "selected_rsID.append(\"rs408606108\")"
   ]
  },
  {
   "cell_type": "markdown",
   "id": "stunning-stereo",
   "metadata": {},
   "source": [
    "Ok, search in Ensembl for snp coordinates:"
   ]
  },
  {
   "cell_type": "code",
   "execution_count": 7,
   "id": "committed-jewel",
   "metadata": {},
   "outputs": [
    {
     "name": "stdout",
     "output_type": "stream",
     "text": [
      "rs428267146 3 5146200 [('3', 5146199), 'rs428267146'] ('3', 5146197)\n",
      "rs406134692 7 29834504 [('7', 29834504), 'rs406134692'] ('7', 29834566)\n",
      "rs415771800 2 27912185 [('2', 27912184), 'rs415771800'] ('2', 27912185)\n",
      "rs409291640 11 61430571 [('11', 61430571), 'rs409291640'] ('11', 61430572)\n",
      "rs425665688 3 177824621 [('99', 0), 'rs425665688'] ('0', 0)\n",
      "rs425665688 1 91348961 [('99', 0), 'rs425665688'] ('0', 0)\n",
      "rs408606108 8 54058725 [('8', 54058724), 'rs408606108'] ('8', 54058725)\n",
      "rs408458247 8 17823087 [('8', 17823087), 'rs408458247'] ('8', 17823088)\n",
      "rs422423877 24 5726120 [('24', 5726120), 'rs422423877'] ('24', 5726121)\n",
      "rs411384047 7 96461265 [('7', 96461265), 'rs411384047'] ('0', 0)\n"
     ]
    }
   ],
   "source": [
    "ensRest = EnsemblRest()\n",
    "result = ensRest.getVariationByMultipleIds(ids=selected_rsID, species=\"ovis_aries\", genotyping_chips=True)\n",
    "for key, value in result.items():\n",
    "    for location in value['mappings']:\n",
    "        print(key, location['seq_region_name'], location['start'], snpchimp3[rs_different[key]], new_chip3[rs_different[key]])"
   ]
  },
  {
   "cell_type": "markdown",
   "id": "ranking-shaft",
   "metadata": {},
   "source": [
    "The coordinates are different: sometimes they are equal to SNPchimp, sometimes with illumina chip. Sometimes there are totally different. I think that it depends on the dbSNP version used for build or the align method in general.\n",
    "When both SNPchimp and Illumina chip doesn't have coordinates, the SNP has a multiple aligment\n",
    "\n",
    "<div class=\"alert alert-block alert-danger\">\n",
    "    <b>Danger:</b> <code>rs408606108</code>, for example, failed the alignment with ensembl since the <code>C/T</code> allele doesn't match the reference genome (which is <code>T</code>). In EVA this snps is deprecated in Oarv4.0. Does this applies to any others SNPs? are they BOT/reverse? need to validate all SNPs data\n",
    "</div>"
   ]
  }
 ],
 "metadata": {
  "kernelspec": {
   "display_name": "Python 3",
   "language": "python",
   "name": "python3"
  },
  "language_info": {
   "codemirror_mode": {
    "name": "ipython",
    "version": 3
   },
   "file_extension": ".py",
   "mimetype": "text/x-python",
   "name": "python",
   "nbconvert_exporter": "python",
   "pygments_lexer": "ipython3",
   "version": "3.9.1"
  }
 },
 "nbformat": 4,
 "nbformat_minor": 5
}
