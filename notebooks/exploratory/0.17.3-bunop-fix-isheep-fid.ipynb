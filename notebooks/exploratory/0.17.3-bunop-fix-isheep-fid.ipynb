{
 "cells": [
  {
   "cell_type": "markdown",
   "id": "aa07c831-7f81-40db-9d48-581f0a76f8b1",
   "metadata": {},
   "source": [
    "# Isheep post processing\n",
    "I need to fix the *FID* of my samples, in order to make a correspondance with the information I put in the *metadata refined* file\n",
    "\n",
    "## 50K"
   ]
  },
  {
   "cell_type": "code",
   "execution_count": 1,
   "id": "341afa4e-3ab4-48d6-92d2-6439883abcf0",
   "metadata": {},
   "outputs": [],
   "source": [
    "import csv\n",
    "import pandas as pd\n",
    "\n",
    "from src.features.utils import get_project_dir\n",
    "\n",
    "isheep_data_path = get_project_dir() / \"data/external/SHE/ISHEEP\"\n",
    "refined_50K_file = isheep_data_path / \"isheep_50K_refined.xlsx\"\n",
    "fam_file = isheep_data_path / \"50K-all/50K-all.fam\""
   ]
  },
  {
   "cell_type": "markdown",
   "id": "1582c8a2-74fc-4bb4-8058-c7da2000f46b",
   "metadata": {},
   "source": [
    "Read the refined file with codes:"
   ]
  },
  {
   "cell_type": "code",
   "execution_count": 2,
   "id": "e2ad6e41-a868-415a-9a88-ce2b14347b2e",
   "metadata": {},
   "outputs": [],
   "source": [
    "refined_50K = pd.read_excel(refined_50K_file, sheet_name=0)"
   ]
  },
  {
   "cell_type": "markdown",
   "id": "7cb8218a-554a-41c1-b542-c188ca79648f",
   "metadata": {},
   "source": [
    "Now open the fam file:"
   ]
  },
  {
   "cell_type": "code",
   "execution_count": 3,
   "id": "b01f3218-bff4-47d3-b4ac-dcedf7fc0f17",
   "metadata": {},
   "outputs": [],
   "source": [
    "with open(fam_file) as handle:\n",
    "    data = handle.readlines()\n",
    "    data = [line.strip().split() for line in data]"
   ]
  },
  {
   "cell_type": "markdown",
   "id": "379d0cfd-d86d-4604-acca-b569712ebb57",
   "metadata": {},
   "source": [
    "Write an helper function to get the proper *FID* from refined file:"
   ]
  },
  {
   "cell_type": "code",
   "execution_count": 4,
   "id": "b34a6b08-71ce-40ef-9347-9d228ce18fc3",
   "metadata": {},
   "outputs": [],
   "source": [
    "def get_code(sample_id):\n",
    "    return refined_50K[refined_50K[\"sample_id\"] == sample_id]['code'].values[0]"
   ]
  },
  {
   "cell_type": "markdown",
   "id": "baa0b8db-a785-44a1-98f1-b3d1e3fdce2f",
   "metadata": {},
   "source": [
    "replace *FID* with the proper code:"
   ]
  },
  {
   "cell_type": "code",
   "execution_count": 5,
   "id": "34e941b5-98fd-4605-94c1-9d252520169b",
   "metadata": {},
   "outputs": [],
   "source": [
    "for line in data:\n",
    "    # writing over list reference\n",
    "    line[0] = get_code(line[1])"
   ]
  },
  {
   "cell_type": "markdown",
   "id": "3944f8e0-5e3a-4ab9-81b1-c3e7a446e3cc",
   "metadata": {},
   "source": [
    "Write down the corrected file:"
   ]
  },
  {
   "cell_type": "code",
   "execution_count": 6,
   "id": "47c00f70-a442-4d97-ae88-30d33c1daa8c",
   "metadata": {},
   "outputs": [],
   "source": [
    "with open(isheep_data_path / \"50K-all/50K-all-fixed.fam\", \"w\") as handle:\n",
    "    writer = csv.writer(handle, delimiter=\" \", lineterminator=\"\\n\")\n",
    "    writer.writerows(data)"
   ]
  },
  {
   "cell_type": "markdown",
   "id": "b7a99626-2165-4a4c-aefc-e3e3b514c3de",
   "metadata": {},
   "source": [
    "This fixed file need to replace the original `.fam` file"
   ]
  },
  {
   "cell_type": "code",
   "execution_count": null,
   "id": "f05c3a93-5be4-4e1d-b307-f65540753967",
   "metadata": {},
   "outputs": [],
   "source": []
  }
 ],
 "metadata": {
  "kernelspec": {
   "display_name": "Python 3",
   "language": "python",
   "name": "python3"
  },
  "language_info": {
   "codemirror_mode": {
    "name": "ipython",
    "version": 3
   },
   "file_extension": ".py",
   "mimetype": "text/x-python",
   "name": "python",
   "nbconvert_exporter": "python",
   "pygments_lexer": "ipython3",
   "version": "3.9.1"
  }
 },
 "nbformat": 4,
 "nbformat_minor": 5
}
