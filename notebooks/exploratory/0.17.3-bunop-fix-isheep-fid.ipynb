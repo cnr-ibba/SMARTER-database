{
 "cells": [
  {
   "cell_type": "markdown",
   "id": "aa07c831-7f81-40db-9d48-581f0a76f8b1",
   "metadata": {},
   "source": [
    "# Isheep post processing\n",
    "I need to fix the *FID* of my samples, in order to make a correspondance with the information I put in the *metadata refined* file\n",
    "\n",
    "## 50K"
   ]
  },
  {
   "cell_type": "code",
   "execution_count": 1,
   "id": "341afa4e-3ab4-48d6-92d2-6439883abcf0",
   "metadata": {},
   "outputs": [],
   "source": [
    "import csv\n",
    "import logging\n",
    "\n",
    "import pandas as pd\n",
    "\n",
    "from src.features.utils import get_project_dir\n",
    "\n",
    "logger = logging.getLogger(__name__)"
   ]
  },
  {
   "cell_type": "code",
   "execution_count": 2,
   "id": "d03bfe36-760d-41cf-9d01-d1c0e8d59a6a",
   "metadata": {},
   "outputs": [],
   "source": [
    "isheep_data_path = get_project_dir() / \"data/external/SHE/ISHEEP\"\n",
    "refined_50K_file = isheep_data_path / \"isheep_50K_refined.xlsx\"\n",
    "fam_file = isheep_data_path / \"50K-all/50K-all.fam\""
   ]
  },
  {
   "cell_type": "markdown",
   "id": "1582c8a2-74fc-4bb4-8058-c7da2000f46b",
   "metadata": {},
   "source": [
    "Read the refined file with codes:"
   ]
  },
  {
   "cell_type": "code",
   "execution_count": 3,
   "id": "e2ad6e41-a868-415a-9a88-ce2b14347b2e",
   "metadata": {},
   "outputs": [],
   "source": [
    "refined_50K = pd.read_excel(refined_50K_file, sheet_name=0)"
   ]
  },
  {
   "cell_type": "markdown",
   "id": "7cb8218a-554a-41c1-b542-c188ca79648f",
   "metadata": {},
   "source": [
    "Now open the fam file:"
   ]
  },
  {
   "cell_type": "code",
   "execution_count": 4,
   "id": "b01f3218-bff4-47d3-b4ac-dcedf7fc0f17",
   "metadata": {},
   "outputs": [],
   "source": [
    "with open(fam_file) as handle:\n",
    "    data = handle.readlines()\n",
    "    data = [line.strip().split() for line in data]"
   ]
  },
  {
   "cell_type": "markdown",
   "id": "379d0cfd-d86d-4604-acca-b569712ebb57",
   "metadata": {},
   "source": [
    "Write an helper function to get the proper *FID* from refined file:"
   ]
  },
  {
   "cell_type": "code",
   "execution_count": 5,
   "id": "b34a6b08-71ce-40ef-9347-9d228ce18fc3",
   "metadata": {},
   "outputs": [],
   "source": [
    "def get_code(sample_id):\n",
    "    return refined_50K[refined_50K[\"sample_id\"] == sample_id]['code'].values[0]"
   ]
  },
  {
   "cell_type": "markdown",
   "id": "baa0b8db-a785-44a1-98f1-b3d1e3fdce2f",
   "metadata": {},
   "source": [
    "replace *FID* with the proper code:"
   ]
  },
  {
   "cell_type": "code",
   "execution_count": 6,
   "id": "34e941b5-98fd-4605-94c1-9d252520169b",
   "metadata": {},
   "outputs": [],
   "source": [
    "for line in data:\n",
    "    # writing over list reference\n",
    "    line[0] = get_code(line[1])"
   ]
  },
  {
   "cell_type": "markdown",
   "id": "3944f8e0-5e3a-4ab9-81b1-c3e7a446e3cc",
   "metadata": {},
   "source": [
    "Write down the corrected file:"
   ]
  },
  {
   "cell_type": "code",
   "execution_count": 7,
   "id": "47c00f70-a442-4d97-ae88-30d33c1daa8c",
   "metadata": {},
   "outputs": [],
   "source": [
    "with open(isheep_data_path / \"50K-all/50K-all-fixed.fam\", \"w\") as handle:\n",
    "    writer = csv.writer(handle, delimiter=\" \", lineterminator=\"\\n\")\n",
    "    writer.writerows(data)"
   ]
  },
  {
   "cell_type": "markdown",
   "id": "b7a99626-2165-4a4c-aefc-e3e3b514c3de",
   "metadata": {},
   "source": [
    "This fixed file need to replace the original `.fam` file"
   ]
  },
  {
   "cell_type": "markdown",
   "id": "806ae2f1-752f-4f59-bba7-33cf36c2c496",
   "metadata": {},
   "source": [
    "## 600K"
   ]
  },
  {
   "cell_type": "code",
   "execution_count": 8,
   "id": "27d1c9c9-d8fe-4d55-8c6e-b2a8a9e77cd1",
   "metadata": {},
   "outputs": [],
   "source": [
    "refined_600K_file = isheep_data_path / \"isheep_600K_refined.xlsx\"\n",
    "fam_file = isheep_data_path / \"600K-all/600K-all.fam\""
   ]
  },
  {
   "cell_type": "markdown",
   "id": "576ab17a-0f16-44a4-a612-6272305ca5d3",
   "metadata": {},
   "source": [
    "Read the refined file with codes:"
   ]
  },
  {
   "cell_type": "code",
   "execution_count": 9,
   "id": "72a2ac4b-f681-4ae5-a391-de4fec8a3127",
   "metadata": {},
   "outputs": [],
   "source": [
    "refined_600K = pd.read_excel(refined_600K_file, sheet_name=0)"
   ]
  },
  {
   "cell_type": "markdown",
   "id": "5d736bed-732e-42ad-b356-8b92886d7612",
   "metadata": {},
   "source": [
    "Now open the fam file:"
   ]
  },
  {
   "cell_type": "code",
   "execution_count": 10,
   "id": "0e52cc1d-6bc1-4e0f-96f1-55b45ed94bbb",
   "metadata": {},
   "outputs": [],
   "source": [
    "with open(fam_file) as handle:\n",
    "    data = handle.readlines()\n",
    "    data = [line.strip().split() for line in data]"
   ]
  },
  {
   "cell_type": "markdown",
   "id": "4d447bd0-2f8d-4af3-81da-c9e4deaa834c",
   "metadata": {},
   "source": [
    "Write an helper function to get the proper *FID* from refined file:"
   ]
  },
  {
   "cell_type": "code",
   "execution_count": 11,
   "id": "ea85c1fe-7e79-40a6-9add-34b22ed5c8f0",
   "metadata": {},
   "outputs": [],
   "source": [
    "def get_code(sample_id):\n",
    "    return refined_600K[refined_600K[\"alias\"] == sample_id]['code'].values[0]"
   ]
  },
  {
   "cell_type": "markdown",
   "id": "a3baf5d1-8552-44f8-bc4f-edf6c916f922",
   "metadata": {},
   "source": [
    "replace *FID* with the proper code:"
   ]
  },
  {
   "cell_type": "code",
   "execution_count": 12,
   "id": "b42c70d3-0846-414d-a05a-f73e04d33e09",
   "metadata": {},
   "outputs": [],
   "source": [
    "for line in data:\n",
    "    # writing over list reference\n",
    "    line[0] = get_code(line[1])"
   ]
  },
  {
   "cell_type": "markdown",
   "id": "87ea4da0-6ee7-4217-bb8e-4ef372f8337a",
   "metadata": {},
   "source": [
    "Write down the corrected file:"
   ]
  },
  {
   "cell_type": "code",
   "execution_count": 13,
   "id": "c31c535f-509e-4ecc-a80d-25ed069a1a4f",
   "metadata": {},
   "outputs": [],
   "source": [
    "with open(isheep_data_path / \"600K-all/600K-all-fixed.fam\", \"w\") as handle:\n",
    "    writer = csv.writer(handle, delimiter=\" \", lineterminator=\"\\n\")\n",
    "    writer.writerows(data)"
   ]
  },
  {
   "cell_type": "markdown",
   "id": "3f089f11-62bf-4aaa-975d-3bc210969bc2",
   "metadata": {},
   "source": [
    "This fixed file need to replace the original `.fam` file"
   ]
  },
  {
   "cell_type": "markdown",
   "id": "4abc7302-de5c-4644-838a-131985c70352",
   "metadata": {},
   "source": [
    "# WGS"
   ]
  },
  {
   "cell_type": "code",
   "execution_count": 14,
   "id": "abd861f1-911a-499f-a2b9-0836457e1224",
   "metadata": {},
   "outputs": [],
   "source": [
    "refined_WGS_file = isheep_data_path / \"isheep_WGS_refined.xlsx\"\n",
    "fam_file = isheep_data_path / \"WGS-all/WGS-all.smarter.fam\""
   ]
  },
  {
   "cell_type": "markdown",
   "id": "881c0ec4-b096-486d-baaf-d3fabd8c29b0",
   "metadata": {},
   "source": [
    "Read the refined file with codes:"
   ]
  },
  {
   "cell_type": "code",
   "execution_count": 15,
   "id": "dcba6770-af42-4880-8c67-5fde10b2972d",
   "metadata": {},
   "outputs": [],
   "source": [
    "refined_WGS = pd.read_excel(refined_WGS_file, sheet_name=0)"
   ]
  },
  {
   "cell_type": "markdown",
   "id": "e1b8a595-800a-4d5b-88d5-61221e52c4ab",
   "metadata": {},
   "source": [
    "Now open the fam file:"
   ]
  },
  {
   "cell_type": "code",
   "execution_count": 16,
   "id": "99c78ff8-9ecf-4c36-8d7b-d5a006972663",
   "metadata": {},
   "outputs": [],
   "source": [
    "with open(fam_file) as handle:\n",
    "    data = handle.readlines()\n",
    "    data = [line.strip().split() for line in data]"
   ]
  },
  {
   "cell_type": "markdown",
   "id": "f40f3576-fc34-4036-9814-4d538ee0f74a",
   "metadata": {},
   "source": [
    "Write an helper function to get the proper *FID* from refined file:"
   ]
  },
  {
   "cell_type": "code",
   "execution_count": 17,
   "id": "9d24ffa2-b778-4af5-b2bf-0abe707a3dbf",
   "metadata": {},
   "outputs": [],
   "source": [
    "def get_code(sample_id):\n",
    "    try:\n",
    "        return refined_WGS[refined_WGS[\"alias\"] == sample_id]['code'].values[0]\n",
    "    except IndexError:\n",
    "        logger.error(f\"Cannot find '{sample_id}'\")\n"
   ]
  },
  {
   "cell_type": "markdown",
   "id": "44c08f67-7d60-43ac-9192-94d902a772f0",
   "metadata": {},
   "source": [
    "replace *FID* with the proper code:"
   ]
  },
  {
   "cell_type": "code",
   "execution_count": 18,
   "id": "a46d8fe1-437d-48d3-abf5-ca61f7975d8e",
   "metadata": {},
   "outputs": [],
   "source": [
    "for line in data:\n",
    "    # writing over list reference\n",
    "    line[0] = get_code(line[1])"
   ]
  },
  {
   "cell_type": "markdown",
   "id": "0adbda94-36e3-4daa-a84a-b4298963d68b",
   "metadata": {},
   "source": [
    "Write down the corrected file:"
   ]
  },
  {
   "cell_type": "code",
   "execution_count": 19,
   "id": "d06cac26-1b22-4b9c-aa46-f3edc1a80e81",
   "metadata": {},
   "outputs": [],
   "source": [
    "with open(isheep_data_path / \"WGS-all/WGS-all.smarter-fixed.fam\", \"w\") as handle:\n",
    "    writer = csv.writer(handle, delimiter=\" \", lineterminator=\"\\n\")\n",
    "    writer.writerows(data)"
   ]
  },
  {
   "cell_type": "markdown",
   "id": "0e2e378c-91f4-4883-92d7-9fe8d8eb9c70",
   "metadata": {},
   "source": [
    "This fixed file need to replace the original `.fam` file"
   ]
  },
  {
   "cell_type": "code",
   "execution_count": null,
   "id": "92060227-f210-4cd9-8aa1-ebb77eb6b3bc",
   "metadata": {},
   "outputs": [],
   "source": []
  }
 ],
 "metadata": {
  "kernelspec": {
   "display_name": "Python 3",
   "language": "python",
   "name": "python3"
  },
  "language_info": {
   "codemirror_mode": {
    "name": "ipython",
    "version": 3
   },
   "file_extension": ".py",
   "mimetype": "text/x-python",
   "name": "python",
   "nbconvert_exporter": "python",
   "pygments_lexer": "ipython3",
   "version": "3.9.1"
  }
 },
 "nbformat": 4,
 "nbformat_minor": 5
}
