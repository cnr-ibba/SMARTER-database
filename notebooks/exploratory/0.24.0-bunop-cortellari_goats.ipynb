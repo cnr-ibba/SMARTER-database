{
 "cells": [
  {
   "cell_type": "markdown",
   "id": "9b3b01b2-a11c-4553-88ad-02fd743e041d",
   "metadata": {},
   "source": [
    "# Cortellari 2021\n",
    "Deal with [Cortellari et al. 2021](https://doi.org/10.1038/s41598-021-89900-2) goat dataset."
   ]
  },
  {
   "cell_type": "code",
   "execution_count": 1,
   "id": "9a0f529c-64fc-4fb0-9bcb-2fc307dfe2f0",
   "metadata": {},
   "outputs": [],
   "source": [
    "import csv\n",
    "import pathlib\n",
    "\n",
    "import pandas as pd\n",
    "\n",
    "from tqdm.notebook import tqdm\n",
    "\n",
    "from src.features.plinkio import BinaryPlinkIO\n",
    "from src.features.smarterdb import global_connection, SampleGoat, Dataset, Breed\n",
    "from src.data.common import WORKING_ASSEMBLIES"
   ]
  },
  {
   "cell_type": "code",
   "execution_count": 2,
   "id": "c88c075d-8c1c-4113-b2cf-e3d1fe5dc28d",
   "metadata": {},
   "outputs": [],
   "source": [
    "conn = global_connection()\n",
    "ARS1 = WORKING_ASSEMBLIES[\"ARS1\"]"
   ]
  },
  {
   "cell_type": "code",
   "execution_count": 3,
   "id": "09d8c8a8-0042-481d-a30a-465cbfa1ce78",
   "metadata": {},
   "outputs": [],
   "source": [
    "class CustomMixin():\n",
    "    n_of_individuals = None\n",
    "    \n",
    "    def process_pedfile(self, coding=\"top\"):\n",
    "        for line in tqdm(self.read_pedfile(), total=self.n_of_individuals):\n",
    "            _ = self._process_genotypes(line, coding)\n",
    "            \n",
    "        return True\n",
    "    \n",
    "    def is_top(self):\n",
    "        try:\n",
    "            return self.process_pedfile(coding='top')\n",
    "        \n",
    "        except CodingException as exc:\n",
    "            logger.error(exc)\n",
    "            return False\n",
    "    \n",
    "    def is_forward(self):\n",
    "        try:\n",
    "            return self.process_pedfile(coding='forward')\n",
    "        \n",
    "        except CodingException as exc:\n",
    "            logger.error(exc)\n",
    "            return False\n",
    "        \n",
    "    def is_affymetrix(self):\n",
    "        try:\n",
    "            return self.process_pedfile(coding='affymetrix')\n",
    "        \n",
    "        except CodingException as exc:\n",
    "            logger.error(exc)\n",
    "            return False\n",
    "        \n",
    "    def is_illumina(self):\n",
    "        try:\n",
    "            return self.process_pedfile(coding='illumina')\n",
    "        \n",
    "        except CodingException as exc:\n",
    "            logger.error(exc)\n",
    "            return False\n",
    "        \n",
    "class CustomBinaryPlinkIO(CustomMixin, BinaryPlinkIO):\n",
    "    def process_pedfile(self, coding=\"top\"):\n",
    "        for line in tqdm(self.read_pedfile(), total=len(self.plink_file.get_samples())):\n",
    "            _ = self._process_genotypes(line, coding)\n",
    "            \n",
    "        return True"
   ]
  },
  {
   "cell_type": "code",
   "execution_count": 4,
   "id": "c5ce4b73-36d4-417c-bafe-407f93d16770",
   "metadata": {},
   "outputs": [
    {
     "data": {
      "text/plain": [
       "['s41598-021-89900-2/',\n",
       " 's41598-021-89900-2/Cortellari2021.bim',\n",
       " 's41598-021-89900-2/Cortellari2021.fam',\n",
       " 's41598-021-89900-2/41598_2021_89900_MOESM8_ESM.xlsx',\n",
       " 's41598-021-89900-2/41598_2021_89900_MOESM7_ESM.xlsx',\n",
       " 's41598-021-89900-2/41598_2021_89900_MOESM10_ESM.xlsx',\n",
       " 's41598-021-89900-2/41598_2021_89900_MOESM2_ESM.png',\n",
       " 's41598-021-89900-2/41598_2021_89900_MOESM6_ESM.xlsx',\n",
       " 's41598-021-89900-2/41598_2021_89900_MOESM9_ESM.xlsx',\n",
       " 's41598-021-89900-2/Cortellari2021.bed',\n",
       " 's41598-021-89900-2/41598_2021_89900_MOESM4_ESM.tiff',\n",
       " 's41598-021-89900-2/41598_2021_89900_MOESM13_ESM.docx',\n",
       " 's41598-021-89900-2/s41598-021-89900-2.pdf',\n",
       " 's41598-021-89900-2/41598_2021_89900_MOESM3_ESM.png',\n",
       " 's41598-021-89900-2/41598_2021_89900_MOESM12_ESM.xlsx',\n",
       " 's41598-021-89900-2/41598_2021_89900_MOESM11_ESM.xlsx',\n",
       " 's41598-021-89900-2/41598_2021_89900_MOESM5_ESM.xlsx',\n",
       " 's41598-021-89900-2/41598_2021_89900_MOESM1_ESM.tiff',\n",
       " 's41598-021-89900-2/king.con',\n",
       " 's41598-021-89900-2/to_remove.csv']"
      ]
     },
     "execution_count": 4,
     "metadata": {},
     "output_type": "execute_result"
    }
   ],
   "source": [
    "cortellari_dataset = Dataset.objects.get(file=\"cortellari_et_al_2021.zip\")\n",
    "cortellari_dataset.contents"
   ]
  },
  {
   "cell_type": "markdown",
   "id": "4b6e7762-a415-4767-b70e-47338b3d977c",
   "metadata": {},
   "source": [
    "Ok, open dataset and do the standard checks"
   ]
  },
  {
   "cell_type": "code",
   "execution_count": 5,
   "id": "824ca300-db68-49a6-bbed-06d52904e40d",
   "metadata": {},
   "outputs": [],
   "source": [
    "prefix = str(cortellari_dataset.working_dir / \"s41598-021-89900-2/Cortellari2021\")\n",
    "plinkio = CustomBinaryPlinkIO(prefix=prefix, species=cortellari_dataset.species, chip_name=cortellari_dataset.chip_name)\n",
    "plinkio.n_of_individuals = cortellari_dataset.n_of_individuals"
   ]
  },
  {
   "cell_type": "code",
   "execution_count": 6,
   "id": "d42794c4-a949-436d-8a6f-8e71bb1bb8d0",
   "metadata": {},
   "outputs": [],
   "source": [
    "plinkio.read_mapfile()\n",
    "plinkio.fetch_coordinates(src_assembly=ARS1)"
   ]
  },
  {
   "cell_type": "code",
   "execution_count": 7,
   "id": "419a672c-0c51-456e-b978-3509c847105e",
   "metadata": {},
   "outputs": [
    {
     "name": "stdout",
     "output_type": "stream",
     "text": [
      "I can retrieve 53347 of 53347 SNPs using 'name' (0.0% missing)\n"
     ]
    }
   ],
   "source": [
    "snps_found = len(plinkio.mapdata)-len(plinkio.filtered)\n",
    "perc_missing = round(100 - (snps_found / len(plinkio.mapdata) * 100), 2)\n",
    "\n",
    "print(f\"I can retrieve {snps_found} of {len(plinkio.mapdata)} SNPs using 'name' ({perc_missing}% missing)\")"
   ]
  },
  {
   "cell_type": "markdown",
   "id": "c951281e-d969-46bd-ab07-a53fece7b0be",
   "metadata": {},
   "source": [
    "Is this dataset in top coordinates?"
   ]
  },
  {
   "cell_type": "code",
   "execution_count": 8,
   "id": "97b908ba-cbdd-45c8-9bed-6bb2da60f259",
   "metadata": {},
   "outputs": [
    {
     "data": {
      "application/vnd.jupyter.widget-view+json": {
       "model_id": "8c58b064f1eb497cadb5a7ab1dde33dd",
       "version_major": 2,
       "version_minor": 0
      },
      "text/plain": [
       "  0%|          | 0/1071 [00:00<?, ?it/s]"
      ]
     },
     "metadata": {},
     "output_type": "display_data"
    },
    {
     "data": {
      "text/plain": [
       "True"
      ]
     },
     "execution_count": 8,
     "metadata": {},
     "output_type": "execute_result"
    }
   ],
   "source": [
    "plinkio.is_top()"
   ]
  },
  {
   "cell_type": "markdown",
   "id": "0ddbe3fa-1d90-49ec-ab5b-5180fd2b9f48",
   "metadata": {},
   "source": [
    "Ok, now is time to collect info about samples:"
   ]
  },
  {
   "cell_type": "code",
   "execution_count": 9,
   "id": "4494d571-7190-41e0-ba3b-5d92d2dd4f78",
   "metadata": {},
   "outputs": [],
   "source": [
    "breeds = pd.read_html(\"https://www.nature.com/articles/s41598-021-89900-2/tables/1\")[0]"
   ]
  },
  {
   "cell_type": "code",
   "execution_count": 10,
   "id": "bb466206-d90a-450d-be68-e896fe3ebb97",
   "metadata": {},
   "outputs": [
    {
     "data": {
      "text/html": [
       "<div>\n",
       "<style scoped>\n",
       "    .dataframe tbody tr th:only-of-type {\n",
       "        vertical-align: middle;\n",
       "    }\n",
       "\n",
       "    .dataframe tbody tr th {\n",
       "        vertical-align: top;\n",
       "    }\n",
       "\n",
       "    .dataframe thead th {\n",
       "        text-align: right;\n",
       "    }\n",
       "</style>\n",
       "<table border=\"1\" class=\"dataframe\">\n",
       "  <thead>\n",
       "    <tr style=\"text-align: right;\">\n",
       "      <th></th>\n",
       "      <th>fid</th>\n",
       "      <th>breed</th>\n",
       "      <th>raw_dataset_count</th>\n",
       "      <th>haplotype_sharing_count</th>\n",
       "      <th>population_structure_count</th>\n",
       "      <th>landscape_genomics_count</th>\n",
       "    </tr>\n",
       "  </thead>\n",
       "  <tbody>\n",
       "    <tr>\n",
       "      <th>0</th>\n",
       "      <td>ALP</td>\n",
       "      <td>Camosciata delle Alpi</td>\n",
       "      <td>143</td>\n",
       "      <td>117</td>\n",
       "      <td>30</td>\n",
       "      <td>43</td>\n",
       "    </tr>\n",
       "    <tr>\n",
       "      <th>1</th>\n",
       "      <td>ARG</td>\n",
       "      <td>Argentata dell'Etna</td>\n",
       "      <td>48</td>\n",
       "      <td>46</td>\n",
       "      <td>30</td>\n",
       "      <td>41</td>\n",
       "    </tr>\n",
       "    <tr>\n",
       "      <th>2</th>\n",
       "      <td>ASP</td>\n",
       "      <td>Capra dell'Aspromonte</td>\n",
       "      <td>24</td>\n",
       "      <td>24</td>\n",
       "      <td>24</td>\n",
       "      <td>18</td>\n",
       "    </tr>\n",
       "    <tr>\n",
       "      <th>3</th>\n",
       "      <td>BEZ</td>\n",
       "      <td>Bezoar (outgroup)</td>\n",
       "      <td>7</td>\n",
       "      <td>7</td>\n",
       "      <td>7</td>\n",
       "      <td>0</td>\n",
       "    </tr>\n",
       "    <tr>\n",
       "      <th>4</th>\n",
       "      <td>BIA</td>\n",
       "      <td>Bianca Monticellana</td>\n",
       "      <td>24</td>\n",
       "      <td>23</td>\n",
       "      <td>23</td>\n",
       "      <td>17</td>\n",
       "    </tr>\n",
       "  </tbody>\n",
       "</table>\n",
       "</div>"
      ],
      "text/plain": [
       "   fid                  breed  raw_dataset_count  haplotype_sharing_count  \\\n",
       "0  ALP  Camosciata delle Alpi                143                      117   \n",
       "1  ARG    Argentata dell'Etna                 48                       46   \n",
       "2  ASP  Capra dell'Aspromonte                 24                       24   \n",
       "3  BEZ      Bezoar (outgroup)                  7                        7   \n",
       "4  BIA    Bianca Monticellana                 24                       23   \n",
       "\n",
       "   population_structure_count  landscape_genomics_count  \n",
       "0                          30                        43  \n",
       "1                          30                        41  \n",
       "2                          24                        18  \n",
       "3                           7                         0  \n",
       "4                          23                        17  "
      ]
     },
     "execution_count": 10,
     "metadata": {},
     "output_type": "execute_result"
    }
   ],
   "source": [
    "breeds.drop(index=34, inplace=True)\n",
    "breeds.columns = ['fid', 'breed', \"raw_dataset_count\", \"haplotype_sharing_count\", \"population_structure_count\", \"landscape_genomics_count\"]\n",
    "breeds.head()"
   ]
  },
  {
   "cell_type": "markdown",
   "id": "0401ea94-5300-4f81-bbff-77cf768ea53f",
   "metadata": {},
   "source": [
    "Ensure code are new or associated to the same breed within the database:"
   ]
  },
  {
   "cell_type": "code",
   "execution_count": 11,
   "id": "248a2bde-707b-4f07-ba39-08d3f69f42e0",
   "metadata": {},
   "outputs": [
    {
     "name": "stdout",
     "output_type": "stream",
     "text": [
      "Found code 'ALP': 'Alpine (Camosciata delle Alpi) (ALP) Goat' for cortellari 'Camosciata delle Alpi'\n",
      "Found code 'ARG': 'Argentata (ARG) Goat' for cortellari 'Argentata dell'Etna'\n",
      "Found code 'ASP': 'Aspromontana (ASP) Goat' for cortellari 'Capra dell'Aspromonte'\n",
      "Found code 'BEZ': 'Bezoar (BEZ) Goat' for cortellari 'Bezoar (outgroup)'\n",
      "Found code 'BIO': 'Bionda dell'Adamello (BIO) Goat' for cortellari 'Bionda dell'Adamello'\n",
      "Found code 'GAR': 'Garganica (GAR) Goat' for cortellari 'Garganica'\n",
      "Found code 'JON': 'Jonica (JON) Goat' for cortellari 'Jonica'\n",
      "Found code 'MAL': 'Mallorquina (MAL) Goat' for cortellari 'Maltese'\n",
      "Found code 'NIC': 'Nicastrese (NIC) Goat' for cortellari 'Nicastrese'\n",
      "Found code 'NVE': 'Nera Verzasca (NVE) Goat' for cortellari 'Nera di Verzasca'\n",
      "Found code 'ORO': 'Orobica (ORO) Goat' for cortellari 'Orobica'\n",
      "Found code 'RME': 'Rossa Mediterranea (RME) Goat' for cortellari 'Rossa Mediterranea'\n",
      "Found code 'SAA': 'Saanen (SAA) Goat' for cortellari 'Saanen'\n",
      "Found code 'SAR': 'Sarda (SAR) Goat' for cortellari 'Sarda'\n",
      "Found code 'VAL': 'Valdostana (VAL) Goat' for cortellari 'Valdostana'\n"
     ]
    }
   ],
   "source": [
    "not_found = []\n",
    "\n",
    "for idx, row in breeds.iterrows():\n",
    "    code = row['fid']\n",
    "    name = row['breed']\n",
    "    count = Breed.objects.filter(code=code, species=\"Goat\").count()\n",
    "    if count != 0:\n",
    "        breed = Breed.objects.get(code=code, species=\"Goat\")\n",
    "        print(f\"Found code '{code}': '{breed}' for cortellari '{name}'\")\n",
    "    else:\n",
    "        not_found.append((code, name))"
   ]
  },
  {
   "cell_type": "markdown",
   "id": "dbe58ba1-f411-482e-8ca8-e36f40620514",
   "metadata": {},
   "source": [
    "Here are the breeds I couldn't find:"
   ]
  },
  {
   "cell_type": "code",
   "execution_count": 12,
   "id": "4c40e808-2356-4145-90c6-b0463ba91b27",
   "metadata": {},
   "outputs": [
    {
     "name": "stdout",
     "output_type": "stream",
     "text": [
      "BIA Bianca Monticellana\n",
      "CAP Capestrina\n",
      "DDS Derivata di Siria\n",
      "FAC Facciuta della Valnerina\n",
      "FUL Fulva del Lazio\n",
      "GCI Grigia Ciociara\n",
      "GIR Girgentana\n",
      "GRF Garfagnana\n",
      "LIV Capra di Livo\n",
      "MES Messinese\n",
      "MNT_M Montecristo (mainland)\n",
      "MNT_I Montecristo (island)\n",
      "MON Capra di Montefalcone\n",
      "MXS Incrocio Maltese e Sarda\n",
      "RCC Roccaverano\n",
      "SAM Maltese sampled in Sardinia\n",
      "TER Capra di Teramo\n",
      "VLS Vallesana\n",
      "VPS Capra della Val Passiria\n"
     ]
    }
   ],
   "source": [
    "for code, name in not_found:\n",
    "    print(code, name)"
   ]
  },
  {
   "cell_type": "markdown",
   "id": "5cd782e9-48f8-41d5-bba6-1bbd5fc51358",
   "metadata": {},
   "source": [
    "Ok, I need to rename some breed names or codes to be consistent with the SMARTER database:"
   ]
  },
  {
   "cell_type": "code",
   "execution_count": 13,
   "id": "a141a534-f92e-4131-89e8-65e608bc5167",
   "metadata": {},
   "outputs": [
    {
     "data": {
      "text/html": [
       "<div>\n",
       "<style scoped>\n",
       "    .dataframe tbody tr th:only-of-type {\n",
       "        vertical-align: middle;\n",
       "    }\n",
       "\n",
       "    .dataframe tbody tr th {\n",
       "        vertical-align: top;\n",
       "    }\n",
       "\n",
       "    .dataframe thead th {\n",
       "        text-align: right;\n",
       "    }\n",
       "</style>\n",
       "<table border=\"1\" class=\"dataframe\">\n",
       "  <thead>\n",
       "    <tr style=\"text-align: right;\">\n",
       "      <th></th>\n",
       "      <th>code</th>\n",
       "      <th>fid</th>\n",
       "      <th>breed</th>\n",
       "      <th>raw_dataset_count</th>\n",
       "      <th>haplotype_sharing_count</th>\n",
       "      <th>population_structure_count</th>\n",
       "      <th>landscape_genomics_count</th>\n",
       "    </tr>\n",
       "  </thead>\n",
       "  <tbody>\n",
       "    <tr>\n",
       "      <th>0</th>\n",
       "      <td>ALP</td>\n",
       "      <td>ALP</td>\n",
       "      <td>Alpine (Camosciata delle Alpi)</td>\n",
       "      <td>143</td>\n",
       "      <td>117</td>\n",
       "      <td>30</td>\n",
       "      <td>43</td>\n",
       "    </tr>\n",
       "    <tr>\n",
       "      <th>1</th>\n",
       "      <td>ARG</td>\n",
       "      <td>ARG</td>\n",
       "      <td>Argentata</td>\n",
       "      <td>48</td>\n",
       "      <td>46</td>\n",
       "      <td>30</td>\n",
       "      <td>41</td>\n",
       "    </tr>\n",
       "    <tr>\n",
       "      <th>2</th>\n",
       "      <td>ASP</td>\n",
       "      <td>ASP</td>\n",
       "      <td>Aspromontana</td>\n",
       "      <td>24</td>\n",
       "      <td>24</td>\n",
       "      <td>24</td>\n",
       "      <td>18</td>\n",
       "    </tr>\n",
       "    <tr>\n",
       "      <th>3</th>\n",
       "      <td>BEZ</td>\n",
       "      <td>BEZ</td>\n",
       "      <td>Bezoar (outgroup)</td>\n",
       "      <td>7</td>\n",
       "      <td>7</td>\n",
       "      <td>7</td>\n",
       "      <td>0</td>\n",
       "    </tr>\n",
       "    <tr>\n",
       "      <th>4</th>\n",
       "      <td>BIA</td>\n",
       "      <td>BIA</td>\n",
       "      <td>Bianca Monticellana</td>\n",
       "      <td>24</td>\n",
       "      <td>23</td>\n",
       "      <td>23</td>\n",
       "      <td>17</td>\n",
       "    </tr>\n",
       "  </tbody>\n",
       "</table>\n",
       "</div>"
      ],
      "text/plain": [
       "  code  fid                           breed  raw_dataset_count  \\\n",
       "0  ALP  ALP  Alpine (Camosciata delle Alpi)                143   \n",
       "1  ARG  ARG                       Argentata                 48   \n",
       "2  ASP  ASP                    Aspromontana                 24   \n",
       "3  BEZ  BEZ               Bezoar (outgroup)                  7   \n",
       "4  BIA  BIA             Bianca Monticellana                 24   \n",
       "\n",
       "   haplotype_sharing_count  population_structure_count  \\\n",
       "0                      117                          30   \n",
       "1                       46                          30   \n",
       "2                       24                          24   \n",
       "3                        7                           7   \n",
       "4                       23                          23   \n",
       "\n",
       "   landscape_genomics_count  \n",
       "0                        43  \n",
       "1                        41  \n",
       "2                        18  \n",
       "3                         0  \n",
       "4                        17  "
      ]
     },
     "execution_count": 13,
     "metadata": {},
     "output_type": "execute_result"
    }
   ],
   "source": [
    "# duplicate code columns\n",
    "breeds['code'] = breeds['fid']\n",
    "\n",
    "# fix breed codes\n",
    "breeds.set_index('fid', inplace=True)\n",
    "breeds.at[\"MAL\", \"code\"] = \"MLT\"\n",
    "breeds.at[\"GCI\", \"code\"] = \"CCG\"\n",
    "breeds.at[\"GIR\", \"code\"] = \"GGT\"\n",
    "breeds.at[\"TER\", \"code\"] = \"DIT\"\n",
    "breeds.at[\"VPS\", \"code\"] = \"VSS\"\n",
    "\n",
    "# fix breed names\n",
    "for code in [\"ALP\", \"ARG\", \"ASP\", \"NVE\"]:\n",
    "    breed = Breed.objects.get(species=\"Goat\", code=code)\n",
    "    breeds.at[code, 'breed'] = breed.name\n",
    "\n",
    "breeds.reset_index(inplace=True)\n",
    "breeds.set_index('code', inplace=True)\n",
    "\n",
    "for code in [\"CCG\", \"DIT\", \"VSS\"]:\n",
    "    breed = Breed.objects.get(species=\"Goat\", code=code)\n",
    "    breeds.at[code, 'breed'] = breed.name\n",
    "\n",
    "breeds.reset_index(inplace=True)\n",
    "breeds.head()"
   ]
  },
  {
   "cell_type": "code",
   "execution_count": 14,
   "id": "de7895de-c677-42ec-9429-5870ae26c33b",
   "metadata": {},
   "outputs": [
    {
     "name": "stdout",
     "output_type": "stream",
     "text": [
      "Found code 'ALP': 'Alpine (Camosciata delle Alpi) (ALP) Goat' for cortellari 'Alpine (Camosciata delle Alpi)'\n",
      "Found code 'ARG': 'Argentata (ARG) Goat' for cortellari 'Argentata'\n",
      "Found code 'ASP': 'Aspromontana (ASP) Goat' for cortellari 'Aspromontana'\n",
      "Found code 'BEZ': 'Bezoar (BEZ) Goat' for cortellari 'Bezoar (outgroup)'\n",
      "Found code 'BIO': 'Bionda dell'Adamello (BIO) Goat' for cortellari 'Bionda dell'Adamello'\n",
      "Found code 'GAR': 'Garganica (GAR) Goat' for cortellari 'Garganica'\n",
      "Found code 'CCG': 'Ciociara Grigia (CCG) Goat' for cortellari 'Ciociara Grigia'\n",
      "Found code 'GGT': 'Girgentana (GGT) Goat' for cortellari 'Girgentana'\n",
      "Found code 'JON': 'Jonica (JON) Goat' for cortellari 'Jonica'\n",
      "Found code 'MLT': 'Maltese (MLT) Goat' for cortellari 'Maltese'\n",
      "Found code 'NIC': 'Nicastrese (NIC) Goat' for cortellari 'Nicastrese'\n",
      "Found code 'NVE': 'Nera Verzasca (NVE) Goat' for cortellari 'Nera Verzasca'\n",
      "Found code 'ORO': 'Orobica (ORO) Goat' for cortellari 'Orobica'\n",
      "Found code 'RME': 'Rossa Mediterranea (RME) Goat' for cortellari 'Rossa Mediterranea'\n",
      "Found code 'SAA': 'Saanen (SAA) Goat' for cortellari 'Saanen'\n",
      "Found code 'SAR': 'Sarda (SAR) Goat' for cortellari 'Sarda'\n",
      "Found code 'DIT': 'Di Teramo (DIT) Goat' for cortellari 'Di Teramo'\n",
      "Found code 'VAL': 'Valdostana (VAL) Goat' for cortellari 'Valdostana'\n",
      "Found code 'VSS': 'Valpassiria (VSS) Goat' for cortellari 'Valpassiria'\n"
     ]
    }
   ],
   "source": [
    "not_found = []\n",
    "\n",
    "for idx, row in breeds.iterrows():\n",
    "    code = row['code']\n",
    "    name = row['breed']\n",
    "    count = Breed.objects.filter(code=code, species=\"Goat\").count()\n",
    "    if count != 0:\n",
    "        breed = Breed.objects.get(code=code, species=\"Goat\")\n",
    "        print(f\"Found code '{code}': '{breed}' for cortellari '{name}'\")\n",
    "    else:\n",
    "        not_found.append((code, name))"
   ]
  },
  {
   "cell_type": "code",
   "execution_count": 15,
   "id": "8b084b51-ff5f-4b79-a748-a317bb8f0427",
   "metadata": {},
   "outputs": [
    {
     "name": "stdout",
     "output_type": "stream",
     "text": [
      "BIA Bianca Monticellana\n",
      "CAP Capestrina\n",
      "DDS Derivata di Siria\n",
      "FAC Facciuta della Valnerina\n",
      "FUL Fulva del Lazio\n",
      "GRF Garfagnana\n",
      "LIV Capra di Livo\n",
      "MES Messinese\n",
      "MNT_M Montecristo (mainland)\n",
      "MNT_I Montecristo (island)\n",
      "MON Capra di Montefalcone\n",
      "MXS Incrocio Maltese e Sarda\n",
      "RCC Roccaverano\n",
      "SAM Maltese sampled in Sardinia\n",
      "VLS Vallesana\n"
     ]
    }
   ],
   "source": [
    "for code, name in not_found:\n",
    "    print(code, name)"
   ]
  },
  {
   "cell_type": "markdown",
   "id": "1600783d-b8ae-457b-a572-900bbd22e5df",
   "metadata": {},
   "source": [
    "Ok, there are some samples that seems to be already in the SMARTER database: those samples where identified using [king](https://www.kingrelatedness.com/) software. Read those sample names from file:"
   ]
  },
  {
   "cell_type": "code",
   "execution_count": 16,
   "id": "2d3e3e5e-f9c7-4c15-9635-08922cfec194",
   "metadata": {},
   "outputs": [
    {
     "data": {
      "text/html": [
       "<div>\n",
       "<style scoped>\n",
       "    .dataframe tbody tr th:only-of-type {\n",
       "        vertical-align: middle;\n",
       "    }\n",
       "\n",
       "    .dataframe tbody tr th {\n",
       "        vertical-align: top;\n",
       "    }\n",
       "\n",
       "    .dataframe thead th {\n",
       "        text-align: right;\n",
       "    }\n",
       "</style>\n",
       "<table border=\"1\" class=\"dataframe\">\n",
       "  <thead>\n",
       "    <tr style=\"text-align: right;\">\n",
       "      <th></th>\n",
       "      <th>ID2</th>\n",
       "    </tr>\n",
       "  </thead>\n",
       "  <tbody>\n",
       "    <tr>\n",
       "      <th>0</th>\n",
       "      <td>ALP215</td>\n",
       "    </tr>\n",
       "    <tr>\n",
       "      <th>1</th>\n",
       "      <td>ALP216</td>\n",
       "    </tr>\n",
       "    <tr>\n",
       "      <th>2</th>\n",
       "      <td>ALP217</td>\n",
       "    </tr>\n",
       "    <tr>\n",
       "      <th>3</th>\n",
       "      <td>ALP218</td>\n",
       "    </tr>\n",
       "    <tr>\n",
       "      <th>4</th>\n",
       "      <td>ALP219</td>\n",
       "    </tr>\n",
       "  </tbody>\n",
       "</table>\n",
       "</div>"
      ],
      "text/plain": [
       "      ID2\n",
       "0  ALP215\n",
       "1  ALP216\n",
       "2  ALP217\n",
       "3  ALP218\n",
       "4  ALP219"
      ]
     },
     "execution_count": 16,
     "metadata": {},
     "output_type": "execute_result"
    }
   ],
   "source": [
    "to_remove = pd.read_csv(cortellari_dataset.working_dir / \"s41598-021-89900-2/to_remove.csv\", index_col=0)\n",
    "to_remove.head()"
   ]
  },
  {
   "cell_type": "markdown",
   "id": "8de4a8f4-55ba-408f-8775-f0d67a87ac5c",
   "metadata": {},
   "source": [
    "Read genotypes and create a simple table for fid and iid:"
   ]
  },
  {
   "cell_type": "code",
   "execution_count": 17,
   "id": "2aef806f-ee1c-4179-ac76-1fce82e1a069",
   "metadata": {},
   "outputs": [
    {
     "data": {
      "text/html": [
       "<div>\n",
       "<style scoped>\n",
       "    .dataframe tbody tr th:only-of-type {\n",
       "        vertical-align: middle;\n",
       "    }\n",
       "\n",
       "    .dataframe tbody tr th {\n",
       "        vertical-align: top;\n",
       "    }\n",
       "\n",
       "    .dataframe thead th {\n",
       "        text-align: right;\n",
       "    }\n",
       "</style>\n",
       "<table border=\"1\" class=\"dataframe\">\n",
       "  <thead>\n",
       "    <tr style=\"text-align: right;\">\n",
       "      <th></th>\n",
       "      <th>fid</th>\n",
       "      <th>original_id</th>\n",
       "    </tr>\n",
       "  </thead>\n",
       "  <tbody>\n",
       "    <tr>\n",
       "      <th>0</th>\n",
       "      <td>ARG</td>\n",
       "      <td>ARG1</td>\n",
       "    </tr>\n",
       "    <tr>\n",
       "      <th>1</th>\n",
       "      <td>ARG</td>\n",
       "      <td>ARG2</td>\n",
       "    </tr>\n",
       "    <tr>\n",
       "      <th>2</th>\n",
       "      <td>ARG</td>\n",
       "      <td>ARG3</td>\n",
       "    </tr>\n",
       "    <tr>\n",
       "      <th>3</th>\n",
       "      <td>ARG</td>\n",
       "      <td>ARG4</td>\n",
       "    </tr>\n",
       "    <tr>\n",
       "      <th>4</th>\n",
       "      <td>ARG</td>\n",
       "      <td>ARG5</td>\n",
       "    </tr>\n",
       "  </tbody>\n",
       "</table>\n",
       "</div>"
      ],
      "text/plain": [
       "   fid original_id\n",
       "0  ARG        ARG1\n",
       "1  ARG        ARG2\n",
       "2  ARG        ARG3\n",
       "3  ARG        ARG4\n",
       "4  ARG        ARG5"
      ]
     },
     "execution_count": 17,
     "metadata": {},
     "output_type": "execute_result"
    }
   ],
   "source": [
    "tmp = {'fid':[], 'original_id': []}\n",
    "\n",
    "for fid, original_id, *_ in plinkio.read_pedfile():\n",
    "    tmp['fid'].append(fid)\n",
    "    tmp['original_id'].append(original_id)\n",
    "    \n",
    "tmp = pd.DataFrame.from_dict(tmp)\n",
    "tmp.head()"
   ]
  },
  {
   "cell_type": "markdown",
   "id": "63a5f438-8c04-406e-9922-86b0fe090fc5",
   "metadata": {},
   "source": [
    "Merge samples with breed informations:"
   ]
  },
  {
   "cell_type": "code",
   "execution_count": 18,
   "id": "64bf2960-da14-4b51-8494-db4552659a2d",
   "metadata": {},
   "outputs": [
    {
     "data": {
      "text/html": [
       "<div>\n",
       "<style scoped>\n",
       "    .dataframe tbody tr th:only-of-type {\n",
       "        vertical-align: middle;\n",
       "    }\n",
       "\n",
       "    .dataframe tbody tr th {\n",
       "        vertical-align: top;\n",
       "    }\n",
       "\n",
       "    .dataframe thead th {\n",
       "        text-align: right;\n",
       "    }\n",
       "</style>\n",
       "<table border=\"1\" class=\"dataframe\">\n",
       "  <thead>\n",
       "    <tr style=\"text-align: right;\">\n",
       "      <th></th>\n",
       "      <th>fid</th>\n",
       "      <th>code</th>\n",
       "      <th>breed</th>\n",
       "      <th>raw_dataset_count</th>\n",
       "      <th>haplotype_sharing_count</th>\n",
       "      <th>population_structure_count</th>\n",
       "      <th>landscape_genomics_count</th>\n",
       "    </tr>\n",
       "    <tr>\n",
       "      <th>original_id</th>\n",
       "      <th></th>\n",
       "      <th></th>\n",
       "      <th></th>\n",
       "      <th></th>\n",
       "      <th></th>\n",
       "      <th></th>\n",
       "      <th></th>\n",
       "    </tr>\n",
       "  </thead>\n",
       "  <tbody>\n",
       "    <tr>\n",
       "      <th>ALP128</th>\n",
       "      <td>ALP</td>\n",
       "      <td>ALP</td>\n",
       "      <td>Alpine (Camosciata delle Alpi)</td>\n",
       "      <td>143</td>\n",
       "      <td>117</td>\n",
       "      <td>30</td>\n",
       "      <td>43</td>\n",
       "    </tr>\n",
       "    <tr>\n",
       "      <th>ALP129</th>\n",
       "      <td>ALP</td>\n",
       "      <td>ALP</td>\n",
       "      <td>Alpine (Camosciata delle Alpi)</td>\n",
       "      <td>143</td>\n",
       "      <td>117</td>\n",
       "      <td>30</td>\n",
       "      <td>43</td>\n",
       "    </tr>\n",
       "    <tr>\n",
       "      <th>ALP130</th>\n",
       "      <td>ALP</td>\n",
       "      <td>ALP</td>\n",
       "      <td>Alpine (Camosciata delle Alpi)</td>\n",
       "      <td>143</td>\n",
       "      <td>117</td>\n",
       "      <td>30</td>\n",
       "      <td>43</td>\n",
       "    </tr>\n",
       "    <tr>\n",
       "      <th>ALP131</th>\n",
       "      <td>ALP</td>\n",
       "      <td>ALP</td>\n",
       "      <td>Alpine (Camosciata delle Alpi)</td>\n",
       "      <td>143</td>\n",
       "      <td>117</td>\n",
       "      <td>30</td>\n",
       "      <td>43</td>\n",
       "    </tr>\n",
       "    <tr>\n",
       "      <th>ALP132</th>\n",
       "      <td>ALP</td>\n",
       "      <td>ALP</td>\n",
       "      <td>Alpine (Camosciata delle Alpi)</td>\n",
       "      <td>143</td>\n",
       "      <td>117</td>\n",
       "      <td>30</td>\n",
       "      <td>43</td>\n",
       "    </tr>\n",
       "  </tbody>\n",
       "</table>\n",
       "</div>"
      ],
      "text/plain": [
       "             fid code                           breed  raw_dataset_count  \\\n",
       "original_id                                                                \n",
       "ALP128       ALP  ALP  Alpine (Camosciata delle Alpi)                143   \n",
       "ALP129       ALP  ALP  Alpine (Camosciata delle Alpi)                143   \n",
       "ALP130       ALP  ALP  Alpine (Camosciata delle Alpi)                143   \n",
       "ALP131       ALP  ALP  Alpine (Camosciata delle Alpi)                143   \n",
       "ALP132       ALP  ALP  Alpine (Camosciata delle Alpi)                143   \n",
       "\n",
       "             haplotype_sharing_count  population_structure_count  \\\n",
       "original_id                                                        \n",
       "ALP128                           117                          30   \n",
       "ALP129                           117                          30   \n",
       "ALP130                           117                          30   \n",
       "ALP131                           117                          30   \n",
       "ALP132                           117                          30   \n",
       "\n",
       "             landscape_genomics_count  \n",
       "original_id                            \n",
       "ALP128                             43  \n",
       "ALP129                             43  \n",
       "ALP130                             43  \n",
       "ALP131                             43  \n",
       "ALP132                             43  "
      ]
     },
     "execution_count": 18,
     "metadata": {},
     "output_type": "execute_result"
    }
   ],
   "source": [
    "samples = tmp.set_index('fid').join(breeds.set_index('fid'))\n",
    "samples.reset_index(inplace=True)\n",
    "samples.set_index(\"original_id\", inplace=True)\n",
    "samples.head()"
   ]
  },
  {
   "cell_type": "markdown",
   "id": "7bede1b9-60f8-4f77-ad5c-5897e06fd107",
   "metadata": {},
   "source": [
    "Now transform the *ID2* series into a list, then drop those indexes:"
   ]
  },
  {
   "cell_type": "code",
   "execution_count": 19,
   "id": "17819663-1deb-4b47-b5ba-c550adf69e85",
   "metadata": {},
   "outputs": [
    {
     "data": {
      "text/html": [
       "<div>\n",
       "<style scoped>\n",
       "    .dataframe tbody tr th:only-of-type {\n",
       "        vertical-align: middle;\n",
       "    }\n",
       "\n",
       "    .dataframe tbody tr th {\n",
       "        vertical-align: top;\n",
       "    }\n",
       "\n",
       "    .dataframe thead th {\n",
       "        text-align: right;\n",
       "    }\n",
       "</style>\n",
       "<table border=\"1\" class=\"dataframe\">\n",
       "  <thead>\n",
       "    <tr style=\"text-align: right;\">\n",
       "      <th></th>\n",
       "      <th>original_id</th>\n",
       "      <th>fid</th>\n",
       "      <th>code</th>\n",
       "      <th>breed</th>\n",
       "      <th>raw_dataset_count</th>\n",
       "      <th>haplotype_sharing_count</th>\n",
       "      <th>population_structure_count</th>\n",
       "      <th>landscape_genomics_count</th>\n",
       "    </tr>\n",
       "  </thead>\n",
       "  <tbody>\n",
       "    <tr>\n",
       "      <th>0</th>\n",
       "      <td>ALP211</td>\n",
       "      <td>ALP</td>\n",
       "      <td>ALP</td>\n",
       "      <td>Alpine (Camosciata delle Alpi)</td>\n",
       "      <td>143</td>\n",
       "      <td>117</td>\n",
       "      <td>30</td>\n",
       "      <td>43</td>\n",
       "    </tr>\n",
       "    <tr>\n",
       "      <th>1</th>\n",
       "      <td>ALP212</td>\n",
       "      <td>ALP</td>\n",
       "      <td>ALP</td>\n",
       "      <td>Alpine (Camosciata delle Alpi)</td>\n",
       "      <td>143</td>\n",
       "      <td>117</td>\n",
       "      <td>30</td>\n",
       "      <td>43</td>\n",
       "    </tr>\n",
       "    <tr>\n",
       "      <th>2</th>\n",
       "      <td>ALP213</td>\n",
       "      <td>ALP</td>\n",
       "      <td>ALP</td>\n",
       "      <td>Alpine (Camosciata delle Alpi)</td>\n",
       "      <td>143</td>\n",
       "      <td>117</td>\n",
       "      <td>30</td>\n",
       "      <td>43</td>\n",
       "    </tr>\n",
       "    <tr>\n",
       "      <th>3</th>\n",
       "      <td>ALP214</td>\n",
       "      <td>ALP</td>\n",
       "      <td>ALP</td>\n",
       "      <td>Alpine (Camosciata delle Alpi)</td>\n",
       "      <td>143</td>\n",
       "      <td>117</td>\n",
       "      <td>30</td>\n",
       "      <td>43</td>\n",
       "    </tr>\n",
       "    <tr>\n",
       "      <th>4</th>\n",
       "      <td>ARG10</td>\n",
       "      <td>ARG</td>\n",
       "      <td>ARG</td>\n",
       "      <td>Argentata</td>\n",
       "      <td>48</td>\n",
       "      <td>46</td>\n",
       "      <td>30</td>\n",
       "      <td>41</td>\n",
       "    </tr>\n",
       "  </tbody>\n",
       "</table>\n",
       "</div>"
      ],
      "text/plain": [
       "  original_id  fid code                           breed  raw_dataset_count  \\\n",
       "0      ALP211  ALP  ALP  Alpine (Camosciata delle Alpi)                143   \n",
       "1      ALP212  ALP  ALP  Alpine (Camosciata delle Alpi)                143   \n",
       "2      ALP213  ALP  ALP  Alpine (Camosciata delle Alpi)                143   \n",
       "3      ALP214  ALP  ALP  Alpine (Camosciata delle Alpi)                143   \n",
       "4       ARG10  ARG  ARG                       Argentata                 48   \n",
       "\n",
       "   haplotype_sharing_count  population_structure_count  \\\n",
       "0                      117                          30   \n",
       "1                      117                          30   \n",
       "2                      117                          30   \n",
       "3                      117                          30   \n",
       "4                       46                          30   \n",
       "\n",
       "   landscape_genomics_count  \n",
       "0                        43  \n",
       "1                        43  \n",
       "2                        43  \n",
       "3                        43  \n",
       "4                        41  "
      ]
     },
     "execution_count": 19,
     "metadata": {},
     "output_type": "execute_result"
    }
   ],
   "source": [
    "filtered_samples = samples.drop(index=to_remove['ID2'].to_list())\n",
    "filtered_samples.reset_index(inplace=True)\n",
    "filtered_samples.head()"
   ]
  },
  {
   "cell_type": "markdown",
   "id": "197a0298-9a49-47ba-a156-4000a492ee83",
   "metadata": {},
   "source": [
    "Remove unused columns and add country"
   ]
  },
  {
   "cell_type": "code",
   "execution_count": 20,
   "id": "11cc0f08-a165-439c-ab24-a0a0ee582523",
   "metadata": {},
   "outputs": [
    {
     "data": {
      "text/html": [
       "<div>\n",
       "<style scoped>\n",
       "    .dataframe tbody tr th:only-of-type {\n",
       "        vertical-align: middle;\n",
       "    }\n",
       "\n",
       "    .dataframe tbody tr th {\n",
       "        vertical-align: top;\n",
       "    }\n",
       "\n",
       "    .dataframe thead th {\n",
       "        text-align: right;\n",
       "    }\n",
       "</style>\n",
       "<table border=\"1\" class=\"dataframe\">\n",
       "  <thead>\n",
       "    <tr style=\"text-align: right;\">\n",
       "      <th></th>\n",
       "      <th>original_id</th>\n",
       "      <th>fid</th>\n",
       "      <th>code</th>\n",
       "      <th>breed</th>\n",
       "      <th>country</th>\n",
       "    </tr>\n",
       "  </thead>\n",
       "  <tbody>\n",
       "    <tr>\n",
       "      <th>0</th>\n",
       "      <td>ALP211</td>\n",
       "      <td>ALP</td>\n",
       "      <td>ALP</td>\n",
       "      <td>Alpine (Camosciata delle Alpi)</td>\n",
       "      <td>Italy</td>\n",
       "    </tr>\n",
       "    <tr>\n",
       "      <th>1</th>\n",
       "      <td>ALP212</td>\n",
       "      <td>ALP</td>\n",
       "      <td>ALP</td>\n",
       "      <td>Alpine (Camosciata delle Alpi)</td>\n",
       "      <td>Italy</td>\n",
       "    </tr>\n",
       "    <tr>\n",
       "      <th>2</th>\n",
       "      <td>ALP213</td>\n",
       "      <td>ALP</td>\n",
       "      <td>ALP</td>\n",
       "      <td>Alpine (Camosciata delle Alpi)</td>\n",
       "      <td>Italy</td>\n",
       "    </tr>\n",
       "    <tr>\n",
       "      <th>3</th>\n",
       "      <td>ALP214</td>\n",
       "      <td>ALP</td>\n",
       "      <td>ALP</td>\n",
       "      <td>Alpine (Camosciata delle Alpi)</td>\n",
       "      <td>Italy</td>\n",
       "    </tr>\n",
       "    <tr>\n",
       "      <th>4</th>\n",
       "      <td>ARG10</td>\n",
       "      <td>ARG</td>\n",
       "      <td>ARG</td>\n",
       "      <td>Argentata</td>\n",
       "      <td>Italy</td>\n",
       "    </tr>\n",
       "  </tbody>\n",
       "</table>\n",
       "</div>"
      ],
      "text/plain": [
       "  original_id  fid code                           breed country\n",
       "0      ALP211  ALP  ALP  Alpine (Camosciata delle Alpi)   Italy\n",
       "1      ALP212  ALP  ALP  Alpine (Camosciata delle Alpi)   Italy\n",
       "2      ALP213  ALP  ALP  Alpine (Camosciata delle Alpi)   Italy\n",
       "3      ALP214  ALP  ALP  Alpine (Camosciata delle Alpi)   Italy\n",
       "4       ARG10  ARG  ARG                       Argentata   Italy"
      ]
     },
     "execution_count": 20,
     "metadata": {},
     "output_type": "execute_result"
    }
   ],
   "source": [
    "filtered_samples.drop([\"raw_dataset_count\", \"haplotype_sharing_count\", \"population_structure_count\", \"landscape_genomics_count\"], axis=1, inplace=True)\n",
    "filtered_samples[\"country\"] = \"Italy\"\n",
    "filtered_samples.head()"
   ]
  },
  {
   "cell_type": "markdown",
   "id": "c6b91aaa-18d4-46f4-bc21-4c73adf227b0",
   "metadata": {},
   "source": [
    "Write samples into a file:"
   ]
  },
  {
   "cell_type": "code",
   "execution_count": 21,
   "id": "2bb41831-0d6b-4cde-b909-6a2da05aa42a",
   "metadata": {},
   "outputs": [],
   "source": [
    "filtered_samples.to_excel(\"cortellari_samples_fix.xlsx\")"
   ]
  },
  {
   "cell_type": "code",
   "execution_count": 22,
   "id": "2be874a8-8178-44d8-8ca8-0fa3ba360f1b",
   "metadata": {},
   "outputs": [
    {
     "name": "stdout",
     "output_type": "stream",
     "text": [
      "<class 'pandas.core.frame.DataFrame'>\n",
      "RangeIndex: 523 entries, 0 to 522\n",
      "Data columns (total 5 columns):\n",
      " #   Column       Non-Null Count  Dtype \n",
      "---  ------       --------------  ----- \n",
      " 0   original_id  523 non-null    object\n",
      " 1   fid          523 non-null    object\n",
      " 2   code         523 non-null    object\n",
      " 3   breed        523 non-null    object\n",
      " 4   country      523 non-null    object\n",
      "dtypes: object(5)\n",
      "memory usage: 20.6+ KB\n"
     ]
    }
   ],
   "source": [
    "filtered_samples.info()"
   ]
  },
  {
   "cell_type": "code",
   "execution_count": null,
   "id": "24416fb9-db63-4c32-a593-d72325ca46ee",
   "metadata": {},
   "outputs": [],
   "source": []
  }
 ],
 "metadata": {
  "kernelspec": {
   "display_name": "Python 3",
   "language": "python",
   "name": "python3"
  },
  "language_info": {
   "codemirror_mode": {
    "name": "ipython",
    "version": 3
   },
   "file_extension": ".py",
   "mimetype": "text/x-python",
   "name": "python",
   "nbconvert_exporter": "python",
   "pygments_lexer": "ipython3",
   "version": "3.9.1"
  }
 },
 "nbformat": 4,
 "nbformat_minor": 5
}
