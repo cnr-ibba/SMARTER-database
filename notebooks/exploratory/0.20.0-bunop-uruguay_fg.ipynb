{
 "cells": [
  {
   "cell_type": "markdown",
   "id": "0fc76eff-f73b-420e-b2d7-7634edbf3408",
   "metadata": {},
   "source": [
    "# Uruguay Foreground data\n",
    "Pablo sent new foreground data to the smarter repository. They come from affymetrix chip, however this file format is totally new, seems to be an affymetrix report. Check data file and try to guess how to import this new data format"
   ]
  },
  {
   "cell_type": "code",
   "execution_count": 1,
   "id": "710595ab-a39e-45aa-8e78-3c6f796829be",
   "metadata": {},
   "outputs": [],
   "source": [
    "import csv\n",
    "import collections\n",
    "import pandas as pd\n",
    "\n",
    "from pathlib import Path\n",
    "from tqdm.notebook import tqdm\n",
    "\n",
    "from src.features.smarterdb import global_connection, Dataset, VariantSheep\n",
    "from src.features.utils import skip_comments, text_or_gzip_open, get_interim_dir\n",
    "from src.features.affymetrix import read_affymetrixRow"
   ]
  },
  {
   "cell_type": "code",
   "execution_count": 2,
   "id": "01fc1dc9-2e35-46e3-9273-b4a9d0e7bbfb",
   "metadata": {},
   "outputs": [],
   "source": [
    "def get_header(report):\n",
    "        # sample names are sanitized through read_affymetrixRow: so read the\n",
    "        # first header of the report file to determine the original sample\n",
    "        # names\n",
    "        with text_or_gzip_open(report) as handle:\n",
    "            position, skipped = skip_comments(handle)\n",
    "\n",
    "            # go back to header section\n",
    "            handle.seek(position)\n",
    "\n",
    "            # now read csv file\n",
    "            reader = csv.reader(handle, delimiter=\"\\t\")\n",
    "\n",
    "            # get header\n",
    "            return next(reader)"
   ]
  },
  {
   "cell_type": "code",
   "execution_count": 3,
   "id": "1b8109ee-fb9d-4387-ab2f-57dc3647a564",
   "metadata": {},
   "outputs": [],
   "source": [
    "_ = global_connection()"
   ]
  },
  {
   "cell_type": "markdown",
   "id": "21966477-b4c6-441c-b5ff-5c6b0eac5004",
   "metadata": {},
   "source": [
    "## Placa_Junio_recommended\n",
    "Let's start from `Placa_Junio_recommended.zip` datafile:"
   ]
  },
  {
   "cell_type": "code",
   "execution_count": 4,
   "id": "d311107e-367a-4396-807e-7d2020ca4393",
   "metadata": {},
   "outputs": [],
   "source": [
    "placa_junio = Dataset.objects.get(file=\"Placa_Junio_recommended.zip\")"
   ]
  },
  {
   "cell_type": "markdown",
   "id": "1c862ffb-8d7e-479d-8872-9effd4fff208",
   "metadata": {},
   "source": [
    "There's only one file in dataset, the file with the data:"
   ]
  },
  {
   "cell_type": "code",
   "execution_count": 5,
   "id": "cbb1f1bf-fc73-4fda-bae9-7193e0e3025d",
   "metadata": {},
   "outputs": [],
   "source": [
    "path = placa_junio.working_dir / placa_junio.contents[0]\n",
    "probeset_ids = [record.probeset_id for record in read_affymetrixRow(path)]"
   ]
  },
  {
   "cell_type": "markdown",
   "id": "73c158e8-e80f-4132-a822-65fedbcebff9",
   "metadata": {},
   "source": [
    "Check if those probeset ids are in database:"
   ]
  },
  {
   "cell_type": "code",
   "execution_count": 6,
   "id": "2b567098-58ca-4e53-9729-2974b43607da",
   "metadata": {},
   "outputs": [
    {
     "data": {
      "application/vnd.jupyter.widget-view+json": {
       "model_id": "12a5a472b646496ba0f8823950b6cde7",
       "version_major": 2,
       "version_minor": 0
      },
      "text/plain": [
       "  0%|          | 0/49636 [00:00<?, ?it/s]"
      ]
     },
     "metadata": {},
     "output_type": "display_data"
    },
    {
     "name": "stdout",
     "output_type": "stream",
     "text": [
      "Missing 1 SNPs of 49636\n"
     ]
    }
   ],
   "source": [
    "missing = 0\n",
    "\n",
    "for probeset_id in tqdm(probeset_ids, total=len(probeset_ids)):\n",
    "    query = {\n",
    "        \"probesets__match\": {\n",
    "            'chip_name': placa_junio.chip_name,\n",
    "            'probeset_id': probeset_id\n",
    "        }\n",
    "    }\n",
    "    \n",
    "    if not VariantSheep.objects(**query):\n",
    "        missing += 1\n",
    "        \n",
    "print(f\"Missing {missing} SNPs of {len(probeset_ids)}\")"
   ]
  },
  {
   "cell_type": "markdown",
   "id": "a59c3f44-6396-4fcd-acd4-904fb4acc85f",
   "metadata": {},
   "source": [
    "Ok, for what I see all the SNPs except one can be found in database. How about sample names?"
   ]
  },
  {
   "cell_type": "code",
   "execution_count": 7,
   "id": "47692ac8-c718-4b9b-a538-3b980371509a",
   "metadata": {},
   "outputs": [
    {
     "data": {
      "text/plain": [
       "96"
      ]
     },
     "execution_count": 7,
     "metadata": {},
     "output_type": "execute_result"
    }
   ],
   "source": [
    "record = next(read_affymetrixRow(path))\n",
    "record.n_samples"
   ]
  },
  {
   "cell_type": "markdown",
   "id": "8d9f87ef-1495-4f45-92bd-7ec96d8b63b0",
   "metadata": {},
   "source": [
    "It seems that I have more samples than I have in metadata. Let's call metadata file and check if I could find those samples:"
   ]
  },
  {
   "cell_type": "code",
   "execution_count": 8,
   "id": "ceadf7e2-fca9-4750-90a2-b0f0de5e7bd8",
   "metadata": {},
   "outputs": [
    {
     "name": "stdout",
     "output_type": "stream",
     "text": [
      "Got 11 samples\n"
     ]
    },
    {
     "data": {
      "text/html": [
       "<div>\n",
       "<style scoped>\n",
       "    .dataframe tbody tr th:only-of-type {\n",
       "        vertical-align: middle;\n",
       "    }\n",
       "\n",
       "    .dataframe tbody tr th {\n",
       "        vertical-align: top;\n",
       "    }\n",
       "\n",
       "    .dataframe thead th {\n",
       "        text-align: right;\n",
       "    }\n",
       "</style>\n",
       "<table border=\"1\" class=\"dataframe\">\n",
       "  <thead>\n",
       "    <tr style=\"text-align: right;\">\n",
       "      <th></th>\n",
       "      <th>N</th>\n",
       "      <th>Lab_ID</th>\n",
       "      <th>Breed</th>\n",
       "      <th>Sex</th>\n",
       "      <th>Site</th>\n",
       "      <th>File</th>\n",
       "    </tr>\n",
       "  </thead>\n",
       "  <tbody>\n",
       "    <tr>\n",
       "      <th>94</th>\n",
       "      <td>1</td>\n",
       "      <td>20220323182</td>\n",
       "      <td>Creole</td>\n",
       "      <td>Female</td>\n",
       "      <td>INIA Las Brujas</td>\n",
       "      <td>Placa_Junio_recommended.txt</td>\n",
       "    </tr>\n",
       "    <tr>\n",
       "      <th>95</th>\n",
       "      <td>2</td>\n",
       "      <td>20220323183</td>\n",
       "      <td>Creole</td>\n",
       "      <td>Female</td>\n",
       "      <td>INIA Las Brujas</td>\n",
       "      <td>Placa_Junio_recommended.txt</td>\n",
       "    </tr>\n",
       "    <tr>\n",
       "      <th>96</th>\n",
       "      <td>3</td>\n",
       "      <td>20220323184</td>\n",
       "      <td>Creole</td>\n",
       "      <td>Male</td>\n",
       "      <td>INIA Las Brujas</td>\n",
       "      <td>Placa_Junio_recommended.txt</td>\n",
       "    </tr>\n",
       "    <tr>\n",
       "      <th>97</th>\n",
       "      <td>4</td>\n",
       "      <td>20220323185</td>\n",
       "      <td>Creole</td>\n",
       "      <td>Female</td>\n",
       "      <td>INIA Las Brujas</td>\n",
       "      <td>Placa_Junio_recommended.txt</td>\n",
       "    </tr>\n",
       "    <tr>\n",
       "      <th>98</th>\n",
       "      <td>5</td>\n",
       "      <td>20220323186</td>\n",
       "      <td>Creole</td>\n",
       "      <td>Female</td>\n",
       "      <td>INIA Las Brujas</td>\n",
       "      <td>Placa_Junio_recommended.txt</td>\n",
       "    </tr>\n",
       "    <tr>\n",
       "      <th>99</th>\n",
       "      <td>6</td>\n",
       "      <td>20220323187</td>\n",
       "      <td>Creole</td>\n",
       "      <td>Female</td>\n",
       "      <td>INIA Las Brujas</td>\n",
       "      <td>Placa_Junio_recommended.txt</td>\n",
       "    </tr>\n",
       "    <tr>\n",
       "      <th>100</th>\n",
       "      <td>7</td>\n",
       "      <td>20220323188</td>\n",
       "      <td>Creole</td>\n",
       "      <td>Female</td>\n",
       "      <td>INIA Las Brujas</td>\n",
       "      <td>Placa_Junio_recommended.txt</td>\n",
       "    </tr>\n",
       "    <tr>\n",
       "      <th>101</th>\n",
       "      <td>8</td>\n",
       "      <td>20220323189</td>\n",
       "      <td>Creole</td>\n",
       "      <td>Female</td>\n",
       "      <td>INIA Las Brujas</td>\n",
       "      <td>Placa_Junio_recommended.txt</td>\n",
       "    </tr>\n",
       "    <tr>\n",
       "      <th>102</th>\n",
       "      <td>9</td>\n",
       "      <td>20220323190</td>\n",
       "      <td>Creole</td>\n",
       "      <td>Male</td>\n",
       "      <td>INIA Las Brujas</td>\n",
       "      <td>Placa_Junio_recommended.txt</td>\n",
       "    </tr>\n",
       "    <tr>\n",
       "      <th>103</th>\n",
       "      <td>10</td>\n",
       "      <td>20220323191</td>\n",
       "      <td>Creole</td>\n",
       "      <td>Male</td>\n",
       "      <td>INIA Las Brujas</td>\n",
       "      <td>Placa_Junio_recommended.txt</td>\n",
       "    </tr>\n",
       "    <tr>\n",
       "      <th>104</th>\n",
       "      <td>11</td>\n",
       "      <td>20220323192</td>\n",
       "      <td>Creole</td>\n",
       "      <td>Male</td>\n",
       "      <td>INIA Las Brujas</td>\n",
       "      <td>Placa_Junio_recommended.txt</td>\n",
       "    </tr>\n",
       "  </tbody>\n",
       "</table>\n",
       "</div>"
      ],
      "text/plain": [
       "      N       Lab_ID   Breed     Sex             Site  \\\n",
       "94    1  20220323182  Creole  Female  INIA Las Brujas   \n",
       "95    2  20220323183  Creole  Female  INIA Las Brujas   \n",
       "96    3  20220323184  Creole    Male  INIA Las Brujas   \n",
       "97    4  20220323185  Creole  Female  INIA Las Brujas   \n",
       "98    5  20220323186  Creole  Female  INIA Las Brujas   \n",
       "99    6  20220323187  Creole  Female  INIA Las Brujas   \n",
       "100   7  20220323188  Creole  Female  INIA Las Brujas   \n",
       "101   8  20220323189  Creole  Female  INIA Las Brujas   \n",
       "102   9  20220323190  Creole    Male  INIA Las Brujas   \n",
       "103  10  20220323191  Creole    Male  INIA Las Brujas   \n",
       "104  11  20220323192  Creole    Male  INIA Las Brujas   \n",
       "\n",
       "                            File  \n",
       "94   Placa_Junio_recommended.txt  \n",
       "95   Placa_Junio_recommended.txt  \n",
       "96   Placa_Junio_recommended.txt  \n",
       "97   Placa_Junio_recommended.txt  \n",
       "98   Placa_Junio_recommended.txt  \n",
       "99   Placa_Junio_recommended.txt  \n",
       "100  Placa_Junio_recommended.txt  \n",
       "101  Placa_Junio_recommended.txt  \n",
       "102  Placa_Junio_recommended.txt  \n",
       "103  Placa_Junio_recommended.txt  \n",
       "104  Placa_Junio_recommended.txt  "
      ]
     },
     "execution_count": 8,
     "metadata": {},
     "output_type": "execute_result"
    }
   ],
   "source": [
    "creole_metadata = Dataset.objects.get(file=\"20220809_105_Creole_Samples_INIA_Uruguay.zip\")\n",
    "with open(creole_metadata.working_dir / \"20220809_105_Creole_Samples_INIA_Uruguay.xlsx\", \"rb\") as handle:\n",
    "    info = pd.read_excel(handle)\n",
    "placa_junio_metadata = info[info[\"File\"] == placa_junio.contents[0]]\n",
    "print(f\"Got {placa_junio_metadata.shape[0]} samples\")\n",
    "placa_junio_metadata"
   ]
  },
  {
   "cell_type": "markdown",
   "id": "1f68ab3c-39e4-4bb7-bf4d-5f12a8f02c96",
   "metadata": {},
   "source": [
    "Well, I have less *ids* than the samples I see in the datafile. Get *lab ids*:"
   ]
  },
  {
   "cell_type": "code",
   "execution_count": 9,
   "id": "dfeee955-185e-4719-b1b0-28b0c7d50d7a",
   "metadata": {},
   "outputs": [
    {
     "data": {
      "text/plain": [
       "['20220323182',\n",
       " '20220323183',\n",
       " '20220323184',\n",
       " '20220323185',\n",
       " '20220323186',\n",
       " '20220323187',\n",
       " '20220323188',\n",
       " '20220323189',\n",
       " '20220323190',\n",
       " '20220323191',\n",
       " '20220323192']"
      ]
     },
     "execution_count": 9,
     "metadata": {},
     "output_type": "execute_result"
    }
   ],
   "source": [
    "lab_ids = [str(id_) for id_ in placa_junio_metadata[\"Lab_ID\"].tolist()]\n",
    "lab_ids"
   ]
  },
  {
   "cell_type": "markdown",
   "id": "dc23c76c-5b7e-40e5-b233-615ccae9c430",
   "metadata": {},
   "source": [
    "And even samples names are different. I need to match the *file id* with the *lab id*:"
   ]
  },
  {
   "cell_type": "code",
   "execution_count": 10,
   "id": "a05b3684-ed72-4c12-a025-92dab84245ab",
   "metadata": {},
   "outputs": [],
   "source": [
    "lab2file_ids = collections.defaultdict(lambda: None)\n",
    "\n",
    "for lab_id in lab_ids:\n",
    "    for col in get_header(path):\n",
    "        if lab_id in col:\n",
    "            lab2file_ids[lab_id] = col"
   ]
  },
  {
   "cell_type": "markdown",
   "id": "bb2788f9-c614-45ce-ab76-227c9e486f99",
   "metadata": {},
   "source": [
    "Next, I need to track this column in my datatable:"
   ]
  },
  {
   "cell_type": "code",
   "execution_count": 11,
   "id": "d06611c7-f5a4-4f86-b529-5e7254044282",
   "metadata": {},
   "outputs": [],
   "source": [
    "info[\"id_column\"] = info[\"Lab_ID\"].apply(lambda lab_id: lab2file_ids[str(lab_id)])"
   ]
  },
  {
   "cell_type": "markdown",
   "id": "75786afb-bf72-41af-9efe-acb33cb5aa5c",
   "metadata": {},
   "source": [
    "Focus only on *placa junio* data:"
   ]
  },
  {
   "cell_type": "code",
   "execution_count": 12,
   "id": "0499cd19-a74f-4492-ae0c-970f3acd617a",
   "metadata": {},
   "outputs": [
    {
     "data": {
      "text/html": [
       "<div>\n",
       "<style scoped>\n",
       "    .dataframe tbody tr th:only-of-type {\n",
       "        vertical-align: middle;\n",
       "    }\n",
       "\n",
       "    .dataframe tbody tr th {\n",
       "        vertical-align: top;\n",
       "    }\n",
       "\n",
       "    .dataframe thead th {\n",
       "        text-align: right;\n",
       "    }\n",
       "</style>\n",
       "<table border=\"1\" class=\"dataframe\">\n",
       "  <thead>\n",
       "    <tr style=\"text-align: right;\">\n",
       "      <th></th>\n",
       "      <th>N</th>\n",
       "      <th>Lab_ID</th>\n",
       "      <th>Breed</th>\n",
       "      <th>Sex</th>\n",
       "      <th>Site</th>\n",
       "      <th>File</th>\n",
       "      <th>id_column</th>\n",
       "    </tr>\n",
       "  </thead>\n",
       "  <tbody>\n",
       "    <tr>\n",
       "      <th>94</th>\n",
       "      <td>1</td>\n",
       "      <td>20220323182</td>\n",
       "      <td>Creole</td>\n",
       "      <td>Female</td>\n",
       "      <td>INIA Las Brujas</td>\n",
       "      <td>Placa_Junio_recommended.txt</td>\n",
       "      <td>OP1010_20220323182.CEL_call_code</td>\n",
       "    </tr>\n",
       "    <tr>\n",
       "      <th>95</th>\n",
       "      <td>2</td>\n",
       "      <td>20220323183</td>\n",
       "      <td>Creole</td>\n",
       "      <td>Female</td>\n",
       "      <td>INIA Las Brujas</td>\n",
       "      <td>Placa_Junio_recommended.txt</td>\n",
       "      <td>OP1011_20220323183.CEL_call_code</td>\n",
       "    </tr>\n",
       "    <tr>\n",
       "      <th>96</th>\n",
       "      <td>3</td>\n",
       "      <td>20220323184</td>\n",
       "      <td>Creole</td>\n",
       "      <td>Male</td>\n",
       "      <td>INIA Las Brujas</td>\n",
       "      <td>Placa_Junio_recommended.txt</td>\n",
       "      <td>OP1012_20220323184.CEL_call_code</td>\n",
       "    </tr>\n",
       "    <tr>\n",
       "      <th>97</th>\n",
       "      <td>4</td>\n",
       "      <td>20220323185</td>\n",
       "      <td>Creole</td>\n",
       "      <td>Female</td>\n",
       "      <td>INIA Las Brujas</td>\n",
       "      <td>Placa_Junio_recommended.txt</td>\n",
       "      <td>OP1013_20220323185.CEL_call_code</td>\n",
       "    </tr>\n",
       "    <tr>\n",
       "      <th>98</th>\n",
       "      <td>5</td>\n",
       "      <td>20220323186</td>\n",
       "      <td>Creole</td>\n",
       "      <td>Female</td>\n",
       "      <td>INIA Las Brujas</td>\n",
       "      <td>Placa_Junio_recommended.txt</td>\n",
       "      <td>OP1014_20220323186.CEL_call_code</td>\n",
       "    </tr>\n",
       "    <tr>\n",
       "      <th>99</th>\n",
       "      <td>6</td>\n",
       "      <td>20220323187</td>\n",
       "      <td>Creole</td>\n",
       "      <td>Female</td>\n",
       "      <td>INIA Las Brujas</td>\n",
       "      <td>Placa_Junio_recommended.txt</td>\n",
       "      <td>OP1015_20220323187.CEL_call_code</td>\n",
       "    </tr>\n",
       "    <tr>\n",
       "      <th>100</th>\n",
       "      <td>7</td>\n",
       "      <td>20220323188</td>\n",
       "      <td>Creole</td>\n",
       "      <td>Female</td>\n",
       "      <td>INIA Las Brujas</td>\n",
       "      <td>Placa_Junio_recommended.txt</td>\n",
       "      <td>OP1016_20220323188.CEL_call_code</td>\n",
       "    </tr>\n",
       "    <tr>\n",
       "      <th>101</th>\n",
       "      <td>8</td>\n",
       "      <td>20220323189</td>\n",
       "      <td>Creole</td>\n",
       "      <td>Female</td>\n",
       "      <td>INIA Las Brujas</td>\n",
       "      <td>Placa_Junio_recommended.txt</td>\n",
       "      <td>OP1017_20220323189.CEL_call_code</td>\n",
       "    </tr>\n",
       "    <tr>\n",
       "      <th>102</th>\n",
       "      <td>9</td>\n",
       "      <td>20220323190</td>\n",
       "      <td>Creole</td>\n",
       "      <td>Male</td>\n",
       "      <td>INIA Las Brujas</td>\n",
       "      <td>Placa_Junio_recommended.txt</td>\n",
       "      <td>OP1018_20220323190.CEL_call_code</td>\n",
       "    </tr>\n",
       "    <tr>\n",
       "      <th>103</th>\n",
       "      <td>10</td>\n",
       "      <td>20220323191</td>\n",
       "      <td>Creole</td>\n",
       "      <td>Male</td>\n",
       "      <td>INIA Las Brujas</td>\n",
       "      <td>Placa_Junio_recommended.txt</td>\n",
       "      <td>OP1019_20220323191.CEL_call_code</td>\n",
       "    </tr>\n",
       "    <tr>\n",
       "      <th>104</th>\n",
       "      <td>11</td>\n",
       "      <td>20220323192</td>\n",
       "      <td>Creole</td>\n",
       "      <td>Male</td>\n",
       "      <td>INIA Las Brujas</td>\n",
       "      <td>Placa_Junio_recommended.txt</td>\n",
       "      <td>OP1020_20220323192.CEL_call_code</td>\n",
       "    </tr>\n",
       "  </tbody>\n",
       "</table>\n",
       "</div>"
      ],
      "text/plain": [
       "      N       Lab_ID   Breed     Sex             Site  \\\n",
       "94    1  20220323182  Creole  Female  INIA Las Brujas   \n",
       "95    2  20220323183  Creole  Female  INIA Las Brujas   \n",
       "96    3  20220323184  Creole    Male  INIA Las Brujas   \n",
       "97    4  20220323185  Creole  Female  INIA Las Brujas   \n",
       "98    5  20220323186  Creole  Female  INIA Las Brujas   \n",
       "99    6  20220323187  Creole  Female  INIA Las Brujas   \n",
       "100   7  20220323188  Creole  Female  INIA Las Brujas   \n",
       "101   8  20220323189  Creole  Female  INIA Las Brujas   \n",
       "102   9  20220323190  Creole    Male  INIA Las Brujas   \n",
       "103  10  20220323191  Creole    Male  INIA Las Brujas   \n",
       "104  11  20220323192  Creole    Male  INIA Las Brujas   \n",
       "\n",
       "                            File                         id_column  \n",
       "94   Placa_Junio_recommended.txt  OP1010_20220323182.CEL_call_code  \n",
       "95   Placa_Junio_recommended.txt  OP1011_20220323183.CEL_call_code  \n",
       "96   Placa_Junio_recommended.txt  OP1012_20220323184.CEL_call_code  \n",
       "97   Placa_Junio_recommended.txt  OP1013_20220323185.CEL_call_code  \n",
       "98   Placa_Junio_recommended.txt  OP1014_20220323186.CEL_call_code  \n",
       "99   Placa_Junio_recommended.txt  OP1015_20220323187.CEL_call_code  \n",
       "100  Placa_Junio_recommended.txt  OP1016_20220323188.CEL_call_code  \n",
       "101  Placa_Junio_recommended.txt  OP1017_20220323189.CEL_call_code  \n",
       "102  Placa_Junio_recommended.txt  OP1018_20220323190.CEL_call_code  \n",
       "103  Placa_Junio_recommended.txt  OP1019_20220323191.CEL_call_code  \n",
       "104  Placa_Junio_recommended.txt  OP1020_20220323192.CEL_call_code  "
      ]
     },
     "execution_count": 12,
     "metadata": {},
     "output_type": "execute_result"
    }
   ],
   "source": [
    "placa_junio_metadata = info[info[\"File\"] == placa_junio.contents[0]]\n",
    "placa_junio_metadata"
   ]
  },
  {
   "cell_type": "markdown",
   "id": "8f53d1bf-5cd9-4eee-804b-248517b169f4",
   "metadata": {},
   "source": [
    "Ok, I need to track this new column in metadata file."
   ]
  },
  {
   "cell_type": "code",
   "execution_count": 13,
   "id": "42e0d663-219b-4ece-a756-b6358d8bb792",
   "metadata": {},
   "outputs": [],
   "source": [
    "outfile = str(get_interim_dir() / \"placa_junio_metadata.xlsx\")\n",
    "placa_junio_metadata.to_excel(outfile, index=False)"
   ]
  },
  {
   "cell_type": "markdown",
   "id": "cc8e3094-b340-4296-b412-98f168fad641",
   "metadata": {},
   "source": [
    "This fixed metadata file will be placed in the archive. Let's explore the other datasets. I need also to define a new class in `src.features.plinkio` module to deal with this type of data files."
   ]
  },
  {
   "cell_type": "markdown",
   "id": "5d5c5ea9-d150-4c51-b50c-dfbf6f7e22f1",
   "metadata": {},
   "source": [
    "## OP829-924 INIA Abril\n",
    "Time for `OP829-924_INIA_Abril.zip` file:"
   ]
  },
  {
   "cell_type": "code",
   "execution_count": 14,
   "id": "438aa3b1-506c-41e3-be97-75c785f99730",
   "metadata": {},
   "outputs": [],
   "source": [
    "inia_abril = Dataset.objects.get(file=\"OP829-924_INIA_Abril.zip\")"
   ]
  },
  {
   "cell_type": "markdown",
   "id": "97dd1d40-33cf-4ef8-ab4d-01a99b6efba5",
   "metadata": {},
   "source": [
    "There's only one file in dataset, the file with the data:"
   ]
  },
  {
   "cell_type": "code",
   "execution_count": 15,
   "id": "8579ed11-22a4-48ff-a8ae-bba26bcad45e",
   "metadata": {},
   "outputs": [],
   "source": [
    "path = inia_abril.working_dir / inia_abril.contents[0]\n",
    "probeset_ids = [record.probeset_id for record in read_affymetrixRow(path)]"
   ]
  },
  {
   "cell_type": "markdown",
   "id": "6760b9a8-09bf-4c31-8a3b-9ab223dd21c0",
   "metadata": {},
   "source": [
    "Check if those probeset ids are in database:"
   ]
  },
  {
   "cell_type": "code",
   "execution_count": 16,
   "id": "98d8a47d-4f54-46f2-adb8-e4bd8163c990",
   "metadata": {},
   "outputs": [
    {
     "data": {
      "application/vnd.jupyter.widget-view+json": {
       "model_id": "d73407667fd140f5ab98233c4dd8290a",
       "version_major": 2,
       "version_minor": 0
      },
      "text/plain": [
       "  0%|          | 0/34327 [00:00<?, ?it/s]"
      ]
     },
     "metadata": {},
     "output_type": "display_data"
    },
    {
     "name": "stdout",
     "output_type": "stream",
     "text": [
      "Missing 0 SNPs of 34327\n"
     ]
    }
   ],
   "source": [
    "missing = 0\n",
    "\n",
    "for probeset_id in tqdm(probeset_ids, total=len(probeset_ids)):\n",
    "    query = {\n",
    "        \"probesets__match\": {\n",
    "            'chip_name': inia_abril.chip_name,\n",
    "            'probeset_id': probeset_id\n",
    "        }\n",
    "    }\n",
    "    \n",
    "    if not VariantSheep.objects(**query):\n",
    "        missing += 1\n",
    "        \n",
    "print(f\"Missing {missing} SNPs of {len(probeset_ids)}\")"
   ]
  },
  {
   "cell_type": "markdown",
   "id": "daee32d4-102d-420a-a8ec-be2281882ee8",
   "metadata": {},
   "source": [
    "Ok, for what I see all the SNPs can be found in database. However, I have less SNPs this time than the dataset before. How about sample names?"
   ]
  },
  {
   "cell_type": "code",
   "execution_count": 17,
   "id": "11687033-67ad-4cc5-a577-2f044565af71",
   "metadata": {},
   "outputs": [
    {
     "data": {
      "text/plain": [
       "96"
      ]
     },
     "execution_count": 17,
     "metadata": {},
     "output_type": "execute_result"
    }
   ],
   "source": [
    "record = next(read_affymetrixRow(path))\n",
    "record.n_samples"
   ]
  },
  {
   "cell_type": "markdown",
   "id": "30e4d85d-6c82-495f-b52d-aa855c6f1342",
   "metadata": {},
   "source": [
    "It seems that I have more samples than I have in metadata. Check in metadata info"
   ]
  },
  {
   "cell_type": "code",
   "execution_count": 18,
   "id": "7f762934-fb87-47e6-a86b-af5c98efad1a",
   "metadata": {},
   "outputs": [
    {
     "name": "stdout",
     "output_type": "stream",
     "text": [
      "Got 53 samples\n"
     ]
    },
    {
     "data": {
      "text/html": [
       "<div>\n",
       "<style scoped>\n",
       "    .dataframe tbody tr th:only-of-type {\n",
       "        vertical-align: middle;\n",
       "    }\n",
       "\n",
       "    .dataframe tbody tr th {\n",
       "        vertical-align: top;\n",
       "    }\n",
       "\n",
       "    .dataframe thead th {\n",
       "        text-align: right;\n",
       "    }\n",
       "</style>\n",
       "<table border=\"1\" class=\"dataframe\">\n",
       "  <thead>\n",
       "    <tr style=\"text-align: right;\">\n",
       "      <th></th>\n",
       "      <th>N</th>\n",
       "      <th>Lab_ID</th>\n",
       "      <th>Breed</th>\n",
       "      <th>Sex</th>\n",
       "      <th>Site</th>\n",
       "      <th>File</th>\n",
       "      <th>id_column</th>\n",
       "    </tr>\n",
       "  </thead>\n",
       "  <tbody>\n",
       "    <tr>\n",
       "      <th>41</th>\n",
       "      <td>1</td>\n",
       "      <td>20220323001</td>\n",
       "      <td>Creole</td>\n",
       "      <td>Female</td>\n",
       "      <td>INIA Las Brujas</td>\n",
       "      <td>OP829-924 INIA Abril.txt</td>\n",
       "      <td>None</td>\n",
       "    </tr>\n",
       "    <tr>\n",
       "      <th>42</th>\n",
       "      <td>2</td>\n",
       "      <td>20220323002</td>\n",
       "      <td>Creole</td>\n",
       "      <td>Male</td>\n",
       "      <td>INIA Las Brujas</td>\n",
       "      <td>OP829-924 INIA Abril.txt</td>\n",
       "      <td>None</td>\n",
       "    </tr>\n",
       "    <tr>\n",
       "      <th>43</th>\n",
       "      <td>3</td>\n",
       "      <td>20220323003</td>\n",
       "      <td>Creole</td>\n",
       "      <td>Female</td>\n",
       "      <td>INIA Las Brujas</td>\n",
       "      <td>OP829-924 INIA Abril.txt</td>\n",
       "      <td>None</td>\n",
       "    </tr>\n",
       "    <tr>\n",
       "      <th>44</th>\n",
       "      <td>4</td>\n",
       "      <td>20220323004</td>\n",
       "      <td>Creole</td>\n",
       "      <td>Female</td>\n",
       "      <td>INIA Las Brujas</td>\n",
       "      <td>OP829-924 INIA Abril.txt</td>\n",
       "      <td>None</td>\n",
       "    </tr>\n",
       "    <tr>\n",
       "      <th>45</th>\n",
       "      <td>5</td>\n",
       "      <td>20220323005</td>\n",
       "      <td>Creole</td>\n",
       "      <td>Male</td>\n",
       "      <td>INIA Las Brujas</td>\n",
       "      <td>OP829-924 INIA Abril.txt</td>\n",
       "      <td>None</td>\n",
       "    </tr>\n",
       "  </tbody>\n",
       "</table>\n",
       "</div>"
      ],
      "text/plain": [
       "    N       Lab_ID   Breed     Sex             Site                      File  \\\n",
       "41  1  20220323001  Creole  Female  INIA Las Brujas  OP829-924 INIA Abril.txt   \n",
       "42  2  20220323002  Creole    Male  INIA Las Brujas  OP829-924 INIA Abril.txt   \n",
       "43  3  20220323003  Creole  Female  INIA Las Brujas  OP829-924 INIA Abril.txt   \n",
       "44  4  20220323004  Creole  Female  INIA Las Brujas  OP829-924 INIA Abril.txt   \n",
       "45  5  20220323005  Creole    Male  INIA Las Brujas  OP829-924 INIA Abril.txt   \n",
       "\n",
       "   id_column  \n",
       "41      None  \n",
       "42      None  \n",
       "43      None  \n",
       "44      None  \n",
       "45      None  "
      ]
     },
     "execution_count": 18,
     "metadata": {},
     "output_type": "execute_result"
    }
   ],
   "source": [
    "inia_abril_metadata = info[info[\"File\"] == inia_abril.contents[0]]\n",
    "print(f\"Got {inia_abril_metadata.shape[0]} samples\")\n",
    "inia_abril_metadata.head()"
   ]
  },
  {
   "cell_type": "markdown",
   "id": "03029aca-b087-43f4-8a87-547c2f893586",
   "metadata": {},
   "source": [
    "Well, I have less *ids* than the samples I see in the datafile. Get *lab ids*:"
   ]
  },
  {
   "cell_type": "code",
   "execution_count": 19,
   "id": "15996f31-b630-45a7-8c4d-62a598e3988d",
   "metadata": {},
   "outputs": [],
   "source": [
    "lab_ids = [str(id_) for id_ in inia_abril_metadata[\"Lab_ID\"].tolist()]"
   ]
  },
  {
   "cell_type": "markdown",
   "id": "bb4f4382-c8b7-4582-85b4-e0ca68321f6a",
   "metadata": {},
   "source": [
    "And even samples names are different. I need to match the *file id* with the *lab id*:"
   ]
  },
  {
   "cell_type": "code",
   "execution_count": 20,
   "id": "1ae07916-19d0-4a96-a9fc-baaf5063b8af",
   "metadata": {},
   "outputs": [],
   "source": [
    "for lab_id in lab_ids:\n",
    "    for col in get_header(path):\n",
    "        if lab_id in col:\n",
    "            lab2file_ids[lab_id] = col"
   ]
  },
  {
   "cell_type": "markdown",
   "id": "34c402f7-d511-4773-8f8a-75d79529f252",
   "metadata": {},
   "source": [
    "Next, I need to track this column in my datatable:"
   ]
  },
  {
   "cell_type": "code",
   "execution_count": 21,
   "id": "a3509e5f-ae16-4332-a259-ff7286cd36f2",
   "metadata": {},
   "outputs": [],
   "source": [
    "info[\"id_column\"] = info[\"Lab_ID\"].apply(lambda lab_id: lab2file_ids[str(lab_id)])"
   ]
  },
  {
   "cell_type": "markdown",
   "id": "ab3e1aca-23d4-414a-93cf-276eef6fc638",
   "metadata": {},
   "source": [
    "Focus only on *inia abril* data:"
   ]
  },
  {
   "cell_type": "code",
   "execution_count": 22,
   "id": "fe044f91-a84a-4947-91d6-955d047c7549",
   "metadata": {},
   "outputs": [
    {
     "data": {
      "text/html": [
       "<div>\n",
       "<style scoped>\n",
       "    .dataframe tbody tr th:only-of-type {\n",
       "        vertical-align: middle;\n",
       "    }\n",
       "\n",
       "    .dataframe tbody tr th {\n",
       "        vertical-align: top;\n",
       "    }\n",
       "\n",
       "    .dataframe thead th {\n",
       "        text-align: right;\n",
       "    }\n",
       "</style>\n",
       "<table border=\"1\" class=\"dataframe\">\n",
       "  <thead>\n",
       "    <tr style=\"text-align: right;\">\n",
       "      <th></th>\n",
       "      <th>N</th>\n",
       "      <th>Lab_ID</th>\n",
       "      <th>Breed</th>\n",
       "      <th>Sex</th>\n",
       "      <th>Site</th>\n",
       "      <th>File</th>\n",
       "      <th>id_column</th>\n",
       "    </tr>\n",
       "  </thead>\n",
       "  <tbody>\n",
       "    <tr>\n",
       "      <th>41</th>\n",
       "      <td>1</td>\n",
       "      <td>20220323001</td>\n",
       "      <td>Creole</td>\n",
       "      <td>Female</td>\n",
       "      <td>INIA Las Brujas</td>\n",
       "      <td>OP829-924 INIA Abril.txt</td>\n",
       "      <td>OP829_20220323001.CEL_call_code</td>\n",
       "    </tr>\n",
       "    <tr>\n",
       "      <th>42</th>\n",
       "      <td>2</td>\n",
       "      <td>20220323002</td>\n",
       "      <td>Creole</td>\n",
       "      <td>Male</td>\n",
       "      <td>INIA Las Brujas</td>\n",
       "      <td>OP829-924 INIA Abril.txt</td>\n",
       "      <td>OP830_20220323002.CEL_call_code</td>\n",
       "    </tr>\n",
       "    <tr>\n",
       "      <th>43</th>\n",
       "      <td>3</td>\n",
       "      <td>20220323003</td>\n",
       "      <td>Creole</td>\n",
       "      <td>Female</td>\n",
       "      <td>INIA Las Brujas</td>\n",
       "      <td>OP829-924 INIA Abril.txt</td>\n",
       "      <td>OP831_20220323003.CEL_call_code</td>\n",
       "    </tr>\n",
       "    <tr>\n",
       "      <th>44</th>\n",
       "      <td>4</td>\n",
       "      <td>20220323004</td>\n",
       "      <td>Creole</td>\n",
       "      <td>Female</td>\n",
       "      <td>INIA Las Brujas</td>\n",
       "      <td>OP829-924 INIA Abril.txt</td>\n",
       "      <td>OP832_20220323004.CEL_call_code</td>\n",
       "    </tr>\n",
       "    <tr>\n",
       "      <th>45</th>\n",
       "      <td>5</td>\n",
       "      <td>20220323005</td>\n",
       "      <td>Creole</td>\n",
       "      <td>Male</td>\n",
       "      <td>INIA Las Brujas</td>\n",
       "      <td>OP829-924 INIA Abril.txt</td>\n",
       "      <td>OP833_20220323005.CEL_call_code</td>\n",
       "    </tr>\n",
       "  </tbody>\n",
       "</table>\n",
       "</div>"
      ],
      "text/plain": [
       "    N       Lab_ID   Breed     Sex             Site                      File  \\\n",
       "41  1  20220323001  Creole  Female  INIA Las Brujas  OP829-924 INIA Abril.txt   \n",
       "42  2  20220323002  Creole    Male  INIA Las Brujas  OP829-924 INIA Abril.txt   \n",
       "43  3  20220323003  Creole  Female  INIA Las Brujas  OP829-924 INIA Abril.txt   \n",
       "44  4  20220323004  Creole  Female  INIA Las Brujas  OP829-924 INIA Abril.txt   \n",
       "45  5  20220323005  Creole    Male  INIA Las Brujas  OP829-924 INIA Abril.txt   \n",
       "\n",
       "                          id_column  \n",
       "41  OP829_20220323001.CEL_call_code  \n",
       "42  OP830_20220323002.CEL_call_code  \n",
       "43  OP831_20220323003.CEL_call_code  \n",
       "44  OP832_20220323004.CEL_call_code  \n",
       "45  OP833_20220323005.CEL_call_code  "
      ]
     },
     "execution_count": 22,
     "metadata": {},
     "output_type": "execute_result"
    }
   ],
   "source": [
    "inia_abril_metadata = info[info[\"File\"] == inia_abril.contents[0]]\n",
    "inia_abril_metadata.head()"
   ]
  },
  {
   "cell_type": "markdown",
   "id": "043b0bcb-82d9-475d-9c43-7f4f6b8c6dc0",
   "metadata": {},
   "source": [
    "Ok, I need to track this new column in metadata file."
   ]
  },
  {
   "cell_type": "code",
   "execution_count": 23,
   "id": "380cde8f-1389-4c8c-acaa-21264754d3a1",
   "metadata": {},
   "outputs": [],
   "source": [
    "outfile = str(get_interim_dir() / \"inia_abril_metadata.xlsx\")\n",
    "inia_abril_metadata.to_excel(outfile, index=False)"
   ]
  },
  {
   "cell_type": "markdown",
   "id": "ebf9b5dd-ebbb-4553-b28f-e5872f8a0a9f",
   "metadata": {},
   "source": [
    "## Placas1_4_genotyping\n",
    "Finally the last dataset:"
   ]
  },
  {
   "cell_type": "code",
   "execution_count": 24,
   "id": "f2051eb7-a0c9-4d92-bbc0-fd13e6716c4c",
   "metadata": {},
   "outputs": [],
   "source": [
    "placas1_4 = Dataset.objects.get(file=\"Placas1_4_genotyping.zip\")"
   ]
  },
  {
   "cell_type": "markdown",
   "id": "33e45380-b4bc-4e08-9927-2cdb850d8372",
   "metadata": {},
   "source": [
    "There's only one file in dataset, the file with the data:"
   ]
  },
  {
   "cell_type": "code",
   "execution_count": 25,
   "id": "39ae639d-2f10-47f5-a66a-8192b7be541a",
   "metadata": {},
   "outputs": [],
   "source": [
    "path = placas1_4.working_dir / placas1_4.contents[0]\n",
    "probeset_ids = [record.probeset_id for record in read_affymetrixRow(path)]"
   ]
  },
  {
   "cell_type": "markdown",
   "id": "fd66a075-12ef-4ace-bda3-00ea291d3b7a",
   "metadata": {},
   "source": [
    "Check if those probeset ids are in database:"
   ]
  },
  {
   "cell_type": "code",
   "execution_count": 26,
   "id": "1cbdaf35-c9df-450b-9db8-51d8ba2a09a3",
   "metadata": {},
   "outputs": [
    {
     "data": {
      "application/vnd.jupyter.widget-view+json": {
       "model_id": "3a899e8823814e21b400f4a05ed4bd5c",
       "version_major": 2,
       "version_minor": 0
      },
      "text/plain": [
       "  0%|          | 0/46359 [00:00<?, ?it/s]"
      ]
     },
     "metadata": {},
     "output_type": "display_data"
    },
    {
     "name": "stdout",
     "output_type": "stream",
     "text": [
      "Missing 1 SNPs of 46359\n"
     ]
    }
   ],
   "source": [
    "missing = 0\n",
    "\n",
    "for probeset_id in tqdm(probeset_ids, total=len(probeset_ids)):\n",
    "    query = {\n",
    "        \"probesets__match\": {\n",
    "            'chip_name': placas1_4.chip_name,\n",
    "            'probeset_id': probeset_id\n",
    "        }\n",
    "    }\n",
    "    \n",
    "    if not VariantSheep.objects(**query):\n",
    "        missing += 1\n",
    "        \n",
    "print(f\"Missing {missing} SNPs of {len(probeset_ids)}\")"
   ]
  },
  {
   "cell_type": "markdown",
   "id": "fc99cf53-d89d-43a1-91e9-220e53ee0aea",
   "metadata": {},
   "source": [
    "Ok, all SNPs except one are in database. How about sample names?"
   ]
  },
  {
   "cell_type": "code",
   "execution_count": 27,
   "id": "6ad3f283-5d8c-4a3d-a582-3a42779280ef",
   "metadata": {},
   "outputs": [
    {
     "data": {
      "text/plain": [
       "380"
      ]
     },
     "execution_count": 27,
     "metadata": {},
     "output_type": "execute_result"
    }
   ],
   "source": [
    "record = next(read_affymetrixRow(path))\n",
    "record.n_samples"
   ]
  },
  {
   "cell_type": "markdown",
   "id": "f1913d91-6372-4865-a51a-0c73ac169dfc",
   "metadata": {},
   "source": [
    "It seems that I have more samples than I have in metadata. Check in metadata info"
   ]
  },
  {
   "cell_type": "code",
   "execution_count": 28,
   "id": "e2fe5ec7-77ff-438b-8843-7c24e6c6f85e",
   "metadata": {},
   "outputs": [
    {
     "name": "stdout",
     "output_type": "stream",
     "text": [
      "Got 41 samples\n"
     ]
    },
    {
     "data": {
      "text/html": [
       "<div>\n",
       "<style scoped>\n",
       "    .dataframe tbody tr th:only-of-type {\n",
       "        vertical-align: middle;\n",
       "    }\n",
       "\n",
       "    .dataframe tbody tr th {\n",
       "        vertical-align: top;\n",
       "    }\n",
       "\n",
       "    .dataframe thead th {\n",
       "        text-align: right;\n",
       "    }\n",
       "</style>\n",
       "<table border=\"1\" class=\"dataframe\">\n",
       "  <thead>\n",
       "    <tr style=\"text-align: right;\">\n",
       "      <th></th>\n",
       "      <th>N</th>\n",
       "      <th>Lab_ID</th>\n",
       "      <th>Breed</th>\n",
       "      <th>Sex</th>\n",
       "      <th>Site</th>\n",
       "      <th>File</th>\n",
       "      <th>id_column</th>\n",
       "    </tr>\n",
       "  </thead>\n",
       "  <tbody>\n",
       "    <tr>\n",
       "      <th>0</th>\n",
       "      <td>1</td>\n",
       "      <td>20210824028</td>\n",
       "      <td>Creole</td>\n",
       "      <td>Female</td>\n",
       "      <td>INIA Las Brujas</td>\n",
       "      <td>Placas1_4_genotyping.txt</td>\n",
       "      <td>None</td>\n",
       "    </tr>\n",
       "    <tr>\n",
       "      <th>1</th>\n",
       "      <td>2</td>\n",
       "      <td>20210824029</td>\n",
       "      <td>Creole</td>\n",
       "      <td>Female</td>\n",
       "      <td>INIA Las Brujas</td>\n",
       "      <td>Placas1_4_genotyping.txt</td>\n",
       "      <td>None</td>\n",
       "    </tr>\n",
       "    <tr>\n",
       "      <th>2</th>\n",
       "      <td>3</td>\n",
       "      <td>20210824030</td>\n",
       "      <td>Creole</td>\n",
       "      <td>Female</td>\n",
       "      <td>INIA Las Brujas</td>\n",
       "      <td>Placas1_4_genotyping.txt</td>\n",
       "      <td>None</td>\n",
       "    </tr>\n",
       "    <tr>\n",
       "      <th>3</th>\n",
       "      <td>4</td>\n",
       "      <td>20210824031</td>\n",
       "      <td>Creole</td>\n",
       "      <td>Female</td>\n",
       "      <td>INIA Las Brujas</td>\n",
       "      <td>Placas1_4_genotyping.txt</td>\n",
       "      <td>None</td>\n",
       "    </tr>\n",
       "    <tr>\n",
       "      <th>4</th>\n",
       "      <td>5</td>\n",
       "      <td>20210824032</td>\n",
       "      <td>Creole</td>\n",
       "      <td>Female</td>\n",
       "      <td>INIA Las Brujas</td>\n",
       "      <td>Placas1_4_genotyping.txt</td>\n",
       "      <td>None</td>\n",
       "    </tr>\n",
       "  </tbody>\n",
       "</table>\n",
       "</div>"
      ],
      "text/plain": [
       "   N       Lab_ID   Breed     Sex             Site                      File  \\\n",
       "0  1  20210824028  Creole  Female  INIA Las Brujas  Placas1_4_genotyping.txt   \n",
       "1  2  20210824029  Creole  Female  INIA Las Brujas  Placas1_4_genotyping.txt   \n",
       "2  3  20210824030  Creole  Female  INIA Las Brujas  Placas1_4_genotyping.txt   \n",
       "3  4  20210824031  Creole  Female  INIA Las Brujas  Placas1_4_genotyping.txt   \n",
       "4  5  20210824032  Creole  Female  INIA Las Brujas  Placas1_4_genotyping.txt   \n",
       "\n",
       "  id_column  \n",
       "0      None  \n",
       "1      None  \n",
       "2      None  \n",
       "3      None  \n",
       "4      None  "
      ]
     },
     "execution_count": 28,
     "metadata": {},
     "output_type": "execute_result"
    }
   ],
   "source": [
    "placas1_4_metadata = info[info[\"File\"] == placas1_4.contents[0]]\n",
    "print(f\"Got {placas1_4_metadata.shape[0]} samples\")\n",
    "placas1_4_metadata.head()"
   ]
  },
  {
   "cell_type": "markdown",
   "id": "c26c0383-4df9-423d-bbad-a5654ff04f08",
   "metadata": {},
   "source": [
    "Well, I have less *ids* than the samples I see in the datafile. Get *lab ids*:"
   ]
  },
  {
   "cell_type": "code",
   "execution_count": 29,
   "id": "905c31e8-8b55-43db-9386-803f9597c5df",
   "metadata": {},
   "outputs": [],
   "source": [
    "lab_ids = [str(id_) for id_ in placas1_4_metadata[\"Lab_ID\"].tolist()]"
   ]
  },
  {
   "cell_type": "markdown",
   "id": "8f03983f-3fc5-48c2-803d-687fc07526b5",
   "metadata": {},
   "source": [
    "And even samples names are different. I need to match the *file id* with the *lab id*:"
   ]
  },
  {
   "cell_type": "code",
   "execution_count": 30,
   "id": "2a38a91b-a372-4a24-a09e-40481a109e26",
   "metadata": {},
   "outputs": [],
   "source": [
    "for lab_id in lab_ids:\n",
    "    for col in get_header(path):\n",
    "        if lab_id in col:\n",
    "            lab2file_ids[lab_id] = col"
   ]
  },
  {
   "cell_type": "markdown",
   "id": "dc81c6f9-7e95-45f8-9a38-5819ec05fc79",
   "metadata": {},
   "source": [
    "Next, I need to track this column in my datatable:"
   ]
  },
  {
   "cell_type": "code",
   "execution_count": 31,
   "id": "353590fb-69e4-4407-8c60-b43c260294f9",
   "metadata": {},
   "outputs": [],
   "source": [
    "info[\"id_column\"] = info[\"Lab_ID\"].apply(lambda lab_id: lab2file_ids[str(lab_id)])"
   ]
  },
  {
   "cell_type": "markdown",
   "id": "2ef858e9-2cb3-4838-94a5-b717139a045f",
   "metadata": {},
   "source": [
    "Focus only on *placas 1-4* data:"
   ]
  },
  {
   "cell_type": "code",
   "execution_count": 32,
   "id": "a92d1c64-5221-4841-922d-efb960df3042",
   "metadata": {},
   "outputs": [
    {
     "data": {
      "text/html": [
       "<div>\n",
       "<style scoped>\n",
       "    .dataframe tbody tr th:only-of-type {\n",
       "        vertical-align: middle;\n",
       "    }\n",
       "\n",
       "    .dataframe tbody tr th {\n",
       "        vertical-align: top;\n",
       "    }\n",
       "\n",
       "    .dataframe thead th {\n",
       "        text-align: right;\n",
       "    }\n",
       "</style>\n",
       "<table border=\"1\" class=\"dataframe\">\n",
       "  <thead>\n",
       "    <tr style=\"text-align: right;\">\n",
       "      <th></th>\n",
       "      <th>N</th>\n",
       "      <th>Lab_ID</th>\n",
       "      <th>Breed</th>\n",
       "      <th>Sex</th>\n",
       "      <th>Site</th>\n",
       "      <th>File</th>\n",
       "      <th>id_column</th>\n",
       "    </tr>\n",
       "  </thead>\n",
       "  <tbody>\n",
       "    <tr>\n",
       "      <th>0</th>\n",
       "      <td>1</td>\n",
       "      <td>20210824028</td>\n",
       "      <td>Creole</td>\n",
       "      <td>Female</td>\n",
       "      <td>INIA Las Brujas</td>\n",
       "      <td>Placas1_4_genotyping.txt</td>\n",
       "      <td>OP258_20210824028.CEL_call_code</td>\n",
       "    </tr>\n",
       "    <tr>\n",
       "      <th>1</th>\n",
       "      <td>2</td>\n",
       "      <td>20210824029</td>\n",
       "      <td>Creole</td>\n",
       "      <td>Female</td>\n",
       "      <td>INIA Las Brujas</td>\n",
       "      <td>Placas1_4_genotyping.txt</td>\n",
       "      <td>OP259_20210824029.CEL_call_code</td>\n",
       "    </tr>\n",
       "    <tr>\n",
       "      <th>2</th>\n",
       "      <td>3</td>\n",
       "      <td>20210824030</td>\n",
       "      <td>Creole</td>\n",
       "      <td>Female</td>\n",
       "      <td>INIA Las Brujas</td>\n",
       "      <td>Placas1_4_genotyping.txt</td>\n",
       "      <td>OP260_20210824030.CEL_call_code</td>\n",
       "    </tr>\n",
       "    <tr>\n",
       "      <th>3</th>\n",
       "      <td>4</td>\n",
       "      <td>20210824031</td>\n",
       "      <td>Creole</td>\n",
       "      <td>Female</td>\n",
       "      <td>INIA Las Brujas</td>\n",
       "      <td>Placas1_4_genotyping.txt</td>\n",
       "      <td>OP261_20210824031.CEL_call_code</td>\n",
       "    </tr>\n",
       "    <tr>\n",
       "      <th>4</th>\n",
       "      <td>5</td>\n",
       "      <td>20210824032</td>\n",
       "      <td>Creole</td>\n",
       "      <td>Female</td>\n",
       "      <td>INIA Las Brujas</td>\n",
       "      <td>Placas1_4_genotyping.txt</td>\n",
       "      <td>OP262_20210824032.CEL_call_code</td>\n",
       "    </tr>\n",
       "  </tbody>\n",
       "</table>\n",
       "</div>"
      ],
      "text/plain": [
       "   N       Lab_ID   Breed     Sex             Site                      File  \\\n",
       "0  1  20210824028  Creole  Female  INIA Las Brujas  Placas1_4_genotyping.txt   \n",
       "1  2  20210824029  Creole  Female  INIA Las Brujas  Placas1_4_genotyping.txt   \n",
       "2  3  20210824030  Creole  Female  INIA Las Brujas  Placas1_4_genotyping.txt   \n",
       "3  4  20210824031  Creole  Female  INIA Las Brujas  Placas1_4_genotyping.txt   \n",
       "4  5  20210824032  Creole  Female  INIA Las Brujas  Placas1_4_genotyping.txt   \n",
       "\n",
       "                         id_column  \n",
       "0  OP258_20210824028.CEL_call_code  \n",
       "1  OP259_20210824029.CEL_call_code  \n",
       "2  OP260_20210824030.CEL_call_code  \n",
       "3  OP261_20210824031.CEL_call_code  \n",
       "4  OP262_20210824032.CEL_call_code  "
      ]
     },
     "execution_count": 32,
     "metadata": {},
     "output_type": "execute_result"
    }
   ],
   "source": [
    "placas1_4_metadata = info[info[\"File\"] == placas1_4.contents[0]]\n",
    "placas1_4_metadata.head()"
   ]
  },
  {
   "cell_type": "markdown",
   "id": "92c54acb-e543-40ad-b7b8-e86447531f9b",
   "metadata": {},
   "source": [
    "Ok, I need to track this new column in metadata file."
   ]
  },
  {
   "cell_type": "code",
   "execution_count": 33,
   "id": "3be9e5f4-84c4-44d2-acae-040f9f0800b0",
   "metadata": {},
   "outputs": [],
   "source": [
    "outfile = str(get_interim_dir() / \"placas1_4_metadata.xlsx\")\n",
    "placas1_4_metadata.to_excel(outfile, index=False)"
   ]
  },
  {
   "cell_type": "markdown",
   "id": "1247d659-30b8-4577-9105-47bb7ebfa843",
   "metadata": {},
   "source": [
    "This fixed metadata file will be placed in the archive"
   ]
  }
 ],
 "metadata": {
  "kernelspec": {
   "display_name": "Python 3",
   "language": "python",
   "name": "python3"
  },
  "language_info": {
   "codemirror_mode": {
    "name": "ipython",
    "version": 3
   },
   "file_extension": ".py",
   "mimetype": "text/x-python",
   "name": "python",
   "nbconvert_exporter": "python",
   "pygments_lexer": "ipython3",
   "version": "3.9.1"
  }
 },
 "nbformat": 4,
 "nbformat_minor": 5
}
