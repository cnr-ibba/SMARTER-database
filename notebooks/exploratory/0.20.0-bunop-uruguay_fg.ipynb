{
 "cells": [
  {
   "cell_type": "markdown",
   "id": "0fc76eff-f73b-420e-b2d7-7634edbf3408",
   "metadata": {},
   "source": [
    "# Uruguay Foreground data\n",
    "Pablo sent new foreground data to the smarter repository. They come from affymetrix chip, however this file format is totally new, seems to be an affymetrix report. Check data file and try to guess how to import this new data format"
   ]
  },
  {
   "cell_type": "code",
   "execution_count": 1,
   "id": "710595ab-a39e-45aa-8e78-3c6f796829be",
   "metadata": {},
   "outputs": [],
   "source": [
    "import csv\n",
    "import collections\n",
    "import pandas as pd\n",
    "\n",
    "from pathlib import Path\n",
    "from tqdm.notebook import tqdm\n",
    "\n",
    "from src.features.smarterdb import global_connection, Dataset, VariantSheep\n",
    "from src.features.utils import sanitize, text_or_gzip_open\n",
    "from src.features.affymetrix import skip_comments"
   ]
  },
  {
   "cell_type": "code",
   "execution_count": 2,
   "id": "1b8109ee-fb9d-4387-ab2f-57dc3647a564",
   "metadata": {},
   "outputs": [],
   "source": [
    "_ = global_connection()"
   ]
  },
  {
   "cell_type": "markdown",
   "id": "bc6d5ca2-647f-4a55-9e1b-94e1c32976b7",
   "metadata": {},
   "source": [
    "Some accessory functions:"
   ]
  },
  {
   "cell_type": "code",
   "execution_count": 3,
   "id": "de5b62b5-4e1f-4f53-9b23-3a0ab6e0e49c",
   "metadata": {},
   "outputs": [],
   "source": [
    "def find_duplicates(header):\n",
    "    \"\"\"Find duplicate columns in header. Returns index to remove\"\"\"\n",
    "    \n",
    "    to_remove = []\n",
    "    \n",
    "    # count columns and find duplicates\n",
    "    counts = collections.Counter(header)\n",
    "    duplicated_cols = [key for key, value in counts.items() if value > 1]\n",
    "    \n",
    "    # now iterate and get duplicates indexes\n",
    "    for duplicated in duplicated_cols:\n",
    "        # get all duplicated index\n",
    "        tmp = [i for i, col in enumerate(header) if col == duplicated]\n",
    "        \n",
    "        # track only from the 2nd occurrence\n",
    "        to_remove += tmp[1:]\n",
    "        \n",
    "    return to_remove\n",
    "\n",
    "\n",
    "def _search_in_header(header: list, term: str) -> list:\n",
    "    return list(\n",
    "        filter(\n",
    "            lambda record: record.startswith(term),\n",
    "            header\n",
    "        )\n",
    "    )\n",
    "\n",
    "\n",
    "def search_n_samples(header: list) -> int:\n",
    "    records = _search_in_header(header, \"##samples-per-snp=\")\n",
    "    n_samples = None\n",
    "\n",
    "    if records:\n",
    "        n_samples = records[0].split(\"=\")[1]\n",
    "        n_samples = int(n_samples)\n",
    "\n",
    "    return n_samples\n",
    "\n",
    "\n",
    "def search_n_snp(header: list) -> int:\n",
    "    records = _search_in_header(header, \"##snp-count=\")\n",
    "    n_snp = None\n",
    "\n",
    "    if records:\n",
    "        n_snp = records[0].split(\"=\")[1]\n",
    "        n_snp = int(n_snp)\n",
    "\n",
    "    return n_snp\n",
    "\n",
    "\n",
    "def read_affymetrixRow(path: Path, delimiter=\"\\t\"):\n",
    "    with text_or_gzip_open(path) as handle:\n",
    "        position, skipped = skip_comments(handle)\n",
    "\n",
    "        # go back to header section\n",
    "        handle.seek(position)\n",
    "\n",
    "        # now read csv file\n",
    "        reader = csv.reader(handle, delimiter=delimiter)\n",
    "\n",
    "        # get header\n",
    "        header = next(reader)\n",
    "\n",
    "        # sanitize column names\n",
    "        header = [sanitize(column) for column in header]\n",
    "        \n",
    "        # ok try to get n of samples and snps\n",
    "        n_samples = search_n_samples(skipped)\n",
    "        n_snps = search_n_snp(skipped)\n",
    "        \n",
    "        # add data to header\n",
    "        header.append(\"n_samples\")\n",
    "        header.append(\"n_snps\")\n",
    "\n",
    "        # find duplicated items\n",
    "        to_remove = sorted(find_duplicates(header), reverse=True)\n",
    "\n",
    "        # delete columns from header\n",
    "        for index in to_remove:\n",
    "            del header[index]\n",
    "\n",
    "        # define a namedtuple istance\n",
    "        Record = collections.namedtuple(\"Record\", header)\n",
    "\n",
    "        # get record and delete duplicate column\n",
    "        for record in reader:\n",
    "            # add records to data\n",
    "            record.append(n_samples)\n",
    "            record.append(n_snps)\n",
    "            \n",
    "            for index in to_remove:\n",
    "                del record[index]\n",
    "\n",
    "            record = Record._make(record)\n",
    "            yield record"
   ]
  },
  {
   "cell_type": "markdown",
   "id": "21966477-b4c6-441c-b5ff-5c6b0eac5004",
   "metadata": {},
   "source": [
    "## Placa_Junio_recommended\n",
    "Let's start from `Placa_Junio_recommended.zip` datafile:"
   ]
  },
  {
   "cell_type": "code",
   "execution_count": 4,
   "id": "d311107e-367a-4396-807e-7d2020ca4393",
   "metadata": {},
   "outputs": [],
   "source": [
    "placa_junio = Dataset.objects.get(file=\"Placa_Junio_recommended.zip\")"
   ]
  },
  {
   "cell_type": "code",
   "execution_count": 5,
   "id": "cbb1f1bf-fc73-4fda-bae9-7193e0e3025d",
   "metadata": {},
   "outputs": [
    {
     "name": "stderr",
     "output_type": "stream",
     "text": [
      "Skipping: ##batch-folder=X:\\Resultados genotipados\\ovinos INIA\\2022\\Analisis\\OP925-969 1046-1085 1010-1020\\Inia_Junio_RF_II\n",
      "Skipping: ##annotation-file=C:\\Users\\Public\\Documents\\AxiomAnalysisSuite\\Library\\Axiom_Ovi_Can_ovine_Analysis.r5\\Axiom_Ovi_Can.na35.r5.a6.annot.db\n",
      "Skipping: ##export-txt-file=X:\\Resultados genotipados\\ovinos INIA\\2022\\Resultados\\OP925-969 1046-1085 1010-1020\\Placa_Junio_recommended.txt\n",
      "Skipping: ##snp-count=49636\n",
      "Skipping: ##samples-per-snp=96\n"
     ]
    }
   ],
   "source": [
    "path = placa_junio.working_dir / placa_junio.contents[0]\n",
    "probeset_ids = [record.probeset_id for record in read_affymetrixRow(path)]"
   ]
  },
  {
   "cell_type": "markdown",
   "id": "73c158e8-e80f-4132-a822-65fedbcebff9",
   "metadata": {},
   "source": [
    "Check if those probeset ids are in database:"
   ]
  },
  {
   "cell_type": "code",
   "execution_count": 6,
   "id": "2b567098-58ca-4e53-9729-2974b43607da",
   "metadata": {},
   "outputs": [
    {
     "data": {
      "application/vnd.jupyter.widget-view+json": {
       "model_id": "b46085d17e3e42349fd8aaadceb9511f",
       "version_major": 2,
       "version_minor": 0
      },
      "text/plain": [
       "  0%|          | 0/49636 [00:00<?, ?it/s]"
      ]
     },
     "metadata": {},
     "output_type": "display_data"
    },
    {
     "name": "stdout",
     "output_type": "stream",
     "text": [
      "Missing 1 SNPs of 49636\n"
     ]
    }
   ],
   "source": [
    "missing = 0\n",
    "\n",
    "for probeset_id in tqdm(probeset_ids, total=len(probeset_ids)):\n",
    "    query = {\n",
    "        \"probesets__match\": {\n",
    "            'chip_name': \"AffymetrixAxiomOviCan\",\n",
    "            'probeset_id': probeset_id\n",
    "        }\n",
    "    }\n",
    "    \n",
    "    if not VariantSheep.objects(**query):\n",
    "        missing += 1\n",
    "        \n",
    "print(f\"Missing {missing} SNPs of {len(probeset_ids)}\")"
   ]
  },
  {
   "cell_type": "markdown",
   "id": "a59c3f44-6396-4fcd-acd4-904fb4acc85f",
   "metadata": {},
   "source": [
    "Ok, for what I see all the SNPs except one can be found in database. How about sample names?"
   ]
  },
  {
   "cell_type": "code",
   "execution_count": 7,
   "id": "47692ac8-c718-4b9b-a538-3b980371509a",
   "metadata": {},
   "outputs": [
    {
     "name": "stderr",
     "output_type": "stream",
     "text": [
      "Skipping: ##batch-folder=X:\\Resultados genotipados\\ovinos INIA\\2022\\Analisis\\OP925-969 1046-1085 1010-1020\\Inia_Junio_RF_II\n",
      "Skipping: ##annotation-file=C:\\Users\\Public\\Documents\\AxiomAnalysisSuite\\Library\\Axiom_Ovi_Can_ovine_Analysis.r5\\Axiom_Ovi_Can.na35.r5.a6.annot.db\n",
      "Skipping: ##export-txt-file=X:\\Resultados genotipados\\ovinos INIA\\2022\\Resultados\\OP925-969 1046-1085 1010-1020\\Placa_Junio_recommended.txt\n",
      "Skipping: ##snp-count=49636\n",
      "Skipping: ##samples-per-snp=96\n"
     ]
    },
    {
     "data": {
      "text/plain": [
       "96"
      ]
     },
     "execution_count": 7,
     "metadata": {},
     "output_type": "execute_result"
    }
   ],
   "source": [
    "record = next(read_affymetrixRow(path))\n",
    "record.n_samples"
   ]
  },
  {
   "cell_type": "markdown",
   "id": "8d9f87ef-1495-4f45-92bd-7ec96d8b63b0",
   "metadata": {},
   "source": [
    "It seems that I have more samples than I have in metadata. Let's call metadata file and check if I could find those samples:"
   ]
  },
  {
   "cell_type": "code",
   "execution_count": 8,
   "id": "ceadf7e2-fca9-4750-90a2-b0f0de5e7bd8",
   "metadata": {},
   "outputs": [
    {
     "name": "stdout",
     "output_type": "stream",
     "text": [
      "Got 11 samples\n"
     ]
    },
    {
     "data": {
      "text/html": [
       "<div>\n",
       "<style scoped>\n",
       "    .dataframe tbody tr th:only-of-type {\n",
       "        vertical-align: middle;\n",
       "    }\n",
       "\n",
       "    .dataframe tbody tr th {\n",
       "        vertical-align: top;\n",
       "    }\n",
       "\n",
       "    .dataframe thead th {\n",
       "        text-align: right;\n",
       "    }\n",
       "</style>\n",
       "<table border=\"1\" class=\"dataframe\">\n",
       "  <thead>\n",
       "    <tr style=\"text-align: right;\">\n",
       "      <th></th>\n",
       "      <th>N</th>\n",
       "      <th>Lab_ID</th>\n",
       "      <th>Breed</th>\n",
       "      <th>Sex</th>\n",
       "      <th>Site</th>\n",
       "      <th>File</th>\n",
       "    </tr>\n",
       "  </thead>\n",
       "  <tbody>\n",
       "    <tr>\n",
       "      <th>94</th>\n",
       "      <td>1</td>\n",
       "      <td>20220323182</td>\n",
       "      <td>Creole</td>\n",
       "      <td>Female</td>\n",
       "      <td>INIA Las Brujas</td>\n",
       "      <td>Placa_Junio_recommended.txt</td>\n",
       "    </tr>\n",
       "    <tr>\n",
       "      <th>95</th>\n",
       "      <td>2</td>\n",
       "      <td>20220323183</td>\n",
       "      <td>Creole</td>\n",
       "      <td>Female</td>\n",
       "      <td>INIA Las Brujas</td>\n",
       "      <td>Placa_Junio_recommended.txt</td>\n",
       "    </tr>\n",
       "    <tr>\n",
       "      <th>96</th>\n",
       "      <td>3</td>\n",
       "      <td>20220323184</td>\n",
       "      <td>Creole</td>\n",
       "      <td>Male</td>\n",
       "      <td>INIA Las Brujas</td>\n",
       "      <td>Placa_Junio_recommended.txt</td>\n",
       "    </tr>\n",
       "    <tr>\n",
       "      <th>97</th>\n",
       "      <td>4</td>\n",
       "      <td>20220323185</td>\n",
       "      <td>Creole</td>\n",
       "      <td>Female</td>\n",
       "      <td>INIA Las Brujas</td>\n",
       "      <td>Placa_Junio_recommended.txt</td>\n",
       "    </tr>\n",
       "    <tr>\n",
       "      <th>98</th>\n",
       "      <td>5</td>\n",
       "      <td>20220323186</td>\n",
       "      <td>Creole</td>\n",
       "      <td>Female</td>\n",
       "      <td>INIA Las Brujas</td>\n",
       "      <td>Placa_Junio_recommended.txt</td>\n",
       "    </tr>\n",
       "    <tr>\n",
       "      <th>99</th>\n",
       "      <td>6</td>\n",
       "      <td>20220323187</td>\n",
       "      <td>Creole</td>\n",
       "      <td>Female</td>\n",
       "      <td>INIA Las Brujas</td>\n",
       "      <td>Placa_Junio_recommended.txt</td>\n",
       "    </tr>\n",
       "    <tr>\n",
       "      <th>100</th>\n",
       "      <td>7</td>\n",
       "      <td>20220323188</td>\n",
       "      <td>Creole</td>\n",
       "      <td>Female</td>\n",
       "      <td>INIA Las Brujas</td>\n",
       "      <td>Placa_Junio_recommended.txt</td>\n",
       "    </tr>\n",
       "    <tr>\n",
       "      <th>101</th>\n",
       "      <td>8</td>\n",
       "      <td>20220323189</td>\n",
       "      <td>Creole</td>\n",
       "      <td>Female</td>\n",
       "      <td>INIA Las Brujas</td>\n",
       "      <td>Placa_Junio_recommended.txt</td>\n",
       "    </tr>\n",
       "    <tr>\n",
       "      <th>102</th>\n",
       "      <td>9</td>\n",
       "      <td>20220323190</td>\n",
       "      <td>Creole</td>\n",
       "      <td>Male</td>\n",
       "      <td>INIA Las Brujas</td>\n",
       "      <td>Placa_Junio_recommended.txt</td>\n",
       "    </tr>\n",
       "    <tr>\n",
       "      <th>103</th>\n",
       "      <td>10</td>\n",
       "      <td>20220323191</td>\n",
       "      <td>Creole</td>\n",
       "      <td>Male</td>\n",
       "      <td>INIA Las Brujas</td>\n",
       "      <td>Placa_Junio_recommended.txt</td>\n",
       "    </tr>\n",
       "    <tr>\n",
       "      <th>104</th>\n",
       "      <td>11</td>\n",
       "      <td>20220323192</td>\n",
       "      <td>Creole</td>\n",
       "      <td>Male</td>\n",
       "      <td>INIA Las Brujas</td>\n",
       "      <td>Placa_Junio_recommended.txt</td>\n",
       "    </tr>\n",
       "  </tbody>\n",
       "</table>\n",
       "</div>"
      ],
      "text/plain": [
       "      N       Lab_ID   Breed     Sex             Site  \\\n",
       "94    1  20220323182  Creole  Female  INIA Las Brujas   \n",
       "95    2  20220323183  Creole  Female  INIA Las Brujas   \n",
       "96    3  20220323184  Creole    Male  INIA Las Brujas   \n",
       "97    4  20220323185  Creole  Female  INIA Las Brujas   \n",
       "98    5  20220323186  Creole  Female  INIA Las Brujas   \n",
       "99    6  20220323187  Creole  Female  INIA Las Brujas   \n",
       "100   7  20220323188  Creole  Female  INIA Las Brujas   \n",
       "101   8  20220323189  Creole  Female  INIA Las Brujas   \n",
       "102   9  20220323190  Creole    Male  INIA Las Brujas   \n",
       "103  10  20220323191  Creole    Male  INIA Las Brujas   \n",
       "104  11  20220323192  Creole    Male  INIA Las Brujas   \n",
       "\n",
       "                            File  \n",
       "94   Placa_Junio_recommended.txt  \n",
       "95   Placa_Junio_recommended.txt  \n",
       "96   Placa_Junio_recommended.txt  \n",
       "97   Placa_Junio_recommended.txt  \n",
       "98   Placa_Junio_recommended.txt  \n",
       "99   Placa_Junio_recommended.txt  \n",
       "100  Placa_Junio_recommended.txt  \n",
       "101  Placa_Junio_recommended.txt  \n",
       "102  Placa_Junio_recommended.txt  \n",
       "103  Placa_Junio_recommended.txt  \n",
       "104  Placa_Junio_recommended.txt  "
      ]
     },
     "execution_count": 8,
     "metadata": {},
     "output_type": "execute_result"
    }
   ],
   "source": [
    "creole_metadata = Dataset.objects.get(file=\"20220809_105_Creole_Samples_INIA_Uruguay.zip\")\n",
    "with open(creole_metadata.working_dir / \"20220809_105_Creole_Samples_INIA_Uruguay.xlsx\", \"rb\") as handle:\n",
    "    info = pd.read_excel(handle)\n",
    "placa_junio_metadata = info[info[\"File\"] == \"Placa_Junio_recommended.txt\"]\n",
    "print(f\"Got {placa_junio_metadata.shape[0]} samples\")\n",
    "placa_junio_metadata"
   ]
  },
  {
   "cell_type": "markdown",
   "id": "1f68ab3c-39e4-4bb7-bf4d-5f12a8f02c96",
   "metadata": {},
   "source": [
    "Well, I have less *ids* than the samples I see in the datafile. Get *lab ids*:"
   ]
  },
  {
   "cell_type": "code",
   "execution_count": 9,
   "id": "dfeee955-185e-4719-b1b0-28b0c7d50d7a",
   "metadata": {},
   "outputs": [
    {
     "data": {
      "text/plain": [
       "['20220323182',\n",
       " '20220323183',\n",
       " '20220323184',\n",
       " '20220323185',\n",
       " '20220323186',\n",
       " '20220323187',\n",
       " '20220323188',\n",
       " '20220323189',\n",
       " '20220323190',\n",
       " '20220323191',\n",
       " '20220323192']"
      ]
     },
     "execution_count": 9,
     "metadata": {},
     "output_type": "execute_result"
    }
   ],
   "source": [
    "lab_ids = [str(id_) for id_ in placa_junio_metadata[\"Lab_ID\"].tolist()]\n",
    "lab_ids"
   ]
  },
  {
   "cell_type": "markdown",
   "id": "dc23c76c-5b7e-40e5-b233-615ccae9c430",
   "metadata": {},
   "source": [
    "And even samples names are different. I need to match the *file id* with the *lab id*:"
   ]
  },
  {
   "cell_type": "code",
   "execution_count": 10,
   "id": "a05b3684-ed72-4c12-a025-92dab84245ab",
   "metadata": {},
   "outputs": [],
   "source": [
    "lab2file_ids = collections.defaultdict(lambda: None)\n",
    "\n",
    "for lab_id in lab_ids:\n",
    "    for col in record._fields:\n",
    "        if lab_id in col:\n",
    "            lab2file_ids[lab_id] = col"
   ]
  },
  {
   "cell_type": "markdown",
   "id": "bb2788f9-c614-45ce-ab76-227c9e486f99",
   "metadata": {},
   "source": [
    "Next, I need to track this column in my datatable:"
   ]
  },
  {
   "cell_type": "code",
   "execution_count": 11,
   "id": "d06611c7-f5a4-4f86-b529-5e7254044282",
   "metadata": {},
   "outputs": [],
   "source": [
    "info[\"id_column\"] = info[\"Lab_ID\"].apply(lambda lab_id: lab2file_ids[str(lab_id)])"
   ]
  },
  {
   "cell_type": "markdown",
   "id": "75786afb-bf72-41af-9efe-acb33cb5aa5c",
   "metadata": {},
   "source": [
    "Focus only on *placa junio* data:"
   ]
  },
  {
   "cell_type": "code",
   "execution_count": 12,
   "id": "0499cd19-a74f-4492-ae0c-970f3acd617a",
   "metadata": {},
   "outputs": [
    {
     "data": {
      "text/html": [
       "<div>\n",
       "<style scoped>\n",
       "    .dataframe tbody tr th:only-of-type {\n",
       "        vertical-align: middle;\n",
       "    }\n",
       "\n",
       "    .dataframe tbody tr th {\n",
       "        vertical-align: top;\n",
       "    }\n",
       "\n",
       "    .dataframe thead th {\n",
       "        text-align: right;\n",
       "    }\n",
       "</style>\n",
       "<table border=\"1\" class=\"dataframe\">\n",
       "  <thead>\n",
       "    <tr style=\"text-align: right;\">\n",
       "      <th></th>\n",
       "      <th>N</th>\n",
       "      <th>Lab_ID</th>\n",
       "      <th>Breed</th>\n",
       "      <th>Sex</th>\n",
       "      <th>Site</th>\n",
       "      <th>File</th>\n",
       "      <th>id_column</th>\n",
       "    </tr>\n",
       "  </thead>\n",
       "  <tbody>\n",
       "    <tr>\n",
       "      <th>94</th>\n",
       "      <td>1</td>\n",
       "      <td>20220323182</td>\n",
       "      <td>Creole</td>\n",
       "      <td>Female</td>\n",
       "      <td>INIA Las Brujas</td>\n",
       "      <td>Placa_Junio_recommended.txt</td>\n",
       "      <td>op1010_20220323182_cel_call_code</td>\n",
       "    </tr>\n",
       "    <tr>\n",
       "      <th>95</th>\n",
       "      <td>2</td>\n",
       "      <td>20220323183</td>\n",
       "      <td>Creole</td>\n",
       "      <td>Female</td>\n",
       "      <td>INIA Las Brujas</td>\n",
       "      <td>Placa_Junio_recommended.txt</td>\n",
       "      <td>op1011_20220323183_cel_call_code</td>\n",
       "    </tr>\n",
       "    <tr>\n",
       "      <th>96</th>\n",
       "      <td>3</td>\n",
       "      <td>20220323184</td>\n",
       "      <td>Creole</td>\n",
       "      <td>Male</td>\n",
       "      <td>INIA Las Brujas</td>\n",
       "      <td>Placa_Junio_recommended.txt</td>\n",
       "      <td>op1012_20220323184_cel_call_code</td>\n",
       "    </tr>\n",
       "    <tr>\n",
       "      <th>97</th>\n",
       "      <td>4</td>\n",
       "      <td>20220323185</td>\n",
       "      <td>Creole</td>\n",
       "      <td>Female</td>\n",
       "      <td>INIA Las Brujas</td>\n",
       "      <td>Placa_Junio_recommended.txt</td>\n",
       "      <td>op1013_20220323185_cel_call_code</td>\n",
       "    </tr>\n",
       "    <tr>\n",
       "      <th>98</th>\n",
       "      <td>5</td>\n",
       "      <td>20220323186</td>\n",
       "      <td>Creole</td>\n",
       "      <td>Female</td>\n",
       "      <td>INIA Las Brujas</td>\n",
       "      <td>Placa_Junio_recommended.txt</td>\n",
       "      <td>op1014_20220323186_cel_call_code</td>\n",
       "    </tr>\n",
       "    <tr>\n",
       "      <th>99</th>\n",
       "      <td>6</td>\n",
       "      <td>20220323187</td>\n",
       "      <td>Creole</td>\n",
       "      <td>Female</td>\n",
       "      <td>INIA Las Brujas</td>\n",
       "      <td>Placa_Junio_recommended.txt</td>\n",
       "      <td>op1015_20220323187_cel_call_code</td>\n",
       "    </tr>\n",
       "    <tr>\n",
       "      <th>100</th>\n",
       "      <td>7</td>\n",
       "      <td>20220323188</td>\n",
       "      <td>Creole</td>\n",
       "      <td>Female</td>\n",
       "      <td>INIA Las Brujas</td>\n",
       "      <td>Placa_Junio_recommended.txt</td>\n",
       "      <td>op1016_20220323188_cel_call_code</td>\n",
       "    </tr>\n",
       "    <tr>\n",
       "      <th>101</th>\n",
       "      <td>8</td>\n",
       "      <td>20220323189</td>\n",
       "      <td>Creole</td>\n",
       "      <td>Female</td>\n",
       "      <td>INIA Las Brujas</td>\n",
       "      <td>Placa_Junio_recommended.txt</td>\n",
       "      <td>op1017_20220323189_cel_call_code</td>\n",
       "    </tr>\n",
       "    <tr>\n",
       "      <th>102</th>\n",
       "      <td>9</td>\n",
       "      <td>20220323190</td>\n",
       "      <td>Creole</td>\n",
       "      <td>Male</td>\n",
       "      <td>INIA Las Brujas</td>\n",
       "      <td>Placa_Junio_recommended.txt</td>\n",
       "      <td>op1018_20220323190_cel_call_code</td>\n",
       "    </tr>\n",
       "    <tr>\n",
       "      <th>103</th>\n",
       "      <td>10</td>\n",
       "      <td>20220323191</td>\n",
       "      <td>Creole</td>\n",
       "      <td>Male</td>\n",
       "      <td>INIA Las Brujas</td>\n",
       "      <td>Placa_Junio_recommended.txt</td>\n",
       "      <td>op1019_20220323191_cel_call_code</td>\n",
       "    </tr>\n",
       "    <tr>\n",
       "      <th>104</th>\n",
       "      <td>11</td>\n",
       "      <td>20220323192</td>\n",
       "      <td>Creole</td>\n",
       "      <td>Male</td>\n",
       "      <td>INIA Las Brujas</td>\n",
       "      <td>Placa_Junio_recommended.txt</td>\n",
       "      <td>op1020_20220323192_cel_call_code</td>\n",
       "    </tr>\n",
       "  </tbody>\n",
       "</table>\n",
       "</div>"
      ],
      "text/plain": [
       "      N       Lab_ID   Breed     Sex             Site  \\\n",
       "94    1  20220323182  Creole  Female  INIA Las Brujas   \n",
       "95    2  20220323183  Creole  Female  INIA Las Brujas   \n",
       "96    3  20220323184  Creole    Male  INIA Las Brujas   \n",
       "97    4  20220323185  Creole  Female  INIA Las Brujas   \n",
       "98    5  20220323186  Creole  Female  INIA Las Brujas   \n",
       "99    6  20220323187  Creole  Female  INIA Las Brujas   \n",
       "100   7  20220323188  Creole  Female  INIA Las Brujas   \n",
       "101   8  20220323189  Creole  Female  INIA Las Brujas   \n",
       "102   9  20220323190  Creole    Male  INIA Las Brujas   \n",
       "103  10  20220323191  Creole    Male  INIA Las Brujas   \n",
       "104  11  20220323192  Creole    Male  INIA Las Brujas   \n",
       "\n",
       "                            File                         id_column  \n",
       "94   Placa_Junio_recommended.txt  op1010_20220323182_cel_call_code  \n",
       "95   Placa_Junio_recommended.txt  op1011_20220323183_cel_call_code  \n",
       "96   Placa_Junio_recommended.txt  op1012_20220323184_cel_call_code  \n",
       "97   Placa_Junio_recommended.txt  op1013_20220323185_cel_call_code  \n",
       "98   Placa_Junio_recommended.txt  op1014_20220323186_cel_call_code  \n",
       "99   Placa_Junio_recommended.txt  op1015_20220323187_cel_call_code  \n",
       "100  Placa_Junio_recommended.txt  op1016_20220323188_cel_call_code  \n",
       "101  Placa_Junio_recommended.txt  op1017_20220323189_cel_call_code  \n",
       "102  Placa_Junio_recommended.txt  op1018_20220323190_cel_call_code  \n",
       "103  Placa_Junio_recommended.txt  op1019_20220323191_cel_call_code  \n",
       "104  Placa_Junio_recommended.txt  op1020_20220323192_cel_call_code  "
      ]
     },
     "execution_count": 12,
     "metadata": {},
     "output_type": "execute_result"
    }
   ],
   "source": [
    "placa_junio_metadata = info[info[\"File\"] == \"Placa_Junio_recommended.txt\"]\n",
    "placa_junio_metadata"
   ]
  },
  {
   "cell_type": "code",
   "execution_count": null,
   "id": "ae2cede6-fabf-4ccd-a0ac-8879c35496d1",
   "metadata": {},
   "outputs": [],
   "source": []
  }
 ],
 "metadata": {
  "kernelspec": {
   "display_name": "Python 3",
   "language": "python",
   "name": "python3"
  },
  "language_info": {
   "codemirror_mode": {
    "name": "ipython",
    "version": 3
   },
   "file_extension": ".py",
   "mimetype": "text/x-python",
   "name": "python",
   "nbconvert_exporter": "python",
   "pygments_lexer": "ipython3",
   "version": "3.9.1"
  }
 },
 "nbformat": 4,
 "nbformat_minor": 5
}
