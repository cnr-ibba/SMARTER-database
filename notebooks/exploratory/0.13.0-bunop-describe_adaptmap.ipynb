{
 "cells": [
  {
   "cell_type": "markdown",
   "id": "major-steps",
   "metadata": {},
   "source": [
    "# ADAPTmap_genotypeTOP_20161201\n",
    "Try to describe `ADAPTmap_genotypeTOP_20161201.zip` data files. This dataset is paired with `ADAPTmap_phenotype_20161201.zip` dataset"
   ]
  },
  {
   "cell_type": "code",
   "execution_count": 1,
   "id": "successful-domestic",
   "metadata": {},
   "outputs": [],
   "source": [
    "import pandas as pd\n",
    "from plinkio import plinkfile\n",
    "\n",
    "from src.features.smarterdb import global_connection, Dataset\n",
    "from src.data.common import pandas_open"
   ]
  },
  {
   "cell_type": "code",
   "execution_count": 2,
   "id": "thrown-baker",
   "metadata": {},
   "outputs": [
    {
     "data": {
      "text/plain": [
       "MongoClient(host=['localhost:27017'], document_class=dict, tz_aware=False, connect=True, read_preference=Primary())"
      ]
     },
     "execution_count": 2,
     "metadata": {},
     "output_type": "execute_result"
    }
   ],
   "source": [
    "global_connection()"
   ]
  },
  {
   "cell_type": "code",
   "execution_count": 3,
   "id": "offensive-transportation",
   "metadata": {},
   "outputs": [],
   "source": [
    "geno_dataset = Dataset.objects.get(file=\"ADAPTmap_genotypeTOP_20161201.zip\")\n",
    "phen_dataset = Dataset.objects.get(file=\"ADAPTmap_phenotype_20161201.zip\")"
   ]
  },
  {
   "cell_type": "code",
   "execution_count": 4,
   "id": "inclusive-integration",
   "metadata": {},
   "outputs": [
    {
     "name": "stdout",
     "output_type": "stream",
     "text": [
      "ADAPTmap_genotypeTOP_20161201/\n",
      "ADAPTmap_genotypeTOP_20161201/ADAPTmap_Breeds_20161201.csv\n",
      "ADAPTmap_genotypeTOP_20161201/ADAPTmap_Breeds_20161201_fix.csv\n",
      "ADAPTmap_genotypeTOP_20161201/binary_fileset/\n",
      "ADAPTmap_genotypeTOP_20161201/binary_fileset/ADAPTmap_genotypeTOP_20161201.bed\n",
      "ADAPTmap_genotypeTOP_20161201/binary_fileset/ADAPTmap_genotypeTOP_20161201.bim\n",
      "ADAPTmap_genotypeTOP_20161201/binary_fileset/ADAPTmap_genotypeTOP_20161201.fam\n",
      "ADAPTmap_genotypeTOP_20161201/binary_fileset/ADAPTmap_genotypeTOP_20161201.log\n",
      "ADAPTmap_genotypeTOP_20161201/binary_fileset/ADAPTmap_genotypeTOP_20161201.nosex\n",
      "ADAPTmap_phenotype_20161201/\n",
      "ADAPTmap_phenotype_20161201/ADAPTmap_InfoSample_20161201.csv\n",
      "ADAPTmap_phenotype_20161201/adaptmap_phenotypes_by_breed.xlsx\n"
     ]
    }
   ],
   "source": [
    "print(\"\\n\".join(geno_dataset.contents))\n",
    "print(\"\\n\".join(phen_dataset.contents))"
   ]
  },
  {
   "cell_type": "markdown",
   "id": "conditional-block",
   "metadata": {},
   "source": [
    "Data and metadata are splitted in two datasets. Moreover, by investigating on Adaptmap metadata (from ADAPTMAP project), I found that the same breed could be sampled in different countries, so is not possible to upload breed and aliases as I did until now. Take for example `ALP` breed for example:"
   ]
  },
  {
   "cell_type": "code",
   "execution_count": 5,
   "id": "anonymous-america",
   "metadata": {},
   "outputs": [
    {
     "data": {
      "text/plain": [
       "Breed_code  Sampling_Country\n",
       "ALP         FRANCE               52\n",
       "            ITALY               160\n",
       "            SWITZERLAND          67\n",
       "dtype: int64"
      ]
     },
     "execution_count": 5,
     "metadata": {},
     "output_type": "execute_result"
    }
   ],
   "source": [
    "datapath = phen_dataset.working_dir / \"ADAPTmap_phenotype_20161201/ADAPTmap_InfoSample_20161201.csv\"\n",
    "data = pandas_open(datapath)\n",
    "subset = data.loc[data['Breed_code']=='ALP', ['Breed_code', 'Sampling_Country']]\n",
    "subset.groupby(['Breed_code', 'Sampling_Country']).size()"
   ]
  },
  {
   "cell_type": "markdown",
   "id": "cutting-wilson",
   "metadata": {},
   "source": [
    "This breed in particoular was samples in three different countries, `ITALY`, `SWITZERLAND`, `FRANCE`"
   ]
  },
  {
   "cell_type": "markdown",
   "id": "seven-rough",
   "metadata": {},
   "source": [
    "How about the genotype files?"
   ]
  },
  {
   "cell_type": "code",
   "execution_count": 6,
   "id": "dynamic-hawaiian",
   "metadata": {},
   "outputs": [],
   "source": [
    "plink_path = geno_dataset.working_dir / \"ADAPTmap_genotypeTOP_20161201/binary_fileset/ADAPTmap_genotypeTOP_20161201\"\n",
    "plink_file = plinkfile.open(str(plink_path))\n",
    "sample_list = plink_file.get_samples()\n",
    "locus_list = plink_file.get_loci()"
   ]
  },
  {
   "cell_type": "markdown",
   "id": "concrete-player",
   "metadata": {},
   "source": [
    "Ok, try to get `ALP` samples, for example and get information on them"
   ]
  },
  {
   "cell_type": "code",
   "execution_count": 7,
   "id": "auburn-italic",
   "metadata": {},
   "outputs": [],
   "source": [
    "alp_samples = [sample for sample in sample_list if sample.fid == 'ALP']"
   ]
  },
  {
   "cell_type": "code",
   "execution_count": 8,
   "id": "official-thompson",
   "metadata": {},
   "outputs": [],
   "source": [
    "sample_sex = [sample for sample in alp_samples if sample.sex != -9]"
   ]
  },
  {
   "cell_type": "code",
   "execution_count": 9,
   "id": "mature-arcade",
   "metadata": {},
   "outputs": [
    {
     "data": {
      "text/plain": [
       "[]"
      ]
     },
     "execution_count": 9,
     "metadata": {},
     "output_type": "execute_result"
    }
   ],
   "source": [
    "sample_sex"
   ]
  },
  {
   "cell_type": "markdown",
   "id": "smooth-console",
   "metadata": {},
   "source": [
    "Breed code matches fid in adaptmap dataset. However it seems to me I don't have the sex column in *plink* files, despite I could have such informations from metadata"
   ]
  },
  {
   "cell_type": "code",
   "execution_count": null,
   "id": "practical-netscape",
   "metadata": {},
   "outputs": [],
   "source": []
  }
 ],
 "metadata": {
  "kernelspec": {
   "display_name": "Python 3",
   "language": "python",
   "name": "python3"
  },
  "language_info": {
   "codemirror_mode": {
    "name": "ipython",
    "version": 3
   },
   "file_extension": ".py",
   "mimetype": "text/x-python",
   "name": "python",
   "nbconvert_exporter": "python",
   "pygments_lexer": "ipython3",
   "version": "3.9.1"
  }
 },
 "nbformat": 4,
 "nbformat_minor": 5
}
