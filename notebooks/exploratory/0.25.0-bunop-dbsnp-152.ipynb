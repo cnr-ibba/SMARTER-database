{
 "cells": [
  {
   "cell_type": "markdown",
   "id": "d00ba1a6-81cc-4b20-b8bd-ce4cc9d8f9d0",
   "metadata": {},
   "source": [
    "# SMARTER and dbSNP152\n",
    "This is an attempt to investigate on *dbSNP* xml file and determining if this information can be integrated into **SMARTER** database. Ok, import some libraries:"
   ]
  },
  {
   "cell_type": "code",
   "execution_count": 1,
   "id": "ed8cb602-0007-4bd3-b9c6-da8700381234",
   "metadata": {},
   "outputs": [],
   "source": [
    "from functools import partial\n",
    "\n",
    "import json\n",
    "import copy\n",
    "import logging\n",
    "\n",
    "from src.features.smarterdb import VariantSheep, VariantGoat, global_connection, Location\n",
    "from src.features.dbsnp import read_dbSNP, search_chip_snps\n",
    "from src.features.illumina import IlluSNP"
   ]
  },
  {
   "cell_type": "code",
   "execution_count": 2,
   "id": "6980f197-fb95-43f0-98f4-d7d3a1f80101",
   "metadata": {},
   "outputs": [],
   "source": [
    "conn = global_connection()\n",
    "logging.getLogger('src.features.dbsnp').setLevel(logging.ERROR)\n",
    "logger = logging.getLogger(__name__)"
   ]
  },
  {
   "cell_type": "markdown",
   "id": "7b037eb5-0eef-4776-b558-640ccbce1642",
   "metadata": {},
   "source": [
    "## Sheep test\n",
    "Focusing on Sheep, first. Try to extract all the SNP names I have from illumina manifest:"
   ]
  },
  {
   "cell_type": "code",
   "execution_count": 3,
   "id": "963de78e-9b91-43a7-becf-7790092dbaa6",
   "metadata": {},
   "outputs": [],
   "source": [
    "all_snp_names = set([variant.name for variant in VariantSheep.objects.filter(chip_name__in=[\"IlluminaOvineSNP50\", \"IlluminaOvineHDSNP\"]).fields(name=1)])"
   ]
  },
  {
   "cell_type": "markdown",
   "id": "c22265d0-c8dd-4e77-b5e7-42afe712c44a",
   "metadata": {},
   "source": [
    "Try to define some functions which can help me to find SNPs of interest"
   ]
  },
  {
   "cell_type": "code",
   "execution_count": 4,
   "id": "299c28fe-6fd2-48d7-9f69-a66ed1f28629",
   "metadata": {},
   "outputs": [],
   "source": [
    "def filter_ss(snp: dict, handle: str):\n",
    "    \"\"\"Getting a SNP object. Return a new SNP object\n",
    "    with the exemplar SS and the handle SS. Is the \n",
    "    exemplar is the same as handle, return only a SS\n",
    "    object\"\"\"\n",
    "    \n",
    "    new_ss = []\n",
    "    new_snp = copy.deepcopy(snp)\n",
    "    exemplar = snp['exemplar']['exemplarSs']\n",
    "    filtered = []\n",
    "    for ss in snp['ss']:\n",
    "        if ss['ssId'] == exemplar or ss['handle'] == handle:\n",
    "            if ss['ssId'] not in filtered:\n",
    "                new_ss.append(ss)\n",
    "                filtered.append(ss['ssId'])\n",
    "    new_snp['ss'] = new_ss\n",
    "    return new_snp\n",
    "\n",
    "\n",
    "def find_SNPs(filename, handle, version, variantspecie, source=\"dbSNP151\"):\n",
    "    global all_snp_names\n",
    "    \n",
    "    handle_filter = partial(search_chip_snps, handle=handle)\n",
    "    \n",
    "    for snp in filter(handle_filter, read_dbSNP(filename)):\n",
    "        # first filter out SS\n",
    "        filtered_snp = filter_ss(snp, handle)\n",
    "    \n",
    "        # now get only the SS objects with the required handle\n",
    "        sss = list(filter(lambda ss: ss['handle'] == handle, snp['ss']))\n",
    "        \n",
    "        # test for locSnpId in my database\n",
    "        locSnpIds = set([ss['locSnpId'] for ss in sss])\n",
    "        \n",
    "        # Skip variants not in database\n",
    "        if not locSnpIds.intersection(all_snp_names):\n",
    "            continue\n",
    "\n",
    "        if len(sss) > 1:\n",
    "            logger.debug(f\"More than 1 ss found for 'rs{snp['rsId']}'\")\n",
    "\n",
    "            locSnpIds = [ss['locSnpId'] for ss in sss]\n",
    "            variants = variantspecie.objects.filter(name__in=locSnpIds)\n",
    "\n",
    "        elif len(sss) == 1:\n",
    "            ss = sss[0]\n",
    "\n",
    "            # ok get a variant from database and return it\n",
    "            variants = variantspecie.objects.filter(name=ss['locSnpId'])\n",
    "            \n",
    "        if len(variants) > 1:\n",
    "            logger.warning(f\"Got {len(variants)} Variants for 'rs{snp['rsId']}'\")\n",
    "\n",
    "        for variant in variants:\n",
    "            # get the SS relying on ss[locSnpId']\n",
    "            ss = next(filter(lambda ss: ss['locSnpId']==variant.name, filtered_snp['ss']))\n",
    "            assembly = filtered_snp.get('assembly')\n",
    "\n",
    "            # dbSNP is the primary source of SNPchiMp\n",
    "            location = variant.get_location(version, imported_from=\"SNPchiMp v.3\")\n",
    "\n",
    "            # get illumina sequence\n",
    "            if \"IlluminaOvineHDSNP\" in variant.sequence:\n",
    "                sequence = variant.sequence[\"IlluminaOvineHDSNP\"]\n",
    "                \n",
    "            elif \"IlluminaGoatSNP50\" in variant.sequence:\n",
    "                sequence = variant.sequence[\"IlluminaGoatSNP50\"]\n",
    "            else:\n",
    "                sequence = variant.sequence[\"IlluminaOvineSNP50\"]\n",
    "                \n",
    "            illu_snp = IlluSNP(sequence=sequence, max_iter=25)\n",
    "            \n",
    "            if assembly and 'chromosome' in assembly['component'] and assembly['snpstat']['mapWeight'] == 'unique-in-contig':\n",
    "                # read chromosome and position\n",
    "                chromosome = assembly['component']['chromosome']\n",
    "                position = int(assembly['component']['maploc']['physMapInt'])+1\n",
    "                    \n",
    "                # create a new location object\n",
    "                new_location = Location(\n",
    "                    ss_id=f\"ss{ss['ssId']}\", \n",
    "                    version=version, \n",
    "                    imported_from=source, \n",
    "                    chrom=chromosome, \n",
    "                    position=position, \n",
    "                    alleles=ss['observed'], \n",
    "                    illumina_strand=ss.get('strand', illu_snp.strand), \n",
    "                    strand=ss.get('orient'), \n",
    "                    illumina=illu_snp.illumina\n",
    "                )\n",
    "                \n",
    "            else:\n",
    "                # create a new location object for a not-mapped SNP\n",
    "                new_location = Location(\n",
    "                    ss_id=f\"ss{ss['ssId']}\", \n",
    "                    version=version, \n",
    "                    imported_from=source, \n",
    "                    chrom=\"0\", \n",
    "                    position=0, \n",
    "                    alleles=ss['observed'], \n",
    "                    illumina_strand=ss.get('strand', illu_snp.strand), \n",
    "                    strand=ss.get('orient'), \n",
    "                    illumina=illu_snp.illumina\n",
    "                )\n",
    "                \n",
    "            # test for equality\n",
    "            if new_location != location:\n",
    "                logger.warning(f\"Locations differ for 'rs{snp['rsId']}': {location} <> {new_location}\")\n",
    "\n",
    "            yield variant.name, new_location, filtered_snp\n",
    "            \n",
    "\n",
    "find_AGRBS_SNPs = partial(find_SNPs, handle='AGR_BS', version=\"Oar_v4.0\", variantspecie=VariantSheep)\n",
    "\n",
    "\n",
    "find_IGGC_SNPs = partial(find_SNPs, handle='IGGC', version=\"CHI1.0\", variantspecie=VariantGoat)"
   ]
  },
  {
   "cell_type": "markdown",
   "id": "8cf2faae-e5e3-497f-b898-591752df0eb9",
   "metadata": {},
   "source": [
    "Ok try to read the *dbSNP* dump file for *sheep* chromosome `24`:"
   ]
  },
  {
   "cell_type": "code",
   "execution_count": 5,
   "id": "c97c634e-5d74-4710-94fd-03abf2d5e5e4",
   "metadata": {},
   "outputs": [],
   "source": [
    "data = list([name, location, snp] for name, location, snp in find_AGRBS_SNPs(filename=\"/home/cozzip/SNPchimp/dbSNP/SHE/BUILD152/ds_ch24.xml.gz\"))"
   ]
  },
  {
   "cell_type": "code",
   "execution_count": 6,
   "id": "6f3aa108-5762-460f-afb6-db8abd77fe9f",
   "metadata": {},
   "outputs": [
    {
     "name": "stdout",
     "output_type": "stream",
     "text": [
      "There are 10546 SNPs read from chromosome 24\n"
     ]
    }
   ],
   "source": [
    "print(f\"There are {len(data)} SNPs read from chromosome 24\")"
   ]
  },
  {
   "cell_type": "markdown",
   "id": "4582bde9-29da-45b7-a05a-9c086fd29fd9",
   "metadata": {},
   "source": [
    "Are there any SNP placed on chromosome 24 not updated by this process? First collect all variant names from previous step"
   ]
  },
  {
   "cell_type": "code",
   "execution_count": 7,
   "id": "075f6643-c35a-45dc-b2ae-d32f3f304966",
   "metadata": {},
   "outputs": [],
   "source": [
    "names = [line[0] for line in data]"
   ]
  },
  {
   "cell_type": "markdown",
   "id": "de89facf-3b74-469c-8b89-8b3df1645ec1",
   "metadata": {},
   "source": [
    "Now search for SNP in database not in the latest *dbSNP*"
   ]
  },
  {
   "cell_type": "code",
   "execution_count": 8,
   "id": "340a0f05-c26f-4969-bb5d-f3c77f03fe16",
   "metadata": {},
   "outputs": [
    {
     "data": {
      "text/plain": [
       "[<VariantSheep: name='s03210.1', rs_id='['rs423317607']', illumina_top='A/G'>, <VariantSheep: name='s34597.1', rs_id='['rs424386834']', illumina_top='A/G'>, <VariantSheep: name='DU443720_334.1', rs_id='['rs411374027']', illumina_top='A/G'>]"
      ]
     },
     "execution_count": 8,
     "metadata": {},
     "output_type": "execute_result"
    }
   ],
   "source": [
    "not_in_dbsnp = VariantSheep.objects.filter(\n",
    "    locations__match={\"version\": \"Oar_v4.0\", \"chrom\": \"24\", \"imported_from\": \"SNPchiMp v.3\"}, \n",
    "    chip_name=\"IlluminaOvineSNP50\", \n",
    "    name__nin=names)\n",
    "not_in_dbsnp"
   ]
  },
  {
   "cell_type": "markdown",
   "id": "655949d7-2e9f-4e81-8137-8262ed59dd83",
   "metadata": {},
   "source": [
    "I found snp `s03210.1` in `ds_chMulti.xml.gz` file: this SNP seems to be removed from NCBI cause multi mapping. The same *rsId* is absent eve in EVA. Are there any other SNP removed from dbSNP?"
   ]
  },
  {
   "cell_type": "code",
   "execution_count": 9,
   "id": "2c6a5ea1-390a-47d8-8226-ed5460306c7d",
   "metadata": {},
   "outputs": [
    {
     "name": "stderr",
     "output_type": "stream",
     "text": [
      "Locations differ for 'rs160794292': (SNPchiMp v.3:Oar_v4.0) 12:49430945 [A/G] <> (dbSNP151:Oar_v4.0) 0:0 [A/G]\n",
      "Locations differ for 'rs398625579': (SNPchiMp v.3:Oar_v4.0) 14:39009087 [A/G] <> (dbSNP151:Oar_v4.0) 0:0 [A/G]\n",
      "Locations differ for 'rs399204443': (SNPchiMp v.3:Oar_v4.0) 15:16260018 [A/G] <> (dbSNP151:Oar_v4.0) 0:0 [A/G]\n",
      "Locations differ for 'rs399565101': (SNPchiMp v.3:Oar_v4.0) 15:3426211 [A/G] <> (dbSNP151:Oar_v4.0) 0:0 [A/G]\n",
      "Locations differ for 'rs399927424': (SNPchiMp v.3:Oar_v4.0) 2:236844974 [A/G] <> (dbSNP151:Oar_v4.0) 0:0 [A/G]\n",
      "Locations differ for 'rs400201062': (SNPchiMp v.3:Oar_v4.0) 26:2270791 [A/G] <> (dbSNP151:Oar_v4.0) 0:0 [A/G]\n",
      "Locations differ for 'rs400254267': (SNPchiMp v.3:Oar_v4.0) 6:9752440 [A/G] <> (dbSNP151:Oar_v4.0) 0:0 [A/G]\n",
      "Locations differ for 'rs400434071': (SNPchiMp v.3:Oar_v4.0) 21:952413 [C/G] <> (dbSNP151:Oar_v4.0) 0:0 [C/G]\n",
      "Locations differ for 'rs400456207': (SNPchiMp v.3:Oar_v4.0) 10:57742973 [A/G] <> (dbSNP151:Oar_v4.0) 0:0 [A/G]\n",
      "Locations differ for 'rs400749895': (SNPchiMp v.3:Oar_v4.0) 1:217678762 [A/C] <> (dbSNP151:Oar_v4.0) 0:0 [A/C]\n",
      "Locations differ for 'rs401496325': (SNPchiMp v.3:Oar_v4.0) 12:8525497 [A/G] <> (dbSNP151:Oar_v4.0) 0:0 [A/G]\n",
      "Locations differ for 'rs402213612': (SNPchiMp v.3:Oar_v4.0) 12:51447900 [A/C] <> (dbSNP151:Oar_v4.0) 0:0 [A/C]\n",
      "Locations differ for 'rs402252536': (SNPchiMp v.3:Oar_v4.0) 25:41638183 [A/G] <> (dbSNP151:Oar_v4.0) 0:0 [A/G]\n",
      "Locations differ for 'rs402863641': (SNPchiMp v.3:Oar_v4.0) 1:106076433 [A/G] <> (dbSNP151:Oar_v4.0) 0:0 [A/G]\n",
      "Locations differ for 'rs403706804': (SNPchiMp v.3:Oar_v4.0) 4:112472818 [A/G] <> (dbSNP151:Oar_v4.0) 0:0 [A/G]\n",
      "Locations differ for 'rs405276567': (SNPchiMp v.3:Oar_v4.0) 1:107625664 [A/G] <> (dbSNP151:Oar_v4.0) 0:0 [A/G]\n",
      "Locations differ for 'rs405378109': (SNPchiMp v.3:Oar_v4.0) 12:78273267 [A/G] <> (dbSNP151:Oar_v4.0) 0:0 [A/G]\n",
      "Locations differ for 'rs405552742': (SNPchiMp v.3:Oar_v4.0) 17:68748145 [A/G] <> (dbSNP151:Oar_v4.0) 0:0 [A/G]\n",
      "Locations differ for 'rs405718855': (SNPchiMp v.3:Oar_v4.0) 3:206447058 [A/G] <> (dbSNP151:Oar_v4.0) 0:0 [A/G]\n",
      "Locations differ for 'rs405909101': (SNPchiMp v.3:Oar_v4.0) 14:4063351 [A/G] <> (dbSNP151:Oar_v4.0) 0:0 [A/G]\n",
      "Locations differ for 'rs405918590': (SNPchiMp v.3:Oar_v4.0) 4:75358470 [A/G] <> (dbSNP151:Oar_v4.0) 0:0 [A/G]\n",
      "Locations differ for 'rs406123642': (SNPchiMp v.3:Oar_v4.0) 16:67285821 [A/G] <> (dbSNP151:Oar_v4.0) 0:0 [A/G]\n",
      "Locations differ for 'rs406576583': (SNPchiMp v.3:Oar_v4.0) 3:7999220 [A/C] <> (dbSNP151:Oar_v4.0) 0:0 [A/C]\n",
      "Locations differ for 'rs407020800': (SNPchiMp v.3:Oar_v4.0) 19:59558609 [A/G] <> (dbSNP151:Oar_v4.0) 0:0 [A/G]\n",
      "Locations differ for 'rs407026359': (SNPchiMp v.3:Oar_v4.0) 1:267722034 [A/G] <> (dbSNP151:Oar_v4.0) 0:0 [A/G]\n",
      "Locations differ for 'rs407487613': (SNPchiMp v.3:Oar_v4.0) 14:60136440 [A/G] <> (dbSNP151:Oar_v4.0) 0:0 [A/G]\n",
      "Locations differ for 'rs407590819': (SNPchiMp v.3:Oar_v4.0) 10:34199310 [A/G] <> (dbSNP151:Oar_v4.0) 0:0 [A/G]\n",
      "Locations differ for 'rs407716677': (SNPchiMp v.3:Oar_v4.0) 14:27613048 [A/G] <> (dbSNP151:Oar_v4.0) 0:0 [A/G]\n",
      "Locations differ for 'rs407785596': (SNPchiMp v.3:Oar_v4.0) 6:68129585 [A/G] <> (dbSNP151:Oar_v4.0) 0:0 [A/G]\n",
      "Locations differ for 'rs407913609': (SNPchiMp v.3:Oar_v4.0) 18:2378665 [A/C] <> (dbSNP151:Oar_v4.0) 0:0 [A/C]\n",
      "Locations differ for 'rs408510633': (SNPchiMp v.3:Oar_v4.0) 13:16588113 [A/G] <> (dbSNP151:Oar_v4.0) 0:0 [A/G]\n",
      "Locations differ for 'rs408549500': (SNPchiMp v.3:Oar_v4.0) 7:7861065 [A/G] <> (dbSNP151:Oar_v4.0) 0:0 [A/G]\n",
      "Locations differ for 'rs409414135': (SNPchiMp v.3:Oar_v4.0) 2:96967564 [A/G] <> (dbSNP151:Oar_v4.0) 0:0 [A/G]\n",
      "Locations differ for 'rs409415213': (SNPchiMp v.3:Oar_v4.0) 1:195993950 [A/C] <> (dbSNP151:Oar_v4.0) 0:0 [A/C]\n",
      "Locations differ for 'rs409886749': (SNPchiMp v.3:Oar_v4.0) 4:89461199 [A/G] <> (dbSNP151:Oar_v4.0) 0:0 [A/G]\n",
      "Locations differ for 'rs410368917': (SNPchiMp v.3:Oar_v4.0) 26:28869519 [A/G] <> (dbSNP151:Oar_v4.0) 0:0 [A/G]\n",
      "Locations differ for 'rs410493959': (SNPchiMp v.3:Oar_v4.0) 1:44657909 [A/G] <> (dbSNP151:Oar_v4.0) 0:0 [A/G]\n",
      "Locations differ for 'rs410807621': (SNPchiMp v.3:Oar_v4.0) 3:73406176 [A/G] <> (dbSNP151:Oar_v4.0) 0:0 [A/G]\n",
      "Locations differ for 'rs411168011': (SNPchiMp v.3:Oar_v4.0) 9:7569248 [A/C] <> (dbSNP151:Oar_v4.0) 0:0 [A/C]\n",
      "Locations differ for 'rs411374027': (SNPchiMp v.3:Oar_v4.0) 24:41255643 [A/G] <> (dbSNP151:Oar_v4.0) 0:0 [A/G]\n",
      "Locations differ for 'rs411554937': (SNPchiMp v.3:Oar_v4.0) 1:77050230 [A/G] <> (dbSNP151:Oar_v4.0) 0:0 [A/G]\n",
      "Locations differ for 'rs412309017': (SNPchiMp v.3:Oar_v4.0) 5:98321862 [A/G] <> (dbSNP151:Oar_v4.0) 0:0 [A/G]\n",
      "Locations differ for 'rs412467556': (SNPchiMp v.3:Oar_v4.0) 2:186582168 [A/G] <> (dbSNP151:Oar_v4.0) 0:0 [A/G]\n",
      "Locations differ for 'rs413958026': (SNPchiMp v.3:Oar_v4.0) 3:82390653 [A/G] <> (dbSNP151:Oar_v4.0) 0:0 [A/G]\n",
      "Locations differ for 'rs415236480': (SNPchiMp v.3:Oar_v4.0) 6:110421063 [A/G] <> (dbSNP151:Oar_v4.0) 0:0 [A/G]\n",
      "Locations differ for 'rs415639506': (SNPchiMp v.3:Oar_v4.0) 1:122210613 [A/G] <> (dbSNP151:Oar_v4.0) 0:0 [A/G]\n",
      "Locations differ for 'rs415844707': (SNPchiMp v.3:Oar_v4.0) 1:122909689 [A/G] <> (dbSNP151:Oar_v4.0) 0:0 [A/G]\n",
      "Locations differ for 'rs415862700': (SNPchiMp v.3:Oar_v4.0) 6:15506663 [A/C] <> (dbSNP151:Oar_v4.0) 0:0 [A/C]\n",
      "Locations differ for 'rs416774967': (SNPchiMp v.3:Oar_v4.0) 18:60862438 [A/G] <> (dbSNP151:Oar_v4.0) 0:0 [A/G]\n",
      "Locations differ for 'rs416898367': (SNPchiMp v.3:Oar_v4.0) 7:31149729 [A/G] <> (dbSNP151:Oar_v4.0) 0:0 [A/G]\n",
      "Locations differ for 'rs416907531': (SNPchiMp v.3:Oar_v4.0) 21:48864787 [A/G] <> (dbSNP151:Oar_v4.0) 0:0 [A/G]\n",
      "Locations differ for 'rs417884458': (SNPchiMp v.3:Oar_v4.0) 4:47748256 [A/G] <> (dbSNP151:Oar_v4.0) 0:0 [A/G]\n",
      "Locations differ for 'rs418237318': (SNPchiMp v.3:Oar_v4.0) 10:10248353 [A/G] <> (dbSNP151:Oar_v4.0) 0:0 [A/G]\n",
      "Locations differ for 'rs418701535': (SNPchiMp v.3:Oar_v4.0) 2:245791728 [A/G] <> (dbSNP151:Oar_v4.0) 0:0 [A/G]\n",
      "Locations differ for 'rs419744835': (SNPchiMp v.3:Oar_v4.0) 1:164945412 [A/G] <> (dbSNP151:Oar_v4.0) 0:0 [A/G]\n",
      "Locations differ for 'rs419913109': (SNPchiMp v.3:Oar_v4.0) 17:71744589 [A/G] <> (dbSNP151:Oar_v4.0) 0:0 [A/G]\n",
      "Locations differ for 'rs420141081': (SNPchiMp v.3:Oar_v4.0) 11:46990322 [A/G] <> (dbSNP151:Oar_v4.0) 0:0 [A/G]\n",
      "Locations differ for 'rs420606997': (SNPchiMp v.3:Oar_v4.0) 9:42107396 [A/G] <> (dbSNP151:Oar_v4.0) 0:0 [A/G]\n",
      "Locations differ for 'rs421502658': (SNPchiMp v.3:Oar_v4.0) 17:25739666 [A/G] <> (dbSNP151:Oar_v4.0) 0:0 [A/G]\n",
      "Locations differ for 'rs422257119': (SNPchiMp v.3:Oar_v4.0) 12:56481458 [A/C] <> (dbSNP151:Oar_v4.0) 0:0 [A/C]\n",
      "Locations differ for 'rs422425754': (SNPchiMp v.3:Oar_v4.0) 18:33901551 [A/G] <> (dbSNP151:Oar_v4.0) 0:0 [A/G]\n",
      "Locations differ for 'rs423046868': (SNPchiMp v.3:Oar_v4.0) 3:145124594 [A/G] <> (dbSNP151:Oar_v4.0) 0:0 [A/G]\n",
      "Locations differ for 'rs423317607': (SNPchiMp v.3:Oar_v4.0) 24:15820031 [A/G] <> (dbSNP151:Oar_v4.0) 0:0 [A/G]\n",
      "Locations differ for 'rs423637512': (SNPchiMp v.3:Oar_v4.0) 16:9773138 [A/G] <> (dbSNP151:Oar_v4.0) 0:0 [A/G]\n",
      "Locations differ for 'rs424245873': (SNPchiMp v.3:Oar_v4.0) 3:88946195 [A/G] <> (dbSNP151:Oar_v4.0) 0:0 [A/G]\n",
      "Locations differ for 'rs424386834': (SNPchiMp v.3:Oar_v4.0) 24:36396510 [A/G] <> (dbSNP151:Oar_v4.0) 0:0 [A/G]\n",
      "Locations differ for 'rs425201347': (SNPchiMp v.3:Oar_v4.0) 3:206447114 [A/G] <> (dbSNP151:Oar_v4.0) 0:0 [A/G]\n",
      "Locations differ for 'rs425411320': (SNPchiMp v.3:Oar_v4.0) 12:7765089 [A/G] <> (dbSNP151:Oar_v4.0) 0:0 [A/G]\n",
      "Locations differ for 'rs425665861': (SNPchiMp v.3:Oar_v4.0) 1:219738670 [A/G] <> (dbSNP151:Oar_v4.0) 0:0 [A/G]\n",
      "Locations differ for 'rs425757164': (SNPchiMp v.3:Oar_v4.0) 6:30640144 [A/G] <> (dbSNP151:Oar_v4.0) 0:0 [A/G]\n",
      "Locations differ for 'rs425776311': (SNPchiMp v.3:Oar_v4.0) 15:62873974 [A/G] <> (dbSNP151:Oar_v4.0) 0:0 [A/G]\n",
      "Locations differ for 'rs426390019': (SNPchiMp v.3:Oar_v4.0) 2:198382299 [A/C] <> (dbSNP151:Oar_v4.0) 0:0 [A/C]\n",
      "Locations differ for 'rs426785288': (SNPchiMp v.3:Oar_v4.0) 13:32723062 [A/G] <> (dbSNP151:Oar_v4.0) 0:0 [A/G]\n",
      "Locations differ for 'rs427754928': (SNPchiMp v.3:Oar_v4.0) 3:22530190 [A/G] <> (dbSNP151:Oar_v4.0) 0:0 [A/G]\n",
      "Locations differ for 'rs428642031': (SNPchiMp v.3:Oar_v4.0) X:113713874 [A/C] <> (dbSNP151:Oar_v4.0) 0:0 [A/C]\n",
      "Locations differ for 'rs428977663': (SNPchiMp v.3:Oar_v4.0) 3:136894160 [A/G] <> (dbSNP151:Oar_v4.0) 0:0 [A/G]\n",
      "Locations differ for 'rs429751682': (SNPchiMp v.3:Oar_v4.0) 14:44118763 [A/G] <> (dbSNP151:Oar_v4.0) 0:0 [A/G]\n",
      "Locations differ for 'rs430063557': (SNPchiMp v.3:Oar_v4.0) 9:61979961 [A/C] <> (dbSNP151:Oar_v4.0) 0:0 [A/C]\n",
      "Locations differ for 'rs430220723': (SNPchiMp v.3:Oar_v4.0) 9:16948309 [A/G] <> (dbSNP151:Oar_v4.0) 0:0 [A/G]\n",
      "Locations differ for 'rs430422221': (SNPchiMp v.3:Oar_v4.0) 3:205403164 [A/G] <> (dbSNP151:Oar_v4.0) 0:0 [A/G]\n",
      "Locations differ for 'rs430774169': (SNPchiMp v.3:Oar_v4.0) 21:35463955 [A/G] <> (dbSNP151:Oar_v4.0) 0:0 [A/G]\n"
     ]
    },
    {
     "name": "stdout",
     "output_type": "stream",
     "text": [
      "There are 191 SNP with multiple mapping positions\n"
     ]
    }
   ],
   "source": [
    "multi = list([name, location, snp] for name, location, snp in find_AGRBS_SNPs(filename=\"/home/cozzip/SNPchimp/dbSNP/SHE/BUILD152/ds_chMulti.xml.gz\"))\n",
    "print(f\"There are {len(multi)} SNP with multiple mapping positions\")"
   ]
  },
  {
   "cell_type": "markdown",
   "id": "66ec95b0-939e-40b6-aa7a-bd691312c15f",
   "metadata": {},
   "source": [
    "And are they any SNP with no chromosome positions (unmapped)?"
   ]
  },
  {
   "cell_type": "code",
   "execution_count": 10,
   "id": "0a72c317-8a0d-4436-a3fc-6fa831eb3176",
   "metadata": {},
   "outputs": [
    {
     "name": "stderr",
     "output_type": "stream",
     "text": [
      "Got 2 Variants for 'rs160403113'\n",
      "Got 2 Variants for 'rs402137533'\n",
      "Got 2 Variants for 'rs411572125'\n",
      "Got 2 Variants for 'rs414994086'\n",
      "Got 2 Variants for 'rs417009700'\n",
      "Got 2 Variants for 'rs419271878'\n",
      "Got 2 Variants for 'rs421030064'\n",
      "Got 2 Variants for 'rs424177120'\n",
      "Got 2 Variants for 'rs424922202'\n",
      "Got 2 Variants for 'rs429936770'\n"
     ]
    },
    {
     "name": "stdout",
     "output_type": "stream",
     "text": [
      "There are 167 SNP with no mapping positions\n"
     ]
    }
   ],
   "source": [
    "noton = list([name, location, snp] for name, location, snp in find_AGRBS_SNPs(filename=\"/home/cozzip/SNPchimp/dbSNP/SHE/BUILD152/ds_chNotOn.xml.gz\"))\n",
    "print(f\"There are {len(noton)} SNP with no mapping positions\")"
   ]
  },
  {
   "cell_type": "markdown",
   "id": "527d8fa3-f1f4-434b-acdc-e5c82844a5f3",
   "metadata": {},
   "source": [
    "## Goat Test\n",
    "Try to reapply the same but for goat, this time:"
   ]
  },
  {
   "cell_type": "code",
   "execution_count": 11,
   "id": "54acc7fd-716a-4b94-9b69-39ea26063265",
   "metadata": {},
   "outputs": [],
   "source": [
    "all_snp_names = set([variant.name for variant in VariantGoat.objects.filter(chip_name=\"IlluminaGoatSNP50\").fields(name=1)])"
   ]
  },
  {
   "cell_type": "markdown",
   "id": "40099c76-bde7-4de7-a148-e846643d8ef1",
   "metadata": {},
   "source": [
    "Ok try to read the *dbSNP* dump file for *goat* chromosome `25`:"
   ]
  },
  {
   "cell_type": "code",
   "execution_count": 12,
   "id": "5016636a-deda-4839-9ecd-0a0943ee3c62",
   "metadata": {},
   "outputs": [],
   "source": [
    "data = list([name, location, snp] for name, location, snp in find_IGGC_SNPs(filename=\"/home/cozzip/SNPchimp/dbSNP/GOA/BUILD152/ds_ch25.xml.gz\"))"
   ]
  },
  {
   "cell_type": "code",
   "execution_count": 13,
   "id": "f0178aee-ea3b-44d4-8775-bbaa62701798",
   "metadata": {},
   "outputs": [
    {
     "name": "stdout",
     "output_type": "stream",
     "text": [
      "There are 853 SNPs read from chromosome 25\n"
     ]
    }
   ],
   "source": [
    "print(f\"There are {len(data)} SNPs read from chromosome 25\")"
   ]
  },
  {
   "cell_type": "markdown",
   "id": "c9c539a1-190f-4c04-aaf4-25de3c319e79",
   "metadata": {},
   "source": [
    "Are there any SNP placed on chromosome 24 not updated by this process? First collect all variant names from previous step"
   ]
  },
  {
   "cell_type": "code",
   "execution_count": 14,
   "id": "36350397-82ac-4b96-bfa9-3c38bf9907d5",
   "metadata": {},
   "outputs": [],
   "source": [
    "names = [line[0] for line in data]"
   ]
  },
  {
   "cell_type": "markdown",
   "id": "87f43e60-723b-450d-b4e3-2dad751b1744",
   "metadata": {},
   "source": [
    "Now search for SNP in database not in the latest *dbSNP*"
   ]
  },
  {
   "cell_type": "code",
   "execution_count": 15,
   "id": "47674d3c-46fc-4058-83de-6d34883b52ae",
   "metadata": {},
   "outputs": [
    {
     "data": {
      "text/plain": [
       "[<VariantGoat: name='snp25070-scaffold2586-209927', rs_id='['rs268257454']', illumina_top='A/G'>, <VariantGoat: name='snp16184-scaffold1701-94158', rs_id='['rs268291835']', illumina_top='A/G'>]"
      ]
     },
     "execution_count": 15,
     "metadata": {},
     "output_type": "execute_result"
    }
   ],
   "source": [
    "not_in_dbsnp = VariantGoat.objects.filter(\n",
    "    locations__match={\"version\": \"CHI1.0\", \"chrom\": \"25\", \"imported_from\": \"SNPchiMp v.3\"}, \n",
    "    chip_name=\"IlluminaGoatSNP50\", \n",
    "    name__nin=names)\n",
    "not_in_dbsnp"
   ]
  },
  {
   "cell_type": "markdown",
   "id": "629b9978-886a-416f-a2d5-6053440a38df",
   "metadata": {},
   "source": [
    "I found snp `snp25070-scaffold2586-209927` in `ds_chNotOn.xml.gz` file: this SNP seems to be removed from NCBI cause no mapping. The same *rsId* is absent eve in EVA. Are there any other SNP removed from dbSNP?"
   ]
  },
  {
   "cell_type": "code",
   "execution_count": 16,
   "id": "c776502b-8aa7-484b-975b-ef364155c342",
   "metadata": {},
   "outputs": [
    {
     "name": "stderr",
     "output_type": "stream",
     "text": [
      "Locations differ for 'rs268235075': (SNPchiMp v.3:CHI1.0) 2:131228065 [A/G] <> (dbSNP151:CHI1.0) 0:0 [A/G]\n",
      "Locations differ for 'rs268235275': (SNPchiMp v.3:CHI1.0) 2:68801803 [A/G] <> (dbSNP151:CHI1.0) 0:0 [A/G]\n",
      "Locations differ for 'rs268238038': (SNPchiMp v.3:CHI1.0) 4:47678708 [A/G] <> (dbSNP151:CHI1.0) 0:0 [A/G]\n",
      "Locations differ for 'rs268239832': (SNPchiMp v.3:CHI1.0) 22:1242308 [A/G] <> (dbSNP151:CHI1.0) 0:0 [A/G]\n",
      "Locations differ for 'rs268241044': (SNPchiMp v.3:CHI1.0) X:121318575 [A/G] <> (dbSNP151:CHI1.0) 0:0 [A/G]\n",
      "Locations differ for 'rs268244874': (SNPchiMp v.3:CHI1.0) X:85504653 [A/G] <> (dbSNP151:CHI1.0) 0:0 [A/G]\n",
      "Locations differ for 'rs268244930': (SNPchiMp v.3:CHI1.0) 17:61881296 [A/G] <> (dbSNP151:CHI1.0) 0:0 [A/G]\n",
      "Locations differ for 'rs268245436': (SNPchiMp v.3:CHI1.0) 26:15128227 [A/G] <> (dbSNP151:CHI1.0) 0:0 [A/G]\n",
      "Locations differ for 'rs268245460': (SNPchiMp v.3:CHI1.0) 5:92356456 [A/G] <> (dbSNP151:CHI1.0) 0:0 [A/G]\n",
      "Locations differ for 'rs268247005': (SNPchiMp v.3:CHI1.0) 5:19685347 [A/G] <> (dbSNP151:CHI1.0) 0:0 [A/G]\n",
      "Locations differ for 'rs268248202': (SNPchiMp v.3:CHI1.0) 3:43474557 [A/C] <> (dbSNP151:CHI1.0) 0:0 [A/C]\n",
      "Locations differ for 'rs268249421': (SNPchiMp v.3:CHI1.0) 29:13603951 [A/G] <> (dbSNP151:CHI1.0) 0:0 [A/G]\n",
      "Locations differ for 'rs268250688': (SNPchiMp v.3:CHI1.0) 11:61781025 [A/G] <> (dbSNP151:CHI1.0) 0:0 [A/G]\n",
      "Locations differ for 'rs268251357': (SNPchiMp v.3:CHI1.0) X:66239820 [A/G] <> (dbSNP151:CHI1.0) 0:0 [A/G]\n",
      "Locations differ for 'rs268251364': (SNPchiMp v.3:CHI1.0) X:64892964 [A/G] <> (dbSNP151:CHI1.0) 0:0 [A/G]\n",
      "Locations differ for 'rs268251367': (SNPchiMp v.3:CHI1.0) X:64513775 [A/C] <> (dbSNP151:CHI1.0) 0:0 [A/C]\n",
      "Locations differ for 'rs268251368': (SNPchiMp v.3:CHI1.0) X:64453386 [A/G] <> (dbSNP151:CHI1.0) 0:0 [A/G]\n",
      "Locations differ for 'rs268251373': (SNPchiMp v.3:CHI1.0) X:62994479 [A/C] <> (dbSNP151:CHI1.0) 0:0 [A/C]\n",
      "Locations differ for 'rs268251773': (SNPchiMp v.3:CHI1.0) 4:30228638 [A/G] <> (dbSNP151:CHI1.0) 0:0 [A/G]\n",
      "Locations differ for 'rs268254262': (SNPchiMp v.3:CHI1.0) 1:65763844 [A/G] <> (dbSNP151:CHI1.0) 0:0 [A/G]\n",
      "Locations differ for 'rs268254352': (SNPchiMp v.3:CHI1.0) 11:21206271 [A/G] <> (dbSNP151:CHI1.0) 0:0 [A/G]\n",
      "Locations differ for 'rs268256045': (SNPchiMp v.3:CHI1.0) 6:109896099 [A/C] <> (dbSNP151:CHI1.0) 0:0 [A/C]\n",
      "Locations differ for 'rs268256046': (SNPchiMp v.3:CHI1.0) 26:25676170 [A/G] <> (dbSNP151:CHI1.0) 0:0 [A/G]\n",
      "Locations differ for 'rs268256048': (SNPchiMp v.3:CHI1.0) 26:25571848 [A/G] <> (dbSNP151:CHI1.0) 0:0 [A/G]\n",
      "Locations differ for 'rs268256049': (SNPchiMp v.3:CHI1.0) 6:110097742 [A/G] <> (dbSNP151:CHI1.0) 0:0 [A/G]\n",
      "Locations differ for 'rs268256050': (SNPchiMp v.3:CHI1.0) 6:110131936 [A/G] <> (dbSNP151:CHI1.0) 0:0 [A/G]\n",
      "Locations differ for 'rs268256051': (SNPchiMp v.3:CHI1.0) 26:25460260 [A/G] <> (dbSNP151:CHI1.0) 0:0 [A/G]\n",
      "Locations differ for 'rs268256052': (SNPchiMp v.3:CHI1.0) 26:25427707 [A/C] <> (dbSNP151:CHI1.0) 0:0 [A/C]\n",
      "Locations differ for 'rs268256229': (SNPchiMp v.3:CHI1.0) 21:13317398 [A/G] <> (dbSNP151:CHI1.0) 0:0 [A/G]\n",
      "Locations differ for 'rs268257837': (SNPchiMp v.3:CHI1.0) 20:26537589 [A/G] <> (dbSNP151:CHI1.0) 0:0 [A/G]\n",
      "Locations differ for 'rs268259100': (SNPchiMp v.3:CHI1.0) 6:35210909 [A/G] <> (dbSNP151:CHI1.0) 0:0 [A/G]\n",
      "Locations differ for 'rs268259236': (SNPchiMp v.3:CHI1.0) 5:36251305 [A/G] <> (dbSNP151:CHI1.0) 0:0 [A/G]\n",
      "Locations differ for 'rs268261351': (SNPchiMp v.3:CHI1.0) 2:60819618 [A/G] <> (dbSNP151:CHI1.0) 0:0 [A/G]\n",
      "Locations differ for 'rs268261974': (SNPchiMp v.3:CHI1.0) 26:41030259 [A/G] <> (dbSNP151:CHI1.0) 0:0 [A/G]\n",
      "Locations differ for 'rs268262089': (SNPchiMp v.3:CHI1.0) 7:64830472 [A/C] <> (dbSNP151:CHI1.0) 0:0 [A/C]\n",
      "Locations differ for 'rs268262455': (SNPchiMp v.3:CHI1.0) 4:91794653 [A/G] <> (dbSNP151:CHI1.0) 0:0 [A/G]\n",
      "Locations differ for 'rs268263179': (SNPchiMp v.3:CHI1.0) 2:94513392 [A/G] <> (dbSNP151:CHI1.0) 0:0 [A/G]\n",
      "Locations differ for 'rs268263312': (SNPchiMp v.3:CHI1.0) 6:8226906 [A/G] <> (dbSNP151:CHI1.0) 0:0 [A/G]\n",
      "Locations differ for 'rs268263956': (SNPchiMp v.3:CHI1.0) 6:865635 [A/G] <> (dbSNP151:CHI1.0) 0:0 [A/G]\n",
      "Locations differ for 'rs268267194': (SNPchiMp v.3:CHI1.0) 6:49371788 [A/G] <> (dbSNP151:CHI1.0) 0:0 [A/G]\n",
      "Locations differ for 'rs268270588': (SNPchiMp v.3:CHI1.0) 5:22890 [A/C] <> (dbSNP151:CHI1.0) 0:0 [A/C]\n",
      "Locations differ for 'rs268272057': (SNPchiMp v.3:CHI1.0) 6:61984096 [A/G] <> (dbSNP151:CHI1.0) 0:0 [A/G]\n",
      "Locations differ for 'rs268272310': (SNPchiMp v.3:CHI1.0) 2:87018695 [A/C] <> (dbSNP151:CHI1.0) 0:0 [A/C]\n",
      "Locations differ for 'rs268273847': (SNPchiMp v.3:CHI1.0) 18:8717665 [A/G] <> (dbSNP151:CHI1.0) 0:0 [A/G]\n",
      "Locations differ for 'rs268276718': (SNPchiMp v.3:CHI1.0) 13:2545515 [A/G] <> (dbSNP151:CHI1.0) 0:0 [A/G]\n",
      "Locations differ for 'rs268277017': (SNPchiMp v.3:CHI1.0) 29:4406626 [A/G] <> (dbSNP151:CHI1.0) 0:0 [A/G]\n",
      "Locations differ for 'rs268277107': (SNPchiMp v.3:CHI1.0) 11:18186072 [A/G] <> (dbSNP151:CHI1.0) 0:0 [A/G]\n",
      "Locations differ for 'rs268277889': (SNPchiMp v.3:CHI1.0) 18:56546770 [A/G] <> (dbSNP151:CHI1.0) 0:0 [A/G]\n",
      "Locations differ for 'rs268279644': (SNPchiMp v.3:CHI1.0) 14:170857 [A/G] <> (dbSNP151:CHI1.0) 0:0 [A/G]\n",
      "Locations differ for 'rs268285671': (SNPchiMp v.3:CHI1.0) 5:7700098 [A/G] <> (dbSNP151:CHI1.0) 0:0 [A/G]\n",
      "Locations differ for 'rs268286142': (SNPchiMp v.3:CHI1.0) 8:8807 [A/C] <> (dbSNP151:CHI1.0) 0:0 [A/C]\n",
      "Locations differ for 'rs268289002': (SNPchiMp v.3:CHI1.0) X:4182208 [A/G] <> (dbSNP151:CHI1.0) 0:0 [A/G]\n",
      "Locations differ for 'rs268289840': (SNPchiMp v.3:CHI1.0) 10:30471798 [A/G] <> (dbSNP151:CHI1.0) 0:0 [A/G]\n",
      "Locations differ for 'rs268290098': (SNPchiMp v.3:CHI1.0) 16:14529459 [A/C] <> (dbSNP151:CHI1.0) 0:0 [A/C]\n",
      "Locations differ for 'rs268290160': (SNPchiMp v.3:CHI1.0) 13:69699699 [A/G] <> (dbSNP151:CHI1.0) 0:0 [A/G]\n",
      "Locations differ for 'rs268291800': (SNPchiMp v.3:CHI1.0) 8:9877885 [A/G] <> (dbSNP151:CHI1.0) 0:0 [A/G]\n",
      "Locations differ for 'rs268291835': (SNPchiMp v.3:CHI1.0) 25:7701960 [A/G] <> (dbSNP151:CHI1.0) 0:0 [A/G]\n",
      "Locations differ for 'rs268292637': (SNPchiMp v.3:CHI1.0) 15:60587125 [A/G] <> (dbSNP151:CHI1.0) 0:0 [A/G]\n",
      "Locations differ for 'rs268293071': (SNPchiMp v.3:CHI1.0) 6:82686324 [A/G] <> (dbSNP151:CHI1.0) 0:0 [A/G]\n"
     ]
    },
    {
     "name": "stdout",
     "output_type": "stream",
     "text": [
      "There are 70 SNP with multiple mapping positions\n"
     ]
    }
   ],
   "source": [
    "multi = list([name, location, snp] for name, location, snp in find_IGGC_SNPs(filename=\"/home/cozzip/SNPchimp/dbSNP/GOA/BUILD152/ds_chMulti.xml.gz\"))\n",
    "print(f\"There are {len(multi)} SNP with multiple mapping positions\")"
   ]
  },
  {
   "cell_type": "markdown",
   "id": "b50b9d87-2261-4dea-aaa4-ef8842388606",
   "metadata": {},
   "source": [
    "And are they any SNP with no chromosome positions (unmapped)?"
   ]
  },
  {
   "cell_type": "code",
   "execution_count": 17,
   "id": "10b9bff9-03fd-42e6-8436-f6b4b999f66d",
   "metadata": {},
   "outputs": [
    {
     "name": "stderr",
     "output_type": "stream",
     "text": [
      "Locations differ for 'rs268233477': (SNPchiMp v.3:CHI1.0) 9:47141083 [A/C] <> (dbSNP151:CHI1.0) 0:0 [A/C]\n",
      "Locations differ for 'rs268234405': (SNPchiMp v.3:CHI1.0) X:49874736 [A/G] <> (dbSNP151:CHI1.0) 0:0 [A/G]\n",
      "Locations differ for 'rs268236164': (SNPchiMp v.3:CHI1.0) 12:30613418 [A/G] <> (dbSNP151:CHI1.0) 0:0 [A/G]\n",
      "Locations differ for 'rs268236323': (SNPchiMp v.3:CHI1.0) X:56494934 [A/G] <> (dbSNP151:CHI1.0) 0:0 [A/G]\n",
      "Locations differ for 'rs268239094': (SNPchiMp v.3:CHI1.0) 13:10594982 [A/G] <> (dbSNP151:CHI1.0) 0:0 [A/G]\n",
      "Locations differ for 'rs268240691': (SNPchiMp v.3:CHI1.0) X:69206854 [A/G] <> (dbSNP151:CHI1.0) 0:0 [A/G]\n",
      "Locations differ for 'rs268243362': (SNPchiMp v.3:CHI1.0) 4:97644567 [A/G] <> (dbSNP151:CHI1.0) 0:0 [A/G]\n",
      "Locations differ for 'rs268244618': (SNPchiMp v.3:CHI1.0) 1:27102919 [A/C] <> (dbSNP151:CHI1.0) 0:0 [A/C]\n",
      "Locations differ for 'rs268247290': (SNPchiMp v.3:CHI1.0) 29:44983365 [A/C] <> (dbSNP151:CHI1.0) 0:0 [A/C]\n",
      "Locations differ for 'rs268252073': (SNPchiMp v.3:CHI1.0) 28:11204289 [A/G] <> (dbSNP151:CHI1.0) 0:0 [A/G]\n",
      "Locations differ for 'rs268252883': (SNPchiMp v.3:CHI1.0) 2:30112887 [A/G] <> (dbSNP151:CHI1.0) 0:0 [A/G]\n",
      "Locations differ for 'rs268253334': (SNPchiMp v.3:CHI1.0) 4:114999710 [A/G] <> (dbSNP151:CHI1.0) 0:0 [A/G]\n",
      "Locations differ for 'rs268257270': (SNPchiMp v.3:CHI1.0) 7:61634224 [A/G] <> (dbSNP151:CHI1.0) 0:0 [A/G]\n",
      "Locations differ for 'rs268257454': (SNPchiMp v.3:CHI1.0) 25:838347 [A/G] <> (dbSNP151:CHI1.0) 0:0 [A/G]\n",
      "Locations differ for 'rs268260593': (SNPchiMp v.3:CHI1.0) 2:28533364 [A/G] <> (dbSNP151:CHI1.0) 0:0 [A/G]\n",
      "Locations differ for 'rs268260747': (SNPchiMp v.3:CHI1.0) 19:33280741 [A/G] <> (dbSNP151:CHI1.0) 0:0 [A/G]\n",
      "Locations differ for 'rs268261217': (SNPchiMp v.3:CHI1.0) 26:49404000 [A/G] <> (dbSNP151:CHI1.0) 0:0 [A/G]\n",
      "Locations differ for 'rs268262535': (SNPchiMp v.3:CHI1.0) 27:9032220 [A/G] <> (dbSNP151:CHI1.0) 0:0 [A/G]\n",
      "Locations differ for 'rs268262988': (SNPchiMp v.3:CHI1.0) 27:4053757 [A/G] <> (dbSNP151:CHI1.0) 0:0 [A/G]\n",
      "Locations differ for 'rs268265395': (SNPchiMp v.3:CHI1.0) 18:44588473 [A/G] <> (dbSNP151:CHI1.0) 0:0 [A/G]\n",
      "Locations differ for 'rs268267853': (SNPchiMp v.3:CHI1.0) 2:38510335 [A/G] <> (dbSNP151:CHI1.0) 0:0 [A/G]\n",
      "Locations differ for 'rs268267978': (SNPchiMp v.3:CHI1.0) 2:43678657 [A/G] <> (dbSNP151:CHI1.0) 0:0 [A/G]\n",
      "Locations differ for 'rs268268083': (SNPchiMp v.3:CHI1.0) 12:48184994 [A/G] <> (dbSNP151:CHI1.0) 0:0 [A/G]\n",
      "Locations differ for 'rs268270031': (SNPchiMp v.3:CHI1.0) X:55008454 [A/G] <> (dbSNP151:CHI1.0) 0:0 [A/G]\n",
      "Locations differ for 'rs268272726': (SNPchiMp v.3:CHI1.0) 5:28948507 [A/G] <> (dbSNP151:CHI1.0) 0:0 [A/G]\n",
      "Locations differ for 'rs268273622': (SNPchiMp v.3:CHI1.0) 15:47407147 [A/G] <> (dbSNP151:CHI1.0) 0:0 [A/G]\n",
      "Locations differ for 'rs268274956': (SNPchiMp v.3:CHI1.0) 10:91617518 [A/C] <> (dbSNP151:CHI1.0) 0:0 [A/C]\n",
      "Locations differ for 'rs268275415': (SNPchiMp v.3:CHI1.0) 3:30298510 [A/G] <> (dbSNP151:CHI1.0) 0:0 [A/G]\n",
      "Locations differ for 'rs268275423': (SNPchiMp v.3:CHI1.0) 17:33432388 [A/C] <> (dbSNP151:CHI1.0) 0:0 [A/C]\n",
      "Locations differ for 'rs268275476': (SNPchiMp v.3:CHI1.0) 3:35558017 [A/G] <> (dbSNP151:CHI1.0) 0:0 [A/G]\n",
      "Locations differ for 'rs268277796': (SNPchiMp v.3:CHI1.0) X:35483352 [A/G] <> (dbSNP151:CHI1.0) 0:0 [A/G]\n",
      "Locations differ for 'rs268278982': (SNPchiMp v.3:CHI1.0) 8:46177987 [A/G] <> (dbSNP151:CHI1.0) 0:0 [A/G]\n",
      "Locations differ for 'rs268281805': (SNPchiMp v.3:CHI1.0) 12:20246304 [A/G] <> (dbSNP151:CHI1.0) 0:0 [A/G]\n",
      "Locations differ for 'rs268283825': (SNPchiMp v.3:CHI1.0) 2:122616014 [A/G] <> (dbSNP151:CHI1.0) 0:0 [A/G]\n",
      "Locations differ for 'rs268288421': (SNPchiMp v.3:CHI1.0) 7:81919546 [A/G] <> (dbSNP151:CHI1.0) 0:0 [A/G]\n",
      "Locations differ for 'rs268288725': (SNPchiMp v.3:CHI1.0) 3:98411389 [A/G] <> (dbSNP151:CHI1.0) 0:0 [A/G]\n",
      "Locations differ for 'rs268292449': (SNPchiMp v.3:CHI1.0) 9:80005884 [A/G] <> (dbSNP151:CHI1.0) 0:0 [A/G]\n"
     ]
    },
    {
     "name": "stdout",
     "output_type": "stream",
     "text": [
      "There are 44 SNP with no mapping positions\n"
     ]
    }
   ],
   "source": [
    "noton = list([name, location, snp] for name, location, snp in find_IGGC_SNPs(filename=\"/home/cozzip/SNPchimp/dbSNP/GOA/BUILD152/ds_chNotOn.xml.gz\"))\n",
    "print(f\"There are {len(noton)} SNP with no mapping positions\")"
   ]
  },
  {
   "cell_type": "markdown",
   "id": "760ecd6b-9fa6-4cd6-a647-bfa00972f429",
   "metadata": {},
   "source": [
    "There are SNPs in unknown chromosomes:"
   ]
  },
  {
   "cell_type": "code",
   "execution_count": 18,
   "id": "c1b774f4-3628-4970-97b0-985d4a5eecdd",
   "metadata": {},
   "outputs": [
    {
     "name": "stderr",
     "output_type": "stream",
     "text": [
      "Locations differ for 'rs268289076': (SNPchiMp v.3:CHI1.0) X:7799714 [A/G] <> (dbSNP151:CHI1.0) 0:0 [A/G]\n",
      "Locations differ for 'rs268291307': (SNPchiMp v.3:CHI1.0) X:76324533 [A/G] <> (dbSNP151:CHI1.0) 0:0 [A/G]\n",
      "Locations differ for 'rs268291954': (SNPchiMp v.3:CHI1.0) X:65611494 [A/G] <> (dbSNP151:CHI1.0) 0:0 [A/G]\n"
     ]
    },
    {
     "name": "stdout",
     "output_type": "stream",
     "text": [
      "There are 1401 SNP with unknown positions\n"
     ]
    }
   ],
   "source": [
    "unknown = list([name, location, snp] for name, location, snp in find_IGGC_SNPs(filename=\"/home/cozzip/SNPchimp/dbSNP/GOA/BUILD152/ds_chUn.xml.gz\"))\n",
    "print(f\"There are {len(unknown)} SNP with unknown positions\")"
   ]
  },
  {
   "cell_type": "code",
   "execution_count": null,
   "id": "583df61b-9f23-4060-a487-3e53b29091c5",
   "metadata": {},
   "outputs": [],
   "source": []
  }
 ],
 "metadata": {
  "kernelspec": {
   "display_name": "Python 3",
   "language": "python",
   "name": "python3"
  },
  "language_info": {
   "codemirror_mode": {
    "name": "ipython",
    "version": 3
   },
   "file_extension": ".py",
   "mimetype": "text/x-python",
   "name": "python",
   "nbconvert_exporter": "python",
   "pygments_lexer": "ipython3",
   "version": "3.9.1"
  }
 },
 "nbformat": 4,
 "nbformat_minor": 5
}
