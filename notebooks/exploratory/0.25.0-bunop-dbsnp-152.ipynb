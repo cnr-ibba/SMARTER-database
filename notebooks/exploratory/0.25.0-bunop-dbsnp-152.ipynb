{
 "cells": [
  {
   "cell_type": "markdown",
   "id": "d00ba1a6-81cc-4b20-b8bd-ce4cc9d8f9d0",
   "metadata": {},
   "source": [
    "# SMARTER and dbSNP152\n",
    "This is an attempt to investigate on *dbSNP* xml file and determining if this information can be integrated into **SMARTER** database. Ok, import some libraries:"
   ]
  },
  {
   "cell_type": "code",
   "execution_count": 1,
   "id": "ed8cb602-0007-4bd3-b9c6-da8700381234",
   "metadata": {},
   "outputs": [],
   "source": [
    "from functools import partial\n",
    "\n",
    "import json\n",
    "import copy\n",
    "import logging\n",
    "\n",
    "from src.features.smarterdb import VariantSheep, global_connection, Location\n",
    "from src.features.dbsnp import read_dbSNP, search_chip_snps\n",
    "from src.features.illumina import IlluSNP"
   ]
  },
  {
   "cell_type": "code",
   "execution_count": 2,
   "id": "6980f197-fb95-43f0-98f4-d7d3a1f80101",
   "metadata": {},
   "outputs": [],
   "source": [
    "conn = global_connection()\n",
    "logging.getLogger('src.features.dbsnp').setLevel(logging.ERROR)\n",
    "logger = logging.getLogger(__name__)"
   ]
  },
  {
   "cell_type": "markdown",
   "id": "7b037eb5-0eef-4776-b558-640ccbce1642",
   "metadata": {},
   "source": [
    "Focusing on Sheep, first. Try to extract all the SNP names I have from illumina manifest:"
   ]
  },
  {
   "cell_type": "code",
   "execution_count": 3,
   "id": "963de78e-9b91-43a7-becf-7790092dbaa6",
   "metadata": {},
   "outputs": [],
   "source": [
    "all_snp_names = set([variant.name for variant in VariantSheep.objects.filter(chip_name__in=[\"IlluminaOvineSNP50\", \"IlluminaOvineHDSNP\"]).fields(name=1)])"
   ]
  },
  {
   "cell_type": "markdown",
   "id": "c22265d0-c8dd-4e77-b5e7-42afe712c44a",
   "metadata": {},
   "source": [
    "Try to define some functions which can help me to find SNPs of interest"
   ]
  },
  {
   "cell_type": "code",
   "execution_count": 4,
   "id": "299c28fe-6fd2-48d7-9f69-a66ed1f28629",
   "metadata": {},
   "outputs": [],
   "source": [
    "def filter_ss(snp: dict, handle: str):\n",
    "    \"\"\"Getting a SNP object. Return a new SNP object\n",
    "    with the exemplar SS and the handle SS. Is the \n",
    "    exemplar is the same as handle, return only a SS\n",
    "    object\"\"\"\n",
    "    \n",
    "    new_ss = []\n",
    "    new_snp = copy.deepcopy(snp)\n",
    "    exemplar = snp['exemplar']['exemplarSs']\n",
    "    filtered = []\n",
    "    for ss in snp['ss']:\n",
    "        if ss['ssId'] == exemplar or ss['handle'] == handle:\n",
    "            if ss['ssId'] not in filtered:\n",
    "                new_ss.append(ss)\n",
    "                filtered.append(ss['ssId'])\n",
    "    new_snp['ss'] = new_ss\n",
    "    return new_snp\n",
    "\n",
    "\n",
    "def find_AGRBS_SNP(filename, handle='AGR_BS', version=\"Oar_v4.0\", source=\"dbSNP151\"):\n",
    "    handle_filter = partial(search_chip_snps, handle=handle)\n",
    "    \n",
    "    for snp in filter(handle_filter, read_dbSNP(filename)):\n",
    "        # first filter out SS\n",
    "        filtered_snp = filter_ss(snp, handle)\n",
    "    \n",
    "        # now get only the SS objects with the required handle\n",
    "        sss = list(filter(lambda ss: ss['handle'] == handle, snp['ss']))\n",
    "        \n",
    "        # test for locSnpId in my database\n",
    "        locSnpIds = set([ss['locSnpId'] for ss in sss])\n",
    "        \n",
    "        # Skip variants not in database\n",
    "        if not locSnpIds.intersection(all_snp_names):\n",
    "            continue\n",
    "\n",
    "        if len(sss) > 1:\n",
    "            logger.debug(f\"More than 1 ss found for 'rs{snp['rsId']}'\")\n",
    "\n",
    "            locSnpIds = [ss['locSnpId'] for ss in sss]\n",
    "            variants = VariantSheep.objects.filter(name__in=locSnpIds)\n",
    "\n",
    "        elif len(sss) == 1:\n",
    "            ss = sss[0]\n",
    "\n",
    "            # ok get a variant from database and return it\n",
    "            variants = VariantSheep.objects.filter(name=ss['locSnpId'])\n",
    "            \n",
    "        if len(variants) > 1:\n",
    "            logger.warning(f\"Got {len(variants)} Variants for 'rs{snp['rsId']}'\")\n",
    "\n",
    "        for variant in variants:\n",
    "            # get the SS relying on ss[locSnpId']\n",
    "            ss = next(filter(lambda ss: ss['locSnpId']==variant.name, filtered_snp['ss']))\n",
    "            assembly = filtered_snp.get('assembly')\n",
    "\n",
    "            # dbSNP is the primary source of SNPchiMp\n",
    "            location = variant.get_location(version, imported_from=\"SNPchiMp v.3\")\n",
    "\n",
    "            # get illumina sequence\n",
    "            if \"IlluminaOvineHDSNP\" in variant.sequence:\n",
    "                sequence = variant.sequence[\"IlluminaOvineHDSNP\"]\n",
    "            else:\n",
    "                sequence = variant.sequence[\"IlluminaOvineSNP50\"]\n",
    "                \n",
    "            illu_snp = IlluSNP(sequence=sequence, max_iter=25)\n",
    "            \n",
    "            if assembly and assembly['snpstat']['mapWeight'] == 'unique-in-contig':\n",
    "                # create a new location object\n",
    "                new_location = Location(\n",
    "                    ss_id=f\"ss{ss['ssId']}\", \n",
    "                    version=version, \n",
    "                    imported_from=source, \n",
    "                    chrom=assembly['component']['chromosome'], \n",
    "                    position=int(assembly['component']['maploc']['physMapInt'])+1, \n",
    "                    alleles=ss['observed'], \n",
    "                    illumina_strand=ss.get('strand', illu_snp.strand), \n",
    "                    strand=ss.get('orient'), \n",
    "                    illumina=illu_snp.illumina\n",
    "                )\n",
    "                \n",
    "            else:\n",
    "                # create a new location object for a not-mapped SNP\n",
    "                new_location = Location(\n",
    "                    ss_id=f\"ss{ss['ssId']}\", \n",
    "                    version=version, \n",
    "                    imported_from=source, \n",
    "                    chrom=\"0\", \n",
    "                    position=0, \n",
    "                    alleles=ss['observed'], \n",
    "                    illumina_strand=ss.get('strand', illu_snp.strand), \n",
    "                    strand=ss.get('orient'), \n",
    "                    illumina=illu_snp.illumina\n",
    "                )\n",
    "                \n",
    "            # test for equality\n",
    "            if new_location != location:\n",
    "                logger.warning(f\"Locations differ for 'rs{snp['rsId']}': {location} <> {new_location}\")\n",
    "\n",
    "            yield variant.name, new_location, filtered_snp"
   ]
  },
  {
   "cell_type": "markdown",
   "id": "8cf2faae-e5e3-497f-b898-591752df0eb9",
   "metadata": {},
   "source": [
    "Ok try to read the *dbSNP* dump file for *sheep* chromosome `24`:"
   ]
  },
  {
   "cell_type": "code",
   "execution_count": 5,
   "id": "c97c634e-5d74-4710-94fd-03abf2d5e5e4",
   "metadata": {},
   "outputs": [],
   "source": [
    "data = list([name, location, snp] for name, location, snp in find_AGRBS_SNP(filename=\"/home/cozzip/SNPchimp/dbSNP/SHE/BUILD152/ds_ch24.xml.gz\"))"
   ]
  },
  {
   "cell_type": "code",
   "execution_count": 6,
   "id": "6f3aa108-5762-460f-afb6-db8abd77fe9f",
   "metadata": {},
   "outputs": [
    {
     "name": "stdout",
     "output_type": "stream",
     "text": [
      "There are 10546 SNPs read from chromosome 24\n"
     ]
    }
   ],
   "source": [
    "print(f\"There are {len(data)} SNPs read from chromosome 24\")"
   ]
  },
  {
   "cell_type": "markdown",
   "id": "4582bde9-29da-45b7-a05a-9c086fd29fd9",
   "metadata": {},
   "source": [
    "Are there any SNP placed on chromosome 24 not updated by this process? First collect all variant names from previous step"
   ]
  },
  {
   "cell_type": "code",
   "execution_count": 7,
   "id": "075f6643-c35a-45dc-b2ae-d32f3f304966",
   "metadata": {},
   "outputs": [],
   "source": [
    "names = [line[0] for line in data]"
   ]
  },
  {
   "cell_type": "markdown",
   "id": "de89facf-3b74-469c-8b89-8b3df1645ec1",
   "metadata": {},
   "source": [
    "Now search for SNP in database not in the latest *dbSNP*"
   ]
  },
  {
   "cell_type": "code",
   "execution_count": 8,
   "id": "340a0f05-c26f-4969-bb5d-f3c77f03fe16",
   "metadata": {},
   "outputs": [
    {
     "data": {
      "text/plain": [
       "[<VariantSheep: name='s03210.1', rs_id='['rs423317607']', illumina_top='A/G'>, <VariantSheep: name='s34597.1', rs_id='['rs424386834']', illumina_top='A/G'>, <VariantSheep: name='DU443720_334.1', rs_id='['rs411374027']', illumina_top='A/G'>]"
      ]
     },
     "execution_count": 8,
     "metadata": {},
     "output_type": "execute_result"
    }
   ],
   "source": [
    "not_in_dbsnp = VariantSheep.objects.filter(\n",
    "    locations__match={\"version\": \"Oar_v4.0\", \"chrom\": \"24\", \"imported_from\": \"SNPchiMp v.3\"}, \n",
    "    chip_name=\"IlluminaOvineSNP50\", \n",
    "    name__nin=names)\n",
    "not_in_dbsnp"
   ]
  },
  {
   "cell_type": "markdown",
   "id": "655949d7-2e9f-4e81-8137-8262ed59dd83",
   "metadata": {},
   "source": [
    "I found snp `s03210.1` in `ds_chMulti.xml.gz` file: this SNP seems to be removed from NCBI cause multi mapping. The same *rsId* is absent eve in EVA. Are there any other SNP removed from dbSNP?"
   ]
  },
  {
   "cell_type": "code",
   "execution_count": 9,
   "id": "2c6a5ea1-390a-47d8-8226-ed5460306c7d",
   "metadata": {},
   "outputs": [
    {
     "name": "stderr",
     "output_type": "stream",
     "text": [
      "Locations differ for 'rs160794292': (SNPchiMp v.3:Oar_v4.0) 12:49430945 [A/G] <> (dbSNP151:Oar_v4.0) 0:0 [A/G]\n",
      "Locations differ for 'rs398625579': (SNPchiMp v.3:Oar_v4.0) 14:39009087 [A/G] <> (dbSNP151:Oar_v4.0) 0:0 [A/G]\n",
      "Locations differ for 'rs399204443': (SNPchiMp v.3:Oar_v4.0) 15:16260018 [A/G] <> (dbSNP151:Oar_v4.0) 0:0 [A/G]\n",
      "Locations differ for 'rs399565101': (SNPchiMp v.3:Oar_v4.0) 15:3426211 [A/G] <> (dbSNP151:Oar_v4.0) 0:0 [A/G]\n",
      "Locations differ for 'rs399927424': (SNPchiMp v.3:Oar_v4.0) 2:236844974 [A/G] <> (dbSNP151:Oar_v4.0) 0:0 [A/G]\n",
      "Locations differ for 'rs400201062': (SNPchiMp v.3:Oar_v4.0) 26:2270791 [A/G] <> (dbSNP151:Oar_v4.0) 0:0 [A/G]\n",
      "Locations differ for 'rs400254267': (SNPchiMp v.3:Oar_v4.0) 6:9752440 [A/G] <> (dbSNP151:Oar_v4.0) 0:0 [A/G]\n",
      "Locations differ for 'rs400434071': (SNPchiMp v.3:Oar_v4.0) 21:952413 [C/G] <> (dbSNP151:Oar_v4.0) 0:0 [C/G]\n",
      "Locations differ for 'rs400456207': (SNPchiMp v.3:Oar_v4.0) 10:57742973 [A/G] <> (dbSNP151:Oar_v4.0) 0:0 [A/G]\n",
      "Locations differ for 'rs400749895': (SNPchiMp v.3:Oar_v4.0) 1:217678762 [A/C] <> (dbSNP151:Oar_v4.0) 0:0 [A/C]\n",
      "Locations differ for 'rs401496325': (SNPchiMp v.3:Oar_v4.0) 12:8525497 [A/G] <> (dbSNP151:Oar_v4.0) 0:0 [A/G]\n",
      "Locations differ for 'rs402213612': (SNPchiMp v.3:Oar_v4.0) 12:51447900 [A/C] <> (dbSNP151:Oar_v4.0) 0:0 [A/C]\n",
      "Locations differ for 'rs402252536': (SNPchiMp v.3:Oar_v4.0) 25:41638183 [A/G] <> (dbSNP151:Oar_v4.0) 0:0 [A/G]\n",
      "Locations differ for 'rs402863641': (SNPchiMp v.3:Oar_v4.0) 1:106076433 [A/G] <> (dbSNP151:Oar_v4.0) 0:0 [A/G]\n",
      "Locations differ for 'rs403706804': (SNPchiMp v.3:Oar_v4.0) 4:112472818 [A/G] <> (dbSNP151:Oar_v4.0) 0:0 [A/G]\n",
      "Locations differ for 'rs405276567': (SNPchiMp v.3:Oar_v4.0) 1:107625664 [A/G] <> (dbSNP151:Oar_v4.0) 0:0 [A/G]\n",
      "Locations differ for 'rs405378109': (SNPchiMp v.3:Oar_v4.0) 12:78273267 [A/G] <> (dbSNP151:Oar_v4.0) 0:0 [A/G]\n",
      "Locations differ for 'rs405552742': (SNPchiMp v.3:Oar_v4.0) 17:68748145 [A/G] <> (dbSNP151:Oar_v4.0) 0:0 [A/G]\n",
      "Locations differ for 'rs405718855': (SNPchiMp v.3:Oar_v4.0) 3:206447058 [A/G] <> (dbSNP151:Oar_v4.0) 0:0 [A/G]\n",
      "Locations differ for 'rs405909101': (SNPchiMp v.3:Oar_v4.0) 14:4063351 [A/G] <> (dbSNP151:Oar_v4.0) 0:0 [A/G]\n",
      "Locations differ for 'rs405918590': (SNPchiMp v.3:Oar_v4.0) 4:75358470 [A/G] <> (dbSNP151:Oar_v4.0) 0:0 [A/G]\n",
      "Locations differ for 'rs406123642': (SNPchiMp v.3:Oar_v4.0) 16:67285821 [A/G] <> (dbSNP151:Oar_v4.0) 0:0 [A/G]\n",
      "Locations differ for 'rs406576583': (SNPchiMp v.3:Oar_v4.0) 3:7999220 [A/C] <> (dbSNP151:Oar_v4.0) 0:0 [A/C]\n",
      "Locations differ for 'rs407020800': (SNPchiMp v.3:Oar_v4.0) 19:59558609 [A/G] <> (dbSNP151:Oar_v4.0) 0:0 [A/G]\n",
      "Locations differ for 'rs407026359': (SNPchiMp v.3:Oar_v4.0) 1:267722034 [A/G] <> (dbSNP151:Oar_v4.0) 0:0 [A/G]\n",
      "Locations differ for 'rs407487613': (SNPchiMp v.3:Oar_v4.0) 14:60136440 [A/G] <> (dbSNP151:Oar_v4.0) 0:0 [A/G]\n",
      "Locations differ for 'rs407590819': (SNPchiMp v.3:Oar_v4.0) 10:34199310 [A/G] <> (dbSNP151:Oar_v4.0) 0:0 [A/G]\n",
      "Locations differ for 'rs407716677': (SNPchiMp v.3:Oar_v4.0) 14:27613048 [A/G] <> (dbSNP151:Oar_v4.0) 0:0 [A/G]\n",
      "Locations differ for 'rs407785596': (SNPchiMp v.3:Oar_v4.0) 6:68129585 [A/G] <> (dbSNP151:Oar_v4.0) 0:0 [A/G]\n",
      "Locations differ for 'rs407913609': (SNPchiMp v.3:Oar_v4.0) 18:2378665 [A/C] <> (dbSNP151:Oar_v4.0) 0:0 [A/C]\n",
      "Locations differ for 'rs408510633': (SNPchiMp v.3:Oar_v4.0) 13:16588113 [A/G] <> (dbSNP151:Oar_v4.0) 0:0 [A/G]\n",
      "Locations differ for 'rs408549500': (SNPchiMp v.3:Oar_v4.0) 7:7861065 [A/G] <> (dbSNP151:Oar_v4.0) 0:0 [A/G]\n",
      "Locations differ for 'rs409414135': (SNPchiMp v.3:Oar_v4.0) 2:96967564 [A/G] <> (dbSNP151:Oar_v4.0) 0:0 [A/G]\n",
      "Locations differ for 'rs409415213': (SNPchiMp v.3:Oar_v4.0) 1:195993950 [A/C] <> (dbSNP151:Oar_v4.0) 0:0 [A/C]\n",
      "Locations differ for 'rs409886749': (SNPchiMp v.3:Oar_v4.0) 4:89461199 [A/G] <> (dbSNP151:Oar_v4.0) 0:0 [A/G]\n",
      "Locations differ for 'rs410368917': (SNPchiMp v.3:Oar_v4.0) 26:28869519 [A/G] <> (dbSNP151:Oar_v4.0) 0:0 [A/G]\n",
      "Locations differ for 'rs410493959': (SNPchiMp v.3:Oar_v4.0) 1:44657909 [A/G] <> (dbSNP151:Oar_v4.0) 0:0 [A/G]\n",
      "Locations differ for 'rs410807621': (SNPchiMp v.3:Oar_v4.0) 3:73406176 [A/G] <> (dbSNP151:Oar_v4.0) 0:0 [A/G]\n",
      "Locations differ for 'rs411168011': (SNPchiMp v.3:Oar_v4.0) 9:7569248 [A/C] <> (dbSNP151:Oar_v4.0) 0:0 [A/C]\n",
      "Locations differ for 'rs411374027': (SNPchiMp v.3:Oar_v4.0) 24:41255643 [A/G] <> (dbSNP151:Oar_v4.0) 0:0 [A/G]\n",
      "Locations differ for 'rs411554937': (SNPchiMp v.3:Oar_v4.0) 1:77050230 [A/G] <> (dbSNP151:Oar_v4.0) 0:0 [A/G]\n",
      "Locations differ for 'rs412309017': (SNPchiMp v.3:Oar_v4.0) 5:98321862 [A/G] <> (dbSNP151:Oar_v4.0) 0:0 [A/G]\n",
      "Locations differ for 'rs412467556': (SNPchiMp v.3:Oar_v4.0) 2:186582168 [A/G] <> (dbSNP151:Oar_v4.0) 0:0 [A/G]\n",
      "Locations differ for 'rs413958026': (SNPchiMp v.3:Oar_v4.0) 3:82390653 [A/G] <> (dbSNP151:Oar_v4.0) 0:0 [A/G]\n",
      "Locations differ for 'rs415236480': (SNPchiMp v.3:Oar_v4.0) 6:110421063 [A/G] <> (dbSNP151:Oar_v4.0) 0:0 [A/G]\n",
      "Locations differ for 'rs415639506': (SNPchiMp v.3:Oar_v4.0) 1:122210613 [A/G] <> (dbSNP151:Oar_v4.0) 0:0 [A/G]\n",
      "Locations differ for 'rs415844707': (SNPchiMp v.3:Oar_v4.0) 1:122909689 [A/G] <> (dbSNP151:Oar_v4.0) 0:0 [A/G]\n",
      "Locations differ for 'rs415862700': (SNPchiMp v.3:Oar_v4.0) 6:15506663 [A/C] <> (dbSNP151:Oar_v4.0) 0:0 [A/C]\n",
      "Locations differ for 'rs416774967': (SNPchiMp v.3:Oar_v4.0) 18:60862438 [A/G] <> (dbSNP151:Oar_v4.0) 0:0 [A/G]\n",
      "Locations differ for 'rs416898367': (SNPchiMp v.3:Oar_v4.0) 7:31149729 [A/G] <> (dbSNP151:Oar_v4.0) 0:0 [A/G]\n",
      "Locations differ for 'rs416907531': (SNPchiMp v.3:Oar_v4.0) 21:48864787 [A/G] <> (dbSNP151:Oar_v4.0) 0:0 [A/G]\n",
      "Locations differ for 'rs417884458': (SNPchiMp v.3:Oar_v4.0) 4:47748256 [A/G] <> (dbSNP151:Oar_v4.0) 0:0 [A/G]\n",
      "Locations differ for 'rs418237318': (SNPchiMp v.3:Oar_v4.0) 10:10248353 [A/G] <> (dbSNP151:Oar_v4.0) 0:0 [A/G]\n",
      "Locations differ for 'rs418701535': (SNPchiMp v.3:Oar_v4.0) 2:245791728 [A/G] <> (dbSNP151:Oar_v4.0) 0:0 [A/G]\n",
      "Locations differ for 'rs419744835': (SNPchiMp v.3:Oar_v4.0) 1:164945412 [A/G] <> (dbSNP151:Oar_v4.0) 0:0 [A/G]\n",
      "Locations differ for 'rs419913109': (SNPchiMp v.3:Oar_v4.0) 17:71744589 [A/G] <> (dbSNP151:Oar_v4.0) 0:0 [A/G]\n",
      "Locations differ for 'rs420141081': (SNPchiMp v.3:Oar_v4.0) 11:46990322 [A/G] <> (dbSNP151:Oar_v4.0) 0:0 [A/G]\n",
      "Locations differ for 'rs420606997': (SNPchiMp v.3:Oar_v4.0) 9:42107396 [A/G] <> (dbSNP151:Oar_v4.0) 0:0 [A/G]\n",
      "Locations differ for 'rs421502658': (SNPchiMp v.3:Oar_v4.0) 17:25739666 [A/G] <> (dbSNP151:Oar_v4.0) 0:0 [A/G]\n",
      "Locations differ for 'rs422257119': (SNPchiMp v.3:Oar_v4.0) 12:56481458 [A/C] <> (dbSNP151:Oar_v4.0) 0:0 [A/C]\n",
      "Locations differ for 'rs422425754': (SNPchiMp v.3:Oar_v4.0) 18:33901551 [A/G] <> (dbSNP151:Oar_v4.0) 0:0 [A/G]\n",
      "Locations differ for 'rs423046868': (SNPchiMp v.3:Oar_v4.0) 3:145124594 [A/G] <> (dbSNP151:Oar_v4.0) 0:0 [A/G]\n",
      "Locations differ for 'rs423317607': (SNPchiMp v.3:Oar_v4.0) 24:15820031 [A/G] <> (dbSNP151:Oar_v4.0) 0:0 [A/G]\n",
      "Locations differ for 'rs423637512': (SNPchiMp v.3:Oar_v4.0) 16:9773138 [A/G] <> (dbSNP151:Oar_v4.0) 0:0 [A/G]\n",
      "Locations differ for 'rs424245873': (SNPchiMp v.3:Oar_v4.0) 3:88946195 [A/G] <> (dbSNP151:Oar_v4.0) 0:0 [A/G]\n",
      "Locations differ for 'rs424386834': (SNPchiMp v.3:Oar_v4.0) 24:36396510 [A/G] <> (dbSNP151:Oar_v4.0) 0:0 [A/G]\n",
      "Locations differ for 'rs425201347': (SNPchiMp v.3:Oar_v4.0) 3:206447114 [A/G] <> (dbSNP151:Oar_v4.0) 0:0 [A/G]\n",
      "Locations differ for 'rs425411320': (SNPchiMp v.3:Oar_v4.0) 12:7765089 [A/G] <> (dbSNP151:Oar_v4.0) 0:0 [A/G]\n",
      "Locations differ for 'rs425665861': (SNPchiMp v.3:Oar_v4.0) 1:219738670 [A/G] <> (dbSNP151:Oar_v4.0) 0:0 [A/G]\n",
      "Locations differ for 'rs425757164': (SNPchiMp v.3:Oar_v4.0) 6:30640144 [A/G] <> (dbSNP151:Oar_v4.0) 0:0 [A/G]\n",
      "Locations differ for 'rs425776311': (SNPchiMp v.3:Oar_v4.0) 15:62873974 [A/G] <> (dbSNP151:Oar_v4.0) 0:0 [A/G]\n",
      "Locations differ for 'rs426390019': (SNPchiMp v.3:Oar_v4.0) 2:198382299 [A/C] <> (dbSNP151:Oar_v4.0) 0:0 [A/C]\n",
      "Locations differ for 'rs426785288': (SNPchiMp v.3:Oar_v4.0) 13:32723062 [A/G] <> (dbSNP151:Oar_v4.0) 0:0 [A/G]\n",
      "Locations differ for 'rs427754928': (SNPchiMp v.3:Oar_v4.0) 3:22530190 [A/G] <> (dbSNP151:Oar_v4.0) 0:0 [A/G]\n",
      "Locations differ for 'rs428642031': (SNPchiMp v.3:Oar_v4.0) X:113713874 [A/C] <> (dbSNP151:Oar_v4.0) 0:0 [A/C]\n",
      "Locations differ for 'rs428977663': (SNPchiMp v.3:Oar_v4.0) 3:136894160 [A/G] <> (dbSNP151:Oar_v4.0) 0:0 [A/G]\n",
      "Locations differ for 'rs429751682': (SNPchiMp v.3:Oar_v4.0) 14:44118763 [A/G] <> (dbSNP151:Oar_v4.0) 0:0 [A/G]\n",
      "Locations differ for 'rs430063557': (SNPchiMp v.3:Oar_v4.0) 9:61979961 [A/C] <> (dbSNP151:Oar_v4.0) 0:0 [A/C]\n",
      "Locations differ for 'rs430220723': (SNPchiMp v.3:Oar_v4.0) 9:16948309 [A/G] <> (dbSNP151:Oar_v4.0) 0:0 [A/G]\n",
      "Locations differ for 'rs430422221': (SNPchiMp v.3:Oar_v4.0) 3:205403164 [A/G] <> (dbSNP151:Oar_v4.0) 0:0 [A/G]\n",
      "Locations differ for 'rs430774169': (SNPchiMp v.3:Oar_v4.0) 21:35463955 [A/G] <> (dbSNP151:Oar_v4.0) 0:0 [A/G]\n"
     ]
    },
    {
     "name": "stdout",
     "output_type": "stream",
     "text": [
      "There are 191 SNP with multiple mapping positions\n"
     ]
    }
   ],
   "source": [
    "multi = list([name, location, snp] for name, location, snp in find_AGRBS_SNP(filename=\"/home/cozzip/SNPchimp/dbSNP/SHE/BUILD152/ds_chMulti.xml.gz\"))\n",
    "print(f\"There are {len(multi)} SNP with multiple mapping positions\")"
   ]
  },
  {
   "cell_type": "markdown",
   "id": "66ec95b0-939e-40b6-aa7a-bd691312c15f",
   "metadata": {},
   "source": [
    "And are they any SNP with no chromosome positions (unmapped)?"
   ]
  },
  {
   "cell_type": "code",
   "execution_count": 10,
   "id": "0a72c317-8a0d-4436-a3fc-6fa831eb3176",
   "metadata": {},
   "outputs": [
    {
     "name": "stderr",
     "output_type": "stream",
     "text": [
      "Got 2 Variants for 'rs160403113'\n",
      "Got 2 Variants for 'rs402137533'\n",
      "Got 2 Variants for 'rs411572125'\n",
      "Got 2 Variants for 'rs414994086'\n",
      "Got 2 Variants for 'rs417009700'\n",
      "Got 2 Variants for 'rs419271878'\n",
      "Got 2 Variants for 'rs421030064'\n",
      "Got 2 Variants for 'rs424177120'\n",
      "Got 2 Variants for 'rs424922202'\n",
      "Got 2 Variants for 'rs429936770'\n"
     ]
    },
    {
     "name": "stdout",
     "output_type": "stream",
     "text": [
      "There are 167 SNP with no mapping positions\n"
     ]
    }
   ],
   "source": [
    "noton = list([name, location, snp] for name, location, snp in find_AGRBS_SNP(filename=\"/home/cozzip/SNPchimp/dbSNP/SHE/BUILD152/ds_chNotOn.xml.gz\"))\n",
    "print(f\"There are {len(noton)} SNP with no mapping positions\")"
   ]
  },
  {
   "cell_type": "code",
   "execution_count": null,
   "id": "e85eba9d-8581-473c-9233-19f15f77f7ba",
   "metadata": {},
   "outputs": [],
   "source": []
  }
 ],
 "metadata": {
  "kernelspec": {
   "display_name": "Python 3",
   "language": "python",
   "name": "python3"
  },
  "language_info": {
   "codemirror_mode": {
    "name": "ipython",
    "version": 3
   },
   "file_extension": ".py",
   "mimetype": "text/x-python",
   "name": "python",
   "nbconvert_exporter": "python",
   "pygments_lexer": "ipython3",
   "version": "3.9.1"
  }
 },
 "nbformat": 4,
 "nbformat_minor": 5
}
