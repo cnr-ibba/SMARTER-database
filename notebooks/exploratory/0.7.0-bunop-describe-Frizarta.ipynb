{
 "cells": [
  {
   "cell_type": "markdown",
   "id": "recorded-special",
   "metadata": {},
   "source": [
    "# Frizarta54samples\n",
    "Describing `Frizarta54samples_ped_map_files.zip`"
   ]
  },
  {
   "cell_type": "code",
   "execution_count": 1,
   "id": "separated-remainder",
   "metadata": {},
   "outputs": [],
   "source": [
    "import io\n",
    "import csv\n",
    "import itertools\n",
    "\n",
    "from collections import Counter\n",
    "from zipfile import ZipFile\n",
    "from pathlib import Path\n",
    "\n",
    "import src.features.illumina"
   ]
  },
  {
   "cell_type": "code",
   "execution_count": 2,
   "id": "accepting-football",
   "metadata": {},
   "outputs": [],
   "source": [
    "project_dir = Path.cwd().parents[1]\n",
    "datafile = project_dir / \"data/raw/background/Frizarta54samples_ped_map_files.zip\""
   ]
  },
  {
   "cell_type": "code",
   "execution_count": 3,
   "id": "purple-placement",
   "metadata": {},
   "outputs": [
    {
     "name": "stdout",
     "output_type": "stream",
     "text": [
      "File Name                                             Modified             Size\n",
      "Frizarta54samples_ped_map_files/               2021-01-14 10:26:28            0\n",
      "Frizarta54samples_ped_map_files/Frizarta54samples.map 2021-01-13 16:53:10      1298166\n",
      "Frizarta54samples_ped_map_files/Frizarta54samples.ped 2021-01-13 16:53:12     11680686\n"
     ]
    }
   ],
   "source": [
    "handle = ZipFile(datafile)\n",
    "handle.printdir()"
   ]
  },
  {
   "cell_type": "markdown",
   "id": "bridal-soviet",
   "metadata": {},
   "source": [
    "This time I have only map/ped files. What about coordinates?"
   ]
  },
  {
   "cell_type": "code",
   "execution_count": 4,
   "id": "varying-direction",
   "metadata": {},
   "outputs": [],
   "source": [
    "data_coordinates = dict()\n",
    "with io.TextIOWrapper(handle.open(\"Frizarta54samples_ped_map_files/Frizarta54samples.map\"), encoding=\"utf-8\") as f:\n",
    "    for record in f:\n",
    "        record = record.split()\n",
    "        data_coordinates[record[1]] = (record[0], int(record[3]))"
   ]
  },
  {
   "cell_type": "code",
   "execution_count": 5,
   "id": "destroyed-championship",
   "metadata": {},
   "outputs": [],
   "source": [
    "chip_dir = project_dir / \"data/external/SHE/ILLUMINA/\"\n",
    "old_chip3_file = chip_dir / \"ovinesnp50_b.csv\"\n",
    "old_chip3 = dict()\n",
    "for record in src.features.illumina.read_Manifest(old_chip3_file):\n",
    "    old_chip3[record.name] = (record.chr, record.mapinfo)"
   ]
  },
  {
   "cell_type": "code",
   "execution_count": 7,
   "id": "beautiful-nerve",
   "metadata": {},
   "outputs": [
    {
     "name": "stdout",
     "output_type": "stream",
     "text": [
      "250506CS3900065000002_1238.1 ('15', 5327353) ('1', 13)\n",
      "250506CS3900140500001_312.1 ('23', 27428869) ('1', 14)\n",
      "250506CS3900176800001_906.1 ('7', 89002990) ('1', 15)\n",
      "250506CS3900211600001_1041.1 ('16', 44955568) ('1', 16)\n",
      "250506CS3900218700001_1294.1 ('2', 157820235) ('1', 17)\n",
      "250506CS3900283200001_442.1 ('1', 203289635) ('1', 18)\n",
      "250506CS3900371000001_1255.1 ('11', 37632867) ('1', 19)\n",
      "250506CS3900386000001_696.1 ('16', 68297712) ('1', 20)\n",
      "250506CS3900414400001_1178.1 ('1', 111100644) ('1', 21)\n",
      "250506CS3900435700001_1658.1 ('12', 50140951) ('1', 22)\n",
      "\n",
      "N of SNPs in different positions in firzarta and old chip3: 54011\n",
      "\n",
      "N of SNPs in frizarta not in chip: 230\n"
     ]
    }
   ],
   "source": [
    "count = 0\n",
    "missing = 0\n",
    "\n",
    "for key, value in old_chip3.items():\n",
    "    if not key in data_coordinates:\n",
    "        missing += 1\n",
    "        continue\n",
    "        \n",
    "    if value != data_coordinates[key]:\n",
    "        count += 1\n",
    "        if count <= 10:\n",
    "            print(key, value, data_coordinates[key])\n",
    "        \n",
    "print(f\"\\nN of SNPs in different positions in firzarta and old chip3: {count}\")\n",
    "print(f\"\\nN of SNPs in frizarta not in chip: {missing}\")"
   ]
  },
  {
   "cell_type": "markdown",
   "id": "surgical-shuttle",
   "metadata": {},
   "source": [
    "It's seems that in frizarta data there are no valid chrom/positions"
   ]
  }
 ],
 "metadata": {
  "kernelspec": {
   "display_name": "Python 3",
   "language": "python",
   "name": "python3"
  },
  "language_info": {
   "codemirror_mode": {
    "name": "ipython",
    "version": 3
   },
   "file_extension": ".py",
   "mimetype": "text/x-python",
   "name": "python",
   "nbconvert_exporter": "python",
   "pygments_lexer": "ipython3",
   "version": "3.9.1"
  }
 },
 "nbformat": 4,
 "nbformat_minor": 5
}
