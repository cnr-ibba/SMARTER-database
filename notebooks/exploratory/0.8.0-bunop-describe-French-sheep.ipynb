{
 "cells": [
  {
   "cell_type": "markdown",
   "id": "facial-review",
   "metadata": {},
   "source": [
    "# High density genotypes of French Sheep populations\n",
    "describing `High density genotypes of French Sheep populations.zip`"
   ]
  },
  {
   "cell_type": "code",
   "execution_count": 1,
   "id": "dated-assault",
   "metadata": {},
   "outputs": [],
   "source": [
    "import csv\n",
    "import itertools\n",
    "\n",
    "from collections import Counter\n",
    "\n",
    "import pandas as pd\n",
    "from plinkio import plinkfile\n",
    "from geopy.geocoders import Nominatim\n",
    "from geopy.extra.rate_limiter import RateLimiter\n",
    "from tqdm.notebook import tqdm\n",
    "\n",
    "from src.features.utils import countries\n",
    "from src.features.smarterdb import VariantSheep, global_connection, Dataset"
   ]
  },
  {
   "cell_type": "markdown",
   "id": "proof-prefix",
   "metadata": {},
   "source": [
    "get dataset informations relying on project classes"
   ]
  },
  {
   "cell_type": "code",
   "execution_count": 2,
   "id": "social-oracle",
   "metadata": {},
   "outputs": [],
   "source": [
    "global_connection()\n",
    "dataset = Dataset.objects.filter(file=\"High density genotypes of French Sheep populations.zip\").get()\n",
    "tqdm.pandas()"
   ]
  },
  {
   "cell_type": "markdown",
   "id": "antique-found",
   "metadata": {},
   "source": [
    "Display directory content (of selected dataset):"
   ]
  },
  {
   "cell_type": "code",
   "execution_count": 3,
   "id": "altered-summer",
   "metadata": {},
   "outputs": [
    {
     "name": "stdout",
     "output_type": "stream",
     "text": [
      "/home/paolo/Projects/SMARTER-database/data/interim/604f75a61a08c53cebd09b58/Populations_infos.xlsx\n",
      "/home/paolo/Projects/SMARTER-database/data/interim/604f75a61a08c53cebd09b58/info.txt\n",
      "/home/paolo/Projects/SMARTER-database/data/interim/604f75a61a08c53cebd09b58/OAR3\n",
      "/home/paolo/Projects/SMARTER-database/data/interim/604f75a61a08c53cebd09b58/frenchsheep_HD.bim\n",
      "/home/paolo/Projects/SMARTER-database/data/interim/604f75a61a08c53cebd09b58/Populations_infos_fix.xlsx\n",
      "/home/paolo/Projects/SMARTER-database/data/interim/604f75a61a08c53cebd09b58/frenchsheep_HD.bed\n",
      "/home/paolo/Projects/SMARTER-database/data/interim/604f75a61a08c53cebd09b58/OAR4\n",
      "/home/paolo/Projects/SMARTER-database/data/interim/604f75a61a08c53cebd09b58/frenchsheep_HD.fam\n"
     ]
    }
   ],
   "source": [
    "for item in dataset.working_dir.iterdir():\n",
    "    print(item)"
   ]
  },
  {
   "cell_type": "code",
   "execution_count": 4,
   "id": "quick-confidence",
   "metadata": {},
   "outputs": [
    {
     "name": "stdout",
     "output_type": "stream",
     "text": [
      "https://zenodo.org/record/237116#.XlUezRdG3OQ\n"
     ]
    }
   ],
   "source": [
    "with open(dataset.working_dir / \"info.txt\") as handle:\n",
    "    print(handle.read())"
   ]
  },
  {
   "cell_type": "markdown",
   "id": "portable-generic",
   "metadata": {},
   "source": [
    "This dataset is in plink binary format, with population info in a xlsx file. Data were downloaded from a zenodo project"
   ]
  },
  {
   "cell_type": "code",
   "execution_count": 5,
   "id": "cathedral-heading",
   "metadata": {},
   "outputs": [
    {
     "data": {
      "text/html": [
       "<div>\n",
       "<style scoped>\n",
       "    .dataframe tbody tr th:only-of-type {\n",
       "        vertical-align: middle;\n",
       "    }\n",
       "\n",
       "    .dataframe tbody tr th {\n",
       "        vertical-align: top;\n",
       "    }\n",
       "\n",
       "    .dataframe thead th {\n",
       "        text-align: right;\n",
       "    }\n",
       "</style>\n",
       "<table border=\"1\" class=\"dataframe\">\n",
       "  <thead>\n",
       "    <tr style=\"text-align: right;\">\n",
       "      <th></th>\n",
       "      <th>Code</th>\n",
       "      <th>Population Name</th>\n",
       "      <th>Link</th>\n",
       "      <th>Latitude</th>\n",
       "      <th>Longitude</th>\n",
       "      <th>Color</th>\n",
       "      <th>POP_GROUP_CODE</th>\n",
       "      <th>POP_GROUP_NAME</th>\n",
       "    </tr>\n",
       "  </thead>\n",
       "  <tbody>\n",
       "    <tr>\n",
       "      <th>0</th>\n",
       "      <td>BER</td>\n",
       "      <td>Berrichon du Cher</td>\n",
       "      <td>http://en.france-genetique-elevage.org/Berrich...</td>\n",
       "      <td>47.081012</td>\n",
       "      <td>2.398782</td>\n",
       "      <td>NaN</td>\n",
       "      <td>NORTH</td>\n",
       "      <td>NORTH</td>\n",
       "    </tr>\n",
       "    <tr>\n",
       "      <th>1</th>\n",
       "      <td>BMC</td>\n",
       "      <td>Blanc du Massif Central</td>\n",
       "      <td>http://en.france-genetique-elevage.org/Blanche...</td>\n",
       "      <td>44.517611</td>\n",
       "      <td>3.501873</td>\n",
       "      <td>NaN</td>\n",
       "      <td>SOUTH</td>\n",
       "      <td>SOUTH</td>\n",
       "    </tr>\n",
       "    <tr>\n",
       "      <th>2</th>\n",
       "      <td>CDL</td>\n",
       "      <td>Causses du Lot</td>\n",
       "      <td>http://en.france-genetique-elevage.org/Causse-...</td>\n",
       "      <td>44.799383</td>\n",
       "      <td>1.617901</td>\n",
       "      <td>NaN</td>\n",
       "      <td>SOUTH</td>\n",
       "      <td>SOUTH</td>\n",
       "    </tr>\n",
       "    <tr>\n",
       "      <th>3</th>\n",
       "      <td>CHA</td>\n",
       "      <td>Mouton Charollais</td>\n",
       "      <td>http://en.france-genetique-elevage.org/Charoll...</td>\n",
       "      <td>46.435442</td>\n",
       "      <td>4.277004</td>\n",
       "      <td>NaN</td>\n",
       "      <td>NORTH</td>\n",
       "      <td>NORTH</td>\n",
       "    </tr>\n",
       "    <tr>\n",
       "      <th>4</th>\n",
       "      <td>CHR</td>\n",
       "      <td>Charmoise</td>\n",
       "      <td>http://en.france-genetique-elevage.org/Charmoi...</td>\n",
       "      <td>47.390249</td>\n",
       "      <td>1.254324</td>\n",
       "      <td>NaN</td>\n",
       "      <td>NORTH</td>\n",
       "      <td>NORTH</td>\n",
       "    </tr>\n",
       "  </tbody>\n",
       "</table>\n",
       "</div>"
      ],
      "text/plain": [
       "  Code          Population Name  \\\n",
       "0  BER        Berrichon du Cher   \n",
       "1  BMC  Blanc du Massif Central   \n",
       "2  CDL           Causses du Lot   \n",
       "3  CHA        Mouton Charollais   \n",
       "4  CHR                Charmoise   \n",
       "\n",
       "                                                Link   Latitude  Longitude  \\\n",
       "0  http://en.france-genetique-elevage.org/Berrich...  47.081012   2.398782   \n",
       "1  http://en.france-genetique-elevage.org/Blanche...  44.517611   3.501873   \n",
       "2  http://en.france-genetique-elevage.org/Causse-...  44.799383   1.617901   \n",
       "3  http://en.france-genetique-elevage.org/Charoll...  46.435442   4.277004   \n",
       "4  http://en.france-genetique-elevage.org/Charmoi...  47.390249   1.254324   \n",
       "\n",
       "   Color POP_GROUP_CODE POP_GROUP_NAME  \n",
       "0    NaN          NORTH          NORTH  \n",
       "1    NaN          SOUTH          SOUTH  \n",
       "2    NaN          SOUTH          SOUTH  \n",
       "3    NaN          NORTH          NORTH  \n",
       "4    NaN          NORTH          NORTH  "
      ]
     },
     "execution_count": 5,
     "metadata": {},
     "output_type": "execute_result"
    }
   ],
   "source": [
    "with open(dataset.working_dir / \"Populations_infos.xlsx\", \"rb\") as handle:\n",
    "    infos = pd.read_excel(handle)\n",
    "infos.head()"
   ]
  },
  {
   "cell_type": "markdown",
   "id": "ordinary-hands",
   "metadata": {},
   "source": [
    "Data have informations on breed (with code) and GPS coordinates. What about SNPs coordinates? open the `.bim` file (which is in txt format) and test SNPs"
   ]
  },
  {
   "cell_type": "code",
   "execution_count": 6,
   "id": "sealed-hebrew",
   "metadata": {},
   "outputs": [
    {
     "name": "stdout",
     "output_type": "stream",
     "text": [
      "Reading first 200 lines of bim file\n"
     ]
    }
   ],
   "source": [
    "counter = Counter()\n",
    "with open(dataset.working_dir / \"frenchsheep_HD.bim\") as f:\n",
    "    reader = csv.reader(f, delimiter=\"\\t\")\n",
    "    print(\"Reading first 200 lines of bim file\")\n",
    "    for line in itertools.islice(reader, 200):\n",
    "        qs = VariantSheep.objects(name=line[1])\n",
    "        if qs.count() > 0:\n",
    "            variant = qs.get()\n",
    "            counter.update([variant.name])\n",
    "            location = next(filter(lambda loc: loc.imported_from == \"SNPchiMp v.3\", variant.locations))\n",
    "            if line[0] != location.chrom or int(line[3]) != location.position:\n",
    "                print(f\"snp {line[1]} with different positions: {line[0]}:{line[3]}<>{location.chrom}:{location.position}\")\n"
   ]
  },
  {
   "cell_type": "markdown",
   "id": "introductory-rehabilitation",
   "metadata": {},
   "source": [
    "Coordinates seems to match the latest *SNPchiMp v.3* database"
   ]
  },
  {
   "cell_type": "markdown",
   "id": "jewish-despite",
   "metadata": {},
   "source": [
    "## Getting info on breeds"
   ]
  },
  {
   "cell_type": "markdown",
   "id": "decent-shuttle",
   "metadata": {},
   "source": [
    "Open genotypes with `plinkio` and get information on samples:"
   ]
  },
  {
   "cell_type": "code",
   "execution_count": 7,
   "id": "covered-directory",
   "metadata": {},
   "outputs": [],
   "source": [
    "plink_file = plinkfile.open( str(dataset.working_dir / \"frenchsheep_HD\") )\n",
    "sample_list = plink_file.get_samples( )"
   ]
  },
  {
   "cell_type": "markdown",
   "id": "polished-scroll",
   "metadata": {},
   "source": [
    "Get `fid` from samples"
   ]
  },
  {
   "cell_type": "code",
   "execution_count": 8,
   "id": "integral-recycling",
   "metadata": {},
   "outputs": [],
   "source": [
    "fids = set([sample.fid for sample in sample_list])\n",
    "fids = pd.Series(list(fids), name=\"Code\")"
   ]
  },
  {
   "cell_type": "code",
   "execution_count": 9,
   "id": "molecular-rogers",
   "metadata": {},
   "outputs": [
    {
     "data": {
      "text/html": [
       "<div>\n",
       "<style scoped>\n",
       "    .dataframe tbody tr th:only-of-type {\n",
       "        vertical-align: middle;\n",
       "    }\n",
       "\n",
       "    .dataframe tbody tr th {\n",
       "        vertical-align: top;\n",
       "    }\n",
       "\n",
       "    .dataframe thead th {\n",
       "        text-align: right;\n",
       "    }\n",
       "</style>\n",
       "<table border=\"1\" class=\"dataframe\">\n",
       "  <thead>\n",
       "    <tr style=\"text-align: right;\">\n",
       "      <th></th>\n",
       "      <th>Code</th>\n",
       "      <th>Population Name</th>\n",
       "    </tr>\n",
       "  </thead>\n",
       "  <tbody>\n",
       "    <tr>\n",
       "      <th>0</th>\n",
       "      <td>IDF</td>\n",
       "      <td>Île de France</td>\n",
       "    </tr>\n",
       "    <tr>\n",
       "      <th>1</th>\n",
       "      <td>ROM</td>\n",
       "      <td>Romanov</td>\n",
       "    </tr>\n",
       "    <tr>\n",
       "      <th>2</th>\n",
       "      <td>CDL</td>\n",
       "      <td>Causses du Lot</td>\n",
       "    </tr>\n",
       "    <tr>\n",
       "      <th>3</th>\n",
       "      <td>SUF</td>\n",
       "      <td>Suffolk</td>\n",
       "    </tr>\n",
       "    <tr>\n",
       "      <th>4</th>\n",
       "      <td>LAC</td>\n",
       "      <td>Lacaune (milk)</td>\n",
       "    </tr>\n",
       "    <tr>\n",
       "      <th>5</th>\n",
       "      <td>MER</td>\n",
       "      <td>Mérinos d'Arles</td>\n",
       "    </tr>\n",
       "    <tr>\n",
       "      <th>6</th>\n",
       "      <td>PAS</td>\n",
       "      <td>Préalpes du Sud</td>\n",
       "    </tr>\n",
       "    <tr>\n",
       "      <th>7</th>\n",
       "      <td>MTR</td>\n",
       "      <td>Manech Tête Rouge</td>\n",
       "    </tr>\n",
       "    <tr>\n",
       "      <th>8</th>\n",
       "      <td>LAM</td>\n",
       "      <td>Lacaune (meat)</td>\n",
       "    </tr>\n",
       "    <tr>\n",
       "      <th>9</th>\n",
       "      <td>OUE</td>\n",
       "      <td>Ouessant</td>\n",
       "    </tr>\n",
       "    <tr>\n",
       "      <th>10</th>\n",
       "      <td>ROU</td>\n",
       "      <td>Roussin de la Hague</td>\n",
       "    </tr>\n",
       "    <tr>\n",
       "      <th>11</th>\n",
       "      <td>LIM</td>\n",
       "      <td>Limousine</td>\n",
       "    </tr>\n",
       "    <tr>\n",
       "      <th>12</th>\n",
       "      <td>CHA</td>\n",
       "      <td>Mouton Charollais</td>\n",
       "    </tr>\n",
       "    <tr>\n",
       "      <th>13</th>\n",
       "      <td>RMN</td>\n",
       "      <td>Romane</td>\n",
       "    </tr>\n",
       "    <tr>\n",
       "      <th>14</th>\n",
       "      <td>TAR</td>\n",
       "      <td>Tarasconnaise</td>\n",
       "    </tr>\n",
       "    <tr>\n",
       "      <th>15</th>\n",
       "      <td>EUR</td>\n",
       "      <td>European Mouflon</td>\n",
       "    </tr>\n",
       "    <tr>\n",
       "      <th>16</th>\n",
       "      <td>NVE</td>\n",
       "      <td>Noire du Velay</td>\n",
       "    </tr>\n",
       "    <tr>\n",
       "      <th>17</th>\n",
       "      <td>MOU</td>\n",
       "      <td>Mourerous</td>\n",
       "    </tr>\n",
       "    <tr>\n",
       "      <th>18</th>\n",
       "      <td>COR</td>\n",
       "      <td>Corse</td>\n",
       "    </tr>\n",
       "    <tr>\n",
       "      <th>19</th>\n",
       "      <td>TEX</td>\n",
       "      <td>Texel</td>\n",
       "    </tr>\n",
       "    <tr>\n",
       "      <th>20</th>\n",
       "      <td>RAM</td>\n",
       "      <td>Mérinos de Rambouillet</td>\n",
       "    </tr>\n",
       "    <tr>\n",
       "      <th>21</th>\n",
       "      <td>RAV</td>\n",
       "      <td>Rava</td>\n",
       "    </tr>\n",
       "    <tr>\n",
       "      <th>22</th>\n",
       "      <td>RWE</td>\n",
       "      <td>Rouge de l'Ouest</td>\n",
       "    </tr>\n",
       "    <tr>\n",
       "      <th>23</th>\n",
       "      <td>CHR</td>\n",
       "      <td>Charmoise</td>\n",
       "    </tr>\n",
       "    <tr>\n",
       "      <th>24</th>\n",
       "      <td>BMC</td>\n",
       "      <td>Blanc du Massif Central</td>\n",
       "    </tr>\n",
       "    <tr>\n",
       "      <th>25</th>\n",
       "      <td>BER</td>\n",
       "      <td>Berrichon du Cher</td>\n",
       "    </tr>\n",
       "    <tr>\n",
       "      <th>26</th>\n",
       "      <td>VEN</td>\n",
       "      <td>Mouton Vendéen</td>\n",
       "    </tr>\n",
       "  </tbody>\n",
       "</table>\n",
       "</div>"
      ],
      "text/plain": [
       "   Code          Population Name\n",
       "0   IDF            Île de France\n",
       "1   ROM                  Romanov\n",
       "2   CDL           Causses du Lot\n",
       "3   SUF                  Suffolk\n",
       "4   LAC           Lacaune (milk)\n",
       "5   MER          Mérinos d'Arles\n",
       "6   PAS          Préalpes du Sud\n",
       "7   MTR        Manech Tête Rouge\n",
       "8   LAM           Lacaune (meat)\n",
       "9   OUE                 Ouessant\n",
       "10  ROU      Roussin de la Hague\n",
       "11  LIM                Limousine\n",
       "12  CHA        Mouton Charollais\n",
       "13  RMN                   Romane\n",
       "14  TAR            Tarasconnaise\n",
       "15  EUR         European Mouflon\n",
       "16  NVE           Noire du Velay\n",
       "17  MOU                Mourerous\n",
       "18  COR                    Corse\n",
       "19  TEX                    Texel\n",
       "20  RAM   Mérinos de Rambouillet\n",
       "21  RAV                     Rava\n",
       "22  RWE         Rouge de l'Ouest\n",
       "23  CHR                Charmoise\n",
       "24  BMC  Blanc du Massif Central\n",
       "25  BER        Berrichon du Cher\n",
       "26  VEN           Mouton Vendéen"
      ]
     },
     "execution_count": 9,
     "metadata": {},
     "output_type": "execute_result"
    }
   ],
   "source": [
    "merged = pd.merge(fids,infos, on=\"Code\")\n",
    "merged.loc[:, [\"Code\", \"Population Name\"]]"
   ]
  },
  {
   "cell_type": "markdown",
   "id": "7220409b",
   "metadata": {},
   "source": [
    "## Check dataset countries\n",
    "Test for sample countries of origin"
   ]
  },
  {
   "cell_type": "code",
   "execution_count": 10,
   "id": "2172d87a",
   "metadata": {},
   "outputs": [
    {
     "data": {
      "application/vnd.jupyter.widget-view+json": {
       "model_id": "516b2e83934c4e53ab5cf07b370a2684",
       "version_major": 2,
       "version_minor": 0
      },
      "text/plain": [
       "  0%|          | 0/27 [00:00<?, ?it/s]"
      ]
     },
     "metadata": {},
     "output_type": "display_data"
    }
   ],
   "source": [
    "# add a column for the query\n",
    "infos[\"coordinates\"] = infos[\"Latitude\"].map(str) + \", \" + infos[\"Longitude\"].map(str)\n",
    "\n",
    "# define the reverse geocoding\n",
    "locator = Nominatim(user_agent=\"myGeocoder\", timeout=10)\n",
    "rgeocode = RateLimiter(locator.reverse, min_delay_seconds=0.1)\n",
    "def get_country(coordinate):\n",
    "    data = rgeocode(coordinate, language=\"English\")\n",
    "    if data:\n",
    "        country_code = data.raw['address']['country_code']\n",
    "        return countries.get(alpha_2=country_code).name\n",
    "    else:\n",
    "        return data\n",
    "\n",
    "# find countries\n",
    "infos[\"Country\"] = infos[\"coordinates\"].progress_apply(get_country)\n",
    "\n",
    "# drop the coordinates column\n",
    "infos.drop('coordinates', axis=1, inplace=True)"
   ]
  },
  {
   "cell_type": "markdown",
   "id": "3600ec5f",
   "metadata": {},
   "source": [
    "manipulate dataframe and save the final dataset:"
   ]
  },
  {
   "cell_type": "code",
   "execution_count": 11,
   "id": "977ff8a1",
   "metadata": {},
   "outputs": [],
   "source": [
    "\n",
    "infos[\"Species\"] = \"Ovis aries\"\n",
    "infos.loc[infos['Population Name'] == \"European Mouflon\", \"Species\"] = \"Ovis aries musimon\"\n",
    "infos.loc[infos['Population Name'] == \"European Mouflon\", \"Population Name\"] = \"European mouflon\""
   ]
  },
  {
   "cell_type": "markdown",
   "id": "ca3fc177",
   "metadata": {},
   "source": [
    "Fix also the `Mérinos d'Arles` code:"
   ]
  },
  {
   "cell_type": "code",
   "execution_count": 12,
   "id": "09a885d2",
   "metadata": {},
   "outputs": [],
   "source": [
    "infos.loc[infos['Population Name'] == \"Mérinos d'Arles\", \"Code\"] = \"ARL\"\n",
    "infos.to_excel(dataset.working_dir / \"Populations_infos_fix.xlsx\", index=False)"
   ]
  }
 ],
 "metadata": {
  "kernelspec": {
   "display_name": "Python 3 (ipykernel)",
   "language": "python",
   "name": "python3"
  },
  "language_info": {
   "codemirror_mode": {
    "name": "ipython",
    "version": 3
   },
   "file_extension": ".py",
   "mimetype": "text/x-python",
   "name": "python",
   "nbconvert_exporter": "python",
   "pygments_lexer": "ipython3",
   "version": "3.12.3"
  }
 },
 "nbformat": 4,
 "nbformat_minor": 5
}
