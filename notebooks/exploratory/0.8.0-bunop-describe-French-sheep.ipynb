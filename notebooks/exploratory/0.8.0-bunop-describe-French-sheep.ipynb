{
 "cells": [
  {
   "cell_type": "markdown",
   "id": "played-newport",
   "metadata": {},
   "source": [
    "# High density genotypes of French Sheep populations\n",
    "describing `High density genotypes of French Sheep populations.zip`"
   ]
  },
  {
   "cell_type": "code",
   "execution_count": 1,
   "id": "sealed-platinum",
   "metadata": {},
   "outputs": [],
   "source": [
    "import io\n",
    "import csv\n",
    "import itertools\n",
    "\n",
    "from collections import Counter\n",
    "from zipfile import ZipFile\n",
    "from pathlib import Path\n",
    "\n",
    "import pandas as pd\n",
    "\n",
    "from src.features.smarterdb import VariantSheep, global_connection"
   ]
  },
  {
   "cell_type": "code",
   "execution_count": 2,
   "id": "fourth-fitting",
   "metadata": {},
   "outputs": [],
   "source": [
    "project_dir = Path.cwd().parents[1]\n",
    "datafile = project_dir / \"data/raw/background/High density genotypes of French Sheep populations.zip\""
   ]
  },
  {
   "cell_type": "code",
   "execution_count": 3,
   "id": "confirmed-january",
   "metadata": {},
   "outputs": [
    {
     "name": "stdout",
     "output_type": "stream",
     "text": [
      "File Name                                             Modified             Size\n",
      "frenchsheep_HD.bed                             2020-03-03 11:19:06     71783931\n",
      "frenchsheep_HD.bim                             2020-03-03 11:16:56     19346943\n",
      "frenchsheep_HD.fam                             2020-03-03 11:16:22        10062\n",
      "info.txt                                       2020-03-10 14:32:58           45\n",
      "Populations_infos.xlsx                         2020-03-10 14:33:34        12465\n"
     ]
    }
   ],
   "source": [
    "handle = ZipFile(datafile)\n",
    "handle.printdir()"
   ]
  },
  {
   "cell_type": "code",
   "execution_count": 4,
   "id": "gorgeous-gentleman",
   "metadata": {},
   "outputs": [
    {
     "name": "stdout",
     "output_type": "stream",
     "text": [
      "https://zenodo.org/record/237116#.XlUezRdG3OQ\n"
     ]
    }
   ],
   "source": [
    "with io.TextIOWrapper(handle.open(\"info.txt\"), encoding=\"utf-8\") as f:\n",
    "    print(f.read())"
   ]
  },
  {
   "cell_type": "markdown",
   "id": "fuzzy-plate",
   "metadata": {},
   "source": [
    "This dataset is in plink binary format, with population info in a xlsx file. Data were downloaded from a zenodo project"
   ]
  },
  {
   "cell_type": "code",
   "execution_count": 5,
   "id": "funny-cheat",
   "metadata": {},
   "outputs": [
    {
     "data": {
      "text/html": [
       "<div>\n",
       "<style scoped>\n",
       "    .dataframe tbody tr th:only-of-type {\n",
       "        vertical-align: middle;\n",
       "    }\n",
       "\n",
       "    .dataframe tbody tr th {\n",
       "        vertical-align: top;\n",
       "    }\n",
       "\n",
       "    .dataframe thead th {\n",
       "        text-align: right;\n",
       "    }\n",
       "</style>\n",
       "<table border=\"1\" class=\"dataframe\">\n",
       "  <thead>\n",
       "    <tr style=\"text-align: right;\">\n",
       "      <th></th>\n",
       "      <th>Code</th>\n",
       "      <th>Population Name</th>\n",
       "      <th>Link</th>\n",
       "      <th>Latitude</th>\n",
       "      <th>Longitude</th>\n",
       "      <th>Color</th>\n",
       "      <th>POP_GROUP_CODE</th>\n",
       "      <th>POP_GROUP_NAME</th>\n",
       "      <th>Unnamed: 8</th>\n",
       "    </tr>\n",
       "  </thead>\n",
       "  <tbody>\n",
       "    <tr>\n",
       "      <th>0</th>\n",
       "      <td>BER</td>\n",
       "      <td>Berrichon du Cher</td>\n",
       "      <td>http://en.france-genetique-elevage.org/Berrich...</td>\n",
       "      <td>47.081012</td>\n",
       "      <td>2.398782</td>\n",
       "      <td>NaN</td>\n",
       "      <td>NORTH</td>\n",
       "      <td>NORTH</td>\n",
       "      <td>NaN</td>\n",
       "    </tr>\n",
       "    <tr>\n",
       "      <th>1</th>\n",
       "      <td>BMC</td>\n",
       "      <td>Blanc du Massif Central</td>\n",
       "      <td>http://en.france-genetique-elevage.org/Blanche...</td>\n",
       "      <td>44.517611</td>\n",
       "      <td>3.501873</td>\n",
       "      <td>NaN</td>\n",
       "      <td>SOUTH</td>\n",
       "      <td>SOUTH</td>\n",
       "      <td>NaN</td>\n",
       "    </tr>\n",
       "    <tr>\n",
       "      <th>2</th>\n",
       "      <td>CDL</td>\n",
       "      <td>Causses du Lot</td>\n",
       "      <td>http://en.france-genetique-elevage.org/Causse-...</td>\n",
       "      <td>44.799383</td>\n",
       "      <td>1.617901</td>\n",
       "      <td>NaN</td>\n",
       "      <td>SOUTH</td>\n",
       "      <td>SOUTH</td>\n",
       "      <td>NaN</td>\n",
       "    </tr>\n",
       "    <tr>\n",
       "      <th>3</th>\n",
       "      <td>CHA</td>\n",
       "      <td>Mouton Charollais</td>\n",
       "      <td>http://en.france-genetique-elevage.org/Charoll...</td>\n",
       "      <td>46.435442</td>\n",
       "      <td>4.277004</td>\n",
       "      <td>NaN</td>\n",
       "      <td>NORTH</td>\n",
       "      <td>NORTH</td>\n",
       "      <td>NaN</td>\n",
       "    </tr>\n",
       "    <tr>\n",
       "      <th>4</th>\n",
       "      <td>CHR</td>\n",
       "      <td>Charmoise</td>\n",
       "      <td>http://en.france-genetique-elevage.org/Charmoi...</td>\n",
       "      <td>47.390249</td>\n",
       "      <td>1.254324</td>\n",
       "      <td>NaN</td>\n",
       "      <td>NORTH</td>\n",
       "      <td>NORTH</td>\n",
       "      <td>NaN</td>\n",
       "    </tr>\n",
       "  </tbody>\n",
       "</table>\n",
       "</div>"
      ],
      "text/plain": [
       "  Code          Population Name  \\\n",
       "0  BER        Berrichon du Cher   \n",
       "1  BMC  Blanc du Massif Central   \n",
       "2  CDL           Causses du Lot   \n",
       "3  CHA        Mouton Charollais   \n",
       "4  CHR                Charmoise   \n",
       "\n",
       "                                                Link   Latitude  Longitude  \\\n",
       "0  http://en.france-genetique-elevage.org/Berrich...  47.081012   2.398782   \n",
       "1  http://en.france-genetique-elevage.org/Blanche...  44.517611   3.501873   \n",
       "2  http://en.france-genetique-elevage.org/Causse-...  44.799383   1.617901   \n",
       "3  http://en.france-genetique-elevage.org/Charoll...  46.435442   4.277004   \n",
       "4  http://en.france-genetique-elevage.org/Charmoi...  47.390249   1.254324   \n",
       "\n",
       "   Color POP_GROUP_CODE POP_GROUP_NAME  Unnamed: 8  \n",
       "0    NaN          NORTH          NORTH         NaN  \n",
       "1    NaN          SOUTH          SOUTH         NaN  \n",
       "2    NaN          SOUTH          SOUTH         NaN  \n",
       "3    NaN          NORTH          NORTH         NaN  \n",
       "4    NaN          NORTH          NORTH         NaN  "
      ]
     },
     "execution_count": 5,
     "metadata": {},
     "output_type": "execute_result"
    }
   ],
   "source": [
    "with handle.open(\"Populations_infos.xlsx\") as f:\n",
    "    infos = pd.read_excel(f)\n",
    "infos.head()"
   ]
  },
  {
   "cell_type": "markdown",
   "id": "noted-naples",
   "metadata": {},
   "source": [
    "Data have informations on breed (with code) and GPS coordinates. What about SNPs coordinates? open the `.bim` file (which is in txt format) and test SNPs"
   ]
  },
  {
   "cell_type": "code",
   "execution_count": 6,
   "id": "greenhouse-premium",
   "metadata": {},
   "outputs": [
    {
     "name": "stdout",
     "output_type": "stream",
     "text": [
      "Reading first 200 lines of bim file\n",
      "SNPs found in db: s64199.1,OAR19_64803054.1,DU281551_498.1,s18939.1,OAR1_88143.1,s36301.1,s34880.1,s68493.1,OAR1_420114.1,OAR1_537224_X.1,s35460.1\n"
     ]
    }
   ],
   "source": [
    "global_connection()\n",
    "counter = Counter()\n",
    "with io.TextIOWrapper(handle.open(\"frenchsheep_HD.bim\"), encoding=\"utf-8\") as f:\n",
    "    reader = csv.reader(f, delimiter=\"\\t\")\n",
    "    print(\"Reading first 200 lines of bim file\")\n",
    "    for line in itertools.islice(reader, 200):\n",
    "        qs = VariantSheep.objects(name=line[1])\n",
    "        if qs.count() > 0:\n",
    "            variant = qs.get()\n",
    "            counter.update([variant.name])\n",
    "            location = next(filter(lambda loc: loc.imported_from == \"SNPchiMp v.3\", variant.locations))\n",
    "            if line[0] != location.chrom or int(line[3]) != location.position:\n",
    "                print(f\"snp {line[1]} with different positions: {line[0]}:{line[3]}<>{location.chrom}:{location.position}\")\n",
    "                \n",
    "print(f\"SNPs found in db: {','.join(counter.keys())}\")"
   ]
  },
  {
   "cell_type": "markdown",
   "id": "female-drawing",
   "metadata": {},
   "source": [
    "Coordinates seems to match the latest *SNPchiMp v.3* database"
   ]
  }
 ],
 "metadata": {
  "kernelspec": {
   "display_name": "Python 3",
   "language": "python",
   "name": "python3"
  },
  "language_info": {
   "codemirror_mode": {
    "name": "ipython",
    "version": 3
   },
   "file_extension": ".py",
   "mimetype": "text/x-python",
   "name": "python",
   "nbconvert_exporter": "python",
   "pygments_lexer": "ipython3",
   "version": "3.9.1"
  }
 },
 "nbformat": 4,
 "nbformat_minor": 5
}
