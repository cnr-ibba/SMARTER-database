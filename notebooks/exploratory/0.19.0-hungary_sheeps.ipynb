{
 "cells": [
  {
   "cell_type": "markdown",
   "id": "0b0d6bfe-13e8-4436-a6db-03e6011bc59a",
   "metadata": {},
   "source": [
    "# Hungarian sheeps\n",
    "Try to describe hungary sheep dataset"
   ]
  },
  {
   "cell_type": "code",
   "execution_count": 1,
   "id": "91fa6f8e-06bf-4c4e-a19c-ce244b60bfe4",
   "metadata": {},
   "outputs": [],
   "source": [
    "import logging\n",
    "\n",
    "import pandas as pd\n",
    "import geopy\n",
    "\n",
    "from tqdm.notebook import tqdm\n",
    "\n",
    "from src.features.smarterdb import global_connection, Dataset\n",
    "from src.features.plinkio import TextPlinkIO, CodingException\n",
    "from src.data.common import WORKING_ASSEMBLIES"
   ]
  },
  {
   "cell_type": "code",
   "execution_count": 2,
   "id": "2442785d-b4b0-4299-aabc-ddf0bc584bd7",
   "metadata": {},
   "outputs": [],
   "source": [
    "logger = logging.getLogger('src.features.plinkio')\n",
    "logger.setLevel(logging.CRITICAL)\n",
    "\n",
    "_ = global_connection()\n",
    "OAR3 = WORKING_ASSEMBLIES[\"OAR3\"]"
   ]
  },
  {
   "cell_type": "code",
   "execution_count": 3,
   "id": "a660df8d-7d6a-4942-89ff-337197a8f8df",
   "metadata": {},
   "outputs": [],
   "source": [
    "class CustomMixin():\n",
    "    n_of_individuals = None\n",
    "    \n",
    "    def process_pedfile(self, coding=\"top\"):\n",
    "        for line in tqdm(self.read_pedfile(), total=self.n_of_individuals):\n",
    "            _ = self._process_genotypes(line, coding)\n",
    "            \n",
    "        return True\n",
    "    \n",
    "    def is_top(self):\n",
    "        try:\n",
    "            return self.process_pedfile(coding='top')\n",
    "        \n",
    "        except CodingException:\n",
    "            return False\n",
    "    \n",
    "    def is_forward(self):\n",
    "        try:\n",
    "            return self.process_pedfile(coding='forward')\n",
    "        \n",
    "        except CodingException:\n",
    "            return False\n",
    "        \n",
    "    def is_affymetrix(self):\n",
    "        try:\n",
    "            return self.process_pedfile(coding='affymetrix')\n",
    "        \n",
    "        except CodingException:\n",
    "            return False\n",
    "        \n",
    "class CustomTextPlinkIO(CustomMixin, TextPlinkIO):\n",
    "    pass"
   ]
  },
  {
   "cell_type": "markdown",
   "id": "4b5d7454-52ea-4b6c-a5cf-fa2c3cd4f331",
   "metadata": {},
   "source": [
    "Read dataset from database:"
   ]
  },
  {
   "cell_type": "code",
   "execution_count": 4,
   "id": "56ae3065-1b37-4387-825e-cfbf148b1b13",
   "metadata": {},
   "outputs": [],
   "source": [
    "hungarian_dataset = Dataset.objects.get(file=\"NativesheepBreeds_Hu.zip\")\n",
    "plinkio = CustomTextPlinkIO(\n",
    "    prefix=str(hungarian_dataset.working_dir / \"NativesheepBreeds_Hu/NativeSheepGenotypes\"), \n",
    "    species=hungarian_dataset.species, \n",
    "    chip_name=hungarian_dataset.chip_name)\n",
    "plinkio.n_of_individuals = hungarian_dataset.n_of_individuals"
   ]
  },
  {
   "cell_type": "code",
   "execution_count": 5,
   "id": "f41319bd-c44b-4cc6-87e2-5c8af6816238",
   "metadata": {},
   "outputs": [],
   "source": [
    "plinkio.read_mapfile()\n",
    "plinkio.fetch_coordinates(\n",
    "    **OAR3._asdict()\n",
    ")"
   ]
  },
  {
   "cell_type": "code",
   "execution_count": 6,
   "id": "a5ccdf7b-248b-401b-aa29-3cb602588bb7",
   "metadata": {},
   "outputs": [
    {
     "name": "stdout",
     "output_type": "stream",
     "text": [
      "I can retrieve 53446 of 53516 SNPs using 'name' (0.13% missing)\n"
     ]
    }
   ],
   "source": [
    "snps_found = len(plinkio.mapdata)-len(plinkio.filtered)\n",
    "perc_missing = round(100 - (snps_found / len(plinkio.mapdata) * 100), 2)\n",
    "\n",
    "print(f\"I can retrieve {snps_found} of {len(plinkio.mapdata)} SNPs using 'name' ({perc_missing}% missing)\")"
   ]
  },
  {
   "cell_type": "markdown",
   "id": "573efd1f-4670-42cc-bf22-7c29b67fbf02",
   "metadata": {},
   "source": [
    "Is this dataset in top coordinates?"
   ]
  },
  {
   "cell_type": "code",
   "execution_count": 7,
   "id": "607090a4-c598-4367-8383-7c7e4dfaad28",
   "metadata": {},
   "outputs": [
    {
     "data": {
      "application/vnd.jupyter.widget-view+json": {
       "model_id": "cbeafae633ed4f92b86b6d034a97cf88",
       "version_major": 2,
       "version_minor": 0
      },
      "text/plain": [
       "  0%|          | 0/259 [00:00<?, ?it/s]"
      ]
     },
     "metadata": {},
     "output_type": "display_data"
    },
    {
     "name": "stderr",
     "output_type": "stream",
     "text": [
      "Error for SNP 1:DU415336_399.1: G/G <> A/C\n"
     ]
    },
    {
     "data": {
      "text/plain": [
       "False"
      ]
     },
     "execution_count": 7,
     "metadata": {},
     "output_type": "execute_result"
    }
   ],
   "source": [
    "plinkio.is_top()"
   ]
  },
  {
   "cell_type": "markdown",
   "id": "bc4180e8-1d23-4ef9-94b5-391d658a4999",
   "metadata": {},
   "source": [
    "So, not in TOP. Is this in forward?"
   ]
  },
  {
   "cell_type": "code",
   "execution_count": 8,
   "id": "da870023-766f-469f-bcbd-aa91711c7ce2",
   "metadata": {},
   "outputs": [
    {
     "data": {
      "application/vnd.jupyter.widget-view+json": {
       "model_id": "ee008ac6359343f8a04d0596d908e8bf",
       "version_major": 2,
       "version_minor": 0
      },
      "text/plain": [
       "  0%|          | 0/259 [00:00<?, ?it/s]"
      ]
     },
     "metadata": {},
     "output_type": "display_data"
    },
    {
     "data": {
      "text/plain": [
       "True"
      ]
     },
     "execution_count": 8,
     "metadata": {},
     "output_type": "execute_result"
    }
   ],
   "source": [
    "plinkio.is_forward()"
   ]
  },
  {
   "cell_type": "markdown",
   "id": "348658fc-82c6-4e11-a266-27e6645b726f",
   "metadata": {},
   "source": [
    "Ok, it's in forward coordinates. What about the new breeds I received?"
   ]
  },
  {
   "cell_type": "code",
   "execution_count": 9,
   "id": "9c10207b-0034-4150-bfba-d3f017d98b8b",
   "metadata": {},
   "outputs": [
    {
     "name": "stdout",
     "output_type": "stream",
     "text": [
      "Got {'Suffolk', 'Merino', 'Tsigai', 'I.France', 'R.Tsigai', 'Tetra', 'W.Dorper', 'Dorper', 'Racka', 'Turcana'} breeds\n"
     ]
    }
   ],
   "source": [
    "breeds = set()\n",
    "\n",
    "for line in plinkio.read_pedfile():\n",
    "    breed = line[0]\n",
    "    if breed not in breeds:\n",
    "        breeds.add(breed)\n",
    "    \n",
    "print(f\"Got {breeds} breeds\")"
   ]
  },
  {
   "cell_type": "markdown",
   "id": "97fcc2ed-3dd4-407d-a878-8ef997b59307",
   "metadata": {},
   "source": [
    "Some breeds are completely new and need to be added into database"
   ]
  },
  {
   "cell_type": "markdown",
   "id": "421e7252-c68b-4268-969e-983eebc4bdef",
   "metadata": {},
   "source": [
    "## Hungarian metadata\n",
    "\n",
    "I've received a metadata file with GPS coordinates. Breed names are also recorded using full name. However, GPS coordinates are tracked in *degrees, minutes, seconds* in *Nord-East* format, so I need to transform them using `geopy` into float representation. Open dataset and read informations:"
   ]
  },
  {
   "cell_type": "code",
   "execution_count": 10,
   "id": "142e3176-c0ab-465b-8408-a64c477b7c7f",
   "metadata": {},
   "outputs": [
    {
     "data": {
      "text/html": [
       "<div>\n",
       "<style scoped>\n",
       "    .dataframe tbody tr th:only-of-type {\n",
       "        vertical-align: middle;\n",
       "    }\n",
       "\n",
       "    .dataframe tbody tr th {\n",
       "        vertical-align: top;\n",
       "    }\n",
       "\n",
       "    .dataframe thead th {\n",
       "        text-align: right;\n",
       "    }\n",
       "</style>\n",
       "<table border=\"1\" class=\"dataframe\">\n",
       "  <thead>\n",
       "    <tr style=\"text-align: right;\">\n",
       "      <th></th>\n",
       "      <th>Country</th>\n",
       "      <th>Breed</th>\n",
       "      <th>Individua_ID</th>\n",
       "      <th>Unnamed: 3</th>\n",
       "      <th>Unnamed: 4</th>\n",
       "      <th>Unnamed: 5</th>\n",
       "      <th>Unnamed: 6</th>\n",
       "      <th>Unnamed: 7</th>\n",
       "      <th>Unnamed: 8</th>\n",
       "      <th>Unnamed: 9</th>\n",
       "      <th>Unnamed: 10</th>\n",
       "      <th>Unnamed: 11</th>\n",
       "    </tr>\n",
       "  </thead>\n",
       "  <tbody>\n",
       "    <tr>\n",
       "      <th>0</th>\n",
       "      <td>Hungary</td>\n",
       "      <td>Tsigai</td>\n",
       "      <td>1458</td>\n",
       "      <td>47°34′36″N</td>\n",
       "      <td>21°34′46″E</td>\n",
       "      <td>NaN</td>\n",
       "      <td>NaN</td>\n",
       "      <td>NaN</td>\n",
       "      <td>NaN</td>\n",
       "      <td>NaN</td>\n",
       "      <td>NaN</td>\n",
       "      <td>NaN</td>\n",
       "    </tr>\n",
       "    <tr>\n",
       "      <th>1</th>\n",
       "      <td>Hungary</td>\n",
       "      <td>Tsigai</td>\n",
       "      <td>1470</td>\n",
       "      <td>47°34′36″N</td>\n",
       "      <td>21°34′46″E</td>\n",
       "      <td>NaN</td>\n",
       "      <td>NaN</td>\n",
       "      <td>NaN</td>\n",
       "      <td>NaN</td>\n",
       "      <td>NaN</td>\n",
       "      <td>NaN</td>\n",
       "      <td>NaN</td>\n",
       "    </tr>\n",
       "    <tr>\n",
       "      <th>2</th>\n",
       "      <td>Hungary</td>\n",
       "      <td>Tsigai</td>\n",
       "      <td>1482</td>\n",
       "      <td>47°34′36″N</td>\n",
       "      <td>21°34′46″E</td>\n",
       "      <td>NaN</td>\n",
       "      <td>NaN</td>\n",
       "      <td>NaN</td>\n",
       "      <td>NaN</td>\n",
       "      <td>NaN</td>\n",
       "      <td>NaN</td>\n",
       "      <td>NaN</td>\n",
       "    </tr>\n",
       "    <tr>\n",
       "      <th>3</th>\n",
       "      <td>Hungary</td>\n",
       "      <td>Tsigai</td>\n",
       "      <td>1485</td>\n",
       "      <td>47°34′36″N</td>\n",
       "      <td>21°34′46″E</td>\n",
       "      <td>NaN</td>\n",
       "      <td>NaN</td>\n",
       "      <td>NaN</td>\n",
       "      <td>NaN</td>\n",
       "      <td>NaN</td>\n",
       "      <td>NaN</td>\n",
       "      <td>NaN</td>\n",
       "    </tr>\n",
       "    <tr>\n",
       "      <th>4</th>\n",
       "      <td>Hungary</td>\n",
       "      <td>Tsigai</td>\n",
       "      <td>1489</td>\n",
       "      <td>47°34′36″N</td>\n",
       "      <td>21°34′46″E</td>\n",
       "      <td>NaN</td>\n",
       "      <td>NaN</td>\n",
       "      <td>NaN</td>\n",
       "      <td>NaN</td>\n",
       "      <td>NaN</td>\n",
       "      <td>NaN</td>\n",
       "      <td>NaN</td>\n",
       "    </tr>\n",
       "  </tbody>\n",
       "</table>\n",
       "</div>"
      ],
      "text/plain": [
       "   Country   Breed Individua_ID   Unnamed: 3  Unnamed: 4  Unnamed: 5  \\\n",
       "0  Hungary  Tsigai         1458  47°34′36″N   21°34′46″E         NaN   \n",
       "1  Hungary  Tsigai         1470  47°34′36″N   21°34′46″E         NaN   \n",
       "2  Hungary  Tsigai         1482  47°34′36″N   21°34′46″E         NaN   \n",
       "3  Hungary  Tsigai         1485  47°34′36″N   21°34′46″E         NaN   \n",
       "4  Hungary  Tsigai         1489  47°34′36″N   21°34′46″E         NaN   \n",
       "\n",
       "   Unnamed: 6  Unnamed: 7  Unnamed: 8  Unnamed: 9  Unnamed: 10  Unnamed: 11  \n",
       "0         NaN         NaN         NaN         NaN          NaN          NaN  \n",
       "1         NaN         NaN         NaN         NaN          NaN          NaN  \n",
       "2         NaN         NaN         NaN         NaN          NaN          NaN  \n",
       "3         NaN         NaN         NaN         NaN          NaN          NaN  \n",
       "4         NaN         NaN         NaN         NaN          NaN          NaN  "
      ]
     },
     "execution_count": 10,
     "metadata": {},
     "output_type": "execute_result"
    }
   ],
   "source": [
    "phenotype_dataset = Dataset.objects.get(country=\"Hungary\", type_=\"phenotypes\")\n",
    "with open(phenotype_dataset.working_dir / \"NativeSheep GPS.xlsx\", \"rb\") as handle:\n",
    "    info = pd.read_excel(handle)\n",
    "info.head()"
   ]
  },
  {
   "cell_type": "code",
   "execution_count": 11,
   "id": "4b7384da-952e-4799-8088-e3baf5e5e4f8",
   "metadata": {},
   "outputs": [
    {
     "data": {
      "text/html": [
       "<div>\n",
       "<style scoped>\n",
       "    .dataframe tbody tr th:only-of-type {\n",
       "        vertical-align: middle;\n",
       "    }\n",
       "\n",
       "    .dataframe tbody tr th {\n",
       "        vertical-align: top;\n",
       "    }\n",
       "\n",
       "    .dataframe thead th {\n",
       "        text-align: right;\n",
       "    }\n",
       "</style>\n",
       "<table border=\"1\" class=\"dataframe\">\n",
       "  <thead>\n",
       "    <tr style=\"text-align: right;\">\n",
       "      <th></th>\n",
       "      <th>country</th>\n",
       "      <th>breed</th>\n",
       "      <th>original_id</th>\n",
       "      <th>north</th>\n",
       "      <th>east</th>\n",
       "    </tr>\n",
       "  </thead>\n",
       "  <tbody>\n",
       "    <tr>\n",
       "      <th>0</th>\n",
       "      <td>Hungary</td>\n",
       "      <td>Tsigai</td>\n",
       "      <td>1458</td>\n",
       "      <td>47°34′36″N</td>\n",
       "      <td>21°34′46″E</td>\n",
       "    </tr>\n",
       "    <tr>\n",
       "      <th>1</th>\n",
       "      <td>Hungary</td>\n",
       "      <td>Tsigai</td>\n",
       "      <td>1470</td>\n",
       "      <td>47°34′36″N</td>\n",
       "      <td>21°34′46″E</td>\n",
       "    </tr>\n",
       "    <tr>\n",
       "      <th>2</th>\n",
       "      <td>Hungary</td>\n",
       "      <td>Tsigai</td>\n",
       "      <td>1482</td>\n",
       "      <td>47°34′36″N</td>\n",
       "      <td>21°34′46″E</td>\n",
       "    </tr>\n",
       "    <tr>\n",
       "      <th>3</th>\n",
       "      <td>Hungary</td>\n",
       "      <td>Tsigai</td>\n",
       "      <td>1485</td>\n",
       "      <td>47°34′36″N</td>\n",
       "      <td>21°34′46″E</td>\n",
       "    </tr>\n",
       "    <tr>\n",
       "      <th>4</th>\n",
       "      <td>Hungary</td>\n",
       "      <td>Tsigai</td>\n",
       "      <td>1489</td>\n",
       "      <td>47°34′36″N</td>\n",
       "      <td>21°34′46″E</td>\n",
       "    </tr>\n",
       "  </tbody>\n",
       "</table>\n",
       "</div>"
      ],
      "text/plain": [
       "   country   breed original_id        north        east\n",
       "0  Hungary  Tsigai        1458  47°34′36″N   21°34′46″E\n",
       "1  Hungary  Tsigai        1470  47°34′36″N   21°34′46″E\n",
       "2  Hungary  Tsigai        1482  47°34′36″N   21°34′46″E\n",
       "3  Hungary  Tsigai        1485  47°34′36″N   21°34′46″E\n",
       "4  Hungary  Tsigai        1489  47°34′36″N   21°34′46″E"
      ]
     },
     "execution_count": 11,
     "metadata": {},
     "output_type": "execute_result"
    }
   ],
   "source": [
    "info.dropna(axis=1, inplace=True)\n",
    "info.columns = ['country', 'breed', 'original_id', 'north', 'east']\n",
    "info.head()"
   ]
  },
  {
   "cell_type": "markdown",
   "id": "e055696f-6fdc-480a-9bf2-b1209aa31699",
   "metadata": {},
   "source": [
    "It's time to convert coordinates using `geopy`:"
   ]
  },
  {
   "cell_type": "code",
   "execution_count": 12,
   "id": "85659fa6-de40-4f77-91a7-30a835a09b98",
   "metadata": {},
   "outputs": [],
   "source": [
    "def degrees2float(nord: str, east: str):\n",
    "    tmp = f\"{nord} {east}\"\n",
    "    point = geopy.point.Point(tmp)\n",
    "    return point"
   ]
  },
  {
   "cell_type": "code",
   "execution_count": 13,
   "id": "b2506400-76ca-4a1e-984e-e3484a6047ef",
   "metadata": {},
   "outputs": [
    {
     "data": {
      "text/html": [
       "<div>\n",
       "<style scoped>\n",
       "    .dataframe tbody tr th:only-of-type {\n",
       "        vertical-align: middle;\n",
       "    }\n",
       "\n",
       "    .dataframe tbody tr th {\n",
       "        vertical-align: top;\n",
       "    }\n",
       "\n",
       "    .dataframe thead th {\n",
       "        text-align: right;\n",
       "    }\n",
       "</style>\n",
       "<table border=\"1\" class=\"dataframe\">\n",
       "  <thead>\n",
       "    <tr style=\"text-align: right;\">\n",
       "      <th></th>\n",
       "      <th>country</th>\n",
       "      <th>breed</th>\n",
       "      <th>original_id</th>\n",
       "      <th>north</th>\n",
       "      <th>east</th>\n",
       "      <th>latitude</th>\n",
       "      <th>longitude</th>\n",
       "    </tr>\n",
       "  </thead>\n",
       "  <tbody>\n",
       "    <tr>\n",
       "      <th>0</th>\n",
       "      <td>Hungary</td>\n",
       "      <td>Tsigai</td>\n",
       "      <td>1458</td>\n",
       "      <td>47°34′36″N</td>\n",
       "      <td>21°34′46″E</td>\n",
       "      <td>47.576667</td>\n",
       "      <td>21.579444</td>\n",
       "    </tr>\n",
       "    <tr>\n",
       "      <th>1</th>\n",
       "      <td>Hungary</td>\n",
       "      <td>Tsigai</td>\n",
       "      <td>1470</td>\n",
       "      <td>47°34′36″N</td>\n",
       "      <td>21°34′46″E</td>\n",
       "      <td>47.576667</td>\n",
       "      <td>21.579444</td>\n",
       "    </tr>\n",
       "    <tr>\n",
       "      <th>2</th>\n",
       "      <td>Hungary</td>\n",
       "      <td>Tsigai</td>\n",
       "      <td>1482</td>\n",
       "      <td>47°34′36″N</td>\n",
       "      <td>21°34′46″E</td>\n",
       "      <td>47.576667</td>\n",
       "      <td>21.579444</td>\n",
       "    </tr>\n",
       "    <tr>\n",
       "      <th>3</th>\n",
       "      <td>Hungary</td>\n",
       "      <td>Tsigai</td>\n",
       "      <td>1485</td>\n",
       "      <td>47°34′36″N</td>\n",
       "      <td>21°34′46″E</td>\n",
       "      <td>47.576667</td>\n",
       "      <td>21.579444</td>\n",
       "    </tr>\n",
       "    <tr>\n",
       "      <th>4</th>\n",
       "      <td>Hungary</td>\n",
       "      <td>Tsigai</td>\n",
       "      <td>1489</td>\n",
       "      <td>47°34′36″N</td>\n",
       "      <td>21°34′46″E</td>\n",
       "      <td>47.576667</td>\n",
       "      <td>21.579444</td>\n",
       "    </tr>\n",
       "  </tbody>\n",
       "</table>\n",
       "</div>"
      ],
      "text/plain": [
       "   country   breed original_id        north        east   latitude  longitude\n",
       "0  Hungary  Tsigai        1458  47°34′36″N   21°34′46″E  47.576667  21.579444\n",
       "1  Hungary  Tsigai        1470  47°34′36″N   21°34′46″E  47.576667  21.579444\n",
       "2  Hungary  Tsigai        1482  47°34′36″N   21°34′46″E  47.576667  21.579444\n",
       "3  Hungary  Tsigai        1485  47°34′36″N   21°34′46″E  47.576667  21.579444\n",
       "4  Hungary  Tsigai        1489  47°34′36″N   21°34′46″E  47.576667  21.579444"
      ]
     },
     "execution_count": 13,
     "metadata": {},
     "output_type": "execute_result"
    }
   ],
   "source": [
    "points = info[['north', 'east']].apply(lambda df: degrees2float(df['north'], df['east']), axis=1)\n",
    "info[\"latitude\"] = points.apply(lambda point: point.latitude)\n",
    "info[\"longitude\"] = points.apply(lambda point: point.longitude)\n",
    "info.head()"
   ]
  },
  {
   "cell_type": "markdown",
   "id": "65583951-e4da-421f-856f-69561ca8223c",
   "metadata": {},
   "source": [
    "Ok, now test that the original id I have is also in genotype files:"
   ]
  },
  {
   "cell_type": "code",
   "execution_count": 14,
   "id": "94ceb3c5-c232-4bb9-84de-33657dbb0b80",
   "metadata": {},
   "outputs": [
    {
     "name": "stdout",
     "output_type": "stream",
     "text": [
      "Got 259 from plink file and 259 from xlsx file\n"
     ]
    }
   ],
   "source": [
    "samples = [line[1] for line in plinkio.read_pedfile()]\n",
    "print(f\"Got {len(samples)} from plink file and {info.shape[0]} from xlsx file\")"
   ]
  },
  {
   "cell_type": "code",
   "execution_count": 15,
   "id": "33763644-a37c-49de-a2e3-ced57cb075ba",
   "metadata": {},
   "outputs": [
    {
     "data": {
      "text/html": [
       "<div>\n",
       "<style scoped>\n",
       "    .dataframe tbody tr th:only-of-type {\n",
       "        vertical-align: middle;\n",
       "    }\n",
       "\n",
       "    .dataframe tbody tr th {\n",
       "        vertical-align: top;\n",
       "    }\n",
       "\n",
       "    .dataframe thead th {\n",
       "        text-align: right;\n",
       "    }\n",
       "</style>\n",
       "<table border=\"1\" class=\"dataframe\">\n",
       "  <thead>\n",
       "    <tr style=\"text-align: right;\">\n",
       "      <th></th>\n",
       "      <th>country</th>\n",
       "      <th>breed</th>\n",
       "      <th>original_id</th>\n",
       "      <th>north</th>\n",
       "      <th>east</th>\n",
       "      <th>latitude</th>\n",
       "      <th>longitude</th>\n",
       "      <th>in_ped</th>\n",
       "    </tr>\n",
       "  </thead>\n",
       "  <tbody>\n",
       "    <tr>\n",
       "      <th>195</th>\n",
       "      <td>Hungary</td>\n",
       "      <td>Hortobágy Racka</td>\n",
       "      <td>44</td>\n",
       "      <td>46°50′55″N</td>\n",
       "      <td>17°36′22″E</td>\n",
       "      <td>46.848611</td>\n",
       "      <td>17.606111</td>\n",
       "      <td>False</td>\n",
       "    </tr>\n",
       "    <tr>\n",
       "      <th>197</th>\n",
       "      <td>Hungary</td>\n",
       "      <td>Suffolk</td>\n",
       "      <td>114</td>\n",
       "      <td>48°23′57″N</td>\n",
       "      <td>20°50′46″E</td>\n",
       "      <td>48.399167</td>\n",
       "      <td>20.846111</td>\n",
       "      <td>False</td>\n",
       "    </tr>\n",
       "  </tbody>\n",
       "</table>\n",
       "</div>"
      ],
      "text/plain": [
       "     country            breed original_id        north         east  \\\n",
       "195  Hungary  Hortobágy Racka          44  46°50′55″N    17°36′22″E   \n",
       "197  Hungary          Suffolk         114  48°23′57″N   20°50′46″E    \n",
       "\n",
       "      latitude  longitude  in_ped  \n",
       "195  46.848611  17.606111   False  \n",
       "197  48.399167  20.846111   False  "
      ]
     },
     "execution_count": 15,
     "metadata": {},
     "output_type": "execute_result"
    }
   ],
   "source": [
    "samples_set = set(samples)\n",
    "info['in_ped'] = info['original_id'].apply(lambda sample: str(sample) in samples_set)\n",
    "info[info['in_ped'] == False]"
   ]
  },
  {
   "cell_type": "markdown",
   "id": "6ca92ea5-b9fb-4d84-848b-b593b0b1cbd8",
   "metadata": {},
   "source": [
    "Ok try to change the `original_id` of these two samples, and put a `0` in front of them to see if I match a sample name:"
   ]
  },
  {
   "cell_type": "code",
   "execution_count": 16,
   "id": "11cede49-dcf4-40a8-a0f5-533d0f37b1b1",
   "metadata": {},
   "outputs": [
    {
     "name": "stdout",
     "output_type": "stream",
     "text": [
      "Got 0 mismatches between samples\n"
     ]
    }
   ],
   "source": [
    "info.at[195, 'original_id'] = '044'\n",
    "info.at[197, 'original_id'] = '0114'\n",
    "info['in_ped'] = info['original_id'].apply(lambda sample: str(sample) in samples_set)\n",
    "print(f\"Got {len(info[info['in_ped'] == False].index)} mismatches between samples\")"
   ]
  },
  {
   "cell_type": "markdown",
   "id": "f198f719-cfda-44d8-a3b5-4c7078287228",
   "metadata": {},
   "source": [
    "So, now all the samples id corresponds between data files. I can remove the column I don't need:"
   ]
  },
  {
   "cell_type": "code",
   "execution_count": 17,
   "id": "4fb0088d-3942-470f-86e6-1d6efeacf9bb",
   "metadata": {},
   "outputs": [],
   "source": [
    "info.drop('in_ped', axis=1, inplace=True)"
   ]
  },
  {
   "cell_type": "markdown",
   "id": "b5a7bb17-202f-406a-9627-4b9db5f681c0",
   "metadata": {},
   "source": [
    "I need to check breed code and verify that they are not already used in my database, otherwise I need to define *FID aliases:"
   ]
  },
  {
   "cell_type": "code",
   "execution_count": 18,
   "id": "e8a0ff9b-7ef2-4908-b5c5-ad9397f90033",
   "metadata": {},
   "outputs": [
    {
     "data": {
      "text/plain": [
       "{'Dorper',\n",
       " 'I.France',\n",
       " 'Merino',\n",
       " 'R.Tsigai',\n",
       " 'Racka',\n",
       " 'Suffolk',\n",
       " 'Tetra',\n",
       " 'Tsigai',\n",
       " 'Turcana',\n",
       " 'W.Dorper'}"
      ]
     },
     "execution_count": 18,
     "metadata": {},
     "output_type": "execute_result"
    }
   ],
   "source": [
    "samples2fid = { line[1]: line[0] for line in plinkio.read_pedfile()}\n",
    "set(samples2fid.values())"
   ]
  },
  {
   "cell_type": "markdown",
   "id": "61a6b3a8-611f-4462-88ff-322764cc000a",
   "metadata": {},
   "source": [
    "Ok and use full name for *White Dorper* and fix *Île de France*:"
   ]
  },
  {
   "cell_type": "code",
   "execution_count": 19,
   "id": "eb22d50b-9ff0-4111-ada4-a2a5f6708292",
   "metadata": {},
   "outputs": [],
   "source": [
    "info.replace({'W.Dorper': 'White Dorper'}, inplace=True)\n",
    "info.replace({'Ile de France': 'Île de France'}, inplace=True)"
   ]
  },
  {
   "cell_type": "code",
   "execution_count": 20,
   "id": "926f777b-c5da-4e23-b060-dbb2415dc0c5",
   "metadata": {},
   "outputs": [
    {
     "data": {
      "text/plain": [
       "array(['Tsigai', 'Merino', 'Dorper', 'White Dorper', 'Bábolna Tetra',\n",
       "       'Île de France', 'Suffolk', 'Hortobágy Racka', 'Rusty Tsigai',\n",
       "       'Turcana'], dtype=object)"
      ]
     },
     "execution_count": 20,
     "metadata": {},
     "output_type": "execute_result"
    }
   ],
   "source": [
    "info[\"breed\"].unique()"
   ]
  },
  {
   "cell_type": "markdown",
   "id": "bf299c21-a1d8-488a-9657-de3b22839265",
   "metadata": {},
   "source": [
    "Ok define another dictionary to define breed to fid and code conversion:"
   ]
  },
  {
   "cell_type": "code",
   "execution_count": 21,
   "id": "05507259-1654-4cd8-8d98-f2f98c7a4f47",
   "metadata": {},
   "outputs": [],
   "source": [
    "breed2code = {'Tsigai': ('Tsigai', 'TSI'), 'Merino': ('Merino', 'MER'), 'Dorper': ('Dorper', 'DRP'), 'White Dorper': ('W.Dorper', 'WDR'), \n",
    "              'Bábolna Tetra': ('Tetra', 'BAT'), 'Île de France': ('I.France', 'IDF'), 'Suffolk': ('Suffolk', 'SUF'),\n",
    "              'Hortobágy Racka': ('Racka', 'HRR'), 'Rusty Tsigai': ('R.Tsigai', 'RST'), 'Turcana': ('Turcana', 'TRC')}"
   ]
  },
  {
   "cell_type": "code",
   "execution_count": 22,
   "id": "a1fbeb91-d099-419b-91b9-496fecac8e54",
   "metadata": {},
   "outputs": [
    {
     "data": {
      "text/html": [
       "<div>\n",
       "<style scoped>\n",
       "    .dataframe tbody tr th:only-of-type {\n",
       "        vertical-align: middle;\n",
       "    }\n",
       "\n",
       "    .dataframe tbody tr th {\n",
       "        vertical-align: top;\n",
       "    }\n",
       "\n",
       "    .dataframe thead th {\n",
       "        text-align: right;\n",
       "    }\n",
       "</style>\n",
       "<table border=\"1\" class=\"dataframe\">\n",
       "  <thead>\n",
       "    <tr style=\"text-align: right;\">\n",
       "      <th></th>\n",
       "      <th>country</th>\n",
       "      <th>breed</th>\n",
       "      <th>original_id</th>\n",
       "      <th>north</th>\n",
       "      <th>east</th>\n",
       "      <th>latitude</th>\n",
       "      <th>longitude</th>\n",
       "      <th>fid</th>\n",
       "      <th>code</th>\n",
       "    </tr>\n",
       "  </thead>\n",
       "  <tbody>\n",
       "    <tr>\n",
       "      <th>0</th>\n",
       "      <td>Hungary</td>\n",
       "      <td>Tsigai</td>\n",
       "      <td>1458</td>\n",
       "      <td>47°34′36″N</td>\n",
       "      <td>21°34′46″E</td>\n",
       "      <td>47.576667</td>\n",
       "      <td>21.579444</td>\n",
       "      <td>Tsigai</td>\n",
       "      <td>TSI</td>\n",
       "    </tr>\n",
       "    <tr>\n",
       "      <th>1</th>\n",
       "      <td>Hungary</td>\n",
       "      <td>Tsigai</td>\n",
       "      <td>1470</td>\n",
       "      <td>47°34′36″N</td>\n",
       "      <td>21°34′46″E</td>\n",
       "      <td>47.576667</td>\n",
       "      <td>21.579444</td>\n",
       "      <td>Tsigai</td>\n",
       "      <td>TSI</td>\n",
       "    </tr>\n",
       "    <tr>\n",
       "      <th>2</th>\n",
       "      <td>Hungary</td>\n",
       "      <td>Tsigai</td>\n",
       "      <td>1482</td>\n",
       "      <td>47°34′36″N</td>\n",
       "      <td>21°34′46″E</td>\n",
       "      <td>47.576667</td>\n",
       "      <td>21.579444</td>\n",
       "      <td>Tsigai</td>\n",
       "      <td>TSI</td>\n",
       "    </tr>\n",
       "    <tr>\n",
       "      <th>3</th>\n",
       "      <td>Hungary</td>\n",
       "      <td>Tsigai</td>\n",
       "      <td>1485</td>\n",
       "      <td>47°34′36″N</td>\n",
       "      <td>21°34′46″E</td>\n",
       "      <td>47.576667</td>\n",
       "      <td>21.579444</td>\n",
       "      <td>Tsigai</td>\n",
       "      <td>TSI</td>\n",
       "    </tr>\n",
       "    <tr>\n",
       "      <th>4</th>\n",
       "      <td>Hungary</td>\n",
       "      <td>Tsigai</td>\n",
       "      <td>1489</td>\n",
       "      <td>47°34′36″N</td>\n",
       "      <td>21°34′46″E</td>\n",
       "      <td>47.576667</td>\n",
       "      <td>21.579444</td>\n",
       "      <td>Tsigai</td>\n",
       "      <td>TSI</td>\n",
       "    </tr>\n",
       "  </tbody>\n",
       "</table>\n",
       "</div>"
      ],
      "text/plain": [
       "   country   breed original_id        north        east   latitude  longitude  \\\n",
       "0  Hungary  Tsigai        1458  47°34′36″N   21°34′46″E  47.576667  21.579444   \n",
       "1  Hungary  Tsigai        1470  47°34′36″N   21°34′46″E  47.576667  21.579444   \n",
       "2  Hungary  Tsigai        1482  47°34′36″N   21°34′46″E  47.576667  21.579444   \n",
       "3  Hungary  Tsigai        1485  47°34′36″N   21°34′46″E  47.576667  21.579444   \n",
       "4  Hungary  Tsigai        1489  47°34′36″N   21°34′46″E  47.576667  21.579444   \n",
       "\n",
       "      fid code  \n",
       "0  Tsigai  TSI  \n",
       "1  Tsigai  TSI  \n",
       "2  Tsigai  TSI  \n",
       "3  Tsigai  TSI  \n",
       "4  Tsigai  TSI  "
      ]
     },
     "execution_count": 22,
     "metadata": {},
     "output_type": "execute_result"
    }
   ],
   "source": [
    "info['fid'] = info[\"breed\"].apply(lambda breed: breed2code[breed][0])\n",
    "info['code'] = info[\"breed\"].apply(lambda breed: breed2code[breed][1])\n",
    "info.head()"
   ]
  },
  {
   "cell_type": "markdown",
   "id": "8a1a05fb-e165-4bf3-8df5-7d0a14df2d78",
   "metadata": {},
   "source": [
    "Ok, time to write metadata in file:"
   ]
  },
  {
   "cell_type": "code",
   "execution_count": 23,
   "id": "e5f8f0a1-f555-4eb0-88b6-e2552ef9ee60",
   "metadata": {},
   "outputs": [],
   "source": [
    "outfile = \"nativesheeps_hu_fixed.xlsx\"\n",
    "info.to_excel(outfile, index=False)"
   ]
  },
  {
   "cell_type": "markdown",
   "id": "b0148fa5-906f-4f94-a626-24c1d3e81cbc",
   "metadata": {},
   "source": [
    "This fixed metadata file will be placed in phenotype archive"
   ]
  },
  {
   "cell_type": "code",
   "execution_count": null,
   "id": "81354308-3a10-4b17-9d45-9c1ee168712c",
   "metadata": {},
   "outputs": [],
   "source": []
  }
 ],
 "metadata": {
  "kernelspec": {
   "display_name": "Python 3",
   "language": "python",
   "name": "python3"
  },
  "language_info": {
   "codemirror_mode": {
    "name": "ipython",
    "version": 3
   },
   "file_extension": ".py",
   "mimetype": "text/x-python",
   "name": "python",
   "nbconvert_exporter": "python",
   "pygments_lexer": "ipython3",
   "version": "3.9.1"
  }
 },
 "nbformat": 4,
 "nbformat_minor": 5
}
