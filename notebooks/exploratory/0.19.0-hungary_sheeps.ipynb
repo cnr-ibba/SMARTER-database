{
 "cells": [
  {
   "cell_type": "markdown",
   "id": "0b0d6bfe-13e8-4436-a6db-03e6011bc59a",
   "metadata": {},
   "source": [
    "# Hungarian sheeps\n",
    "Try to describe hungary sheep dataset"
   ]
  },
  {
   "cell_type": "code",
   "execution_count": 1,
   "id": "91fa6f8e-06bf-4c4e-a19c-ce244b60bfe4",
   "metadata": {},
   "outputs": [],
   "source": [
    "import logging\n",
    "\n",
    "from tqdm.notebook import tqdm\n",
    "\n",
    "from src.features.smarterdb import global_connection, Dataset\n",
    "from src.features.plinkio import TextPlinkIO, CodingException\n",
    "from src.data.common import WORKING_ASSEMBLIES"
   ]
  },
  {
   "cell_type": "code",
   "execution_count": 2,
   "id": "2442785d-b4b0-4299-aabc-ddf0bc584bd7",
   "metadata": {},
   "outputs": [],
   "source": [
    "logger = logging.getLogger('src.features.plinkio')\n",
    "logger.setLevel(logging.CRITICAL)\n",
    "\n",
    "_ = global_connection()\n",
    "OAR3 = WORKING_ASSEMBLIES[\"OAR3\"]"
   ]
  },
  {
   "cell_type": "code",
   "execution_count": 3,
   "id": "a660df8d-7d6a-4942-89ff-337197a8f8df",
   "metadata": {},
   "outputs": [],
   "source": [
    "class CustomMixin():\n",
    "    n_of_individuals = None\n",
    "    \n",
    "    def process_pedfile(self, coding=\"top\"):\n",
    "        for line in tqdm(self.read_pedfile(), total=self.n_of_individuals):\n",
    "            _ = self._process_genotypes(line, coding)\n",
    "            \n",
    "        return True\n",
    "    \n",
    "    def is_top(self):\n",
    "        try:\n",
    "            return self.process_pedfile(coding='top')\n",
    "        \n",
    "        except CodingException:\n",
    "            return False\n",
    "    \n",
    "    def is_forward(self):\n",
    "        try:\n",
    "            return self.process_pedfile(coding='forward')\n",
    "        \n",
    "        except CodingException:\n",
    "            return False\n",
    "        \n",
    "    def is_affymetrix(self):\n",
    "        try:\n",
    "            return self.process_pedfile(coding='affymetrix')\n",
    "        \n",
    "        except CodingException:\n",
    "            return False\n",
    "        \n",
    "class CustomTextPlinkIO(CustomMixin, TextPlinkIO):\n",
    "    pass"
   ]
  },
  {
   "cell_type": "markdown",
   "id": "4b5d7454-52ea-4b6c-a5cf-fa2c3cd4f331",
   "metadata": {},
   "source": [
    "Read dataset from database:"
   ]
  },
  {
   "cell_type": "code",
   "execution_count": 4,
   "id": "56ae3065-1b37-4387-825e-cfbf148b1b13",
   "metadata": {},
   "outputs": [],
   "source": [
    "hungarian_dataset = Dataset.objects.get(file=\"NativesheepBreeds_Hu.zip\")\n",
    "plinkio = CustomTextPlinkIO(\n",
    "    prefix=str(hungarian_dataset.working_dir / \"NativesheepBreeds_Hu/NativeSheepGenotypes\"), \n",
    "    species=hungarian_dataset.species, \n",
    "    chip_name=hungarian_dataset.chip_name)\n",
    "plinkio.n_of_individuals = hungarian_dataset.n_of_individuals"
   ]
  },
  {
   "cell_type": "code",
   "execution_count": 5,
   "id": "f41319bd-c44b-4cc6-87e2-5c8af6816238",
   "metadata": {},
   "outputs": [],
   "source": [
    "plinkio.read_mapfile()\n",
    "plinkio.fetch_coordinates(\n",
    "    **OAR3._asdict()\n",
    ")"
   ]
  },
  {
   "cell_type": "code",
   "execution_count": 6,
   "id": "a5ccdf7b-248b-401b-aa29-3cb602588bb7",
   "metadata": {},
   "outputs": [
    {
     "name": "stdout",
     "output_type": "stream",
     "text": [
      "I can retrieve 53446 of 53516 SNPs using 'name' (0.13% missing)\n"
     ]
    }
   ],
   "source": [
    "snps_found = len(plinkio.mapdata)-len(plinkio.filtered)\n",
    "perc_missing = round(100 - (snps_found / len(plinkio.mapdata) * 100), 2)\n",
    "\n",
    "print(f\"I can retrieve {snps_found} of {len(plinkio.mapdata)} SNPs using 'name' ({perc_missing}% missing)\")"
   ]
  },
  {
   "cell_type": "markdown",
   "id": "573efd1f-4670-42cc-bf22-7c29b67fbf02",
   "metadata": {},
   "source": [
    "Is this dataset in top coordinates?"
   ]
  },
  {
   "cell_type": "code",
   "execution_count": 7,
   "id": "607090a4-c598-4367-8383-7c7e4dfaad28",
   "metadata": {},
   "outputs": [
    {
     "data": {
      "application/vnd.jupyter.widget-view+json": {
       "model_id": "d46dae5c448c4471af1fa46e588283ac",
       "version_major": 2,
       "version_minor": 0
      },
      "text/plain": [
       "  0%|          | 0/259 [00:00<?, ?it/s]"
      ]
     },
     "metadata": {},
     "output_type": "display_data"
    },
    {
     "name": "stderr",
     "output_type": "stream",
     "text": [
      "Error for SNP 1:DU415336_399.1: G/G <> A/C\n"
     ]
    },
    {
     "data": {
      "text/plain": [
       "False"
      ]
     },
     "execution_count": 7,
     "metadata": {},
     "output_type": "execute_result"
    }
   ],
   "source": [
    "plinkio.is_top()"
   ]
  },
  {
   "cell_type": "markdown",
   "id": "bc4180e8-1d23-4ef9-94b5-391d658a4999",
   "metadata": {},
   "source": [
    "So, not in TOP. Is this in forward?"
   ]
  },
  {
   "cell_type": "code",
   "execution_count": 8,
   "id": "da870023-766f-469f-bcbd-aa91711c7ce2",
   "metadata": {},
   "outputs": [
    {
     "data": {
      "application/vnd.jupyter.widget-view+json": {
       "model_id": "09d593b894c74ff9992d9332d2463638",
       "version_major": 2,
       "version_minor": 0
      },
      "text/plain": [
       "  0%|          | 0/259 [00:00<?, ?it/s]"
      ]
     },
     "metadata": {},
     "output_type": "display_data"
    },
    {
     "data": {
      "text/plain": [
       "True"
      ]
     },
     "execution_count": 8,
     "metadata": {},
     "output_type": "execute_result"
    }
   ],
   "source": [
    "plinkio.is_forward()"
   ]
  },
  {
   "cell_type": "markdown",
   "id": "348658fc-82c6-4e11-a266-27e6645b726f",
   "metadata": {},
   "source": [
    "Ok, it's in forward coordinates. What about the new breeds I received?"
   ]
  },
  {
   "cell_type": "code",
   "execution_count": 9,
   "id": "9c10207b-0034-4150-bfba-d3f017d98b8b",
   "metadata": {},
   "outputs": [
    {
     "name": "stdout",
     "output_type": "stream",
     "text": [
      "Got {'Tsigai', 'Suffolk', 'R.Tsigai', 'I.France', 'W.Dorper', 'Turcana', 'Dorper', 'Tetra', 'Merino', 'Racka'} breeds\n"
     ]
    }
   ],
   "source": [
    "breeds = set()\n",
    "\n",
    "for line in plinkio.read_pedfile():\n",
    "    breed = line[0]\n",
    "    if breed not in breeds:\n",
    "        breeds.add(breed)\n",
    "    \n",
    "print(f\"Got {breeds} breeds\")"
   ]
  },
  {
   "cell_type": "markdown",
   "id": "97fcc2ed-3dd4-407d-a878-8ef997b59307",
   "metadata": {},
   "source": [
    "Some breeds are completely new and need to be added into database"
   ]
  },
  {
   "cell_type": "code",
   "execution_count": null,
   "id": "ac5f9e9e-6c08-4190-814d-5b440bfa3977",
   "metadata": {},
   "outputs": [],
   "source": []
  }
 ],
 "metadata": {
  "kernelspec": {
   "display_name": "Python 3",
   "language": "python",
   "name": "python3"
  },
  "language_info": {
   "codemirror_mode": {
    "name": "ipython",
    "version": 3
   },
   "file_extension": ".py",
   "mimetype": "text/x-python",
   "name": "python",
   "nbconvert_exporter": "python",
   "pygments_lexer": "ipython3",
   "version": "3.9.1"
  }
 },
 "nbformat": 4,
 "nbformat_minor": 5
}
