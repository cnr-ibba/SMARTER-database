{
 "cells": [
  {
   "cell_type": "markdown",
   "id": "23d4d757-f0c5-4298-aa81-f14343177f02",
   "metadata": {},
   "source": [
    "# Cortellari IBS\n",
    "Another attempt to filter out samples reling on king [king](https://www.kingrelatedness.com/) software."
   ]
  },
  {
   "cell_type": "code",
   "execution_count": 1,
   "id": "3c68e73d-fb87-4ce2-9790-4a1919f57003",
   "metadata": {},
   "outputs": [],
   "source": [
    "import os\n",
    "\n",
    "import pandas as pd\n",
    "\n",
    "from src.features.smarterdb import global_connection, Dataset"
   ]
  },
  {
   "cell_type": "code",
   "execution_count": 2,
   "id": "b6eb45a5-a2cb-49d9-a2ea-324b7b1d1270",
   "metadata": {},
   "outputs": [],
   "source": [
    "conn = global_connection()"
   ]
  },
  {
   "cell_type": "code",
   "execution_count": 3,
   "id": "65913171-4670-4708-b020-7c8678d6b3a4",
   "metadata": {},
   "outputs": [],
   "source": [
    "dataset = Dataset.objects.get(file=\"cortellari_et_al_2021.zip\")"
   ]
  },
  {
   "cell_type": "code",
   "execution_count": 4,
   "id": "40f60e8e-5ba2-420e-ae03-86cbe77ecc0b",
   "metadata": {},
   "outputs": [],
   "source": [
    "os.chdir(dataset.working_dir / \"s41598-021-89900-2/\")"
   ]
  },
  {
   "cell_type": "markdown",
   "id": "93f4d468-4fc6-4110-99d0-f9c499da9913",
   "metadata": {},
   "source": [
    "Open the *king* output file: we know that there could be actually duplicated samples in the latest SMARTER database release, however let's focus on duplicates between SMARTER and the *cortellari* dataset:"
   ]
  },
  {
   "cell_type": "code",
   "execution_count": 5,
   "id": "70f26a75-4ac9-49e7-b5db-328de5c14463",
   "metadata": {},
   "outputs": [
    {
     "data": {
      "text/html": [
       "<div>\n",
       "<style scoped>\n",
       "    .dataframe tbody tr th:only-of-type {\n",
       "        vertical-align: middle;\n",
       "    }\n",
       "\n",
       "    .dataframe tbody tr th {\n",
       "        vertical-align: top;\n",
       "    }\n",
       "\n",
       "    .dataframe thead th {\n",
       "        text-align: right;\n",
       "    }\n",
       "</style>\n",
       "<table border=\"1\" class=\"dataframe\">\n",
       "  <thead>\n",
       "    <tr style=\"text-align: right;\">\n",
       "      <th></th>\n",
       "      <th>FID1</th>\n",
       "      <th>ID1</th>\n",
       "      <th>FID2</th>\n",
       "      <th>ID2</th>\n",
       "      <th>N</th>\n",
       "      <th>N_IBS0</th>\n",
       "      <th>N_IBS1</th>\n",
       "      <th>N_IBS2</th>\n",
       "      <th>Concord</th>\n",
       "      <th>HomConc</th>\n",
       "      <th>HetConc</th>\n",
       "      <th>in_smarter</th>\n",
       "    </tr>\n",
       "  </thead>\n",
       "  <tbody>\n",
       "    <tr>\n",
       "      <th>0</th>\n",
       "      <td>ALP</td>\n",
       "      <td>ITCH-ALP-000000268</td>\n",
       "      <td>ALP</td>\n",
       "      <td>ALP215</td>\n",
       "      <td>43680</td>\n",
       "      <td>0</td>\n",
       "      <td>0</td>\n",
       "      <td>43680</td>\n",
       "      <td>1.0</td>\n",
       "      <td>1.0</td>\n",
       "      <td>1.0</td>\n",
       "      <td>False</td>\n",
       "    </tr>\n",
       "    <tr>\n",
       "      <th>1</th>\n",
       "      <td>ALP</td>\n",
       "      <td>ITCH-ALP-000000270</td>\n",
       "      <td>ALP</td>\n",
       "      <td>ALP216</td>\n",
       "      <td>43584</td>\n",
       "      <td>0</td>\n",
       "      <td>0</td>\n",
       "      <td>43584</td>\n",
       "      <td>1.0</td>\n",
       "      <td>1.0</td>\n",
       "      <td>1.0</td>\n",
       "      <td>False</td>\n",
       "    </tr>\n",
       "    <tr>\n",
       "      <th>2</th>\n",
       "      <td>ALP</td>\n",
       "      <td>ITCH-ALP-000000271</td>\n",
       "      <td>ALP</td>\n",
       "      <td>ALP217</td>\n",
       "      <td>43678</td>\n",
       "      <td>0</td>\n",
       "      <td>0</td>\n",
       "      <td>43678</td>\n",
       "      <td>1.0</td>\n",
       "      <td>1.0</td>\n",
       "      <td>1.0</td>\n",
       "      <td>False</td>\n",
       "    </tr>\n",
       "    <tr>\n",
       "      <th>3</th>\n",
       "      <td>ALP</td>\n",
       "      <td>ITCH-ALP-000000272</td>\n",
       "      <td>ALP</td>\n",
       "      <td>ALP218</td>\n",
       "      <td>43658</td>\n",
       "      <td>0</td>\n",
       "      <td>0</td>\n",
       "      <td>43658</td>\n",
       "      <td>1.0</td>\n",
       "      <td>1.0</td>\n",
       "      <td>1.0</td>\n",
       "      <td>False</td>\n",
       "    </tr>\n",
       "    <tr>\n",
       "      <th>4</th>\n",
       "      <td>ALP</td>\n",
       "      <td>ITCH-ALP-000000273</td>\n",
       "      <td>ALP</td>\n",
       "      <td>ALP219</td>\n",
       "      <td>43676</td>\n",
       "      <td>0</td>\n",
       "      <td>0</td>\n",
       "      <td>43676</td>\n",
       "      <td>1.0</td>\n",
       "      <td>1.0</td>\n",
       "      <td>1.0</td>\n",
       "      <td>False</td>\n",
       "    </tr>\n",
       "  </tbody>\n",
       "</table>\n",
       "</div>"
      ],
      "text/plain": [
       "  FID1                 ID1 FID2     ID2      N  N_IBS0  N_IBS1  N_IBS2  \\\n",
       "0  ALP  ITCH-ALP-000000268  ALP  ALP215  43680       0       0   43680   \n",
       "1  ALP  ITCH-ALP-000000270  ALP  ALP216  43584       0       0   43584   \n",
       "2  ALP  ITCH-ALP-000000271  ALP  ALP217  43678       0       0   43678   \n",
       "3  ALP  ITCH-ALP-000000272  ALP  ALP218  43658       0       0   43658   \n",
       "4  ALP  ITCH-ALP-000000273  ALP  ALP219  43676       0       0   43676   \n",
       "\n",
       "   Concord  HomConc  HetConc  in_smarter  \n",
       "0      1.0      1.0      1.0       False  \n",
       "1      1.0      1.0      1.0       False  \n",
       "2      1.0      1.0      1.0       False  \n",
       "3      1.0      1.0      1.0       False  \n",
       "4      1.0      1.0      1.0       False  "
      ]
     },
     "execution_count": 5,
     "metadata": {},
     "output_type": "execute_result"
    }
   ],
   "source": [
    "king = pd.read_table(\"king.con\")\n",
    "king['in_smarter'] = king[['ID1', 'ID2']].apply(lambda x: x['ID1'][2:4] == 'CH' and x['ID2'][2:4] == 'CH', axis=1)\n",
    "king = king[king['in_smarter'] == False]\n",
    "king.head()"
   ]
  },
  {
   "cell_type": "markdown",
   "id": "2ea9a4ea-c98b-4ca8-81a3-af0d76a73076",
   "metadata": {},
   "source": [
    "Let's count how many duplicates I have between the two datasets (SMARTER vs *cortellari*)"
   ]
  },
  {
   "cell_type": "code",
   "execution_count": 6,
   "id": "bd48c9e0-e169-4f20-afcd-9671d63a4cf5",
   "metadata": {},
   "outputs": [
    {
     "data": {
      "text/plain": [
       "FID1  FID2\n",
       "ALP   ALP     139\n",
       "RME   RME      45\n",
       "SAR   SAR      33\n",
       "GGT   GIR      24\n",
       "VAL   VAL      24\n",
       "SAA   SAA      24\n",
       "NIC   NIC      24\n",
       "ARG   ARG      24\n",
       "VSS   VPS      24\n",
       "BIO   BIO      24\n",
       "ASP   ASP      24\n",
       "DIT   TER      23\n",
       "ORO   ORO      23\n",
       "GAR   GAR      20\n",
       "CCG   GCI      19\n",
       "MLT   MAL      16\n",
       "JON   JON      16\n",
       "MLS   SAM      15\n",
       "BEZ   BEZ       7\n",
       "dtype: int64"
      ]
     },
     "execution_count": 6,
     "metadata": {},
     "output_type": "execute_result"
    }
   ],
   "source": [
    "king[['FID1', 'FID2']].value_counts()"
   ]
  },
  {
   "cell_type": "markdown",
   "id": "87820819-b784-4f8f-bb1b-aff9294324b6",
   "metadata": {},
   "source": [
    "Ok, write the sample names into a file. This samples will be excluded from the *cortellari* dataset"
   ]
  },
  {
   "cell_type": "code",
   "execution_count": 7,
   "id": "65a91c65-296b-4af5-b189-09f4d10d453d",
   "metadata": {},
   "outputs": [],
   "source": [
    "king['ID2'].to_csv('to_remove.csv')"
   ]
  },
  {
   "cell_type": "code",
   "execution_count": null,
   "id": "facc91b8-40a2-4cbc-b363-578aa7c258f1",
   "metadata": {},
   "outputs": [],
   "source": []
  }
 ],
 "metadata": {
  "kernelspec": {
   "display_name": "Python 3",
   "language": "python",
   "name": "python3"
  },
  "language_info": {
   "codemirror_mode": {
    "name": "ipython",
    "version": 3
   },
   "file_extension": ".py",
   "mimetype": "text/x-python",
   "name": "python",
   "nbconvert_exporter": "python",
   "pygments_lexer": "ipython3",
   "version": "3.9.1"
  }
 },
 "nbformat": 4,
 "nbformat_minor": 5
}
