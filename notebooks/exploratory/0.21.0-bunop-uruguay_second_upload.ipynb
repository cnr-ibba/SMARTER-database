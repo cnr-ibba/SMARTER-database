{
 "cells": [
  {
   "cell_type": "markdown",
   "id": "e81a333d-f8e4-412e-b8a5-3b7fc37afa11",
   "metadata": {},
   "source": [
    "# Uruguay Second Upload (Foreground)\n",
    "Pablo set new data belonging created for other WPs\n",
    "\n",
    "* [Inia_junio_2021_Texel_46_20210409_SMARTER](#20210409)\n",
    "* [OP635-818 genotyping_soloTexel_20211110_SMARTER](#20211110)\n",
    "* [Placas1_4_genotyping_Corr_Tex_20210824_SMARTER](#20210824)\n",
    "* [OP829-924 INIA Abril_20220301_Texel_SMARTER](#20220301)\n",
    "* [OP925-969 1046-1085 1010-1020_20220323_texel_SMARTER](#20220323)\n",
    "* [OP1586-1666 OP1087-1106 Placa6 Corr_Tex_Genotyping_20220810_SMARTER](#20220810)"
   ]
  },
  {
   "cell_type": "code",
   "execution_count": 1,
   "id": "fdd3f0a4-f1f1-4ef6-9946-e0d1f3ebe576",
   "metadata": {},
   "outputs": [],
   "source": [
    "import csv\n",
    "import collections\n",
    "import pandas as pd\n",
    "\n",
    "from pathlib import Path\n",
    "from tqdm.notebook import tqdm\n",
    "\n",
    "from src.features.smarterdb import global_connection, Dataset, VariantSheep\n",
    "from src.features.utils import skip_comments, text_or_gzip_open, get_interim_dir\n",
    "from src.features.affymetrix import read_affymetrixRow\n",
    "from src.features.plinkio import AffyReportIO"
   ]
  },
  {
   "cell_type": "code",
   "execution_count": 2,
   "id": "3f2675a6-2a7d-4a16-8b73-c5ab54f90ffc",
   "metadata": {},
   "outputs": [],
   "source": [
    "def get_header(report):\n",
    "        # sample names are sanitized through read_affymetrixRow: so read the\n",
    "        # first header of the report file to determine the original sample\n",
    "        # names\n",
    "        with text_or_gzip_open(report) as handle:\n",
    "            position, skipped = skip_comments(handle)\n",
    "\n",
    "            # go back to header section\n",
    "            handle.seek(position)\n",
    "\n",
    "            # now read csv file\n",
    "            reader = csv.reader(handle, delimiter=\"\\t\")\n",
    "\n",
    "            # get header\n",
    "            return next(reader)"
   ]
  },
  {
   "cell_type": "code",
   "execution_count": 3,
   "id": "eef5086f-4fcc-4bee-81a7-62e323b261dc",
   "metadata": {},
   "outputs": [],
   "source": [
    "_ = global_connection()"
   ]
  },
  {
   "cell_type": "markdown",
   "id": "8da94b86-5fb8-4091-a56b-b1f939afb1f6",
   "metadata": {},
   "source": [
    "<a id='20210409'></a>\n",
    "## Inia_junio_2021_Texel_46_20210409_SMARTER\n",
    "lets start with `Inia_junio_2021_Texel_46_20210409_SMARTER.zip`"
   ]
  },
  {
   "cell_type": "code",
   "execution_count": 4,
   "id": "39cb79e5-684b-4158-81df-a172efbfee64",
   "metadata": {},
   "outputs": [],
   "source": [
    "inia_20210409 = Dataset.objects.get(file=\"Inia_junio_2021_Texel_46_20210409_SMARTER.zip\")"
   ]
  },
  {
   "cell_type": "markdown",
   "id": "0a9f2cf8-e49e-4119-bb0e-d5711703bb75",
   "metadata": {},
   "source": [
    "There's only one file in dataset, the file with the data:"
   ]
  },
  {
   "cell_type": "code",
   "execution_count": 5,
   "id": "070fbd2d-a7bb-4bdd-b890-ecfa47d6518a",
   "metadata": {},
   "outputs": [],
   "source": [
    "path = inia_20210409.working_dir / inia_20210409.contents[0]\n",
    "probeset_ids = [record.probeset_id for record in read_affymetrixRow(path)]"
   ]
  },
  {
   "cell_type": "markdown",
   "id": "3881f885-f529-4786-997b-0893771250ef",
   "metadata": {},
   "source": [
    "Check if those probeset ids are in database:"
   ]
  },
  {
   "cell_type": "code",
   "execution_count": 6,
   "id": "fa419e64-6514-48c0-96e9-3621ada69b32",
   "metadata": {},
   "outputs": [
    {
     "data": {
      "application/vnd.jupyter.widget-view+json": {
       "model_id": "a89566bdd24a4e72b4377bd853272135",
       "version_major": 2,
       "version_minor": 0
      },
      "text/plain": [
       "  0%|          | 0/40204 [00:00<?, ?it/s]"
      ]
     },
     "metadata": {},
     "output_type": "display_data"
    },
    {
     "name": "stdout",
     "output_type": "stream",
     "text": [
      "Missing 0 SNPs of 40204\n"
     ]
    }
   ],
   "source": [
    "missing = 0\n",
    "\n",
    "for probeset_id in tqdm(probeset_ids, total=len(probeset_ids)):\n",
    "    query = {\n",
    "        \"probesets__match\": {\n",
    "            'chip_name': inia_20210409.chip_name,\n",
    "            'probeset_id': probeset_id\n",
    "        }\n",
    "    }\n",
    "    \n",
    "    if not VariantSheep.objects(**query):\n",
    "        missing += 1\n",
    "        \n",
    "print(f\"Missing {missing} SNPs of {len(probeset_ids)}\")"
   ]
  },
  {
   "cell_type": "markdown",
   "id": "e914ca11-6935-468a-9df1-ff2696e77481",
   "metadata": {},
   "source": [
    "I have all the SNPs in my database. Check for sample names:"
   ]
  },
  {
   "cell_type": "code",
   "execution_count": 7,
   "id": "3d3ae1cc-355f-48d2-9249-14d047768981",
   "metadata": {},
   "outputs": [
    {
     "name": "stdout",
     "output_type": "stream",
     "text": [
      "81 reported in file\n",
      "dataset has 46 samples\n",
      "I could find only 38 samples in report file\n",
      "Missing 8 samples in reportfile\n"
     ]
    }
   ],
   "source": [
    "record = next(read_affymetrixRow(path))\n",
    "print(f\"{record.n_samples} reported in file\")\n",
    "print(f\"dataset has {inia_20210409.n_of_individuals} samples\")\n",
    "samples = list(filter(lambda name: 'cel_call_code' in name, get_header(path)))\n",
    "print(f\"I could find only {len(samples)} samples in report file\")\n",
    "print(f\"Missing {inia_20210409.n_of_individuals - len(samples)} samples in reportfile\")"
   ]
  },
  {
   "cell_type": "markdown",
   "id": "f4a08ff3-7888-481e-aad0-be708185fa3f",
   "metadata": {},
   "source": [
    "Well, even if the report tells that there are `81` samples, dataset has `46` samples and I could find only `38` samples in file. Try to force reading report with custom number of samples:"
   ]
  },
  {
   "cell_type": "code",
   "execution_count": 8,
   "id": "d4e405eb-f001-4e8c-8445-cb4f145f3998",
   "metadata": {},
   "outputs": [],
   "source": [
    "report = AffyReportIO(report=path)\n",
    "report.read_reportfile(n_samples=len(samples))"
   ]
  },
  {
   "cell_type": "markdown",
   "id": "37ea3ffd-1725-4cf6-bc84-375818fa2e6b",
   "metadata": {},
   "source": [
    "Ok, try to get metadata and understand which samples I miss"
   ]
  },
  {
   "cell_type": "code",
   "execution_count": 9,
   "id": "56091df4-3b26-4f57-9611-f4348b8589e7",
   "metadata": {},
   "outputs": [
    {
     "data": {
      "text/plain": [
       "['20210409_Genexa.xlsx',\n",
       " '20210824_Genexa.xlsx',\n",
       " '20211110_Genexa.xlsx',\n",
       " '20220301_Genexa.xlsx',\n",
       " '20220323_Genexa.xlsx',\n",
       " '20220810_Genexa.xlsx']"
      ]
     },
     "execution_count": 9,
     "metadata": {},
     "output_type": "execute_result"
    }
   ],
   "source": [
    "metadata_dataset = Dataset.objects.get(file=\"INIA_other_WPs_metadata.zip\")\n",
    "metadata_dataset.contents"
   ]
  },
  {
   "cell_type": "code",
   "execution_count": 10,
   "id": "82f1069b-a6e5-4a2d-92f9-ad3b176a1a87",
   "metadata": {},
   "outputs": [
    {
     "name": "stdout",
     "output_type": "stream",
     "text": [
      "<class 'pandas.core.frame.DataFrame'>\n",
      "RangeIndex: 46 entries, 0 to 45\n",
      "Data columns (total 7 columns):\n",
      " #   Column           Non-Null Count  Dtype \n",
      "---  ------           --------------  ----- \n",
      " 0   N                46 non-null     int64 \n",
      " 1   ID               46 non-null     int64 \n",
      " 2   Breed            46 non-null     object\n",
      " 3   Sex              46 non-null     object\n",
      " 4   Stall            46 non-null     object\n",
      " 5   GPS_Coordinates  46 non-null     object\n",
      " 6   GPS_2            46 non-null     object\n",
      "dtypes: int64(2), object(5)\n",
      "memory usage: 2.6+ KB\n"
     ]
    }
   ],
   "source": [
    "metadata_path = metadata_dataset.working_dir / \"20210409_Genexa.xlsx\"\n",
    "with open(metadata_path, \"rb\") as handle:\n",
    "    inia_20210409_metadata = pd.read_excel(handle)\n",
    "inia_20210409_metadata.info()"
   ]
  },
  {
   "cell_type": "code",
   "execution_count": 11,
   "id": "c29e37cb-7bac-4225-b5ac-4492ba5a6b11",
   "metadata": {},
   "outputs": [],
   "source": [
    "ids = [str(id_) for id_ in inia_20210409_metadata[\"ID\"].tolist()]"
   ]
  },
  {
   "cell_type": "markdown",
   "id": "095c47bc-5f11-4b99-92ea-f045cad66622",
   "metadata": {},
   "source": [
    "And even samples names are different. I need to match the *file id* with the *lab id*:"
   ]
  },
  {
   "cell_type": "code",
   "execution_count": 12,
   "id": "ef8595d9-f7df-4f85-8bdd-6e63bc5c6edb",
   "metadata": {},
   "outputs": [],
   "source": [
    "name2id = collections.defaultdict(lambda: None)\n",
    "\n",
    "for id_ in ids:\n",
    "    for col in samples:\n",
    "        if id_ in col:\n",
    "            name2id[id_] = col"
   ]
  },
  {
   "cell_type": "markdown",
   "id": "2e3561a5-15e5-4611-8142-c91c22b36e86",
   "metadata": {},
   "source": [
    "Next, I need to track this column in my datatable:"
   ]
  },
  {
   "cell_type": "code",
   "execution_count": 13,
   "id": "40b05064-dce3-4e52-a7f2-d967429ae92b",
   "metadata": {},
   "outputs": [],
   "source": [
    "inia_20210409_metadata[\"alias\"] = inia_20210409_metadata[\"ID\"].apply(lambda id_: name2id[str(id_)])"
   ]
  },
  {
   "cell_type": "markdown",
   "id": "c3390add-1be5-4a6a-afbe-78e70f094fcb",
   "metadata": {},
   "source": [
    "Now try to get rows with missing alias:"
   ]
  },
  {
   "cell_type": "code",
   "execution_count": 14,
   "id": "be723c50-7136-47ec-a3b0-36e7ed441840",
   "metadata": {},
   "outputs": [
    {
     "data": {
      "text/html": [
       "<div>\n",
       "<style scoped>\n",
       "    .dataframe tbody tr th:only-of-type {\n",
       "        vertical-align: middle;\n",
       "    }\n",
       "\n",
       "    .dataframe tbody tr th {\n",
       "        vertical-align: top;\n",
       "    }\n",
       "\n",
       "    .dataframe thead th {\n",
       "        text-align: right;\n",
       "    }\n",
       "</style>\n",
       "<table border=\"1\" class=\"dataframe\">\n",
       "  <thead>\n",
       "    <tr style=\"text-align: right;\">\n",
       "      <th></th>\n",
       "      <th>N</th>\n",
       "      <th>ID</th>\n",
       "      <th>Breed</th>\n",
       "      <th>Sex</th>\n",
       "      <th>Stall</th>\n",
       "      <th>alias</th>\n",
       "    </tr>\n",
       "  </thead>\n",
       "  <tbody>\n",
       "    <tr>\n",
       "      <th>1</th>\n",
       "      <td>9</td>\n",
       "      <td>20210409009</td>\n",
       "      <td>Texel</td>\n",
       "      <td>Male</td>\n",
       "      <td>INIA Las Brujas</td>\n",
       "      <td>None</td>\n",
       "    </tr>\n",
       "    <tr>\n",
       "      <th>2</th>\n",
       "      <td>10</td>\n",
       "      <td>20210409010</td>\n",
       "      <td>Texel</td>\n",
       "      <td>Male</td>\n",
       "      <td>INIA Las Brujas</td>\n",
       "      <td>None</td>\n",
       "    </tr>\n",
       "    <tr>\n",
       "      <th>14</th>\n",
       "      <td>65</td>\n",
       "      <td>20210409065</td>\n",
       "      <td>Texel</td>\n",
       "      <td>Male</td>\n",
       "      <td>INIA Las Brujas</td>\n",
       "      <td>None</td>\n",
       "    </tr>\n",
       "    <tr>\n",
       "      <th>22</th>\n",
       "      <td>73</td>\n",
       "      <td>20210409073</td>\n",
       "      <td>Texel</td>\n",
       "      <td>Male</td>\n",
       "      <td>INIA Las Brujas</td>\n",
       "      <td>None</td>\n",
       "    </tr>\n",
       "    <tr>\n",
       "      <th>23</th>\n",
       "      <td>74</td>\n",
       "      <td>20210409074</td>\n",
       "      <td>Texel</td>\n",
       "      <td>Male</td>\n",
       "      <td>INIA Las Brujas</td>\n",
       "      <td>None</td>\n",
       "    </tr>\n",
       "    <tr>\n",
       "      <th>30</th>\n",
       "      <td>81</td>\n",
       "      <td>20210409081</td>\n",
       "      <td>Texel</td>\n",
       "      <td>Female</td>\n",
       "      <td>INIA Las Brujas</td>\n",
       "      <td>None</td>\n",
       "    </tr>\n",
       "    <tr>\n",
       "      <th>38</th>\n",
       "      <td>89</td>\n",
       "      <td>20210409089</td>\n",
       "      <td>Texel</td>\n",
       "      <td>Male</td>\n",
       "      <td>INIA Las Brujas</td>\n",
       "      <td>None</td>\n",
       "    </tr>\n",
       "    <tr>\n",
       "      <th>39</th>\n",
       "      <td>90</td>\n",
       "      <td>20210409090</td>\n",
       "      <td>Texel</td>\n",
       "      <td>Female</td>\n",
       "      <td>INIA Las Brujas</td>\n",
       "      <td>None</td>\n",
       "    </tr>\n",
       "  </tbody>\n",
       "</table>\n",
       "</div>"
      ],
      "text/plain": [
       "     N           ID  Breed     Sex            Stall alias\n",
       "1    9  20210409009  Texel    Male  INIA Las Brujas  None\n",
       "2   10  20210409010  Texel    Male  INIA Las Brujas  None\n",
       "14  65  20210409065  Texel    Male  INIA Las Brujas  None\n",
       "22  73  20210409073  Texel    Male  INIA Las Brujas  None\n",
       "23  74  20210409074  Texel    Male  INIA Las Brujas  None\n",
       "30  81  20210409081  Texel  Female  INIA Las Brujas  None\n",
       "38  89  20210409089  Texel    Male  INIA Las Brujas  None\n",
       "39  90  20210409090  Texel  Female  INIA Las Brujas  None"
      ]
     },
     "execution_count": 14,
     "metadata": {},
     "output_type": "execute_result"
    }
   ],
   "source": [
    "inia_20210409_metadata[inia_20210409_metadata[\"alias\"].isnull()].drop([\"GPS_2\", \"GPS_Coordinates\"], axis=1)"
   ]
  },
  {
   "cell_type": "markdown",
   "id": "129cc6d4-a92b-4eb5-bb23-633311d3a718",
   "metadata": {},
   "source": [
    "Ok there are some missing samples. Try to split coordinate columns in order to be imported into database:"
   ]
  },
  {
   "cell_type": "code",
   "execution_count": 15,
   "id": "b241c31e-9ef5-42c8-ba75-c367ff599ca1",
   "metadata": {},
   "outputs": [],
   "source": [
    "inia_20210409_metadata[\"latitude\"] = inia_20210409_metadata[\"GPS_Coordinates\"].apply(lambda string: float(string.split(\",\")[0].strip()))\n",
    "inia_20210409_metadata[\"longitude\"] = inia_20210409_metadata[\"GPS_Coordinates\"].apply(lambda string: float(string.split(\",\")[1].strip()))"
   ]
  },
  {
   "cell_type": "markdown",
   "id": "8068b156-c7fa-4c9c-9a5a-3f3cb1893256",
   "metadata": {},
   "source": [
    "Ok, write them into a file:"
   ]
  },
  {
   "cell_type": "code",
   "execution_count": 16,
   "id": "a3751bbd-c2f3-480d-bd33-8b16991f1f17",
   "metadata": {},
   "outputs": [],
   "source": [
    "inia_20210409_metadata.to_excel(\"20210409_Genexa_fix.xlsx\", index=False)"
   ]
  },
  {
   "cell_type": "markdown",
   "id": "f55f2df6-98f7-4f65-b1d3-de6bc57f19af",
   "metadata": {},
   "source": [
    "<a id='20211110'></a>\n",
    "## OP635-818 genotyping_soloTexel_20211110_SMARTER\n",
    "Now it's time to process `OP635-818 genotyping_soloTexel_20211110_SMARTER.zip`"
   ]
  },
  {
   "cell_type": "code",
   "execution_count": 17,
   "id": "8e8e40a3-c046-4384-a26d-b8004aa652aa",
   "metadata": {},
   "outputs": [],
   "source": [
    "inia_20211110 = Dataset.objects.get(file=\"OP635-818 genotyping_soloTexel_20211110_SMARTER.zip\")"
   ]
  },
  {
   "cell_type": "markdown",
   "id": "f353142d-3d6c-484b-bab6-b86fbd606689",
   "metadata": {},
   "source": [
    "There's only one file in dataset, the file with the data:"
   ]
  },
  {
   "cell_type": "code",
   "execution_count": 18,
   "id": "be3ce613-bedf-4cf3-94ee-131e194e9262",
   "metadata": {},
   "outputs": [],
   "source": [
    "path = inia_20211110.working_dir / inia_20211110.contents[0]\n",
    "probeset_ids = [record.probeset_id for record in read_affymetrixRow(path)]"
   ]
  },
  {
   "cell_type": "markdown",
   "id": "2867d14f-920c-4268-a54f-41a77918759b",
   "metadata": {},
   "source": [
    "Check if those probeset ids are in database:"
   ]
  },
  {
   "cell_type": "code",
   "execution_count": 19,
   "id": "25d84c0a-3f27-493b-999b-ca765922e754",
   "metadata": {},
   "outputs": [
    {
     "data": {
      "application/vnd.jupyter.widget-view+json": {
       "model_id": "d50de0a4690a49b8b585d0e07ef49fb1",
       "version_major": 2,
       "version_minor": 0
      },
      "text/plain": [
       "  0%|          | 0/56254 [00:00<?, ?it/s]"
      ]
     },
     "metadata": {},
     "output_type": "display_data"
    },
    {
     "name": "stdout",
     "output_type": "stream",
     "text": [
      "Missing 5 SNPs of 56254\n"
     ]
    }
   ],
   "source": [
    "missing = 0\n",
    "\n",
    "for probeset_id in tqdm(probeset_ids, total=len(probeset_ids)):\n",
    "    query = {\n",
    "        \"probesets__match\": {\n",
    "            'chip_name': inia_20211110.chip_name,\n",
    "            'probeset_id': probeset_id\n",
    "        }\n",
    "    }\n",
    "    \n",
    "    if not VariantSheep.objects(**query):\n",
    "        missing += 1\n",
    "        \n",
    "print(f\"Missing {missing} SNPs of {len(probeset_ids)}\")"
   ]
  },
  {
   "cell_type": "markdown",
   "id": "feddf145-2ec8-4962-92e6-f200ec1cbdd0",
   "metadata": {},
   "source": [
    "Well, I have allmost all SNPs in database. Check for sample names:"
   ]
  },
  {
   "cell_type": "code",
   "execution_count": 20,
   "id": "4f2000c2-b80a-49f0-8a23-e392eff605df",
   "metadata": {},
   "outputs": [
    {
     "name": "stdout",
     "output_type": "stream",
     "text": [
      "191 reported in file\n",
      "dataset has 59 samples\n",
      "I could find only 59 samples in report file\n",
      "Missing 0 samples in reportfile\n"
     ]
    }
   ],
   "source": [
    "record = next(read_affymetrixRow(path))\n",
    "print(f\"{record.n_samples} reported in file\")\n",
    "print(f\"dataset has {inia_20211110.n_of_individuals} samples\")\n",
    "samples = list(filter(lambda name: 'cel_call_code' in name.lower(), get_header(path)))\n",
    "print(f\"I could find only {len(samples)} samples in report file\")\n",
    "print(f\"Missing {inia_20211110.n_of_individuals - len(samples)} samples in reportfile\")"
   ]
  },
  {
   "cell_type": "markdown",
   "id": "54dd3405-d332-4119-be5c-7867eb9de0b3",
   "metadata": {},
   "source": [
    "This time I have all 59 samples defined in dataset"
   ]
  },
  {
   "cell_type": "code",
   "execution_count": 21,
   "id": "07e79cd1-4122-4c0e-82c5-bc6c5a57ad96",
   "metadata": {},
   "outputs": [],
   "source": [
    "report = AffyReportIO(report=path)\n",
    "report.read_reportfile(n_samples=len(samples))"
   ]
  },
  {
   "cell_type": "markdown",
   "id": "adf4045a-c528-46f0-8ef1-d262dc7eebff",
   "metadata": {},
   "source": [
    "Ok, try to get metadata and understand which samples I miss"
   ]
  },
  {
   "cell_type": "code",
   "execution_count": 22,
   "id": "fba37213-3c40-4b8e-beef-f6fac06195fe",
   "metadata": {},
   "outputs": [
    {
     "name": "stdout",
     "output_type": "stream",
     "text": [
      "<class 'pandas.core.frame.DataFrame'>\n",
      "RangeIndex: 59 entries, 0 to 58\n",
      "Data columns (total 7 columns):\n",
      " #   Column           Non-Null Count  Dtype \n",
      "---  ------           --------------  ----- \n",
      " 0   N                59 non-null     int64 \n",
      " 1   ID               59 non-null     int64 \n",
      " 2   Breed            59 non-null     object\n",
      " 3   Sex              59 non-null     object\n",
      " 4   Stall            59 non-null     object\n",
      " 5   GPS_Coordinates  59 non-null     object\n",
      " 6   GPS_2            59 non-null     object\n",
      "dtypes: int64(2), object(5)\n",
      "memory usage: 3.4+ KB\n"
     ]
    }
   ],
   "source": [
    "metadata_path = metadata_dataset.working_dir / \"20211110_Genexa.xlsx\"\n",
    "with open(metadata_path, \"rb\") as handle:\n",
    "    inia_20211110_metadata = pd.read_excel(handle)\n",
    "inia_20211110_metadata.info()"
   ]
  },
  {
   "cell_type": "code",
   "execution_count": 23,
   "id": "0f7e7f9e-132f-4771-bcbc-290bd8c3d3f1",
   "metadata": {},
   "outputs": [],
   "source": [
    "ids = [str(id_) for id_ in inia_20211110_metadata[\"ID\"].tolist()]"
   ]
  },
  {
   "cell_type": "markdown",
   "id": "1cf325a8-f5a6-401c-b5d7-d84111df0874",
   "metadata": {},
   "source": [
    "And even samples names are different. I need to match the *file id* with the *lab id*:"
   ]
  },
  {
   "cell_type": "code",
   "execution_count": 24,
   "id": "f0cc91b9-bbd7-4421-8364-a26907f67f7e",
   "metadata": {},
   "outputs": [],
   "source": [
    "name2id = collections.defaultdict(lambda: None)\n",
    "\n",
    "for id_ in ids:\n",
    "    for col in samples:\n",
    "        if id_ in col:\n",
    "            name2id[id_] = col"
   ]
  },
  {
   "cell_type": "markdown",
   "id": "242dc2ec-a389-4d0f-a08d-e291de4348c7",
   "metadata": {},
   "source": [
    "Next, I need to track this column in my datatable:"
   ]
  },
  {
   "cell_type": "code",
   "execution_count": 25,
   "id": "bfddf26c-e308-45d0-b995-95c289ed14da",
   "metadata": {},
   "outputs": [],
   "source": [
    "inia_20211110_metadata[\"alias\"] = inia_20211110_metadata[\"ID\"].apply(lambda id_: name2id[str(id_)])"
   ]
  },
  {
   "cell_type": "markdown",
   "id": "23326f70-6c4d-4897-96fa-d6568a2178ab",
   "metadata": {},
   "source": [
    "Now try to get rows with missing alias (if any):"
   ]
  },
  {
   "cell_type": "code",
   "execution_count": 26,
   "id": "1cc1eef0-5873-4174-90bb-57b8046f6669",
   "metadata": {},
   "outputs": [
    {
     "data": {
      "text/html": [
       "<div>\n",
       "<style scoped>\n",
       "    .dataframe tbody tr th:only-of-type {\n",
       "        vertical-align: middle;\n",
       "    }\n",
       "\n",
       "    .dataframe tbody tr th {\n",
       "        vertical-align: top;\n",
       "    }\n",
       "\n",
       "    .dataframe thead th {\n",
       "        text-align: right;\n",
       "    }\n",
       "</style>\n",
       "<table border=\"1\" class=\"dataframe\">\n",
       "  <thead>\n",
       "    <tr style=\"text-align: right;\">\n",
       "      <th></th>\n",
       "      <th>N</th>\n",
       "      <th>ID</th>\n",
       "      <th>Breed</th>\n",
       "      <th>Sex</th>\n",
       "      <th>Stall</th>\n",
       "      <th>alias</th>\n",
       "    </tr>\n",
       "  </thead>\n",
       "  <tbody>\n",
       "  </tbody>\n",
       "</table>\n",
       "</div>"
      ],
      "text/plain": [
       "Empty DataFrame\n",
       "Columns: [N, ID, Breed, Sex, Stall, alias]\n",
       "Index: []"
      ]
     },
     "execution_count": 26,
     "metadata": {},
     "output_type": "execute_result"
    }
   ],
   "source": [
    "inia_20211110_metadata[inia_20211110_metadata[\"alias\"].isnull()].drop([\"GPS_2\", \"GPS_Coordinates\"], axis=1)"
   ]
  },
  {
   "cell_type": "markdown",
   "id": "b546a503-ed6f-46a3-9e71-0e65121dd85b",
   "metadata": {},
   "source": [
    "Well, I can find an entry for every sample in reportfile. Try to split coordinate columns in order to be imported into database:"
   ]
  },
  {
   "cell_type": "code",
   "execution_count": 27,
   "id": "46829439-5f82-4808-802a-618e729249a7",
   "metadata": {},
   "outputs": [],
   "source": [
    "inia_20211110_metadata[\"latitude\"] = inia_20211110_metadata[\"GPS_Coordinates\"].apply(lambda string: float(string.split(\",\")[0].strip()))\n",
    "inia_20211110_metadata[\"longitude\"] = inia_20211110_metadata[\"GPS_Coordinates\"].apply(lambda string: float(string.split(\",\")[1].strip()))"
   ]
  },
  {
   "cell_type": "markdown",
   "id": "9042e145-387c-49b2-b429-14bc39508b4f",
   "metadata": {},
   "source": [
    "Ok, write them into a file:"
   ]
  },
  {
   "cell_type": "code",
   "execution_count": 28,
   "id": "8e5278ca-435d-476f-8b72-5f3dfae8170f",
   "metadata": {},
   "outputs": [],
   "source": [
    "inia_20211110_metadata.to_excel(\"20211110_Genexa_fix.xlsx\", index=False)"
   ]
  },
  {
   "cell_type": "markdown",
   "id": "a2e8b1da-fe0a-40df-93bb-e546066dd088",
   "metadata": {},
   "source": [
    "<a id='20210824'></a>\n",
    "## Placas1_4_genotyping_Corr_Tex_20210824_SMARTER\n",
    "Now it's time to process `Placas1_4_genotyping_Corr_Tex_20210824_SMARTER.zip`"
   ]
  },
  {
   "cell_type": "code",
   "execution_count": 29,
   "id": "8a7246c8-6304-4a90-9be5-36bf53a37ea6",
   "metadata": {},
   "outputs": [],
   "source": [
    "inia_20210824 = Dataset.objects.get(file=\"Placas1_4_genotyping_Corr_Tex_20210824_SMARTER.zip\")"
   ]
  },
  {
   "cell_type": "markdown",
   "id": "078948bb-e2fa-4228-9cee-b24497992417",
   "metadata": {},
   "source": [
    "There's only one file in dataset, the file with the data:"
   ]
  },
  {
   "cell_type": "code",
   "execution_count": 30,
   "id": "fd37b4fe-c931-4db6-aa0a-4d17c506c5d6",
   "metadata": {},
   "outputs": [],
   "source": [
    "path = inia_20210824.working_dir / inia_20210824.contents[0]\n",
    "probeset_ids = [record.probeset_id for record in read_affymetrixRow(path)]"
   ]
  },
  {
   "cell_type": "markdown",
   "id": "4f756115-591f-4a27-bcc5-c36c7725880c",
   "metadata": {},
   "source": [
    "Check if those probeset ids are in database:"
   ]
  },
  {
   "cell_type": "code",
   "execution_count": 31,
   "id": "ae1c191e-0487-445f-bf77-cb09fe4cbe8c",
   "metadata": {},
   "outputs": [
    {
     "data": {
      "application/vnd.jupyter.widget-view+json": {
       "model_id": "5d8191763b934a62ac583d6671532583",
       "version_major": 2,
       "version_minor": 0
      },
      "text/plain": [
       "  0%|          | 0/46359 [00:00<?, ?it/s]"
      ]
     },
     "metadata": {},
     "output_type": "display_data"
    },
    {
     "name": "stdout",
     "output_type": "stream",
     "text": [
      "Missing 1 SNPs of 46359\n"
     ]
    }
   ],
   "source": [
    "missing = 0\n",
    "\n",
    "for probeset_id in tqdm(probeset_ids, total=len(probeset_ids)):\n",
    "    query = {\n",
    "        \"probesets__match\": {\n",
    "            'chip_name': inia_20210824.chip_name,\n",
    "            'probeset_id': probeset_id\n",
    "        }\n",
    "    }\n",
    "    \n",
    "    if not VariantSheep.objects(**query):\n",
    "        missing += 1\n",
    "        \n",
    "print(f\"Missing {missing} SNPs of {len(probeset_ids)}\")"
   ]
  },
  {
   "cell_type": "markdown",
   "id": "c8c0e797-c982-4bb1-bf26-2eb3097f2fde",
   "metadata": {},
   "source": [
    "Well, I have allmost all SNPs in database. Check for sample names:"
   ]
  },
  {
   "cell_type": "code",
   "execution_count": 32,
   "id": "c993c9d4-0083-42ae-8456-e7e971e45ce2",
   "metadata": {},
   "outputs": [
    {
     "name": "stdout",
     "output_type": "stream",
     "text": [
      "380 reported in file\n",
      "dataset has 336 samples\n",
      "I could find only 332 samples in report file\n",
      "Missing 4 samples in reportfile\n"
     ]
    }
   ],
   "source": [
    "record = next(read_affymetrixRow(path))\n",
    "print(f\"{record.n_samples} reported in file\")\n",
    "print(f\"dataset has {inia_20210824.n_of_individuals} samples\")\n",
    "samples = list(filter(lambda name: 'cel_call_code' in name.lower(), get_header(path)))\n",
    "print(f\"I could find only {len(samples)} samples in report file\")\n",
    "print(f\"Missing {inia_20210824.n_of_individuals - len(samples)} samples in reportfile\")"
   ]
  },
  {
   "cell_type": "markdown",
   "id": "bba220ec-f276-4a1d-b8cb-f5697a1cc4ce",
   "metadata": {},
   "source": [
    "This time miss 4 samples from dataset"
   ]
  },
  {
   "cell_type": "code",
   "execution_count": 33,
   "id": "c036c12d-6602-4ac1-83cb-511e5f46c598",
   "metadata": {},
   "outputs": [],
   "source": [
    "report = AffyReportIO(report=path)\n",
    "report.read_reportfile(n_samples=len(samples))"
   ]
  },
  {
   "cell_type": "markdown",
   "id": "030507f8-3c20-4e1e-96fe-d1df1520a9b8",
   "metadata": {},
   "source": [
    "Ok, try to get metadata and understand which samples I miss"
   ]
  },
  {
   "cell_type": "code",
   "execution_count": 34,
   "id": "7991a5d2-bd7e-447b-a2a6-812c45b18b52",
   "metadata": {},
   "outputs": [
    {
     "name": "stdout",
     "output_type": "stream",
     "text": [
      "<class 'pandas.core.frame.DataFrame'>\n",
      "RangeIndex: 336 entries, 0 to 335\n",
      "Data columns (total 7 columns):\n",
      " #   Column           Non-Null Count  Dtype \n",
      "---  ------           --------------  ----- \n",
      " 0   N                336 non-null    int64 \n",
      " 1   ID               336 non-null    int64 \n",
      " 2   Breed            336 non-null    object\n",
      " 3   Sex              336 non-null    object\n",
      " 4   Stall            336 non-null    object\n",
      " 5   GPS_Coordinates  336 non-null    object\n",
      " 6   GPS_2            336 non-null    object\n",
      "dtypes: int64(2), object(5)\n",
      "memory usage: 18.5+ KB\n"
     ]
    }
   ],
   "source": [
    "metadata_path = metadata_dataset.working_dir / \"20210824_Genexa.xlsx\"\n",
    "with open(metadata_path, \"rb\") as handle:\n",
    "    inia_20210824_metadata = pd.read_excel(handle)\n",
    "inia_20210824_metadata.info()"
   ]
  },
  {
   "cell_type": "code",
   "execution_count": 35,
   "id": "34ffb25b-e313-453b-89cb-8e98d08d95a8",
   "metadata": {},
   "outputs": [],
   "source": [
    "ids = [str(id_) for id_ in inia_20210824_metadata[\"ID\"].tolist()]"
   ]
  },
  {
   "cell_type": "markdown",
   "id": "5ab81c0d-1ce0-4f71-a7ff-a515c3f5495d",
   "metadata": {},
   "source": [
    "And even samples names are different. I need to match the *file id* with the *lab id*:"
   ]
  },
  {
   "cell_type": "code",
   "execution_count": 36,
   "id": "df68dc16-4751-4dcc-8936-f149bfd2c11d",
   "metadata": {},
   "outputs": [],
   "source": [
    "name2id = collections.defaultdict(lambda: None)\n",
    "\n",
    "for id_ in ids:\n",
    "    for col in samples:\n",
    "        if id_ in col:\n",
    "            name2id[id_] = col"
   ]
  },
  {
   "cell_type": "markdown",
   "id": "f87e7227-8a65-4d7a-a19d-f786ecbf67a5",
   "metadata": {},
   "source": [
    "Next, I need to track this column in my datatable:"
   ]
  },
  {
   "cell_type": "code",
   "execution_count": 37,
   "id": "f48ed7dd-e670-4aab-9aa9-86da6100d608",
   "metadata": {},
   "outputs": [],
   "source": [
    "inia_20210824_metadata[\"alias\"] = inia_20210824_metadata[\"ID\"].apply(lambda id_: name2id[str(id_)])"
   ]
  },
  {
   "cell_type": "markdown",
   "id": "13fa3aa4-f879-48a0-b306-99cb59cf0ec8",
   "metadata": {},
   "source": [
    "Now try to get rows with missing alias (if any):"
   ]
  },
  {
   "cell_type": "code",
   "execution_count": 38,
   "id": "1a3ad7f4-6d83-4f5d-ac46-8085564e321a",
   "metadata": {},
   "outputs": [
    {
     "data": {
      "text/html": [
       "<div>\n",
       "<style scoped>\n",
       "    .dataframe tbody tr th:only-of-type {\n",
       "        vertical-align: middle;\n",
       "    }\n",
       "\n",
       "    .dataframe tbody tr th {\n",
       "        vertical-align: top;\n",
       "    }\n",
       "\n",
       "    .dataframe thead th {\n",
       "        text-align: right;\n",
       "    }\n",
       "</style>\n",
       "<table border=\"1\" class=\"dataframe\">\n",
       "  <thead>\n",
       "    <tr style=\"text-align: right;\">\n",
       "      <th></th>\n",
       "      <th>N</th>\n",
       "      <th>ID</th>\n",
       "      <th>Breed</th>\n",
       "      <th>Sex</th>\n",
       "      <th>Stall</th>\n",
       "      <th>alias</th>\n",
       "    </tr>\n",
       "  </thead>\n",
       "  <tbody>\n",
       "    <tr>\n",
       "      <th>155</th>\n",
       "      <td>204</td>\n",
       "      <td>20210824204</td>\n",
       "      <td>Texel</td>\n",
       "      <td>Female</td>\n",
       "      <td>CCT - Tupambaé</td>\n",
       "      <td>None</td>\n",
       "    </tr>\n",
       "    <tr>\n",
       "      <th>168</th>\n",
       "      <td>217</td>\n",
       "      <td>20210824217</td>\n",
       "      <td>Texel</td>\n",
       "      <td>Female</td>\n",
       "      <td>CCT - Tupambaé</td>\n",
       "      <td>None</td>\n",
       "    </tr>\n",
       "    <tr>\n",
       "      <th>220</th>\n",
       "      <td>269</td>\n",
       "      <td>20210824269</td>\n",
       "      <td>Texel</td>\n",
       "      <td>Female</td>\n",
       "      <td>CCT - Tupambaé</td>\n",
       "      <td>None</td>\n",
       "    </tr>\n",
       "    <tr>\n",
       "      <th>224</th>\n",
       "      <td>273</td>\n",
       "      <td>20210824273</td>\n",
       "      <td>Texel</td>\n",
       "      <td>Male</td>\n",
       "      <td>CCT - Tupambaé</td>\n",
       "      <td>None</td>\n",
       "    </tr>\n",
       "  </tbody>\n",
       "</table>\n",
       "</div>"
      ],
      "text/plain": [
       "       N           ID  Breed     Sex           Stall alias\n",
       "155  204  20210824204  Texel  Female  CCT - Tupambaé  None\n",
       "168  217  20210824217  Texel  Female  CCT - Tupambaé  None\n",
       "220  269  20210824269  Texel  Female  CCT - Tupambaé  None\n",
       "224  273  20210824273  Texel    Male  CCT - Tupambaé  None"
      ]
     },
     "execution_count": 38,
     "metadata": {},
     "output_type": "execute_result"
    }
   ],
   "source": [
    "inia_20210824_metadata[inia_20210824_metadata[\"alias\"].isnull()].drop([\"GPS_2\", \"GPS_Coordinates\"], axis=1)"
   ]
  },
  {
   "cell_type": "markdown",
   "id": "54ecfdff-ea13-4f6d-be46-8b833fa865e7",
   "metadata": {},
   "source": [
    "Here are the sample I miss. Try to split coordinate columns in order to be imported into database:"
   ]
  },
  {
   "cell_type": "code",
   "execution_count": 39,
   "id": "e7f973aa-993a-43cb-aabe-4bbb34036e5c",
   "metadata": {},
   "outputs": [],
   "source": [
    "inia_20210824_metadata[\"latitude\"] = inia_20210824_metadata[\"GPS_Coordinates\"].apply(lambda string: float(string.split(\",\")[0].strip()))\n",
    "inia_20210824_metadata[\"longitude\"] = inia_20210824_metadata[\"GPS_Coordinates\"].apply(lambda string: float(string.split(\",\")[1].strip()))"
   ]
  },
  {
   "cell_type": "markdown",
   "id": "d50ec7fd-c24f-41fd-aff7-f16182a2f998",
   "metadata": {},
   "source": [
    "Ok, write them into a file:"
   ]
  },
  {
   "cell_type": "code",
   "execution_count": 40,
   "id": "bf25ef5e-f0b0-4615-a2eb-f13428a500c3",
   "metadata": {},
   "outputs": [],
   "source": [
    "inia_20210824_metadata.to_excel(\"20210824_Genexa_fix.xlsx\", index=False)"
   ]
  },
  {
   "cell_type": "markdown",
   "id": "9b7d99bf-f402-429a-825a-7011feb8eaf3",
   "metadata": {},
   "source": [
    "<a id='20220301'></a>\n",
    "## OP829-924 INIA Abril_20220301_Texel_SMARTER\n",
    "Now it's time to process `OP829-924 INIA Abril_20220301_Texel_SMARTER.zip`"
   ]
  },
  {
   "cell_type": "code",
   "execution_count": 41,
   "id": "fc3975be-56a4-47f7-a594-1eca9644f23a",
   "metadata": {},
   "outputs": [],
   "source": [
    "inia_20220301 = Dataset.objects.get(file=\"OP829-924 INIA Abril_20220301_Texel_SMARTER.zip\")"
   ]
  },
  {
   "cell_type": "markdown",
   "id": "e8a63f5b-8519-4ec9-b7a1-18612208fca7",
   "metadata": {},
   "source": [
    "There's only one file in dataset, the file with the data:"
   ]
  },
  {
   "cell_type": "code",
   "execution_count": 42,
   "id": "392d1251-6862-4ae7-a774-eca807c10d1f",
   "metadata": {},
   "outputs": [],
   "source": [
    "path = inia_20220301.working_dir / inia_20220301.contents[0]\n",
    "probeset_ids = [record.probeset_id for record in read_affymetrixRow(path)]"
   ]
  },
  {
   "cell_type": "markdown",
   "id": "7e9fc8f2-5925-4ebb-bbe2-8f0d446b0d15",
   "metadata": {},
   "source": [
    "Check if those probeset ids are in database:"
   ]
  },
  {
   "cell_type": "code",
   "execution_count": 43,
   "id": "aa585aaa-7745-4d4e-b7f6-c0d95a9d4b9d",
   "metadata": {},
   "outputs": [
    {
     "data": {
      "application/vnd.jupyter.widget-view+json": {
       "model_id": "b186d7b177a34ed4952466ec2338bac4",
       "version_major": 2,
       "version_minor": 0
      },
      "text/plain": [
       "  0%|          | 0/34327 [00:00<?, ?it/s]"
      ]
     },
     "metadata": {},
     "output_type": "display_data"
    },
    {
     "name": "stdout",
     "output_type": "stream",
     "text": [
      "Missing 0 SNPs of 34327\n"
     ]
    }
   ],
   "source": [
    "missing = 0\n",
    "\n",
    "for probeset_id in tqdm(probeset_ids, total=len(probeset_ids)):\n",
    "    query = {\n",
    "        \"probesets__match\": {\n",
    "            'chip_name': inia_20220301.chip_name,\n",
    "            'probeset_id': probeset_id\n",
    "        }\n",
    "    }\n",
    "    \n",
    "    if not VariantSheep.objects(**query):\n",
    "        missing += 1\n",
    "        \n",
    "print(f\"Missing {missing} SNPs of {len(probeset_ids)}\")"
   ]
  },
  {
   "cell_type": "markdown",
   "id": "fe8bab4c-8cfe-4563-9572-0f71ee078a25",
   "metadata": {},
   "source": [
    "Well, I have allmost all SNPs in database. Check for sample names:"
   ]
  },
  {
   "cell_type": "code",
   "execution_count": 44,
   "id": "16e3fb0d-c633-49dc-a88f-cf05dda69e12",
   "metadata": {},
   "outputs": [
    {
     "name": "stdout",
     "output_type": "stream",
     "text": [
      "96 reported in file\n",
      "dataset has 43 samples\n",
      "I could find only 43 samples in report file\n",
      "Missing 0 samples in reportfile\n"
     ]
    }
   ],
   "source": [
    "record = next(read_affymetrixRow(path))\n",
    "print(f\"{record.n_samples} reported in file\")\n",
    "print(f\"dataset has {inia_20220301.n_of_individuals} samples\")\n",
    "samples = list(filter(lambda name: 'cel_call_code' in name.lower(), get_header(path)))\n",
    "print(f\"I could find only {len(samples)} samples in report file\")\n",
    "print(f\"Missing {inia_20220301.n_of_individuals - len(samples)} samples in reportfile\")"
   ]
  },
  {
   "cell_type": "markdown",
   "id": "5f106213-942f-4a6d-9ff5-4841612a5004",
   "metadata": {},
   "source": [
    "This time all samples are in dataset"
   ]
  },
  {
   "cell_type": "code",
   "execution_count": 45,
   "id": "f6de33f0-76a8-431c-8adb-de00923626de",
   "metadata": {},
   "outputs": [],
   "source": [
    "report = AffyReportIO(report=path)\n",
    "report.read_reportfile(n_samples=len(samples))"
   ]
  },
  {
   "cell_type": "markdown",
   "id": "612840b0-05b8-4072-a584-d69a94ba01ca",
   "metadata": {},
   "source": [
    "Ok, try to get metadata and understand which samples I miss"
   ]
  },
  {
   "cell_type": "code",
   "execution_count": 46,
   "id": "c9d2b433-dcc9-4802-a654-7f277dcfeb33",
   "metadata": {},
   "outputs": [
    {
     "name": "stdout",
     "output_type": "stream",
     "text": [
      "<class 'pandas.core.frame.DataFrame'>\n",
      "RangeIndex: 43 entries, 0 to 42\n",
      "Data columns (total 7 columns):\n",
      " #   Column           Non-Null Count  Dtype \n",
      "---  ------           --------------  ----- \n",
      " 0   N                43 non-null     int64 \n",
      " 1   ID               43 non-null     int64 \n",
      " 2   Breed            43 non-null     object\n",
      " 3   Sex              43 non-null     object\n",
      " 4   Stall            43 non-null     object\n",
      " 5   GPS_Coordinates  43 non-null     object\n",
      " 6   GPS_2            43 non-null     object\n",
      "dtypes: int64(2), object(5)\n",
      "memory usage: 2.5+ KB\n"
     ]
    }
   ],
   "source": [
    "metadata_path = metadata_dataset.working_dir / \"20220301_Genexa.xlsx\"\n",
    "with open(metadata_path, \"rb\") as handle:\n",
    "    inia_20220301_metadata = pd.read_excel(handle)\n",
    "inia_20220301_metadata.info()"
   ]
  },
  {
   "cell_type": "code",
   "execution_count": 47,
   "id": "79a5767f-d680-4896-a55f-f62ea132d1b5",
   "metadata": {},
   "outputs": [],
   "source": [
    "ids = [str(id_) for id_ in inia_20220301_metadata[\"ID\"].tolist()]"
   ]
  },
  {
   "cell_type": "markdown",
   "id": "72127ea8-aa1f-4364-bf43-02b3b67bb429",
   "metadata": {},
   "source": [
    "And even samples names are different. I need to match the *file id* with the *lab id*:"
   ]
  },
  {
   "cell_type": "code",
   "execution_count": 48,
   "id": "3edcb951-33c6-4db3-8ca6-fad6e18d377e",
   "metadata": {},
   "outputs": [],
   "source": [
    "name2id = collections.defaultdict(lambda: None)\n",
    "\n",
    "for id_ in ids:\n",
    "    for col in samples:\n",
    "        if id_ in col:\n",
    "            name2id[id_] = col"
   ]
  },
  {
   "cell_type": "markdown",
   "id": "b9d3afe8-91ad-417f-b7db-0c15e30628e1",
   "metadata": {},
   "source": [
    "Next, I need to track this column in my datatable:"
   ]
  },
  {
   "cell_type": "code",
   "execution_count": 49,
   "id": "866eeac4-fd6c-4213-b46d-78212cec48b9",
   "metadata": {},
   "outputs": [],
   "source": [
    "inia_20220301_metadata[\"alias\"] = inia_20220301_metadata[\"ID\"].apply(lambda id_: name2id[str(id_)])"
   ]
  },
  {
   "cell_type": "markdown",
   "id": "1d58c1fc-6ee9-4807-8ca0-89f88bf8a866",
   "metadata": {},
   "source": [
    "Now try to get rows with missing alias (if any):"
   ]
  },
  {
   "cell_type": "code",
   "execution_count": 50,
   "id": "8eb8d84b-a60e-4c27-9de3-94332a9f37e1",
   "metadata": {},
   "outputs": [
    {
     "data": {
      "text/html": [
       "<div>\n",
       "<style scoped>\n",
       "    .dataframe tbody tr th:only-of-type {\n",
       "        vertical-align: middle;\n",
       "    }\n",
       "\n",
       "    .dataframe tbody tr th {\n",
       "        vertical-align: top;\n",
       "    }\n",
       "\n",
       "    .dataframe thead th {\n",
       "        text-align: right;\n",
       "    }\n",
       "</style>\n",
       "<table border=\"1\" class=\"dataframe\">\n",
       "  <thead>\n",
       "    <tr style=\"text-align: right;\">\n",
       "      <th></th>\n",
       "      <th>N</th>\n",
       "      <th>ID</th>\n",
       "      <th>Breed</th>\n",
       "      <th>Sex</th>\n",
       "      <th>Stall</th>\n",
       "      <th>alias</th>\n",
       "    </tr>\n",
       "  </thead>\n",
       "  <tbody>\n",
       "  </tbody>\n",
       "</table>\n",
       "</div>"
      ],
      "text/plain": [
       "Empty DataFrame\n",
       "Columns: [N, ID, Breed, Sex, Stall, alias]\n",
       "Index: []"
      ]
     },
     "execution_count": 50,
     "metadata": {},
     "output_type": "execute_result"
    }
   ],
   "source": [
    "inia_20220301_metadata[inia_20220301_metadata[\"alias\"].isnull()].drop([\"GPS_2\", \"GPS_Coordinates\"], axis=1)"
   ]
  },
  {
   "cell_type": "markdown",
   "id": "b7d6bf9d-56cc-46c8-bfcb-0aa4aca45cfb",
   "metadata": {},
   "source": [
    "All samples have a match with metadata. Try to split coordinate columns in order to be imported into database:"
   ]
  },
  {
   "cell_type": "code",
   "execution_count": 51,
   "id": "1b927f4d-158e-494f-a848-3463e84008a3",
   "metadata": {},
   "outputs": [],
   "source": [
    "inia_20220301_metadata[\"latitude\"] = inia_20220301_metadata[\"GPS_Coordinates\"].apply(lambda string: float(string.split(\",\")[0].strip()))\n",
    "inia_20220301_metadata[\"longitude\"] = inia_20220301_metadata[\"GPS_Coordinates\"].apply(lambda string: float(string.split(\",\")[1].strip()))"
   ]
  },
  {
   "cell_type": "markdown",
   "id": "464d0361-259f-4cc8-bcfa-110a8fd32dd3",
   "metadata": {},
   "source": [
    "Ok, write them into a file:"
   ]
  },
  {
   "cell_type": "code",
   "execution_count": 52,
   "id": "02081207-9505-40fc-87db-557bc361c13d",
   "metadata": {},
   "outputs": [],
   "source": [
    "inia_20220301_metadata.to_excel(\"20220301_Genexa_fix.xlsx\", index=False)"
   ]
  },
  {
   "cell_type": "markdown",
   "id": "7f4b981b-2abd-4325-8166-39a74dcb50e6",
   "metadata": {},
   "source": [
    "<a id='20220323'></a>\n",
    "## OP925-969 1046-1085 1010-1020_20220323_texel_SMARTER\n",
    "Now it's time to process `OP925-969 1046-1085 1010-1020_20220323_texel_SMARTER.zip`"
   ]
  },
  {
   "cell_type": "code",
   "execution_count": 53,
   "id": "ca498d5e-ca44-46df-80f8-b59d2fc7a04d",
   "metadata": {},
   "outputs": [],
   "source": [
    "inia_20220323 = Dataset.objects.get(file=\"OP925-969 1046-1085 1010-1020_20220323_texel_SMARTER.zip\")"
   ]
  },
  {
   "cell_type": "markdown",
   "id": "c5ecd9dc-4de3-4e1e-b476-883fb64e2e8c",
   "metadata": {},
   "source": [
    "There's only one file in dataset, the file with the data:"
   ]
  },
  {
   "cell_type": "code",
   "execution_count": 54,
   "id": "7b4280e4-dcff-4c89-b25d-8c3819426ec0",
   "metadata": {},
   "outputs": [],
   "source": [
    "path = inia_20220323.working_dir / inia_20220323.contents[0]\n",
    "probeset_ids = [record.probeset_id for record in read_affymetrixRow(path)]"
   ]
  },
  {
   "cell_type": "markdown",
   "id": "3900e28e-7631-4ac1-98cc-f6f9253305fc",
   "metadata": {},
   "source": [
    "Check if those probeset ids are in database:"
   ]
  },
  {
   "cell_type": "code",
   "execution_count": 55,
   "id": "0ab494b0-5acf-481b-92d3-dbf1bf54a33b",
   "metadata": {},
   "outputs": [
    {
     "data": {
      "application/vnd.jupyter.widget-view+json": {
       "model_id": "ac93296214ee41fcaabd82d60a180085",
       "version_major": 2,
       "version_minor": 0
      },
      "text/plain": [
       "  0%|          | 0/56254 [00:00<?, ?it/s]"
      ]
     },
     "metadata": {},
     "output_type": "display_data"
    },
    {
     "name": "stdout",
     "output_type": "stream",
     "text": [
      "Missing 5 SNPs of 56254\n"
     ]
    }
   ],
   "source": [
    "missing = 0\n",
    "\n",
    "for probeset_id in tqdm(probeset_ids, total=len(probeset_ids)):\n",
    "    query = {\n",
    "        \"probesets__match\": {\n",
    "            'chip_name': inia_20220323.chip_name,\n",
    "            'probeset_id': probeset_id\n",
    "        }\n",
    "    }\n",
    "    \n",
    "    if not VariantSheep.objects(**query):\n",
    "        missing += 1\n",
    "        \n",
    "print(f\"Missing {missing} SNPs of {len(probeset_ids)}\")"
   ]
  },
  {
   "cell_type": "markdown",
   "id": "c6e03ef9-25b3-4e02-bdd8-21095b498cdf",
   "metadata": {},
   "source": [
    "Well, I have allmost all SNPs in database. Check for sample names:"
   ]
  },
  {
   "cell_type": "code",
   "execution_count": 56,
   "id": "dfec13d4-6bd6-49a6-9c3e-e12c9ad1fb05",
   "metadata": {},
   "outputs": [
    {
     "name": "stdout",
     "output_type": "stream",
     "text": [
      "96 reported in file\n",
      "dataset has 25 samples\n",
      "I could find only 25 samples in report file\n",
      "Missing 0 samples in reportfile\n"
     ]
    }
   ],
   "source": [
    "record = next(read_affymetrixRow(path))\n",
    "print(f\"{record.n_samples} reported in file\")\n",
    "print(f\"dataset has {inia_20220323.n_of_individuals} samples\")\n",
    "samples = list(filter(lambda name: 'cel_call_code' in name.lower(), get_header(path)))\n",
    "print(f\"I could find only {len(samples)} samples in report file\")\n",
    "print(f\"Missing {inia_20220323.n_of_individuals - len(samples)} samples in reportfile\")"
   ]
  },
  {
   "cell_type": "markdown",
   "id": "ba6347c6-7c60-4ef4-bf16-789dfea4debf",
   "metadata": {},
   "source": [
    "This time all samples are in dataset"
   ]
  },
  {
   "cell_type": "code",
   "execution_count": 57,
   "id": "1206720a-b489-430c-ac73-e7c614ba477d",
   "metadata": {},
   "outputs": [],
   "source": [
    "report = AffyReportIO(report=path)\n",
    "report.read_reportfile(n_samples=len(samples))"
   ]
  },
  {
   "cell_type": "markdown",
   "id": "1b87ad08-1e2f-4e5a-96c9-814e90edeefc",
   "metadata": {},
   "source": [
    "Ok, try to get metadata and understand which samples I miss"
   ]
  },
  {
   "cell_type": "code",
   "execution_count": 58,
   "id": "0d943dd3-2b1c-4855-869c-b13d182edb9c",
   "metadata": {},
   "outputs": [
    {
     "name": "stdout",
     "output_type": "stream",
     "text": [
      "<class 'pandas.core.frame.DataFrame'>\n",
      "RangeIndex: 25 entries, 0 to 24\n",
      "Data columns (total 7 columns):\n",
      " #   Column           Non-Null Count  Dtype \n",
      "---  ------           --------------  ----- \n",
      " 0   N                25 non-null     int64 \n",
      " 1   ID               25 non-null     int64 \n",
      " 2   Breed            25 non-null     object\n",
      " 3   Sex              25 non-null     object\n",
      " 4   Stall            25 non-null     object\n",
      " 5   GPS_Coordinates  25 non-null     object\n",
      " 6   GPS_2            25 non-null     object\n",
      "dtypes: int64(2), object(5)\n",
      "memory usage: 1.5+ KB\n"
     ]
    }
   ],
   "source": [
    "metadata_path = metadata_dataset.working_dir / \"20220323_Genexa.xlsx\"\n",
    "with open(metadata_path, \"rb\") as handle:\n",
    "    inia_20220323_metadata = pd.read_excel(handle)\n",
    "inia_20220323_metadata.info()"
   ]
  },
  {
   "cell_type": "code",
   "execution_count": 59,
   "id": "c7723a2d-b8cc-4f34-8fb0-821a7059dd6c",
   "metadata": {},
   "outputs": [],
   "source": [
    "ids = [str(id_) for id_ in inia_20220323_metadata[\"ID\"].tolist()]"
   ]
  },
  {
   "cell_type": "markdown",
   "id": "6a1044d0-2a62-4162-b063-c0af1e4e35b3",
   "metadata": {},
   "source": [
    "And even samples names are different. I need to match the *file id* with the *lab id*:"
   ]
  },
  {
   "cell_type": "code",
   "execution_count": 60,
   "id": "dd248fd5-37b6-4166-8393-cf0e474459e3",
   "metadata": {},
   "outputs": [],
   "source": [
    "name2id = collections.defaultdict(lambda: None)\n",
    "\n",
    "for id_ in ids:\n",
    "    for col in samples:\n",
    "        if id_ in col:\n",
    "            name2id[id_] = col"
   ]
  },
  {
   "cell_type": "markdown",
   "id": "ee6ee083-befe-4a36-b0bc-34c296b9dc54",
   "metadata": {},
   "source": [
    "Next, I need to track this column in my datatable:"
   ]
  },
  {
   "cell_type": "code",
   "execution_count": 61,
   "id": "df26e608-69db-4e13-957a-0ef608fa344c",
   "metadata": {},
   "outputs": [],
   "source": [
    "inia_20220323_metadata[\"alias\"] = inia_20220323_metadata[\"ID\"].apply(lambda id_: name2id[str(id_)])"
   ]
  },
  {
   "cell_type": "markdown",
   "id": "8f5a8013-e647-4312-b57c-5a3a3f485351",
   "metadata": {},
   "source": [
    "Now try to get rows with missing alias (if any):"
   ]
  },
  {
   "cell_type": "code",
   "execution_count": 62,
   "id": "9bed1729-4d36-4f8d-9d97-7abf06cf9862",
   "metadata": {},
   "outputs": [
    {
     "data": {
      "text/html": [
       "<div>\n",
       "<style scoped>\n",
       "    .dataframe tbody tr th:only-of-type {\n",
       "        vertical-align: middle;\n",
       "    }\n",
       "\n",
       "    .dataframe tbody tr th {\n",
       "        vertical-align: top;\n",
       "    }\n",
       "\n",
       "    .dataframe thead th {\n",
       "        text-align: right;\n",
       "    }\n",
       "</style>\n",
       "<table border=\"1\" class=\"dataframe\">\n",
       "  <thead>\n",
       "    <tr style=\"text-align: right;\">\n",
       "      <th></th>\n",
       "      <th>N</th>\n",
       "      <th>ID</th>\n",
       "      <th>Breed</th>\n",
       "      <th>Sex</th>\n",
       "      <th>Stall</th>\n",
       "      <th>alias</th>\n",
       "    </tr>\n",
       "  </thead>\n",
       "  <tbody>\n",
       "  </tbody>\n",
       "</table>\n",
       "</div>"
      ],
      "text/plain": [
       "Empty DataFrame\n",
       "Columns: [N, ID, Breed, Sex, Stall, alias]\n",
       "Index: []"
      ]
     },
     "execution_count": 62,
     "metadata": {},
     "output_type": "execute_result"
    }
   ],
   "source": [
    "inia_20220323_metadata[inia_20220323_metadata[\"alias\"].isnull()].drop([\"GPS_2\", \"GPS_Coordinates\"], axis=1)"
   ]
  },
  {
   "cell_type": "markdown",
   "id": "60943ddc-d623-4f8e-a035-136fed32b9bc",
   "metadata": {},
   "source": [
    "All samples have a match with metadata. Try to split coordinate columns in order to be imported into database:"
   ]
  },
  {
   "cell_type": "code",
   "execution_count": 63,
   "id": "93c58b63-a602-432d-be99-5aaabae6f30f",
   "metadata": {},
   "outputs": [],
   "source": [
    "inia_20220323_metadata[\"latitude\"] = inia_20220323_metadata[\"GPS_Coordinates\"].apply(lambda string: float(string.split(\",\")[0].strip()))\n",
    "inia_20220323_metadata[\"longitude\"] = inia_20220323_metadata[\"GPS_Coordinates\"].apply(lambda string: float(string.split(\",\")[1].strip()))"
   ]
  },
  {
   "cell_type": "markdown",
   "id": "5678ca0f-e1d8-4767-ac55-336ab3c47eb8",
   "metadata": {},
   "source": [
    "Ok, write them into a file:"
   ]
  },
  {
   "cell_type": "code",
   "execution_count": 64,
   "id": "424c3de3-fe0e-4e52-aa52-e32b1bf75c46",
   "metadata": {},
   "outputs": [],
   "source": [
    "inia_20220323_metadata.to_excel(\"20220323_Genexa_fix.xlsx\", index=False)"
   ]
  },
  {
   "cell_type": "markdown",
   "id": "9d7ebacc-4740-4b6a-b214-71d82422e9c9",
   "metadata": {},
   "source": [
    "<a id='20220810'></a>\n",
    "## OP1586-1666 OP1087-1106 Placa6 Corr_Tex_Genotyping_20220810_SMARTER\n",
    "Now it's time to process `OP1586-1666 OP1087-1106 Placa6 Corr_Tex_Genotyping_20220810_SMARTER.zip`"
   ]
  },
  {
   "cell_type": "code",
   "execution_count": 65,
   "id": "d0f5fbc6-deed-4bef-b2a2-e20da0033e29",
   "metadata": {},
   "outputs": [],
   "source": [
    "inia_20220810 = Dataset.objects.get(file=\"OP1586-1666 OP1087-1106 Placa6 Corr_Tex_Genotyping_20220810_SMARTER.zip\")"
   ]
  },
  {
   "cell_type": "markdown",
   "id": "8d14c377-4481-4d78-81e7-6428e7575f3e",
   "metadata": {},
   "source": [
    "There's only one file in dataset, the file with the data:"
   ]
  },
  {
   "cell_type": "code",
   "execution_count": 66,
   "id": "4888d50c-5036-46ed-adc5-ad1b51e305f3",
   "metadata": {},
   "outputs": [],
   "source": [
    "path = inia_20220810.working_dir / inia_20220810.contents[0]\n",
    "probeset_ids = [record.probeset_id for record in read_affymetrixRow(path)]"
   ]
  },
  {
   "cell_type": "markdown",
   "id": "e7ba86c2-d717-40da-a2fe-a0f6d6b4c04a",
   "metadata": {},
   "source": [
    "Check if those probeset ids are in database:"
   ]
  },
  {
   "cell_type": "code",
   "execution_count": 67,
   "id": "98b142ba-589f-4d85-88ea-33f6818aa64b",
   "metadata": {},
   "outputs": [
    {
     "data": {
      "application/vnd.jupyter.widget-view+json": {
       "model_id": "71755ef0fd5943f0ba3160a9da940bc3",
       "version_major": 2,
       "version_minor": 0
      },
      "text/plain": [
       "  0%|          | 0/56941 [00:00<?, ?it/s]"
      ]
     },
     "metadata": {},
     "output_type": "display_data"
    },
    {
     "name": "stdout",
     "output_type": "stream",
     "text": [
      "Missing 148 SNPs of 56941\n"
     ]
    }
   ],
   "source": [
    "missing = 0\n",
    "\n",
    "for probeset_id in tqdm(probeset_ids, total=len(probeset_ids)):\n",
    "    query = {\n",
    "        \"probesets__match\": {\n",
    "            'chip_name': inia_20220810.chip_name,\n",
    "            'probeset_id': probeset_id\n",
    "        }\n",
    "    }\n",
    "    \n",
    "    if not VariantSheep.objects(**query):\n",
    "        missing += 1\n",
    "        \n",
    "print(f\"Missing {missing} SNPs of {len(probeset_ids)}\")"
   ]
  },
  {
   "cell_type": "markdown",
   "id": "46a8b51d-72ee-449e-9c8e-0b5cbebf7b72",
   "metadata": {},
   "source": [
    "Well, I have allmost all SNPs in database. Check for sample names:"
   ]
  },
  {
   "cell_type": "code",
   "execution_count": 68,
   "id": "bf62cc34-16f7-45b9-b109-abe16844119a",
   "metadata": {},
   "outputs": [
    {
     "name": "stdout",
     "output_type": "stream",
     "text": [
      "91 reported in file\n",
      "dataset has 35 samples\n",
      "I could find only 35 samples in report file\n",
      "Missing 0 samples in reportfile\n"
     ]
    }
   ],
   "source": [
    "record = next(read_affymetrixRow(path))\n",
    "print(f\"{record.n_samples} reported in file\")\n",
    "print(f\"dataset has {inia_20220810.n_of_individuals} samples\")\n",
    "samples = list(filter(lambda name: 'cel_call_code' in name.lower(), get_header(path)))\n",
    "print(f\"I could find only {len(samples)} samples in report file\")\n",
    "print(f\"Missing {inia_20220810.n_of_individuals - len(samples)} samples in reportfile\")"
   ]
  },
  {
   "cell_type": "markdown",
   "id": "28c536c5-d4f6-4d32-8ef3-8048ad36d6e6",
   "metadata": {},
   "source": [
    "This time all samples are in dataset"
   ]
  },
  {
   "cell_type": "code",
   "execution_count": 69,
   "id": "97404817-2713-44fb-868e-3835ed99e38e",
   "metadata": {},
   "outputs": [
    {
     "name": "stderr",
     "output_type": "stream",
     "text": [
      "Missing 'chr_id' column in reportfile!\n",
      "Missing 'start' column in reportfile!\n",
      "Missing 'allele_a' column in reportfile!\n",
      "Missing 'allele_b' column in reportfile!\n"
     ]
    }
   ],
   "source": [
    "report = AffyReportIO(report=path)\n",
    "report.read_reportfile(n_samples=len(samples))"
   ]
  },
  {
   "cell_type": "markdown",
   "id": "1ae61154-5885-42e0-964e-9d9d8c63f5d7",
   "metadata": {},
   "source": [
    "Ok, try to get metadata and understand which samples I miss"
   ]
  },
  {
   "cell_type": "code",
   "execution_count": 70,
   "id": "7ec040f1-2f2f-481b-9b3c-3e6976619597",
   "metadata": {},
   "outputs": [
    {
     "name": "stdout",
     "output_type": "stream",
     "text": [
      "<class 'pandas.core.frame.DataFrame'>\n",
      "RangeIndex: 35 entries, 0 to 34\n",
      "Data columns (total 7 columns):\n",
      " #   Column           Non-Null Count  Dtype \n",
      "---  ------           --------------  ----- \n",
      " 0   N                35 non-null     int64 \n",
      " 1   ID               35 non-null     int64 \n",
      " 2   Breed            35 non-null     object\n",
      " 3   Sex              35 non-null     object\n",
      " 4   Stall            35 non-null     object\n",
      " 5   GPS_Coordinates  35 non-null     object\n",
      " 6   GPS_2            35 non-null     object\n",
      "dtypes: int64(2), object(5)\n",
      "memory usage: 2.0+ KB\n"
     ]
    }
   ],
   "source": [
    "metadata_path = metadata_dataset.working_dir / \"20220810_Genexa.xlsx\"\n",
    "with open(metadata_path, \"rb\") as handle:\n",
    "    inia_20220810_metadata = pd.read_excel(handle)\n",
    "inia_20220810_metadata.info()"
   ]
  },
  {
   "cell_type": "code",
   "execution_count": 71,
   "id": "cf438f99-10c8-499f-92b5-aba73100e854",
   "metadata": {},
   "outputs": [],
   "source": [
    "ids = [str(id_) for id_ in inia_20220810_metadata[\"ID\"].tolist()]"
   ]
  },
  {
   "cell_type": "markdown",
   "id": "e8c716ed-07d9-496a-b25b-afb49ea08bbb",
   "metadata": {},
   "source": [
    "And even samples names are different. I need to match the *file id* with the *lab id*:"
   ]
  },
  {
   "cell_type": "code",
   "execution_count": 72,
   "id": "733b0191-f4e1-44a6-a3c6-865cd420311b",
   "metadata": {},
   "outputs": [],
   "source": [
    "name2id = collections.defaultdict(lambda: None)\n",
    "\n",
    "for id_ in ids:\n",
    "    for col in samples:\n",
    "        if id_ in col:\n",
    "            name2id[id_] = col"
   ]
  },
  {
   "cell_type": "markdown",
   "id": "33715a68-dfeb-4184-aa1e-baae99e8e490",
   "metadata": {},
   "source": [
    "Next, I need to track this column in my datatable:"
   ]
  },
  {
   "cell_type": "code",
   "execution_count": 73,
   "id": "9e95b9c5-0fc0-4862-9951-fbb6e25d4146",
   "metadata": {},
   "outputs": [],
   "source": [
    "inia_20220810_metadata[\"alias\"] = inia_20220810_metadata[\"ID\"].apply(lambda id_: name2id[str(id_)])"
   ]
  },
  {
   "cell_type": "markdown",
   "id": "37f20a77-59eb-4599-9b6b-5ad3285b4bb4",
   "metadata": {},
   "source": [
    "Now try to get rows with missing alias (if any):"
   ]
  },
  {
   "cell_type": "code",
   "execution_count": 74,
   "id": "10618c09-47ef-4fdd-9174-4fdb6f7d20f1",
   "metadata": {},
   "outputs": [
    {
     "data": {
      "text/html": [
       "<div>\n",
       "<style scoped>\n",
       "    .dataframe tbody tr th:only-of-type {\n",
       "        vertical-align: middle;\n",
       "    }\n",
       "\n",
       "    .dataframe tbody tr th {\n",
       "        vertical-align: top;\n",
       "    }\n",
       "\n",
       "    .dataframe thead th {\n",
       "        text-align: right;\n",
       "    }\n",
       "</style>\n",
       "<table border=\"1\" class=\"dataframe\">\n",
       "  <thead>\n",
       "    <tr style=\"text-align: right;\">\n",
       "      <th></th>\n",
       "      <th>N</th>\n",
       "      <th>ID</th>\n",
       "      <th>Breed</th>\n",
       "      <th>Sex</th>\n",
       "      <th>Stall</th>\n",
       "      <th>alias</th>\n",
       "    </tr>\n",
       "  </thead>\n",
       "  <tbody>\n",
       "  </tbody>\n",
       "</table>\n",
       "</div>"
      ],
      "text/plain": [
       "Empty DataFrame\n",
       "Columns: [N, ID, Breed, Sex, Stall, alias]\n",
       "Index: []"
      ]
     },
     "execution_count": 74,
     "metadata": {},
     "output_type": "execute_result"
    }
   ],
   "source": [
    "inia_20220810_metadata[inia_20220810_metadata[\"alias\"].isnull()].drop([\"GPS_2\", \"GPS_Coordinates\"], axis=1)"
   ]
  },
  {
   "cell_type": "markdown",
   "id": "c628cc61-f93f-43a3-bea2-3d8f7d7a6944",
   "metadata": {},
   "source": [
    "All samples have a match with metadata. Try to split coordinate columns in order to be imported into database:"
   ]
  },
  {
   "cell_type": "code",
   "execution_count": 75,
   "id": "c9659e70-7099-4aca-a89e-c86653b9b034",
   "metadata": {},
   "outputs": [],
   "source": [
    "inia_20220810_metadata[\"latitude\"] = inia_20220810_metadata[\"GPS_Coordinates\"].apply(lambda string: float(string.split(\",\")[0].strip()))\n",
    "inia_20220810_metadata[\"longitude\"] = inia_20220810_metadata[\"GPS_Coordinates\"].apply(lambda string: float(string.split(\",\")[1].strip()))"
   ]
  },
  {
   "cell_type": "markdown",
   "id": "8f97f08a-262a-408f-a5ba-9930ff4bcbd2",
   "metadata": {},
   "source": [
    "Ok, write them into a file:"
   ]
  },
  {
   "cell_type": "code",
   "execution_count": 76,
   "id": "b3966faa-02de-461b-bd9d-60510ea7c8a6",
   "metadata": {},
   "outputs": [],
   "source": [
    "inia_20220810_metadata.to_excel(\"20220810_Genexa_fix.xlsx\", index=False)"
   ]
  },
  {
   "cell_type": "code",
   "execution_count": null,
   "id": "e17361ff-9045-4714-bc20-18c0e08ba4f5",
   "metadata": {},
   "outputs": [],
   "source": []
  }
 ],
 "metadata": {
  "kernelspec": {
   "display_name": "Python 3",
   "language": "python",
   "name": "python3"
  },
  "language_info": {
   "codemirror_mode": {
    "name": "ipython",
    "version": 3
   },
   "file_extension": ".py",
   "mimetype": "text/x-python",
   "name": "python",
   "nbconvert_exporter": "python",
   "pygments_lexer": "ipython3",
   "version": "3.9.1"
  }
 },
 "nbformat": 4,
 "nbformat_minor": 5
}
