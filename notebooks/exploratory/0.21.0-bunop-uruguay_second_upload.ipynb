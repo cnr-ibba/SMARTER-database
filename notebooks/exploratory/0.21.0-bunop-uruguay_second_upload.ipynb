{
 "cells": [
  {
   "cell_type": "markdown",
   "id": "e81a333d-f8e4-412e-b8a5-3b7fc37afa11",
   "metadata": {},
   "source": [
    "# Uruguay Second Upload (Foreground)\n",
    "Pablo set new data belonging created for other WPs"
   ]
  },
  {
   "cell_type": "code",
   "execution_count": 1,
   "id": "fdd3f0a4-f1f1-4ef6-9946-e0d1f3ebe576",
   "metadata": {},
   "outputs": [],
   "source": [
    "import csv\n",
    "import collections\n",
    "import pandas as pd\n",
    "\n",
    "from pathlib import Path\n",
    "from tqdm.notebook import tqdm\n",
    "\n",
    "from src.features.smarterdb import global_connection, Dataset, VariantSheep\n",
    "from src.features.utils import skip_comments, text_or_gzip_open, get_interim_dir\n",
    "from src.features.affymetrix import read_affymetrixRow\n",
    "from src.features.plinkio import AffyReportIO"
   ]
  },
  {
   "cell_type": "code",
   "execution_count": 2,
   "id": "3f2675a6-2a7d-4a16-8b73-c5ab54f90ffc",
   "metadata": {},
   "outputs": [],
   "source": [
    "def get_header(report):\n",
    "        # sample names are sanitized through read_affymetrixRow: so read the\n",
    "        # first header of the report file to determine the original sample\n",
    "        # names\n",
    "        with text_or_gzip_open(report) as handle:\n",
    "            position, skipped = skip_comments(handle)\n",
    "\n",
    "            # go back to header section\n",
    "            handle.seek(position)\n",
    "\n",
    "            # now read csv file\n",
    "            reader = csv.reader(handle, delimiter=\"\\t\")\n",
    "\n",
    "            # get header\n",
    "            return next(reader)"
   ]
  },
  {
   "cell_type": "code",
   "execution_count": 3,
   "id": "eef5086f-4fcc-4bee-81a7-62e323b261dc",
   "metadata": {},
   "outputs": [],
   "source": [
    "_ = global_connection()"
   ]
  },
  {
   "cell_type": "markdown",
   "id": "8da94b86-5fb8-4091-a56b-b1f939afb1f6",
   "metadata": {},
   "source": [
    "## Inia_junio_2021_Texel_46_20210409_SMARTER\n",
    "lets start with `Inia_junio_2021_Texel_46_20210409_SMARTER.zip`"
   ]
  },
  {
   "cell_type": "code",
   "execution_count": 4,
   "id": "39cb79e5-684b-4158-81df-a172efbfee64",
   "metadata": {},
   "outputs": [],
   "source": [
    "inia_20210409 = Dataset.objects.get(file=\"Inia_junio_2021_Texel_46_20210409_SMARTER.zip\")"
   ]
  },
  {
   "cell_type": "markdown",
   "id": "0a9f2cf8-e49e-4119-bb0e-d5711703bb75",
   "metadata": {},
   "source": [
    "There's only one file in dataset, the file with the data:"
   ]
  },
  {
   "cell_type": "code",
   "execution_count": 5,
   "id": "070fbd2d-a7bb-4bdd-b890-ecfa47d6518a",
   "metadata": {},
   "outputs": [],
   "source": [
    "path = inia_20210409.working_dir / inia_20210409.contents[0]\n",
    "probeset_ids = [record.probeset_id for record in read_affymetrixRow(path)]"
   ]
  },
  {
   "cell_type": "markdown",
   "id": "3881f885-f529-4786-997b-0893771250ef",
   "metadata": {},
   "source": [
    "Check if those probeset ids are in database:"
   ]
  },
  {
   "cell_type": "code",
   "execution_count": 6,
   "id": "fa419e64-6514-48c0-96e9-3621ada69b32",
   "metadata": {},
   "outputs": [
    {
     "data": {
      "application/vnd.jupyter.widget-view+json": {
       "model_id": "38a12173080c42e18dc6ec965c980401",
       "version_major": 2,
       "version_minor": 0
      },
      "text/plain": [
       "  0%|          | 0/40204 [00:00<?, ?it/s]"
      ]
     },
     "metadata": {},
     "output_type": "display_data"
    },
    {
     "name": "stdout",
     "output_type": "stream",
     "text": [
      "Missing 0 SNPs of 40204\n"
     ]
    }
   ],
   "source": [
    "missing = 0\n",
    "\n",
    "for probeset_id in tqdm(probeset_ids, total=len(probeset_ids)):\n",
    "    query = {\n",
    "        \"probesets__match\": {\n",
    "            'chip_name': inia_20210409.chip_name,\n",
    "            'probeset_id': probeset_id\n",
    "        }\n",
    "    }\n",
    "    \n",
    "    if not VariantSheep.objects(**query):\n",
    "        missing += 1\n",
    "        \n",
    "print(f\"Missing {missing} SNPs of {len(probeset_ids)}\")"
   ]
  },
  {
   "cell_type": "markdown",
   "id": "e914ca11-6935-468a-9df1-ff2696e77481",
   "metadata": {},
   "source": [
    "I have all the SNPs in my database. Check for sample names:"
   ]
  },
  {
   "cell_type": "code",
   "execution_count": 7,
   "id": "3d3ae1cc-355f-48d2-9249-14d047768981",
   "metadata": {},
   "outputs": [
    {
     "name": "stdout",
     "output_type": "stream",
     "text": [
      "81 reported in file\n",
      "dataset has 46 samples\n",
      "I could find only 38 samples in report file\n"
     ]
    }
   ],
   "source": [
    "record = next(read_affymetrixRow(path))\n",
    "print(f\"{record.n_samples} reported in file\")\n",
    "print(f\"dataset has {inia_20210409.n_of_individuals} samples\")\n",
    "samples = list(filter(lambda name: 'cel_call_code' in name, get_header(path)))\n",
    "print(f\"I could find only {len(samples)} samples in report file\")"
   ]
  },
  {
   "cell_type": "markdown",
   "id": "f4a08ff3-7888-481e-aad0-be708185fa3f",
   "metadata": {},
   "source": [
    "Well, even if the report tells that there are `81` samples, dataset has `46` samples and I could find only `38` samples in file. Try to force reading report with custom number of samples:"
   ]
  },
  {
   "cell_type": "code",
   "execution_count": 8,
   "id": "d4e405eb-f001-4e8c-8445-cb4f145f3998",
   "metadata": {},
   "outputs": [],
   "source": [
    "report = AffyReportIO(report=path)\n",
    "report.read_reportfile(n_samples=len(samples))"
   ]
  },
  {
   "cell_type": "markdown",
   "id": "37ea3ffd-1725-4cf6-bc84-375818fa2e6b",
   "metadata": {},
   "source": [
    "Ok, try to get metadata and understand which samples I miss"
   ]
  },
  {
   "cell_type": "code",
   "execution_count": 9,
   "id": "56091df4-3b26-4f57-9611-f4348b8589e7",
   "metadata": {},
   "outputs": [
    {
     "data": {
      "text/plain": [
       "['20210409_Genexa.xlsx',\n",
       " '20210824_Genexa.xlsx',\n",
       " '20211110_Genexa.xlsx',\n",
       " '20220301_Genexa.xlsx',\n",
       " '20220323_Genexa.xlsx',\n",
       " '20220810_Genexa.xlsx']"
      ]
     },
     "execution_count": 9,
     "metadata": {},
     "output_type": "execute_result"
    }
   ],
   "source": [
    "metadata_dataset = Dataset.objects.get(file=\"INIA_other_WPs_metadata.zip\")\n",
    "metadata_dataset.contents"
   ]
  },
  {
   "cell_type": "code",
   "execution_count": 10,
   "id": "82f1069b-a6e5-4a2d-92f9-ad3b176a1a87",
   "metadata": {},
   "outputs": [
    {
     "name": "stdout",
     "output_type": "stream",
     "text": [
      "<class 'pandas.core.frame.DataFrame'>\n",
      "RangeIndex: 46 entries, 0 to 45\n",
      "Data columns (total 7 columns):\n",
      " #   Column           Non-Null Count  Dtype \n",
      "---  ------           --------------  ----- \n",
      " 0   N                46 non-null     int64 \n",
      " 1   ID               46 non-null     int64 \n",
      " 2   Breed            46 non-null     object\n",
      " 3   Sex              46 non-null     object\n",
      " 4   Stall            46 non-null     object\n",
      " 5   GPS_Coordinates  46 non-null     object\n",
      " 6   GPS_2            46 non-null     object\n",
      "dtypes: int64(2), object(5)\n",
      "memory usage: 2.6+ KB\n"
     ]
    }
   ],
   "source": [
    "metadata_path = metadata_dataset.working_dir / \"20210409_Genexa.xlsx\"\n",
    "with open(metadata_path, \"rb\") as handle:\n",
    "    inia_20210409_metadata = pd.read_excel(handle)\n",
    "inia_20210409_metadata.info()"
   ]
  },
  {
   "cell_type": "code",
   "execution_count": 11,
   "id": "c29e37cb-7bac-4225-b5ac-4492ba5a6b11",
   "metadata": {},
   "outputs": [],
   "source": [
    "ids = [str(id_) for id_ in inia_20210409_metadata[\"ID\"].tolist()]"
   ]
  },
  {
   "cell_type": "markdown",
   "id": "095c47bc-5f11-4b99-92ea-f045cad66622",
   "metadata": {},
   "source": [
    "And even samples names are different. I need to match the *file id* with the *lab id*:"
   ]
  },
  {
   "cell_type": "code",
   "execution_count": 12,
   "id": "ef8595d9-f7df-4f85-8bdd-6e63bc5c6edb",
   "metadata": {},
   "outputs": [],
   "source": [
    "name2id = collections.defaultdict(lambda: None)\n",
    "\n",
    "for id_ in ids:\n",
    "    for col in samples:\n",
    "        if id_ in col:\n",
    "            name2id[id_] = col"
   ]
  },
  {
   "cell_type": "markdown",
   "id": "2e3561a5-15e5-4611-8142-c91c22b36e86",
   "metadata": {},
   "source": [
    "Next, I need to track this column in my datatable:"
   ]
  },
  {
   "cell_type": "code",
   "execution_count": 13,
   "id": "40b05064-dce3-4e52-a7f2-d967429ae92b",
   "metadata": {},
   "outputs": [],
   "source": [
    "inia_20210409_metadata[\"alias\"] = inia_20210409_metadata[\"ID\"].apply(lambda id_: name2id[str(id_)])"
   ]
  },
  {
   "cell_type": "markdown",
   "id": "c3390add-1be5-4a6a-afbe-78e70f094fcb",
   "metadata": {},
   "source": [
    "Now try to get rows with missing alias:"
   ]
  },
  {
   "cell_type": "code",
   "execution_count": 14,
   "id": "be723c50-7136-47ec-a3b0-36e7ed441840",
   "metadata": {},
   "outputs": [
    {
     "data": {
      "text/html": [
       "<div>\n",
       "<style scoped>\n",
       "    .dataframe tbody tr th:only-of-type {\n",
       "        vertical-align: middle;\n",
       "    }\n",
       "\n",
       "    .dataframe tbody tr th {\n",
       "        vertical-align: top;\n",
       "    }\n",
       "\n",
       "    .dataframe thead th {\n",
       "        text-align: right;\n",
       "    }\n",
       "</style>\n",
       "<table border=\"1\" class=\"dataframe\">\n",
       "  <thead>\n",
       "    <tr style=\"text-align: right;\">\n",
       "      <th></th>\n",
       "      <th>N</th>\n",
       "      <th>ID</th>\n",
       "      <th>Breed</th>\n",
       "      <th>Sex</th>\n",
       "      <th>Stall</th>\n",
       "      <th>alias</th>\n",
       "    </tr>\n",
       "  </thead>\n",
       "  <tbody>\n",
       "    <tr>\n",
       "      <th>1</th>\n",
       "      <td>9</td>\n",
       "      <td>20210409009</td>\n",
       "      <td>Texel</td>\n",
       "      <td>Male</td>\n",
       "      <td>INIA Las Brujas</td>\n",
       "      <td>None</td>\n",
       "    </tr>\n",
       "    <tr>\n",
       "      <th>2</th>\n",
       "      <td>10</td>\n",
       "      <td>20210409010</td>\n",
       "      <td>Texel</td>\n",
       "      <td>Male</td>\n",
       "      <td>INIA Las Brujas</td>\n",
       "      <td>None</td>\n",
       "    </tr>\n",
       "    <tr>\n",
       "      <th>14</th>\n",
       "      <td>65</td>\n",
       "      <td>20210409065</td>\n",
       "      <td>Texel</td>\n",
       "      <td>Male</td>\n",
       "      <td>INIA Las Brujas</td>\n",
       "      <td>None</td>\n",
       "    </tr>\n",
       "    <tr>\n",
       "      <th>22</th>\n",
       "      <td>73</td>\n",
       "      <td>20210409073</td>\n",
       "      <td>Texel</td>\n",
       "      <td>Male</td>\n",
       "      <td>INIA Las Brujas</td>\n",
       "      <td>None</td>\n",
       "    </tr>\n",
       "    <tr>\n",
       "      <th>23</th>\n",
       "      <td>74</td>\n",
       "      <td>20210409074</td>\n",
       "      <td>Texel</td>\n",
       "      <td>Male</td>\n",
       "      <td>INIA Las Brujas</td>\n",
       "      <td>None</td>\n",
       "    </tr>\n",
       "    <tr>\n",
       "      <th>30</th>\n",
       "      <td>81</td>\n",
       "      <td>20210409081</td>\n",
       "      <td>Texel</td>\n",
       "      <td>Female</td>\n",
       "      <td>INIA Las Brujas</td>\n",
       "      <td>None</td>\n",
       "    </tr>\n",
       "    <tr>\n",
       "      <th>38</th>\n",
       "      <td>89</td>\n",
       "      <td>20210409089</td>\n",
       "      <td>Texel</td>\n",
       "      <td>Male</td>\n",
       "      <td>INIA Las Brujas</td>\n",
       "      <td>None</td>\n",
       "    </tr>\n",
       "    <tr>\n",
       "      <th>39</th>\n",
       "      <td>90</td>\n",
       "      <td>20210409090</td>\n",
       "      <td>Texel</td>\n",
       "      <td>Female</td>\n",
       "      <td>INIA Las Brujas</td>\n",
       "      <td>None</td>\n",
       "    </tr>\n",
       "  </tbody>\n",
       "</table>\n",
       "</div>"
      ],
      "text/plain": [
       "     N           ID  Breed     Sex            Stall alias\n",
       "1    9  20210409009  Texel    Male  INIA Las Brujas  None\n",
       "2   10  20210409010  Texel    Male  INIA Las Brujas  None\n",
       "14  65  20210409065  Texel    Male  INIA Las Brujas  None\n",
       "22  73  20210409073  Texel    Male  INIA Las Brujas  None\n",
       "23  74  20210409074  Texel    Male  INIA Las Brujas  None\n",
       "30  81  20210409081  Texel  Female  INIA Las Brujas  None\n",
       "38  89  20210409089  Texel    Male  INIA Las Brujas  None\n",
       "39  90  20210409090  Texel  Female  INIA Las Brujas  None"
      ]
     },
     "execution_count": 14,
     "metadata": {},
     "output_type": "execute_result"
    }
   ],
   "source": [
    "inia_20210409_metadata[inia_20210409_metadata[\"alias\"].isnull()].drop([\"GPS_2\", \"GPS_Coordinates\"], axis=1)"
   ]
  },
  {
   "cell_type": "markdown",
   "id": "129cc6d4-a92b-4eb5-bb23-633311d3a718",
   "metadata": {},
   "source": [
    "Ok there are some missing samples. Try to split coordinate columns in order to be imported into database:"
   ]
  },
  {
   "cell_type": "code",
   "execution_count": 15,
   "id": "b241c31e-9ef5-42c8-ba75-c367ff599ca1",
   "metadata": {},
   "outputs": [],
   "source": [
    "inia_20210409_metadata[\"latitude\"] = inia_20210409_metadata[\"GPS_Coordinates\"].apply(lambda string: float(string.split(\",\")[0].strip()))\n",
    "inia_20210409_metadata[\"longitude\"] = inia_20210409_metadata[\"GPS_Coordinates\"].apply(lambda string: float(string.split(\",\")[1].strip()))"
   ]
  },
  {
   "cell_type": "markdown",
   "id": "8068b156-c7fa-4c9c-9a5a-3f3cb1893256",
   "metadata": {},
   "source": [
    "Ok, write them into a file:"
   ]
  },
  {
   "cell_type": "code",
   "execution_count": 16,
   "id": "a3751bbd-c2f3-480d-bd33-8b16991f1f17",
   "metadata": {},
   "outputs": [],
   "source": [
    "inia_20210409_metadata.to_excel(\"20210409_Genexa_fix.xlsx\", index=False)"
   ]
  },
  {
   "cell_type": "code",
   "execution_count": null,
   "id": "75f9a830-5527-4b54-b6f3-fd6fce1ffb42",
   "metadata": {},
   "outputs": [],
   "source": []
  }
 ],
 "metadata": {
  "kernelspec": {
   "display_name": "Python 3",
   "language": "python",
   "name": "python3"
  },
  "language_info": {
   "codemirror_mode": {
    "name": "ipython",
    "version": 3
   },
   "file_extension": ".py",
   "mimetype": "text/x-python",
   "name": "python",
   "nbconvert_exporter": "python",
   "pygments_lexer": "ipython3",
   "version": "3.9.1"
  }
 },
 "nbformat": 4,
 "nbformat_minor": 5
}
