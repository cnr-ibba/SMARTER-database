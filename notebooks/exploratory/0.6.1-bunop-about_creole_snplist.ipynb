{
 "cells": [
  {
   "cell_type": "markdown",
   "id": "speaking-polymer",
   "metadata": {},
   "source": [
    "# Creole OvineHDSNPList\n",
    "the `CREOLE_INIA_UY.zip` dataset is encode in *A/B* format and provide a `OvineHDSNPList.txt` file. Does this file keeps the same information of a manifest file? Is the information consistent for the SNPs in common with *50K* chip?"
   ]
  },
  {
   "cell_type": "code",
   "execution_count": 7,
   "id": "smooth-change",
   "metadata": {},
   "outputs": [],
   "source": [
    "import re\n",
    "import csv\n",
    "import itertools\n",
    "import collections\n",
    "\n",
    "from src.features.smarterdb import Dataset, global_connection, VariantSheep\n",
    "from src.features.utils import sanitize\n",
    "\n",
    "conn = global_connection()"
   ]
  },
  {
   "cell_type": "code",
   "execution_count": 2,
   "id": "present-picking",
   "metadata": {},
   "outputs": [],
   "source": [
    "dataset = Dataset.objects(file=\"CREOLE_INIA_UY.zip\").get()\n",
    "snplist = dataset.working_dir / \"OvineHDSNPList.txt\""
   ]
  },
  {
   "cell_type": "markdown",
   "id": "bibliographic-married",
   "metadata": {},
   "source": [
    "try to detect if the alleles I have in file list are similar to ones I have in database. Print a few samples"
   ]
  },
  {
   "cell_type": "code",
   "execution_count": 23,
   "id": "grand-absolute",
   "metadata": {},
   "outputs": [
    {
     "name": "stdout",
     "output_type": "stream",
     "text": [
      "['name', 'chr', 'position', 'index', 'snp', 'customer_strand', 'ilmn_strand']\n",
      "250506CS3901300500001_1084.1 7:89431547 7:89431547 T/C A/G BOT BOT BOT TOP\n",
      "CZ925803_293.1 6:100552392 6:100552392 T/C A/G BOT BOT BOT TOP\n",
      "DU244782_175.1 3:59783119 3:59783119 T/C A/G BOT BOT BOT TOP\n",
      "DU247466_220.1 13:9182853 13:9182853 T/A A/T BOT BOT BOT TOP\n",
      "DU279054_461.1 25:255537 25:255537 T/G A/C BOT BOT BOT TOP\n",
      "DU292684_282.1 20:10624434 20:10624434 T/C A/G BOT BOT BOT TOP\n",
      "DU305004_417.1 4:70754178 4:70754178 T/C A/G BOT BOT BOT TOP\n",
      "DU326574_557.1 2:12492887 2:12492887 T/C A/G BOT BOT BOT TOP\n",
      "DU340136_162.1 18:53259877 18:53259877 T/C A/G BOT BOT BOT TOP\n",
      "DU344050_171.1 1:96806235 1:96806235 T/C A/G BOT BOT BOT TOP\n",
      "DU345394_399.1 18:60904691 18:60904691 T/G A/C BOT BOT BOT TOP\n",
      "DU404011_458.1 18:54252674 18:54252674 T/C A/G BOT BOT BOT TOP\n",
      "DU414375_444.1 15:23935021 15:23935021 T/C A/G TOP TOP BOT TOP\n",
      "DU435573_466.1 13:30047921 13:30047921 T/C A/G BOT BOT BOT TOP\n",
      "DU448891_645.1 10:10922307 10:10922307 T/G A/C BOT BOT BOT TOP\n",
      "DU460869_259.1 4:33312964 4:33312964 T/G A/C BOT BOT BOT TOP\n",
      "DU462008_263.1 14:44825713 14:44825713 T/G A/C BOT BOT BOT TOP\n",
      "DU485754_279.1 19:41493644 19:41493644 T/C A/G BOT BOT BOT TOP\n",
      "DU501138_521.1 5:32402507 5:32402507 T/C A/G BOT BOT BOT TOP\n",
      "OAR1_102720326.1 1:96346369 1:96346369 T/C A/G BOT BOT BOT TOP\n",
      "OAR1_103393742.1 1:96909929 1:96909929 T/C A/G BOT BOT BOT TOP\n"
     ]
    }
   ],
   "source": [
    "with open(snplist) as handle:\n",
    "    reader = csv.reader(handle, delimiter=\"\\t\")\n",
    "    header = next(reader)\n",
    "    header = [sanitize(column) for column in header]\n",
    "    print(header)\n",
    "    SnpLine = collections.namedtuple(\"SnpLine\", header)\n",
    "    counter = 0\n",
    "    for record in reader:\n",
    "        # fix elements\n",
    "        record[header.index('snp')] = re.sub(\n",
    "                r'[\\[\\]]',\n",
    "                \"\",\n",
    "                record[header.index('snp')])\n",
    "        \n",
    "        snpline = SnpLine._make(record)\n",
    "        qs = VariantSheep.objects(name=snpline.name)\n",
    "        if qs.count() > 0:\n",
    "            variant = qs.get()\n",
    "            location = variant.get_location(version=\"Oar_v3.1\", imported_from=\"manifest\")\n",
    "            if snpline.snp != location.illumina or snpline.customer_strand != location.strand or snpline.ilmn_strand != location.illumina_strand:\n",
    "            # if snpline.customer_strand != location.strand:\n",
    "                counter += 1\n",
    "                print(f\"{snpline.name} {snpline.chr}:{snpline.position} {location.chrom}:{location.position} {snpline.snp} {location.illumina} {snpline.customer_strand} {location.strand} {snpline.ilmn_strand} {location.illumina_strand}\")\n",
    "                \n",
    "        if counter > 20:\n",
    "            break\n"
   ]
  },
  {
   "cell_type": "markdown",
   "id": "superb-freeware",
   "metadata": {},
   "source": [
    "The `customer_strand` and the `location.strand` are always equal (I suppose since they are the same *OARv3*). However `ilmn_strand` and `location.illumina_strand` can be different. In such case the allele is **reverse complemented**"
   ]
  },
  {
   "cell_type": "markdown",
   "id": "optional-elimination",
   "metadata": {},
   "source": [
    "## About coding convenction in general\n",
    "Relying on what I see in database, if `illumina_strand` is in *BOT*, I need to reverse complement the allele to have an `illumina_top`. If `strand` is in *BOT*, the `allele` (not the *illumina*) seems to be the `illumina_forward` or `illumina` in reverse order (depending if it comes from *SNPchimp* or *manifest*)"
   ]
  },
  {
   "cell_type": "code",
   "execution_count": null,
   "id": "close-preserve",
   "metadata": {},
   "outputs": [],
   "source": []
  }
 ],
 "metadata": {
  "kernelspec": {
   "display_name": "Python 3",
   "language": "python",
   "name": "python3"
  },
  "language_info": {
   "codemirror_mode": {
    "name": "ipython",
    "version": 3
   },
   "file_extension": ".py",
   "mimetype": "text/x-python",
   "name": "python",
   "nbconvert_exporter": "python",
   "pygments_lexer": "ipython3",
   "version": "3.9.1"
  }
 },
 "nbformat": 4,
 "nbformat_minor": 5
}
