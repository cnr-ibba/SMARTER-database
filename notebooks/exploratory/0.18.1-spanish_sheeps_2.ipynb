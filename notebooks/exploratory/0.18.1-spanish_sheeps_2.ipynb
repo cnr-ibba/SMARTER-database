{
 "cells": [
  {
   "cell_type": "markdown",
   "id": "b00c1b4e-f167-45cf-8610-11b1b946786e",
   "metadata": {},
   "source": [
    "# Spanish sheep 2\n",
    "Processing the 2nd batch of data submitted by Spain partners:\n",
    "* [20220326_resultados_SNP](#dataset0)\n",
    "* [20220428_Smarter_Ovine](#dataset1)\n",
    "* [20220503_Ovine](#dataset2)"
   ]
  },
  {
   "cell_type": "code",
   "execution_count": 1,
   "id": "3790753b-3bb9-45e5-95ce-a1f885210d35",
   "metadata": {},
   "outputs": [],
   "source": [
    "import re\n",
    "import os\n",
    "import csv\n",
    "import logging\n",
    "import zipfile\n",
    "from collections import defaultdict, Counter\n",
    "from pathlib import Path\n",
    "\n",
    "import pandas as pd\n",
    "from tqdm.notebook import tqdm\n",
    "\n",
    "from src.features.affymetrix import read_Manifest\n",
    "from src.features.smarterdb import global_connection, Dataset\n",
    "from src.features.plinkio import AffyPlinkIO, TextPlinkIO, CodingException\n",
    "from src.features.utils import get_interim_dir, get_project_dir\n",
    "from src.data.common import WORKING_ASSEMBLIES, AssemblyConf\n",
    "\n",
    "_ = global_connection()\n",
    "OAR3 = WORKING_ASSEMBLIES[\"OAR3\"]\n",
    "AFFY3 = AssemblyConf('Oar_v3.1','affymetrix')\n",
    "logger = logging.getLogger('src.features.plinkio')\n",
    "logger.setLevel(logging.CRITICAL)"
   ]
  },
  {
   "cell_type": "code",
   "execution_count": 2,
   "id": "272ae979-9469-489b-8e96-857322b983c3",
   "metadata": {},
   "outputs": [],
   "source": [
    "class CustomMixin():\n",
    "    n_of_individuals = None\n",
    "\n",
    "    def process_pedfile(self, src_coding=\"top\"):\n",
    "        for line in tqdm(self.read_pedfile(), total=self.n_of_individuals):\n",
    "            _ = self._process_genotypes(line, src_coding)\n",
    "\n",
    "        return True\n",
    "\n",
    "    def is_top(self):\n",
    "        try:\n",
    "            return self.process_pedfile(src_coding='top')\n",
    "\n",
    "        except CodingException:\n",
    "            return False\n",
    "\n",
    "    def is_forward(self):\n",
    "        try:\n",
    "            return self.process_pedfile(src_coding='forward')\n",
    "\n",
    "        except CodingException:\n",
    "            return False\n",
    "\n",
    "    def is_affymetrix(self):\n",
    "        try:\n",
    "            return self.process_pedfile(src_coding='affymetrix')\n",
    "\n",
    "        except CodingException:\n",
    "            return False\n",
    "\n",
    "class CustomTextPlinkIO(CustomMixin, TextPlinkIO):\n",
    "    pass"
   ]
  },
  {
   "cell_type": "markdown",
   "id": "0e692552-1c7d-49dc-92d0-d67d1103f616",
   "metadata": {},
   "source": [
    "<a id='dataset0'></a>\n",
    "## 20220326_resultados_SNP\n",
    "This dataset is supposed to be affymetrix and to have both *Assaf* and *Castellana* breeds"
   ]
  },
  {
   "cell_type": "code",
   "execution_count": 3,
   "id": "849528f6-0d02-4f24-9788-0f7d00464515",
   "metadata": {},
   "outputs": [],
   "source": [
    "dataset_20220326 = Dataset.objects.get(file=\"20220326_resultados_SNP.zip\")\n",
    "plinkio = CustomTextPlinkIO(\n",
    "    prefix=str(dataset_20220326.working_dir / \"20220326_resultados_SNP/20220326_Ovine\"),\n",
    "    species=dataset_20220326.species,\n",
    "    chip_name=dataset_20220326.chip_name)\n",
    "plinkio.n_of_individuals = dataset_20220326.n_of_individuals"
   ]
  },
  {
   "cell_type": "markdown",
   "id": "5db77fce-de29-422f-b386-f59ab71fea77",
   "metadata": {},
   "source": [
    "Start by reading coordinates. Try to determine how many SNPs I have in SMARTER database"
   ]
  },
  {
   "cell_type": "code",
   "execution_count": 4,
   "id": "3fdbd5cd-e1b1-4b24-bd9e-3f1ecde490e9",
   "metadata": {},
   "outputs": [],
   "source": [
    "plinkio.read_mapfile()\n",
    "plinkio.fetch_coordinates(\n",
    "    src_assembly=AFFY3,\n",
    "    search_field=\"probeset_id\",\n",
    "    chip_name=dataset_20220326.chip_name\n",
    ")"
   ]
  },
  {
   "cell_type": "code",
   "execution_count": 5,
   "id": "2bf1786f-8ecb-4943-8a64-67f1ef816fa5",
   "metadata": {},
   "outputs": [
    {
     "name": "stdout",
     "output_type": "stream",
     "text": [
      "I can retrieve 49619 of 49702 SNPs (0.17% missing)\n"
     ]
    }
   ],
   "source": [
    "snps_found = len(plinkio.mapdata)-len(plinkio.filtered)\n",
    "perc_missing = round(100 - (snps_found / len(plinkio.mapdata) * 100), 2)\n",
    "\n",
    "print(f\"I can retrieve {snps_found} of {len(plinkio.mapdata)} SNPs ({perc_missing}% missing)\")"
   ]
  },
  {
   "cell_type": "markdown",
   "id": "33a70387-544c-49bd-97c4-89944161ef27",
   "metadata": {},
   "source": [
    "Is this file in *affymetrix forward* coordinates?"
   ]
  },
  {
   "cell_type": "code",
   "execution_count": 6,
   "id": "84eadf1a-21ea-40f2-b9c9-b953bb02fa7c",
   "metadata": {},
   "outputs": [
    {
     "data": {
      "application/vnd.jupyter.widget-view+json": {
       "model_id": "b3a06f788f8549069fb98c5a8579d8a5",
       "version_major": 2,
       "version_minor": 0
      },
      "text/plain": [
       "  0%|          | 0/96 [00:00<?, ?it/s]"
      ]
     },
     "metadata": {},
     "output_type": "display_data"
    },
    {
     "data": {
      "text/plain": [
       "True"
      ]
     },
     "execution_count": 6,
     "metadata": {},
     "output_type": "execute_result"
    }
   ],
   "source": [
    "plinkio.is_affymetrix()"
   ]
  },
  {
   "cell_type": "markdown",
   "id": "1423fb79-710a-494c-8fba-04d732d9125c",
   "metadata": {},
   "source": [
    "Which breeds are currently in this dataset?"
   ]
  },
  {
   "cell_type": "code",
   "execution_count": 7,
   "id": "dc81d0fe-daa9-41b4-91a3-0f631758ff6d",
   "metadata": {},
   "outputs": [
    {
     "name": "stdout",
     "output_type": "stream",
     "text": [
      "Got {'SMARTER', 'Assaf'} breeds\n"
     ]
    }
   ],
   "source": [
    "breeds_castellana = set()\n",
    "samples_castellana = set()\n",
    "for line in plinkio.read_pedfile():\n",
    "    breed, sample = line[0], line[1]\n",
    "    if breed not in breeds_castellana:\n",
    "        breeds_castellana.add(breed)\n",
    "    samples_castellana.add(sample)\n",
    "\n",
    "print(f\"Got {breeds_castellana} breeds\")"
   ]
  },
  {
   "cell_type": "markdown",
   "id": "338aba98-da27-4f43-b6ef-841170f0636d",
   "metadata": {},
   "source": [
    "<a id='dataset1'></a>\n",
    "## 20220428_Smarter_Ovine\n",
    "This dataset is supposed to be affymetrix and to have *Ojalada* breed"
   ]
  },
  {
   "cell_type": "code",
   "execution_count": 8,
   "id": "b69d59c1-71dc-47d4-8a24-95089b40eaf0",
   "metadata": {},
   "outputs": [],
   "source": [
    "dataset_20220428 = Dataset.objects.get(file=\"20220428_Smarter_Ovine.zip\")\n",
    "plinkio = CustomTextPlinkIO(\n",
    "    prefix=str(dataset_20220428.working_dir / \"20220428_Smarter_Ovine/20220428_Smarter_Ovine\"),\n",
    "    species=dataset_20220428.species,\n",
    "    chip_name=dataset_20220428.chip_name)\n",
    "plinkio.n_of_individuals = dataset_20220428.n_of_individuals"
   ]
  },
  {
   "cell_type": "markdown",
   "id": "6fe3700b-b006-4d3b-ae0f-b130aa890853",
   "metadata": {},
   "source": [
    "Start by reading coordinates. Try to determine how many SNPs I have in SMARTER database"
   ]
  },
  {
   "cell_type": "code",
   "execution_count": 9,
   "id": "49fa1f94-e5fa-478d-a85d-159050a0c98f",
   "metadata": {},
   "outputs": [],
   "source": [
    "plinkio.read_mapfile()\n",
    "plinkio.fetch_coordinates(\n",
    "    src_assembly=AFFY3,\n",
    "    search_field=\"probeset_id\",\n",
    "    chip_name=dataset_20220428.chip_name\n",
    ")"
   ]
  },
  {
   "cell_type": "code",
   "execution_count": 10,
   "id": "134fa296-ec3e-4a31-9bc4-2b4cb7bf0281",
   "metadata": {},
   "outputs": [
    {
     "name": "stdout",
     "output_type": "stream",
     "text": [
      "I can retrieve 49619 of 49702 SNPs (0.17% missing)\n"
     ]
    }
   ],
   "source": [
    "snps_found = len(plinkio.mapdata)-len(plinkio.filtered)\n",
    "perc_missing = round(100 - (snps_found / len(plinkio.mapdata) * 100), 2)\n",
    "\n",
    "print(f\"I can retrieve {snps_found} of {len(plinkio.mapdata)} SNPs ({perc_missing}% missing)\")"
   ]
  },
  {
   "cell_type": "markdown",
   "id": "5d6f107a-9184-43a6-bd4b-b7a31fbf027f",
   "metadata": {},
   "source": [
    "Is this file in *affymetrix forward* coordinates?"
   ]
  },
  {
   "cell_type": "code",
   "execution_count": 11,
   "id": "3144da46-7d56-4915-b0f9-757c96ef62b8",
   "metadata": {},
   "outputs": [
    {
     "data": {
      "application/vnd.jupyter.widget-view+json": {
       "model_id": "4c01c21366e24df79112e5e0ffb6e7a3",
       "version_major": 2,
       "version_minor": 0
      },
      "text/plain": [
       "  0%|          | 0/92 [00:00<?, ?it/s]"
      ]
     },
     "metadata": {},
     "output_type": "display_data"
    },
    {
     "data": {
      "text/plain": [
       "True"
      ]
     },
     "execution_count": 11,
     "metadata": {},
     "output_type": "execute_result"
    }
   ],
   "source": [
    "plinkio.is_affymetrix()"
   ]
  },
  {
   "cell_type": "markdown",
   "id": "750a4cab-d855-4f87-a244-1b837b10b04f",
   "metadata": {},
   "source": [
    "Which breeds are currently in this dataset?"
   ]
  },
  {
   "cell_type": "code",
   "execution_count": 12,
   "id": "4f3eb1d4-fa4b-4603-a747-6c6e3861e3a6",
   "metadata": {},
   "outputs": [
    {
     "name": "stdout",
     "output_type": "stream",
     "text": [
      "Got {'Smarter'} breeds\n"
     ]
    }
   ],
   "source": [
    "breeds_ojalada = set()\n",
    "samples_ojalada = set()\n",
    "for line in plinkio.read_pedfile():\n",
    "    breed, sample = line[0], line[1]\n",
    "    if breed not in breeds_ojalada:\n",
    "        breeds_ojalada.add(breed)\n",
    "    samples_ojalada.add(sample)\n",
    "\n",
    "print(f\"Got {breeds_ojalada} breeds\")"
   ]
  },
  {
   "cell_type": "markdown",
   "id": "a9c7d56c-0cd8-4082-ae9d-1f7516cafa1c",
   "metadata": {},
   "source": [
    "<a id='dataset2'></a>\n",
    "## 20220503_Ovine\n",
    "This dataset is supposed to be affymetrix and to have *Assaf* breed"
   ]
  },
  {
   "cell_type": "code",
   "execution_count": 13,
   "id": "135fd2dc-8b9a-4a66-8c30-386f91652971",
   "metadata": {},
   "outputs": [],
   "source": [
    "dataset_20220503 = Dataset.objects.get(file=\"20220503_Ovine.zip\")\n",
    "plinkio = CustomTextPlinkIO(\n",
    "    prefix=str(dataset_20220503.working_dir / \"20220503_Ovine/20220503_Ovine\"),\n",
    "    species=dataset_20220503.species,\n",
    "    chip_name=dataset_20220503.chip_name)\n",
    "plinkio.n_of_individuals = dataset_20220503.n_of_individuals"
   ]
  },
  {
   "cell_type": "markdown",
   "id": "84dcb979-ba21-4f41-8b33-6f40cb632dc3",
   "metadata": {},
   "source": [
    "Start by reading coordinates. Try to determine how many SNPs I have in SMARTER database"
   ]
  },
  {
   "cell_type": "code",
   "execution_count": 14,
   "id": "1cbc7f63-b3c1-4316-8e62-815b183a4af2",
   "metadata": {},
   "outputs": [],
   "source": [
    "plinkio.read_mapfile()\n",
    "plinkio.fetch_coordinates(\n",
    "    src_assembly=AFFY3,\n",
    "    search_field=\"probeset_id\",\n",
    "    chip_name=dataset_20220503.chip_name\n",
    ")"
   ]
  },
  {
   "cell_type": "code",
   "execution_count": 15,
   "id": "434fba30-f34b-4a56-bf88-6174feb38d5e",
   "metadata": {},
   "outputs": [
    {
     "name": "stdout",
     "output_type": "stream",
     "text": [
      "I can retrieve 49619 of 49702 SNPs (0.17% missing)\n"
     ]
    }
   ],
   "source": [
    "snps_found = len(plinkio.mapdata)-len(plinkio.filtered)\n",
    "perc_missing = round(100 - (snps_found / len(plinkio.mapdata) * 100), 2)\n",
    "\n",
    "print(f\"I can retrieve {snps_found} of {len(plinkio.mapdata)} SNPs ({perc_missing}% missing)\")"
   ]
  },
  {
   "cell_type": "markdown",
   "id": "abae3d64-a9a9-455a-a651-719c0d7a99ba",
   "metadata": {},
   "source": [
    "Is this file in *affymetrix forward* coordinates?"
   ]
  },
  {
   "cell_type": "code",
   "execution_count": 16,
   "id": "69d86a01-6cf7-4f9d-acd6-3ab84151a158",
   "metadata": {},
   "outputs": [
    {
     "data": {
      "application/vnd.jupyter.widget-view+json": {
       "model_id": "bc592ad063334c5ea70de5afec826375",
       "version_major": 2,
       "version_minor": 0
      },
      "text/plain": [
       "  0%|          | 0/95 [00:00<?, ?it/s]"
      ]
     },
     "metadata": {},
     "output_type": "display_data"
    },
    {
     "data": {
      "text/plain": [
       "True"
      ]
     },
     "execution_count": 16,
     "metadata": {},
     "output_type": "execute_result"
    }
   ],
   "source": [
    "plinkio.is_affymetrix()"
   ]
  },
  {
   "cell_type": "markdown",
   "id": "7bc95b81-8457-46e7-b0b0-33f1ff34e247",
   "metadata": {},
   "source": [
    "Which breeds are currently in this dataset?"
   ]
  },
  {
   "cell_type": "code",
   "execution_count": 17,
   "id": "74727f47-5411-4590-9b51-6665746078ae",
   "metadata": {},
   "outputs": [
    {
     "name": "stdout",
     "output_type": "stream",
     "text": [
      "Got {'Assaf'} breeds\n"
     ]
    }
   ],
   "source": [
    "breeds_assaf = set()\n",
    "samples_assaf = set()\n",
    "for line in plinkio.read_pedfile():\n",
    "    breed, sample = line[0], line[1]\n",
    "    if breed not in breeds_assaf:\n",
    "        breeds_assaf.add(breed)\n",
    "    samples_assaf.add(sample)\n",
    "\n",
    "print(f\"Got {breeds_assaf} breeds\")"
   ]
  },
  {
   "cell_type": "code",
   "execution_count": null,
   "id": "757585bf-caea-4f2b-a7c4-736275327904",
   "metadata": {},
   "outputs": [],
   "source": []
  }
 ],
 "metadata": {
  "kernelspec": {
   "display_name": "Python 3",
   "language": "python",
   "name": "python3"
  },
  "language_info": {
   "codemirror_mode": {
    "name": "ipython",
    "version": 3
   },
   "file_extension": ".py",
   "mimetype": "text/x-python",
   "name": "python",
   "nbconvert_exporter": "python",
   "pygments_lexer": "ipython3",
   "version": "3.9.1"
  }
 },
 "nbformat": 4,
 "nbformat_minor": 5
}
