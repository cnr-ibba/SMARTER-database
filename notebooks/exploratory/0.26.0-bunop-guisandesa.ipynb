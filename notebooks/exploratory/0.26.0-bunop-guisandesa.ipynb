{
 "cells": [
  {
   "cell_type": "markdown",
   "metadata": {},
   "source": [
    "# Guisandesa goats\n",
    "\n",
    "Explore the latest dataset from Guisandesa goats"
   ]
  },
  {
   "cell_type": "code",
   "execution_count": 1,
   "metadata": {},
   "outputs": [],
   "source": [
    "from pathlib import Path\n",
    "\n",
    "from tqdm.notebook import tqdm\n",
    "import pandas as pd\n",
    "\n",
    "from src.features.smarterdb import global_connection, Dataset\n",
    "from src.features.plinkio import TextPlinkIO, CodingException\n",
    "from src.features.utils import get_interim_dir\n",
    "from src.data.common import AssemblyConf"
   ]
  },
  {
   "cell_type": "code",
   "execution_count": 2,
   "metadata": {},
   "outputs": [],
   "source": [
    "conn = global_connection()\n",
    "ARS1 = AssemblyConf('ARS1','affymetrix')\n",
    "\n",
    "class CustomMixin():\n",
    "    n_of_individuals = None\n",
    "\n",
    "    def process_pedfile(self, src_coding=\"top\"):\n",
    "        for line in tqdm(self.read_pedfile(), total=self.n_of_individuals):\n",
    "            _ = self._process_genotypes(line, src_coding)\n",
    "\n",
    "        return True\n",
    "\n",
    "    def is_top(self):\n",
    "        try:\n",
    "            return self.process_pedfile(src_coding='top')\n",
    "\n",
    "        except CodingException:\n",
    "            return False\n",
    "\n",
    "    def is_forward(self):\n",
    "        try:\n",
    "            return self.process_pedfile(src_coding='forward')\n",
    "\n",
    "        except CodingException:\n",
    "            return False\n",
    "\n",
    "    def is_affymetrix(self):\n",
    "        try:\n",
    "            return self.process_pedfile(src_coding='affymetrix')\n",
    "\n",
    "        except CodingException:\n",
    "            return False\n",
    "\n",
    "class CustomTextPlinkIO(CustomMixin, TextPlinkIO):\n",
    "    pass"
   ]
  },
  {
   "cell_type": "markdown",
   "metadata": {},
   "source": [
    "Get the latest loaded dataset from Guisandesa goats:"
   ]
  },
  {
   "cell_type": "code",
   "execution_count": 3,
   "metadata": {},
   "outputs": [],
   "source": [
    "guisandesa = Dataset.objects.get(file=\"Guisandesa.zip\")\n",
    "plinkio = CustomTextPlinkIO(\n",
    "    prefix=str(guisandesa.working_dir / \"Guisandesa/Guisandesa Goat\"),\n",
    "    species=guisandesa.species,\n",
    "    chip_name=guisandesa.chip_name)\n",
    "plinkio.n_of_individuals = guisandesa.n_of_individuals"
   ]
  },
  {
   "cell_type": "markdown",
   "metadata": {},
   "source": [
    "Start by reading coordinates. Try to determine how many SNPs I have in SMARTER database"
   ]
  },
  {
   "cell_type": "code",
   "execution_count": 4,
   "metadata": {},
   "outputs": [],
   "source": [
    "plinkio.read_mapfile()\n",
    "plinkio.fetch_coordinates(\n",
    "    src_assembly=ARS1,\n",
    "    search_field=\"probeset_id\",\n",
    "    chip_name=guisandesa.chip_name\n",
    ")"
   ]
  },
  {
   "cell_type": "code",
   "execution_count": 5,
   "metadata": {},
   "outputs": [
    {
     "name": "stdout",
     "output_type": "stream",
     "text": [
      "I can retrieve 58854 of 59812 SNPs (1.6% missing)\n"
     ]
    }
   ],
   "source": [
    "snps_found = len(plinkio.mapdata)-len(plinkio.filtered)\n",
    "perc_missing = round(100 - (snps_found / len(plinkio.mapdata) * 100), 2)\n",
    "\n",
    "print(f\"I can retrieve {snps_found} of {len(plinkio.mapdata)} SNPs ({perc_missing}% missing)\")"
   ]
  },
  {
   "cell_type": "markdown",
   "metadata": {},
   "source": [
    "Is this dataset in *top* coordinates?"
   ]
  },
  {
   "cell_type": "code",
   "execution_count": 6,
   "metadata": {},
   "outputs": [
    {
     "data": {
      "application/vnd.jupyter.widget-view+json": {
       "model_id": "12c36628beb54c40a1312ac74d24e3c9",
       "version_major": 2,
       "version_minor": 0
      },
      "text/plain": [
       "  0%|          | 0/96 [00:00<?, ?it/s]"
      ]
     },
     "metadata": {},
     "output_type": "display_data"
    },
    {
     "data": {
      "text/plain": [
       "False"
      ]
     },
     "execution_count": 6,
     "metadata": {},
     "output_type": "execute_result"
    }
   ],
   "source": [
    "plinkio.is_top()"
   ]
  },
  {
   "cell_type": "markdown",
   "metadata": {},
   "source": [
    "Is this file in *affymetrix forward* coordinates?"
   ]
  },
  {
   "cell_type": "code",
   "execution_count": 7,
   "metadata": {},
   "outputs": [
    {
     "data": {
      "application/vnd.jupyter.widget-view+json": {
       "model_id": "be208ae027924004a9c2dcec31626854",
       "version_major": 2,
       "version_minor": 0
      },
      "text/plain": [
       "  0%|          | 0/96 [00:00<?, ?it/s]"
      ]
     },
     "metadata": {},
     "output_type": "display_data"
    },
    {
     "data": {
      "text/plain": [
       "True"
      ]
     },
     "execution_count": 7,
     "metadata": {},
     "output_type": "execute_result"
    }
   ],
   "source": [
    "plinkio.is_affymetrix()"
   ]
  },
  {
   "cell_type": "markdown",
   "metadata": {},
   "source": [
    "The custom affymetrix chip uploaded into database seems to fit this genotype file. Ok now I need to create a metadata file for this dataset"
   ]
  },
  {
   "cell_type": "code",
   "execution_count": 8,
   "metadata": {},
   "outputs": [
    {
     "data": {
      "text/html": [
       "<div>\n",
       "<style scoped>\n",
       "    .dataframe tbody tr th:only-of-type {\n",
       "        vertical-align: middle;\n",
       "    }\n",
       "\n",
       "    .dataframe tbody tr th {\n",
       "        vertical-align: top;\n",
       "    }\n",
       "\n",
       "    .dataframe thead th {\n",
       "        text-align: right;\n",
       "    }\n",
       "</style>\n",
       "<table border=\"1\" class=\"dataframe\">\n",
       "  <thead>\n",
       "    <tr style=\"text-align: right;\">\n",
       "      <th></th>\n",
       "      <th>original_id</th>\n",
       "      <th>latitude</th>\n",
       "      <th>longitude</th>\n",
       "    </tr>\n",
       "  </thead>\n",
       "  <tbody>\n",
       "    <tr>\n",
       "      <th>0</th>\n",
       "      <td>ES080002053909</td>\n",
       "      <td>40.214934</td>\n",
       "      <td>-5.140934</td>\n",
       "    </tr>\n",
       "    <tr>\n",
       "      <th>1</th>\n",
       "      <td>ES080002053911</td>\n",
       "      <td>40.214934</td>\n",
       "      <td>-5.140934</td>\n",
       "    </tr>\n",
       "    <tr>\n",
       "      <th>2</th>\n",
       "      <td>ES080002053912</td>\n",
       "      <td>40.214934</td>\n",
       "      <td>-5.140934</td>\n",
       "    </tr>\n",
       "    <tr>\n",
       "      <th>3</th>\n",
       "      <td>ES080002053913</td>\n",
       "      <td>40.214934</td>\n",
       "      <td>-5.140934</td>\n",
       "    </tr>\n",
       "    <tr>\n",
       "      <th>4</th>\n",
       "      <td>ES080004654590</td>\n",
       "      <td>40.214934</td>\n",
       "      <td>-5.140934</td>\n",
       "    </tr>\n",
       "  </tbody>\n",
       "</table>\n",
       "</div>"
      ],
      "text/plain": [
       "      original_id   latitude  longitude\n",
       "0  ES080002053909  40.214934  -5.140934\n",
       "1  ES080002053911  40.214934  -5.140934\n",
       "2  ES080002053912  40.214934  -5.140934\n",
       "3  ES080002053913  40.214934  -5.140934\n",
       "4  ES080004654590  40.214934  -5.140934"
      ]
     },
     "execution_count": 8,
     "metadata": {},
     "output_type": "execute_result"
    }
   ],
   "source": [
    "metadata = {}\n",
    "metadata[\"original_id\"] = plinkio.get_samples()\n",
    "metadata[\"latitude\"] = [40.2149335] * len(metadata[\"original_id\"])\n",
    "metadata[\"longitude\"] = [-5.1409339] * len(metadata[\"original_id\"])\n",
    "\n",
    "metadata = pd.DataFrame(metadata)\n",
    "metadata.head()"
   ]
  },
  {
   "cell_type": "code",
   "execution_count": 9,
   "metadata": {},
   "outputs": [],
   "source": [
    "outfile = Path(guisandesa.file).stem + \".xlsx\"\n",
    "outpath = get_interim_dir() / outfile\n",
    "metadata.to_excel(str(outpath), index=False)"
   ]
  },
  {
   "cell_type": "code",
   "execution_count": null,
   "metadata": {},
   "outputs": [],
   "source": []
  }
 ],
 "metadata": {
  "kernelspec": {
   "display_name": "Python 3 (ipykernel)",
   "language": "python",
   "name": "python3"
  },
  "language_info": {
   "codemirror_mode": {
    "name": "ipython",
    "version": 3
   },
   "file_extension": ".py",
   "mimetype": "text/x-python",
   "name": "python",
   "nbconvert_exporter": "python",
   "pygments_lexer": "ipython3",
   "version": "3.12.3"
  }
 },
 "nbformat": 4,
 "nbformat_minor": 4
}
