{
 "cells": [
  {
   "cell_type": "markdown",
   "id": "patent-titanium",
   "metadata": {},
   "source": [
    "# Check SNPs data import\n",
    "Try to determine if data importer from SNPchiMp matches with data imported via manifest"
   ]
  },
  {
   "cell_type": "code",
   "execution_count": 1,
   "id": "pediatric-sacramento",
   "metadata": {},
   "outputs": [],
   "source": [
    "from tqdm.notebook import tqdm\n",
    "\n",
    "from src.features.smarterdb import VariantSheep, global_connection, Location\n",
    "\n",
    "conn = global_connection()"
   ]
  },
  {
   "cell_type": "markdown",
   "id": "uniform-shooting",
   "metadata": {},
   "source": [
    "Ok try to determine if SNP is placed in genome or not"
   ]
  },
  {
   "cell_type": "code",
   "execution_count": 2,
   "id": "motivated-necklace",
   "metadata": {},
   "outputs": [],
   "source": [
    "def valid_chrom(location: Location):\n",
    "    if location.chrom in [\"0\", \"99\"]:\n",
    "        return False\n",
    "    else:\n",
    "        return True"
   ]
  },
  {
   "cell_type": "code",
   "execution_count": 3,
   "id": "boxed-clerk",
   "metadata": {},
   "outputs": [
    {
     "data": {
      "application/vnd.jupyter.widget-view+json": {
       "model_id": "ca882c9938e640c99197e7c3ad250c99",
       "version_major": 2,
       "version_minor": 0
      },
      "text/plain": [
       "  0%|          | 0/54241 [00:00<?, ?it/s]"
      ]
     },
     "metadata": {},
     "output_type": "display_data"
    }
   ],
   "source": [
    "qs = VariantSheep.objects.filter(chip_name=\"IlluminaOvineSNP50\")\n",
    "total_variants = qs.count()\n",
    "mismatches = []\n",
    "placed = []\n",
    "for variant in tqdm(qs, total=total_variants):\n",
    "    assert len(variant.locations) == 2\n",
    "    if variant.locations[0] != variant.locations[1]:\n",
    "        mismatches.append(variant)\n",
    "        # are positions meaningful?\n",
    "        if valid_chrom(variant.locations[0]) and valid_chrom(variant.locations[1]):\n",
    "            placed.append(variant)"
   ]
  },
  {
   "cell_type": "markdown",
   "id": "capable-advocacy",
   "metadata": {},
   "source": [
    "How many snps have different coordinates in both snpchimp and manifest?"
   ]
  },
  {
   "cell_type": "code",
   "execution_count": 4,
   "id": "amazing-constitutional",
   "metadata": {},
   "outputs": [
    {
     "data": {
      "text/plain": [
       "6463"
      ]
     },
     "execution_count": 4,
     "metadata": {},
     "output_type": "execute_result"
    }
   ],
   "source": [
    "len(mismatches)"
   ]
  },
  {
   "cell_type": "markdown",
   "id": "lined-inflation",
   "metadata": {},
   "source": [
    "Have such SNPs the same `illumina_top` genotype?"
   ]
  },
  {
   "cell_type": "code",
   "execution_count": 5,
   "id": "direct-wells",
   "metadata": {},
   "outputs": [],
   "source": [
    "for variant in mismatches:\n",
    "    assert variant.locations[0].illumina_top == variant.locations[1].illumina_top"
   ]
  },
  {
   "cell_type": "code",
   "execution_count": null,
   "id": "future-enlargement",
   "metadata": {},
   "outputs": [],
   "source": []
  }
 ],
 "metadata": {
  "kernelspec": {
   "display_name": "Python 3",
   "language": "python",
   "name": "python3"
  },
  "language_info": {
   "codemirror_mode": {
    "name": "ipython",
    "version": 3
   },
   "file_extension": ".py",
   "mimetype": "text/x-python",
   "name": "python",
   "nbconvert_exporter": "python",
   "pygments_lexer": "ipython3",
   "version": "3.9.1"
  }
 },
 "nbformat": 4,
 "nbformat_minor": 5
}
