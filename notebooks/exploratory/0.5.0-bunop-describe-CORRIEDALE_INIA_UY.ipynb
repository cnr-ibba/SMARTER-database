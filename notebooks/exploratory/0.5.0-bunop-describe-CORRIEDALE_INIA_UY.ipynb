{
 "cells": [
  {
   "cell_type": "markdown",
   "id": "subject-hollow",
   "metadata": {},
   "source": [
    "# CORRIEDALE_INIA_UY\n",
    "Describing `CORRIEDALE_INIA_UY.zip` file"
   ]
  },
  {
   "cell_type": "code",
   "execution_count": 1,
   "id": "induced-complaint",
   "metadata": {},
   "outputs": [],
   "source": [
    "import io\n",
    "import itertools\n",
    "\n",
    "from zipfile import ZipFile\n",
    "from pathlib import Path\n",
    "\n",
    "import src.features.illumina"
   ]
  },
  {
   "cell_type": "code",
   "execution_count": 2,
   "id": "diagnostic-tuning",
   "metadata": {},
   "outputs": [],
   "source": [
    "project_dir = Path.cwd().parents[1]\n",
    "datafile = project_dir / \"data/raw/background/CORRIEDALE_INIA_UY.zip\""
   ]
  },
  {
   "cell_type": "markdown",
   "id": "passive-preview",
   "metadata": {},
   "source": [
    "Esploring Dataset and try to get coordinate version"
   ]
  },
  {
   "cell_type": "code",
   "execution_count": 3,
   "id": "noble-emperor",
   "metadata": {},
   "outputs": [
    {
     "name": "stdout",
     "output_type": "stream",
     "text": [
      "File Name                                             Modified             Size\n",
      "CORRIEDALE_UY_60_INIA_Ovine_14sep2010.ped      2020-12-09 17:21:00     13019391\n",
      "CORRIEDALE_UY_60_INIA_Ovine_14sep2010.map      2020-12-09 17:21:04      1502260\n",
      "INIA_Ovine_14sep2010_FinalReport.txt           2020-12-03 14:13:08    159645949\n",
      "INIA_Ovine_SNP_Map_14sep2010.txt               2020-12-03 14:13:28      3012148\n"
     ]
    }
   ],
   "source": [
    "handle = ZipFile(datafile)\n",
    "handle.printdir()"
   ]
  },
  {
   "cell_type": "code",
   "execution_count": 4,
   "id": "cloudy-phone",
   "metadata": {},
   "outputs": [
    {
     "name": "stdout",
     "output_type": "stream",
     "text": [
      "[Header]\n",
      "GSGT Version\t1.6.3\n",
      "Processing Date\t9/15/2010 10:56 AM\n",
      "Content\t\tOvineSNP50_B.bpm\n",
      "Num SNPs\t54241\n",
      "Total SNPs\t54241\n",
      "Num Samples\t60\n",
      "Total Samples\t60\n",
      "[Data]\n",
      "SNP Name\tSample ID\tAllele1 - Forward\tAllele2 - Forward\tAllele1 - Top\tAllele2 - Top\tAllele2 - AB\tAllele1 - AB\tGC Score\tX\tY\n",
      "250506CS3900065000002_1238.1\t1\tC\tC\tG\tG\tB\tB\t0.9239\t0.019\t0.949\n"
     ]
    }
   ],
   "source": [
    "with io.TextIOWrapper(handle.open(\"INIA_Ovine_14sep2010_FinalReport.txt\"), encoding=\"utf-8\") as f:\n",
    "    for line in itertools.islice(f, 11):\n",
    "        print(line.strip())"
   ]
  },
  {
   "cell_type": "code",
   "execution_count": 5,
   "id": "interracial-following",
   "metadata": {},
   "outputs": [],
   "source": [
    "data_coordinates = dict()\n",
    "with io.TextIOWrapper(handle.open(\"CORRIEDALE_UY_60_INIA_Ovine_14sep2010.map\"), encoding=\"utf-8\") as f:\n",
    "    for record in f:\n",
    "        record = record.split()\n",
    "        data_coordinates[record[1]] = (record[0], int(record[3]))"
   ]
  },
  {
   "cell_type": "markdown",
   "id": "impressed-jordan",
   "metadata": {},
   "source": [
    "Seems to be the old (pre oarv3) system. Check with the oldest chip I have"
   ]
  },
  {
   "cell_type": "code",
   "execution_count": 6,
   "id": "moderate-mauritius",
   "metadata": {},
   "outputs": [],
   "source": [
    "chip_dir = project_dir / \"data/external/SHE/ILLUMINA/\"\n",
    "old_chip3_file = chip_dir / \"ovinesnp50_b.csv\"\n",
    "old_chip3 = dict()\n",
    "for record in src.features.illumina.read_snpChip(old_chip3_file):\n",
    "    old_chip3[record.name] = (record.chr, record.mapinfo)"
   ]
  },
  {
   "cell_type": "code",
   "execution_count": 7,
   "id": "rapid-alpha",
   "metadata": {},
   "outputs": [
    {
     "name": "stdout",
     "output_type": "stream",
     "text": [
      "s17862.1 ('Contig', 0) ('CONTIG', 0)\n",
      "\n",
      "N of SNPs in different positions in coordiedale and old chip3: 1\n",
      "\n",
      "N of missing SNPs in corriedale: 0\n"
     ]
    }
   ],
   "source": [
    "count = 0\n",
    "missing = 0\n",
    "\n",
    "for key, value in old_chip3.items():\n",
    "    if not key in data_coordinates:\n",
    "        missing += 1\n",
    "        continue\n",
    "        \n",
    "    if value != data_coordinates[key]:\n",
    "        count += 1\n",
    "        print(key, value, data_coordinates[key])\n",
    "        \n",
    "print(f\"\\nN of SNPs in different positions in coordiedale and old chip3: {count}\")\n",
    "print(f\"\\nN of missing SNPs in corriedale: {missing}\")"
   ]
  },
  {
   "cell_type": "markdown",
   "id": "motivated-generic",
   "metadata": {},
   "source": [
    "This dataset seems to have all the 50K SNP in the old reference system"
   ]
  }
 ],
 "metadata": {
  "kernelspec": {
   "display_name": "Python 3",
   "language": "python",
   "name": "python3"
  },
  "language_info": {
   "codemirror_mode": {
    "name": "ipython",
    "version": 3
   },
   "file_extension": ".py",
   "mimetype": "text/x-python",
   "name": "python",
   "nbconvert_exporter": "python",
   "pygments_lexer": "ipython3",
   "version": "3.9.1"
  }
 },
 "nbformat": 4,
 "nbformat_minor": 5
}
