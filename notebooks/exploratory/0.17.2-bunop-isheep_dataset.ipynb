{
 "cells": [
  {
   "cell_type": "markdown",
   "id": "17d31879-3132-4e3d-8ec0-025f3254540c",
   "metadata": {},
   "source": [
    "# ISHEEP dataset\n",
    "Attempt to explore the ISHEEP dataset to understand if it can be imported into *SMARTER-database*"
   ]
  },
  {
   "cell_type": "code",
   "execution_count": 1,
   "id": "82b25d5e-c783-460e-b85e-e86f18e06141",
   "metadata": {},
   "outputs": [],
   "source": [
    "import re\n",
    "import functools\n",
    "import requests\n",
    "from pathlib import Path\n",
    "\n",
    "import pandas as pd\n",
    "from plinkio import plinkfile\n",
    "from tqdm.notebook import tqdm\n",
    "from geopy.geocoders import Nominatim\n",
    "\n",
    "from src.features.utils import get_project_dir"
   ]
  },
  {
   "cell_type": "markdown",
   "id": "87799699-7251-436e-ba88-231b75cb2428",
   "metadata": {},
   "source": [
    "Define some useful functions:"
   ]
  },
  {
   "cell_type": "code",
   "execution_count": 2,
   "id": "b1d9668e-199e-4060-846f-9c540156afb7",
   "metadata": {},
   "outputs": [],
   "source": [
    "geolocator = Nominatim(user_agent=\"SMARTER-database\")\n",
    "isheep_data_path = get_project_dir() / \"data/external/SHE/ISHEEP\"\n",
    "\n",
    "\n",
    "@functools.cache\n",
    "def get_location(sample_location):\n",
    "    location = geolocator.geocode(sample_location)\n",
    "    \n",
    "    if not location:\n",
    "        return None, None, None\n",
    "        \n",
    "    return location.address, location.latitude, location.longitude\n",
    "\n",
    "\n",
    "# https://stackoverflow.com/a/20558779\n",
    "def stripNone(data):\n",
    "    if isinstance(data, dict):\n",
    "        return {k:stripNone(v) for k, v in data.items() if k is not None and v is not None}\n",
    "    elif isinstance(data, list):\n",
    "        return [stripNone(item) for item in data if item is not None]\n",
    "    elif isinstance(data, tuple):\n",
    "        return tuple(stripNone(item) for item in data if item is not None)\n",
    "    elif isinstance(data, set):\n",
    "        return {stripNone(item) for item in data if item is not None}\n",
    "    else:\n",
    "        return data\n",
    "\n",
    "    \n",
    "@functools.cache\n",
    "def fetch_cncb_biosample(biosample_id: str):\n",
    "    response = requests.get(f\"https://ngdc.cncb.ac.cn/gwh/api/public/bioSample/{biosample_id}\")\n",
    "    \n",
    "    if response.status_code != 200:\n",
    "        return None\n",
    "    \n",
    "    data = response.json()\n",
    "    data = stripNone(data)\n",
    "    \n",
    "    if \"submitter\" in data:\n",
    "        _ = data.pop(\"submitter\")\n",
    "    \n",
    "    if \"taxon\" in data:\n",
    "        _ = data.pop(\"taxon\")\n",
    "    \n",
    "    return data\n",
    "\n",
    "@functools.cache\n",
    "def fetch_cncb_bioproject(bioproject_id):\n",
    "    response = requests.get(f\"https://ngdc.cncb.ac.cn/gwh/api/public/bioProject/{bioproject_id}\")\n",
    "    \n",
    "    if response.status_code != 200:\n",
    "        return None\n",
    "    \n",
    "    data = response.json()\n",
    "    data = stripNone(data)\n",
    "    \n",
    "    return data"
   ]
  },
  {
   "cell_type": "markdown",
   "id": "a599bb14-d5ae-45e5-a928-6ea14d697237",
   "metadata": {},
   "source": [
    "Read all data from *ISHEEP dataset*"
   ]
  },
  {
   "cell_type": "code",
   "execution_count": 3,
   "id": "e4e09ec3-7ece-4709-b3a4-5e585feddc78",
   "metadata": {},
   "outputs": [],
   "source": [
    "tablefile = str(isheep_data_path / \"isheep_refined.xlsx\")\n",
    "metadata = pd.read_excel(tablefile, sheet_name=0)"
   ]
  },
  {
   "cell_type": "code",
   "execution_count": 4,
   "id": "b33d2f09-e178-4fd4-baf7-4f135541dc4e",
   "metadata": {},
   "outputs": [
    {
     "data": {
      "text/html": [
       "<div>\n",
       "<style scoped>\n",
       "    .dataframe tbody tr th:only-of-type {\n",
       "        vertical-align: middle;\n",
       "    }\n",
       "\n",
       "    .dataframe tbody tr th {\n",
       "        vertical-align: top;\n",
       "    }\n",
       "\n",
       "    .dataframe thead th {\n",
       "        text-align: right;\n",
       "    }\n",
       "</style>\n",
       "<table border=\"1\" class=\"dataframe\">\n",
       "  <thead>\n",
       "    <tr style=\"text-align: right;\">\n",
       "      <th></th>\n",
       "      <th>Sample ID</th>\n",
       "      <th>Biosample ID</th>\n",
       "      <th>Bioproject ID</th>\n",
       "      <th>Species</th>\n",
       "      <th>Breed</th>\n",
       "      <th>Sex</th>\n",
       "      <th>Sample location</th>\n",
       "      <th>Material</th>\n",
       "      <th>Technology</th>\n",
       "      <th>Assay type</th>\n",
       "      <th>Coverage</th>\n",
       "      <th>data resource</th>\n",
       "    </tr>\n",
       "  </thead>\n",
       "  <tbody>\n",
       "    <tr>\n",
       "      <th>0</th>\n",
       "      <td>AUMEHM01</td>\n",
       "      <td>ERS1460923</td>\n",
       "      <td>SRP078481</td>\n",
       "      <td>Ovis aries</td>\n",
       "      <td>Merino Horned</td>\n",
       "      <td>Male</td>\n",
       "      <td>Oceania,Australia</td>\n",
       "      <td>Semen</td>\n",
       "      <td>Illumina HiSeq 2500</td>\n",
       "      <td>WGS</td>\n",
       "      <td>14.95</td>\n",
       "      <td>GVM</td>\n",
       "    </tr>\n",
       "    <tr>\n",
       "      <th>1</th>\n",
       "      <td>AUMEHM02</td>\n",
       "      <td>ERS1460904</td>\n",
       "      <td>SRP078481</td>\n",
       "      <td>Ovis aries</td>\n",
       "      <td>Merino Horned</td>\n",
       "      <td>Male</td>\n",
       "      <td>Oceania,Australia</td>\n",
       "      <td>Semen</td>\n",
       "      <td>Illumina HiSeq 2500</td>\n",
       "      <td>WGS</td>\n",
       "      <td>16.87</td>\n",
       "      <td>GVM</td>\n",
       "    </tr>\n",
       "    <tr>\n",
       "      <th>2</th>\n",
       "      <td>AUMEHM03</td>\n",
       "      <td>ERS1460978</td>\n",
       "      <td>SRP078481</td>\n",
       "      <td>Ovis aries</td>\n",
       "      <td>Merino Horned</td>\n",
       "      <td>Male</td>\n",
       "      <td>Oceania,Australia</td>\n",
       "      <td>Semen</td>\n",
       "      <td>Illumina HiSeq 2500</td>\n",
       "      <td>WGS</td>\n",
       "      <td>16.42</td>\n",
       "      <td>GVM</td>\n",
       "    </tr>\n",
       "    <tr>\n",
       "      <th>3</th>\n",
       "      <td>AUMEHM04</td>\n",
       "      <td>ERS1461020</td>\n",
       "      <td>SRP078481</td>\n",
       "      <td>Ovis aries</td>\n",
       "      <td>Merino Horned</td>\n",
       "      <td>Male</td>\n",
       "      <td>Oceania,Australia</td>\n",
       "      <td>Semen</td>\n",
       "      <td>Illumina HiSeq 2500</td>\n",
       "      <td>WGS</td>\n",
       "      <td>16.45</td>\n",
       "      <td>GVM</td>\n",
       "    </tr>\n",
       "    <tr>\n",
       "      <th>4</th>\n",
       "      <td>AUMEPM05</td>\n",
       "      <td>ERS1461055</td>\n",
       "      <td>SRP078481</td>\n",
       "      <td>Ovis aries</td>\n",
       "      <td>Merino Polled</td>\n",
       "      <td>Male</td>\n",
       "      <td>Oceania,Australia</td>\n",
       "      <td>Semen</td>\n",
       "      <td>Illumina HiSeq 2500</td>\n",
       "      <td>WGS</td>\n",
       "      <td>14.46</td>\n",
       "      <td>GVM</td>\n",
       "    </tr>\n",
       "  </tbody>\n",
       "</table>\n",
       "</div>"
      ],
      "text/plain": [
       "  Sample ID Biosample ID Bioproject ID     Species          Breed   Sex  \\\n",
       "0  AUMEHM01   ERS1460923     SRP078481  Ovis aries  Merino Horned  Male   \n",
       "1  AUMEHM02   ERS1460904     SRP078481  Ovis aries  Merino Horned  Male   \n",
       "2  AUMEHM03   ERS1460978     SRP078481  Ovis aries  Merino Horned  Male   \n",
       "3  AUMEHM04   ERS1461020     SRP078481  Ovis aries  Merino Horned  Male   \n",
       "4  AUMEPM05   ERS1461055     SRP078481  Ovis aries  Merino Polled  Male   \n",
       "\n",
       "     Sample location Material           Technology Assay type Coverage  \\\n",
       "0  Oceania,Australia    Semen  Illumina HiSeq 2500        WGS    14.95   \n",
       "1  Oceania,Australia    Semen  Illumina HiSeq 2500        WGS    16.87   \n",
       "2  Oceania,Australia    Semen  Illumina HiSeq 2500        WGS    16.42   \n",
       "3  Oceania,Australia    Semen  Illumina HiSeq 2500        WGS    16.45   \n",
       "4  Oceania,Australia    Semen  Illumina HiSeq 2500        WGS    14.46   \n",
       "\n",
       "  data resource  \n",
       "0           GVM  \n",
       "1           GVM  \n",
       "2           GVM  \n",
       "3           GVM  \n",
       "4           GVM  "
      ]
     },
     "execution_count": 4,
     "metadata": {},
     "output_type": "execute_result"
    }
   ],
   "source": [
    "metadata.head()"
   ]
  },
  {
   "cell_type": "markdown",
   "id": "65a2c58b-843b-4b5b-85b8-70a4335f4012",
   "metadata": {},
   "source": [
    "Those are the different data types present in the isheep dataset"
   ]
  },
  {
   "cell_type": "code",
   "execution_count": 5,
   "id": "7e791446-e544-4d15-a679-be157c26bfda",
   "metadata": {},
   "outputs": [
    {
     "data": {
      "text/plain": [
       "array(['WGS', '50K chip', '600K chip'], dtype=object)"
      ]
     },
     "execution_count": 5,
     "metadata": {},
     "output_type": "execute_result"
    }
   ],
   "source": [
    "metadata[\"Assay type\"].unique()"
   ]
  },
  {
   "cell_type": "markdown",
   "id": "dcb4534e-2520-40a4-abd3-e98627f16890",
   "metadata": {},
   "source": [
    "# 50K data\n",
    "ok, let's subset the 50k dataset"
   ]
  },
  {
   "cell_type": "code",
   "execution_count": 6,
   "id": "aa8387a6-793b-4c8e-a838-d953bda0cdff",
   "metadata": {},
   "outputs": [],
   "source": [
    "isheep_50K = metadata[metadata[\"Assay type\"] == \"50K chip\"].copy()"
   ]
  },
  {
   "cell_type": "code",
   "execution_count": 7,
   "id": "c06cbdd5-fd64-43a9-8d15-f5f046d2368a",
   "metadata": {},
   "outputs": [
    {
     "name": "stdout",
     "output_type": "stream",
     "text": [
      "<class 'pandas.core.frame.DataFrame'>\n",
      "Int64Index: 1512 entries, 355 to 1866\n",
      "Data columns (total 12 columns):\n",
      " #   Column           Non-Null Count  Dtype \n",
      "---  ------           --------------  ----- \n",
      " 0   Sample ID        1512 non-null   object\n",
      " 1   Biosample ID     1512 non-null   object\n",
      " 2   Bioproject ID    1512 non-null   object\n",
      " 3   Species          1512 non-null   object\n",
      " 4   Breed            1512 non-null   object\n",
      " 5   Sex              419 non-null    object\n",
      " 6   Sample location  1512 non-null   object\n",
      " 7   Material         710 non-null    object\n",
      " 8   Technology       1512 non-null   object\n",
      " 9   Assay type       1512 non-null   object\n",
      " 10  Coverage         0 non-null      object\n",
      " 11  data resource    1512 non-null   object\n",
      "dtypes: object(12)\n",
      "memory usage: 153.6+ KB\n"
     ]
    }
   ],
   "source": [
    "isheep_50K.info()"
   ]
  },
  {
   "cell_type": "code",
   "execution_count": 8,
   "id": "7d929ef7-a44c-4db2-a928-16ada809c911",
   "metadata": {},
   "outputs": [
    {
     "data": {
      "text/html": [
       "<div>\n",
       "<style scoped>\n",
       "    .dataframe tbody tr th:only-of-type {\n",
       "        vertical-align: middle;\n",
       "    }\n",
       "\n",
       "    .dataframe tbody tr th {\n",
       "        vertical-align: top;\n",
       "    }\n",
       "\n",
       "    .dataframe thead th {\n",
       "        text-align: right;\n",
       "    }\n",
       "</style>\n",
       "<table border=\"1\" class=\"dataframe\">\n",
       "  <thead>\n",
       "    <tr style=\"text-align: right;\">\n",
       "      <th></th>\n",
       "      <th>Sample ID</th>\n",
       "      <th>Biosample ID</th>\n",
       "      <th>Bioproject ID</th>\n",
       "      <th>Species</th>\n",
       "      <th>Breed</th>\n",
       "      <th>Sex</th>\n",
       "      <th>Sample location</th>\n",
       "      <th>Material</th>\n",
       "      <th>Technology</th>\n",
       "      <th>Assay type</th>\n",
       "      <th>Coverage</th>\n",
       "      <th>data resource</th>\n",
       "    </tr>\n",
       "  </thead>\n",
       "  <tbody>\n",
       "    <tr>\n",
       "      <th>355</th>\n",
       "      <td>ARG10</td>\n",
       "      <td>SAMC060792</td>\n",
       "      <td>PRJCA001252</td>\n",
       "      <td>Ovis ammon</td>\n",
       "      <td>Argali</td>\n",
       "      <td>NaN</td>\n",
       "      <td>Xinjiang, China</td>\n",
       "      <td>Ear</td>\n",
       "      <td>Illumina Ovine SNP50K (54,241 SNPs) BeadChip</td>\n",
       "      <td>50K chip</td>\n",
       "      <td>NaN</td>\n",
       "      <td>Zhao et al., 2017</td>\n",
       "    </tr>\n",
       "    <tr>\n",
       "      <th>356</th>\n",
       "      <td>ARG11</td>\n",
       "      <td>SAMC060793</td>\n",
       "      <td>PRJCA001252</td>\n",
       "      <td>Ovis ammon</td>\n",
       "      <td>Argali</td>\n",
       "      <td>NaN</td>\n",
       "      <td>Xinjiang, China</td>\n",
       "      <td>Ear</td>\n",
       "      <td>Illumina Ovine SNP50K (54,241 SNPs) BeadChip</td>\n",
       "      <td>50K chip</td>\n",
       "      <td>NaN</td>\n",
       "      <td>Zhao et al., 2017</td>\n",
       "    </tr>\n",
       "    <tr>\n",
       "      <th>357</th>\n",
       "      <td>ARG9</td>\n",
       "      <td>SAMC060794</td>\n",
       "      <td>PRJCA001252</td>\n",
       "      <td>Ovis ammon</td>\n",
       "      <td>Argali</td>\n",
       "      <td>NaN</td>\n",
       "      <td>Xinjiang, China</td>\n",
       "      <td>Ear</td>\n",
       "      <td>Illumina Ovine SNP50K (54,241 SNPs) BeadChip</td>\n",
       "      <td>50K chip</td>\n",
       "      <td>NaN</td>\n",
       "      <td>Zhao et al., 2017</td>\n",
       "    </tr>\n",
       "    <tr>\n",
       "      <th>358</th>\n",
       "      <td>ARG6</td>\n",
       "      <td>SAMC060795</td>\n",
       "      <td>PRJCA001252</td>\n",
       "      <td>Ovis ammon</td>\n",
       "      <td>Argali</td>\n",
       "      <td>NaN</td>\n",
       "      <td>Xinjiang, China</td>\n",
       "      <td>Ear</td>\n",
       "      <td>Illumina Ovine SNP50K (54,241 SNPs) BeadChip</td>\n",
       "      <td>50K chip</td>\n",
       "      <td>NaN</td>\n",
       "      <td>Zhao et al., 2017</td>\n",
       "    </tr>\n",
       "    <tr>\n",
       "      <th>359</th>\n",
       "      <td>ARG8</td>\n",
       "      <td>SAMC060796</td>\n",
       "      <td>PRJCA001252</td>\n",
       "      <td>Ovis ammon</td>\n",
       "      <td>Argali</td>\n",
       "      <td>NaN</td>\n",
       "      <td>Xinjiang, China</td>\n",
       "      <td>Ear</td>\n",
       "      <td>Illumina Ovine SNP50K (54,241 SNPs) BeadChip</td>\n",
       "      <td>50K chip</td>\n",
       "      <td>NaN</td>\n",
       "      <td>Zhao et al., 2017</td>\n",
       "    </tr>\n",
       "  </tbody>\n",
       "</table>\n",
       "</div>"
      ],
      "text/plain": [
       "    Sample ID Biosample ID Bioproject ID     Species   Breed  Sex  \\\n",
       "355     ARG10   SAMC060792   PRJCA001252  Ovis ammon  Argali  NaN   \n",
       "356     ARG11   SAMC060793   PRJCA001252  Ovis ammon  Argali  NaN   \n",
       "357      ARG9   SAMC060794   PRJCA001252  Ovis ammon  Argali  NaN   \n",
       "358      ARG6   SAMC060795   PRJCA001252  Ovis ammon  Argali  NaN   \n",
       "359      ARG8   SAMC060796   PRJCA001252  Ovis ammon  Argali  NaN   \n",
       "\n",
       "     Sample location Material                                    Technology  \\\n",
       "355  Xinjiang, China      Ear  Illumina Ovine SNP50K (54,241 SNPs) BeadChip   \n",
       "356  Xinjiang, China      Ear  Illumina Ovine SNP50K (54,241 SNPs) BeadChip   \n",
       "357  Xinjiang, China      Ear  Illumina Ovine SNP50K (54,241 SNPs) BeadChip   \n",
       "358  Xinjiang, China      Ear  Illumina Ovine SNP50K (54,241 SNPs) BeadChip   \n",
       "359  Xinjiang, China      Ear  Illumina Ovine SNP50K (54,241 SNPs) BeadChip   \n",
       "\n",
       "    Assay type Coverage      data resource  \n",
       "355   50K chip      NaN  Zhao et al., 2017  \n",
       "356   50K chip      NaN  Zhao et al., 2017  \n",
       "357   50K chip      NaN  Zhao et al., 2017  \n",
       "358   50K chip      NaN  Zhao et al., 2017  \n",
       "359   50K chip      NaN  Zhao et al., 2017  "
      ]
     },
     "execution_count": 8,
     "metadata": {},
     "output_type": "execute_result"
    }
   ],
   "source": [
    "isheep_50K.head()"
   ]
  },
  {
   "cell_type": "markdown",
   "id": "7dbafe2d-5599-4343-8fba-00550fac6331",
   "metadata": {},
   "source": [
    "There are species different from *Ovis Aries* in dataset"
   ]
  },
  {
   "cell_type": "code",
   "execution_count": 9,
   "id": "09a7852f-8212-41d9-b604-65047e3250e9",
   "metadata": {},
   "outputs": [
    {
     "data": {
      "text/plain": [
       "array(['Ovis ammon', 'Ovis orientalis', 'Ovis aries'], dtype=object)"
      ]
     },
     "execution_count": 9,
     "metadata": {},
     "output_type": "execute_result"
    }
   ],
   "source": [
    "isheep_50K[\"Species\"].unique()"
   ]
  },
  {
   "cell_type": "markdown",
   "id": "62213ef5-385a-4b67-82f1-5e55618af06b",
   "metadata": {},
   "source": [
    "Get the different *breeds* from dataset. This dataset was modified with [OpenRefine](https://openrefine.org/)"
   ]
  },
  {
   "cell_type": "code",
   "execution_count": 10,
   "id": "ed3db845-5ad1-4ff7-ba5e-299b16f6678d",
   "metadata": {},
   "outputs": [
    {
     "data": {
      "text/plain": [
       "array(['Argali', 'Mouflon', 'Baerchuke', 'Bashbay', 'Celei black',\n",
       "       'Diqing', 'Guide Black Fur', 'Guangling fat-tail', 'Hulun Buir',\n",
       "       'Hetian', 'Hanzhong', 'Jingzhong', 'Kirghiz',\n",
       "       'Lanzhou Large-tailed', 'Lop', 'Luzhong Mountain',\n",
       "       'Minxian Black Fur', 'Ninglang Black', 'Sunite', 'Shiping Gray',\n",
       "       'Tan', 'Tengchong', 'Taihang Fur', 'Turfan Black', 'Tong',\n",
       "       'Tashkurgan', 'Lanping Black-bone', 'Weining', 'Wuranke',\n",
       "       'Ujimqin', 'Yecheng', 'Yuxi Fat-tailed', 'Zhaotong', 'Altay',\n",
       "       'Bayinbuluke', 'Tibetan', 'Duolang', 'Kazakh'], dtype=object)"
      ]
     },
     "execution_count": 10,
     "metadata": {},
     "output_type": "execute_result"
    }
   ],
   "source": [
    "isheep_50K[\"Breed\"].unique()"
   ]
  },
  {
   "cell_type": "markdown",
   "id": "b6623901-7040-4705-a0c7-8159181ccbb8",
   "metadata": {},
   "source": [
    "Try to collect data from CNCB biosample or load data from file"
   ]
  },
  {
   "cell_type": "code",
   "execution_count": 11,
   "id": "b6317890-ac29-4029-8237-459f5ab23d2e",
   "metadata": {},
   "outputs": [],
   "source": [
    "biosample_pkl = isheep_data_path / \"isheep_50K_biosample.pkl\"\n",
    "\n",
    "if (biosample_pkl).exists():\n",
    "    isheep_50K_biosample = pd.read_pickle(biosample_pkl)\n",
    "else:\n",
    "    biosample_data = [fetch_cncb_biosample(biosample_id) for biosample_id in tqdm(isheep_50K[\"Biosample ID\"])]\n",
    "    isheep_50K_biosample = pd.json_normalize(biosample_data)\n",
    "    isheep_50K_biosample.to_pickle(biosample_pkl)\n",
    "    isheep_50K_biosample.to_excel(str(isheep_data_path / \"isheep_50K_biosample.xlsx\"))"
   ]
  },
  {
   "cell_type": "code",
   "execution_count": 12,
   "id": "33972583-8d0f-4949-8f82-b2bd76ba4f2d",
   "metadata": {},
   "outputs": [
    {
     "data": {
      "text/html": [
       "<div>\n",
       "<style scoped>\n",
       "    .dataframe tbody tr th:only-of-type {\n",
       "        vertical-align: middle;\n",
       "    }\n",
       "\n",
       "    .dataframe tbody tr th {\n",
       "        vertical-align: top;\n",
       "    }\n",
       "\n",
       "    .dataframe thead th {\n",
       "        text-align: right;\n",
       "    }\n",
       "</style>\n",
       "<table border=\"1\" class=\"dataframe\">\n",
       "  <thead>\n",
       "    <tr style=\"text-align: right;\">\n",
       "      <th></th>\n",
       "      <th>accession</th>\n",
       "      <th>message</th>\n",
       "      <th>name</th>\n",
       "      <th>sampleId</th>\n",
       "      <th>title</th>\n",
       "      <th>userId</th>\n",
       "      <th>sampleAttribute.attributeId</th>\n",
       "      <th>sampleAttribute.biomaterialProvider</th>\n",
       "      <th>sampleAttribute.breed</th>\n",
       "      <th>sampleAttribute.sample.sampleId</th>\n",
       "      <th>sampleAttribute.sex</th>\n",
       "      <th>sampleAttribute.taxon.name</th>\n",
       "      <th>sampleAttribute.taxon.taxonId</th>\n",
       "      <th>sampleAttribute.tissue</th>\n",
       "      <th>sampletype.attributeTable</th>\n",
       "      <th>sampletype.sampleTypeId</th>\n",
       "      <th>sampletype.sampleTypeName</th>\n",
       "      <th>sampleAttribute.birthLocation</th>\n",
       "      <th>sampleAttribute.geographicLocation</th>\n",
       "    </tr>\n",
       "  </thead>\n",
       "  <tbody>\n",
       "    <tr>\n",
       "      <th>0</th>\n",
       "      <td>SAMC060792</td>\n",
       "      <td>SUCCESS</td>\n",
       "      <td>ARG10</td>\n",
       "      <td>63830</td>\n",
       "      <td>we get the Illumina Ovine SNP50K BeadChip from...</td>\n",
       "      <td>987</td>\n",
       "      <td>8594</td>\n",
       "      <td>Genomics and Animal Breeding Research Group, C...</td>\n",
       "      <td>Argali (Ovis ammon)</td>\n",
       "      <td>63830</td>\n",
       "      <td>6</td>\n",
       "      <td>Ovis ammon</td>\n",
       "      <td>30527</td>\n",
       "      <td>Ear</td>\n",
       "      <td>sample_attr_model_animal</td>\n",
       "      <td>4</td>\n",
       "      <td>Model organism or animal sample</td>\n",
       "      <td>NaN</td>\n",
       "      <td>NaN</td>\n",
       "    </tr>\n",
       "    <tr>\n",
       "      <th>1</th>\n",
       "      <td>SAMC060793</td>\n",
       "      <td>SUCCESS</td>\n",
       "      <td>ARG11</td>\n",
       "      <td>63831</td>\n",
       "      <td>we get the Illumina Ovine SNP50K BeadChip from...</td>\n",
       "      <td>987</td>\n",
       "      <td>8595</td>\n",
       "      <td>Genomics and Animal Breeding Research Group, C...</td>\n",
       "      <td>Argali (Ovis ammon)</td>\n",
       "      <td>63831</td>\n",
       "      <td>6</td>\n",
       "      <td>Ovis ammon</td>\n",
       "      <td>30527</td>\n",
       "      <td>Ear</td>\n",
       "      <td>sample_attr_model_animal</td>\n",
       "      <td>4</td>\n",
       "      <td>Model organism or animal sample</td>\n",
       "      <td>NaN</td>\n",
       "      <td>NaN</td>\n",
       "    </tr>\n",
       "    <tr>\n",
       "      <th>2</th>\n",
       "      <td>SAMC060794</td>\n",
       "      <td>SUCCESS</td>\n",
       "      <td>ARG9</td>\n",
       "      <td>63832</td>\n",
       "      <td>we get the Illumina Ovine SNP50K BeadChip from...</td>\n",
       "      <td>987</td>\n",
       "      <td>8596</td>\n",
       "      <td>Genomics and Animal Breeding Research Group, C...</td>\n",
       "      <td>Argali (Ovis ammon)</td>\n",
       "      <td>63832</td>\n",
       "      <td>6</td>\n",
       "      <td>Ovis ammon</td>\n",
       "      <td>30527</td>\n",
       "      <td>Ear</td>\n",
       "      <td>sample_attr_model_animal</td>\n",
       "      <td>4</td>\n",
       "      <td>Model organism or animal sample</td>\n",
       "      <td>NaN</td>\n",
       "      <td>NaN</td>\n",
       "    </tr>\n",
       "    <tr>\n",
       "      <th>3</th>\n",
       "      <td>SAMC060795</td>\n",
       "      <td>SUCCESS</td>\n",
       "      <td>ARG6</td>\n",
       "      <td>63833</td>\n",
       "      <td>we get the Illumina Ovine SNP50K BeadChip from...</td>\n",
       "      <td>987</td>\n",
       "      <td>8597</td>\n",
       "      <td>Genomics and Animal Breeding Research Group, C...</td>\n",
       "      <td>Argali (Ovis ammon)</td>\n",
       "      <td>63833</td>\n",
       "      <td>6</td>\n",
       "      <td>Ovis ammon</td>\n",
       "      <td>30527</td>\n",
       "      <td>Ear</td>\n",
       "      <td>sample_attr_model_animal</td>\n",
       "      <td>4</td>\n",
       "      <td>Model organism or animal sample</td>\n",
       "      <td>NaN</td>\n",
       "      <td>NaN</td>\n",
       "    </tr>\n",
       "    <tr>\n",
       "      <th>4</th>\n",
       "      <td>SAMC060796</td>\n",
       "      <td>SUCCESS</td>\n",
       "      <td>ARG8</td>\n",
       "      <td>63834</td>\n",
       "      <td>we get the Illumina Ovine SNP50K BeadChip from...</td>\n",
       "      <td>987</td>\n",
       "      <td>8598</td>\n",
       "      <td>Genomics and Animal Breeding Research Group, C...</td>\n",
       "      <td>Argali (Ovis ammon)</td>\n",
       "      <td>63834</td>\n",
       "      <td>6</td>\n",
       "      <td>Ovis ammon</td>\n",
       "      <td>30527</td>\n",
       "      <td>Ear</td>\n",
       "      <td>sample_attr_model_animal</td>\n",
       "      <td>4</td>\n",
       "      <td>Model organism or animal sample</td>\n",
       "      <td>NaN</td>\n",
       "      <td>NaN</td>\n",
       "    </tr>\n",
       "  </tbody>\n",
       "</table>\n",
       "</div>"
      ],
      "text/plain": [
       "    accession  message   name  sampleId  \\\n",
       "0  SAMC060792  SUCCESS  ARG10     63830   \n",
       "1  SAMC060793  SUCCESS  ARG11     63831   \n",
       "2  SAMC060794  SUCCESS   ARG9     63832   \n",
       "3  SAMC060795  SUCCESS   ARG6     63833   \n",
       "4  SAMC060796  SUCCESS   ARG8     63834   \n",
       "\n",
       "                                               title  userId  \\\n",
       "0  we get the Illumina Ovine SNP50K BeadChip from...     987   \n",
       "1  we get the Illumina Ovine SNP50K BeadChip from...     987   \n",
       "2  we get the Illumina Ovine SNP50K BeadChip from...     987   \n",
       "3  we get the Illumina Ovine SNP50K BeadChip from...     987   \n",
       "4  we get the Illumina Ovine SNP50K BeadChip from...     987   \n",
       "\n",
       "   sampleAttribute.attributeId  \\\n",
       "0                         8594   \n",
       "1                         8595   \n",
       "2                         8596   \n",
       "3                         8597   \n",
       "4                         8598   \n",
       "\n",
       "                 sampleAttribute.biomaterialProvider sampleAttribute.breed  \\\n",
       "0  Genomics and Animal Breeding Research Group, C...   Argali (Ovis ammon)   \n",
       "1  Genomics and Animal Breeding Research Group, C...   Argali (Ovis ammon)   \n",
       "2  Genomics and Animal Breeding Research Group, C...   Argali (Ovis ammon)   \n",
       "3  Genomics and Animal Breeding Research Group, C...   Argali (Ovis ammon)   \n",
       "4  Genomics and Animal Breeding Research Group, C...   Argali (Ovis ammon)   \n",
       "\n",
       "   sampleAttribute.sample.sampleId  sampleAttribute.sex  \\\n",
       "0                            63830                    6   \n",
       "1                            63831                    6   \n",
       "2                            63832                    6   \n",
       "3                            63833                    6   \n",
       "4                            63834                    6   \n",
       "\n",
       "  sampleAttribute.taxon.name  sampleAttribute.taxon.taxonId  \\\n",
       "0                 Ovis ammon                          30527   \n",
       "1                 Ovis ammon                          30527   \n",
       "2                 Ovis ammon                          30527   \n",
       "3                 Ovis ammon                          30527   \n",
       "4                 Ovis ammon                          30527   \n",
       "\n",
       "  sampleAttribute.tissue sampletype.attributeTable  sampletype.sampleTypeId  \\\n",
       "0                    Ear  sample_attr_model_animal                        4   \n",
       "1                    Ear  sample_attr_model_animal                        4   \n",
       "2                    Ear  sample_attr_model_animal                        4   \n",
       "3                    Ear  sample_attr_model_animal                        4   \n",
       "4                    Ear  sample_attr_model_animal                        4   \n",
       "\n",
       "         sampletype.sampleTypeName sampleAttribute.birthLocation  \\\n",
       "0  Model organism or animal sample                           NaN   \n",
       "1  Model organism or animal sample                           NaN   \n",
       "2  Model organism or animal sample                           NaN   \n",
       "3  Model organism or animal sample                           NaN   \n",
       "4  Model organism or animal sample                           NaN   \n",
       "\n",
       "  sampleAttribute.geographicLocation  \n",
       "0                                NaN  \n",
       "1                                NaN  \n",
       "2                                NaN  \n",
       "3                                NaN  \n",
       "4                                NaN  "
      ]
     },
     "execution_count": 12,
     "metadata": {},
     "output_type": "execute_result"
    }
   ],
   "source": [
    "isheep_50K_biosample.head()"
   ]
  },
  {
   "cell_type": "markdown",
   "id": "48d7f4bf-388f-4f0c-91d9-a36d42d752d5",
   "metadata": {},
   "source": [
    "Data collected from biosamples are not different from data collected from metadata. Try to get information from BioProject:"
   ]
  },
  {
   "cell_type": "code",
   "execution_count": 13,
   "id": "a003d5dd-bf1f-4103-a2d6-cf922a8d7185",
   "metadata": {},
   "outputs": [],
   "source": [
    "bioproject_pkl = isheep_data_path / \"isheep_50K_bioproject.pkl\"\n",
    "\n",
    "if Path(bioproject_pkl).exists():\n",
    "    isheep_50K_bioproject = pd.read_pickle(bioproject_pkl)\n",
    "else:\n",
    "    bioproject_data = [fetch_cncb_bioproject(bioproject_id) for bioproject_id in tqdm(isheep_50K[\"Bioproject ID\"])]\n",
    "    isheep_50K_bioproject = pd.json_normalize(bioproject_data)\n",
    "    isheep_50K_bioproject.to_pickle(bioproject_pkl)\n",
    "    isheep_50K_bioproject.to_excel(str(isheep_data_path / \"isheep_50K_bioproject.xlsx\"))"
   ]
  },
  {
   "cell_type": "code",
   "execution_count": 23,
   "id": "f067a804-d3e4-4549-bae8-c2a53e0a1d4e",
   "metadata": {},
   "outputs": [
    {
     "data": {
      "text/html": [
       "<div>\n",
       "<style scoped>\n",
       "    .dataframe tbody tr th:only-of-type {\n",
       "        vertical-align: middle;\n",
       "    }\n",
       "\n",
       "    .dataframe tbody tr th {\n",
       "        vertical-align: top;\n",
       "    }\n",
       "\n",
       "    .dataframe thead th {\n",
       "        text-align: right;\n",
       "    }\n",
       "</style>\n",
       "<table border=\"1\" class=\"dataframe\">\n",
       "  <thead>\n",
       "    <tr style=\"text-align: right;\">\n",
       "      <th></th>\n",
       "      <th>biomaterialProvider</th>\n",
       "      <th>dataTypes</th>\n",
       "      <th>description</th>\n",
       "      <th>listConsortium</th>\n",
       "      <th>listDataProviders</th>\n",
       "      <th>listExternalLinks</th>\n",
       "      <th>listGrants</th>\n",
       "      <th>listPublication</th>\n",
       "      <th>listRefProjects</th>\n",
       "      <th>message</th>\n",
       "      <th>...</th>\n",
       "      <th>submitter.firstName</th>\n",
       "      <th>submitter.lastName</th>\n",
       "      <th>submitter.middleName</th>\n",
       "      <th>submitter.organization</th>\n",
       "      <th>submitter.phone</th>\n",
       "      <th>submitter.postalCode</th>\n",
       "      <th>submitter.state</th>\n",
       "      <th>submitter.street</th>\n",
       "      <th>submitter.submitOrganizationUrl</th>\n",
       "      <th>submitter.submitterId</th>\n",
       "    </tr>\n",
       "  </thead>\n",
       "  <tbody>\n",
       "    <tr>\n",
       "      <th>0</th>\n",
       "      <td>Juha Kantanen</td>\n",
       "      <td>[{'dataTypeId': 7, 'dataTypeName': 'Phenotype ...</td>\n",
       "      <td>The genome landscape of Tibetan sheep reveals ...</td>\n",
       "      <td>[]</td>\n",
       "      <td>[]</td>\n",
       "      <td>[]</td>\n",
       "      <td>[{'agency': 'National Natural Science Foundati...</td>\n",
       "      <td>[{'articleTitle': 'Whole-Genome Sequencing of ...</td>\n",
       "      <td>[]</td>\n",
       "      <td>SUCCESS</td>\n",
       "      <td>...</td>\n",
       "      <td>Qianghui</td>\n",
       "      <td>Zhu</td>\n",
       "      <td></td>\n",
       "      <td>Institute of Zoology, Chinese Academy of Sciences</td>\n",
       "      <td>15071296586</td>\n",
       "      <td>100101</td>\n",
       "      <td></td>\n",
       "      <td>beichen west road, Chaoyang District</td>\n",
       "      <td>http://www.ioz.ac.cn/</td>\n",
       "      <td>7187</td>\n",
       "    </tr>\n",
       "  </tbody>\n",
       "</table>\n",
       "<p>1 rows × 34 columns</p>\n",
       "</div>"
      ],
      "text/plain": [
       "  biomaterialProvider                                          dataTypes  \\\n",
       "0       Juha Kantanen  [{'dataTypeId': 7, 'dataTypeName': 'Phenotype ...   \n",
       "\n",
       "                                         description listConsortium  \\\n",
       "0  The genome landscape of Tibetan sheep reveals ...             []   \n",
       "\n",
       "  listDataProviders listExternalLinks  \\\n",
       "0                []                []   \n",
       "\n",
       "                                          listGrants  \\\n",
       "0  [{'agency': 'National Natural Science Foundati...   \n",
       "\n",
       "                                     listPublication listRefProjects  message  \\\n",
       "0  [{'articleTitle': 'Whole-Genome Sequencing of ...              []  SUCCESS   \n",
       "\n",
       "   ... submitter.firstName submitter.lastName submitter.middleName  \\\n",
       "0  ...            Qianghui                Zhu                        \n",
       "\n",
       "                              submitter.organization  submitter.phone  \\\n",
       "0  Institute of Zoology, Chinese Academy of Sciences      15071296586   \n",
       "\n",
       "   submitter.postalCode submitter.state  \\\n",
       "0                100101                   \n",
       "\n",
       "                        submitter.street  submitter.submitOrganizationUrl  \\\n",
       "0  beichen west road, Chaoyang District             http://www.ioz.ac.cn/   \n",
       "\n",
       "  submitter.submitterId  \n",
       "0                  7187  \n",
       "\n",
       "[1 rows x 34 columns]"
      ]
     },
     "execution_count": 23,
     "metadata": {},
     "output_type": "execute_result"
    }
   ],
   "source": [
    "isheep_50K_bioproject = isheep_50K_bioproject.drop_duplicates(subset=[\"prjAccession\"])\n",
    "isheep_50K_bioproject.head()"
   ]
  },
  {
   "cell_type": "markdown",
   "id": "3a54cb07-f931-4a5c-9877-f2d45a208e67",
   "metadata": {},
   "source": [
    "Try to open the processed plink file and check that all sample ids are represented:"
   ]
  },
  {
   "cell_type": "code",
   "execution_count": 17,
   "id": "d63f1018-7edf-4d2e-a586-4fe531e83274",
   "metadata": {},
   "outputs": [],
   "source": [
    "plinkio = plinkfile.open(str(isheep_data_path / \"50K-all/50K-all\"))"
   ]
  },
  {
   "cell_type": "code",
   "execution_count": 18,
   "id": "8504cd68-270b-468a-8e71-d5efa2f32b78",
   "metadata": {},
   "outputs": [],
   "source": [
    "samples = [sample.iid for sample in plinkio.get_samples()]\n",
    "for index, row in isheep_50K.iterrows():\n",
    "    if not row[\"Sample ID\"] in samples:\n",
    "        print(f\"Missing {row['Sample ID']}\")"
   ]
  },
  {
   "cell_type": "markdown",
   "id": "d1641978-2a2f-41f0-8784-982a6cd0b339",
   "metadata": {},
   "source": [
    "Sample names between metadata and plink file are identical. Try to derive sample location using geocoding:"
   ]
  },
  {
   "cell_type": "code",
   "execution_count": 19,
   "id": "af4d33f6-cf33-42af-a10a-504328b791ea",
   "metadata": {},
   "outputs": [
    {
     "data": {
      "text/html": [
       "<div>\n",
       "<style scoped>\n",
       "    .dataframe tbody tr th:only-of-type {\n",
       "        vertical-align: middle;\n",
       "    }\n",
       "\n",
       "    .dataframe tbody tr th {\n",
       "        vertical-align: top;\n",
       "    }\n",
       "\n",
       "    .dataframe thead th {\n",
       "        text-align: right;\n",
       "    }\n",
       "</style>\n",
       "<table border=\"1\" class=\"dataframe\">\n",
       "  <thead>\n",
       "    <tr style=\"text-align: right;\">\n",
       "      <th></th>\n",
       "      <th>Sample ID</th>\n",
       "      <th>Biosample ID</th>\n",
       "      <th>Bioproject ID</th>\n",
       "      <th>Species</th>\n",
       "      <th>Breed</th>\n",
       "      <th>Sex</th>\n",
       "      <th>Sample location</th>\n",
       "      <th>Material</th>\n",
       "      <th>Technology</th>\n",
       "      <th>Assay type</th>\n",
       "      <th>Coverage</th>\n",
       "      <th>data resource</th>\n",
       "      <th>latitude</th>\n",
       "      <th>longitude</th>\n",
       "    </tr>\n",
       "  </thead>\n",
       "  <tbody>\n",
       "    <tr>\n",
       "      <th>355</th>\n",
       "      <td>ARG10</td>\n",
       "      <td>SAMC060792</td>\n",
       "      <td>PRJCA001252</td>\n",
       "      <td>Ovis ammon</td>\n",
       "      <td>Argali</td>\n",
       "      <td>NaN</td>\n",
       "      <td>Xinjiang, China</td>\n",
       "      <td>Ear</td>\n",
       "      <td>Illumina Ovine SNP50K (54,241 SNPs) BeadChip</td>\n",
       "      <td>50K chip</td>\n",
       "      <td>NaN</td>\n",
       "      <td>Zhao et al., 2017</td>\n",
       "      <td>42.480495</td>\n",
       "      <td>85.463346</td>\n",
       "    </tr>\n",
       "    <tr>\n",
       "      <th>356</th>\n",
       "      <td>ARG11</td>\n",
       "      <td>SAMC060793</td>\n",
       "      <td>PRJCA001252</td>\n",
       "      <td>Ovis ammon</td>\n",
       "      <td>Argali</td>\n",
       "      <td>NaN</td>\n",
       "      <td>Xinjiang, China</td>\n",
       "      <td>Ear</td>\n",
       "      <td>Illumina Ovine SNP50K (54,241 SNPs) BeadChip</td>\n",
       "      <td>50K chip</td>\n",
       "      <td>NaN</td>\n",
       "      <td>Zhao et al., 2017</td>\n",
       "      <td>42.480495</td>\n",
       "      <td>85.463346</td>\n",
       "    </tr>\n",
       "    <tr>\n",
       "      <th>357</th>\n",
       "      <td>ARG9</td>\n",
       "      <td>SAMC060794</td>\n",
       "      <td>PRJCA001252</td>\n",
       "      <td>Ovis ammon</td>\n",
       "      <td>Argali</td>\n",
       "      <td>NaN</td>\n",
       "      <td>Xinjiang, China</td>\n",
       "      <td>Ear</td>\n",
       "      <td>Illumina Ovine SNP50K (54,241 SNPs) BeadChip</td>\n",
       "      <td>50K chip</td>\n",
       "      <td>NaN</td>\n",
       "      <td>Zhao et al., 2017</td>\n",
       "      <td>42.480495</td>\n",
       "      <td>85.463346</td>\n",
       "    </tr>\n",
       "    <tr>\n",
       "      <th>358</th>\n",
       "      <td>ARG6</td>\n",
       "      <td>SAMC060795</td>\n",
       "      <td>PRJCA001252</td>\n",
       "      <td>Ovis ammon</td>\n",
       "      <td>Argali</td>\n",
       "      <td>NaN</td>\n",
       "      <td>Xinjiang, China</td>\n",
       "      <td>Ear</td>\n",
       "      <td>Illumina Ovine SNP50K (54,241 SNPs) BeadChip</td>\n",
       "      <td>50K chip</td>\n",
       "      <td>NaN</td>\n",
       "      <td>Zhao et al., 2017</td>\n",
       "      <td>42.480495</td>\n",
       "      <td>85.463346</td>\n",
       "    </tr>\n",
       "    <tr>\n",
       "      <th>359</th>\n",
       "      <td>ARG8</td>\n",
       "      <td>SAMC060796</td>\n",
       "      <td>PRJCA001252</td>\n",
       "      <td>Ovis ammon</td>\n",
       "      <td>Argali</td>\n",
       "      <td>NaN</td>\n",
       "      <td>Xinjiang, China</td>\n",
       "      <td>Ear</td>\n",
       "      <td>Illumina Ovine SNP50K (54,241 SNPs) BeadChip</td>\n",
       "      <td>50K chip</td>\n",
       "      <td>NaN</td>\n",
       "      <td>Zhao et al., 2017</td>\n",
       "      <td>42.480495</td>\n",
       "      <td>85.463346</td>\n",
       "    </tr>\n",
       "  </tbody>\n",
       "</table>\n",
       "</div>"
      ],
      "text/plain": [
       "    Sample ID Biosample ID Bioproject ID     Species   Breed  Sex  \\\n",
       "355     ARG10   SAMC060792   PRJCA001252  Ovis ammon  Argali  NaN   \n",
       "356     ARG11   SAMC060793   PRJCA001252  Ovis ammon  Argali  NaN   \n",
       "357      ARG9   SAMC060794   PRJCA001252  Ovis ammon  Argali  NaN   \n",
       "358      ARG6   SAMC060795   PRJCA001252  Ovis ammon  Argali  NaN   \n",
       "359      ARG8   SAMC060796   PRJCA001252  Ovis ammon  Argali  NaN   \n",
       "\n",
       "     Sample location Material                                    Technology  \\\n",
       "355  Xinjiang, China      Ear  Illumina Ovine SNP50K (54,241 SNPs) BeadChip   \n",
       "356  Xinjiang, China      Ear  Illumina Ovine SNP50K (54,241 SNPs) BeadChip   \n",
       "357  Xinjiang, China      Ear  Illumina Ovine SNP50K (54,241 SNPs) BeadChip   \n",
       "358  Xinjiang, China      Ear  Illumina Ovine SNP50K (54,241 SNPs) BeadChip   \n",
       "359  Xinjiang, China      Ear  Illumina Ovine SNP50K (54,241 SNPs) BeadChip   \n",
       "\n",
       "    Assay type Coverage      data resource   latitude  longitude  \n",
       "355   50K chip      NaN  Zhao et al., 2017  42.480495  85.463346  \n",
       "356   50K chip      NaN  Zhao et al., 2017  42.480495  85.463346  \n",
       "357   50K chip      NaN  Zhao et al., 2017  42.480495  85.463346  \n",
       "358   50K chip      NaN  Zhao et al., 2017  42.480495  85.463346  \n",
       "359   50K chip      NaN  Zhao et al., 2017  42.480495  85.463346  "
      ]
     },
     "execution_count": 19,
     "metadata": {},
     "output_type": "execute_result"
    }
   ],
   "source": [
    "test = isheep_50K[\"Sample location\"].apply(get_location)\n",
    "# isheep_50K[\"address\"] = test.apply(lambda x: x[0])\n",
    "isheep_50K[\"latitude\"] = test.apply(lambda x: x[1])\n",
    "isheep_50K[\"longitude\"] = test.apply(lambda x: x[2])\n",
    "isheep_50K.head()"
   ]
  },
  {
   "cell_type": "markdown",
   "id": "88aaa51b-374c-4424-903e-ef4b4bf03325",
   "metadata": {},
   "source": [
    "Try to merge this table with biosample information:"
   ]
  },
  {
   "cell_type": "code",
   "execution_count": 25,
   "id": "6018425f-78b6-4030-823e-66cf71ae37e0",
   "metadata": {},
   "outputs": [],
   "source": [
    "isheep_50K= pd.merge(isheep_50K, isheep_50K_biosample, left_on=\"Biosample ID\", right_on=\"accession\", how=\"inner\")"
   ]
  },
  {
   "cell_type": "code",
   "execution_count": 27,
   "id": "e33db0c2-f204-496a-909a-1894246e3cd1",
   "metadata": {},
   "outputs": [],
   "source": [
    "isheep_50K.to_excel(str(isheep_data_path / \"isheep_50K.xlsx\"))"
   ]
  },
  {
   "cell_type": "markdown",
   "id": "77e60c2a-68f9-4d9a-aab1-392125e063ce",
   "metadata": {},
   "source": [
    "Despite is possible to derive coordinates from the location I have, I don't want to place a latitude and longitude in my database: if anyone want to consider coordinates from location, need to understand the coordinate precision level (I can't consider russia coordinate at the same level of a cina county)"
   ]
  },
  {
   "cell_type": "markdown",
   "id": "9a281e6f-302d-43a6-9caf-0de7a92ea998",
   "metadata": {},
   "source": [
    "## 600K data\n",
    "next, explore the 600k dataset"
   ]
  },
  {
   "cell_type": "code",
   "execution_count": null,
   "id": "bda62b1b-7121-4d08-b0bf-3036e822991e",
   "metadata": {},
   "outputs": [],
   "source": [
    "isheep_600K = metadata[metadata[\"Assay type\"] == \"600k chip\"]\n",
    "isheep_600K.info()"
   ]
  },
  {
   "cell_type": "code",
   "execution_count": null,
   "id": "06f7824d-ecfe-466c-bd78-dce364b6354e",
   "metadata": {},
   "outputs": [],
   "source": [
    "isheep_600K.head()"
   ]
  },
  {
   "cell_type": "code",
   "execution_count": null,
   "id": "7452f30c-692d-4a20-a9cf-72fd86672d7d",
   "metadata": {},
   "outputs": [],
   "source": [
    "isheep_600K[\"Species\"].unique()"
   ]
  },
  {
   "cell_type": "code",
   "execution_count": null,
   "id": "6e1e403a-c116-41d1-a459-f7a7f3c2876a",
   "metadata": {},
   "outputs": [],
   "source": [
    "isheep_600K[\"Breed\"].unique()"
   ]
  },
  {
   "cell_type": "markdown",
   "id": "aadb2ba3-0b57-4492-811f-876989386c79",
   "metadata": {},
   "source": [
    "Try to collect data from CNCB biosample or load data from file"
   ]
  },
  {
   "cell_type": "code",
   "execution_count": null,
   "id": "d6234ea7-1a5f-445e-b5bc-337ebcd9d610",
   "metadata": {},
   "outputs": [],
   "source": [
    "if Path(\"isheep_600K_biosample.pkl\").exists():\n",
    "    isheep_600K_biosample = pd.read_pickle(\"isheep_600K_biosample.pkl\")\n",
    "else:\n",
    "    biosample_data = [fetch_cncb_biosample(biosample_id) for biosample_id in tqdm(isheep_600K[\"Biosample ID\"])]\n",
    "    isheep_600K_biosample = pd.json_normalize(biosample_data)\n",
    "    isheep_600K_biosample.to_pickle(\"isheep_600K_biosample.pkl\")\n",
    "    isheep_600K_biosample.to_excel(\"isheep_600K_biosample.xlsx\")"
   ]
  },
  {
   "cell_type": "markdown",
   "id": "51a9fe4a-d941-46cf-bda4-372e34fbbc13",
   "metadata": {},
   "source": [
    "This time I can find coordinates in Biosamples in NE format (ie *38.37 N 77.23 E*). The sample name is the same I found in datafile. Need to define a sample alias equal to the sample name I find in plinkfile. Try to open the processed plink file and check that all sample ids are represented"
   ]
  },
  {
   "cell_type": "code",
   "execution_count": null,
   "id": "1c81a6e7-f8b8-481f-9daf-96a3db3b9b23",
   "metadata": {},
   "outputs": [],
   "source": [
    "plinkio = plinkfile.open(str(get_project_dir() / \"data/external/SHE/ISHEEP/600K-all/600K-all\"))"
   ]
  },
  {
   "cell_type": "markdown",
   "id": "56862b71-ea74-4566-becb-a364f429f29c",
   "metadata": {},
   "source": [
    "Check that sample names in plink file and metadata are the same"
   ]
  },
  {
   "cell_type": "code",
   "execution_count": null,
   "id": "d1885f8b-f907-4c08-b1e6-69077f8c4b1a",
   "metadata": {},
   "outputs": [],
   "source": [
    "samples = [sample.iid for sample in plinkio.get_samples()]\n",
    "count = 0\n",
    "\n",
    "for index, row in isheep_600K.iterrows():\n",
    "    if not row[\"Sample ID\"] in samples:\n",
    "        # print(f\"Missing {row['Sample ID']}\")\n",
    "        count += 1\n",
    "        \n",
    "if count > 0:\n",
    "    print(f\"{count} samples name don't match between metadata and plink file\")"
   ]
  },
  {
   "cell_type": "code",
   "execution_count": null,
   "id": "53af9636-6fb8-496d-a08b-6b749b8ae69c",
   "metadata": {},
   "outputs": [],
   "source": [
    "test = pd.DataFrame({\"samples_id\": isheep_600K[\"Sample ID\"], \"samples_vcf\": samples})\n",
    "if not Path(\"samples_id-vcf-600K.xlsx\").exists():\n",
    "    test.to_excel(\"samples_id-vcf-600K.xlsx\")"
   ]
  },
  {
   "cell_type": "markdown",
   "id": "e8980bcd-25a3-49e4-9f7f-06ba9acac951",
   "metadata": {},
   "source": [
    "Save only 600K sample in a different file"
   ]
  },
  {
   "cell_type": "code",
   "execution_count": null,
   "id": "e6dc7ae2-8cce-4bc9-a44d-8cf1835daebf",
   "metadata": {},
   "outputs": [],
   "source": [
    "isheep_600K.to_excel(\"isheep_600K.xlsx\")"
   ]
  },
  {
   "cell_type": "markdown",
   "id": "a44e3476-400c-47b2-a7c0-2e6b0ec7043b",
   "metadata": {},
   "source": [
    "## WGS dataset\n",
    "finally, get WGS metadata:"
   ]
  },
  {
   "cell_type": "code",
   "execution_count": null,
   "id": "27455264-215d-4cb2-a2a8-fea81c8f6703",
   "metadata": {},
   "outputs": [],
   "source": [
    "isheep_WGS = metadata[metadata[\"Assay type\"] == \"WGS\"].copy()\n",
    "isheep_WGS.info()"
   ]
  },
  {
   "cell_type": "code",
   "execution_count": null,
   "id": "5ffef0b7-7a7a-4166-b437-6c2e1e584d51",
   "metadata": {},
   "outputs": [],
   "source": [
    "isheep_WGS.head()"
   ]
  },
  {
   "cell_type": "code",
   "execution_count": null,
   "id": "8744e6d5-f5c8-43bb-8959-a1f9cf553101",
   "metadata": {},
   "outputs": [],
   "source": [
    "isheep_WGS = metadata[metadata[\"Assay type\"] == \"WGS\"]\n",
    "isheep_WGS.info()"
   ]
  },
  {
   "cell_type": "code",
   "execution_count": null,
   "id": "5c20ba81-e882-431a-b0aa-a64188dae550",
   "metadata": {},
   "outputs": [],
   "source": [
    "isheep_WGS.head()"
   ]
  },
  {
   "cell_type": "code",
   "execution_count": null,
   "id": "9b974af3-1c0a-4a58-98fc-50f872a19092",
   "metadata": {},
   "outputs": [],
   "source": [
    "isheep_WGS[\"Species\"].unique()"
   ]
  },
  {
   "cell_type": "code",
   "execution_count": null,
   "id": "5c169996-ac98-43f1-a4c1-1bd6c54c6794",
   "metadata": {},
   "outputs": [],
   "source": [
    "isheep_WGS[\"Breed\"].unique()"
   ]
  },
  {
   "cell_type": "markdown",
   "id": "6d58760c-4966-4613-af05-31e1ae5dd341",
   "metadata": {},
   "source": [
    "There are some breeds from WGS data that are unknown. Should I consider such animals?"
   ]
  },
  {
   "cell_type": "code",
   "execution_count": null,
   "id": "f143d5b2-5ba5-4858-8088-276947e9fd3e",
   "metadata": {},
   "outputs": [],
   "source": [
    "isheep_WGS[isheep_WGS[\"Breed\"] == \" -\"]"
   ]
  },
  {
   "cell_type": "markdown",
   "id": "c6cf4b46-1506-4249-91cc-9a96f44ed760",
   "metadata": {},
   "source": [
    "Some breeds are missing also in the original dataset, for example the \"*IROA\\**\" samples (which seems to come from nextgen dataset):"
   ]
  },
  {
   "cell_type": "code",
   "execution_count": null,
   "id": "7ef9b1d3-c048-4905-8377-bc3479a1b0e9",
   "metadata": {},
   "outputs": [],
   "source": [
    "nextgenfile = str(get_project_dir() / \"data/external/SHE/ISHEEP/ovis.sample_index\")\n",
    "nextgen = pd.read_table(nextgenfile, skiprows=10)\n",
    "nextgen.head()"
   ]
  },
  {
   "cell_type": "markdown",
   "id": "6c653a8f-8680-4666-a810-1bed0ca56224",
   "metadata": {},
   "source": [
    "However, I could collect coordinates from this datafile"
   ]
  },
  {
   "cell_type": "markdown",
   "id": "8c4c5b0f-26d6-46c5-b726-d8be48f6151b",
   "metadata": {},
   "source": [
    "Try to collect data from CNCB biosample or load data from file"
   ]
  },
  {
   "cell_type": "code",
   "execution_count": null,
   "id": "68fc9237-c29f-44ee-825f-0934549b83f1",
   "metadata": {},
   "outputs": [],
   "source": [
    "if Path(\"isheep_WGS_biosample.pkl\").exists():\n",
    "    isheep_WGS_biosample = pd.read_pickle(\"isheep_WGS_biosample.pkl\")\n",
    "else:\n",
    "    biosample_data = [fetch_cncb_biosample(biosample_id) for biosample_id in tqdm(isheep_WGS[\"Biosample ID\"])]\n",
    "    isheep_WGS_biosample = pd.json_normalize(biosample_data)\n",
    "    isheep_WGS_biosample.to_pickle(\"isheep_WGS_biosample.pkl\")\n",
    "    isheep_WGS_biosample.to_excel(\"isheep_WGS_biosample.xlsx\")"
   ]
  },
  {
   "cell_type": "code",
   "execution_count": null,
   "id": "3dd2a16d-ee1d-4be0-9021-eae132be4e17",
   "metadata": {},
   "outputs": [],
   "source": [
    "plinkio = plinkfile.open(str(get_project_dir() / \"data/external/SHE/ISHEEP/WGS-all/WGS-all.smarter\"))"
   ]
  },
  {
   "cell_type": "markdown",
   "id": "43ab1f4c-dea2-4d54-aa69-bc6495c340d6",
   "metadata": {},
   "source": [
    "There are some samples which I can't find in cncb biosamples: They are annotated using SRA accession and so I can't fetch a record for more than 100 samples. Other samples seems to have geographic coordinates in the same format of 600K. Check that sample names in plink file and metadata are the same"
   ]
  },
  {
   "cell_type": "code",
   "execution_count": null,
   "id": "e5d104bc-3fbe-4f3e-8717-30c977734d37",
   "metadata": {},
   "outputs": [],
   "source": [
    "samples = [sample.iid for sample in plinkio.get_samples()]\n",
    "count = 0\n",
    "\n",
    "for index, row in isheep_WGS.iterrows():\n",
    "    if not row[\"Sample ID\"] in samples:\n",
    "        # print(f\"Missing {row['Sample ID']}\")\n",
    "        count += 1\n",
    "        \n",
    "if count > 0:\n",
    "    print(f\"{count} samples name don't match between metadata and plink file\")\n",
    "        "
   ]
  },
  {
   "cell_type": "code",
   "execution_count": null,
   "id": "06d217ee-7db8-419a-9b88-62f8ea55c54e",
   "metadata": {},
   "outputs": [],
   "source": [
    "test = pd.DataFrame({\"samples_id\": isheep_WGS[\"Sample ID\"], \"samples_vcf\": samples})\n",
    "if not Path(\"samples_id-vcf-WGS.xlsx\").exists():\n",
    "    test.to_excel(\"samples_id-vcf-WGS.xlsx\")"
   ]
  },
  {
   "cell_type": "markdown",
   "id": "37744bae-47b8-4f35-90f1-6c0f45149935",
   "metadata": {},
   "source": [
    "IDs are different in metadata and datafiles. Save only WGS sample in a different file"
   ]
  },
  {
   "cell_type": "code",
   "execution_count": null,
   "id": "ca72d33a-afdb-4dc5-9b4b-3670a9c2e6bc",
   "metadata": {},
   "outputs": [],
   "source": [
    "isheep_WGS.to_excel(\"isheep_WGS.xlsx\")"
   ]
  }
 ],
 "metadata": {
  "kernelspec": {
   "display_name": "Python 3",
   "language": "python",
   "name": "python3"
  },
  "language_info": {
   "codemirror_mode": {
    "name": "ipython",
    "version": 3
   },
   "file_extension": ".py",
   "mimetype": "text/x-python",
   "name": "python",
   "nbconvert_exporter": "python",
   "pygments_lexer": "ipython3",
   "version": "3.9.1"
  }
 },
 "nbformat": 4,
 "nbformat_minor": 5
}
