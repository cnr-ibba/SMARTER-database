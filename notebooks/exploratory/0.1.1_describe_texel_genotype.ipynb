{
 "cells": [
  {
   "cell_type": "markdown",
   "id": "known-monroe",
   "metadata": {},
   "source": [
    "# Describing Texel Genotypes\n",
    "Open texel binary data and try to describe genotypes. First I need to convert data into Binary format,\n",
    "but at the moment, I havent a pipeline for doing this. Here are the commands I used in a linux terminal:\n",
    "```bash\n",
    "cd data/raw/background\n",
    "unzip TEXEL_INIA_UY.zip TEXEL_UY.ped TEXEL_UY.map -d ../../interim/texel\n",
    "cd ../../interim/texel\n",
    "# need to set extra chromosomes as 0 since plinkio is not able to deal with them\n",
    "plink --file TEXEL_UY --make-bed --allow-extra-chr 0 --out texel\n",
    "```"
   ]
  },
  {
   "cell_type": "code",
   "execution_count": 13,
   "id": "tamil-induction",
   "metadata": {},
   "outputs": [],
   "source": [
    "import os\n",
    "from pathlib import Path\n",
    "from plinkio import plinkfile"
   ]
  },
  {
   "cell_type": "code",
   "execution_count": 14,
   "id": "finnish-private",
   "metadata": {},
   "outputs": [],
   "source": [
    "project_dir = Path.cwd().parents[1]\n",
    "interim_dir = project_dir / \"data/interim/texel\"\n",
    "os.chdir(interim_dir)"
   ]
  },
  {
   "cell_type": "code",
   "execution_count": 24,
   "id": "spread-official",
   "metadata": {},
   "outputs": [],
   "source": [
    "texel = plinkfile.open(\"texel\")\n",
    "samples = texel.get_samples()\n",
    "loci = texel.get_loci()"
   ]
  },
  {
   "cell_type": "markdown",
   "id": "american-europe",
   "metadata": {},
   "source": [
    "The genotypes are coded 0, 1, 2, and 3. The numbers 0-2 represent the number of A2 alleles as specified in the .bim file. The number 3 represents a missing genotype."
   ]
  },
  {
   "cell_type": "code",
   "execution_count": 26,
   "id": "through-dover",
   "metadata": {},
   "outputs": [],
   "source": [
    "missing = []\n",
    "for locus, row in zip( loci, texel ):\n",
    "    for sample, genotype in zip( samples, row ):\n",
    "        if genotype == 3:\n",
    "           missing.append((sample, locus)) "
   ]
  },
  {
   "cell_type": "markdown",
   "id": "pending-foster",
   "metadata": {},
   "source": [
    "How many missing values I have?"
   ]
  },
  {
   "cell_type": "code",
   "execution_count": 31,
   "id": "competitive-subcommittee",
   "metadata": {},
   "outputs": [
    {
     "name": "stdout",
     "output_type": "stream",
     "text": [
      "N of missing: 135695\n",
      "TEXEL_UY 20181210010 -9 -9: 0 CR_594.1\n",
      "TEXEL_UY 20181210021 -9 -9: 0 CR_594.1\n",
      "TEXEL_UY 20181210178 -9 -9: 0 CR_594.1\n",
      "TEXEL_UY 20181210190 -9 -9: 0 CR_594.1\n",
      "TEXEL_UY 20181210260 -9 -9: 0 CR_594.1\n",
      "TEXEL_UY 20181210263 -9 -9: 0 CR_594.1\n",
      "TEXEL_UY 20181210264 -9 -9: 0 CR_594.1\n",
      "TEXEL_UY 20181210266 -9 -9: 0 CR_594.1\n",
      "TEXEL_UY 20181210006 -9 -9: 0 CR_816.1\n",
      "TEXEL_UY 20181210008 -9 -9: 0 CR_816.1\n"
     ]
    }
   ],
   "source": [
    "print(\"N of missing: %s\" % len(missing))\n",
    "for sample, locus in missing[:10]:\n",
    "    print(\"%s: %s\" % (sample, locus))"
   ]
  },
  {
   "cell_type": "code",
   "execution_count": null,
   "id": "major-circular",
   "metadata": {},
   "outputs": [],
   "source": []
  }
 ],
 "metadata": {
  "kernelspec": {
   "display_name": "Python 3",
   "language": "python",
   "name": "python3"
  },
  "language_info": {
   "codemirror_mode": {
    "name": "ipython",
    "version": 3
   },
   "file_extension": ".py",
   "mimetype": "text/x-python",
   "name": "python",
   "nbconvert_exporter": "python",
   "pygments_lexer": "ipython3",
   "version": "3.9.1"
  }
 },
 "nbformat": 4,
 "nbformat_minor": 5
}
