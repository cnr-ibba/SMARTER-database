{
 "cells": [
  {
   "cell_type": "markdown",
   "id": "fatal-conversion",
   "metadata": {},
   "source": [
    "# About Sheep Coordinates"
   ]
  },
  {
   "cell_type": "code",
   "execution_count": 1,
   "id": "fixed-popularity",
   "metadata": {},
   "outputs": [],
   "source": [
    "import os\n",
    "import itertools\n",
    "\n",
    "from pathlib import Path\n",
    "from importlib import reload\n",
    "\n",
    "import src.features.illumina\n",
    "import src.features.snpchimp"
   ]
  },
  {
   "cell_type": "code",
   "execution_count": 2,
   "id": "welsh-quick",
   "metadata": {},
   "outputs": [
    {
     "data": {
      "text/plain": [
       "<module 'src.features.snpchimp' from '/home/paolo/Projects/SMARTER-database/src/features/snpchimp.py'>"
      ]
     },
     "execution_count": 2,
     "metadata": {},
     "output_type": "execute_result"
    }
   ],
   "source": [
    "reload(src.features.illumina)\n",
    "reload(src.features.snpchimp)"
   ]
  },
  {
   "cell_type": "code",
   "execution_count": 3,
   "id": "limited-refund",
   "metadata": {},
   "outputs": [
    {
     "data": {
      "text/plain": [
       "['ovinesnp50-genome-assembly-oar-v3-1.csv',\n",
       " 'ovinesnp50_b.csv',\n",
       " 'OvineSNP50_B2.csv']"
      ]
     },
     "execution_count": 3,
     "metadata": {},
     "output_type": "execute_result"
    }
   ],
   "source": [
    "project_dir = Path(os.getcwd()).resolve().parents[1]\n",
    "chip_dir = os.path.join(project_dir, \"data\", \"external\", \"SHE\", \"ILLUMINA\")\n",
    "os.listdir(chip_dir)"
   ]
  },
  {
   "cell_type": "markdown",
   "id": "outside-vessel",
   "metadata": {},
   "source": [
    "There are 3 different chip version I've found. `ovinesnp50_b.csv` is the oldest version I found from *SNPchiMp* raw data, `ovinesnp50-genome-assembly-oar-v3-1.csv` is the **OAR_v3** manifest file downloaded from *ILLUMINA* and `OvineSNP50_B2.csv` is the latest **OAR_v4** manifest file downloaded from *ILLUMINA*"
   ]
  },
  {
   "cell_type": "markdown",
   "id": "temporal-infection",
   "metadata": {},
   "source": [
    "Let's start and read the oldest chip I have. Get info about size:"
   ]
  },
  {
   "cell_type": "code",
   "execution_count": 4,
   "id": "lucky-wireless",
   "metadata": {},
   "outputs": [],
   "source": [
    "old_chip3 = dict()\n",
    "for record in src.features.illumina.read_snpChip(os.path.join(chip_dir, \"ovinesnp50_b.csv\")):\n",
    "    old_chip3[record.name] = (record.chr, record.mapinfo)"
   ]
  },
  {
   "cell_type": "code",
   "execution_count": 5,
   "id": "rocky-limit",
   "metadata": {},
   "outputs": [
    {
     "name": "stdout",
     "output_type": "stream",
     "text": [
      "['250506CS3900065000002_1238.1', '250506CS3900140500001_312.1', '250506CS3900176800001_906.1', '250506CS3900211600001_1041.1', '250506CS3900218700001_1294.1', '250506CS3900283200001_442.1', '250506CS3900371000001_1255.1', '250506CS3900386000001_696.1', '250506CS3900414400001_1178.1', '250506CS3900435700001_1658.1']\n"
     ]
    }
   ],
   "source": [
    "print(list(old_chip3.keys())[:10])"
   ]
  },
  {
   "cell_type": "code",
   "execution_count": 6,
   "id": "martial-cookie",
   "metadata": {},
   "outputs": [
    {
     "name": "stdout",
     "output_type": "stream",
     "text": [
      "Old chip size: 54241\n"
     ]
    }
   ],
   "source": [
    "print(\"Old chip size: %s\" % len(old_chip3.keys()))"
   ]
  },
  {
   "cell_type": "markdown",
   "id": "impaired-huntington",
   "metadata": {},
   "source": [
    "Now try to read the newest chip I downloaded from illumina"
   ]
  },
  {
   "cell_type": "code",
   "execution_count": 7,
   "id": "handled-terminal",
   "metadata": {},
   "outputs": [],
   "source": [
    "new_chip3 = dict()\n",
    "for record in src.features.illumina.read_snpChip(os.path.join(chip_dir, \"ovinesnp50-genome-assembly-oar-v3-1.csv\")):\n",
    "    new_chip3[record.name] = (record.chr, record.mapinfo)"
   ]
  },
  {
   "cell_type": "code",
   "execution_count": 8,
   "id": "indie-miller",
   "metadata": {},
   "outputs": [
    {
     "name": "stdout",
     "output_type": "stream",
     "text": [
      "['250506CS3900065000002_1238.1', '250506CS3900140500001_312.1', '250506CS3900176800001_906.1', '250506CS3900211600001_1041.1', '250506CS3900218700001_1294.1', '250506CS3900283200001_442.1', '250506CS3900371000001_1255.1', '250506CS3900386000001_696.1', '250506CS3900414400001_1178.1', '250506CS3900435700001_1658.1']\n"
     ]
    }
   ],
   "source": [
    "print(list(new_chip3.keys())[:10])"
   ]
  },
  {
   "cell_type": "code",
   "execution_count": 9,
   "id": "following-content",
   "metadata": {},
   "outputs": [
    {
     "name": "stdout",
     "output_type": "stream",
     "text": [
      "New chip size: 54241\n"
     ]
    }
   ],
   "source": [
    "print(\"New chip size: %s\" % len(new_chip3.keys()))"
   ]
  },
  {
   "cell_type": "markdown",
   "id": "liable-guatemala",
   "metadata": {},
   "source": [
    "Chips have the same size. Ensure that also the keys (SNP names) are the same "
   ]
  },
  {
   "cell_type": "code",
   "execution_count": 10,
   "id": "genuine-spread",
   "metadata": {},
   "outputs": [
    {
     "data": {
      "text/plain": [
       "True"
      ]
     },
     "execution_count": 10,
     "metadata": {},
     "output_type": "execute_result"
    }
   ],
   "source": [
    "sorted(old_chip3.keys()) == sorted(new_chip3.keys())"
   ]
  },
  {
   "cell_type": "markdown",
   "id": "sound-cemetery",
   "metadata": {},
   "source": [
    "Print out the first 10 SNP positions for both chips:"
   ]
  },
  {
   "cell_type": "code",
   "execution_count": 11,
   "id": "executed-sleep",
   "metadata": {},
   "outputs": [
    {
     "name": "stdout",
     "output_type": "stream",
     "text": [
      "250506CS3900065000002_1238.1 ('15', 5327353) ('15', 5870057)\n",
      "250506CS3900140500001_312.1 ('23', 27428869) ('23', 26298017)\n",
      "250506CS3900176800001_906.1 ('7', 89002990) ('7', 81648528)\n",
      "250506CS3900211600001_1041.1 ('16', 44955568) ('16', 41355381)\n",
      "250506CS3900218700001_1294.1 ('2', 157820235) ('2', 148802744)\n",
      "250506CS3900283200001_442.1 ('1', 203289635) ('1', 188498238)\n",
      "250506CS3900371000001_1255.1 ('11', 37632867) ('11', 35339123)\n",
      "250506CS3900386000001_696.1 ('16', 68297712) ('16', 62646307)\n",
      "250506CS3900414400001_1178.1 ('1', 111100644) ('1', 103396552)\n",
      "250506CS3900435700001_1658.1 ('12', 50140951) ('12', 45221821)\n"
     ]
    }
   ],
   "source": [
    "for key, value in itertools.islice(old_chip3.items(), 10):\n",
    "    print(key, value, new_chip3[key])"
   ]
  },
  {
   "cell_type": "markdown",
   "id": "accurate-reservation",
   "metadata": {},
   "source": [
    "Now count how many different positions I have. If positions are identical, print out to the terminal"
   ]
  },
  {
   "cell_type": "code",
   "execution_count": 12,
   "id": "simplified-hours",
   "metadata": {},
   "outputs": [
    {
     "name": "stdout",
     "output_type": "stream",
     "text": [
      "CR_594.1 ('0', 0) ('0', 0)\n",
      "mt_12362.1 ('0', 0) ('0', 0)\n",
      "mt_5800.1 ('0', 0) ('0', 0)\n",
      "mt_7729.1 ('0', 0) ('0', 0)\n",
      "OARUn.1162_15670.1 ('0', 0) ('0', 0)\n",
      "s05987.1 ('0', 0) ('0', 0)\n",
      "s15970.1 ('0', 0) ('0', 0)\n",
      "s20217.1 ('0', 0) ('0', 0)\n",
      "s23436.1 ('0', 0) ('0', 0)\n",
      "s24503.1 ('0', 0) ('0', 0)\n",
      "s26614.1 ('0', 0) ('0', 0)\n",
      "s27919.1 ('0', 0) ('0', 0)\n",
      "s37920.1 ('0', 0) ('0', 0)\n",
      "s38683.1 ('0', 0) ('0', 0)\n",
      "s42402.1 ('0', 0) ('0', 0)\n",
      "s44857.1 ('0', 0) ('0', 0)\n",
      "s51062.1 ('0', 0) ('0', 0)\n",
      "s51315.1 ('0', 0) ('0', 0)\n",
      "s59566.1 ('0', 0) ('0', 0)\n",
      "s63164.1 ('0', 0) ('0', 0)\n",
      "s73227.1 ('0', 0) ('0', 0)\n",
      "\n",
      "N of SNPs in different positions in the two file versions: 54220\n"
     ]
    }
   ],
   "source": [
    "count = 0\n",
    "\n",
    "for key, value in old_chip3.items():\n",
    "    if value != new_chip3[key]:\n",
    "        count += 1\n",
    "    else:\n",
    "        print(key, value, new_chip3[key])\n",
    "        \n",
    "print(f\"\\nN of SNPs in different positions in the two file versions: {count}\")"
   ]
  },
  {
   "cell_type": "markdown",
   "id": "paperback-navigation",
   "metadata": {},
   "source": [
    "Get a list of all chromosomes present in the two chips"
   ]
  },
  {
   "cell_type": "code",
   "execution_count": 13,
   "id": "automated-humidity",
   "metadata": {},
   "outputs": [
    {
     "name": "stdout",
     "output_type": "stream",
     "text": [
      "{'X', '7', '5', 'OAR', '19', '22', '1', '16', '10', '21', '25', '12', '26', '23', '17', '6', '14', '18', 'Y', '24', '4', '3', '9', '2', 'Contig', '0', '11', '20', '15', '8', '13'}\n",
      "{'X', '7', '5', '19', '22', '1', '16', '10', '21', '25', '12', '26', '23', '17', '6', '14', '18', '24', '4', '3', '9', '2', '0', '11', 'M', '20', '15', '8', '13'}\n"
     ]
    }
   ],
   "source": [
    "new_chroms = set([el[0] for el in new_chip3.values()])\n",
    "old_chroms = set([el[0] for el in old_chip3.values()])\n",
    "new_chroms == old_chroms\n",
    "print(old_chroms)\n",
    "print(new_chroms)"
   ]
  },
  {
   "cell_type": "markdown",
   "id": "alleged-customer",
   "metadata": {},
   "source": [
    "How many chromosomes are in common? which chromosomes are in one version and not in the another one?"
   ]
  },
  {
   "cell_type": "code",
   "execution_count": 14,
   "id": "signal-forum",
   "metadata": {},
   "outputs": [
    {
     "name": "stdout",
     "output_type": "stream",
     "text": [
      "Chromosomes in common: {'X', '7', '5', '19', '22', '1', '16', '10', '21', '12', '25', '26', '23', '17', '6', '14', '18', '24', '4', '3', '9', '2', '0', '11', '20', '15', '8', '13'}\n",
      "Chromosomes only in old release: {'Contig', 'Y', 'OAR'}\n",
      "Chromosomes only in new release: {'M'}\n"
     ]
    }
   ],
   "source": [
    "print(\"Chromosomes in common: %s\" % old_chroms.intersection(new_chroms))\n",
    "print(\"Chromosomes only in old release: %s\" % old_chroms.difference(new_chroms))\n",
    "print(\"Chromosomes only in new release: %s\" % new_chroms.difference(old_chroms))"
   ]
  },
  {
   "cell_type": "markdown",
   "id": "drawn-cattle",
   "metadata": {},
   "source": [
    "Chromosomes are different in two chips. Print out some record relying on chromosome name:"
   ]
  },
  {
   "cell_type": "code",
   "execution_count": 15,
   "id": "cooperative-wireless",
   "metadata": {},
   "outputs": [
    {
     "name": "stdout",
     "output_type": "stream",
     "text": [
      "s17862.1 ('Contig', 0)\n"
     ]
    }
   ],
   "source": [
    "for key, value in old_chip3.items():\n",
    "    if value[0] == 'Contig':\n",
    "        print(key, value)"
   ]
  },
  {
   "cell_type": "markdown",
   "id": "combined-keeping",
   "metadata": {},
   "source": [
    "## IS SNPchimp updated?\n",
    "### Does SNPChimp store the latest informations for *oarv_3.1*?"
   ]
  },
  {
   "cell_type": "code",
   "execution_count": 16,
   "id": "excellent-armenia",
   "metadata": {},
   "outputs": [],
   "source": [
    "snpchimp_dir = Path(project_dir, \"data\", \"external\", \"SHE\", \"SNPCHIMP\")\n",
    "snpchimp3_file = snpchimp_dir / \"SNPchimp_SHE_SNP50v1_oar3.1.csv\"\n",
    "snpchimp3 = dict()\n",
    "for record in src.features.snpchimp.read_snpChimp(snpchimp3_file):\n",
    "    snpchimp3[record.snp_name] = (record.chromosome, record.position)"
   ]
  },
  {
   "cell_type": "code",
   "execution_count": 17,
   "id": "continuing-astronomy",
   "metadata": {},
   "outputs": [
    {
     "name": "stdout",
     "output_type": "stream",
     "text": [
      "['DU179070_177.1', 'DU412523_531.1', 'DU435204_267.1', 'DU348827_210.1', 'DU351298_316.1', 'DU427993_302.1', 'DU378652_409.1', 'DU299578_392.1', 'OAR1_181838398.1', 'DU518561_359.1']\n"
     ]
    }
   ],
   "source": [
    "print(list(snpchimp3.keys())[:10])"
   ]
  },
  {
   "cell_type": "code",
   "execution_count": 18,
   "id": "sexual-purple",
   "metadata": {},
   "outputs": [
    {
     "name": "stdout",
     "output_type": "stream",
     "text": [
      "SNPchimp snps for oarv3: 54241\n"
     ]
    }
   ],
   "source": [
    "print(\"SNPchimp snps for oarv3: %s\" % len(snpchimp3.keys()))"
   ]
  },
  {
   "cell_type": "code",
   "execution_count": 19,
   "id": "literary-scotland",
   "metadata": {},
   "outputs": [
    {
     "data": {
      "text/plain": [
       "True"
      ]
     },
     "execution_count": 19,
     "metadata": {},
     "output_type": "execute_result"
    }
   ],
   "source": [
    "sorted(old_chip3.keys()) == sorted(snpchimp3.keys())"
   ]
  },
  {
   "cell_type": "markdown",
   "id": "animal-marsh",
   "metadata": {},
   "source": [
    "SNPchimp seems to have the same SNPs name of oarv3 illumina chips. Display some snps from old and new illumina chip and the snpchimp coordinates:"
   ]
  },
  {
   "cell_type": "code",
   "execution_count": 20,
   "id": "laden-ethernet",
   "metadata": {},
   "outputs": [
    {
     "name": "stdout",
     "output_type": "stream",
     "text": [
      "250506CS3900065000002_1238.1 ('15', 5327353) ('15', 5870057) ('15', 5870057)\n",
      "250506CS3900140500001_312.1 ('23', 27428869) ('23', 26298017) ('23', 26298017)\n",
      "250506CS3900176800001_906.1 ('7', 89002990) ('7', 81648528) ('7', 81648528)\n",
      "250506CS3900211600001_1041.1 ('16', 44955568) ('16', 41355381) ('16', 41355381)\n",
      "250506CS3900218700001_1294.1 ('2', 157820235) ('2', 148802744) ('2', 148802744)\n",
      "250506CS3900283200001_442.1 ('1', 203289635) ('1', 188498238) ('99', 0)\n",
      "250506CS3900371000001_1255.1 ('11', 37632867) ('11', 35339123) ('11', 35339123)\n",
      "250506CS3900386000001_696.1 ('16', 68297712) ('16', 62646307) ('16', 62646307)\n",
      "250506CS3900414400001_1178.1 ('1', 111100644) ('1', 103396552) ('1', 103396552)\n",
      "250506CS3900435700001_1658.1 ('12', 50140951) ('12', 45221821) ('99', 0)\n"
     ]
    }
   ],
   "source": [
    "for key, value in itertools.islice(old_chip3.items(), 10):\n",
    "    print(key, value, new_chip3[key], snpchimp3[key])"
   ]
  },
  {
   "cell_type": "markdown",
   "id": "offensive-strengthening",
   "metadata": {},
   "source": [
    "If the coordinates downloaded from illumina are correct **It seems clear that SNPchimp coordinates need to be updated**. However which snps are updated from SNPchimp to illumina site?"
   ]
  },
  {
   "cell_type": "code",
   "execution_count": 21,
   "id": "random-import",
   "metadata": {},
   "outputs": [
    {
     "name": "stdout",
     "output_type": "stream",
     "text": [
      "250506CS3900065000002_1238.1 ('15', 5870057) ('15', 5870057)\n",
      "250506CS3900140500001_312.1 ('23', 26298017) ('23', 26298017)\n",
      "250506CS3900176800001_906.1 ('7', 81648528) ('7', 81648528)\n",
      "250506CS3900211600001_1041.1 ('16', 41355381) ('16', 41355381)\n",
      "250506CS3900218700001_1294.1 ('2', 148802744) ('2', 148802744)\n",
      "250506CS3900283200001_442.1 ('1', 188498238) ('99', 0)\n",
      "250506CS3900371000001_1255.1 ('11', 35339123) ('11', 35339123)\n",
      "250506CS3900386000001_696.1 ('16', 62646307) ('16', 62646307)\n",
      "250506CS3900414400001_1178.1 ('1', 103396552) ('1', 103396552)\n",
      "250506CS3900435700001_1658.1 ('12', 45221821) ('99', 0)\n",
      "...\n",
      "\n",
      "N of SNPs in different positions from illumina to SNPchimp: 6463\n"
     ]
    }
   ],
   "source": [
    "count = 0\n",
    "\n",
    "for i, (key, value) in enumerate(new_chip3.items()):\n",
    "    if value != snpchimp3[key]:\n",
    "        count += 1\n",
    "    if i < 10:\n",
    "        print(key, value, snpchimp3[key])\n",
    "    elif i == 10:\n",
    "        print(\"...\")\n",
    "        \n",
    "print(f\"\\nN of SNPs in different positions from illumina to SNPchimp: {count}\")"
   ]
  },
  {
   "cell_type": "markdown",
   "id": "adjustable-annotation",
   "metadata": {},
   "source": [
    "Last consideration: is illumina codification equal to SNPchimp? I expect yes for *TOP/BOT*"
   ]
  },
  {
   "cell_type": "code",
   "execution_count": 22,
   "id": "offshore-helicopter",
   "metadata": {},
   "outputs": [
    {
     "name": "stdout",
     "output_type": "stream",
     "text": [
      "250506CS3900065000002_1238.1 ('TOP', '[A/G]', 'BOT') ('bottom', 'C/T', 'A/G')\n",
      "250506CS3900140500001_312.1 ('TOP', '[A/G]', 'BOT') ('bottom', 'C/T', 'A/G')\n",
      "250506CS3900176800001_906.1 ('BOT', '[T/C]', 'BOT') ('bottom', 'C/T', 'A/G')\n",
      "250506CS3900211600001_1041.1 ('TOP', '[A/C]', 'BOT') ('bottom', 'G/T', 'A/C')\n",
      "250506CS3900218700001_1294.1 ('TOP', '[A/G]', 'BOT') ('bottom', 'C/T', 'A/G')\n",
      "250506CS3900283200001_442.1 ('TOP', '[A/C]', 'BOT') ('NULL', 'NULL', 'A/C')\n",
      "250506CS3900371000001_1255.1 ('BOT', '[T/C]', 'BOT') ('bottom', 'C/T', 'A/G')\n",
      "250506CS3900386000001_696.1 ('TOP', '[A/G]', 'TOP') ('top', 'A/G', 'A/G')\n",
      "250506CS3900414400001_1178.1 ('BOT', '[T/C]', 'TOP') ('top', 'A/G', 'A/G')\n",
      "250506CS3900435700001_1658.1 ('BOT', '[T/C]', 'TOP') ('NULL', 'NULL', 'A/G')\n",
      "250506CS3900464100001_519.1 ('TOP', '[A/G]', 'TOP') ('top', 'A/G', 'A/G')\n",
      "250506CS3900487100001_1521.1 ('TOP', '[A/G]', 'TOP') ('top', 'A/G', 'A/G')\n",
      "250506CS3900539000001_471.1 ('TOP', '[A/G]', 'BOT') ('bottom', 'C/T', 'A/G')\n",
      "250506CS3901012300001_913.1 ('TOP', '[A/G]', 'TOP') ('top', 'A/G', 'A/G')\n",
      "250506CS3901300500001_1084.1 ('TOP', '[A/G]', 'BOT') ('bottom', 'C/T', 'A/G')\n",
      "CL635241_413.1 ('TOP', '[A/G]', 'TOP') ('top', 'A/G', 'A/G')\n",
      "CL635750_128.1 ('BOT', '[T/C]', 'BOT') ('bottom', 'C/T', 'A/G')\n",
      "CL635944_160.1 ('BOT', '[T/C]', 'BOT') ('bottom', 'C/T', 'A/G')\n",
      "Contig35697_5761.1 ('BOT', '[T/C]', 'BOT') ('bottom', 'C/T', 'A/G')\n",
      "CR_594.1 ('TOP', '[A/G]', 'BOT') ('NULL', 'NULL', 'A/G')\n"
     ]
    }
   ],
   "source": [
    "snpchimp3_code = dict()\n",
    "for record in src.features.snpchimp.read_snpChimp(snpchimp3_file):\n",
    "    snpchimp3_code[record.snp_name] = (record.strand, record.alleles, record.alleles_a_b_top)\n",
    "    \n",
    "new_chip3_code = dict()\n",
    "for record in src.features.illumina.read_snpChip(Path(chip_dir, \"ovinesnp50-genome-assembly-oar-v3-1.csv\")):\n",
    "    new_chip3_code[record.name] = (record.ilmnstrand, record.snp, record.sourcestrand)\n",
    "    \n",
    "for key, value in itertools.islice(new_chip3_code.items(), 20):\n",
    "    print(key, value, snpchimp3_code[key])"
   ]
  },
  {
   "cell_type": "markdown",
   "id": "latest-termination",
   "metadata": {},
   "source": [
    "Everytime that illumina has a BOT in `ilmstrand` the `alleles_a_b_top` in snipchimp is reversed complement"
   ]
  },
  {
   "cell_type": "markdown",
   "id": "robust-congress",
   "metadata": {},
   "source": [
    "### Does SNPChimp store the latest informations for *oarv_4*?"
   ]
  },
  {
   "cell_type": "code",
   "execution_count": 23,
   "id": "intense-thursday",
   "metadata": {},
   "outputs": [
    {
     "name": "stdout",
     "output_type": "stream",
     "text": [
      "['250506CS3900065000002_1238.1', '250506CS3900140500001_312.1', '250506CS3900176800001_906.1', '250506CS3900211600001_1041.1', '250506CS3900218700001_1294.1', '250506CS3900283200001_442.1', '250506CS3900371000001_1255.1', '250506CS3900386000001_696.1', '250506CS3900414400001_1178.1', '250506CS3900435700001_1658.1']\n",
      "Oarv4 chip size: 54241\n"
     ]
    }
   ],
   "source": [
    "chip4 = dict()\n",
    "for record in src.features.illumina.read_snpChip(os.path.join(chip_dir, \"OvineSNP50_B2.csv\"), size=256):\n",
    "    chip4[record.name] = (record.chr, record.mapinfo)\n",
    "print(list(chip4.keys())[:10])\n",
    "print(\"Oarv4 chip size: %s\" % len(chip4.keys()))"
   ]
  },
  {
   "cell_type": "markdown",
   "id": "capable-advantage",
   "metadata": {},
   "source": [
    "Are the keys the same? using `old_chip3` as a reference (`new_chip3` has the same keys)"
   ]
  },
  {
   "cell_type": "code",
   "execution_count": 24,
   "id": "friendly-bailey",
   "metadata": {},
   "outputs": [
    {
     "data": {
      "text/plain": [
       "True"
      ]
     },
     "execution_count": 24,
     "metadata": {},
     "output_type": "execute_result"
    }
   ],
   "source": [
    "sorted(old_chip3.keys()) == sorted(chip4.keys())"
   ]
  },
  {
   "cell_type": "markdown",
   "id": "federal-cisco",
   "metadata": {},
   "source": [
    "Does SNPchimp have the same keys and positions of `chip4`?"
   ]
  },
  {
   "cell_type": "code",
   "execution_count": 25,
   "id": "nervous-plaza",
   "metadata": {},
   "outputs": [
    {
     "name": "stdout",
     "output_type": "stream",
     "text": [
      "SNPchimp snps for oarv4: 54241\n"
     ]
    },
    {
     "data": {
      "text/plain": [
       "True"
      ]
     },
     "execution_count": 25,
     "metadata": {},
     "output_type": "execute_result"
    }
   ],
   "source": [
    "snpchimp4_file = snpchimp_dir / \"SNPchimp_SHE_SNP50v1_oar4.0.csv\"\n",
    "snpchimp4 = dict()\n",
    "for record in src.features.snpchimp.read_snpChimp(snpchimp4_file):\n",
    "    snpchimp4[record.snp_name] = (record.chromosome, record.position)\n",
    "print(\"SNPchimp snps for oarv4: %s\" % len(snpchimp4.keys()))\n",
    "sorted(chip4.keys()) == sorted(snpchimp4.keys())"
   ]
  },
  {
   "cell_type": "markdown",
   "id": "central-hearts",
   "metadata": {},
   "source": [
    "Should SNPchimp oarv4 coordinates be updated?"
   ]
  },
  {
   "cell_type": "code",
   "execution_count": 26,
   "id": "aboriginal-butterfly",
   "metadata": {},
   "outputs": [
    {
     "name": "stdout",
     "output_type": "stream",
     "text": [
      "250506CS3900065000002_1238.1 ('15', 5859890) ('15', 5859890)\n",
      "250506CS3900140500001_312.1 ('23', 26243215) ('23', 26243215)\n",
      "250506CS3900176800001_906.1 ('7', 81590897) ('7', 81590897)\n",
      "250506CS3900211600001_1041.1 ('16', 41363310) ('16', 41363310)\n",
      "250506CS3900218700001_1294.1 ('2', 148834939) ('2', 148834939)\n",
      "250506CS3900283200001_442.1 ('1', 188328803) ('99', 0)\n",
      "250506CS3900371000001_1255.1 ('11', 35291132) ('11', 35291132)\n",
      "250506CS3900386000001_696.1 ('16', 62648296) ('16', 62648296)\n",
      "250506CS3900414400001_1178.1 ('1', 103285485) ('1', 103285485)\n",
      "250506CS3900435700001_1658.1 ('12', 45150716) ('99', 0)\n",
      "...\n",
      "\n",
      "N of SNPs in different positions from illumina to SNPchimp: 6471\n"
     ]
    }
   ],
   "source": [
    "count = 0\n",
    "\n",
    "for i, (key, value) in enumerate(chip4.items()):\n",
    "    if value != snpchimp4[key]:\n",
    "        count += 1\n",
    "    if i < 10:\n",
    "        print(key, value, snpchimp4[key])\n",
    "    elif i == 10:\n",
    "        print(\"...\")\n",
    "        \n",
    "print(f\"\\nN of SNPs in different positions from illumina to SNPchimp: {count}\")"
   ]
  },
  {
   "cell_type": "markdown",
   "id": "convertible-yahoo",
   "metadata": {},
   "source": [
    "There are ~ 6500 SNPs in SNPchimp that need to be updated"
   ]
  }
 ],
 "metadata": {
  "kernelspec": {
   "display_name": "Python 3",
   "language": "python",
   "name": "python3"
  },
  "language_info": {
   "codemirror_mode": {
    "name": "ipython",
    "version": 3
   },
   "file_extension": ".py",
   "mimetype": "text/x-python",
   "name": "python",
   "nbconvert_exporter": "python",
   "pygments_lexer": "ipython3",
   "version": "3.9.1"
  }
 },
 "nbformat": 4,
 "nbformat_minor": 5
}
