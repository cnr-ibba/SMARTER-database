{
 "cells": [
  {
   "cell_type": "markdown",
   "id": "handled-vegetarian",
   "metadata": {},
   "source": [
    "# CREOLE_INIA_UY\n",
    "describe `CREOLE_INIA_UY.zip` file"
   ]
  },
  {
   "cell_type": "code",
   "execution_count": 1,
   "id": "color-cycle",
   "metadata": {},
   "outputs": [],
   "source": [
    "import io\n",
    "import csv\n",
    "import itertools\n",
    "\n",
    "from collections import Counter\n",
    "from zipfile import ZipFile\n",
    "from pathlib import Path\n",
    "\n",
    "from src.features.smarterdb import VariantSheep, global_connection"
   ]
  },
  {
   "cell_type": "code",
   "execution_count": 2,
   "id": "mechanical-methodology",
   "metadata": {},
   "outputs": [],
   "source": [
    "project_dir = Path.cwd().parents[1]\n",
    "datafile = project_dir / \"data/raw/background/CREOLE_INIA_UY.zip\""
   ]
  },
  {
   "cell_type": "markdown",
   "id": "initial-calculator",
   "metadata": {},
   "source": [
    "Try to inspect dataset"
   ]
  },
  {
   "cell_type": "code",
   "execution_count": 3,
   "id": "instructional-rugby",
   "metadata": {},
   "outputs": [
    {
     "name": "stdout",
     "output_type": "stream",
     "text": [
      "File Name                                             Modified             Size\n",
      "JCM2357_UGY_FinalReport1.txt                   2020-12-10 10:09:26   1964410641\n",
      "JCM2357_UGY_FinalReport2.txt                   2020-12-10 10:09:34   1964401618\n",
      "OvineHDSNPList.txt                             2020-12-10 10:09:44     31795931\n"
     ]
    }
   ],
   "source": [
    "handle = ZipFile(datafile)\n",
    "handle.printdir()"
   ]
  },
  {
   "cell_type": "markdown",
   "id": "generous-sociology",
   "metadata": {},
   "source": [
    "This time I don't have *map/ped* files, but two final reports"
   ]
  },
  {
   "cell_type": "code",
   "execution_count": 4,
   "id": "imposed-savings",
   "metadata": {},
   "outputs": [
    {
     "name": "stdout",
     "output_type": "stream",
     "text": [
      "[Header]\n",
      "GSGT Version\t1.9.4\n",
      "Processing Date\t11/29/2013 4:47 PM\n",
      "Content\t\tSheepHD_AgResearch_Cons_15041608_A.bpm\n",
      "Num SNPs\t606006\n",
      "Total SNPs\t606006\n",
      "Num Samples\t174\n",
      "Total Samples\t182\n",
      "File \t1 of 4\n",
      "[Data]\n",
      "SNP Name\tSample ID\tAllele1 - AB\tAllele2 - AB\tX\tY\tGC Score\n",
      "250506CS3900140500001_312.1\tJC2356_B01_20131108002\tB\tB\t0.013\t0.950\t0.9403\n",
      "250506CS3900176800001_906.1\tJC2356_B01_20131108002\tB\tB\t0.008\t0.957\t0.9288\n",
      "250506CS3900211600001_1041.1\tJC2356_B01_20131108002\tA\tB\t0.681\t0.620\t0.9250\n",
      "250506CS3900218700001_1294.1\tJC2356_B01_20131108002\tA\tB\t0.300\t0.517\t0.8089\n"
     ]
    }
   ],
   "source": [
    "with io.TextIOWrapper(handle.open(\"JCM2357_UGY_FinalReport1.txt\"), encoding=\"utf-8\") as f:\n",
    "    for line in itertools.islice(f, 15):\n",
    "        print(line.strip())"
   ]
  },
  {
   "cell_type": "markdown",
   "id": "sixth-warrant",
   "metadata": {},
   "source": [
    "Its seems that I have only 2 of total 4 files. Genotypes are described in *AB* format. How many SNPs I have for each sample?"
   ]
  },
  {
   "cell_type": "code",
   "execution_count": 5,
   "id": "champion-regression",
   "metadata": {},
   "outputs": [
    {
     "name": "stdout",
     "output_type": "stream",
     "text": [
      "['SNP Name', 'Sample ID', 'Allele1 - AB', 'Allele2 - AB', 'X', 'Y', 'GC Score']\n",
      "N of samples: 49\n"
     ]
    }
   ],
   "source": [
    "counts1 = Counter()\n",
    "with io.TextIOWrapper(handle.open(\"JCM2357_UGY_FinalReport1.txt\"), encoding=\"utf-8\") as f:\n",
    "    reader = csv.reader(f, delimiter=\"\\t\")\n",
    "    # skip first 10 lines\n",
    "    [next(reader) for i in range(10)]\n",
    "    header = next(reader)\n",
    "    print(header)\n",
    "    for line in reader:\n",
    "        counts1[line[1]] += 1\n",
    "print(\"N of samples: %s\" % len(counts1))\n",
    "max_snps = counts1.most_common()[0][1]\n",
    "max_snps == 606006\n",
    "for key, count in counts1.items():\n",
    "    if count < max_snps:\n",
    "        print(f\"Sample {key} has {count} snps\")"
   ]
  },
  {
   "cell_type": "markdown",
   "id": "suspected-douglas",
   "metadata": {},
   "source": [
    "Is seems that in the first file we have only 49 samples. Each sample has 606006 SNPs. What about the second file?"
   ]
  },
  {
   "cell_type": "code",
   "execution_count": 6,
   "id": "advance-houston",
   "metadata": {},
   "outputs": [
    {
     "name": "stdout",
     "output_type": "stream",
     "text": [
      "['SNP Name', 'Sample ID', 'Allele1 - AB', 'Allele2 - AB', 'X', 'Y', 'GC Score']\n",
      "N of samples: 49\n"
     ]
    }
   ],
   "source": [
    "counts2 = Counter()\n",
    "with io.TextIOWrapper(handle.open(\"JCM2357_UGY_FinalReport2.txt\"), encoding=\"utf-8\") as f:\n",
    "    reader = csv.reader(f, delimiter=\"\\t\")\n",
    "    # skip first 10 lines\n",
    "    [next(reader) for i in range(10)]\n",
    "    header = next(reader)\n",
    "    print(header)\n",
    "    for line in reader:\n",
    "        counts2[line[1]] += 1\n",
    "print(\"N of samples: %s\" % len(counts2))\n",
    "max_snps = counts2.most_common()[0][1]\n",
    "max_snps == 606006\n",
    "for key, count in counts2.items():\n",
    "    if count < max_snps:\n",
    "        print(f\"Sample {key} has {count} snps\")"
   ]
  },
  {
   "cell_type": "markdown",
   "id": "local-payday",
   "metadata": {},
   "source": [
    "Even the second file has 49 samples. Does the samples are different?"
   ]
  },
  {
   "cell_type": "code",
   "execution_count": 7,
   "id": "gentle-blogger",
   "metadata": {},
   "outputs": [
    {
     "name": "stdout",
     "output_type": "stream",
     "text": [
      "Samples in common: set()\n",
      "Samples total: 98\n"
     ]
    }
   ],
   "source": [
    "s1 = set(counts1)\n",
    "s2 = set(counts2)\n",
    "common = s1.intersection(s2)\n",
    "print(f\"Samples in common: {common}\")\n",
    "samples = s1.union(s2)\n",
    "print(f\"Samples total: {len(samples)}\")"
   ]
  },
  {
   "cell_type": "markdown",
   "id": "eligible-front",
   "metadata": {},
   "source": [
    "I have 98 samples as described in the dataset for `CREOLE_INIA_UY.zip`. Are coordinates updated (at least for the set of SNPs in common between 50K and HD chips)?"
   ]
  },
  {
   "cell_type": "code",
   "execution_count": 8,
   "id": "composed-gauge",
   "metadata": {},
   "outputs": [
    {
     "name": "stdout",
     "output_type": "stream",
     "text": [
      "['Name', 'Chr', 'Position', 'Index', 'SNP', 'Customer Strand', 'ILMN Strand']\n",
      "snp 250506CS3900283200001_442.1 with different positions: 1:188498238<>99:0\n",
      "snp 250506CS3900371000001_1255.1 with different positions: 11:35339124<>11:35339123\n",
      "snp DU176899_379.1 with different positions: 4:109822674<>99:0\n",
      "snp DU186191_327.1 with different positions: 26:4328182<>26:4328183\n",
      "snp DU191809_420.1 with different positions: 1:187088011<>1:187087905\n",
      "snp DU205548_223.1 with different positions: 19:28181245<>99:0\n",
      "snp DU206996_498.1 with different positions: 5:33163650<>5:33163649\n",
      "snp DU235701_99.1 with different positions: 11:25545773<>99:0\n",
      "snp DU247686_322.1 with different positions: 2:23366203<>99:0\n",
      "snp DU281388_299.1 with different positions: 24:5384735<>99:0\n",
      "snp DU287575_503.1 with different positions: 0:0<>99:0\n",
      "snp DU287626_225.1 with different positions: 1:186538026<>99:0\n",
      "snp DU289160_204.1 with different positions: 3:177231430<>3:177231431\n",
      "snp DU299150_230.1 with different positions: 2:104364614<>99:0\n",
      "snp DU307202_445.1 with different positions: 14:56792565<>99:0\n"
     ]
    }
   ],
   "source": [
    "global_connection()\n",
    "with io.TextIOWrapper(handle.open(\"OvineHDSNPList.txt\"), encoding=\"utf-8\") as f:\n",
    "    reader = csv.reader(f, delimiter=\"\\t\")\n",
    "    header = next(reader)\n",
    "    print(header)\n",
    "    for line in itertools.islice(reader, 200):\n",
    "        qs = VariantSheep.objects(name=line[0])\n",
    "        if qs.count() > 0:\n",
    "            variant = qs.get()\n",
    "            location = next(filter(lambda loc: loc.imported_from == \"SNPchiMp v.3\", variant.locations))\n",
    "            if line[1] != location.chrom or int(line[2]) != location.position:\n",
    "                print(f\"snp {line[0]} with different positions: {line[1]}:{line[2]}<>{location.chrom}:{location.position}\")"
   ]
  },
  {
   "cell_type": "markdown",
   "id": "instant-purse",
   "metadata": {},
   "source": [
    "It seems to me that positions should be updated. Can I infer genotypes from this file?"
   ]
  },
  {
   "cell_type": "code",
   "execution_count": 9,
   "id": "featured-instruction",
   "metadata": {},
   "outputs": [
    {
     "name": "stdout",
     "output_type": "stream",
     "text": [
      "['name', 'SNP', 'Customer Strand', 'ILMN Strand', 'alleles', 'illumina_top', 'strand', 'ilmnstrand']\n",
      "250506CS3900140500001_312.1: [A/G],BOT,TOP -> C/T,A/G,bottom,forward\n",
      "250506CS3900176800001_906.1: [T/C],BOT,BOT -> C/T,A/G,bottom,forward\n",
      "250506CS3900211600001_1041.1: [A/C],BOT,TOP -> G/T,A/C,bottom,forward\n",
      "250506CS3900218700001_1294.1: [A/G],BOT,TOP -> C/T,A/G,bottom,forward\n",
      "250506CS3900283200001_442.1: [A/C],BOT,TOP -> None,A/C,None,None\n",
      "250506CS3900371000001_1255.1: [T/C],BOT,BOT -> C/T,A/G,bottom,forward\n",
      "250506CS3900386000001_696.1: [A/G],TOP,TOP -> A/G,A/G,top,forward\n",
      "250506CS3900487100001_1521.1: [A/G],TOP,TOP -> A/G,A/G,top,forward\n",
      "250506CS3901300500001_1084.1: [T/C],BOT,BOT -> C/T,A/G,bottom,forward\n",
      "CL635241_413.1: [A/G],TOP,TOP -> A/G,A/G,top,forward\n"
     ]
    }
   ],
   "source": [
    "with io.TextIOWrapper(handle.open(\"OvineHDSNPList.txt\"), encoding=\"utf-8\") as f:\n",
    "    reader = csv.reader(f, delimiter=\"\\t\")\n",
    "    header = next(reader)\n",
    "    # print(header)\n",
    "    print([\"name\", \"SNP\", \"Customer Strand\", \"ILMN Strand\", \"alleles\", \"illumina_top\", \"strand\", \"ilmnstrand\"])\n",
    "    for line in itertools.islice(reader, 10):\n",
    "        qs = VariantSheep.objects(name=line[0])\n",
    "        if qs.count() > 0:\n",
    "            variant = qs.get()\n",
    "            location = next(filter(lambda loc: loc.imported_from == \"SNPchiMp v.3\", variant.locations))\n",
    "            print(f\"{line[0]}: {','.join(line[4:])} -> {','.join([str(location.alleles), str(location.illumina_top), str(location.strand), str(location.ilmnstrand)])}\")"
   ]
  },
  {
   "cell_type": "code",
   "execution_count": null,
   "id": "looking-invasion",
   "metadata": {},
   "outputs": [],
   "source": []
  }
 ],
 "metadata": {
  "kernelspec": {
   "display_name": "Python 3",
   "language": "python",
   "name": "python3"
  },
  "language_info": {
   "codemirror_mode": {
    "name": "ipython",
    "version": 3
   },
   "file_extension": ".py",
   "mimetype": "text/x-python",
   "name": "python",
   "nbconvert_exporter": "python",
   "pygments_lexer": "ipython3",
   "version": "3.9.1"
  }
 },
 "nbformat": 4,
 "nbformat_minor": 5
}
