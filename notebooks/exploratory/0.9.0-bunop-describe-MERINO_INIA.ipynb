{
 "cells": [
  {
   "cell_type": "markdown",
   "id": "forty-jamaica",
   "metadata": {},
   "source": [
    "# MERINO_INIA_UY\n",
    "Describing `MERINO_INIA_UY.zip` file"
   ]
  },
  {
   "cell_type": "code",
   "execution_count": 1,
   "id": "atomic-plumbing",
   "metadata": {},
   "outputs": [],
   "source": [
    "import io\n",
    "import itertools\n",
    "import pandas as pd\n",
    "\n",
    "from zipfile import ZipFile\n",
    "\n",
    "import src.features.illumina\n",
    "from src.features.smarterdb import VariantSheep, global_connection, Dataset, Breed\n",
    "from src.features.utils import get_project_dir\n",
    "from src.features.plinkio import TextPlinkIO"
   ]
  },
  {
   "cell_type": "code",
   "execution_count": 2,
   "id": "pleasant-republican",
   "metadata": {},
   "outputs": [],
   "source": [
    "project_dir = get_project_dir()\n",
    "datafile = project_dir / \"data/raw/background/MERINO_INIA_UY.zip\""
   ]
  },
  {
   "cell_type": "code",
   "execution_count": 3,
   "id": "developing-beaver",
   "metadata": {},
   "outputs": [
    {
     "name": "stdout",
     "output_type": "stream",
     "text": [
      "File Name                                             Modified             Size\n",
      "Merino_21_12_17_OV54k_FinalReport.txt          2020-12-03 14:37:44    383851065\n",
      "Merino_21_12_17_OV54k_SNP_Map.txt              2020-12-03 14:37:54      3012148\n",
      "MERINO_UY_96_21_12_17_OV54k.ped                2020-12-09 17:24:20     20831616\n",
      "MERINO_UY_96_21_12_17_OV54k.map                2020-12-09 17:24:22      1502260\n"
     ]
    }
   ],
   "source": [
    "handle = ZipFile(datafile)\n",
    "handle.printdir()"
   ]
  },
  {
   "cell_type": "markdown",
   "id": "handy-manor",
   "metadata": {},
   "source": [
    "Merino dataset have map/ped with final report and snp map. Get info from final report:"
   ]
  },
  {
   "cell_type": "code",
   "execution_count": 4,
   "id": "cooked-demonstration",
   "metadata": {},
   "outputs": [
    {
     "name": "stdout",
     "output_type": "stream",
     "text": [
      "[Header]\n",
      "GSGT Version\t2.0.3\n",
      "Processing Date\t12/21/2017 11:39 AM\n",
      "Content\t\tovinesnp50_b.bpm\n",
      "Num SNPs\t54241\n",
      "Total SNPs\t54241\n",
      "Num Samples\t96\n",
      "Total Samples\t96\n",
      "[Data]\n",
      "SNP Name\tSample ID\tAllele1 - Forward\tAllele2 - Forward\tAllele1 - AB\tAllele2 - AB\tAllele1 - Top\tAllele2 - Top\tGC Score\tX\tY\tB Allele Freq\tLog R Ratio\n",
      "250506CS3900065000002_1238.1\t201711200001\tT\tC\tA\tB\tA\tG\t0.9239\t0.727\t0.647\t0.5027\t-0.1292\n",
      "250506CS3900140500001_312.1\t201711200001\tT\tT\tA\tA\tA\tA\t0.9613\t0.654\t0.005\t0.0000\t-0.1364\n"
     ]
    }
   ],
   "source": [
    "with io.TextIOWrapper(handle.open(\"Merino_21_12_17_OV54k_FinalReport.txt\"), encoding=\"utf-8\") as f:\n",
    "    for line in itertools.islice(f, 12):\n",
    "        print(line.strip())"
   ]
  },
  {
   "cell_type": "markdown",
   "id": "announced-bidding",
   "metadata": {},
   "source": [
    "Data seems to be recent (2017). Are coordinates in latest 3.1?"
   ]
  },
  {
   "cell_type": "code",
   "execution_count": 5,
   "id": "hourly-master",
   "metadata": {},
   "outputs": [],
   "source": [
    "data_coordinates = dict()\n",
    "with io.TextIOWrapper(handle.open(\"MERINO_UY_96_21_12_17_OV54k.map\"), encoding=\"utf-8\") as f:\n",
    "    for record in f:\n",
    "        record = record.split()\n",
    "        data_coordinates[record[1]] = (record[0], int(record[3]))"
   ]
  },
  {
   "cell_type": "code",
   "execution_count": 6,
   "id": "upper-judgment",
   "metadata": {},
   "outputs": [
    {
     "name": "stderr",
     "output_type": "stream",
     "text": [
      "Skipping: Illumina, Inc.,,,,,,,,,,,,,,,,,,,\n",
      "Skipping: [Heading],,,,,,,,,,,,,,,,,,,,\n",
      "Skipping: Descriptor File Name,OvineSNP50_B.bpm,,,,,,,,,,,,,,,,,,,\n",
      "Skipping: Assay Format,Infinium HD Ultra,,,,,,,,,,,,,,,,,,,\n",
      "Skipping: Date Manufactured,1/7/2009,,,,,,,,,,,,,,,,,,,\n",
      "Skipping: Loci Count ,54241,,,,,,,,,,,,,,,,,,,\n"
     ]
    },
    {
     "name": "stderr",
     "output_type": "stream",
     "text": [
      "Skipping: [Assay],,,,,,,,,,,,,,,,,,,,\n"
     ]
    }
   ],
   "source": [
    "chip_dir = project_dir / \"data/external/SHE/ILLUMINA/\"\n",
    "old_chip3_file = chip_dir / \"ovinesnp50_b.csv.gz\"\n",
    "old_chip3 = dict()\n",
    "for record in src.features.illumina.read_Manifest(old_chip3_file, delimiter=\",\"):\n",
    "    old_chip3[record.name] = (record.chr, record.mapinfo)"
   ]
  },
  {
   "cell_type": "code",
   "execution_count": 7,
   "id": "european-retailer",
   "metadata": {},
   "outputs": [
    {
     "name": "stdout",
     "output_type": "stream",
     "text": [
      "s17862.1 ('Contig', 0) ('CONTIG', 0)\n",
      "\n",
      "N of SNPs in different positions in merino and old chip3: 1\n",
      "\n",
      "N of SNPs in merino not in chip: 0\n"
     ]
    }
   ],
   "source": [
    "count = 0\n",
    "missing = 0\n",
    "\n",
    "for key, value in old_chip3.items():\n",
    "    if key not in data_coordinates:\n",
    "        missing += 1\n",
    "        continue\n",
    "\n",
    "    if value != data_coordinates[key]:\n",
    "        count += 1\n",
    "        if count <= 10:\n",
    "            print(key, value, data_coordinates[key])\n",
    "\n",
    "print(f\"\\nN of SNPs in different positions in merino and old chip3: {count}\")\n",
    "print(f\"\\nN of SNPs in merino not in chip: {missing}\")"
   ]
  },
  {
   "cell_type": "markdown",
   "id": "amateur-schema",
   "metadata": {},
   "source": [
    "Despite data were made in 2017, coordinates seems to be in the old reference. Check with database:"
   ]
  },
  {
   "cell_type": "code",
   "execution_count": 8,
   "id": "sustainable-mailman",
   "metadata": {},
   "outputs": [
    {
     "name": "stdout",
     "output_type": "stream",
     "text": [
      "snp 250506CS3900065000002_1238.1 with different positions: 15:5327353 <> 15:5870057\n",
      "snp 250506CS3900140500001_312.1 with different positions: 23:27428869 <> 23:26298017\n",
      "snp 250506CS3900176800001_906.1 with different positions: 7:89002990 <> 7:81648528\n",
      "snp 250506CS3900211600001_1041.1 with different positions: 16:44955568 <> 16:41355381\n",
      "snp 250506CS3900218700001_1294.1 with different positions: 2:157820235 <> 2:148802744\n",
      "snp 250506CS3900283200001_442.1 with different positions: 1:203289635 <> 0:0\n",
      "snp 250506CS3900371000001_1255.1 with different positions: 11:37632867 <> 11:35339123\n",
      "snp 250506CS3900386000001_696.1 with different positions: 16:68297712 <> 16:62646307\n",
      "snp 250506CS3900414400001_1178.1 with different positions: 1:111100644 <> 1:103396552\n",
      "snp 250506CS3900435700001_1658.1 with different positions: 12:50140951 <> 0:0\n",
      "snp 250506CS3900464100001_519.1 with different positions: 1:91075445 <> 1:85767398\n",
      "snp 250506CS3900487100001_1521.1 with different positions: 14:1552575 <> 14:1110363\n",
      "snp 250506CS3900539000001_471.1 with different positions: X:74622875 <> X:115765957\n",
      "snp 250506CS3901012300001_913.1 with different positions: 2:108065980 <> 2:100479305\n",
      "snp 250506CS3901300500001_1084.1 with different positions: 7:97296387 <> 7:89431547\n",
      "snp CL635241_413.1 with different positions: 3:196207011 <> 3:182202867\n",
      "snp CL635750_128.1 with different positions: 3:242198228 <> 3:223741135\n",
      "snp CL635944_160.1 with different positions: 0:0 <> 6:114778683\n",
      "snp Contig35697_5761.1 with different positions: 0:0 <> 6:18835475\n"
     ]
    }
   ],
   "source": [
    "global_connection()\n",
    "for key, value in itertools.islice(data_coordinates.items(), 20):\n",
    "    qs = VariantSheep.objects(name=key)\n",
    "\n",
    "    if qs.count() > 0:\n",
    "        variant = qs.get()\n",
    "        location = next(filter(lambda loc: loc.imported_from == \"SNPchiMp v.3\", variant.locations))\n",
    "        if value[0] != location.chrom or int(value[1]) != location.position:\n",
    "            print(f\"snp {key} with different positions: {value[0]}:{value[1]} <> {location.chrom}:{location.position}\")"
   ]
  },
  {
   "cell_type": "markdown",
   "id": "aware-logging",
   "metadata": {},
   "source": [
    "## Fix metadata\n",
    "\n",
    "There are some animals which are imported (have GPS coordinates not in uruguay). So read from metadata and write a new metadata samples with the proper country. First, get samples and breed from ped file:"
   ]
  },
  {
   "cell_type": "code",
   "execution_count": 9,
   "id": "94f16289",
   "metadata": {},
   "outputs": [],
   "source": [
    "dataset = Dataset.objects.get(file=\"MERINO_INIA_UY.zip\")\n",
    "plinkio = TextPlinkIO(\n",
    "    prefix=str(dataset.working_dir / \"MERINO_UY_96_21_12_17_OV54k\"),\n",
    "    species=dataset.species,\n",
    "    chip_name=dataset.chip_name)"
   ]
  },
  {
   "cell_type": "markdown",
   "id": "89133e3c",
   "metadata": {},
   "source": [
    "Now get `fid` and `iid`:"
   ]
  },
  {
   "cell_type": "code",
   "execution_count": 10,
   "id": "d6579319",
   "metadata": {},
   "outputs": [
    {
     "data": {
      "text/plain": [
       "[['MERINO_UY', '201711200001'],\n",
       " ['MERINO_UY', '201711200002'],\n",
       " ['MERINO_UY', '201711200003'],\n",
       " ['MERINO_UY', '201711200004'],\n",
       " ['MERINO_UY', '201711200005'],\n",
       " ['MERINO_UY', '201711200006'],\n",
       " ['MERINO_UY', '201711200007'],\n",
       " ['MERINO_UY', '201711200008'],\n",
       " ['MERINO_UY', '201711200009'],\n",
       " ['MERINO_UY', '201711200010']]"
      ]
     },
     "execution_count": 10,
     "metadata": {},
     "output_type": "execute_result"
    }
   ],
   "source": [
    "samples = [[fid, iid] for fid, iid, *_ in plinkio.read_pedfile()]\n",
    "samples[:10]"
   ]
  },
  {
   "cell_type": "markdown",
   "id": "76efc585",
   "metadata": {},
   "source": [
    "Ok, now I need to open the proper metadata file, in order to select the animal I need:"
   ]
  },
  {
   "cell_type": "code",
   "execution_count": 11,
   "id": "f33c25d1",
   "metadata": {},
   "outputs": [
    {
     "data": {
      "text/html": [
       "<div>\n",
       "<style scoped>\n",
       "    .dataframe tbody tr th:only-of-type {\n",
       "        vertical-align: middle;\n",
       "    }\n",
       "\n",
       "    .dataframe tbody tr th {\n",
       "        vertical-align: top;\n",
       "    }\n",
       "\n",
       "    .dataframe thead th {\n",
       "        text-align: right;\n",
       "    }\n",
       "</style>\n",
       "<table border=\"1\" class=\"dataframe\">\n",
       "  <thead>\n",
       "    <tr style=\"text-align: right;\">\n",
       "      <th></th>\n",
       "      <th>ID</th>\n",
       "      <th>Breed</th>\n",
       "      <th>Stall</th>\n",
       "      <th>GPS_Coordinates</th>\n",
       "      <th>GPS_2</th>\n",
       "    </tr>\n",
       "  </thead>\n",
       "  <tbody>\n",
       "    <tr>\n",
       "      <th>0</th>\n",
       "      <td>1</td>\n",
       "      <td>Corriedale</td>\n",
       "      <td>CIEDAG</td>\n",
       "      <td>-33.86937579589417, -55.57265008365528</td>\n",
       "      <td>https://www.google.com/maps/place/CIEDAG+-+Sec...</td>\n",
       "    </tr>\n",
       "    <tr>\n",
       "      <th>1</th>\n",
       "      <td>10</td>\n",
       "      <td>Corriedale</td>\n",
       "      <td>CIEDAG</td>\n",
       "      <td>-33.86937579589417, -55.57265008365528</td>\n",
       "      <td>https://www.google.com/maps/place/CIEDAG+-+Sec...</td>\n",
       "    </tr>\n",
       "    <tr>\n",
       "      <th>2</th>\n",
       "      <td>11</td>\n",
       "      <td>Corriedale</td>\n",
       "      <td>CIEDAG</td>\n",
       "      <td>-33.86937579589417, -55.57265008365528</td>\n",
       "      <td>https://www.google.com/maps/place/CIEDAG+-+Sec...</td>\n",
       "    </tr>\n",
       "    <tr>\n",
       "      <th>3</th>\n",
       "      <td>12</td>\n",
       "      <td>Corriedale</td>\n",
       "      <td>CIEDAG</td>\n",
       "      <td>-33.86937579589417, -55.57265008365528</td>\n",
       "      <td>https://www.google.com/maps/place/CIEDAG+-+Sec...</td>\n",
       "    </tr>\n",
       "    <tr>\n",
       "      <th>4</th>\n",
       "      <td>13</td>\n",
       "      <td>Corriedale</td>\n",
       "      <td>CIEDAG</td>\n",
       "      <td>-33.86937579589417, -55.57265008365528</td>\n",
       "      <td>https://www.google.com/maps/place/CIEDAG+-+Sec...</td>\n",
       "    </tr>\n",
       "  </tbody>\n",
       "</table>\n",
       "</div>"
      ],
      "text/plain": [
       "   ID       Breed   Stall                         GPS_Coordinates  \\\n",
       "0   1  Corriedale  CIEDAG  -33.86937579589417, -55.57265008365528   \n",
       "1  10  Corriedale  CIEDAG  -33.86937579589417, -55.57265008365528   \n",
       "2  11  Corriedale  CIEDAG  -33.86937579589417, -55.57265008365528   \n",
       "3  12  Corriedale  CIEDAG  -33.86937579589417, -55.57265008365528   \n",
       "4  13  Corriedale  CIEDAG  -33.86937579589417, -55.57265008365528   \n",
       "\n",
       "                                               GPS_2  \n",
       "0  https://www.google.com/maps/place/CIEDAG+-+Sec...  \n",
       "1  https://www.google.com/maps/place/CIEDAG+-+Sec...  \n",
       "2  https://www.google.com/maps/place/CIEDAG+-+Sec...  \n",
       "3  https://www.google.com/maps/place/CIEDAG+-+Sec...  \n",
       "4  https://www.google.com/maps/place/CIEDAG+-+Sec...  "
      ]
     },
     "execution_count": 11,
     "metadata": {},
     "output_type": "execute_result"
    }
   ],
   "source": [
    "metadata = Dataset.objects.get(file=\"Smarter_Ids_Uploaded_with_GPSCordinates_FINAL.zip\")\n",
    "df = pd.read_excel(metadata.working_dir / \"Smarter_Ids_Uploaded_with_GPSCordinates_FINAL.xlsx\")\n",
    "df.head()"
   ]
  },
  {
   "cell_type": "markdown",
   "id": "f68fd0af",
   "metadata": {},
   "source": [
    "Ok now I need to select from metadata the sample I have in this dataset:"
   ]
  },
  {
   "cell_type": "code",
   "execution_count": 12,
   "id": "3998bd90",
   "metadata": {},
   "outputs": [
    {
     "data": {
      "text/html": [
       "<div>\n",
       "<style scoped>\n",
       "    .dataframe tbody tr th:only-of-type {\n",
       "        vertical-align: middle;\n",
       "    }\n",
       "\n",
       "    .dataframe tbody tr th {\n",
       "        vertical-align: top;\n",
       "    }\n",
       "\n",
       "    .dataframe thead th {\n",
       "        text-align: right;\n",
       "    }\n",
       "</style>\n",
       "<table border=\"1\" class=\"dataframe\">\n",
       "  <thead>\n",
       "    <tr style=\"text-align: right;\">\n",
       "      <th></th>\n",
       "      <th>fid</th>\n",
       "      <th>iid</th>\n",
       "    </tr>\n",
       "  </thead>\n",
       "  <tbody>\n",
       "    <tr>\n",
       "      <th>0</th>\n",
       "      <td>MERINO_UY</td>\n",
       "      <td>201711200001</td>\n",
       "    </tr>\n",
       "    <tr>\n",
       "      <th>1</th>\n",
       "      <td>MERINO_UY</td>\n",
       "      <td>201711200002</td>\n",
       "    </tr>\n",
       "    <tr>\n",
       "      <th>2</th>\n",
       "      <td>MERINO_UY</td>\n",
       "      <td>201711200003</td>\n",
       "    </tr>\n",
       "    <tr>\n",
       "      <th>3</th>\n",
       "      <td>MERINO_UY</td>\n",
       "      <td>201711200004</td>\n",
       "    </tr>\n",
       "    <tr>\n",
       "      <th>4</th>\n",
       "      <td>MERINO_UY</td>\n",
       "      <td>201711200005</td>\n",
       "    </tr>\n",
       "  </tbody>\n",
       "</table>\n",
       "</div>"
      ],
      "text/plain": [
       "         fid           iid\n",
       "0  MERINO_UY  201711200001\n",
       "1  MERINO_UY  201711200002\n",
       "2  MERINO_UY  201711200003\n",
       "3  MERINO_UY  201711200004\n",
       "4  MERINO_UY  201711200005"
      ]
     },
     "execution_count": 12,
     "metadata": {},
     "output_type": "execute_result"
    }
   ],
   "source": [
    "samples = pd.DataFrame(samples, columns=[\"fid\", \"iid\"])\n",
    "samples.head()"
   ]
  },
  {
   "cell_type": "code",
   "execution_count": 13,
   "id": "b651383f",
   "metadata": {},
   "outputs": [
    {
     "name": "stdout",
     "output_type": "stream",
     "text": [
      "Number of samples in the metadata: 96\n",
      "Number of samples in the plink file: 96\n"
     ]
    },
    {
     "data": {
      "text/html": [
       "<div>\n",
       "<style scoped>\n",
       "    .dataframe tbody tr th:only-of-type {\n",
       "        vertical-align: middle;\n",
       "    }\n",
       "\n",
       "    .dataframe tbody tr th {\n",
       "        vertical-align: top;\n",
       "    }\n",
       "\n",
       "    .dataframe thead th {\n",
       "        text-align: right;\n",
       "    }\n",
       "</style>\n",
       "<table border=\"1\" class=\"dataframe\">\n",
       "  <thead>\n",
       "    <tr style=\"text-align: right;\">\n",
       "      <th></th>\n",
       "      <th>ID</th>\n",
       "      <th>Breed</th>\n",
       "      <th>Stall</th>\n",
       "      <th>GPS_Coordinates</th>\n",
       "      <th>GPS_2</th>\n",
       "    </tr>\n",
       "  </thead>\n",
       "  <tbody>\n",
       "    <tr>\n",
       "      <th>158</th>\n",
       "      <td>201711200065</td>\n",
       "      <td>Merino</td>\n",
       "      <td>EEFAS</td>\n",
       "      <td>-31.38766026946753, -57.71601394419916</td>\n",
       "      <td>https://earth.google.com/web/search/Estacion+E...</td>\n",
       "    </tr>\n",
       "    <tr>\n",
       "      <th>159</th>\n",
       "      <td>201711200066</td>\n",
       "      <td>Merino</td>\n",
       "      <td>EEFAS</td>\n",
       "      <td>-31.38766026946753, -57.71601394419916</td>\n",
       "      <td>https://earth.google.com/web/search/Estacion+E...</td>\n",
       "    </tr>\n",
       "    <tr>\n",
       "      <th>160</th>\n",
       "      <td>201711200005</td>\n",
       "      <td>Merino</td>\n",
       "      <td>IMPORTADO</td>\n",
       "      <td>-30.945528469563605, 151.2477073694806</td>\n",
       "      <td>https://www.google.com/maps/place/Nerstane+Mer...</td>\n",
       "    </tr>\n",
       "    <tr>\n",
       "      <th>161</th>\n",
       "      <td>201711200012</td>\n",
       "      <td>Merino</td>\n",
       "      <td>IMPORTADO</td>\n",
       "      <td>-30.945528469563605, 151.2477073694806</td>\n",
       "      <td>https://www.google.com/maps/place/Nerstane+Mer...</td>\n",
       "    </tr>\n",
       "    <tr>\n",
       "      <th>162</th>\n",
       "      <td>201711200013</td>\n",
       "      <td>Merino</td>\n",
       "      <td>IMPORTADO</td>\n",
       "      <td>-30.945528469563605, 151.2477073694806</td>\n",
       "      <td>https://www.google.com/maps/place/Nerstane+Mer...</td>\n",
       "    </tr>\n",
       "  </tbody>\n",
       "</table>\n",
       "</div>"
      ],
      "text/plain": [
       "               ID   Breed      Stall                         GPS_Coordinates  \\\n",
       "158  201711200065  Merino      EEFAS  -31.38766026946753, -57.71601394419916   \n",
       "159  201711200066  Merino      EEFAS  -31.38766026946753, -57.71601394419916   \n",
       "160  201711200005  Merino  IMPORTADO  -30.945528469563605, 151.2477073694806   \n",
       "161  201711200012  Merino  IMPORTADO  -30.945528469563605, 151.2477073694806   \n",
       "162  201711200013  Merino  IMPORTADO  -30.945528469563605, 151.2477073694806   \n",
       "\n",
       "                                                 GPS_2  \n",
       "158  https://earth.google.com/web/search/Estacion+E...  \n",
       "159  https://earth.google.com/web/search/Estacion+E...  \n",
       "160  https://www.google.com/maps/place/Nerstane+Mer...  \n",
       "161  https://www.google.com/maps/place/Nerstane+Mer...  \n",
       "162  https://www.google.com/maps/place/Nerstane+Mer...  "
      ]
     },
     "execution_count": 13,
     "metadata": {},
     "output_type": "execute_result"
    }
   ],
   "source": [
    "df['ID'] = df['ID'].astype(str)\n",
    "df_selected = df[df['ID'].isin(samples['iid'])]\n",
    "print(f\"Number of samples in the metadata: {len(df_selected)}\")\n",
    "print(f\"Number of samples in the plink file: {len(samples)}\")\n",
    "df_selected.head()"
   ]
  },
  {
   "cell_type": "markdown",
   "id": "52cd9927",
   "metadata": {},
   "source": [
    "Select the proper code for this breed:"
   ]
  },
  {
   "cell_type": "code",
   "execution_count": 14,
   "id": "e9b2a503",
   "metadata": {},
   "outputs": [
    {
     "data": {
      "text/plain": [
       "'MER'"
      ]
     },
     "execution_count": 14,
     "metadata": {},
     "output_type": "execute_result"
    }
   ],
   "source": [
    "breed = Breed.objects.get(name=\"Merino\", species=\"Sheep\")\n",
    "breed.code"
   ]
  },
  {
   "cell_type": "code",
   "execution_count": 15,
   "id": "d7279831",
   "metadata": {},
   "outputs": [
    {
     "data": {
      "text/html": [
       "<div>\n",
       "<style scoped>\n",
       "    .dataframe tbody tr th:only-of-type {\n",
       "        vertical-align: middle;\n",
       "    }\n",
       "\n",
       "    .dataframe tbody tr th {\n",
       "        vertical-align: top;\n",
       "    }\n",
       "\n",
       "    .dataframe thead th {\n",
       "        text-align: right;\n",
       "    }\n",
       "</style>\n",
       "<table border=\"1\" class=\"dataframe\">\n",
       "  <thead>\n",
       "    <tr style=\"text-align: right;\">\n",
       "      <th></th>\n",
       "      <th>fid</th>\n",
       "      <th>iid</th>\n",
       "      <th>code</th>\n",
       "      <th>country</th>\n",
       "    </tr>\n",
       "  </thead>\n",
       "  <tbody>\n",
       "    <tr>\n",
       "      <th>0</th>\n",
       "      <td>MERINO_UY</td>\n",
       "      <td>201711200001</td>\n",
       "      <td>MER</td>\n",
       "      <td>Uruguay</td>\n",
       "    </tr>\n",
       "    <tr>\n",
       "      <th>1</th>\n",
       "      <td>MERINO_UY</td>\n",
       "      <td>201711200002</td>\n",
       "      <td>MER</td>\n",
       "      <td>Uruguay</td>\n",
       "    </tr>\n",
       "    <tr>\n",
       "      <th>2</th>\n",
       "      <td>MERINO_UY</td>\n",
       "      <td>201711200003</td>\n",
       "      <td>MER</td>\n",
       "      <td>Uruguay</td>\n",
       "    </tr>\n",
       "    <tr>\n",
       "      <th>3</th>\n",
       "      <td>MERINO_UY</td>\n",
       "      <td>201711200004</td>\n",
       "      <td>MER</td>\n",
       "      <td>Uruguay</td>\n",
       "    </tr>\n",
       "    <tr>\n",
       "      <th>4</th>\n",
       "      <td>MERINO_UY</td>\n",
       "      <td>201711200005</td>\n",
       "      <td>MER</td>\n",
       "      <td>Uruguay</td>\n",
       "    </tr>\n",
       "  </tbody>\n",
       "</table>\n",
       "</div>"
      ],
      "text/plain": [
       "         fid           iid code  country\n",
       "0  MERINO_UY  201711200001  MER  Uruguay\n",
       "1  MERINO_UY  201711200002  MER  Uruguay\n",
       "2  MERINO_UY  201711200003  MER  Uruguay\n",
       "3  MERINO_UY  201711200004  MER  Uruguay\n",
       "4  MERINO_UY  201711200005  MER  Uruguay"
      ]
     },
     "execution_count": 15,
     "metadata": {},
     "output_type": "execute_result"
    }
   ],
   "source": [
    "samples[\"code\"] = breed.code\n",
    "samples[\"country\"] = \"Uruguay\"\n",
    "samples.head()"
   ]
  },
  {
   "cell_type": "markdown",
   "id": "18c2f44f",
   "metadata": {},
   "source": [
    "Now select all the animals with `IMPORTADO` `Stall` and change country to `Australia`:"
   ]
  },
  {
   "cell_type": "code",
   "execution_count": 16,
   "id": "5891432c",
   "metadata": {},
   "outputs": [
    {
     "name": "stdout",
     "output_type": "stream",
     "text": [
      "country\n",
      "Uruguay      84\n",
      "Australia    12\n",
      "Name: count, dtype: int64\n"
     ]
    },
    {
     "data": {
      "text/html": [
       "<div>\n",
       "<style scoped>\n",
       "    .dataframe tbody tr th:only-of-type {\n",
       "        vertical-align: middle;\n",
       "    }\n",
       "\n",
       "    .dataframe tbody tr th {\n",
       "        vertical-align: top;\n",
       "    }\n",
       "\n",
       "    .dataframe thead th {\n",
       "        text-align: right;\n",
       "    }\n",
       "</style>\n",
       "<table border=\"1\" class=\"dataframe\">\n",
       "  <thead>\n",
       "    <tr style=\"text-align: right;\">\n",
       "      <th></th>\n",
       "      <th>fid</th>\n",
       "      <th>iid</th>\n",
       "      <th>code</th>\n",
       "      <th>country</th>\n",
       "    </tr>\n",
       "  </thead>\n",
       "  <tbody>\n",
       "    <tr>\n",
       "      <th>0</th>\n",
       "      <td>MERINO_UY</td>\n",
       "      <td>201711200001</td>\n",
       "      <td>MER</td>\n",
       "      <td>Uruguay</td>\n",
       "    </tr>\n",
       "    <tr>\n",
       "      <th>1</th>\n",
       "      <td>MERINO_UY</td>\n",
       "      <td>201711200002</td>\n",
       "      <td>MER</td>\n",
       "      <td>Uruguay</td>\n",
       "    </tr>\n",
       "    <tr>\n",
       "      <th>2</th>\n",
       "      <td>MERINO_UY</td>\n",
       "      <td>201711200003</td>\n",
       "      <td>MER</td>\n",
       "      <td>Uruguay</td>\n",
       "    </tr>\n",
       "    <tr>\n",
       "      <th>3</th>\n",
       "      <td>MERINO_UY</td>\n",
       "      <td>201711200004</td>\n",
       "      <td>MER</td>\n",
       "      <td>Uruguay</td>\n",
       "    </tr>\n",
       "    <tr>\n",
       "      <th>4</th>\n",
       "      <td>MERINO_UY</td>\n",
       "      <td>201711200005</td>\n",
       "      <td>MER</td>\n",
       "      <td>Australia</td>\n",
       "    </tr>\n",
       "  </tbody>\n",
       "</table>\n",
       "</div>"
      ],
      "text/plain": [
       "         fid           iid code    country\n",
       "0  MERINO_UY  201711200001  MER    Uruguay\n",
       "1  MERINO_UY  201711200002  MER    Uruguay\n",
       "2  MERINO_UY  201711200003  MER    Uruguay\n",
       "3  MERINO_UY  201711200004  MER    Uruguay\n",
       "4  MERINO_UY  201711200005  MER  Australia"
      ]
     },
     "execution_count": 16,
     "metadata": {},
     "output_type": "execute_result"
    }
   ],
   "source": [
    "samples.loc[samples['iid'].isin(df_selected[df_selected[\"Stall\"] == \"IMPORTADO\"]['ID']), 'country'] = 'Australia'\n",
    "print(samples[\"country\"].value_counts())\n",
    "samples.head()"
   ]
  },
  {
   "cell_type": "markdown",
   "id": "2e76f209",
   "metadata": {},
   "source": [
    "Write this metadata to a new file:"
   ]
  },
  {
   "cell_type": "code",
   "execution_count": 17,
   "id": "e0046755",
   "metadata": {},
   "outputs": [],
   "source": [
    "samples.to_excel(metadata.working_dir / \"MERINO_UY_96_21_12_17_OV54k_samples.xlsx\", index=False)"
   ]
  },
  {
   "cell_type": "code",
   "execution_count": null,
   "id": "b9a1de9d",
   "metadata": {},
   "outputs": [],
   "source": []
  }
 ],
 "metadata": {
  "kernelspec": {
   "display_name": "Python 3 (ipykernel)",
   "language": "python",
   "name": "python3"
  },
  "language_info": {
   "codemirror_mode": {
    "name": "ipython",
    "version": 3
   },
   "file_extension": ".py",
   "mimetype": "text/x-python",
   "name": "python",
   "nbconvert_exporter": "python",
   "pygments_lexer": "ipython3",
   "version": "3.12.3"
  }
 },
 "nbformat": 4,
 "nbformat_minor": 5
}
