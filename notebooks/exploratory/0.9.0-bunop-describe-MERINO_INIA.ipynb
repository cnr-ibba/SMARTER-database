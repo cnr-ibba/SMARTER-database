{
 "cells": [
  {
   "cell_type": "markdown",
   "id": "forty-jamaica",
   "metadata": {},
   "source": [
    "# MERINO_INIA_UY\n",
    "Describing `MERINO_INIA_UY.zip` file"
   ]
  },
  {
   "cell_type": "code",
   "execution_count": 1,
   "id": "atomic-plumbing",
   "metadata": {},
   "outputs": [],
   "source": [
    "import io\n",
    "import csv\n",
    "import itertools\n",
    "\n",
    "from collections import Counter\n",
    "from zipfile import ZipFile\n",
    "from pathlib import Path\n",
    "\n",
    "import src.features.illumina\n",
    "from src.features.smarterdb import VariantSheep, global_connection"
   ]
  },
  {
   "cell_type": "code",
   "execution_count": 2,
   "id": "pleasant-republican",
   "metadata": {},
   "outputs": [],
   "source": [
    "project_dir = Path.cwd().parents[1]\n",
    "datafile = project_dir / \"data/raw/background/MERINO_INIA_UY.zip\""
   ]
  },
  {
   "cell_type": "code",
   "execution_count": 3,
   "id": "developing-beaver",
   "metadata": {},
   "outputs": [
    {
     "name": "stdout",
     "output_type": "stream",
     "text": [
      "File Name                                             Modified             Size\n",
      "Merino_21_12_17_OV54k_FinalReport.txt          2020-12-03 14:37:44    383851065\n",
      "Merino_21_12_17_OV54k_SNP_Map.txt              2020-12-03 14:37:54      3012148\n",
      "MERINO_UY_96_21_12_17_OV54k.ped                2020-12-09 17:24:20     20831616\n",
      "MERINO_UY_96_21_12_17_OV54k.map                2020-12-09 17:24:22      1502260\n"
     ]
    }
   ],
   "source": [
    "handle = ZipFile(datafile)\n",
    "handle.printdir()"
   ]
  },
  {
   "cell_type": "markdown",
   "id": "handy-manor",
   "metadata": {},
   "source": [
    "Merino dataset have map/ped with final report and snp map. Get info from final report:"
   ]
  },
  {
   "cell_type": "code",
   "execution_count": 4,
   "id": "cooked-demonstration",
   "metadata": {},
   "outputs": [
    {
     "name": "stdout",
     "output_type": "stream",
     "text": [
      "[Header]\n",
      "GSGT Version\t2.0.3\n",
      "Processing Date\t12/21/2017 11:39 AM\n",
      "Content\t\tovinesnp50_b.bpm\n",
      "Num SNPs\t54241\n",
      "Total SNPs\t54241\n",
      "Num Samples\t96\n",
      "Total Samples\t96\n",
      "[Data]\n",
      "SNP Name\tSample ID\tAllele1 - Forward\tAllele2 - Forward\tAllele1 - AB\tAllele2 - AB\tAllele1 - Top\tAllele2 - Top\tGC Score\tX\tY\tB Allele Freq\tLog R Ratio\n",
      "250506CS3900065000002_1238.1\t201711200001\tT\tC\tA\tB\tA\tG\t0.9239\t0.727\t0.647\t0.5027\t-0.1292\n",
      "250506CS3900140500001_312.1\t201711200001\tT\tT\tA\tA\tA\tA\t0.9613\t0.654\t0.005\t0.0000\t-0.1364\n"
     ]
    }
   ],
   "source": [
    "with io.TextIOWrapper(handle.open(\"Merino_21_12_17_OV54k_FinalReport.txt\"), encoding=\"utf-8\") as f:\n",
    "    for line in itertools.islice(f, 12):\n",
    "        print(line.strip())"
   ]
  },
  {
   "cell_type": "markdown",
   "id": "announced-bidding",
   "metadata": {},
   "source": [
    "Data seems to be recent (2017). Are coordinates in latest 3.1?"
   ]
  },
  {
   "cell_type": "code",
   "execution_count": 5,
   "id": "hourly-master",
   "metadata": {},
   "outputs": [],
   "source": [
    "data_coordinates = dict()\n",
    "with io.TextIOWrapper(handle.open(\"MERINO_UY_96_21_12_17_OV54k.map\"), encoding=\"utf-8\") as f:\n",
    "    for record in f:\n",
    "        record = record.split()\n",
    "        data_coordinates[record[1]] = (record[0], int(record[3]))"
   ]
  },
  {
   "cell_type": "code",
   "execution_count": 6,
   "id": "upper-judgment",
   "metadata": {},
   "outputs": [],
   "source": [
    "chip_dir = project_dir / \"data/external/SHE/ILLUMINA/\"\n",
    "old_chip3_file = chip_dir / \"ovinesnp50_b.csv\"\n",
    "old_chip3 = dict()\n",
    "for record in src.features.illumina.read_snpChip(old_chip3_file):\n",
    "    old_chip3[record.name] = (record.chr, record.mapinfo)"
   ]
  },
  {
   "cell_type": "code",
   "execution_count": 7,
   "id": "european-retailer",
   "metadata": {},
   "outputs": [
    {
     "name": "stdout",
     "output_type": "stream",
     "text": [
      "s17862.1 ('Contig', 0) ('CONTIG', 0)\n",
      "\n",
      "N of SNPs in different positions in merino and old chip3: 1\n",
      "\n",
      "N of SNPs in merino not in chip: 0\n"
     ]
    }
   ],
   "source": [
    "count = 0\n",
    "missing = 0\n",
    "\n",
    "for key, value in old_chip3.items():\n",
    "    if not key in data_coordinates:\n",
    "        missing += 1\n",
    "        continue\n",
    "        \n",
    "    if value != data_coordinates[key]:\n",
    "        count += 1\n",
    "        if count <= 10:\n",
    "            print(key, value, data_coordinates[key])\n",
    "        \n",
    "print(f\"\\nN of SNPs in different positions in merino and old chip3: {count}\")\n",
    "print(f\"\\nN of SNPs in merino not in chip: {missing}\")"
   ]
  },
  {
   "cell_type": "markdown",
   "id": "amateur-schema",
   "metadata": {},
   "source": [
    "Despite data were made in 2017, coordinates seems to be in the old reference. Check with database:"
   ]
  },
  {
   "cell_type": "code",
   "execution_count": 8,
   "id": "sustainable-mailman",
   "metadata": {},
   "outputs": [
    {
     "name": "stdout",
     "output_type": "stream",
     "text": [
      "snp 250506CS3900065000002_1238.1 with different positions: 15:5327353 <> 15:5870057\n",
      "snp 250506CS3900140500001_312.1 with different positions: 23:27428869 <> 23:26298017\n",
      "snp 250506CS3900176800001_906.1 with different positions: 7:89002990 <> 7:81648528\n",
      "snp 250506CS3900211600001_1041.1 with different positions: 16:44955568 <> 16:41355381\n",
      "snp 250506CS3900218700001_1294.1 with different positions: 2:157820235 <> 2:148802744\n",
      "snp 250506CS3900283200001_442.1 with different positions: 1:203289635 <> 99:0\n",
      "snp 250506CS3900371000001_1255.1 with different positions: 11:37632867 <> 11:35339123\n",
      "snp 250506CS3900386000001_696.1 with different positions: 16:68297712 <> 16:62646307\n",
      "snp 250506CS3900414400001_1178.1 with different positions: 1:111100644 <> 1:103396552\n",
      "snp 250506CS3900435700001_1658.1 with different positions: 12:50140951 <> 99:0\n",
      "snp 250506CS3900464100001_519.1 with different positions: 1:91075445 <> 1:85767398\n",
      "snp 250506CS3900487100001_1521.1 with different positions: 14:1552575 <> 14:1110363\n",
      "snp 250506CS3900539000001_471.1 with different positions: X:74622875 <> X:115765957\n",
      "snp 250506CS3901012300001_913.1 with different positions: 2:108065980 <> 2:100479305\n",
      "snp 250506CS3901300500001_1084.1 with different positions: 7:97296387 <> 7:89431547\n",
      "snp CL635241_413.1 with different positions: 3:196207011 <> 3:182202867\n",
      "snp CL635750_128.1 with different positions: 3:242198228 <> 3:223741135\n",
      "snp CL635944_160.1 with different positions: 0:0 <> 6:114778683\n",
      "snp Contig35697_5761.1 with different positions: 0:0 <> 6:18835475\n",
      "snp CR_594.1 with different positions: 0:0 <> 99:0\n"
     ]
    }
   ],
   "source": [
    "global_connection()\n",
    "for key, value in itertools.islice(data_coordinates.items(), 20):\n",
    "    qs = VariantSheep.objects(name=key)\n",
    "    \n",
    "    if qs.count() > 0:\n",
    "        variant = qs.get()\n",
    "        location = next(filter(lambda loc: loc.imported_from == \"SNPchiMp v.3\", variant.locations))\n",
    "        if value[0] != location.chrom or int(value[1]) != location.position:\n",
    "            print(f\"snp {key} with different positions: {value[0]}:{value[1]} <> {location.chrom}:{location.position}\")"
   ]
  },
  {
   "cell_type": "code",
   "execution_count": null,
   "id": "aware-logging",
   "metadata": {},
   "outputs": [],
   "source": []
  }
 ],
 "metadata": {
  "kernelspec": {
   "display_name": "Python 3",
   "language": "python",
   "name": "python3"
  },
  "language_info": {
   "codemirror_mode": {
    "name": "ipython",
    "version": 3
   },
   "file_extension": ".py",
   "mimetype": "text/x-python",
   "name": "python",
   "nbconvert_exporter": "python",
   "pygments_lexer": "ipython3",
   "version": "3.9.1"
  }
 },
 "nbformat": 4,
 "nbformat_minor": 5
}
