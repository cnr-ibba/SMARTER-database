{
 "cells": [
  {
   "cell_type": "markdown",
   "id": "91cd6694-748f-4b5a-941c-d863b45c8008",
   "metadata": {},
   "source": [
    "# Spanish sheeps\n",
    "Describe the latest data coming from Spain. They sent multiple file. File with prefix `CHUOJA` have the same samples for breeds `{'Churra', 'Ojalada'}` already imported from sheephapmap. Other files seems to have new samples, however they comes from an *affymetrix* array I don't have.\n",
    "* [SMARTER-500-ASSAF](#dataset0)\n",
    "* [Castellana_10K](#dataset1)\n",
    "* [Castellana_Ovine](#dataset2)\n",
    "* [Churra](#dataset3)"
   ]
  },
  {
   "cell_type": "code",
   "execution_count": 1,
   "id": "c98df9b5-0ee7-467e-acbb-ecd86c9cae36",
   "metadata": {},
   "outputs": [],
   "source": [
    "import re\n",
    "import os\n",
    "import logging\n",
    "import zipfile\n",
    "from collections import defaultdict\n",
    "from pathlib import Path\n",
    "\n",
    "import pandas as pd\n",
    "from tqdm.notebook import tqdm\n",
    "\n",
    "from src.features.smarterdb import global_connection, Dataset\n",
    "from src.features.plinkio import AffyPlinkIO, TextPlinkIO, CodingException\n",
    "from src.features.utils import get_interim_dir\n",
    "from src.data.common import WORKING_ASSEMBLIES\n",
    "\n",
    "_ = global_connection()\n",
    "OAR3 = WORKING_ASSEMBLIES[\"OAR3\"]\n",
    "logger = logging.getLogger('src.features.plinkio')\n",
    "logger.setLevel(logging.CRITICAL)"
   ]
  },
  {
   "cell_type": "code",
   "execution_count": 2,
   "id": "78e9a82f-d628-423b-af34-cfd1a1287ace",
   "metadata": {},
   "outputs": [],
   "source": [
    "class CustomMixin():\n",
    "    n_of_individuals = None\n",
    "    \n",
    "    def process_pedfile(self, coding=\"top\"):\n",
    "        for line in tqdm(self.read_pedfile(), total=self.n_of_individuals):\n",
    "            _ = self._process_genotypes(line, coding)\n",
    "            \n",
    "        return True\n",
    "    \n",
    "    def is_top(self):\n",
    "        try:\n",
    "            return self.process_pedfile(coding='top')\n",
    "        \n",
    "        except CodingException:\n",
    "            return False\n",
    "    \n",
    "    def is_forward(self):\n",
    "        try:\n",
    "            return self.process_pedfile(coding='forward')\n",
    "        \n",
    "        except CodingException:\n",
    "            return False\n",
    "        \n",
    "    def is_affymetrix(self):\n",
    "        try:\n",
    "            return self.process_pedfile(coding='affymetrix')\n",
    "        \n",
    "        except CodingException:\n",
    "            return False\n",
    "        \n",
    "class CustomTextPlinkIO(CustomMixin, TextPlinkIO):\n",
    "    pass\n",
    "\n",
    "\n",
    "class CustomAffyPlinkIO(CustomMixin, AffyPlinkIO):\n",
    "    \"\"\"This is not a cellfile, but a plink made by affymetrix\"\"\"\n",
    "    \n",
    "    def read_pedfile(self, *args, **kwargs):\n",
    "        \"\"\"Open pedfile for reading return iterator\"\"\"\n",
    "\n",
    "        with open(self.pedfile) as handle:\n",
    "            # affy files has both \" \" and \"\\t\" in their files\n",
    "            for record in handle:\n",
    "                # affy data may have comments in files\n",
    "                if record.startswith(\"#\"):\n",
    "                    logger.info(f\"Skipping {record}\")\n",
    "                    continue\n",
    "\n",
    "                line = re.split('[ \\t]+', record.strip())\n",
    "\n",
    "                yield line"
   ]
  },
  {
   "cell_type": "markdown",
   "id": "36a67f97-d8c6-478e-86ba-b660d91b736b",
   "metadata": {},
   "source": [
    "<a id='dataset0'></a>\n",
    "## SMARTER-500-ASSAF\n",
    "Let'explore the ASSAF dataset. It seems to be an affymetrix dataset, however file is plink text format:"
   ]
  },
  {
   "cell_type": "code",
   "execution_count": 3,
   "id": "ad07f1f5-6e14-4c1d-bb27-13e84b27408b",
   "metadata": {},
   "outputs": [],
   "source": [
    "assaf_dataset = Dataset.objects.get(file=\"SMARTER-500-ASSAF.zip\")\n",
    "plinkio = CustomTextPlinkIO(\n",
    "    prefix=str(assaf_dataset.working_dir / \"SMARTER-500-ASSAF\"), \n",
    "    species=assaf_dataset.species, \n",
    "    chip_name=assaf_dataset.chip_name)\n",
    "plinkio.n_of_individuals = assaf_dataset.n_of_individuals"
   ]
  },
  {
   "cell_type": "markdown",
   "id": "bd4c552b-8c88-4b6b-a152-bdaabafbfa9b",
   "metadata": {},
   "source": [
    "Start by reading coordinates. Try to determine how many SNPs I have in SMARTER database"
   ]
  },
  {
   "cell_type": "code",
   "execution_count": 4,
   "id": "299a9344-633d-4100-8e56-92e274160d37",
   "metadata": {},
   "outputs": [],
   "source": [
    "plinkio.read_mapfile()\n",
    "plinkio.fetch_coordinates(\n",
    "    version=\"Oar_v4.0\",\n",
    "    imported_from=\"affymetrix\",\n",
    "    search_field=\"probeset_id\"\n",
    ")"
   ]
  },
  {
   "cell_type": "code",
   "execution_count": 5,
   "id": "6a9ffcbb-4b1c-4b9b-81d5-c07590469b94",
   "metadata": {},
   "outputs": [
    {
     "name": "stdout",
     "output_type": "stream",
     "text": [
      "I can retrieve 38843 of 49702 SNPs (21.85% missing)\n"
     ]
    }
   ],
   "source": [
    "snps_found = len(plinkio.mapdata)-len(plinkio.filtered)\n",
    "perc_missing = round(100 - (snps_found / len(plinkio.mapdata) * 100), 2)\n",
    "\n",
    "print(f\"I can retrieve {snps_found} of {len(plinkio.mapdata)} SNPs ({perc_missing}% missing)\")"
   ]
  },
  {
   "cell_type": "markdown",
   "id": "83856eae-8192-4db4-9db2-bd3b7e2d1829",
   "metadata": {},
   "source": [
    "Is this dataset in *top* coordinates?"
   ]
  },
  {
   "cell_type": "code",
   "execution_count": 6,
   "id": "950a15eb-517f-43dd-8392-b2117026d8f8",
   "metadata": {},
   "outputs": [
    {
     "data": {
      "application/vnd.jupyter.widget-view+json": {
       "model_id": "d2b46f43191f4064abfd10932d387036",
       "version_major": 2,
       "version_minor": 0
      },
      "text/plain": [
       "  0%|          | 0/504 [00:00<?, ?it/s]"
      ]
     },
     "metadata": {},
     "output_type": "display_data"
    },
    {
     "name": "stderr",
     "output_type": "stream",
     "text": [
      "Error for SNP 6:AX-123194370: C/C <> A/G\n"
     ]
    },
    {
     "data": {
      "text/plain": [
       "False"
      ]
     },
     "execution_count": 6,
     "metadata": {},
     "output_type": "execute_result"
    }
   ],
   "source": [
    "plinkio.is_top()"
   ]
  },
  {
   "cell_type": "markdown",
   "id": "a93567f9-420e-4ca1-b28b-09bfac2b9c0b",
   "metadata": {},
   "source": [
    "Is this file in *affymetrix forward* coordinates?"
   ]
  },
  {
   "cell_type": "code",
   "execution_count": 7,
   "id": "0bac10f8-9a0f-43ba-9c81-61751a7ee896",
   "metadata": {},
   "outputs": [
    {
     "data": {
      "application/vnd.jupyter.widget-view+json": {
       "model_id": "5ca8d11f62b848cf848486629a3696fb",
       "version_major": 2,
       "version_minor": 0
      },
      "text/plain": [
       "  0%|          | 0/504 [00:00<?, ?it/s]"
      ]
     },
     "metadata": {},
     "output_type": "display_data"
    },
    {
     "name": "stderr",
     "output_type": "stream",
     "text": [
      "Error for SNP 3:AX-123245398: G/G <> T/C\n"
     ]
    },
    {
     "data": {
      "text/plain": [
       "False"
      ]
     },
     "execution_count": 7,
     "metadata": {},
     "output_type": "execute_result"
    }
   ],
   "source": [
    "plinkio.is_affymetrix()"
   ]
  },
  {
   "cell_type": "markdown",
   "id": "0700f6eb-a1d0-4dd7-918a-91c65e2b1c48",
   "metadata": {},
   "source": [
    "This isn't expected, maybe the reference genome is *OAR3* and not the latest *OAR4*. I think I need to add this old manifest data into database"
   ]
  },
  {
   "cell_type": "markdown",
   "id": "b8ba731d-bd05-4893-8b9a-94991a49bca3",
   "metadata": {},
   "source": [
    "<a id='dataset1'></a>\n",
    "## Castellana_10K\n",
    "Let's explore another spanish dataset. This dataset is affymetrix plink file, however it don't come from *cell file* but its a plink *tab separated* file with comments"
   ]
  },
  {
   "cell_type": "code",
   "execution_count": 8,
   "id": "30e3ad82-fd61-4d2f-9683-d0752b6c3b4b",
   "metadata": {},
   "outputs": [],
   "source": [
    "castellana_10K = Dataset.objects.get(file=\"Castellana_10K.zip\")\n",
    "plinkio = CustomAffyPlinkIO(\n",
    "    prefix=str(castellana_10K.working_dir / \"20220131 10K\"), \n",
    "    species=castellana_10K.species, \n",
    "    chip_name=castellana_10K.chip_name)\n",
    "plinkio.n_of_individuals = castellana_10K.n_of_individuals"
   ]
  },
  {
   "cell_type": "markdown",
   "id": "556438ee-fd29-4ff8-894e-76003bc5a74e",
   "metadata": {},
   "source": [
    "Start by reading coordinates. Try to determine how many SNPs I have in SMARTER database"
   ]
  },
  {
   "cell_type": "code",
   "execution_count": 9,
   "id": "f5a341b5-9c68-4c96-abdc-9d18a3230fdf",
   "metadata": {},
   "outputs": [],
   "source": [
    "plinkio.read_mapfile()\n",
    "plinkio.fetch_coordinates(\n",
    "    version=\"Oar_v4.0\",\n",
    "    imported_from=\"affymetrix\",\n",
    "    search_field=\"probeset_id\"\n",
    ")"
   ]
  },
  {
   "cell_type": "code",
   "execution_count": 10,
   "id": "dc17ef65-b4b5-4882-9f1b-46176414d8ba",
   "metadata": {},
   "outputs": [
    {
     "name": "stdout",
     "output_type": "stream",
     "text": [
      "I can retrieve 8639 of 9757 SNPs (11.46% missing)\n"
     ]
    }
   ],
   "source": [
    "snps_found = len(plinkio.mapdata)-len(plinkio.filtered)\n",
    "perc_missing = round(100 - (snps_found / len(plinkio.mapdata) * 100), 2)\n",
    "\n",
    "print(f\"I can retrieve {snps_found} of {len(plinkio.mapdata)} SNPs ({perc_missing}% missing)\")"
   ]
  },
  {
   "cell_type": "markdown",
   "id": "0f16d58e-243b-4d99-bcfc-3f9e2fabe3df",
   "metadata": {},
   "source": [
    "Is this dataset in *top* coordinates?"
   ]
  },
  {
   "cell_type": "code",
   "execution_count": 11,
   "id": "57b0963e-a9d2-4357-a4dd-0ee72fd96a3e",
   "metadata": {},
   "outputs": [
    {
     "data": {
      "application/vnd.jupyter.widget-view+json": {
       "model_id": "7fd8404014cf4e2c97383a37a78c2546",
       "version_major": 2,
       "version_minor": 0
      },
      "text/plain": [
       "  0%|          | 0/186 [00:00<?, ?it/s]"
      ]
     },
     "metadata": {},
     "output_type": "display_data"
    },
    {
     "name": "stderr",
     "output_type": "stream",
     "text": [
      "Error for SNP 1:AX-123219865: T/C <> A/G\n"
     ]
    },
    {
     "data": {
      "text/plain": [
       "False"
      ]
     },
     "execution_count": 11,
     "metadata": {},
     "output_type": "execute_result"
    }
   ],
   "source": [
    "plinkio.is_top()"
   ]
  },
  {
   "cell_type": "markdown",
   "id": "9d726b8e-beaf-46b6-8b71-2d01f7299623",
   "metadata": {},
   "source": [
    "Is this file in *affymetrix forward* coordinates?"
   ]
  },
  {
   "cell_type": "code",
   "execution_count": 12,
   "id": "d919a6ed-9da3-402d-87e8-4a67e35ed8bb",
   "metadata": {},
   "outputs": [
    {
     "data": {
      "application/vnd.jupyter.widget-view+json": {
       "model_id": "6d33c8926bb3479c90f256285a78c0d4",
       "version_major": 2,
       "version_minor": 0
      },
      "text/plain": [
       "  0%|          | 0/186 [00:00<?, ?it/s]"
      ]
     },
     "metadata": {},
     "output_type": "display_data"
    },
    {
     "name": "stderr",
     "output_type": "stream",
     "text": [
      "Error for SNP 0:AX-123235539: A/A <> T/C\n"
     ]
    },
    {
     "data": {
      "text/plain": [
       "False"
      ]
     },
     "execution_count": 12,
     "metadata": {},
     "output_type": "execute_result"
    }
   ],
   "source": [
    "plinkio.is_affymetrix()"
   ]
  },
  {
   "cell_type": "markdown",
   "id": "c2393498-c772-455f-9e56-4be9bd802b1e",
   "metadata": {},
   "source": [
    "This is the same behaviour seen for *Assaf* file. Which breeds I have in this dataset?"
   ]
  },
  {
   "cell_type": "code",
   "execution_count": 13,
   "id": "2af0c309-440a-439a-aa84-db96af81a846",
   "metadata": {},
   "outputs": [
    {
     "name": "stdout",
     "output_type": "stream",
     "text": [
      "Got {'SMARTER', 'Assaf'} breeds\n"
     ]
    }
   ],
   "source": [
    "breeds_10K = set()\n",
    "samples_10K = set()\n",
    "for line in plinkio.read_pedfile():\n",
    "    breed, sample = line[0], line[1]\n",
    "    if breed not in breeds_10K:\n",
    "        breeds_10K.add(breed)\n",
    "    samples_10K.add(sample)\n",
    "    \n",
    "print(f\"Got {breeds_10K} breeds\")"
   ]
  },
  {
   "cell_type": "markdown",
   "id": "08ba2944-726f-4f81-9227-fa3ce1201332",
   "metadata": {},
   "source": [
    "I want to track SNP names for 10K:"
   ]
  },
  {
   "cell_type": "code",
   "execution_count": 14,
   "id": "996c98e5-8af1-4bbe-b854-9d9727bd3b2e",
   "metadata": {},
   "outputs": [],
   "source": [
    "snp_names_10K = {snp.name for snp in plinkio.mapdata}"
   ]
  },
  {
   "cell_type": "markdown",
   "id": "5e95baf5-be64-4cf3-829e-8af1266e21e0",
   "metadata": {},
   "source": [
    "<a id='dataset2'></a>\n",
    "## Castellana_Ovine\n",
    "Let's explore another spanish dataset. This dataset is affymetrix plink file, however it don't come from *cell file* but its a plink *tab separated* file with comments"
   ]
  },
  {
   "cell_type": "code",
   "execution_count": 15,
   "id": "e460e752-d67e-46e9-ada5-b987e19ef30a",
   "metadata": {},
   "outputs": [],
   "source": [
    "castellana_ovine = Dataset.objects.get(file=\"Castellana_Ovine.zip\")\n",
    "plinkio = CustomAffyPlinkIO(\n",
    "    prefix=str(castellana_ovine.working_dir / \"20220131 Ovine\"), \n",
    "    species=castellana_ovine.species, \n",
    "    chip_name=castellana_ovine.chip_name)\n",
    "plinkio.n_of_individuals = castellana_ovine.n_of_individuals"
   ]
  },
  {
   "cell_type": "markdown",
   "id": "6222030c-4fc0-4b0b-8b52-e466958227ff",
   "metadata": {},
   "source": [
    "Start by reading coordinates. Try to determine how many SNPs I have in SMARTER database"
   ]
  },
  {
   "cell_type": "code",
   "execution_count": 16,
   "id": "d0bf76b6-a84e-4827-a67e-f23ff9e29ed5",
   "metadata": {},
   "outputs": [],
   "source": [
    "plinkio.read_mapfile()\n",
    "plinkio.fetch_coordinates(\n",
    "    version=\"Oar_v4.0\",\n",
    "    imported_from=\"affymetrix\",\n",
    "    search_field=\"probeset_id\"\n",
    ")"
   ]
  },
  {
   "cell_type": "code",
   "execution_count": 17,
   "id": "7e3bc102-4ce4-4cfe-a65f-7531672735dc",
   "metadata": {},
   "outputs": [
    {
     "name": "stdout",
     "output_type": "stream",
     "text": [
      "I can retrieve 38843 of 49702 SNPs (21.85% missing)\n"
     ]
    }
   ],
   "source": [
    "snps_found = len(plinkio.mapdata)-len(plinkio.filtered)\n",
    "perc_missing = round(100 - (snps_found / len(plinkio.mapdata) * 100), 2)\n",
    "\n",
    "print(f\"I can retrieve {snps_found} of {len(plinkio.mapdata)} SNPs ({perc_missing}% missing)\")"
   ]
  },
  {
   "cell_type": "markdown",
   "id": "8e182432-8449-493f-aba7-38dfd726be90",
   "metadata": {},
   "source": [
    "Is this dataset in *top* coordinates?"
   ]
  },
  {
   "cell_type": "code",
   "execution_count": 18,
   "id": "8ef4a6bb-57b8-4545-8383-fef119fe7180",
   "metadata": {},
   "outputs": [
    {
     "data": {
      "application/vnd.jupyter.widget-view+json": {
       "model_id": "38b4e5fc8c6d47e09d12032b6e02b53f",
       "version_major": 2,
       "version_minor": 0
      },
      "text/plain": [
       "  0%|          | 0/186 [00:00<?, ?it/s]"
      ]
     },
     "metadata": {},
     "output_type": "display_data"
    },
    {
     "name": "stderr",
     "output_type": "stream",
     "text": [
      "Error for SNP 6:AX-123194370: C/C <> A/G\n"
     ]
    },
    {
     "data": {
      "text/plain": [
       "False"
      ]
     },
     "execution_count": 18,
     "metadata": {},
     "output_type": "execute_result"
    }
   ],
   "source": [
    "plinkio.is_top()"
   ]
  },
  {
   "cell_type": "markdown",
   "id": "d0e814c4-ec0f-4214-a088-ae604c036d1f",
   "metadata": {},
   "source": [
    "Is this file in *affymetrix forward* coordinates?"
   ]
  },
  {
   "cell_type": "code",
   "execution_count": 19,
   "id": "c507128a-7276-45dd-bd1f-e351756e93cd",
   "metadata": {},
   "outputs": [
    {
     "data": {
      "application/vnd.jupyter.widget-view+json": {
       "model_id": "203f7659c0494bbe9d47a8dd29f2a906",
       "version_major": 2,
       "version_minor": 0
      },
      "text/plain": [
       "  0%|          | 0/186 [00:00<?, ?it/s]"
      ]
     },
     "metadata": {},
     "output_type": "display_data"
    },
    {
     "name": "stderr",
     "output_type": "stream",
     "text": [
      "Error for SNP 3:AX-123245398: G/G <> T/C\n"
     ]
    },
    {
     "data": {
      "text/plain": [
       "False"
      ]
     },
     "execution_count": 19,
     "metadata": {},
     "output_type": "execute_result"
    }
   ],
   "source": [
    "plinkio.is_affymetrix()"
   ]
  },
  {
   "cell_type": "markdown",
   "id": "1be1adb5-12dc-45c0-b992-e63b4d0118a0",
   "metadata": {},
   "source": [
    "This is the same behaviour seen for *Assaf* file. Which breeds I have in this dataset?"
   ]
  },
  {
   "cell_type": "code",
   "execution_count": 20,
   "id": "712cf931-9196-4c9b-b662-ba7afc57468b",
   "metadata": {},
   "outputs": [
    {
     "name": "stdout",
     "output_type": "stream",
     "text": [
      "Got {'SMARTER', 'Assaf'} breeds\n"
     ]
    }
   ],
   "source": [
    "breeds_castellana = set()\n",
    "samples_castellana = set()\n",
    "for line in plinkio.read_pedfile():\n",
    "    breed, sample = line[0], line[1]\n",
    "    if breed not in breeds_castellana:\n",
    "        breeds_castellana.add(breed)\n",
    "    samples_castellana.add(sample)\n",
    "    \n",
    "print(f\"Got {breeds_castellana} breeds\")"
   ]
  },
  {
   "cell_type": "markdown",
   "id": "39a596ee-a413-4b6d-8e0f-4ad01e274f60",
   "metadata": {},
   "source": [
    "There are the same breeds I see for the 10K dataset. Are samples the same?"
   ]
  },
  {
   "cell_type": "code",
   "execution_count": 21,
   "id": "b64d8a1b-6d40-4b32-8a82-076d4d0313ec",
   "metadata": {},
   "outputs": [
    {
     "name": "stdout",
     "output_type": "stream",
     "text": [
      "set() samples are exclusive\n"
     ]
    }
   ],
   "source": [
    "print(f\"{samples_castellana.symmetric_difference(samples_10K)} samples are exclusive\")"
   ]
  },
  {
   "cell_type": "markdown",
   "id": "9fd9ffc4-c10b-432b-ac0c-66a1917ad916",
   "metadata": {},
   "source": [
    "with `symmetric_difference` I took the union of the two set and I substract the intersection. This means that the samples are the same in the two dataset. Should I merge them before import? this will be better than having the same animal with two different sets of SNPs. Moreover will be easier to compare this sample with others. Track SNPs name in a set"
   ]
  },
  {
   "cell_type": "code",
   "execution_count": 22,
   "id": "a77a5211-bae9-4322-81ad-731d19a18c28",
   "metadata": {},
   "outputs": [],
   "source": [
    "snp_names_50K = {snp.name for snp in plinkio.mapdata}"
   ]
  },
  {
   "cell_type": "markdown",
   "id": "2eb8a32b-3e8a-42bd-8946-e033ffc488fe",
   "metadata": {},
   "source": [
    "How many snps are exclusive of 10K?"
   ]
  },
  {
   "cell_type": "code",
   "execution_count": 23,
   "id": "53f376ff-0a03-45c0-a195-34a50b04cacc",
   "metadata": {},
   "outputs": [
    {
     "data": {
      "text/plain": [
       "set()"
      ]
     },
     "execution_count": 23,
     "metadata": {},
     "output_type": "execute_result"
    }
   ],
   "source": [
    "snp_names_10K.difference(snp_names_50K)"
   ]
  },
  {
   "cell_type": "code",
   "execution_count": 24,
   "id": "ba08d38d-e15a-43f7-b97c-6b7bd5425b23",
   "metadata": {},
   "outputs": [
    {
     "data": {
      "text/plain": [
       "True"
      ]
     },
     "execution_count": 24,
     "metadata": {},
     "output_type": "execute_result"
    }
   ],
   "source": [
    "snp_names_10K.issubset(snp_names_50K)"
   ]
  },
  {
   "cell_type": "markdown",
   "id": "b74c9885-1671-4ca6-b217-23cbb43e0340",
   "metadata": {},
   "source": [
    "So, if 10K is a subset of the 50K snp, should I import this dataset?"
   ]
  },
  {
   "cell_type": "markdown",
   "id": "9da94d4e-56c8-4c52-b5ff-2593d34afaed",
   "metadata": {},
   "source": [
    "<a id='dataset3'></a>\n",
    "## Churra\n",
    "Let's explore the last spanish dataset. This dataset is affymetrix plink file, with mixed *rs_id* and *affy ids* as SNP names"
   ]
  },
  {
   "cell_type": "code",
   "execution_count": 25,
   "id": "6417ce12-1e0f-44be-9f68-ee412b1a2ebc",
   "metadata": {},
   "outputs": [],
   "source": [
    "churra_dataset = Dataset.objects.get(file=\"Churra.zip\")\n",
    "plinkio = CustomAffyPlinkIO(\n",
    "    prefix=str(churra_dataset.working_dir / \"Churra/Churra_SMARTER_JJsent\"), \n",
    "    species=churra_dataset.species, \n",
    "    chip_name=churra_dataset.chip_name)\n",
    "plinkio.n_of_individuals = churra_dataset.n_of_individuals"
   ]
  },
  {
   "cell_type": "markdown",
   "id": "d09a9024-e6a0-425a-9aa5-4537fe1eecf8",
   "metadata": {},
   "source": [
    "Here we have the problem that we have a mix of `rs_id` and `probeset_id` as snp names:"
   ]
  },
  {
   "cell_type": "code",
   "execution_count": 26,
   "id": "c0f28571-a26e-4dcf-b551-a7a997c5ce14",
   "metadata": {},
   "outputs": [
    {
     "name": "stdout",
     "output_type": "stream",
     "text": [
      "Found 69 SNPs using 'probeset_id'\n"
     ]
    }
   ],
   "source": [
    "plinkio.read_mapfile()\n",
    "plinkio.fetch_coordinates(\n",
    "    version=\"Oar_v4.0\",\n",
    "    imported_from=\"affymetrix\",\n",
    "    search_field=\"probeset_id\"\n",
    ")\n",
    "probeset_found = len(plinkio.mapdata)-len(plinkio.filtered)\n",
    "print(f\"Found {probeset_found} SNPs using 'probeset_id'\")"
   ]
  },
  {
   "cell_type": "code",
   "execution_count": 27,
   "id": "a23b3927-fc01-474d-b7af-c8d7e4d45fcd",
   "metadata": {},
   "outputs": [
    {
     "name": "stdout",
     "output_type": "stream",
     "text": [
      "Found 45999 SNPs using 'rs_id'\n"
     ]
    }
   ],
   "source": [
    "plinkio.read_mapfile()\n",
    "plinkio.fetch_coordinates(\n",
    "    version=OAR3.version,\n",
    "    imported_from=OAR3.imported_from,\n",
    "    search_field=\"rs_id\"\n",
    ")\n",
    "rs_found = len(plinkio.mapdata)-len(plinkio.filtered)\n",
    "print(f\"Found {rs_found} SNPs using 'rs_id'\")"
   ]
  },
  {
   "cell_type": "code",
   "execution_count": 28,
   "id": "653ccb6a-67a4-494d-883b-39cb11812e6e",
   "metadata": {},
   "outputs": [
    {
     "name": "stdout",
     "output_type": "stream",
     "text": [
      "I can retrieve 46068 of 60379 SNPs (23.7% missing)\n"
     ]
    }
   ],
   "source": [
    "snps_found = probeset_found + rs_found\n",
    "perc_missing = round(100 - (snps_found / len(plinkio.mapdata) * 100), 2)\n",
    "\n",
    "print(f\"I can retrieve {snps_found} of {len(plinkio.mapdata)} SNPs ({perc_missing}% missing)\")"
   ]
  },
  {
   "cell_type": "markdown",
   "id": "4f9039bc-b004-4f14-99e0-8609c3869183",
   "metadata": {},
   "source": [
    "Ok, let's try to create a metadata table in which defining the few GPS coordinates I have:"
   ]
  },
  {
   "cell_type": "code",
   "execution_count": 29,
   "id": "9b95e69a-4320-43cc-a778-c1d462396619",
   "metadata": {},
   "outputs": [],
   "source": [
    "coordinates = {'AV': (42.097806, -5.283205), 'VG': (41.86830, -5.39687)}\n",
    "data = defaultdict(list)\n",
    "for line in plinkio.read_pedfile():\n",
    "    # define the minimal set of smarter metadata\n",
    "    data[\"original_id\"].append(line[1])\n",
    "    \n",
    "    # this breed is already in smarter\n",
    "    data[\"breed_name\"].append(\"Churra\")\n",
    "    data[\"breed_code\"].append(\"CHU\")\n",
    "    \n",
    "    # other data I know\n",
    "    data[\"country\"].append(\"Spain\")\n",
    "    data[\"purpose\"].append(\"Milk\")\n",
    "    \n",
    "    # determining GPS coordinates\n",
    "    key = line[1][:2]\n",
    "    latlong = coordinates[key]\n",
    "    data[\"latitude\"].append(latlong[0])\n",
    "    data[\"longitude\"].append(latlong[1])\n",
    "    \n",
    "# ok transform into dataframe\n",
    "df = pd.DataFrame(data=data)"
   ]
  },
  {
   "cell_type": "code",
   "execution_count": 30,
   "id": "9e5224d4-99ed-4f35-b068-868eb1aa1ba1",
   "metadata": {},
   "outputs": [],
   "source": [
    "outfile = Path(churra_dataset.file).stem + \".xlsx\"\n",
    "outpath = get_interim_dir() / outfile\n",
    "df.to_excel(str(outpath), index=False)\n",
    "os.chdir(get_interim_dir())\n",
    "metadata_file = zipfile.ZipFile(\"Churra_metadata.zip\", \"w\")\n",
    "metadata_file.write(outfile, arcname=f\"metadata/{outfile}\")\n",
    "outpath.unlink()\n",
    "metadata_file.close()"
   ]
  },
  {
   "cell_type": "code",
   "execution_count": null,
   "id": "6fce632f-eb92-43be-add8-2ab9ebec426f",
   "metadata": {},
   "outputs": [],
   "source": []
  }
 ],
 "metadata": {
  "kernelspec": {
   "display_name": "Python 3",
   "language": "python",
   "name": "python3"
  },
  "language_info": {
   "codemirror_mode": {
    "name": "ipython",
    "version": 3
   },
   "file_extension": ".py",
   "mimetype": "text/x-python",
   "name": "python",
   "nbconvert_exporter": "python",
   "pygments_lexer": "ipython3",
   "version": "3.9.1"
  }
 },
 "nbformat": 4,
 "nbformat_minor": 5
}
