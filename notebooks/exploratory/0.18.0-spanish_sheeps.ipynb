{
 "cells": [
  {
   "cell_type": "markdown",
   "id": "91cd6694-748f-4b5a-941c-d863b45c8008",
   "metadata": {},
   "source": [
    "# Spanish sheeps\n",
    "Describe the latest data coming from Spain. They sent multiple file. File with prefix `CHUOJA` have the same samples for breeds `{'Churra', 'Ojalada'}` already imported from sheephapmap. Other files seems to have new samples, however they comes from an *affymetrix* array I don't have.\n",
    "* [SMARTER-500-ASSAF](#dataset0)\n",
    "* [Castellana](#dataset1)\n",
    "* [Churra](#dataset2)"
   ]
  },
  {
   "cell_type": "code",
   "execution_count": 1,
   "id": "c98df9b5-0ee7-467e-acbb-ecd86c9cae36",
   "metadata": {},
   "outputs": [],
   "source": [
    "import re\n",
    "import os\n",
    "import csv\n",
    "import logging\n",
    "import zipfile\n",
    "from collections import defaultdict, Counter\n",
    "from pathlib import Path\n",
    "\n",
    "import pandas as pd\n",
    "from tqdm.notebook import tqdm\n",
    "\n",
    "from src.features.affymetrix import read_Manifest\n",
    "from src.features.smarterdb import global_connection, Dataset\n",
    "from src.features.plinkio import AffyPlinkIO, TextPlinkIO, CodingException\n",
    "from src.features.utils import get_interim_dir, get_project_dir\n",
    "from src.data.common import WORKING_ASSEMBLIES, AssemblyConf\n",
    "\n",
    "_ = global_connection()\n",
    "OAR3 = WORKING_ASSEMBLIES[\"OAR3\"]\n",
    "AFFY3 = AssemblyConf('Oar_v3.1','affymetrix')\n",
    "logger = logging.getLogger('src.features.plinkio')\n",
    "logger.setLevel(logging.CRITICAL)"
   ]
  },
  {
   "cell_type": "code",
   "execution_count": 2,
   "id": "78e9a82f-d628-423b-af34-cfd1a1287ace",
   "metadata": {},
   "outputs": [],
   "source": [
    "class CustomMixin():\n",
    "    n_of_individuals = None\n",
    "    \n",
    "    def process_pedfile(self, coding=\"top\"):\n",
    "        for line in tqdm(self.read_pedfile(), total=self.n_of_individuals):\n",
    "            _ = self._process_genotypes(line, coding)\n",
    "            \n",
    "        return True\n",
    "    \n",
    "    def is_top(self):\n",
    "        try:\n",
    "            return self.process_pedfile(coding='top')\n",
    "        \n",
    "        except CodingException:\n",
    "            return False\n",
    "    \n",
    "    def is_forward(self):\n",
    "        try:\n",
    "            return self.process_pedfile(coding='forward')\n",
    "        \n",
    "        except CodingException:\n",
    "            return False\n",
    "        \n",
    "    def is_affymetrix(self):\n",
    "        try:\n",
    "            return self.process_pedfile(coding='affymetrix')\n",
    "        \n",
    "        except CodingException:\n",
    "            return False\n",
    "        \n",
    "class CustomTextPlinkIO(CustomMixin, TextPlinkIO):\n",
    "    pass\n",
    "\n",
    "\n",
    "class CustomAffyPlinkIO(CustomMixin, AffyPlinkIO):\n",
    "    \"\"\"This is not a cellfile, but a plink made by affymetrix\"\"\"\n",
    "    \n",
    "    def read_pedfile(self, *args, **kwargs):\n",
    "        \"\"\"Open pedfile for reading return iterator\"\"\"\n",
    "\n",
    "        with open(self.pedfile) as handle:\n",
    "            # affy files has both \" \" and \"\\t\" in their files\n",
    "            for record in handle:\n",
    "                # affy data may have comments in files\n",
    "                if record.startswith(\"#\"):\n",
    "                    logger.info(f\"Skipping {record}\")\n",
    "                    continue\n",
    "\n",
    "                line = re.split('[ \\t]+', record.strip())\n",
    "\n",
    "                yield line\n",
    "                \n",
    "    def update_pedfile(self, outputfile: str):\n",
    "        with open(outputfile, \"w\") as target:\n",
    "            writer = csv.writer(\n",
    "                target, delimiter=' ', lineterminator=\"\\n\")\n",
    "\n",
    "            processed = 0\n",
    "            \n",
    "            for line in self.read_pedfile():\n",
    "                # a new line obj\n",
    "                new_line = line.copy()\n",
    "                \n",
    "                # need to remove filtered snps from ped line\n",
    "                for index in sorted(self.filtered, reverse=True):\n",
    "                    # index is snp position. Need to delete two fields\n",
    "                    del new_line[6+index*2+1]\n",
    "                    del new_line[6+index*2]\n",
    "\n",
    "                writer.writerow(new_line)\n",
    "                processed += 1\n",
    "                \n",
    "        logger.info(f\"Processed {processed} individuals\")"
   ]
  },
  {
   "cell_type": "markdown",
   "id": "36a67f97-d8c6-478e-86ba-b660d91b736b",
   "metadata": {},
   "source": [
    "<a id='dataset0'></a>\n",
    "## SMARTER-500-ASSAF\n",
    "Let'explore the ASSAF dataset. It seems to be an affymetrix dataset, however file is plink text format:"
   ]
  },
  {
   "cell_type": "code",
   "execution_count": 3,
   "id": "ad07f1f5-6e14-4c1d-bb27-13e84b27408b",
   "metadata": {},
   "outputs": [],
   "source": [
    "assaf_dataset = Dataset.objects.get(file=\"SMARTER-500-ASSAF.zip\")\n",
    "plinkio = CustomTextPlinkIO(\n",
    "    prefix=str(assaf_dataset.working_dir / \"SMARTER-500-ASSAF\"), \n",
    "    species=assaf_dataset.species, \n",
    "    chip_name=assaf_dataset.chip_name)\n",
    "plinkio.n_of_individuals = assaf_dataset.n_of_individuals"
   ]
  },
  {
   "cell_type": "markdown",
   "id": "bd4c552b-8c88-4b6b-a152-bdaabafbfa9b",
   "metadata": {},
   "source": [
    "Start by reading coordinates. Try to determine how many SNPs I have in SMARTER database"
   ]
  },
  {
   "cell_type": "code",
   "execution_count": 4,
   "id": "299a9344-633d-4100-8e56-92e274160d37",
   "metadata": {},
   "outputs": [],
   "source": [
    "plinkio.read_mapfile()\n",
    "plinkio.fetch_coordinates(\n",
    "    src_assembly=AFFY3,\n",
    "    search_field=\"probeset_id\"\n",
    ")"
   ]
  },
  {
   "cell_type": "code",
   "execution_count": 5,
   "id": "6a9ffcbb-4b1c-4b9b-81d5-c07590469b94",
   "metadata": {},
   "outputs": [
    {
     "name": "stdout",
     "output_type": "stream",
     "text": [
      "I can retrieve 49589 of 49702 SNPs (0.23% missing)\n"
     ]
    }
   ],
   "source": [
    "snps_found = len(plinkio.mapdata)-len(plinkio.filtered)\n",
    "perc_missing = round(100 - (snps_found / len(plinkio.mapdata) * 100), 2)\n",
    "\n",
    "print(f\"I can retrieve {snps_found} of {len(plinkio.mapdata)} SNPs ({perc_missing}% missing)\")"
   ]
  },
  {
   "cell_type": "markdown",
   "id": "83856eae-8192-4db4-9db2-bd3b7e2d1829",
   "metadata": {},
   "source": [
    "Is this dataset in *top* coordinates?"
   ]
  },
  {
   "cell_type": "code",
   "execution_count": 6,
   "id": "950a15eb-517f-43dd-8392-b2117026d8f8",
   "metadata": {},
   "outputs": [
    {
     "data": {
      "application/vnd.jupyter.widget-view+json": {
       "model_id": "4f953bf3e0734badb2b42b873f22a82c",
       "version_major": 2,
       "version_minor": 0
      },
      "text/plain": [
       "  0%|          | 0/504 [00:00<?, ?it/s]"
      ]
     },
     "metadata": {},
     "output_type": "display_data"
    },
    {
     "name": "stderr",
     "output_type": "stream",
     "text": [
      "Error for SNP 4:AX-169033323: C/C <> A/G\n"
     ]
    },
    {
     "data": {
      "text/plain": [
       "False"
      ]
     },
     "execution_count": 6,
     "metadata": {},
     "output_type": "execute_result"
    }
   ],
   "source": [
    "plinkio.is_top()"
   ]
  },
  {
   "cell_type": "markdown",
   "id": "a93567f9-420e-4ca1-b28b-09bfac2b9c0b",
   "metadata": {},
   "source": [
    "Is this file in *affymetrix forward* coordinates?"
   ]
  },
  {
   "cell_type": "code",
   "execution_count": 7,
   "id": "0bac10f8-9a0f-43ba-9c81-61751a7ee896",
   "metadata": {},
   "outputs": [
    {
     "data": {
      "application/vnd.jupyter.widget-view+json": {
       "model_id": "5c9f0f9b521749e9b4e7352d6b9678d0",
       "version_major": 2,
       "version_minor": 0
      },
      "text/plain": [
       "  0%|          | 0/504 [00:00<?, ?it/s]"
      ]
     },
     "metadata": {},
     "output_type": "display_data"
    },
    {
     "data": {
      "text/plain": [
       "True"
      ]
     },
     "execution_count": 7,
     "metadata": {},
     "output_type": "execute_result"
    }
   ],
   "source": [
    "plinkio.is_affymetrix()"
   ]
  },
  {
   "cell_type": "markdown",
   "id": "0700f6eb-a1d0-4dd7-918a-91c65e2b1c48",
   "metadata": {},
   "source": [
    "The custom affymetrix chip uploaded into database seems to fit this genotype file"
   ]
  },
  {
   "cell_type": "markdown",
   "id": "5e95baf5-be64-4cf3-829e-8af1266e21e0",
   "metadata": {},
   "source": [
    "<a id='dataset1'></a>\n",
    "## Castellana_Ovine\n",
    "Let's explore another spanish dataset. This dataset contains a plink file for the whole affymetrix chip and a subset of samples made to test for the creation of a smaller and cheaper chip. Samples and SNPs are the same, so the 10K dataset could be totally ignored. The 50K file is affymetrix plink file, however it don't come from *cell file* but its a plink *tab separated* file with comments"
   ]
  },
  {
   "cell_type": "code",
   "execution_count": 8,
   "id": "e460e752-d67e-46e9-ada5-b987e19ef30a",
   "metadata": {},
   "outputs": [],
   "source": [
    "castellana_ovine = Dataset.objects.get(file=\"Castellana.zip\")\n",
    "plinkio = CustomAffyPlinkIO(\n",
    "    prefix=str(castellana_ovine.working_dir / \"Castellana/20220131 Ovine\"), \n",
    "    species=castellana_ovine.species, \n",
    "    chip_name=castellana_ovine.chip_name)\n",
    "plinkio.n_of_individuals = castellana_ovine.n_of_individuals"
   ]
  },
  {
   "cell_type": "markdown",
   "id": "6222030c-4fc0-4b0b-8b52-e466958227ff",
   "metadata": {},
   "source": [
    "Start by reading coordinates. Try to determine how many SNPs I have in SMARTER database"
   ]
  },
  {
   "cell_type": "code",
   "execution_count": 9,
   "id": "d0bf76b6-a84e-4827-a67e-f23ff9e29ed5",
   "metadata": {},
   "outputs": [],
   "source": [
    "plinkio.read_mapfile()\n",
    "plinkio.fetch_coordinates(\n",
    "    src_assembly=AFFY3,\n",
    "    search_field=\"probeset_id\"\n",
    ")"
   ]
  },
  {
   "cell_type": "code",
   "execution_count": 10,
   "id": "7e3bc102-4ce4-4cfe-a65f-7531672735dc",
   "metadata": {},
   "outputs": [
    {
     "name": "stdout",
     "output_type": "stream",
     "text": [
      "I can retrieve 49589 of 49702 SNPs (0.23% missing)\n"
     ]
    }
   ],
   "source": [
    "snps_found = len(plinkio.mapdata)-len(plinkio.filtered)\n",
    "perc_missing = round(100 - (snps_found / len(plinkio.mapdata) * 100), 2)\n",
    "\n",
    "print(f\"I can retrieve {snps_found} of {len(plinkio.mapdata)} SNPs ({perc_missing}% missing)\")"
   ]
  },
  {
   "cell_type": "markdown",
   "id": "8e182432-8449-493f-aba7-38dfd726be90",
   "metadata": {},
   "source": [
    "Is this dataset in *top* coordinates?"
   ]
  },
  {
   "cell_type": "code",
   "execution_count": 11,
   "id": "8ef4a6bb-57b8-4545-8383-fef119fe7180",
   "metadata": {},
   "outputs": [
    {
     "data": {
      "application/vnd.jupyter.widget-view+json": {
       "model_id": "d2000fe45ea249a7974472afc8733253",
       "version_major": 2,
       "version_minor": 0
      },
      "text/plain": [
       "  0%|          | 0/185 [00:00<?, ?it/s]"
      ]
     },
     "metadata": {},
     "output_type": "display_data"
    },
    {
     "name": "stderr",
     "output_type": "stream",
     "text": [
      "Error for SNP 4:AX-169033323: C/C <> A/G\n"
     ]
    },
    {
     "data": {
      "text/plain": [
       "False"
      ]
     },
     "execution_count": 11,
     "metadata": {},
     "output_type": "execute_result"
    }
   ],
   "source": [
    "plinkio.is_top()"
   ]
  },
  {
   "cell_type": "markdown",
   "id": "d0e814c4-ec0f-4214-a088-ae604c036d1f",
   "metadata": {},
   "source": [
    "Is this file in *affymetrix forward* coordinates?"
   ]
  },
  {
   "cell_type": "code",
   "execution_count": 12,
   "id": "c507128a-7276-45dd-bd1f-e351756e93cd",
   "metadata": {},
   "outputs": [
    {
     "data": {
      "application/vnd.jupyter.widget-view+json": {
       "model_id": "a0f1a6abdcbe492b89511ccae55f15c3",
       "version_major": 2,
       "version_minor": 0
      },
      "text/plain": [
       "  0%|          | 0/185 [00:00<?, ?it/s]"
      ]
     },
     "metadata": {},
     "output_type": "display_data"
    },
    {
     "data": {
      "text/plain": [
       "True"
      ]
     },
     "execution_count": 12,
     "metadata": {},
     "output_type": "execute_result"
    }
   ],
   "source": [
    "plinkio.is_affymetrix()"
   ]
  },
  {
   "cell_type": "markdown",
   "id": "1be1adb5-12dc-45c0-b992-e63b4d0118a0",
   "metadata": {},
   "source": [
    "This is the same behaviour seen for *Assaf* file. Which breeds I have in this dataset?"
   ]
  },
  {
   "cell_type": "code",
   "execution_count": 13,
   "id": "712cf931-9196-4c9b-b662-ba7afc57468b",
   "metadata": {},
   "outputs": [
    {
     "name": "stdout",
     "output_type": "stream",
     "text": [
      "Got {'SMARTER', 'Assaf'} breeds\n"
     ]
    }
   ],
   "source": [
    "breeds_castellana = set()\n",
    "samples_castellana = set()\n",
    "for line in plinkio.read_pedfile():\n",
    "    breed, sample = line[0], line[1]\n",
    "    if breed not in breeds_castellana:\n",
    "        breeds_castellana.add(breed)\n",
    "    samples_castellana.add(sample)\n",
    "    \n",
    "print(f\"Got {breeds_castellana} breeds\")"
   ]
  },
  {
   "cell_type": "markdown",
   "id": "9da94d4e-56c8-4c52-b5ff-2593d34afaed",
   "metadata": {},
   "source": [
    "<a id='dataset2'></a>\n",
    "## Churra\n",
    "Let's explore the churra dataset. This dataset is affymetrix plink file, with mixed *rs_id* and *affy ids* as SNP names. We have about 60K SNPs instead of the 49K: does this dataset comes from a more recent manifest file?"
   ]
  },
  {
   "cell_type": "code",
   "execution_count": 14,
   "id": "6417ce12-1e0f-44be-9f68-ee412b1a2ebc",
   "metadata": {},
   "outputs": [],
   "source": [
    "churra_dataset = Dataset.objects.get(file=\"Churra.zip\")\n",
    "plinkio = CustomAffyPlinkIO(\n",
    "    prefix=str(churra_dataset.working_dir / \"Churra/Churra_SMARTER_JJsent\"), \n",
    "    species=churra_dataset.species, \n",
    "    chip_name=churra_dataset.chip_name)\n",
    "plinkio.n_of_individuals = churra_dataset.n_of_individuals"
   ]
  },
  {
   "cell_type": "markdown",
   "id": "d09a9024-e6a0-425a-9aa5-4537fe1eecf8",
   "metadata": {},
   "source": [
    "Here we have the problem that we have a mix of `rs_id` and `probeset_id` as snp names:"
   ]
  },
  {
   "cell_type": "code",
   "execution_count": 15,
   "id": "c0f28571-a26e-4dcf-b551-a7a997c5ce14",
   "metadata": {},
   "outputs": [
    {
     "name": "stdout",
     "output_type": "stream",
     "text": [
      "Found 14177 SNPs using 'probeset_id'\n"
     ]
    }
   ],
   "source": [
    "plinkio.read_mapfile()\n",
    "plinkio.fetch_coordinates(\n",
    "    src_assembly=AFFY3,\n",
    "    search_field=\"probeset_id\"\n",
    ")\n",
    "probeset_found = len(plinkio.mapdata)-len(plinkio.filtered)\n",
    "print(f\"Found {probeset_found} SNPs using 'probeset_id'\")"
   ]
  },
  {
   "cell_type": "markdown",
   "id": "794e094c-24fe-46fc-a8df-527e3d594051",
   "metadata": {},
   "source": [
    "I can't find SNP using *affymetrix ids*. Let's use `rs_id` instead:"
   ]
  },
  {
   "cell_type": "code",
   "execution_count": 16,
   "id": "a23b3927-fc01-474d-b7af-c8d7e4d45fcd",
   "metadata": {},
   "outputs": [
    {
     "name": "stdout",
     "output_type": "stream",
     "text": [
      "Found 46159 SNPs using 'rs_id'\n"
     ]
    }
   ],
   "source": [
    "plinkio.read_mapfile()\n",
    "plinkio.fetch_coordinates(\n",
    "    src_assembly=AFFY3,\n",
    "    search_field=\"rs_id\"\n",
    ")\n",
    "rs_found = len(plinkio.mapdata)-len(plinkio.filtered)\n",
    "print(f\"Found {rs_found} SNPs using 'rs_id'\")"
   ]
  },
  {
   "cell_type": "code",
   "execution_count": 17,
   "id": "653ccb6a-67a4-494d-883b-39cb11812e6e",
   "metadata": {},
   "outputs": [
    {
     "name": "stdout",
     "output_type": "stream",
     "text": [
      "I can retrieve 60336 of 60379 SNPs (0.07% missing)\n"
     ]
    }
   ],
   "source": [
    "snps_found = probeset_found + rs_found\n",
    "perc_missing = round(100 - (snps_found / len(plinkio.mapdata) * 100), 2)\n",
    "\n",
    "print(f\"I can retrieve {snps_found} of {len(plinkio.mapdata)} SNPs ({perc_missing}% missing)\")"
   ]
  },
  {
   "cell_type": "markdown",
   "id": "ab67263e-a385-43aa-b3cf-694466ae7202",
   "metadata": {},
   "source": [
    "Is this dataset in *top* coordinates?"
   ]
  },
  {
   "cell_type": "code",
   "execution_count": 18,
   "id": "7380a2d0-3b79-4055-bb90-91b05d27fc87",
   "metadata": {},
   "outputs": [
    {
     "data": {
      "application/vnd.jupyter.widget-view+json": {
       "model_id": "66c0297571524ef8a0ef143083c52846",
       "version_major": 2,
       "version_minor": 0
      },
      "text/plain": [
       "  0%|          | 0/150 [00:00<?, ?it/s]"
      ]
     },
     "metadata": {},
     "output_type": "display_data"
    },
    {
     "name": "stderr",
     "output_type": "stream",
     "text": [
      "Error for SNP 5:rs409143979: G/G <> A/C\n"
     ]
    },
    {
     "data": {
      "text/plain": [
       "False"
      ]
     },
     "execution_count": 18,
     "metadata": {},
     "output_type": "execute_result"
    }
   ],
   "source": [
    "plinkio.is_top()"
   ]
  },
  {
   "cell_type": "markdown",
   "id": "0f357688-2df1-468f-bb6c-cf7eb5bb3132",
   "metadata": {},
   "source": [
    "Is this file in *affymetrix forward* coordinates?"
   ]
  },
  {
   "cell_type": "code",
   "execution_count": 19,
   "id": "55bccc07-9553-411c-91d0-3c4b05977d8e",
   "metadata": {},
   "outputs": [
    {
     "data": {
      "application/vnd.jupyter.widget-view+json": {
       "model_id": "108a3e0e4f6a4ce39e37b24e4ed51444",
       "version_major": 2,
       "version_minor": 0
      },
      "text/plain": [
       "  0%|          | 0/150 [00:00<?, ?it/s]"
      ]
     },
     "metadata": {},
     "output_type": "display_data"
    },
    {
     "name": "stderr",
     "output_type": "stream",
     "text": [
      "Error for SNP 3245:rs430225014: C/C <> A/G\n"
     ]
    },
    {
     "data": {
      "text/plain": [
       "False"
      ]
     },
     "execution_count": 19,
     "metadata": {},
     "output_type": "execute_result"
    }
   ],
   "source": [
    "plinkio.is_affymetrix()"
   ]
  },
  {
   "cell_type": "markdown",
   "id": "2278e8ad-f1d8-4a93-92ab-b01c7b9cdbd6",
   "metadata": {},
   "source": [
    "This is unexpected. Getting more info for `rs430225014` snp:"
   ]
  },
  {
   "cell_type": "code",
   "execution_count": 20,
   "id": "45eb7bb6-3c80-4526-bfdc-f1aed0d4334b",
   "metadata": {},
   "outputs": [
    {
     "data": {
      "text/plain": [
       "[(3245, MapRecord(chrom='0', name='rs430225014', cm=0.0, position=0)),\n",
       " (55956, MapRecord(chrom='20', name='rs430225014', cm=0.0, position=26705026)),\n",
       " (55957, MapRecord(chrom='20', name='rs430225014', cm=0.0, position=26705026)),\n",
       " (55958, MapRecord(chrom='20', name='rs430225014', cm=0.0, position=26705026)),\n",
       " (55959, MapRecord(chrom='20', name='rs430225014', cm=0.0, position=26705026))]"
      ]
     },
     "execution_count": 20,
     "metadata": {},
     "output_type": "execute_result"
    }
   ],
   "source": [
    "snp_locations = list(filter(lambda snp: snp[1].name == 'rs430225014', list(enumerate(plinkio.mapdata))))\n",
    "snp_locations"
   ]
  },
  {
   "cell_type": "markdown",
   "id": "e734e718-d9ba-4df6-92ac-4b7a7d913191",
   "metadata": {},
   "source": [
    "This snp is duplicated. This could be an issue while importing data. What about genotypes in those positions? get SNPs for first samples"
   ]
  },
  {
   "cell_type": "code",
   "execution_count": 21,
   "id": "8a2750f1-a719-4c02-9504-7b71fdc53fdf",
   "metadata": {},
   "outputs": [
    {
     "name": "stdout",
     "output_type": "stream",
     "text": [
      "['CHURRA', 'AV11111']\n",
      "(3245, MapRecord(chrom='0', name='rs430225014', cm=0.0, position=0)) ['C', 'C']\n",
      "(55956, MapRecord(chrom='20', name='rs430225014', cm=0.0, position=26705026)) ['C', 'C']\n",
      "(55957, MapRecord(chrom='20', name='rs430225014', cm=0.0, position=26705026)) ['G', 'G']\n",
      "(55958, MapRecord(chrom='20', name='rs430225014', cm=0.0, position=26705026)) ['C', 'C']\n",
      "(55959, MapRecord(chrom='20', name='rs430225014', cm=0.0, position=26705026)) ['T', 'T']\n"
     ]
    }
   ],
   "source": [
    "line = next(plinkio.read_pedfile())\n",
    "print(line[:2])\n",
    "\n",
    "for location in snp_locations:\n",
    "    i = location[0]\n",
    "    a1 = line[6+i*2]\n",
    "    a2 = line[6+i*2+1]\n",
    "\n",
    "    genotype = [a1, a2]\n",
    "    print(location, genotype)"
   ]
  },
  {
   "cell_type": "markdown",
   "id": "4f9039bc-b004-4f14-99e0-8609c3869183",
   "metadata": {},
   "source": [
    "Unfortunately, for this sample there are different genotypes, I can't determine which probe I'm referring to. So lets try to determine how many snps are duplicated using rs_id. All of those records need to be removed from the dataset."
   ]
  },
  {
   "cell_type": "code",
   "execution_count": 22,
   "id": "69da6188-674f-4638-8657-6107169413b1",
   "metadata": {},
   "outputs": [
    {
     "data": {
      "text/plain": [
       "{'rs401726527': 3,\n",
       " 'rs430225014': 5,\n",
       " 'rs161899045': 2,\n",
       " 'rs428531658': 2,\n",
       " 'rs411063068': 2,\n",
       " 'rs425852623': 3,\n",
       " 'rs406168362': 3,\n",
       " 'rs402561655': 3,\n",
       " 'rs426229273': 2,\n",
       " 'rs405371865': 3,\n",
       " 'rs426285862': 2,\n",
       " 'rs403670129': 2,\n",
       " 'rs419280018': 2,\n",
       " 'rs416539062': 3,\n",
       " 'rs414674284': 3,\n",
       " 'rs418010992': 2,\n",
       " 'rs419405934': 2,\n",
       " 'rs427574198': 3,\n",
       " 'rs417119249': 3,\n",
       " 'rs412768618': 3,\n",
       " 'rs405030483': 2,\n",
       " 'rs423896391': 3,\n",
       " 'rs427466865': 2,\n",
       " 'rs420539536': 2,\n",
       " 'rs161142328': 3,\n",
       " 'rs405589666': 3,\n",
       " 'rs403084223': 3,\n",
       " 'rs420329233': 2,\n",
       " 'rs416711628': 2,\n",
       " 'rs161200133': 3,\n",
       " 'rs424129466': 2,\n",
       " 'rs406328119': 3,\n",
       " 'rs423593214': 2}"
      ]
     },
     "execution_count": 22,
     "metadata": {},
     "output_type": "execute_result"
    }
   ],
   "source": [
    "snp_ids = Counter()\n",
    "for snp in plinkio.mapdata:\n",
    "    snp_ids.update([snp.name])\n",
    "    \n",
    "duplicates = {x: count for x, count in snp_ids.items() if count > 1}\n",
    "duplicates"
   ]
  },
  {
   "cell_type": "markdown",
   "id": "1b429f94-5cb0-4ac4-9009-828f93db79a5",
   "metadata": {},
   "source": [
    "Those are duplicated SNPs. Try to remove them from dataset (updating `filtered` by positions):"
   ]
  },
  {
   "cell_type": "code",
   "execution_count": 23,
   "id": "d317e600-f282-48d3-a669-6708118a38c6",
   "metadata": {},
   "outputs": [],
   "source": [
    "for idx, snp in enumerate(plinkio.mapdata):\n",
    "    if snp.name in duplicates:\n",
    "        plinkio.filtered.add(idx)"
   ]
  },
  {
   "cell_type": "markdown",
   "id": "d7bb9649-b4df-4004-8e84-106bc818f1d4",
   "metadata": {},
   "source": [
    "Test again for affimetrix coordinates:"
   ]
  },
  {
   "cell_type": "code",
   "execution_count": 24,
   "id": "cd4f6b13-b675-4e15-8833-cab7ff16e32c",
   "metadata": {},
   "outputs": [
    {
     "data": {
      "application/vnd.jupyter.widget-view+json": {
       "model_id": "7350f42696a14b7d885f713ab796038c",
       "version_major": 2,
       "version_minor": 0
      },
      "text/plain": [
       "  0%|          | 0/150 [00:00<?, ?it/s]"
      ]
     },
     "metadata": {},
     "output_type": "display_data"
    },
    {
     "name": "stderr",
     "output_type": "stream",
     "text": [
      "Error for SNP 16923:rs414355830: G/C <> T/G\n"
     ]
    },
    {
     "data": {
      "text/plain": [
       "False"
      ]
     },
     "execution_count": 24,
     "metadata": {},
     "output_type": "execute_result"
    }
   ],
   "source": [
    "plinkio.is_affymetrix()"
   ]
  },
  {
   "cell_type": "markdown",
   "id": "de9bf566-7071-4dca-b115-421fba02ccbd",
   "metadata": {},
   "source": [
    "Well, `rs414355830` is assigned to multiple probes, some of them are `G/C` and not `T/G` (as expected in `oar3_OAR2_3369768` illumina probe). One of this probe is tri-allelic in manifest file and is not imported. So, those SNPs should be manually removed. Try to read the manifest file and search for these three allelic SNPs"
   ]
  },
  {
   "cell_type": "code",
   "execution_count": 25,
   "id": "d1adf2ba-114d-43bb-a7ba-5f452a2fe00e",
   "metadata": {},
   "outputs": [
    {
     "name": "stderr",
     "output_type": "stream",
     "text": [
      "Skipping: ##For information about the Annotation file content, please see the bundled README file.\n",
      "Skipping: #%guid=00005d49-3207-4b7a-118d-001bbd006ce2\n",
      "Skipping: #%create_date=Tue Apr  4 11:40:20 2017\n",
      "Skipping: #%chip_type=Axiom_BGovisNP\n",
      "Skipping: #%genome-species=Axiom_BGovisNP_ovine.r1\n",
      "Skipping: #%genome-version=N/A\n",
      "Skipping: #%genome-version-ucsc=N/A\n",
      "Skipping: #%genome-version-ncbi=N/A\n",
      "Skipping: #%genome-version-create_date=N/A\n",
      "Skipping: #%dbSNP_date=N/A\n",
      "Skipping: #%dbSNP_version=N/A\n",
      "Skipping: #%hapmap-date=N/A\n",
      "Skipping: #%hapmap-version=N/A\n",
      "Skipping: #%netaffx-annotation-date=N/A\n",
      "Skipping: #%netaffx-annotation-netaffx-build=N/A\n",
      "Skipping: #%netaffx-annotation-tabular-format-version=1.0\n",
      "Skipping: #%netaffx-annotation-docgen-method=com.affymetrix.database.docgen.DocGenDriver\n",
      "Skipping: #%netaffx-annotation-docgen-version=cluster_friendly_submission\n"
     ]
    }
   ],
   "source": [
    "multi_allelic = []\n",
    "for record in read_Manifest(get_project_dir() / \"data/external/SHE/AFFYMETRIX/Axiom_BGovisNP_ovine_Annotation.r1.csv.gz\"):\n",
    "    if int(record.allele_count) > 2:\n",
    "        if record.rsid:\n",
    "            multi_allelic.append(record.rsid)\n",
    "\n",
    "for idx, snp in enumerate(plinkio.mapdata):\n",
    "    if snp.name in multi_allelic:\n",
    "        plinkio.filtered.add(idx)"
   ]
  },
  {
   "cell_type": "markdown",
   "id": "fc12116f-08ba-487a-8fc0-c6160bad4b11",
   "metadata": {},
   "source": [
    "Test again for affimetrix coordinates:"
   ]
  },
  {
   "cell_type": "code",
   "execution_count": 26,
   "id": "5ff08e78-a23a-45e3-9759-9ddf5b133557",
   "metadata": {},
   "outputs": [
    {
     "data": {
      "application/vnd.jupyter.widget-view+json": {
       "model_id": "ab137e700c004865a249cf2c7c28360e",
       "version_major": 2,
       "version_minor": 0
      },
      "text/plain": [
       "  0%|          | 0/150 [00:00<?, ?it/s]"
      ]
     },
     "metadata": {},
     "output_type": "display_data"
    },
    {
     "data": {
      "text/plain": [
       "True"
      ]
     },
     "execution_count": 26,
     "metadata": {},
     "output_type": "execute_result"
    }
   ],
   "source": [
    "plinkio.is_affymetrix()"
   ]
  },
  {
   "cell_type": "markdown",
   "id": "93ecbebf-1f3e-4fa1-9627-62e07966e7be",
   "metadata": {},
   "source": [
    "This time, I can read my source file. However how many SNPs left after custom filtering?"
   ]
  },
  {
   "cell_type": "code",
   "execution_count": 27,
   "id": "389a8fe3-a893-4c9b-977f-ea1b2ec0780d",
   "metadata": {},
   "outputs": [
    {
     "name": "stdout",
     "output_type": "stream",
     "text": [
      "I can retrieve 46068 of 60379 SNPs (23.7% missing) after filtering\n"
     ]
    }
   ],
   "source": [
    "snps_found = len(plinkio.mapdata)-len(plinkio.filtered)\n",
    "perc_missing = round(100 - (snps_found / len(plinkio.mapdata) * 100), 2)\n",
    "\n",
    "print(f\"I can retrieve {snps_found} of {len(plinkio.mapdata)} SNPs ({perc_missing}% missing) after filtering\")"
   ]
  },
  {
   "cell_type": "markdown",
   "id": "e85a0536-b9d2-4e6c-bb18-5ed541eeb2a1",
   "metadata": {},
   "source": [
    "More or less is the same percentage of the data I read at the beginning. I think I could write a new plink file with these filtering SNPs:"
   ]
  },
  {
   "cell_type": "code",
   "execution_count": 28,
   "id": "5d7b437b-76ab-4b47-bd16-ce9ac026a167",
   "metadata": {},
   "outputs": [],
   "source": [
    "output_map = get_interim_dir() / \"churra_fixed.map\"\n",
    "output_ped = get_interim_dir() / \"churra_fixed.ped\"\n",
    "plinkio.update_mapfile(str(output_map))\n",
    "plinkio.update_pedfile(str(output_ped))"
   ]
  },
  {
   "cell_type": "markdown",
   "id": "31e34146-03cd-4955-8b87-60411ff117c4",
   "metadata": {},
   "source": [
    "Ok, let's try to create a metadata table in which defining the few GPS coordinates I have:"
   ]
  },
  {
   "cell_type": "code",
   "execution_count": 29,
   "id": "9b95e69a-4320-43cc-a778-c1d462396619",
   "metadata": {},
   "outputs": [],
   "source": [
    "coordinates = {'AV': (42.097806, -5.283205), 'VG': (41.86830, -5.39687)}\n",
    "data = defaultdict(list)\n",
    "for line in plinkio.read_pedfile():\n",
    "    # define the minimal set of smarter metadata\n",
    "    data[\"original_id\"].append(line[1])\n",
    "    data[\"fid\"].append(line[0])\n",
    "    \n",
    "    # this breed is already in smarter\n",
    "    data[\"breed_name\"].append(\"Churra\")\n",
    "    data[\"breed_code\"].append(\"CHU\")\n",
    "    \n",
    "    # other data I know\n",
    "    data[\"country\"].append(\"Spain\")\n",
    "    data[\"purpose\"].append(\"Milk\")\n",
    "    \n",
    "    # determining GPS coordinates\n",
    "    key = line[1][:2]\n",
    "    latlong = coordinates[key]\n",
    "    data[\"latitude\"].append(latlong[0])\n",
    "    data[\"longitude\"].append(latlong[1])\n",
    "    \n",
    "# ok transform into dataframe\n",
    "df = pd.DataFrame(data=data)"
   ]
  },
  {
   "cell_type": "code",
   "execution_count": 30,
   "id": "9e5224d4-99ed-4f35-b068-868eb1aa1ba1",
   "metadata": {},
   "outputs": [],
   "source": [
    "outfile = Path(churra_dataset.file).stem + \".xlsx\"\n",
    "outpath = get_interim_dir() / outfile\n",
    "df.to_excel(str(outpath), index=False)\n",
    "os.chdir(get_interim_dir())\n",
    "metadata_file = zipfile.ZipFile(\"Churra_metadata.zip\", \"w\")\n",
    "metadata_file.write(outfile, arcname=f\"metadata/{outfile}\")\n",
    "outpath.unlink()\n",
    "metadata_file.close()"
   ]
  },
  {
   "cell_type": "code",
   "execution_count": null,
   "id": "6fce632f-eb92-43be-add8-2ab9ebec426f",
   "metadata": {},
   "outputs": [],
   "source": []
  }
 ],
 "metadata": {
  "kernelspec": {
   "display_name": "Python 3",
   "language": "python",
   "name": "python3"
  },
  "language_info": {
   "codemirror_mode": {
    "name": "ipython",
    "version": 3
   },
   "file_extension": ".py",
   "mimetype": "text/x-python",
   "name": "python",
   "nbconvert_exporter": "python",
   "pygments_lexer": "ipython3",
   "version": "3.9.1"
  }
 },
 "nbformat": 4,
 "nbformat_minor": 5
}
