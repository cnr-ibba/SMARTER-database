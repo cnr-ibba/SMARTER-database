{
 "cells": [
  {
   "cell_type": "markdown",
   "id": "91cd6694-748f-4b5a-941c-d863b45c8008",
   "metadata": {},
   "source": [
    "# Spanish sheeps\n",
    "Describe the latest data coming from Spain. They sent multiple file. File with prefix `CHUOJA` have the same samples for breeds `{'Churra', 'Ojalada'}` already imported from sheephapmap. Other files seems to have new samples, however they comes from an *affymetrix* array I don't have.\n",
    "* [SMARTER-500-ASSAF](#dataset0)\n",
    "* [Castellana](#dataset1)\n",
    "* [Churra](#dataset2)"
   ]
  },
  {
   "cell_type": "code",
   "execution_count": 1,
   "id": "c98df9b5-0ee7-467e-acbb-ecd86c9cae36",
   "metadata": {},
   "outputs": [],
   "source": [
    "import re\n",
    "import os\n",
    "import logging\n",
    "import zipfile\n",
    "from collections import defaultdict\n",
    "from pathlib import Path\n",
    "\n",
    "import pandas as pd\n",
    "from tqdm.notebook import tqdm\n",
    "\n",
    "from src.features.smarterdb import global_connection, Dataset\n",
    "from src.features.plinkio import AffyPlinkIO, TextPlinkIO, CodingException\n",
    "from src.features.utils import get_interim_dir\n",
    "from src.data.common import WORKING_ASSEMBLIES\n",
    "\n",
    "_ = global_connection()\n",
    "OAR3 = WORKING_ASSEMBLIES[\"OAR3\"]\n",
    "logger = logging.getLogger('src.features.plinkio')\n",
    "logger.setLevel(logging.CRITICAL)"
   ]
  },
  {
   "cell_type": "code",
   "execution_count": 2,
   "id": "78e9a82f-d628-423b-af34-cfd1a1287ace",
   "metadata": {},
   "outputs": [],
   "source": [
    "class CustomMixin():\n",
    "    n_of_individuals = None\n",
    "    \n",
    "    def process_pedfile(self, coding=\"top\"):\n",
    "        for line in tqdm(self.read_pedfile(), total=self.n_of_individuals):\n",
    "            _ = self._process_genotypes(line, coding)\n",
    "            \n",
    "        return True\n",
    "    \n",
    "    def is_top(self):\n",
    "        try:\n",
    "            return self.process_pedfile(coding='top')\n",
    "        \n",
    "        except CodingException:\n",
    "            return False\n",
    "    \n",
    "    def is_forward(self):\n",
    "        try:\n",
    "            return self.process_pedfile(coding='forward')\n",
    "        \n",
    "        except CodingException:\n",
    "            return False\n",
    "        \n",
    "    def is_affymetrix(self):\n",
    "        try:\n",
    "            return self.process_pedfile(coding='affymetrix')\n",
    "        \n",
    "        except CodingException:\n",
    "            return False\n",
    "        \n",
    "class CustomTextPlinkIO(CustomMixin, TextPlinkIO):\n",
    "    pass\n",
    "\n",
    "\n",
    "class CustomAffyPlinkIO(CustomMixin, AffyPlinkIO):\n",
    "    \"\"\"This is not a cellfile, but a plink made by affymetrix\"\"\"\n",
    "    \n",
    "    def read_pedfile(self, *args, **kwargs):\n",
    "        \"\"\"Open pedfile for reading return iterator\"\"\"\n",
    "\n",
    "        with open(self.pedfile) as handle:\n",
    "            # affy files has both \" \" and \"\\t\" in their files\n",
    "            for record in handle:\n",
    "                # affy data may have comments in files\n",
    "                if record.startswith(\"#\"):\n",
    "                    logger.info(f\"Skipping {record}\")\n",
    "                    continue\n",
    "\n",
    "                line = re.split('[ \\t]+', record.strip())\n",
    "\n",
    "                yield line"
   ]
  },
  {
   "cell_type": "markdown",
   "id": "36a67f97-d8c6-478e-86ba-b660d91b736b",
   "metadata": {},
   "source": [
    "<a id='dataset0'></a>\n",
    "## SMARTER-500-ASSAF\n",
    "Let'explore the ASSAF dataset. It seems to be an affymetrix dataset, however file is plink text format:"
   ]
  },
  {
   "cell_type": "code",
   "execution_count": 3,
   "id": "ad07f1f5-6e14-4c1d-bb27-13e84b27408b",
   "metadata": {},
   "outputs": [],
   "source": [
    "assaf_dataset = Dataset.objects.get(file=\"SMARTER-500-ASSAF.zip\")\n",
    "plinkio = CustomTextPlinkIO(\n",
    "    prefix=str(assaf_dataset.working_dir / \"SMARTER-500-ASSAF\"), \n",
    "    species=assaf_dataset.species, \n",
    "    chip_name=assaf_dataset.chip_name)\n",
    "plinkio.n_of_individuals = assaf_dataset.n_of_individuals"
   ]
  },
  {
   "cell_type": "markdown",
   "id": "bd4c552b-8c88-4b6b-a152-bdaabafbfa9b",
   "metadata": {},
   "source": [
    "Start by reading coordinates. Try to determine how many SNPs I have in SMARTER database"
   ]
  },
  {
   "cell_type": "code",
   "execution_count": 4,
   "id": "299a9344-633d-4100-8e56-92e274160d37",
   "metadata": {},
   "outputs": [],
   "source": [
    "plinkio.read_mapfile()\n",
    "plinkio.fetch_coordinates(\n",
    "    version=\"Oar_v4.0\",\n",
    "    imported_from=\"affymetrix\",\n",
    "    search_field=\"probeset_id\"\n",
    ")"
   ]
  },
  {
   "cell_type": "code",
   "execution_count": 5,
   "id": "6a9ffcbb-4b1c-4b9b-81d5-c07590469b94",
   "metadata": {},
   "outputs": [
    {
     "name": "stdout",
     "output_type": "stream",
     "text": [
      "I can retrieve 38843 of 49702 SNPs (21.85% missing)\n"
     ]
    }
   ],
   "source": [
    "snps_found = len(plinkio.mapdata)-len(plinkio.filtered)\n",
    "perc_missing = round(100 - (snps_found / len(plinkio.mapdata) * 100), 2)\n",
    "\n",
    "print(f\"I can retrieve {snps_found} of {len(plinkio.mapdata)} SNPs ({perc_missing}% missing)\")"
   ]
  },
  {
   "cell_type": "markdown",
   "id": "83856eae-8192-4db4-9db2-bd3b7e2d1829",
   "metadata": {},
   "source": [
    "Is this dataset in *top* coordinates?"
   ]
  },
  {
   "cell_type": "code",
   "execution_count": 6,
   "id": "950a15eb-517f-43dd-8392-b2117026d8f8",
   "metadata": {},
   "outputs": [
    {
     "data": {
      "application/vnd.jupyter.widget-view+json": {
       "model_id": "658f8b5e26804701bbfcdf2aa226e696",
       "version_major": 2,
       "version_minor": 0
      },
      "text/plain": [
       "  0%|          | 0/504 [00:00<?, ?it/s]"
      ]
     },
     "metadata": {},
     "output_type": "display_data"
    },
    {
     "name": "stderr",
     "output_type": "stream",
     "text": [
      "Error for SNP 6:AX-123194370: C/C <> A/G\n"
     ]
    },
    {
     "data": {
      "text/plain": [
       "False"
      ]
     },
     "execution_count": 6,
     "metadata": {},
     "output_type": "execute_result"
    }
   ],
   "source": [
    "plinkio.is_top()"
   ]
  },
  {
   "cell_type": "markdown",
   "id": "a93567f9-420e-4ca1-b28b-09bfac2b9c0b",
   "metadata": {},
   "source": [
    "Is this file in *affymetrix forward* coordinates?"
   ]
  },
  {
   "cell_type": "code",
   "execution_count": 7,
   "id": "0bac10f8-9a0f-43ba-9c81-61751a7ee896",
   "metadata": {},
   "outputs": [
    {
     "data": {
      "application/vnd.jupyter.widget-view+json": {
       "model_id": "73bad8b1fb0c468cae51d1d694a0b6fe",
       "version_major": 2,
       "version_minor": 0
      },
      "text/plain": [
       "  0%|          | 0/504 [00:00<?, ?it/s]"
      ]
     },
     "metadata": {},
     "output_type": "display_data"
    },
    {
     "name": "stderr",
     "output_type": "stream",
     "text": [
      "Error for SNP 3:AX-123245398: G/G <> T/C\n"
     ]
    },
    {
     "data": {
      "text/plain": [
       "False"
      ]
     },
     "execution_count": 7,
     "metadata": {},
     "output_type": "execute_result"
    }
   ],
   "source": [
    "plinkio.is_affymetrix()"
   ]
  },
  {
   "cell_type": "markdown",
   "id": "0700f6eb-a1d0-4dd7-918a-91c65e2b1c48",
   "metadata": {},
   "source": [
    "This isn't expected, maybe the reference genome is *OAR3* and not the latest *OAR4*. I think I need to add this old manifest data into database"
   ]
  },
  {
   "cell_type": "markdown",
   "id": "5e95baf5-be64-4cf3-829e-8af1266e21e0",
   "metadata": {},
   "source": [
    "<a id='dataset1'></a>\n",
    "## Castellana_Ovine\n",
    "Let's explore another spanish dataset. This dataset contains a plink file for the whole affymetrix chip and a subset of samples made to test for the creation of a smaller and cheaper chip. Samples and SNPs are the same, so the 10K dataset could be totally ignored. The 50K file is affymetrix plink file, however it don't come from *cell file* but its a plink *tab separated* file with comments"
   ]
  },
  {
   "cell_type": "code",
   "execution_count": 8,
   "id": "e460e752-d67e-46e9-ada5-b987e19ef30a",
   "metadata": {},
   "outputs": [],
   "source": [
    "castellana_ovine = Dataset.objects.get(file=\"Castellana.zip\")\n",
    "plinkio = CustomAffyPlinkIO(\n",
    "    prefix=str(castellana_ovine.working_dir / \"Castellana/20220131 Ovine\"), \n",
    "    species=castellana_ovine.species, \n",
    "    chip_name=castellana_ovine.chip_name)\n",
    "plinkio.n_of_individuals = castellana_ovine.n_of_individuals"
   ]
  },
  {
   "cell_type": "markdown",
   "id": "6222030c-4fc0-4b0b-8b52-e466958227ff",
   "metadata": {},
   "source": [
    "Start by reading coordinates. Try to determine how many SNPs I have in SMARTER database"
   ]
  },
  {
   "cell_type": "code",
   "execution_count": 9,
   "id": "d0bf76b6-a84e-4827-a67e-f23ff9e29ed5",
   "metadata": {},
   "outputs": [],
   "source": [
    "plinkio.read_mapfile()\n",
    "plinkio.fetch_coordinates(\n",
    "    version=\"Oar_v4.0\",\n",
    "    imported_from=\"affymetrix\",\n",
    "    search_field=\"probeset_id\"\n",
    ")"
   ]
  },
  {
   "cell_type": "code",
   "execution_count": 10,
   "id": "7e3bc102-4ce4-4cfe-a65f-7531672735dc",
   "metadata": {},
   "outputs": [
    {
     "name": "stdout",
     "output_type": "stream",
     "text": [
      "I can retrieve 38843 of 49702 SNPs (21.85% missing)\n"
     ]
    }
   ],
   "source": [
    "snps_found = len(plinkio.mapdata)-len(plinkio.filtered)\n",
    "perc_missing = round(100 - (snps_found / len(plinkio.mapdata) * 100), 2)\n",
    "\n",
    "print(f\"I can retrieve {snps_found} of {len(plinkio.mapdata)} SNPs ({perc_missing}% missing)\")"
   ]
  },
  {
   "cell_type": "markdown",
   "id": "8e182432-8449-493f-aba7-38dfd726be90",
   "metadata": {},
   "source": [
    "Is this dataset in *top* coordinates?"
   ]
  },
  {
   "cell_type": "code",
   "execution_count": 11,
   "id": "8ef4a6bb-57b8-4545-8383-fef119fe7180",
   "metadata": {},
   "outputs": [
    {
     "data": {
      "application/vnd.jupyter.widget-view+json": {
       "model_id": "281cf3c7c9b746ca9371ce9e2b1fc8cd",
       "version_major": 2,
       "version_minor": 0
      },
      "text/plain": [
       "  0%|          | 0/186 [00:00<?, ?it/s]"
      ]
     },
     "metadata": {},
     "output_type": "display_data"
    },
    {
     "name": "stderr",
     "output_type": "stream",
     "text": [
      "Error for SNP 6:AX-123194370: C/C <> A/G\n"
     ]
    },
    {
     "data": {
      "text/plain": [
       "False"
      ]
     },
     "execution_count": 11,
     "metadata": {},
     "output_type": "execute_result"
    }
   ],
   "source": [
    "plinkio.is_top()"
   ]
  },
  {
   "cell_type": "markdown",
   "id": "d0e814c4-ec0f-4214-a088-ae604c036d1f",
   "metadata": {},
   "source": [
    "Is this file in *affymetrix forward* coordinates?"
   ]
  },
  {
   "cell_type": "code",
   "execution_count": 12,
   "id": "c507128a-7276-45dd-bd1f-e351756e93cd",
   "metadata": {},
   "outputs": [
    {
     "data": {
      "application/vnd.jupyter.widget-view+json": {
       "model_id": "a7a7a04c75774c98a179c509fe5bc30b",
       "version_major": 2,
       "version_minor": 0
      },
      "text/plain": [
       "  0%|          | 0/186 [00:00<?, ?it/s]"
      ]
     },
     "metadata": {},
     "output_type": "display_data"
    },
    {
     "name": "stderr",
     "output_type": "stream",
     "text": [
      "Error for SNP 3:AX-123245398: G/G <> T/C\n"
     ]
    },
    {
     "data": {
      "text/plain": [
       "False"
      ]
     },
     "execution_count": 12,
     "metadata": {},
     "output_type": "execute_result"
    }
   ],
   "source": [
    "plinkio.is_affymetrix()"
   ]
  },
  {
   "cell_type": "markdown",
   "id": "1be1adb5-12dc-45c0-b992-e63b4d0118a0",
   "metadata": {},
   "source": [
    "This is the same behaviour seen for *Assaf* file. Which breeds I have in this dataset?"
   ]
  },
  {
   "cell_type": "code",
   "execution_count": 13,
   "id": "712cf931-9196-4c9b-b662-ba7afc57468b",
   "metadata": {},
   "outputs": [
    {
     "name": "stdout",
     "output_type": "stream",
     "text": [
      "Got {'Assaf', 'SMARTER'} breeds\n"
     ]
    }
   ],
   "source": [
    "breeds_castellana = set()\n",
    "samples_castellana = set()\n",
    "for line in plinkio.read_pedfile():\n",
    "    breed, sample = line[0], line[1]\n",
    "    if breed not in breeds_castellana:\n",
    "        breeds_castellana.add(breed)\n",
    "    samples_castellana.add(sample)\n",
    "    \n",
    "print(f\"Got {breeds_castellana} breeds\")"
   ]
  },
  {
   "cell_type": "markdown",
   "id": "9da94d4e-56c8-4c52-b5ff-2593d34afaed",
   "metadata": {},
   "source": [
    "<a id='dataset2'></a>\n",
    "## Churra\n",
    "Let's explore the last spanish dataset. This dataset is affymetrix plink file, with mixed *rs_id* and *affy ids* as SNP names"
   ]
  },
  {
   "cell_type": "code",
   "execution_count": 14,
   "id": "6417ce12-1e0f-44be-9f68-ee412b1a2ebc",
   "metadata": {},
   "outputs": [],
   "source": [
    "churra_dataset = Dataset.objects.get(file=\"Churra.zip\")\n",
    "plinkio = CustomAffyPlinkIO(\n",
    "    prefix=str(churra_dataset.working_dir / \"Churra/Churra_SMARTER_JJsent\"), \n",
    "    species=churra_dataset.species, \n",
    "    chip_name=churra_dataset.chip_name)\n",
    "plinkio.n_of_individuals = churra_dataset.n_of_individuals"
   ]
  },
  {
   "cell_type": "markdown",
   "id": "d09a9024-e6a0-425a-9aa5-4537fe1eecf8",
   "metadata": {},
   "source": [
    "Here we have the problem that we have a mix of `rs_id` and `probeset_id` as snp names:"
   ]
  },
  {
   "cell_type": "code",
   "execution_count": 15,
   "id": "c0f28571-a26e-4dcf-b551-a7a997c5ce14",
   "metadata": {},
   "outputs": [
    {
     "name": "stdout",
     "output_type": "stream",
     "text": [
      "Found 69 SNPs using 'probeset_id'\n"
     ]
    }
   ],
   "source": [
    "plinkio.read_mapfile()\n",
    "plinkio.fetch_coordinates(\n",
    "    version=\"Oar_v4.0\",\n",
    "    imported_from=\"affymetrix\",\n",
    "    search_field=\"probeset_id\"\n",
    ")\n",
    "probeset_found = len(plinkio.mapdata)-len(plinkio.filtered)\n",
    "print(f\"Found {probeset_found} SNPs using 'probeset_id'\")"
   ]
  },
  {
   "cell_type": "code",
   "execution_count": 16,
   "id": "a23b3927-fc01-474d-b7af-c8d7e4d45fcd",
   "metadata": {},
   "outputs": [
    {
     "name": "stdout",
     "output_type": "stream",
     "text": [
      "Found 45999 SNPs using 'rs_id'\n"
     ]
    }
   ],
   "source": [
    "plinkio.read_mapfile()\n",
    "plinkio.fetch_coordinates(\n",
    "    version=OAR3.version,\n",
    "    imported_from=OAR3.imported_from,\n",
    "    search_field=\"rs_id\"\n",
    ")\n",
    "rs_found = len(plinkio.mapdata)-len(plinkio.filtered)\n",
    "print(f\"Found {rs_found} SNPs using 'rs_id'\")"
   ]
  },
  {
   "cell_type": "code",
   "execution_count": 17,
   "id": "653ccb6a-67a4-494d-883b-39cb11812e6e",
   "metadata": {},
   "outputs": [
    {
     "name": "stdout",
     "output_type": "stream",
     "text": [
      "I can retrieve 46068 of 60379 SNPs (23.7% missing)\n"
     ]
    }
   ],
   "source": [
    "snps_found = probeset_found + rs_found\n",
    "perc_missing = round(100 - (snps_found / len(plinkio.mapdata) * 100), 2)\n",
    "\n",
    "print(f\"I can retrieve {snps_found} of {len(plinkio.mapdata)} SNPs ({perc_missing}% missing)\")"
   ]
  },
  {
   "cell_type": "markdown",
   "id": "4f9039bc-b004-4f14-99e0-8609c3869183",
   "metadata": {},
   "source": [
    "Ok, let's try to create a metadata table in which defining the few GPS coordinates I have:"
   ]
  },
  {
   "cell_type": "code",
   "execution_count": 18,
   "id": "9b95e69a-4320-43cc-a778-c1d462396619",
   "metadata": {},
   "outputs": [],
   "source": [
    "coordinates = {'AV': (42.097806, -5.283205), 'VG': (41.86830, -5.39687)}\n",
    "data = defaultdict(list)\n",
    "for line in plinkio.read_pedfile():\n",
    "    # define the minimal set of smarter metadata\n",
    "    data[\"original_id\"].append(line[1])\n",
    "    \n",
    "    # this breed is already in smarter\n",
    "    data[\"breed_name\"].append(\"Churra\")\n",
    "    data[\"breed_code\"].append(\"CHU\")\n",
    "    \n",
    "    # other data I know\n",
    "    data[\"country\"].append(\"Spain\")\n",
    "    data[\"purpose\"].append(\"Milk\")\n",
    "    \n",
    "    # determining GPS coordinates\n",
    "    key = line[1][:2]\n",
    "    latlong = coordinates[key]\n",
    "    data[\"latitude\"].append(latlong[0])\n",
    "    data[\"longitude\"].append(latlong[1])\n",
    "    \n",
    "# ok transform into dataframe\n",
    "df = pd.DataFrame(data=data)"
   ]
  },
  {
   "cell_type": "code",
   "execution_count": 19,
   "id": "9e5224d4-99ed-4f35-b068-868eb1aa1ba1",
   "metadata": {},
   "outputs": [],
   "source": [
    "outfile = Path(churra_dataset.file).stem + \".xlsx\"\n",
    "outpath = get_interim_dir() / outfile\n",
    "df.to_excel(str(outpath), index=False)\n",
    "os.chdir(get_interim_dir())\n",
    "metadata_file = zipfile.ZipFile(\"Churra_metadata.zip\", \"w\")\n",
    "metadata_file.write(outfile, arcname=f\"metadata/{outfile}\")\n",
    "outpath.unlink()\n",
    "metadata_file.close()"
   ]
  },
  {
   "cell_type": "code",
   "execution_count": null,
   "id": "6fce632f-eb92-43be-add8-2ab9ebec426f",
   "metadata": {},
   "outputs": [],
   "source": []
  }
 ],
 "metadata": {
  "kernelspec": {
   "display_name": "Python 3",
   "language": "python",
   "name": "python3"
  },
  "language_info": {
   "codemirror_mode": {
    "name": "ipython",
    "version": 3
   },
   "file_extension": ".py",
   "mimetype": "text/x-python",
   "name": "python",
   "nbconvert_exporter": "python",
   "pygments_lexer": "ipython3",
   "version": "3.9.1"
  }
 },
 "nbformat": 4,
 "nbformat_minor": 5
}
