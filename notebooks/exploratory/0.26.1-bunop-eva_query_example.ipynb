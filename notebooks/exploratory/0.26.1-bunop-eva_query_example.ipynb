{
 "cells": [
  {
   "cell_type": "markdown",
   "id": "063e624a-fd25-4824-8cf0-1e4de3efc8e1",
   "metadata": {},
   "source": [
    "# Query EVA data\n",
    "In this notebook we try to replicate the API request which [EBI EVA](https://www.ebi.ac.uk/eva/) does. Start by importing and declaring some stuff:"
   ]
  },
  {
   "cell_type": "code",
   "execution_count": 1,
   "id": "ebdc216a-fb34-4d1e-bb97-17a321140b32",
   "metadata": {},
   "outputs": [],
   "source": [
    "import io\n",
    "import difflib\n",
    "import requests\n",
    "\n",
    "import Bio.SeqIO\n",
    "\n",
    "from src.data.common import AssemblyConf\n",
    "from src.features.smarterdb import global_connection, VariantGoat"
   ]
  },
  {
   "cell_type": "code",
   "execution_count": 2,
   "id": "c37342ac-8a03-4578-8df2-7eebf0823240",
   "metadata": {},
   "outputs": [],
   "source": [
    "session = requests.session()\n",
    "conn = global_connection()\n",
    "dbSNP152 = AssemblyConf(version=\"CHI1.0\", imported_from=\"dbSNP152\")"
   ]
  },
  {
   "cell_type": "markdown",
   "id": "3c7a8cf0-60ac-41e7-8db1-47df8cdfe573",
   "metadata": {},
   "source": [
    "## Getting info about the service"
   ]
  },
  {
   "cell_type": "code",
   "execution_count": 3,
   "id": "7263adf4-afa0-4ec9-8192-741ce6a83c16",
   "metadata": {},
   "outputs": [],
   "source": [
    "response = session.get(\"https://www.ebi.ac.uk/eva/webservices/release/v1/info/latest\")"
   ]
  },
  {
   "cell_type": "code",
   "execution_count": 4,
   "id": "6e50fb3c-c022-4509-86a2-25344dfdd80a",
   "metadata": {},
   "outputs": [
    {
     "data": {
      "text/plain": [
       "200"
      ]
     },
     "execution_count": 4,
     "metadata": {},
     "output_type": "execute_result"
    }
   ],
   "source": [
    "response.status_code"
   ]
  },
  {
   "cell_type": "code",
   "execution_count": 5,
   "id": "8ae5add5-d286-4481-ab19-347bf0686679",
   "metadata": {},
   "outputs": [
    {
     "data": {
      "text/plain": [
       "{'releaseVersion': 4,\n",
       " 'releaseDate': '2022-11-21T00:00:00',\n",
       " 'releaseDescription': 'The fourth EVA RS Release is done in the continuation of release 3 updating 5 reference genomes including chicken, rainbow trout and marmoset and adding support for new species such as haplochromine. The released variants with genomic coordinates are available from our website, API, and downloadable from our FTP in VCF. Released variants without coordinates are only available through FTP in text format.',\n",
       " 'releaseFtp': 'https://ftp.ebi.ac.uk/pub/databases/eva/rs_releases/release_4/'}"
      ]
     },
     "execution_count": 5,
     "metadata": {},
     "output_type": "execute_result"
    }
   ],
   "source": [
    "response.json()"
   ]
  },
  {
   "cell_type": "markdown",
   "id": "1843fed3-ad0f-4d47-9db8-14256e1808e3",
   "metadata": {},
   "source": [
    "## Getting info by rsID\n",
    "To retrive information by `rsID`, you need to provide a number to the proper endpoint"
   ]
  },
  {
   "cell_type": "code",
   "execution_count": 6,
   "id": "6ca8930c-e7b0-4c91-9ebb-c0310cce678f",
   "metadata": {},
   "outputs": [
    {
     "data": {
      "text/plain": [
       "200"
      ]
     },
     "execution_count": 6,
     "metadata": {},
     "output_type": "execute_result"
    }
   ],
   "source": [
    "rs_id = \"rs268293069\"\n",
    "response = session.get(f\"https://www.ebi.ac.uk/eva/webservices/identifiers/v1/clustered-variants/{rs_id.replace('rs', '')}\")\n",
    "response.status_code"
   ]
  },
  {
   "cell_type": "code",
   "execution_count": 7,
   "id": "a6c856a0-54ba-4204-8178-508e24fc73d6",
   "metadata": {},
   "outputs": [
    {
     "data": {
      "text/plain": [
       "[{'accession': 268293069,\n",
       "  'version': 1,\n",
       "  'data': {'assemblyAccession': 'GCA_000317765.1',\n",
       "   'taxonomyAccession': 9925,\n",
       "   'contig': 'CM001715.1',\n",
       "   'start': 82680594,\n",
       "   'type': 'SNV',\n",
       "   'validated': False,\n",
       "   'mapWeight': None,\n",
       "   'createdDate': '2012-08-17T00:44:00'}},\n",
       " {'accession': 268293069,\n",
       "  'version': 1,\n",
       "  'data': {'assemblyAccession': 'GCA_001704415.1',\n",
       "   'taxonomyAccession': 9925,\n",
       "   'contig': 'CM004567.1',\n",
       "   'start': 85981710,\n",
       "   'type': 'SNV',\n",
       "   'validated': False,\n",
       "   'mapWeight': None,\n",
       "   'createdDate': '2022-01-06T05:02:04.287'}}]"
      ]
     },
     "execution_count": 7,
     "metadata": {},
     "output_type": "execute_result"
    }
   ],
   "source": [
    "clustered = response.json()\n",
    "clustered"
   ]
  },
  {
   "cell_type": "markdown",
   "id": "4715e3b8-15f1-4c53-8ab6-a96402b3c305",
   "metadata": {},
   "source": [
    "There's no species name in this response nor information about chromosome names nor assebly version (like *ARS1* or *CHI1.0*)"
   ]
  },
  {
   "cell_type": "markdown",
   "id": "2d851765-4d37-49ea-80b8-41fd60f027cc",
   "metadata": {},
   "source": [
    "## Get information on assembly"
   ]
  },
  {
   "cell_type": "code",
   "execution_count": 8,
   "id": "0dbc7cb5-2fb7-4e0c-a0de-252b73e84e21",
   "metadata": {},
   "outputs": [
    {
     "data": {
      "text/plain": [
       "200"
      ]
     },
     "execution_count": 8,
     "metadata": {},
     "output_type": "execute_result"
    }
   ],
   "source": [
    "response = session.get(\"https://www.ebi.ac.uk/eva/webservices/rest/v1/meta/species/list\")\n",
    "response.status_code"
   ]
  },
  {
   "cell_type": "markdown",
   "id": "c1961b4e-6ee5-47a2-a4cf-3e773c580196",
   "metadata": {},
   "source": [
    "Here I got information on all the species. Try to filter out goat assemblies using taxon id:"
   ]
  },
  {
   "cell_type": "code",
   "execution_count": 9,
   "id": "b40e5b6d-b4b9-4d1a-858f-f09522abd230",
   "metadata": {},
   "outputs": [
    {
     "data": {
      "text/plain": [
       "[{'assemblyAccession': 'GCA_000317765.1',\n",
       "  'assemblyChain': 'GCA_000317765',\n",
       "  'assemblyVersion': '1',\n",
       "  'assemblyName': 'CHIR_1.0',\n",
       "  'assemblyCode': '10',\n",
       "  'taxonomyId': 9925,\n",
       "  'taxonomyCommonName': 'Goat',\n",
       "  'taxonomyScientificName': 'Capra hircus',\n",
       "  'taxonomyCode': 'chircus',\n",
       "  'taxonomyEvaName': 'goat'},\n",
       " {'assemblyAccession': 'GCA_001704415.1',\n",
       "  'assemblyChain': 'GCA_001704415',\n",
       "  'assemblyVersion': '1',\n",
       "  'assemblyName': 'ARS1',\n",
       "  'assemblyCode': 'ars1',\n",
       "  'taxonomyId': 9925,\n",
       "  'taxonomyCommonName': 'Goat',\n",
       "  'taxonomyScientificName': 'Capra hircus',\n",
       "  'taxonomyCode': 'chircus',\n",
       "  'taxonomyEvaName': 'goat'}]"
      ]
     },
     "execution_count": 9,
     "metadata": {},
     "output_type": "execute_result"
    }
   ],
   "source": [
    "species_list = response.json()\n",
    "goat_assemblies = list(filter(lambda assembly: assembly['taxonomyId'] == 9925, species_list['response'][0]['result']))\n",
    "goat_assemblies"
   ]
  },
  {
   "cell_type": "markdown",
   "id": "fe05fd92-1cdf-48ea-a5ec-95b688bb0682",
   "metadata": {},
   "source": [
    "Here I can find the correspondance between the *NCBI Accession* and the *Assembly Name*. I can also retrieve the `assemblyCode` and `taxonomyCode`, which are both required to collect studies. There's another endpoint from which I can collect information about assemblies:"
   ]
  },
  {
   "cell_type": "code",
   "execution_count": 10,
   "id": "8295ec6a-0bd7-4302-b8fa-eef8bb722ff3",
   "metadata": {},
   "outputs": [
    {
     "data": {
      "text/plain": [
       "200"
      ]
     },
     "execution_count": 10,
     "metadata": {},
     "output_type": "execute_result"
    }
   ],
   "source": [
    "response = session.get(\"https://www.ebi.ac.uk/eva/webservices/rest/v1/meta/species/accessioned\")\n",
    "response.status_code"
   ]
  },
  {
   "cell_type": "code",
   "execution_count": 11,
   "id": "b738212a-c7c2-46a5-a84f-93ec949017a0",
   "metadata": {},
   "outputs": [
    {
     "data": {
      "text/plain": [
       "[{'assemblyAccession': 'GCA_000317765.1',\n",
       "  'assemblyChain': 'GCA_000317765',\n",
       "  'assemblyVersion': '1',\n",
       "  'assemblyName': 'CHIR_1.0',\n",
       "  'assemblyCode': '10',\n",
       "  'taxonomyId': 9925,\n",
       "  'taxonomyCommonName': 'Goat',\n",
       "  'taxonomyScientificName': 'Capra hircus',\n",
       "  'taxonomyCode': 'chircus',\n",
       "  'taxonomyEvaName': 'goat'},\n",
       " {'assemblyAccession': 'GCA_001704415.1',\n",
       "  'assemblyChain': 'GCA_001704415',\n",
       "  'assemblyVersion': '1',\n",
       "  'assemblyName': 'ARS1',\n",
       "  'assemblyCode': 'ars1',\n",
       "  'taxonomyId': 9925,\n",
       "  'taxonomyCommonName': 'Goat',\n",
       "  'taxonomyScientificName': 'Capra hircus',\n",
       "  'taxonomyCode': 'chircus',\n",
       "  'taxonomyEvaName': 'goat'}]"
      ]
     },
     "execution_count": 11,
     "metadata": {},
     "output_type": "execute_result"
    }
   ],
   "source": [
    "species_accessioned = response.json()\n",
    "list(filter(lambda assembly: assembly['taxonomyId'] == 9925, species_list['response'][0]['result']))"
   ]
  },
  {
   "cell_type": "markdown",
   "id": "6713c439-dda5-4038-abe7-135b9dc3ac00",
   "metadata": {},
   "source": [
    "It seems to me the same identical information I can get from `species/list`"
   ]
  },
  {
   "cell_type": "markdown",
   "id": "ca59d93a-fbc5-4f33-8de6-89629d95fe96",
   "metadata": {},
   "source": [
    "## Getting chromosome names\n",
    "This type of query will be to a different endpoint. Let's concentrate on *CHI1.0* only:"
   ]
  },
  {
   "cell_type": "code",
   "execution_count": 12,
   "id": "54cf230b-7dca-4bf8-8137-c1ffc42fb03f",
   "metadata": {},
   "outputs": [],
   "source": [
    "chi1 = next(filter(lambda assembly: assembly['assemblyName'] == 'CHIR_1.0', goat_assemblies))"
   ]
  },
  {
   "cell_type": "markdown",
   "id": "e9d87755-6db1-49a7-9e24-23378fdf8684",
   "metadata": {},
   "source": [
    "Now filter only the SNP I want:"
   ]
  },
  {
   "cell_type": "code",
   "execution_count": 13,
   "id": "b44a03b2-dc77-461c-858b-df72beb21fa4",
   "metadata": {},
   "outputs": [
    {
     "data": {
      "text/plain": [
       "{'assemblyAccession': 'GCA_000317765.1',\n",
       " 'taxonomyAccession': 9925,\n",
       " 'contig': 'CM001715.1',\n",
       " 'start': 82680594,\n",
       " 'type': 'SNV',\n",
       " 'validated': False,\n",
       " 'mapWeight': None,\n",
       " 'createdDate': '2012-08-17T00:44:00'}"
      ]
     },
     "execution_count": 13,
     "metadata": {},
     "output_type": "execute_result"
    }
   ],
   "source": [
    "snp = next(filter(lambda snp: snp['data']['assemblyAccession'] == chi1['assemblyAccession'], clustered))['data']\n",
    "snp"
   ]
  },
  {
   "cell_type": "markdown",
   "id": "86b134d4-6c8e-4536-9642-5ef28bd89e1d",
   "metadata": {},
   "source": [
    "Ok time to request for resolve contig name:"
   ]
  },
  {
   "cell_type": "code",
   "execution_count": 14,
   "id": "fe98b159-6ad8-46bf-8c27-0cb617dab7b9",
   "metadata": {},
   "outputs": [
    {
     "data": {
      "text/plain": [
       "200"
      ]
     },
     "execution_count": 14,
     "metadata": {},
     "output_type": "execute_result"
    }
   ],
   "source": [
    "response = session.get(f\"https://www.ebi.ac.uk/ena/browser/api/text/{snp['contig']}?lineLimit=1000&annotationOnly=true\")\n",
    "response.status_code"
   ]
  },
  {
   "cell_type": "markdown",
   "id": "ad544e13-e30e-4930-aaf3-e7ea6e85ed59",
   "metadata": {},
   "source": [
    "This type of reponse is not a JSON, is an embl (with no sequence)"
   ]
  },
  {
   "cell_type": "code",
   "execution_count": 15,
   "id": "e51c9e40-4ec0-41f1-bd11-5bf520d4e4e9",
   "metadata": {},
   "outputs": [
    {
     "data": {
      "text/plain": [
       "SeqRecord(seq=Seq(None, length=114334461), id='CM001715.1', name='CM001715', description='Capra hircus chromosome 6, whole genome shotgun sequence.', dbxrefs=['Project:PRJNA158393', 'MD5:6fdd43012bf7c06f97b8685101a9f810', 'ENA:AJPT010000000', 'ENA:AJPT000000000', 'BioSample:SAMN02953816', 'PubMed:23263233'])"
      ]
     },
     "execution_count": 15,
     "metadata": {},
     "output_type": "execute_result"
    }
   ],
   "source": [
    "sequence = Bio.SeqIO.read(io.StringIO(response.text), \"embl\")\n",
    "sequence"
   ]
  },
  {
   "cell_type": "markdown",
   "id": "6b6ee0f1-28a0-4228-a302-6db7ffa15dba",
   "metadata": {},
   "source": [
    "I can get information on chromosome names by searching in features qualifiers:"
   ]
  },
  {
   "cell_type": "code",
   "execution_count": 16,
   "id": "2d7d829c-62d7-4ac3-a905-d48b68c50295",
   "metadata": {},
   "outputs": [
    {
     "data": {
      "text/plain": [
       "'6'"
      ]
     },
     "execution_count": 16,
     "metadata": {},
     "output_type": "execute_result"
    }
   ],
   "source": [
    "sequence.features[0].qualifiers['chromosome'][0]"
   ]
  },
  {
   "cell_type": "markdown",
   "id": "ce7a7152-02f3-4013-9b50-a7c5398378da",
   "metadata": {},
   "source": [
    "Get informations from database:"
   ]
  },
  {
   "cell_type": "code",
   "execution_count": 17,
   "id": "e198a901-3e80-4c47-9fe4-8302ba8c9c9c",
   "metadata": {},
   "outputs": [
    {
     "data": {
      "text/plain": [
       "[<VariantGoat: name='snp59420-scaffold980-297169', rs_id='['rs268293069']', illumina_top='A/C'>, <VariantGoat: name='snp59995-CSN1S1-ex3-1', rs_id='['rs268293069']', illumina_top='A/C'>]"
      ]
     },
     "execution_count": 17,
     "metadata": {},
     "output_type": "execute_result"
    }
   ],
   "source": [
    "variants = VariantGoat.objects.filter(rs_id=rs_id)\n",
    "variants"
   ]
  },
  {
   "cell_type": "markdown",
   "id": "c895666a-0bf3-45c1-921a-5dead3ca4770",
   "metadata": {},
   "source": [
    "Well, this rs_is seems to be associated with two SNPs:"
   ]
  },
  {
   "cell_type": "code",
   "execution_count": 18,
   "id": "f22ab4d0-2e7d-4c74-b7e9-51c38e688fd0",
   "metadata": {},
   "outputs": [
    {
     "name": "stdout",
     "output_type": "stream",
     "text": [
      "snp59420-scaffold980-297169 TTGAGTGCTTTTGTTTTTACAGTTCTTGCATTTTTTTTTTAACAGAAACATCCAATCAAT[A/C]ACCAAGGACTCTCTCCAGTGAGTGTTCTATTCTGTTCCAAGAACTCGCTATAAATTGTGT (dbSNP152:CHI1.0) 6:82680594 [A/C]\n",
      "snp59995-CSN1S1-ex3-1 TTGAGTGCTTTTGTTTTTACAGTTCTTGCATTTTTTTTTTAACAGAAACATCCTATCAAT[A/C]ACCAAGGACTCTCTCCAGTGAGTGTTCTTTTCTGTTCCAAGAACTCGCTATAAATTGTGT (dbSNP152:CHI1.0) 6:82680594 [A/C]\n"
     ]
    }
   ],
   "source": [
    "sequences = {}\n",
    "\n",
    "for variant in variants:\n",
    "    location = variant.get_location(**dbSNP152._asdict())\n",
    "    sequence = variant.sequence[\"IlluminaGoatSNP50\"]\n",
    "    sequences[variant.name] = sequence\n",
    "    print(variant.name, sequence, location)"
   ]
  },
  {
   "cell_type": "code",
   "execution_count": 19,
   "id": "31c52ffd-569d-476c-a2c3-f218838233dc",
   "metadata": {},
   "outputs": [
    {
     "data": {
      "text/plain": [
       "False"
      ]
     },
     "execution_count": 19,
     "metadata": {},
     "output_type": "execute_result"
    }
   ],
   "source": [
    "s1, s2 = sequences.values()\n",
    "s1 == s2"
   ]
  },
  {
   "cell_type": "markdown",
   "id": "3939964b-5950-4bbe-ab3e-bed36b1e6e11",
   "metadata": {},
   "source": [
    "They seems to be identical but they aren't:"
   ]
  },
  {
   "cell_type": "code",
   "execution_count": 20,
   "id": "85fd35e8-ba51-4d52-a0e3-820cb7d02360",
   "metadata": {},
   "outputs": [
    {
     "name": "stdout",
     "output_type": "stream",
     "text": [
      "Matching Sequences:\n",
      "Match             : Match(a=0, b=0, size=53)\n",
      "Matching Sequence : TTGAGTGCTTTTGTTTTTACAGTTCTTGCATTTTTTTTTTAACAGAAACATCC\n",
      "Match             : Match(a=54, b=54, size=39)\n",
      "Matching Sequence : ATCAAT[A/C]ACCAAGGACTCTCTCCAGTGAGTGTTCT\n",
      "Match             : Match(a=94, b=94, size=31)\n",
      "Matching Sequence : TTCTGTTCCAAGAACTCGCTATAAATTGTGT\n",
      "Match             : Match(a=125, b=125, size=0)\n",
      "Matching Sequence : \n"
     ]
    }
   ],
   "source": [
    "# https://towardsdatascience.com/side-by-side-comparison-of-strings-in-python-b9491ac858\n",
    "matcher = difflib.SequenceMatcher(a=s1, b=s2)\n",
    "print(\"Matching Sequences:\")\n",
    "for match in matcher.get_matching_blocks():\n",
    "    print(\"Match             : {}\".format(match))\n",
    "    print(\"Matching Sequence : {}\".format(s1[match.a:match.a+match.size]))"
   ]
  },
  {
   "cell_type": "code",
   "execution_count": 21,
   "id": "25945fa3-6915-4972-a202-8da811633dd8",
   "metadata": {},
   "outputs": [
    {
     "name": "stdout",
     "output_type": "stream",
     "text": [
      "TTGAGTGCTTTTGTTTTTACAGTTCTTGCATTTTTTTTTTAACAGAAACATCCAATCAAT[A/C]ACCAAGGACTCTCTCCAGTGAGTGTTCTATTCTGTTCCAAGAACTCGCTATAAATTGTGT\n",
      "TTGAGTGCTTTTGTTTTTACAGTTCTTGCATTTTTTTTTTAACAGAAACATCCTATCAAT[A/C]ACCAAGGACTCTCTCCAGTGAGTGTTCTTTTCTGTTCCAAGAACTCGCTATAAATTGTGT\n"
     ]
    }
   ],
   "source": [
    "print(s1)\n",
    "print(s2)"
   ]
  },
  {
   "cell_type": "markdown",
   "id": "c6dbaffc-de0b-4c1a-b096-3e9f77917889",
   "metadata": {},
   "source": [
    "So, for what I understand, SNP `snp59420-scaffold980-297169` is correctly placed, while `snp59995-CSN1S1-ex3-1` not"
   ]
  },
  {
   "cell_type": "markdown",
   "id": "1c4381d1-d405-4c7d-9372-9c27c9d77396",
   "metadata": {},
   "source": [
    "## Search variant by position\n",
    "Last type of query I can do is to search for a variant by position:"
   ]
  },
  {
   "cell_type": "code",
   "execution_count": 22,
   "id": "c5231824-7baa-40f9-8364-d3476bed9cc2",
   "metadata": {},
   "outputs": [
    {
     "data": {
      "text/plain": [
       "200"
      ]
     },
     "execution_count": 22,
     "metadata": {},
     "output_type": "execute_result"
    }
   ],
   "source": [
    "chrom = '6'\n",
    "position = 82680594\n",
    "\n",
    "response = session.get(f'https://www.ebi.ac.uk/eva/webservices/rest/v1/segments/{chrom}:{position}-{position}/variants?species={chi1[\"taxonomyCode\"]}_{chi1[\"assemblyCode\"]}&limit=10')\n",
    "response.status_code"
   ]
  },
  {
   "cell_type": "code",
   "execution_count": 23,
   "id": "ada758e4-fff4-4e89-9bc0-f77267cc5e93",
   "metadata": {},
   "outputs": [
    {
     "name": "stdout",
     "output_type": "stream",
     "text": [
      "Got 1 results\n"
     ]
    }
   ],
   "source": [
    "data = response.json()\n",
    "print(f\"Got {data['response'][0]['numTotalResults']} results\")\n",
    "results = data['response'][0]['result']\n",
    "result = results[0]"
   ]
  },
  {
   "cell_type": "markdown",
   "id": "5cd79308-0ff7-43cf-a806-56321f0d46b9",
   "metadata": {},
   "source": [
    "Get rid of `sourceEntries`, which are SNPs from projects submitted to EBI"
   ]
  },
  {
   "cell_type": "code",
   "execution_count": 24,
   "id": "6824a8e5-106e-447f-bddc-a0b5c300f389",
   "metadata": {},
   "outputs": [
    {
     "data": {
      "text/plain": [
       "{'chromosome': '6',\n",
       " 'start': 82680594,\n",
       " 'end': 82680594,\n",
       " 'reference': 'C',\n",
       " 'alternate': 'A',\n",
       " 'mainId': 'rs268293069',\n",
       " 'ids': ['rs268293069', 'ss1282532123'],\n",
       " 'hgvs': {'genomic': ['6:g.82680594C>A']},\n",
       " 'length': 1,\n",
       " 'type': 'SNV'}"
      ]
     },
     "execution_count": 24,
     "metadata": {},
     "output_type": "execute_result"
    }
   ],
   "source": [
    "del(result['sourceEntries'])\n",
    "result"
   ]
  },
  {
   "cell_type": "markdown",
   "id": "19c60969-2a20-4b3e-8d69-ac8c71ae43d4",
   "metadata": {},
   "source": [
    "## Get submitted variant information\n",
    "Try to collect data on submitted variant:"
   ]
  },
  {
   "cell_type": "code",
   "execution_count": 25,
   "id": "31d37bd6-4884-4ac9-805d-bdd1b2a6d362",
   "metadata": {},
   "outputs": [
    {
     "data": {
      "text/plain": [
       "200"
      ]
     },
     "execution_count": 25,
     "metadata": {},
     "output_type": "execute_result"
    }
   ],
   "source": [
    "ss_id = 'ss1282532123'\n",
    "response = session.get(f\"https://www.ebi.ac.uk/eva/webservices/identifiers/v1/submitted-variants/{ss_id.replace('ss', '')}\")\n",
    "response.status_code"
   ]
  },
  {
   "cell_type": "code",
   "execution_count": 26,
   "id": "9e130d71-adc5-4653-9750-3ce4cd700e09",
   "metadata": {},
   "outputs": [
    {
     "data": {
      "text/plain": [
       "[{'accession': 1282532123,\n",
       "  'version': 1,\n",
       "  'data': {'referenceSequenceAccession': 'GCA_001704415.1',\n",
       "   'taxonomyAccession': 9925,\n",
       "   'projectAccession': 'PRJEB6057',\n",
       "   'contig': 'CM004567.1',\n",
       "   'start': 85981710,\n",
       "   'referenceAllele': 'C',\n",
       "   'alternateAllele': 'A',\n",
       "   'clusteredVariantAccession': 268293069,\n",
       "   'supportedByEvidence': True,\n",
       "   'assemblyMatch': True,\n",
       "   'allelesMatch': True,\n",
       "   'validated': False,\n",
       "   'mapWeight': None,\n",
       "   'createdDate': '2014-08-15T23:46:00',\n",
       "   'remappedFrom': 'GCA_000317765.1',\n",
       "   'remappedDate': '2021-08-20T03:17:08.407',\n",
       "   'remappingId': '3AE0EC08B25C825C709440295D17F5D3AC4CF5EA',\n",
       "   'backPropagatedVariantAccession': None}},\n",
       " {'accession': 1282532123,\n",
       "  'version': 1,\n",
       "  'data': {'referenceSequenceAccession': 'GCA_000317765.1',\n",
       "   'taxonomyAccession': 9925,\n",
       "   'projectAccession': 'PRJEB6057',\n",
       "   'contig': 'CM001715.1',\n",
       "   'start': 82680594,\n",
       "   'referenceAllele': 'C',\n",
       "   'alternateAllele': 'A',\n",
       "   'clusteredVariantAccession': 268293069,\n",
       "   'supportedByEvidence': True,\n",
       "   'assemblyMatch': True,\n",
       "   'allelesMatch': True,\n",
       "   'validated': True,\n",
       "   'mapWeight': None,\n",
       "   'createdDate': '2014-08-15T23:46:00',\n",
       "   'remappedFrom': None,\n",
       "   'remappedDate': None,\n",
       "   'remappingId': None,\n",
       "   'backPropagatedVariantAccession': None}}]"
      ]
     },
     "execution_count": 26,
     "metadata": {},
     "output_type": "execute_result"
    }
   ],
   "source": [
    "response.json()"
   ]
  },
  {
   "cell_type": "markdown",
   "id": "2787e277-ebea-4ea6-ac48-b34f20a275a1",
   "metadata": {},
   "source": [
    "Now I can get two results: the second is the received `ss_id`, the first is the same SNP mapped on the new *ARS1* genome"
   ]
  },
  {
   "cell_type": "code",
   "execution_count": null,
   "id": "d0cc93ce-83f0-41d3-9050-e4d72b915f63",
   "metadata": {},
   "outputs": [],
   "source": []
  }
 ],
 "metadata": {
  "kernelspec": {
   "display_name": "Python 3",
   "language": "python",
   "name": "python3"
  },
  "language_info": {
   "codemirror_mode": {
    "name": "ipython",
    "version": 3
   },
   "file_extension": ".py",
   "mimetype": "text/x-python",
   "name": "python",
   "nbconvert_exporter": "python",
   "pygments_lexer": "ipython3",
   "version": "3.9.1"
  }
 },
 "nbformat": 4,
 "nbformat_minor": 5
}
