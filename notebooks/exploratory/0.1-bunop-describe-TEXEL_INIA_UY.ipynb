{
 "cells": [
  {
   "cell_type": "markdown",
   "id": "gross-wednesday",
   "metadata": {},
   "source": [
    "# TEXEL_INIA_UY\n",
    "Try to describe `TEXEL_INIA_UY.zip`. Let's start by importing the required packages"
   ]
  },
  {
   "cell_type": "code",
   "execution_count": 1,
   "id": "recreational-poetry",
   "metadata": {},
   "outputs": [],
   "source": [
    "import os\n",
    "import io\n",
    "import itertools\n",
    "\n",
    "from zipfile import ZipFile\n",
    "from pathlib import Path"
   ]
  },
  {
   "cell_type": "markdown",
   "id": "handled-indianapolis",
   "metadata": {},
   "source": [
    "Determine the project absolute path and then the position of ziparchive (that is two levels from `notebooks/exploratory`"
   ]
  },
  {
   "cell_type": "code",
   "execution_count": 2,
   "id": "requested-spread",
   "metadata": {},
   "outputs": [],
   "source": [
    "project_dir = Path(os.getcwd()).resolve().parents[1]\n",
    "datafile = os.path.join(project_dir, \"data\", \"raw\", \"background\", \"TEXEL_INIA_UY.zip\")"
   ]
  },
  {
   "cell_type": "markdown",
   "id": "regulated-novel",
   "metadata": {},
   "source": [
    "List file content"
   ]
  },
  {
   "cell_type": "code",
   "execution_count": 3,
   "id": "harmful-alliance",
   "metadata": {},
   "outputs": [
    {
     "name": "stdout",
     "output_type": "stream",
     "text": [
      "File Name                                             Modified             Size\n",
      "TEXEL_UY.ped                                   2020-12-09 16:41:54     34572330\n",
      "TEXEL_UY.map                                   2020-12-09 16:41:58      1415249\n",
      "Texel_3_169_Final_Report.txt                   2020-12-04 11:53:30    628003405\n",
      "Texel_3_169_SNP_Map.txt                        2020-12-04 11:53:36      2838763\n"
     ]
    }
   ],
   "source": [
    "handle = ZipFile(datafile)\n",
    "handle.printdir()"
   ]
  },
  {
   "cell_type": "markdown",
   "id": "spectacular-greeting",
   "metadata": {},
   "source": [
    "Read the first 10 rows from *Final report* file"
   ]
  },
  {
   "cell_type": "code",
   "execution_count": 4,
   "id": "decreased-router",
   "metadata": {},
   "outputs": [
    {
     "name": "stdout",
     "output_type": "stream",
     "text": [
      "[Header]\n",
      "GSGT Version\t2.0.4\n",
      "Processing Date\t2/8/2019 2:20 PM\n",
      "Content\t\tovinesnp50_b.bpm\n",
      "Num SNPs\t51135\n",
      "Total SNPs\t54241\n",
      "Num Samples\t219\n",
      "Total Samples\t288\n",
      "[Data]\n",
      "SNP Name\tSample ID\tAllele1 - Forward\tAllele2 - Forward\tAllele1 - AB\tAllele2 - AB\tAllele1 - Top\tAllele2 - Top\tGC Score\tX\tY\tB Allele Freq\tLog R Ratio\n",
      "250506CS3900065000002_1238.1\t20181210002\tC\tC\tB\tB\tG\tG\t0.9239\t0.063\t1.020\t0.9825\t-0.0192\n"
     ]
    }
   ],
   "source": [
    "with io.TextIOWrapper(handle.open(\"Texel_3_169_Final_Report.txt\"), encoding=\"utf-8\") as f:\n",
    "    for line in itertools.islice(f, 11):\n",
    "        print(line.strip())"
   ]
  }
 ],
 "metadata": {
  "kernelspec": {
   "display_name": "Python 3",
   "language": "python",
   "name": "python3"
  },
  "language_info": {
   "codemirror_mode": {
    "name": "ipython",
    "version": 3
   },
   "file_extension": ".py",
   "mimetype": "text/x-python",
   "name": "python",
   "nbconvert_exporter": "python",
   "pygments_lexer": "ipython3",
   "version": "3.9.1"
  }
 },
 "nbformat": 4,
 "nbformat_minor": 5
}
