{
 "cells": [
  {
   "cell_type": "markdown",
   "id": "3b88c120-43e1-4da1-92b7-80d62895218d",
   "metadata": {},
   "source": [
    "# SNP50_Breedv2\n",
    "This notebook try to analyze the SNP50_Breedv2 datafile, which is a new release of SheepHapMap data. This is a multicountry/multibreed data file. Try to read informations and to generate a metadata file for genotype import"
   ]
  },
  {
   "cell_type": "code",
   "execution_count": 1,
   "id": "f24264c6-23f9-4bf1-a4b9-900f19ef6643",
   "metadata": {},
   "outputs": [],
   "source": [
    "import re\n",
    "\n",
    "import pandas as pd\n",
    "\n",
    "from src.features.smarterdb import Dataset, global_connection\n",
    "from src.features.plinkio import TextPlinkIO\n",
    "from src.features.utils import get_interim_dir"
   ]
  },
  {
   "cell_type": "code",
   "execution_count": 2,
   "id": "acb19711-cb59-4015-80b7-a6675763106d",
   "metadata": {},
   "outputs": [],
   "source": [
    "conn = global_connection()"
   ]
  },
  {
   "cell_type": "markdown",
   "id": "a1ebad0d-2189-41e4-b4e9-1d625d8593d8",
   "metadata": {},
   "source": [
    "Get the `Dataset` object:"
   ]
  },
  {
   "cell_type": "code",
   "execution_count": 3,
   "id": "ae4c4a20-0afa-45de-bfc6-caab5d4c0aff",
   "metadata": {},
   "outputs": [
    {
     "data": {
      "text/plain": [
       "['ovine_SNP50HapMap_data/',\n",
       " 'ovine_SNP50HapMap_data/Heaton/',\n",
       " 'ovine_SNP50HapMap_data/Heaton/Mike Heaton Sheep 07may2009_DNAReport.csv',\n",
       " 'ovine_SNP50HapMap_data/Heaton/Mike Heaton Sheep 07may2009_FinalReport.txt',\n",
       " 'ovine_SNP50HapMap_data/Heaton/Mike Heaton Sheep 07may2009_LocusSummary.csv',\n",
       " 'ovine_SNP50HapMap_data/Heaton/Mike Heaton Sheep 07may2009_LocusXDNA.csv',\n",
       " 'ovine_SNP50HapMap_data/Heaton/SNP_Map.txt',\n",
       " 'ovine_SNP50HapMap_data/Heaton/Sample_Map.txt',\n",
       " 'ovine_SNP50HapMap_data/OaCoordinates2104.xlsx',\n",
       " 'ovine_SNP50HapMap_data/Parentage_04_may_09.PED',\n",
       " 'ovine_SNP50HapMap_data/SNP50_Breedv1/',\n",
       " 'ovine_SNP50HapMap_data/SNP50_Breedv1/SNP50_Breedv1.map',\n",
       " 'ovine_SNP50HapMap_data/SNP50_Breedv1/SNP50_Breedv1.ped',\n",
       " 'ovine_SNP50HapMap_data/SNP50_Breedv2/',\n",
       " 'ovine_SNP50HapMap_data/SNP50_Breedv2/SNP50_Breedv2.map',\n",
       " 'ovine_SNP50HapMap_data/SNP50_Breedv2/SNP50_Breedv2.ped',\n",
       " 'ovine_SNP50HapMap_data/SNP50_Breedv2/ovine SNP50 Breedv2 data release.pdf',\n",
       " 'ovine_SNP50HapMap_data/ancestral_no_seg_gc08.out',\n",
       " 'ovine_SNP50HapMap_data/kijas2012_dataset.xlsx',\n",
       " 'ovine_SNP50HapMap_data/kijas2012_dataset_fix.xlsx',\n",
       " 'ovine_SNP50HapMap_data/ovine_SNP50HapMap_data.pdf',\n",
       " 'ovine_SNP50HapMap_data/SNP50_Breedv2.xlsx']"
      ]
     },
     "execution_count": 3,
     "metadata": {},
     "output_type": "execute_result"
    }
   ],
   "source": [
    "pattern = re.compile(\"hapmap\", re.IGNORECASE)\n",
    "dataset = Dataset.objects.get(file=pattern, type_=\"genotypes\")\n",
    "dataset.contents"
   ]
  },
  {
   "cell_type": "markdown",
   "id": "e68676be-f465-4e49-ae38-89052252aa37",
   "metadata": {},
   "source": [
    "Get samples from ped files"
   ]
  },
  {
   "cell_type": "code",
   "execution_count": 4,
   "id": "cbff8d03-4607-4699-95e2-7a85a9d3015d",
   "metadata": {},
   "outputs": [],
   "source": [
    "prefix = str(dataset.working_dir / \"ovine_SNP50HapMap_data/SNP50_Breedv2/SNP50_Breedv2\")\n",
    "plink_file = TextPlinkIO(prefix=prefix, chip_name=dataset.chip_name, species=dataset.species)\n",
    "sample_list = plink_file.get_samples()"
   ]
  },
  {
   "cell_type": "markdown",
   "id": "18812e19-5ef0-4cc2-b0d9-7fac7c9f73df",
   "metadata": {},
   "source": [
    "Define a dictionary to define the proper information for each sample:"
   ]
  },
  {
   "cell_type": "code",
   "execution_count": 5,
   "id": "b71b9c1f-b684-41cd-b01e-f53228a95b26",
   "metadata": {},
   "outputs": [],
   "source": [
    "suffix2breed = {\"AAW\": \"Afec Assaf\", \"APA\": \"Arawapa\", \"EBI\": \"Egyptian Barki\", \"ICE\": \"Icelandic\", \"IAW\": \"Improved Awassi\", \"LAW\": \"Local Awassi\", \"SLI\": \"Sri Lankan\"}\n",
    "suffix2fid = {\"AAW\": \"AfecAssaf\", \"APA\": \"Arawapa\", \"EBI\": \"EgyptianBarki\", \"ICE\": \"Icelandic\", \"IAW\": \"ImprovedAwassi\", \"LAW\": \"LocalAwassi\", \"SLI\": \"SriLankan\"}\n",
    "suffix2country = {\"AAW\": \"Israel\", \"APA\": \"New Zealand\", \"EBI\": \"Egypt\", \"ICE\": \"Iceland\", \"IAW\": \"Israel\", \"LAW\": \"Israel\", \"SLI\": \"Sri Lanka\"}\n",
    "suffix2code = {\"AAW\": \"AAW\", \"APA\": \"APA\", \"EBI\": \"EBI\", \"ICE\": \"ICL\", \"IAW\": \"IAW\", \"LAW\": \"LAW\", \"SLI\": \"SLI\"}"
   ]
  },
  {
   "cell_type": "code",
   "execution_count": 6,
   "id": "39474d8e-4833-4fab-a308-dd51711a8092",
   "metadata": {},
   "outputs": [],
   "source": [
    "breeds = []\n",
    "countries = []\n",
    "codes = []\n",
    "fids = []\n",
    "\n",
    "for sample in sample_list:\n",
    "    suffix = sample[:3]\n",
    "    breeds.append(suffix2breed[suffix])\n",
    "    countries.append(suffix2country[suffix])\n",
    "    codes.append(suffix2code[suffix])\n",
    "    fids.append(suffix2fid[suffix])"
   ]
  },
  {
   "cell_type": "markdown",
   "id": "c5494a2c-a33c-4721-8e6a-108ae75ac998",
   "metadata": {},
   "source": [
    "Create a data table:"
   ]
  },
  {
   "cell_type": "code",
   "execution_count": 7,
   "id": "c1aba69d-65e1-4e04-886c-a7e1584aacba",
   "metadata": {},
   "outputs": [
    {
     "data": {
      "text/html": [
       "<div>\n",
       "<style scoped>\n",
       "    .dataframe tbody tr th:only-of-type {\n",
       "        vertical-align: middle;\n",
       "    }\n",
       "\n",
       "    .dataframe tbody tr th {\n",
       "        vertical-align: top;\n",
       "    }\n",
       "\n",
       "    .dataframe thead th {\n",
       "        text-align: right;\n",
       "    }\n",
       "</style>\n",
       "<table border=\"1\" class=\"dataframe\">\n",
       "  <thead>\n",
       "    <tr style=\"text-align: right;\">\n",
       "      <th></th>\n",
       "      <th>original_id</th>\n",
       "      <th>breed</th>\n",
       "      <th>country</th>\n",
       "      <th>code</th>\n",
       "      <th>fid</th>\n",
       "    </tr>\n",
       "  </thead>\n",
       "  <tbody>\n",
       "    <tr>\n",
       "      <th>0</th>\n",
       "      <td>IAW101</td>\n",
       "      <td>Improved Awassi</td>\n",
       "      <td>Israel</td>\n",
       "      <td>IAW</td>\n",
       "      <td>ImprovedAwassi</td>\n",
       "    </tr>\n",
       "    <tr>\n",
       "      <th>1</th>\n",
       "      <td>IAW102</td>\n",
       "      <td>Improved Awassi</td>\n",
       "      <td>Israel</td>\n",
       "      <td>IAW</td>\n",
       "      <td>ImprovedAwassi</td>\n",
       "    </tr>\n",
       "    <tr>\n",
       "      <th>2</th>\n",
       "      <td>IAW103</td>\n",
       "      <td>Improved Awassi</td>\n",
       "      <td>Israel</td>\n",
       "      <td>IAW</td>\n",
       "      <td>ImprovedAwassi</td>\n",
       "    </tr>\n",
       "    <tr>\n",
       "      <th>3</th>\n",
       "      <td>IAW104</td>\n",
       "      <td>Improved Awassi</td>\n",
       "      <td>Israel</td>\n",
       "      <td>IAW</td>\n",
       "      <td>ImprovedAwassi</td>\n",
       "    </tr>\n",
       "    <tr>\n",
       "      <th>4</th>\n",
       "      <td>IAW106</td>\n",
       "      <td>Improved Awassi</td>\n",
       "      <td>Israel</td>\n",
       "      <td>IAW</td>\n",
       "      <td>ImprovedAwassi</td>\n",
       "    </tr>\n",
       "  </tbody>\n",
       "</table>\n",
       "</div>"
      ],
      "text/plain": [
       "  original_id            breed country code             fid\n",
       "0      IAW101  Improved Awassi  Israel  IAW  ImprovedAwassi\n",
       "1      IAW102  Improved Awassi  Israel  IAW  ImprovedAwassi\n",
       "2      IAW103  Improved Awassi  Israel  IAW  ImprovedAwassi\n",
       "3      IAW104  Improved Awassi  Israel  IAW  ImprovedAwassi\n",
       "4      IAW106  Improved Awassi  Israel  IAW  ImprovedAwassi"
      ]
     },
     "execution_count": 7,
     "metadata": {},
     "output_type": "execute_result"
    }
   ],
   "source": [
    "SNP50_Breedv2 = pd.DataFrame.from_dict({\"original_id\": sample_list, \"breed\": breeds, \"country\": countries, \"code\": codes, \"fid\": fids})\n",
    "SNP50_Breedv2.head()"
   ]
  },
  {
   "cell_type": "markdown",
   "id": "d9a084cf-751d-4e52-883e-8a6c477e7ded",
   "metadata": {},
   "source": [
    "Write metadata to file:"
   ]
  },
  {
   "cell_type": "code",
   "execution_count": 8,
   "id": "c45be62b-6063-4ba8-b992-98da9aeacc6a",
   "metadata": {},
   "outputs": [],
   "source": [
    "SNP50_Breedv2.to_excel(str(get_interim_dir() / \"SNP50_Breedv2.xlsx\"))"
   ]
  }
 ],
 "metadata": {
  "kernelspec": {
   "display_name": "Python 3",
   "language": "python",
   "name": "python3"
  },
  "language_info": {
   "codemirror_mode": {
    "name": "ipython",
    "version": 3
   },
   "file_extension": ".py",
   "mimetype": "text/x-python",
   "name": "python",
   "nbconvert_exporter": "python",
   "pygments_lexer": "ipython3",
   "version": "3.9.1"
  }
 },
 "nbformat": 4,
 "nbformat_minor": 5
}
